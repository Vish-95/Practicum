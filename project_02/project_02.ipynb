{
 "cells": [
  {
   "cell_type": "markdown",
   "metadata": {},
   "source": [
    "# Исследование надёжности заёмщиков\n",
    "\n",
    "Заказчик — кредитный отдел банка. Нужно разобраться, влияет ли семейное положение и количество детей клиента на факт погашения кредита в срок. Входные данные от банка — статистика о платёжеспособности клиентов.\n",
    "\n",
    "Результаты исследования будут учтены при построении модели **кредитного скоринга** — специальной системы, которая оценивает способность потенциального заёмщика вернуть кредит банку."
   ]
  },
  {
   "cell_type": "markdown",
   "metadata": {},
   "source": [
    "## Шаг 1. Откройте файл с данными и изучите общую информацию"
   ]
  },
  {
   "cell_type": "code",
   "execution_count": 2,
   "metadata": {},
   "outputs": [],
   "source": [
    "import pandas as pd\n",
    "from pymystem3 import Mystem\n",
    "from collections import Counter"
   ]
  },
  {
   "cell_type": "code",
   "execution_count": 3,
   "metadata": {
    "scrolled": true
   },
   "outputs": [
    {
     "data": {
      "text/html": [
       "<div>\n",
       "<style scoped>\n",
       "    .dataframe tbody tr th:only-of-type {\n",
       "        vertical-align: middle;\n",
       "    }\n",
       "\n",
       "    .dataframe tbody tr th {\n",
       "        vertical-align: top;\n",
       "    }\n",
       "\n",
       "    .dataframe thead th {\n",
       "        text-align: right;\n",
       "    }\n",
       "</style>\n",
       "<table border=\"1\" class=\"dataframe\">\n",
       "  <thead>\n",
       "    <tr style=\"text-align: right;\">\n",
       "      <th></th>\n",
       "      <th>children</th>\n",
       "      <th>days_employed</th>\n",
       "      <th>dob_years</th>\n",
       "      <th>education</th>\n",
       "      <th>education_id</th>\n",
       "      <th>family_status</th>\n",
       "      <th>family_status_id</th>\n",
       "      <th>gender</th>\n",
       "      <th>income_type</th>\n",
       "      <th>debt</th>\n",
       "      <th>total_income</th>\n",
       "      <th>purpose</th>\n",
       "    </tr>\n",
       "  </thead>\n",
       "  <tbody>\n",
       "    <tr>\n",
       "      <th>0</th>\n",
       "      <td>1</td>\n",
       "      <td>-8437.673028</td>\n",
       "      <td>42</td>\n",
       "      <td>высшее</td>\n",
       "      <td>0</td>\n",
       "      <td>женат / замужем</td>\n",
       "      <td>0</td>\n",
       "      <td>F</td>\n",
       "      <td>сотрудник</td>\n",
       "      <td>0</td>\n",
       "      <td>253875.639453</td>\n",
       "      <td>покупка жилья</td>\n",
       "    </tr>\n",
       "    <tr>\n",
       "      <th>1</th>\n",
       "      <td>1</td>\n",
       "      <td>-4024.803754</td>\n",
       "      <td>36</td>\n",
       "      <td>среднее</td>\n",
       "      <td>1</td>\n",
       "      <td>женат / замужем</td>\n",
       "      <td>0</td>\n",
       "      <td>F</td>\n",
       "      <td>сотрудник</td>\n",
       "      <td>0</td>\n",
       "      <td>112080.014102</td>\n",
       "      <td>приобретение автомобиля</td>\n",
       "    </tr>\n",
       "    <tr>\n",
       "      <th>2</th>\n",
       "      <td>0</td>\n",
       "      <td>-5623.422610</td>\n",
       "      <td>33</td>\n",
       "      <td>Среднее</td>\n",
       "      <td>1</td>\n",
       "      <td>женат / замужем</td>\n",
       "      <td>0</td>\n",
       "      <td>M</td>\n",
       "      <td>сотрудник</td>\n",
       "      <td>0</td>\n",
       "      <td>145885.952297</td>\n",
       "      <td>покупка жилья</td>\n",
       "    </tr>\n",
       "    <tr>\n",
       "      <th>3</th>\n",
       "      <td>3</td>\n",
       "      <td>-4124.747207</td>\n",
       "      <td>32</td>\n",
       "      <td>среднее</td>\n",
       "      <td>1</td>\n",
       "      <td>женат / замужем</td>\n",
       "      <td>0</td>\n",
       "      <td>M</td>\n",
       "      <td>сотрудник</td>\n",
       "      <td>0</td>\n",
       "      <td>267628.550329</td>\n",
       "      <td>дополнительное образование</td>\n",
       "    </tr>\n",
       "    <tr>\n",
       "      <th>4</th>\n",
       "      <td>0</td>\n",
       "      <td>340266.072047</td>\n",
       "      <td>53</td>\n",
       "      <td>среднее</td>\n",
       "      <td>1</td>\n",
       "      <td>гражданский брак</td>\n",
       "      <td>1</td>\n",
       "      <td>F</td>\n",
       "      <td>пенсионер</td>\n",
       "      <td>0</td>\n",
       "      <td>158616.077870</td>\n",
       "      <td>сыграть свадьбу</td>\n",
       "    </tr>\n",
       "    <tr>\n",
       "      <th>5</th>\n",
       "      <td>0</td>\n",
       "      <td>-926.185831</td>\n",
       "      <td>27</td>\n",
       "      <td>высшее</td>\n",
       "      <td>0</td>\n",
       "      <td>гражданский брак</td>\n",
       "      <td>1</td>\n",
       "      <td>M</td>\n",
       "      <td>компаньон</td>\n",
       "      <td>0</td>\n",
       "      <td>255763.565419</td>\n",
       "      <td>покупка жилья</td>\n",
       "    </tr>\n",
       "    <tr>\n",
       "      <th>6</th>\n",
       "      <td>0</td>\n",
       "      <td>-2879.202052</td>\n",
       "      <td>43</td>\n",
       "      <td>высшее</td>\n",
       "      <td>0</td>\n",
       "      <td>женат / замужем</td>\n",
       "      <td>0</td>\n",
       "      <td>F</td>\n",
       "      <td>компаньон</td>\n",
       "      <td>0</td>\n",
       "      <td>240525.971920</td>\n",
       "      <td>операции с жильем</td>\n",
       "    </tr>\n",
       "    <tr>\n",
       "      <th>7</th>\n",
       "      <td>0</td>\n",
       "      <td>-152.779569</td>\n",
       "      <td>50</td>\n",
       "      <td>СРЕДНЕЕ</td>\n",
       "      <td>1</td>\n",
       "      <td>женат / замужем</td>\n",
       "      <td>0</td>\n",
       "      <td>M</td>\n",
       "      <td>сотрудник</td>\n",
       "      <td>0</td>\n",
       "      <td>135823.934197</td>\n",
       "      <td>образование</td>\n",
       "    </tr>\n",
       "    <tr>\n",
       "      <th>8</th>\n",
       "      <td>2</td>\n",
       "      <td>-6929.865299</td>\n",
       "      <td>35</td>\n",
       "      <td>ВЫСШЕЕ</td>\n",
       "      <td>0</td>\n",
       "      <td>гражданский брак</td>\n",
       "      <td>1</td>\n",
       "      <td>F</td>\n",
       "      <td>сотрудник</td>\n",
       "      <td>0</td>\n",
       "      <td>95856.832424</td>\n",
       "      <td>на проведение свадьбы</td>\n",
       "    </tr>\n",
       "    <tr>\n",
       "      <th>9</th>\n",
       "      <td>0</td>\n",
       "      <td>-2188.756445</td>\n",
       "      <td>41</td>\n",
       "      <td>среднее</td>\n",
       "      <td>1</td>\n",
       "      <td>женат / замужем</td>\n",
       "      <td>0</td>\n",
       "      <td>M</td>\n",
       "      <td>сотрудник</td>\n",
       "      <td>0</td>\n",
       "      <td>144425.938277</td>\n",
       "      <td>покупка жилья для семьи</td>\n",
       "    </tr>\n",
       "  </tbody>\n",
       "</table>\n",
       "</div>"
      ],
      "text/plain": [
       "   children  days_employed  dob_years education  education_id  \\\n",
       "0         1   -8437.673028         42    высшее             0   \n",
       "1         1   -4024.803754         36   среднее             1   \n",
       "2         0   -5623.422610         33   Среднее             1   \n",
       "3         3   -4124.747207         32   среднее             1   \n",
       "4         0  340266.072047         53   среднее             1   \n",
       "5         0    -926.185831         27    высшее             0   \n",
       "6         0   -2879.202052         43    высшее             0   \n",
       "7         0    -152.779569         50   СРЕДНЕЕ             1   \n",
       "8         2   -6929.865299         35    ВЫСШЕЕ             0   \n",
       "9         0   -2188.756445         41   среднее             1   \n",
       "\n",
       "      family_status  family_status_id gender income_type  debt   total_income  \\\n",
       "0   женат / замужем                 0      F   сотрудник     0  253875.639453   \n",
       "1   женат / замужем                 0      F   сотрудник     0  112080.014102   \n",
       "2   женат / замужем                 0      M   сотрудник     0  145885.952297   \n",
       "3   женат / замужем                 0      M   сотрудник     0  267628.550329   \n",
       "4  гражданский брак                 1      F   пенсионер     0  158616.077870   \n",
       "5  гражданский брак                 1      M   компаньон     0  255763.565419   \n",
       "6   женат / замужем                 0      F   компаньон     0  240525.971920   \n",
       "7   женат / замужем                 0      M   сотрудник     0  135823.934197   \n",
       "8  гражданский брак                 1      F   сотрудник     0   95856.832424   \n",
       "9   женат / замужем                 0      M   сотрудник     0  144425.938277   \n",
       "\n",
       "                      purpose  \n",
       "0               покупка жилья  \n",
       "1     приобретение автомобиля  \n",
       "2               покупка жилья  \n",
       "3  дополнительное образование  \n",
       "4             сыграть свадьбу  \n",
       "5               покупка жилья  \n",
       "6           операции с жильем  \n",
       "7                 образование  \n",
       "8       на проведение свадьбы  \n",
       "9     покупка жилья для семьи  "
      ]
     },
     "metadata": {},
     "output_type": "display_data"
    },
    {
     "name": "stdout",
     "output_type": "stream",
     "text": [
      "<class 'pandas.core.frame.DataFrame'>\n",
      "RangeIndex: 21525 entries, 0 to 21524\n",
      "Data columns (total 12 columns):\n",
      " #   Column            Non-Null Count  Dtype  \n",
      "---  ------            --------------  -----  \n",
      " 0   children          21525 non-null  int64  \n",
      " 1   days_employed     19351 non-null  float64\n",
      " 2   dob_years         21525 non-null  int64  \n",
      " 3   education         21525 non-null  object \n",
      " 4   education_id      21525 non-null  int64  \n",
      " 5   family_status     21525 non-null  object \n",
      " 6   family_status_id  21525 non-null  int64  \n",
      " 7   gender            21525 non-null  object \n",
      " 8   income_type       21525 non-null  object \n",
      " 9   debt              21525 non-null  int64  \n",
      " 10  total_income      19351 non-null  float64\n",
      " 11  purpose           21525 non-null  object \n",
      "dtypes: float64(2), int64(5), object(5)\n",
      "memory usage: 2.0+ MB\n"
     ]
    }
   ],
   "source": [
    "data = pd.read_csv('data.csv')\n",
    "display(data.head(10))\n",
    "data.info()"
   ]
  },
  {
   "cell_type": "markdown",
   "metadata": {},
   "source": [
    "В таблице 12 столбцов. Два столбца типа float, пять типа int и пять типа object.\n",
    "\n",
    "Согласно документации к данным:\n",
    "* `children` — количество детей в семье\n",
    "* `days_employed` — общий трудовой стаж в днях\n",
    "* `dob_years` — возраст клиента в годах\n",
    "* `education` — уровень образования клиента\n",
    "* `education_id` — идентификатор уровня образования\n",
    "* `family_status` — семейное положение\n",
    "* `family_status_id` — идентификатор семейного положения\n",
    "* `gender` — пол клиента\n",
    "* `income_type` — тип занятости\n",
    "* `debt` — имел ли задолженность по возврату кредитов\n",
    "* `total_income` — ежемесячный доход\n",
    "* `purpose` — цель получения кредита\n",
    "\n",
    "Количество значений в столбцах различается, значит в данных есть пропущенные значения."
   ]
  },
  {
   "cell_type": "markdown",
   "metadata": {},
   "source": [
    "**Выводы**\n",
    "\n",
    "В каждой строке таблицы — данные о клиенте. Часть колонок описывает самого клиента: количество детей, семейное положение, возраст, уровень образования, пол. Остальные данные относятся к платёжеспобности клиента: имелось ли задолжность по возврату кредитов, ежемесячный доход клиента. Последний столбец содержит цель получения кредита.\n",
    "\n",
    "Предварительно можно утверждать, что для исследования данных достаточно. Но в данных встречаются пропуски, а также дубликаты."
   ]
  },
  {
   "cell_type": "markdown",
   "metadata": {},
   "source": [
    "## Шаг 2. Предобработка данных"
   ]
  },
  {
   "cell_type": "markdown",
   "metadata": {},
   "source": [
    "### Обработка пропусков"
   ]
  },
  {
   "cell_type": "markdown",
   "metadata": {},
   "source": [
    "Посчитаем сколько в таблице пропущенных значений:"
   ]
  },
  {
   "cell_type": "code",
   "execution_count": 4,
   "metadata": {},
   "outputs": [
    {
     "data": {
      "text/plain": [
       "children               0\n",
       "days_employed       2174\n",
       "dob_years              0\n",
       "education              0\n",
       "education_id           0\n",
       "family_status          0\n",
       "family_status_id       0\n",
       "gender                 0\n",
       "income_type            0\n",
       "debt                   0\n",
       "total_income        2174\n",
       "purpose                0\n",
       "dtype: int64"
      ]
     },
     "execution_count": 4,
     "metadata": {},
     "output_type": "execute_result"
    }
   ],
   "source": [
    "data.isna().sum()"
   ]
  },
  {
   "cell_type": "markdown",
   "metadata": {},
   "source": [
    "Итак, пропущенные значения содержат столбцы `days_employed` и `total_income`.\n",
    "\n",
    "Методом isna() найдём все строки с пропусками в столбце `days_employed` и просмотрим первые десять."
   ]
  },
  {
   "cell_type": "code",
   "execution_count": 5,
   "metadata": {
    "scrolled": true
   },
   "outputs": [
    {
     "data": {
      "text/html": [
       "<div>\n",
       "<style scoped>\n",
       "    .dataframe tbody tr th:only-of-type {\n",
       "        vertical-align: middle;\n",
       "    }\n",
       "\n",
       "    .dataframe tbody tr th {\n",
       "        vertical-align: top;\n",
       "    }\n",
       "\n",
       "    .dataframe thead th {\n",
       "        text-align: right;\n",
       "    }\n",
       "</style>\n",
       "<table border=\"1\" class=\"dataframe\">\n",
       "  <thead>\n",
       "    <tr style=\"text-align: right;\">\n",
       "      <th></th>\n",
       "      <th>children</th>\n",
       "      <th>days_employed</th>\n",
       "      <th>dob_years</th>\n",
       "      <th>education</th>\n",
       "      <th>education_id</th>\n",
       "      <th>family_status</th>\n",
       "      <th>family_status_id</th>\n",
       "      <th>gender</th>\n",
       "      <th>income_type</th>\n",
       "      <th>debt</th>\n",
       "      <th>total_income</th>\n",
       "      <th>purpose</th>\n",
       "    </tr>\n",
       "  </thead>\n",
       "  <tbody>\n",
       "    <tr>\n",
       "      <th>12</th>\n",
       "      <td>0</td>\n",
       "      <td>NaN</td>\n",
       "      <td>65</td>\n",
       "      <td>среднее</td>\n",
       "      <td>1</td>\n",
       "      <td>гражданский брак</td>\n",
       "      <td>1</td>\n",
       "      <td>M</td>\n",
       "      <td>пенсионер</td>\n",
       "      <td>0</td>\n",
       "      <td>NaN</td>\n",
       "      <td>сыграть свадьбу</td>\n",
       "    </tr>\n",
       "    <tr>\n",
       "      <th>26</th>\n",
       "      <td>0</td>\n",
       "      <td>NaN</td>\n",
       "      <td>41</td>\n",
       "      <td>среднее</td>\n",
       "      <td>1</td>\n",
       "      <td>женат / замужем</td>\n",
       "      <td>0</td>\n",
       "      <td>M</td>\n",
       "      <td>госслужащий</td>\n",
       "      <td>0</td>\n",
       "      <td>NaN</td>\n",
       "      <td>образование</td>\n",
       "    </tr>\n",
       "    <tr>\n",
       "      <th>29</th>\n",
       "      <td>0</td>\n",
       "      <td>NaN</td>\n",
       "      <td>63</td>\n",
       "      <td>среднее</td>\n",
       "      <td>1</td>\n",
       "      <td>Не женат / не замужем</td>\n",
       "      <td>4</td>\n",
       "      <td>F</td>\n",
       "      <td>пенсионер</td>\n",
       "      <td>0</td>\n",
       "      <td>NaN</td>\n",
       "      <td>строительство жилой недвижимости</td>\n",
       "    </tr>\n",
       "    <tr>\n",
       "      <th>41</th>\n",
       "      <td>0</td>\n",
       "      <td>NaN</td>\n",
       "      <td>50</td>\n",
       "      <td>среднее</td>\n",
       "      <td>1</td>\n",
       "      <td>женат / замужем</td>\n",
       "      <td>0</td>\n",
       "      <td>F</td>\n",
       "      <td>госслужащий</td>\n",
       "      <td>0</td>\n",
       "      <td>NaN</td>\n",
       "      <td>сделка с подержанным автомобилем</td>\n",
       "    </tr>\n",
       "    <tr>\n",
       "      <th>55</th>\n",
       "      <td>0</td>\n",
       "      <td>NaN</td>\n",
       "      <td>54</td>\n",
       "      <td>среднее</td>\n",
       "      <td>1</td>\n",
       "      <td>гражданский брак</td>\n",
       "      <td>1</td>\n",
       "      <td>F</td>\n",
       "      <td>пенсионер</td>\n",
       "      <td>1</td>\n",
       "      <td>NaN</td>\n",
       "      <td>сыграть свадьбу</td>\n",
       "    </tr>\n",
       "    <tr>\n",
       "      <th>65</th>\n",
       "      <td>0</td>\n",
       "      <td>NaN</td>\n",
       "      <td>21</td>\n",
       "      <td>среднее</td>\n",
       "      <td>1</td>\n",
       "      <td>Не женат / не замужем</td>\n",
       "      <td>4</td>\n",
       "      <td>M</td>\n",
       "      <td>компаньон</td>\n",
       "      <td>0</td>\n",
       "      <td>NaN</td>\n",
       "      <td>операции с коммерческой недвижимостью</td>\n",
       "    </tr>\n",
       "    <tr>\n",
       "      <th>67</th>\n",
       "      <td>0</td>\n",
       "      <td>NaN</td>\n",
       "      <td>52</td>\n",
       "      <td>высшее</td>\n",
       "      <td>0</td>\n",
       "      <td>женат / замужем</td>\n",
       "      <td>0</td>\n",
       "      <td>F</td>\n",
       "      <td>пенсионер</td>\n",
       "      <td>0</td>\n",
       "      <td>NaN</td>\n",
       "      <td>покупка жилья для семьи</td>\n",
       "    </tr>\n",
       "    <tr>\n",
       "      <th>72</th>\n",
       "      <td>1</td>\n",
       "      <td>NaN</td>\n",
       "      <td>32</td>\n",
       "      <td>высшее</td>\n",
       "      <td>0</td>\n",
       "      <td>женат / замужем</td>\n",
       "      <td>0</td>\n",
       "      <td>M</td>\n",
       "      <td>госслужащий</td>\n",
       "      <td>0</td>\n",
       "      <td>NaN</td>\n",
       "      <td>операции с коммерческой недвижимостью</td>\n",
       "    </tr>\n",
       "    <tr>\n",
       "      <th>82</th>\n",
       "      <td>2</td>\n",
       "      <td>NaN</td>\n",
       "      <td>50</td>\n",
       "      <td>высшее</td>\n",
       "      <td>0</td>\n",
       "      <td>женат / замужем</td>\n",
       "      <td>0</td>\n",
       "      <td>F</td>\n",
       "      <td>сотрудник</td>\n",
       "      <td>0</td>\n",
       "      <td>NaN</td>\n",
       "      <td>жилье</td>\n",
       "    </tr>\n",
       "    <tr>\n",
       "      <th>83</th>\n",
       "      <td>0</td>\n",
       "      <td>NaN</td>\n",
       "      <td>52</td>\n",
       "      <td>среднее</td>\n",
       "      <td>1</td>\n",
       "      <td>женат / замужем</td>\n",
       "      <td>0</td>\n",
       "      <td>M</td>\n",
       "      <td>сотрудник</td>\n",
       "      <td>0</td>\n",
       "      <td>NaN</td>\n",
       "      <td>жилье</td>\n",
       "    </tr>\n",
       "  </tbody>\n",
       "</table>\n",
       "</div>"
      ],
      "text/plain": [
       "    children  days_employed  dob_years education  education_id  \\\n",
       "12         0            NaN         65   среднее             1   \n",
       "26         0            NaN         41   среднее             1   \n",
       "29         0            NaN         63   среднее             1   \n",
       "41         0            NaN         50   среднее             1   \n",
       "55         0            NaN         54   среднее             1   \n",
       "65         0            NaN         21   среднее             1   \n",
       "67         0            NaN         52    высшее             0   \n",
       "72         1            NaN         32    высшее             0   \n",
       "82         2            NaN         50    высшее             0   \n",
       "83         0            NaN         52   среднее             1   \n",
       "\n",
       "            family_status  family_status_id gender  income_type  debt  \\\n",
       "12       гражданский брак                 1      M    пенсионер     0   \n",
       "26        женат / замужем                 0      M  госслужащий     0   \n",
       "29  Не женат / не замужем                 4      F    пенсионер     0   \n",
       "41        женат / замужем                 0      F  госслужащий     0   \n",
       "55       гражданский брак                 1      F    пенсионер     1   \n",
       "65  Не женат / не замужем                 4      M    компаньон     0   \n",
       "67        женат / замужем                 0      F    пенсионер     0   \n",
       "72        женат / замужем                 0      M  госслужащий     0   \n",
       "82        женат / замужем                 0      F    сотрудник     0   \n",
       "83        женат / замужем                 0      M    сотрудник     0   \n",
       "\n",
       "    total_income                                purpose  \n",
       "12           NaN                        сыграть свадьбу  \n",
       "26           NaN                            образование  \n",
       "29           NaN       строительство жилой недвижимости  \n",
       "41           NaN       сделка с подержанным автомобилем  \n",
       "55           NaN                        сыграть свадьбу  \n",
       "65           NaN  операции с коммерческой недвижимостью  \n",
       "67           NaN                покупка жилья для семьи  \n",
       "72           NaN  операции с коммерческой недвижимостью  \n",
       "82           NaN                                  жилье  \n",
       "83           NaN                                  жилье  "
      ]
     },
     "execution_count": 5,
     "metadata": {},
     "output_type": "execute_result"
    }
   ],
   "source": [
    "data_out = data[data['days_employed'].isna()]\n",
    "data_out.head(10)"
   ]
  },
  {
   "cell_type": "markdown",
   "metadata": {},
   "source": [
    "Похоже, что пропуски в `days_employed` и в `total_income` содержатся в одних и тех же строках. Пропуски в этих столбцах имеют значение `NaN`. \n",
    "\n",
    "Предположительно пропущенные значения в столбце `days_employed` имеют полностью случайный характер, тогда вероятно наличие пропущенных значений в `total_income` зависит от пропущенных значений в `days_employed`.\n",
    "\n",
    "Столбец `days_employed` –  общий трудовой стаж в днях не влияет на исследование, так что пропуски в нем пока можно оставить без изменений, а вот `total_income` - ежемесячный доход, важная характеристика, является количественной переменной. Пропуски в количественных переменных можно заполнить характерными значениями.\n",
    "\n",
    "Всех клиентов можно разделить по типу занятости на следующие категории:"
   ]
  },
  {
   "cell_type": "code",
   "execution_count": 6,
   "metadata": {},
   "outputs": [
    {
     "data": {
      "text/plain": [
       "array(['пенсионер', 'госслужащий', 'компаньон', 'сотрудник',\n",
       "       'предприниматель'], dtype=object)"
      ]
     },
     "execution_count": 6,
     "metadata": {},
     "output_type": "execute_result"
    }
   ],
   "source": [
    "# тип занятости клиентов с пропущенными знчениями в столбце total_income\n",
    "data_out['income_type'].unique()"
   ]
  },
  {
   "cell_type": "code",
   "execution_count": 7,
   "metadata": {},
   "outputs": [],
   "source": [
    "# посчитаем медиану значений \"total_income\" для каждой катеогрии занятости:\n",
    "pensioner_med = data[data['income_type'] == 'пенсионер']['total_income'].median()\n",
    "civil_servant_med = data[data['income_type'] == 'госслужащий']['total_income'].median()\n",
    "companion_med = data[data['income_type'] == 'компаньон']['total_income'].median()\n",
    "employee_med = data[data['income_type'] == 'сотрудник']['total_income'].median()\n",
    "businessman_med =  data[data['income_type'] == 'предприниматель']['total_income'].median()\n",
    "\n",
    "# Заполним пропуски \n",
    "data.loc[(data['income_type'] == 'пенсионер') & (data['total_income'].isna()), 'total_income'] = pensioner_med \n",
    "data.loc[(data['income_type'] == 'госслужащий') & (data['total_income'].isna()), 'total_income'] = civil_servant_med\n",
    "data.loc[(data['income_type'] == 'компаньон') & (data['total_income'].isna()), 'total_income'] = companion_med\n",
    "data.loc[(data['income_type'] == 'сотрудник') & (data['total_income'].isna()), 'total_income'] = employee_med   \n",
    "data.loc[(data['income_type'] == 'предприниматель') & (data['total_income'].isna()),'total_income'] = businessman_med "
   ]
  },
  {
   "cell_type": "markdown",
   "metadata": {},
   "source": [
    "**Вывод**"
   ]
  },
  {
   "cell_type": "markdown",
   "metadata": {},
   "source": [
    "В исходной таблице в столбцах `days_employed` и `total_income` мы обнаружили пропуски типа `NaN`. На данном этапе столбец `days_employed` оставили без изменений. Пропущенные значения в столбце `total_income` заполнили соответвующей медианой значений, предварительно посчитав ее для каждой категории занятости клиентов: 'пенсионер', 'госслужащий', 'компаньон', 'сотрудник', 'предприниматель'."
   ]
  },
  {
   "cell_type": "markdown",
   "metadata": {},
   "source": [
    "### Замена типа данных"
   ]
  },
  {
   "cell_type": "markdown",
   "metadata": {},
   "source": [
    "Перед тем как сделать замену типа данных в столбце `'days_employed'`, заполним все пропущенные значения нулем:"
   ]
  },
  {
   "cell_type": "code",
   "execution_count": 8,
   "metadata": {},
   "outputs": [],
   "source": [
    "data['days_employed'] = data['days_employed'].fillna(0)"
   ]
  },
  {
   "cell_type": "markdown",
   "metadata": {},
   "source": [
    "Для замены типа данных воспользуемся методом `astype()` так как нам необходимо привести значения к целочисленному типу `('int')`:"
   ]
  },
  {
   "cell_type": "code",
   "execution_count": 9,
   "metadata": {},
   "outputs": [],
   "source": [
    "data = data.astype({'days_employed': 'int', 'total_income': 'int'})"
   ]
  },
  {
   "cell_type": "code",
   "execution_count": 10,
   "metadata": {},
   "outputs": [],
   "source": [
    "# data['days_employed'] = data['days_employed'].astype('int')\n",
    "# data['total_income'] = data['total_income'].astype('int')"
   ]
  },
  {
   "cell_type": "markdown",
   "metadata": {},
   "source": [
    "Выведем обновленную информацию о таблице:"
   ]
  },
  {
   "cell_type": "markdown",
   "metadata": {},
   "source": [
    "<div class=\"alert alert-success\">\n",
    "<b>Комментарий ревьюера:</b>\n",
    "\n",
    "В том числе метод `fillna` и `astype` можно применять к нескольким столбцам одновременно.\n",
    "    \n",
    "Если столбцов более 2–ух, то рекомендую применять цикл `for`.\n",
    "    \n",
    "Пример: \n",
    "    \n",
    "`df.astype({ \"col1\": \"float64\", \"col2\": \"int64\"})`\n",
    "    \n",
    "</div>"
   ]
  },
  {
   "cell_type": "code",
   "execution_count": 11,
   "metadata": {},
   "outputs": [
    {
     "name": "stdout",
     "output_type": "stream",
     "text": [
      "<class 'pandas.core.frame.DataFrame'>\n",
      "RangeIndex: 21525 entries, 0 to 21524\n",
      "Data columns (total 12 columns):\n",
      " #   Column            Non-Null Count  Dtype \n",
      "---  ------            --------------  ----- \n",
      " 0   children          21525 non-null  int64 \n",
      " 1   days_employed     21525 non-null  int64 \n",
      " 2   dob_years         21525 non-null  int64 \n",
      " 3   education         21525 non-null  object\n",
      " 4   education_id      21525 non-null  int64 \n",
      " 5   family_status     21525 non-null  object\n",
      " 6   family_status_id  21525 non-null  int64 \n",
      " 7   gender            21525 non-null  object\n",
      " 8   income_type       21525 non-null  object\n",
      " 9   debt              21525 non-null  int64 \n",
      " 10  total_income      21525 non-null  int64 \n",
      " 11  purpose           21525 non-null  object\n",
      "dtypes: int64(7), object(5)\n",
      "memory usage: 2.0+ MB\n"
     ]
    }
   ],
   "source": [
    "data.info()"
   ]
  },
  {
   "cell_type": "markdown",
   "metadata": {},
   "source": [
    "**Вывод**"
   ]
  },
  {
   "cell_type": "markdown",
   "metadata": {},
   "source": [
    "Мы заменили тип данных float в столбцах `'days_employed'` и `'total_income'` на тип `int`. Теперь в таблице: семь значений типа `int` и пять значений типа `object`."
   ]
  },
  {
   "cell_type": "markdown",
   "metadata": {},
   "source": [
    "### Обработка дубликатов"
   ]
  },
  {
   "cell_type": "code",
   "execution_count": 12,
   "metadata": {
    "scrolled": true
   },
   "outputs": [
    {
     "name": "stdout",
     "output_type": "stream",
     "text": [
      "54\n"
     ]
    }
   ],
   "source": [
    "# найдем явные дубликаты с помощью метода duplicated() и подсчитаем их количество\n",
    "print(data.duplicated().sum())"
   ]
  },
  {
   "cell_type": "code",
   "execution_count": 13,
   "metadata": {},
   "outputs": [],
   "source": [
    "# с помощью метода drop_duplicates() удалим из датафрейма явные дубликаты и обновим индексы\n",
    "data = data.drop_duplicates().reset_index(drop=True)"
   ]
  },
  {
   "cell_type": "markdown",
   "metadata": {},
   "source": [
    "При первом обзоре данных в столбце `education` были видны строки с одинаковыми значениями, но в разных регистрах. Посмотрим список уникальных значений в столбце `education`:"
   ]
  },
  {
   "cell_type": "code",
   "execution_count": 14,
   "metadata": {
    "scrolled": false
   },
   "outputs": [
    {
     "data": {
      "text/plain": [
       "array(['высшее', 'среднее', 'Среднее', 'СРЕДНЕЕ', 'ВЫСШЕЕ',\n",
       "       'неоконченное высшее', 'начальное', 'Высшее',\n",
       "       'НЕОКОНЧЕННОЕ ВЫСШЕЕ', 'Неоконченное высшее', 'НАЧАЛЬНОЕ',\n",
       "       'Начальное', 'Ученая степень', 'УЧЕНАЯ СТЕПЕНЬ', 'ученая степень'],\n",
       "      dtype=object)"
      ]
     },
     "execution_count": 14,
     "metadata": {},
     "output_type": "execute_result"
    }
   ],
   "source": [
    "data['education'].unique()"
   ]
  },
  {
   "cell_type": "markdown",
   "metadata": {},
   "source": [
    "Действительно, строки в столбце `education` различаются регистром, это могут быть неявные дубликаты. Чтобы учесть такие дубликаты с помощью метода `str.lower()` приведем значения к нижнему регистру:"
   ]
  },
  {
   "cell_type": "code",
   "execution_count": 15,
   "metadata": {},
   "outputs": [
    {
     "name": "stdout",
     "output_type": "stream",
     "text": [
      "17\n"
     ]
    }
   ],
   "source": [
    "data['education'] = data['education'].str.lower()\n",
    "data['education'].unique()\n",
    "\n",
    "# с помощью метода duplicated() проверим наличие дубликатов и подсчитаем их количество\n",
    "print(data.duplicated().sum())"
   ]
  },
  {
   "cell_type": "code",
   "execution_count": 16,
   "metadata": {},
   "outputs": [],
   "source": [
    "# удалим новые дубликаты\n",
    "data = data.drop_duplicates().reset_index(drop=True)"
   ]
  },
  {
   "cell_type": "markdown",
   "metadata": {},
   "source": [
    "**Вывод**"
   ]
  },
  {
   "cell_type": "markdown",
   "metadata": {},
   "source": [
    "В исходном наборе данных мы обнаружили и устранили явные и неявные дубликаты. "
   ]
  },
  {
   "cell_type": "markdown",
   "metadata": {},
   "source": [
    "### Лемматизация"
   ]
  },
  {
   "cell_type": "code",
   "execution_count": 17,
   "metadata": {},
   "outputs": [
    {
     "name": "stdout",
     "output_type": "stream",
     "text": [
      "['покупка жилья' 'приобретение автомобиля' 'дополнительное образование'\n",
      " 'сыграть свадьбу' 'операции с жильем' 'образование'\n",
      " 'на проведение свадьбы' 'покупка жилья для семьи' 'покупка недвижимости'\n",
      " 'покупка коммерческой недвижимости' 'покупка жилой недвижимости'\n",
      " 'строительство собственной недвижимости' 'недвижимость'\n",
      " 'строительство недвижимости' 'на покупку подержанного автомобиля'\n",
      " 'на покупку своего автомобиля' 'операции с коммерческой недвижимостью'\n",
      " 'строительство жилой недвижимости' 'жилье'\n",
      " 'операции со своей недвижимостью' 'автомобили' 'заняться образованием'\n",
      " 'сделка с подержанным автомобилем' 'получение образования' 'автомобиль'\n",
      " 'свадьба' 'получение дополнительного образования' 'покупка своего жилья'\n",
      " 'операции с недвижимостью' 'получение высшего образования'\n",
      " 'свой автомобиль' 'сделка с автомобилем' 'профильное образование'\n",
      " 'высшее образование' 'покупка жилья для сдачи' 'на покупку автомобиля'\n",
      " 'ремонт жилью' 'заняться высшим образованием']\n"
     ]
    }
   ],
   "source": [
    "# Найдем уникальные значения в столбце `purpose`\n",
    "purpose_unique = data['purpose'].unique()\n",
    "print(purpose_unique)"
   ]
  },
  {
   "cell_type": "markdown",
   "metadata": {},
   "source": [
    "Выделим леммы в значениях столбца с целями получения кредита и найдем количество их повторений, для этого подключим библиотеки `pymystem3` и специальный контейннер `Counter`: "
   ]
  },
  {
   "cell_type": "code",
   "execution_count": 18,
   "metadata": {},
   "outputs": [
    {
     "name": "stderr",
     "output_type": "stream",
     "text": [
      "Installing mystem to /Users/visnazugan/.local/bin/mystem from http://download.cdn.yandex.net/mystem/mystem-3.1-macosx.tar.gz\n"
     ]
    },
    {
     "name": "stdout",
     "output_type": "stream",
     "text": [
      "Counter({'автомобиль': 2, 'покупка жилье': 1, 'приобретение автомобиль': 1, 'дополнительный образование': 1, 'сыграть свадьба': 1, 'операция с жилье': 1, 'образование': 1, 'на проведение свадьба': 1, 'покупка жилье для семья': 1, 'покупка недвижимость': 1, 'покупка коммерческий недвижимость': 1, 'покупка жилой недвижимость': 1, 'строительство собственный недвижимость': 1, 'недвижимость': 1, 'строительство недвижимость': 1, 'на покупка подержать автомобиль': 1, 'на покупка свой автомобиль': 1, 'операция с коммерческий недвижимость': 1, 'строительство жилой недвижимость': 1, 'жилье': 1, 'операция со свой недвижимость': 1, 'заниматься образование': 1, 'сделка с подержанный автомобиль': 1, 'получение образование': 1, 'свадьба': 1, 'получение дополнительный образование': 1, 'покупка свой жилье': 1, 'операция с недвижимость': 1, 'получение высокий образование': 1, 'свой автомобиль': 1, 'сделка с автомобиль': 1, 'профильный образование': 1, 'высокий образование': 1, 'покупка жилье для сдача': 1, 'на покупка автомобиль': 1, 'ремонт жилье': 1, 'заниматься высокий образование': 1})\n"
     ]
    }
   ],
   "source": [
    "lemma_list = [] \n",
    "m = Mystem()\n",
    "\n",
    "for purpose in purpose_unique:\n",
    "    lemmas = ''.join(m.lemmatize(purpose)).strip() # склеили результат лематизации\n",
    "    lemma_list.append(lemmas)    # добавим в список лемматизированные значения purpose_unique\n",
    " \n",
    "print(Counter(lemma_list))     # Подсчет числа упоминаний "
   ]
  },
  {
   "cell_type": "markdown",
   "metadata": {},
   "source": [
    "**Вывод**"
   ]
  },
  {
   "cell_type": "markdown",
   "metadata": {},
   "source": [
    "В столбце с целью кредита клиента длинные и различные формулировки, это во первых усложняет работу с данными, а во вторых не может давать реальную оценку по количеству клиентов с одинаковыми целями по смыслу, но с различной формулировкой. Поэтому будет правильно столбец `purpose` разделить на категории. С помощью лемматизации мы определили принцип категоризации, а именно можно выделить четыре категории целей взятия кредита: 'недвижимость', 'автомобиль', 'образование', 'свадьба'."
   ]
  },
  {
   "cell_type": "markdown",
   "metadata": {},
   "source": [
    "### Категоризация данных"
   ]
  },
  {
   "cell_type": "code",
   "execution_count": 19,
   "metadata": {},
   "outputs": [],
   "source": [
    "# Запишем правило классиффикации клиентов как функцию: \n",
    "# на вход функции попадает вся строка датафрейма, а возвращает она категорию цели кредита клиента:\n",
    "def create_category_purpose(row):\n",
    "# \"\"\"\"\n",
    "# Составляет список лимматизированных слов цели lem_purpose.\n",
    "# Возвращает категорию цели кредита по значению найденных лемм, используя правила:\n",
    "# - 'атомобиль', если 'атомобиль' содержится в значении lem_purpose;\n",
    "# - 'недвижимость', если 'жилье' или 'недвижимость' содержится в значении lem_purpose;\n",
    "# - 'свадьба', если 'свадьба' содержится в значении lem_purpose;\n",
    "# - 'образование' во всех других случаях.\n",
    "# \"\"\"\"\n",
    "    lem_purpose = m.lemmatize(row['purpose'])\n",
    "    if 'автомобиль' in lem_purpose:\n",
    "        return 'автомобиль'\n",
    "    if ('жилье' in lem_purpose) or ('недвижимость' in lem_purpose):\n",
    "        return 'недвижимость'\n",
    "    if 'свадьба' in lem_purpose:\n",
    "        return 'свадьба'\n",
    "    return 'образование'\n",
    "\n",
    "\n",
    "# применим функцию и сохраним результат в новом столбце 'purpose_category':\n",
    "data['purpose_category'] = data.apply(create_category_purpose, axis=1)    "
   ]
  },
  {
   "cell_type": "code",
   "execution_count": 20,
   "metadata": {
    "scrolled": true
   },
   "outputs": [
    {
     "data": {
      "text/plain": [
       "недвижимость    10811\n",
       "автомобиль       4306\n",
       "образование      4013\n",
       "свадьба          2324\n",
       "Name: purpose_category, dtype: int64"
      ]
     },
     "execution_count": 20,
     "metadata": {},
     "output_type": "execute_result"
    }
   ],
   "source": [
    "# применим функцию value_counts() для подсчета значений каждой категории\n",
    "data['purpose_category'].value_counts() "
   ]
  },
  {
   "cell_type": "markdown",
   "metadata": {},
   "source": [
    "Категоризация переменной childe:"
   ]
  },
  {
   "cell_type": "code",
   "execution_count": 21,
   "metadata": {
    "scrolled": true
   },
   "outputs": [
    {
     "data": {
      "text/html": [
       "<div>\n",
       "<style scoped>\n",
       "    .dataframe tbody tr th:only-of-type {\n",
       "        vertical-align: middle;\n",
       "    }\n",
       "\n",
       "    .dataframe tbody tr th {\n",
       "        vertical-align: top;\n",
       "    }\n",
       "\n",
       "    .dataframe thead th {\n",
       "        text-align: right;\n",
       "    }\n",
       "</style>\n",
       "<table border=\"1\" class=\"dataframe\">\n",
       "  <thead>\n",
       "    <tr style=\"text-align: right;\">\n",
       "      <th></th>\n",
       "      <th>children</th>\n",
       "      <th>days_employed</th>\n",
       "      <th>dob_years</th>\n",
       "      <th>education</th>\n",
       "      <th>education_id</th>\n",
       "      <th>family_status</th>\n",
       "      <th>family_status_id</th>\n",
       "      <th>gender</th>\n",
       "      <th>income_type</th>\n",
       "      <th>debt</th>\n",
       "      <th>total_income</th>\n",
       "      <th>purpose</th>\n",
       "      <th>purpose_category</th>\n",
       "      <th>children_status</th>\n",
       "    </tr>\n",
       "  </thead>\n",
       "  <tbody>\n",
       "    <tr>\n",
       "      <th>0</th>\n",
       "      <td>1</td>\n",
       "      <td>-8437</td>\n",
       "      <td>42</td>\n",
       "      <td>высшее</td>\n",
       "      <td>0</td>\n",
       "      <td>женат / замужем</td>\n",
       "      <td>0</td>\n",
       "      <td>F</td>\n",
       "      <td>сотрудник</td>\n",
       "      <td>0</td>\n",
       "      <td>253875</td>\n",
       "      <td>покупка жилья</td>\n",
       "      <td>недвижимость</td>\n",
       "      <td>есть дети</td>\n",
       "    </tr>\n",
       "    <tr>\n",
       "      <th>1</th>\n",
       "      <td>1</td>\n",
       "      <td>-4024</td>\n",
       "      <td>36</td>\n",
       "      <td>среднее</td>\n",
       "      <td>1</td>\n",
       "      <td>женат / замужем</td>\n",
       "      <td>0</td>\n",
       "      <td>F</td>\n",
       "      <td>сотрудник</td>\n",
       "      <td>0</td>\n",
       "      <td>112080</td>\n",
       "      <td>приобретение автомобиля</td>\n",
       "      <td>автомобиль</td>\n",
       "      <td>есть дети</td>\n",
       "    </tr>\n",
       "    <tr>\n",
       "      <th>2</th>\n",
       "      <td>0</td>\n",
       "      <td>-5623</td>\n",
       "      <td>33</td>\n",
       "      <td>среднее</td>\n",
       "      <td>1</td>\n",
       "      <td>женат / замужем</td>\n",
       "      <td>0</td>\n",
       "      <td>M</td>\n",
       "      <td>сотрудник</td>\n",
       "      <td>0</td>\n",
       "      <td>145885</td>\n",
       "      <td>покупка жилья</td>\n",
       "      <td>недвижимость</td>\n",
       "      <td>нет детей</td>\n",
       "    </tr>\n",
       "    <tr>\n",
       "      <th>3</th>\n",
       "      <td>3</td>\n",
       "      <td>-4124</td>\n",
       "      <td>32</td>\n",
       "      <td>среднее</td>\n",
       "      <td>1</td>\n",
       "      <td>женат / замужем</td>\n",
       "      <td>0</td>\n",
       "      <td>M</td>\n",
       "      <td>сотрудник</td>\n",
       "      <td>0</td>\n",
       "      <td>267628</td>\n",
       "      <td>дополнительное образование</td>\n",
       "      <td>образование</td>\n",
       "      <td>есть дети</td>\n",
       "    </tr>\n",
       "    <tr>\n",
       "      <th>4</th>\n",
       "      <td>0</td>\n",
       "      <td>340266</td>\n",
       "      <td>53</td>\n",
       "      <td>среднее</td>\n",
       "      <td>1</td>\n",
       "      <td>гражданский брак</td>\n",
       "      <td>1</td>\n",
       "      <td>F</td>\n",
       "      <td>пенсионер</td>\n",
       "      <td>0</td>\n",
       "      <td>158616</td>\n",
       "      <td>сыграть свадьбу</td>\n",
       "      <td>свадьба</td>\n",
       "      <td>нет детей</td>\n",
       "    </tr>\n",
       "    <tr>\n",
       "      <th>...</th>\n",
       "      <td>...</td>\n",
       "      <td>...</td>\n",
       "      <td>...</td>\n",
       "      <td>...</td>\n",
       "      <td>...</td>\n",
       "      <td>...</td>\n",
       "      <td>...</td>\n",
       "      <td>...</td>\n",
       "      <td>...</td>\n",
       "      <td>...</td>\n",
       "      <td>...</td>\n",
       "      <td>...</td>\n",
       "      <td>...</td>\n",
       "      <td>...</td>\n",
       "    </tr>\n",
       "    <tr>\n",
       "      <th>21449</th>\n",
       "      <td>1</td>\n",
       "      <td>-4529</td>\n",
       "      <td>43</td>\n",
       "      <td>среднее</td>\n",
       "      <td>1</td>\n",
       "      <td>гражданский брак</td>\n",
       "      <td>1</td>\n",
       "      <td>F</td>\n",
       "      <td>компаньон</td>\n",
       "      <td>0</td>\n",
       "      <td>224791</td>\n",
       "      <td>операции с жильем</td>\n",
       "      <td>недвижимость</td>\n",
       "      <td>есть дети</td>\n",
       "    </tr>\n",
       "    <tr>\n",
       "      <th>21450</th>\n",
       "      <td>0</td>\n",
       "      <td>343937</td>\n",
       "      <td>67</td>\n",
       "      <td>среднее</td>\n",
       "      <td>1</td>\n",
       "      <td>женат / замужем</td>\n",
       "      <td>0</td>\n",
       "      <td>F</td>\n",
       "      <td>пенсионер</td>\n",
       "      <td>0</td>\n",
       "      <td>155999</td>\n",
       "      <td>сделка с автомобилем</td>\n",
       "      <td>автомобиль</td>\n",
       "      <td>нет детей</td>\n",
       "    </tr>\n",
       "    <tr>\n",
       "      <th>21451</th>\n",
       "      <td>1</td>\n",
       "      <td>-2113</td>\n",
       "      <td>38</td>\n",
       "      <td>среднее</td>\n",
       "      <td>1</td>\n",
       "      <td>гражданский брак</td>\n",
       "      <td>1</td>\n",
       "      <td>M</td>\n",
       "      <td>сотрудник</td>\n",
       "      <td>1</td>\n",
       "      <td>89672</td>\n",
       "      <td>недвижимость</td>\n",
       "      <td>недвижимость</td>\n",
       "      <td>есть дети</td>\n",
       "    </tr>\n",
       "    <tr>\n",
       "      <th>21452</th>\n",
       "      <td>3</td>\n",
       "      <td>-3112</td>\n",
       "      <td>38</td>\n",
       "      <td>среднее</td>\n",
       "      <td>1</td>\n",
       "      <td>женат / замужем</td>\n",
       "      <td>0</td>\n",
       "      <td>M</td>\n",
       "      <td>сотрудник</td>\n",
       "      <td>1</td>\n",
       "      <td>244093</td>\n",
       "      <td>на покупку своего автомобиля</td>\n",
       "      <td>автомобиль</td>\n",
       "      <td>есть дети</td>\n",
       "    </tr>\n",
       "    <tr>\n",
       "      <th>21453</th>\n",
       "      <td>2</td>\n",
       "      <td>-1984</td>\n",
       "      <td>40</td>\n",
       "      <td>среднее</td>\n",
       "      <td>1</td>\n",
       "      <td>женат / замужем</td>\n",
       "      <td>0</td>\n",
       "      <td>F</td>\n",
       "      <td>сотрудник</td>\n",
       "      <td>0</td>\n",
       "      <td>82047</td>\n",
       "      <td>на покупку автомобиля</td>\n",
       "      <td>автомобиль</td>\n",
       "      <td>есть дети</td>\n",
       "    </tr>\n",
       "  </tbody>\n",
       "</table>\n",
       "<p>21454 rows × 14 columns</p>\n",
       "</div>"
      ],
      "text/plain": [
       "       children  days_employed  dob_years education  education_id  \\\n",
       "0             1          -8437         42    высшее             0   \n",
       "1             1          -4024         36   среднее             1   \n",
       "2             0          -5623         33   среднее             1   \n",
       "3             3          -4124         32   среднее             1   \n",
       "4             0         340266         53   среднее             1   \n",
       "...         ...            ...        ...       ...           ...   \n",
       "21449         1          -4529         43   среднее             1   \n",
       "21450         0         343937         67   среднее             1   \n",
       "21451         1          -2113         38   среднее             1   \n",
       "21452         3          -3112         38   среднее             1   \n",
       "21453         2          -1984         40   среднее             1   \n",
       "\n",
       "          family_status  family_status_id gender income_type  debt  \\\n",
       "0       женат / замужем                 0      F   сотрудник     0   \n",
       "1       женат / замужем                 0      F   сотрудник     0   \n",
       "2       женат / замужем                 0      M   сотрудник     0   \n",
       "3       женат / замужем                 0      M   сотрудник     0   \n",
       "4      гражданский брак                 1      F   пенсионер     0   \n",
       "...                 ...               ...    ...         ...   ...   \n",
       "21449  гражданский брак                 1      F   компаньон     0   \n",
       "21450   женат / замужем                 0      F   пенсионер     0   \n",
       "21451  гражданский брак                 1      M   сотрудник     1   \n",
       "21452   женат / замужем                 0      M   сотрудник     1   \n",
       "21453   женат / замужем                 0      F   сотрудник     0   \n",
       "\n",
       "       total_income                       purpose purpose_category  \\\n",
       "0            253875                 покупка жилья     недвижимость   \n",
       "1            112080       приобретение автомобиля       автомобиль   \n",
       "2            145885                 покупка жилья     недвижимость   \n",
       "3            267628    дополнительное образование      образование   \n",
       "4            158616               сыграть свадьбу          свадьба   \n",
       "...             ...                           ...              ...   \n",
       "21449        224791             операции с жильем     недвижимость   \n",
       "21450        155999          сделка с автомобилем       автомобиль   \n",
       "21451         89672                  недвижимость     недвижимость   \n",
       "21452        244093  на покупку своего автомобиля       автомобиль   \n",
       "21453         82047         на покупку автомобиля       автомобиль   \n",
       "\n",
       "      children_status  \n",
       "0           есть дети  \n",
       "1           есть дети  \n",
       "2           нет детей  \n",
       "3           есть дети  \n",
       "4           нет детей  \n",
       "...               ...  \n",
       "21449       есть дети  \n",
       "21450       нет детей  \n",
       "21451       есть дети  \n",
       "21452       есть дети  \n",
       "21453       есть дети  \n",
       "\n",
       "[21454 rows x 14 columns]"
      ]
     },
     "metadata": {},
     "output_type": "display_data"
    }
   ],
   "source": [
    "def children_status(row):\n",
    "    children = row['children']\n",
    "    if children > 0:\n",
    "        return 'есть дети'\n",
    "    return 'нет детей'\n",
    "data['children_status'] = data.apply(children_status, axis=1)\n",
    "display(data)"
   ]
  },
  {
   "cell_type": "markdown",
   "metadata": {},
   "source": [
    "**Вывод**"
   ]
  },
  {
   "cell_type": "markdown",
   "metadata": {},
   "source": [
    "Итак, мы классифицировали цели кредита клиента на 4 категории: 'недвижимость', 'автомобиль', 'образование', 'свадьба'. Теперь легко видеть какие у клиентов цели кредита. Также категоризация позволяет рассчитать количество клиентов в каждой категории, например больше всего клиентов хотят взять кредит на недвижимость.\n",
    "\n",
    "Также мы выделили еще две категории клиентов: 'есть дети', 'нет детей', результат добавили в столбец `children_status`.  "
   ]
  },
  {
   "cell_type": "markdown",
   "metadata": {},
   "source": [
    "## Шаг 3. Ответьте на вопросы"
   ]
  },
  {
   "cell_type": "markdown",
   "metadata": {},
   "source": [
    "- Есть ли зависимость между наличием детей и возвратом кредита в срок?"
   ]
  },
  {
   "cell_type": "code",
   "execution_count": 22,
   "metadata": {},
   "outputs": [
    {
     "data": {
      "text/html": [
       "<div>\n",
       "<style scoped>\n",
       "    .dataframe tbody tr th:only-of-type {\n",
       "        vertical-align: middle;\n",
       "    }\n",
       "\n",
       "    .dataframe tbody tr th {\n",
       "        vertical-align: top;\n",
       "    }\n",
       "\n",
       "    .dataframe thead th {\n",
       "        text-align: right;\n",
       "    }\n",
       "</style>\n",
       "<table border=\"1\" class=\"dataframe\">\n",
       "  <thead>\n",
       "    <tr style=\"text-align: right;\">\n",
       "      <th>debt</th>\n",
       "      <th>0</th>\n",
       "      <th>1</th>\n",
       "      <th>percent_1</th>\n",
       "    </tr>\n",
       "    <tr>\n",
       "      <th>children_status</th>\n",
       "      <th></th>\n",
       "      <th></th>\n",
       "      <th></th>\n",
       "    </tr>\n",
       "  </thead>\n",
       "  <tbody>\n",
       "    <tr>\n",
       "      <th>есть дети</th>\n",
       "      <td>6639</td>\n",
       "      <td>677</td>\n",
       "      <td>9.253691</td>\n",
       "    </tr>\n",
       "    <tr>\n",
       "      <th>нет детей</th>\n",
       "      <td>13074</td>\n",
       "      <td>1064</td>\n",
       "      <td>7.525817</td>\n",
       "    </tr>\n",
       "  </tbody>\n",
       "</table>\n",
       "</div>"
      ],
      "text/plain": [
       "debt                 0     1  percent_1\n",
       "children_status                        \n",
       "есть дети         6639   677   9.253691\n",
       "нет детей        13074  1064   7.525817"
      ]
     },
     "execution_count": 22,
     "metadata": {},
     "output_type": "execute_result"
    }
   ],
   "source": [
    "# создадим сводную таблицу в которую выделим статус наличия детей и статус наличия задожности у клиента\n",
    "data_pivot_children = data.pivot_table(index='children_status', columns = 'debt', values='days_employed', aggfunc='count')\n",
    "\n",
    "# процент клиентов с детьми имеющих задолжность\n",
    "data_pivot_children['percent_1'] = data_pivot_children[1] / (data_pivot_children[0] + data_pivot_children[1]) * 100\n",
    "data_pivot_children"
   ]
  },
  {
   "cell_type": "code",
   "execution_count": 23,
   "metadata": {
    "scrolled": true
   },
   "outputs": [
    {
     "data": {
      "text/plain": [
       "children\n",
       "-1        47\n",
       " 0     14091\n",
       " 1      4808\n",
       " 2      2052\n",
       " 3       330\n",
       " 4        41\n",
       " 5         9\n",
       " 20       76\n",
       "Name: debt, dtype: int64"
      ]
     },
     "execution_count": 23,
     "metadata": {},
     "output_type": "execute_result"
    }
   ],
   "source": [
    "data.groupby('children')['debt'].count()"
   ]
  },
  {
   "cell_type": "code",
   "execution_count": 24,
   "metadata": {},
   "outputs": [
    {
     "data": {
      "text/html": [
       "<div>\n",
       "<style scoped>\n",
       "    .dataframe tbody tr th:only-of-type {\n",
       "        vertical-align: middle;\n",
       "    }\n",
       "\n",
       "    .dataframe tbody tr th {\n",
       "        vertical-align: top;\n",
       "    }\n",
       "\n",
       "    .dataframe thead th {\n",
       "        text-align: right;\n",
       "    }\n",
       "</style>\n",
       "<table border=\"1\" class=\"dataframe\">\n",
       "  <thead>\n",
       "    <tr style=\"text-align: right;\">\n",
       "      <th>debt</th>\n",
       "      <th>0</th>\n",
       "      <th>1</th>\n",
       "      <th>percent_1</th>\n",
       "    </tr>\n",
       "    <tr>\n",
       "      <th>children</th>\n",
       "      <th></th>\n",
       "      <th></th>\n",
       "      <th></th>\n",
       "    </tr>\n",
       "  </thead>\n",
       "  <tbody>\n",
       "    <tr>\n",
       "      <th>-1</th>\n",
       "      <td>46.0</td>\n",
       "      <td>1.0</td>\n",
       "      <td>2.127660</td>\n",
       "    </tr>\n",
       "    <tr>\n",
       "      <th>0</th>\n",
       "      <td>13028.0</td>\n",
       "      <td>1063.0</td>\n",
       "      <td>7.543822</td>\n",
       "    </tr>\n",
       "    <tr>\n",
       "      <th>1</th>\n",
       "      <td>4364.0</td>\n",
       "      <td>444.0</td>\n",
       "      <td>9.234609</td>\n",
       "    </tr>\n",
       "    <tr>\n",
       "      <th>2</th>\n",
       "      <td>1858.0</td>\n",
       "      <td>194.0</td>\n",
       "      <td>9.454191</td>\n",
       "    </tr>\n",
       "    <tr>\n",
       "      <th>3</th>\n",
       "      <td>303.0</td>\n",
       "      <td>27.0</td>\n",
       "      <td>8.181818</td>\n",
       "    </tr>\n",
       "    <tr>\n",
       "      <th>4</th>\n",
       "      <td>37.0</td>\n",
       "      <td>4.0</td>\n",
       "      <td>9.756098</td>\n",
       "    </tr>\n",
       "    <tr>\n",
       "      <th>5</th>\n",
       "      <td>9.0</td>\n",
       "      <td>NaN</td>\n",
       "      <td>NaN</td>\n",
       "    </tr>\n",
       "    <tr>\n",
       "      <th>20</th>\n",
       "      <td>68.0</td>\n",
       "      <td>8.0</td>\n",
       "      <td>10.526316</td>\n",
       "    </tr>\n",
       "  </tbody>\n",
       "</table>\n",
       "</div>"
      ],
      "text/plain": [
       "debt            0       1  percent_1\n",
       "children                            \n",
       "-1           46.0     1.0   2.127660\n",
       " 0        13028.0  1063.0   7.543822\n",
       " 1         4364.0   444.0   9.234609\n",
       " 2         1858.0   194.0   9.454191\n",
       " 3          303.0    27.0   8.181818\n",
       " 4           37.0     4.0   9.756098\n",
       " 5            9.0     NaN        NaN\n",
       " 20          68.0     8.0  10.526316"
      ]
     },
     "execution_count": 24,
     "metadata": {},
     "output_type": "execute_result"
    }
   ],
   "source": [
    "data_pivot_children = data.pivot_table(index='children', columns = 'debt', values='days_employed', aggfunc='count')\n",
    "data_pivot_children['percent_1'] = data_pivot_children[1] / (data_pivot_children[0] + data_pivot_children[1]) * 100\n",
    "data_pivot_children"
   ]
  },
  {
   "cell_type": "markdown",
   "metadata": {},
   "source": [
    "**Вывод**"
   ]
  },
  {
   "cell_type": "markdown",
   "metadata": {},
   "source": [
    "- Процент клиентов с детьми имеющих задолжность выше, чем у клиентов без детей. \n",
    "- Большинство клиентов, которые берут кредит не имеют детей.\n",
    "\n",
    "Большинство кредитов берут клиенты с одним ребенком, однако процент невыплаты кредита в срок больше у клиентов с 4-мя детьми и с 20-тью. Также стоит заметить что нет данных в столбце наличия зодолжности у клиентов с 5-тью детьми.\n",
    "Можно сделать вывод, что действительно зависимость между наличием детей и возвратом кредита в срок имеется."
   ]
  },
  {
   "cell_type": "markdown",
   "metadata": {},
   "source": [
    "- Есть ли зависимость между семейным положением и возвратом кредита в срок?"
   ]
  },
  {
   "cell_type": "code",
   "execution_count": 25,
   "metadata": {},
   "outputs": [
    {
     "data": {
      "text/html": [
       "<div>\n",
       "<style scoped>\n",
       "    .dataframe tbody tr th:only-of-type {\n",
       "        vertical-align: middle;\n",
       "    }\n",
       "\n",
       "    .dataframe tbody tr th {\n",
       "        vertical-align: top;\n",
       "    }\n",
       "\n",
       "    .dataframe thead th {\n",
       "        text-align: right;\n",
       "    }\n",
       "</style>\n",
       "<table border=\"1\" class=\"dataframe\">\n",
       "  <thead>\n",
       "    <tr style=\"text-align: right;\">\n",
       "      <th>debt</th>\n",
       "      <th>0</th>\n",
       "      <th>1</th>\n",
       "      <th>percent_1</th>\n",
       "    </tr>\n",
       "    <tr>\n",
       "      <th>family_status</th>\n",
       "      <th></th>\n",
       "      <th></th>\n",
       "      <th></th>\n",
       "    </tr>\n",
       "  </thead>\n",
       "  <tbody>\n",
       "    <tr>\n",
       "      <th>Не женат / не замужем</th>\n",
       "      <td>2536</td>\n",
       "      <td>274</td>\n",
       "      <td>9.750890</td>\n",
       "    </tr>\n",
       "    <tr>\n",
       "      <th>в разводе</th>\n",
       "      <td>1110</td>\n",
       "      <td>85</td>\n",
       "      <td>7.112971</td>\n",
       "    </tr>\n",
       "    <tr>\n",
       "      <th>вдовец / вдова</th>\n",
       "      <td>896</td>\n",
       "      <td>63</td>\n",
       "      <td>6.569343</td>\n",
       "    </tr>\n",
       "    <tr>\n",
       "      <th>гражданский брак</th>\n",
       "      <td>3763</td>\n",
       "      <td>388</td>\n",
       "      <td>9.347145</td>\n",
       "    </tr>\n",
       "    <tr>\n",
       "      <th>женат / замужем</th>\n",
       "      <td>11408</td>\n",
       "      <td>931</td>\n",
       "      <td>7.545182</td>\n",
       "    </tr>\n",
       "  </tbody>\n",
       "</table>\n",
       "</div>"
      ],
      "text/plain": [
       "debt                       0    1  percent_1\n",
       "family_status                               \n",
       "Не женат / не замужем   2536  274   9.750890\n",
       "в разводе               1110   85   7.112971\n",
       "вдовец / вдова           896   63   6.569343\n",
       "гражданский брак        3763  388   9.347145\n",
       "женат / замужем        11408  931   7.545182"
      ]
     },
     "execution_count": 25,
     "metadata": {},
     "output_type": "execute_result"
    }
   ],
   "source": [
    "# построим сводную таблицу для установки зависимости между семейным положением и возвратом кредита в срок\n",
    "data_pivot_family = data.pivot_table(index='family_status', columns='debt', values='days_employed', aggfunc='count')\n",
    "# процент клиентов с детьми имеющих задолжность\n",
    "data_pivot_family['percent_1'] = data_pivot_family[1] / (data_pivot_family[0] + data_pivot_family[1]) * 100\n",
    "data_pivot_family"
   ]
  },
  {
   "cell_type": "markdown",
   "metadata": {},
   "source": [
    "**Вывод**"
   ]
  },
  {
   "cell_type": "markdown",
   "metadata": {},
   "source": [
    "Явной зависимости между семейным положением и возвратом кредита в срок нет."
   ]
  },
  {
   "cell_type": "markdown",
   "metadata": {},
   "source": [
    "- Есть ли зависимость между уровнем дохода и возвратом кредита в срок?"
   ]
  },
  {
   "cell_type": "markdown",
   "metadata": {},
   "source": [
    "Для того чтобы установить зависимость между уровнем дохода и возвратом кредита в срок создадим сводную таблицу, предварительно разделив данные на категории по уровню дохода."
   ]
  },
  {
   "cell_type": "code",
   "execution_count": 26,
   "metadata": {
    "scrolled": true
   },
   "outputs": [
    {
     "name": "stdout",
     "output_type": "stream",
     "text": [
      "['богатые' 'средний достаток']\n"
     ]
    }
   ],
   "source": [
    "def income_level(row):\n",
    "    income = row['total_income']\n",
    "    if income <= 20000:\n",
    "        return 'бедность'\n",
    "    if (income >20000) and (income <= 60000):\n",
    "        return 'средний достаток'\n",
    "    return 'богатые'\n",
    "\n",
    "data['income_level'] = data.apply(income_level, axis=1)\n",
    "print(data['income_level'].unique())"
   ]
  },
  {
   "cell_type": "markdown",
   "metadata": {},
   "source": [
    "Получилось, что в наборе данных клиенты разделились только на две категории: 'богатые' и 'средний достаток'."
   ]
  },
  {
   "cell_type": "code",
   "execution_count": 27,
   "metadata": {},
   "outputs": [
    {
     "data": {
      "text/html": [
       "<div>\n",
       "<style scoped>\n",
       "    .dataframe tbody tr th:only-of-type {\n",
       "        vertical-align: middle;\n",
       "    }\n",
       "\n",
       "    .dataframe tbody tr th {\n",
       "        vertical-align: top;\n",
       "    }\n",
       "\n",
       "    .dataframe thead th {\n",
       "        text-align: right;\n",
       "    }\n",
       "</style>\n",
       "<table border=\"1\" class=\"dataframe\">\n",
       "  <thead>\n",
       "    <tr style=\"text-align: right;\">\n",
       "      <th>debt</th>\n",
       "      <th>0</th>\n",
       "      <th>1</th>\n",
       "      <th>percent_1</th>\n",
       "    </tr>\n",
       "    <tr>\n",
       "      <th>income_level</th>\n",
       "      <th></th>\n",
       "      <th></th>\n",
       "      <th></th>\n",
       "    </tr>\n",
       "  </thead>\n",
       "  <tbody>\n",
       "    <tr>\n",
       "      <th>богатые</th>\n",
       "      <td>18956</td>\n",
       "      <td>1692</td>\n",
       "      <td>8.194498</td>\n",
       "    </tr>\n",
       "    <tr>\n",
       "      <th>средний достаток</th>\n",
       "      <td>757</td>\n",
       "      <td>49</td>\n",
       "      <td>6.079404</td>\n",
       "    </tr>\n",
       "  </tbody>\n",
       "</table>\n",
       "</div>"
      ],
      "text/plain": [
       "debt                  0     1  percent_1\n",
       "income_level                            \n",
       "богатые           18956  1692   8.194498\n",
       "средний достаток    757    49   6.079404"
      ]
     },
     "execution_count": 27,
     "metadata": {},
     "output_type": "execute_result"
    }
   ],
   "source": [
    "# построим сводную таблицу \n",
    "data_pivot_income = data.pivot_table(index='income_level', columns='debt', values='days_employed', aggfunc='count')\n",
    "data_pivot_income['percent_1'] = data_pivot_income[1] / (data_pivot_income[0] + data_pivot_income[1]) * 100\n",
    "data_pivot_income"
   ]
  },
  {
   "cell_type": "markdown",
   "metadata": {},
   "source": [
    "**Вывод**"
   ]
  },
  {
   "cell_type": "markdown",
   "metadata": {},
   "source": [
    "Процент, имеющих задолжность, выше среди клиентов с доходом выше среднего, т.е. клиенты с более высоким доходом с большей вероятностью не вернут кредит в срок. Также интересно, что отсутвуют клиенты с доходом ниже среднего."
   ]
  },
  {
   "cell_type": "markdown",
   "metadata": {},
   "source": [
    "- Как разные цели кредита влияют на его возврат в срок?"
   ]
  },
  {
   "cell_type": "code",
   "execution_count": 28,
   "metadata": {},
   "outputs": [
    {
     "data": {
      "text/html": [
       "<div>\n",
       "<style scoped>\n",
       "    .dataframe tbody tr th:only-of-type {\n",
       "        vertical-align: middle;\n",
       "    }\n",
       "\n",
       "    .dataframe tbody tr th {\n",
       "        vertical-align: top;\n",
       "    }\n",
       "\n",
       "    .dataframe thead th {\n",
       "        text-align: right;\n",
       "    }\n",
       "</style>\n",
       "<table border=\"1\" class=\"dataframe\">\n",
       "  <thead>\n",
       "    <tr style=\"text-align: right;\">\n",
       "      <th>debt</th>\n",
       "      <th>0</th>\n",
       "      <th>1</th>\n",
       "      <th>percent_1</th>\n",
       "    </tr>\n",
       "    <tr>\n",
       "      <th>purpose_category</th>\n",
       "      <th></th>\n",
       "      <th></th>\n",
       "      <th></th>\n",
       "    </tr>\n",
       "  </thead>\n",
       "  <tbody>\n",
       "    <tr>\n",
       "      <th>автомобиль</th>\n",
       "      <td>3903</td>\n",
       "      <td>403</td>\n",
       "      <td>9.359034</td>\n",
       "    </tr>\n",
       "    <tr>\n",
       "      <th>недвижимость</th>\n",
       "      <td>10029</td>\n",
       "      <td>782</td>\n",
       "      <td>7.233373</td>\n",
       "    </tr>\n",
       "    <tr>\n",
       "      <th>образование</th>\n",
       "      <td>3643</td>\n",
       "      <td>370</td>\n",
       "      <td>9.220035</td>\n",
       "    </tr>\n",
       "    <tr>\n",
       "      <th>свадьба</th>\n",
       "      <td>2138</td>\n",
       "      <td>186</td>\n",
       "      <td>8.003442</td>\n",
       "    </tr>\n",
       "  </tbody>\n",
       "</table>\n",
       "</div>"
      ],
      "text/plain": [
       "debt                  0    1  percent_1\n",
       "purpose_category                       \n",
       "автомобиль         3903  403   9.359034\n",
       "недвижимость      10029  782   7.233373\n",
       "образование        3643  370   9.220035\n",
       "свадьба            2138  186   8.003442"
      ]
     },
     "execution_count": 28,
     "metadata": {},
     "output_type": "execute_result"
    }
   ],
   "source": [
    "data_pivot_purpose = data.pivot_table(index='purpose_category', columns='debt', values='days_employed', aggfunc='count')\n",
    "data_pivot_purpose['percent_1'] = data_pivot_purpose[1] / (data_pivot_purpose[0] + data_pivot_purpose[1]) * 100\n",
    "data_pivot_purpose    "
   ]
  },
  {
   "cell_type": "markdown",
   "metadata": {},
   "source": [
    "**Вывод**"
   ]
  },
  {
   "cell_type": "markdown",
   "metadata": {},
   "source": [
    "Несмотря на то, что категория цели кредита `'недвижимость'` наиболее крупная, процент клиентов имеющих задолжность в этой категории меньше чем в остальных. Наибольший процент клиентов не вернувших кредит в срок в категории `'автомобиль'`."
   ]
  },
  {
   "cell_type": "markdown",
   "metadata": {},
   "source": [
    "## Шаг 4. Общий вывод"
   ]
  },
  {
   "cell_type": "markdown",
   "metadata": {},
   "source": [
    "Мы рассмотрели набор данных и выяснили, что наличие детей у клиента, а также их количество влияют на факт погашения кредита в срок, а вот семейное положение не имеет явного влияния. "
   ]
  }
 ],
 "metadata": {
  "ExecuteTimeLog": [
   {
    "duration": 844,
    "start_time": "2021-12-25T18:51:23.721Z"
   },
   {
    "duration": 72,
    "start_time": "2021-12-25T18:51:46.791Z"
   },
   {
    "duration": 100,
    "start_time": "2021-12-25T19:06:51.749Z"
   },
   {
    "duration": 15,
    "start_time": "2021-12-25T19:51:16.032Z"
   },
   {
    "duration": 7,
    "start_time": "2021-12-25T20:06:31.933Z"
   },
   {
    "duration": 7,
    "start_time": "2021-12-25T20:06:53.695Z"
   },
   {
    "duration": 35,
    "start_time": "2021-12-25T20:09:32.627Z"
   },
   {
    "duration": 25,
    "start_time": "2021-12-25T20:11:00.680Z"
   },
   {
    "duration": 21,
    "start_time": "2021-12-25T20:13:13.763Z"
   },
   {
    "duration": 337,
    "start_time": "2021-12-26T12:04:04.822Z"
   },
   {
    "duration": 666,
    "start_time": "2021-12-26T12:04:18.616Z"
   },
   {
    "duration": 10,
    "start_time": "2021-12-26T12:04:19.284Z"
   },
   {
    "duration": 15,
    "start_time": "2021-12-26T12:04:19.296Z"
   },
   {
    "duration": 6,
    "start_time": "2021-12-26T12:04:19.313Z"
   },
   {
    "duration": 8,
    "start_time": "2021-12-26T12:46:19.253Z"
   },
   {
    "duration": 272,
    "start_time": "2021-12-26T12:46:28.221Z"
   },
   {
    "duration": 8,
    "start_time": "2021-12-26T12:46:34.841Z"
   },
   {
    "duration": 268,
    "start_time": "2021-12-26T12:46:49.519Z"
   },
   {
    "duration": 18,
    "start_time": "2021-12-26T12:47:18.950Z"
   },
   {
    "duration": 7,
    "start_time": "2021-12-26T12:48:00.545Z"
   },
   {
    "duration": 7,
    "start_time": "2021-12-26T12:48:21.404Z"
   },
   {
    "duration": 5,
    "start_time": "2021-12-26T12:48:41.574Z"
   },
   {
    "duration": 4,
    "start_time": "2021-12-26T12:57:07.343Z"
   },
   {
    "duration": 275,
    "start_time": "2021-12-26T12:57:27.920Z"
   },
   {
    "duration": 7,
    "start_time": "2021-12-26T12:58:30.154Z"
   },
   {
    "duration": 268,
    "start_time": "2021-12-26T13:12:36.875Z"
   },
   {
    "duration": 6332,
    "start_time": "2021-12-26T13:12:51.872Z"
   },
   {
    "duration": 7082,
    "start_time": "2021-12-26T13:13:11.393Z"
   },
   {
    "duration": 21,
    "start_time": "2021-12-26T13:13:37.590Z"
   },
   {
    "duration": 6,
    "start_time": "2021-12-26T13:39:30.252Z"
   },
   {
    "duration": 7,
    "start_time": "2021-12-26T13:43:50.025Z"
   },
   {
    "duration": 7,
    "start_time": "2021-12-26T14:53:13.826Z"
   },
   {
    "duration": 251,
    "start_time": "2021-12-26T14:53:21.770Z"
   },
   {
    "duration": 4,
    "start_time": "2021-12-26T14:53:31.965Z"
   },
   {
    "duration": 7,
    "start_time": "2021-12-26T14:53:51.815Z"
   },
   {
    "duration": 6,
    "start_time": "2021-12-26T14:54:11.997Z"
   },
   {
    "duration": 5,
    "start_time": "2021-12-26T14:54:14.192Z"
   },
   {
    "duration": 9,
    "start_time": "2021-12-26T14:57:30.959Z"
   },
   {
    "duration": 20,
    "start_time": "2021-12-26T14:57:57.546Z"
   },
   {
    "duration": 4,
    "start_time": "2021-12-26T15:03:51.404Z"
   },
   {
    "duration": 5,
    "start_time": "2021-12-26T15:04:19.276Z"
   },
   {
    "duration": 5,
    "start_time": "2021-12-26T15:04:29.556Z"
   },
   {
    "duration": 4,
    "start_time": "2021-12-26T15:05:12.334Z"
   },
   {
    "duration": 5,
    "start_time": "2021-12-26T15:05:50.315Z"
   },
   {
    "duration": 6,
    "start_time": "2021-12-26T15:13:09.530Z"
   },
   {
    "duration": 5,
    "start_time": "2021-12-26T15:13:25.811Z"
   },
   {
    "duration": 5,
    "start_time": "2021-12-26T15:13:44.077Z"
   },
   {
    "duration": 41,
    "start_time": "2021-12-26T15:17:15.844Z"
   },
   {
    "duration": 18,
    "start_time": "2021-12-26T15:18:19.105Z"
   },
   {
    "duration": 7,
    "start_time": "2021-12-26T15:18:32.018Z"
   },
   {
    "duration": 66,
    "start_time": "2021-12-26T15:18:50.937Z"
   },
   {
    "duration": 9,
    "start_time": "2021-12-26T15:18:51.005Z"
   },
   {
    "duration": 12,
    "start_time": "2021-12-26T15:18:51.016Z"
   },
   {
    "duration": 7,
    "start_time": "2021-12-26T15:18:51.041Z"
   },
   {
    "duration": 13,
    "start_time": "2021-12-26T15:18:51.049Z"
   },
   {
    "duration": 7,
    "start_time": "2021-12-26T15:18:51.063Z"
   },
   {
    "duration": 16,
    "start_time": "2021-12-26T15:18:51.072Z"
   },
   {
    "duration": 5,
    "start_time": "2021-12-26T15:18:51.090Z"
   },
   {
    "duration": 14,
    "start_time": "2021-12-26T15:18:51.097Z"
   },
   {
    "duration": 6,
    "start_time": "2021-12-26T15:18:51.112Z"
   },
   {
    "duration": 24,
    "start_time": "2021-12-26T15:18:51.119Z"
   },
   {
    "duration": 4,
    "start_time": "2021-12-26T15:23:57.041Z"
   },
   {
    "duration": 5,
    "start_time": "2021-12-26T15:25:12.508Z"
   },
   {
    "duration": 5,
    "start_time": "2021-12-26T15:25:23.704Z"
   },
   {
    "duration": 4,
    "start_time": "2021-12-26T15:25:33.264Z"
   },
   {
    "duration": 18,
    "start_time": "2021-12-26T15:26:46.888Z"
   },
   {
    "duration": 6363,
    "start_time": "2021-12-26T15:27:13.888Z"
   },
   {
    "duration": 5,
    "start_time": "2021-12-26T15:27:32.816Z"
   },
   {
    "duration": 6,
    "start_time": "2021-12-26T15:27:46.564Z"
   },
   {
    "duration": 16,
    "start_time": "2021-12-26T15:27:53.348Z"
   },
   {
    "duration": 11,
    "start_time": "2021-12-26T15:28:09.596Z"
   },
   {
    "duration": 6,
    "start_time": "2021-12-26T15:28:56.837Z"
   },
   {
    "duration": 9,
    "start_time": "2021-12-26T15:29:18.168Z"
   },
   {
    "duration": 21,
    "start_time": "2021-12-26T15:30:04.544Z"
   },
   {
    "duration": 9,
    "start_time": "2021-12-26T15:30:24.688Z"
   },
   {
    "duration": 7,
    "start_time": "2021-12-26T15:30:33.325Z"
   },
   {
    "duration": 6,
    "start_time": "2021-12-26T15:30:40.545Z"
   },
   {
    "duration": 774,
    "start_time": "2021-12-28T19:55:26.580Z"
   },
   {
    "duration": 2416,
    "start_time": "2021-12-28T19:55:27.357Z"
   },
   {
    "duration": 559,
    "start_time": "2021-12-28T19:55:29.218Z"
   },
   {
    "duration": 552,
    "start_time": "2021-12-28T19:55:29.226Z"
   },
   {
    "duration": 545,
    "start_time": "2021-12-28T19:55:29.235Z"
   },
   {
    "duration": 536,
    "start_time": "2021-12-28T19:55:29.245Z"
   },
   {
    "duration": 525,
    "start_time": "2021-12-28T19:55:29.257Z"
   },
   {
    "duration": 516,
    "start_time": "2021-12-28T19:55:29.268Z"
   },
   {
    "duration": 508,
    "start_time": "2021-12-28T19:55:29.277Z"
   },
   {
    "duration": 501,
    "start_time": "2021-12-28T19:55:29.286Z"
   },
   {
    "duration": 495,
    "start_time": "2021-12-28T19:55:29.294Z"
   },
   {
    "duration": 477,
    "start_time": "2021-12-28T19:55:29.313Z"
   },
   {
    "duration": 471,
    "start_time": "2021-12-28T19:55:29.321Z"
   },
   {
    "duration": 467,
    "start_time": "2021-12-28T19:55:29.326Z"
   },
   {
    "duration": 464,
    "start_time": "2021-12-28T19:55:29.331Z"
   },
   {
    "duration": 459,
    "start_time": "2021-12-28T19:55:29.337Z"
   },
   {
    "duration": 455,
    "start_time": "2021-12-28T19:55:29.342Z"
   },
   {
    "duration": 448,
    "start_time": "2021-12-28T19:55:29.350Z"
   },
   {
    "duration": 439,
    "start_time": "2021-12-28T19:55:29.361Z"
   },
   {
    "duration": 431,
    "start_time": "2021-12-28T19:55:29.370Z"
   },
   {
    "duration": 424,
    "start_time": "2021-12-28T19:55:29.378Z"
   },
   {
    "duration": 417,
    "start_time": "2021-12-28T19:55:29.386Z"
   },
   {
    "duration": 410,
    "start_time": "2021-12-28T19:55:29.395Z"
   },
   {
    "duration": 402,
    "start_time": "2021-12-28T19:55:29.404Z"
   },
   {
    "duration": 387,
    "start_time": "2021-12-28T19:55:29.421Z"
   },
   {
    "duration": 3,
    "start_time": "2021-12-28T19:55:59.179Z"
   },
   {
    "duration": 2129,
    "start_time": "2021-12-28T19:56:01.863Z"
   },
   {
    "duration": 102,
    "start_time": "2021-12-28T19:56:43.010Z"
   },
   {
    "duration": 25,
    "start_time": "2021-12-28T19:56:57.260Z"
   },
   {
    "duration": 17,
    "start_time": "2021-12-28T19:57:22.966Z"
   },
   {
    "duration": 21,
    "start_time": "2021-12-28T19:57:35.659Z"
   },
   {
    "duration": 6,
    "start_time": "2021-12-28T19:58:19.756Z"
   },
   {
    "duration": 49,
    "start_time": "2021-12-28T19:58:24.319Z"
   },
   {
    "duration": 6,
    "start_time": "2021-12-28T19:59:04.032Z"
   },
   {
    "duration": 7,
    "start_time": "2021-12-28T19:59:14.720Z"
   },
   {
    "duration": 15,
    "start_time": "2021-12-28T19:59:17.114Z"
   },
   {
    "duration": 23,
    "start_time": "2021-12-28T19:59:34.689Z"
   },
   {
    "duration": 28,
    "start_time": "2021-12-28T19:59:40.185Z"
   },
   {
    "duration": 7,
    "start_time": "2021-12-28T19:59:56.207Z"
   },
   {
    "duration": 40,
    "start_time": "2021-12-28T20:00:17.094Z"
   },
   {
    "duration": 25,
    "start_time": "2021-12-28T20:00:20.240Z"
   },
   {
    "duration": 6,
    "start_time": "2021-12-28T20:00:33.929Z"
   },
   {
    "duration": 1196,
    "start_time": "2021-12-28T20:01:23.097Z"
   },
   {
    "duration": 948,
    "start_time": "2021-12-28T20:01:45.089Z"
   },
   {
    "duration": 955,
    "start_time": "2021-12-28T20:05:20.865Z"
   },
   {
    "duration": 5260,
    "start_time": "2021-12-28T20:05:59.140Z"
   },
   {
    "duration": 60,
    "start_time": "2021-12-28T20:06:25.273Z"
   },
   {
    "duration": 10,
    "start_time": "2021-12-28T20:06:45.642Z"
   },
   {
    "duration": 439,
    "start_time": "2021-12-28T20:06:57.202Z"
   },
   {
    "duration": 40,
    "start_time": "2021-12-28T20:07:36.006Z"
   },
   {
    "duration": 30,
    "start_time": "2021-12-28T20:07:42.087Z"
   },
   {
    "duration": 403,
    "start_time": "2021-12-28T20:08:03.213Z"
   },
   {
    "duration": 32,
    "start_time": "2021-12-28T20:08:26.907Z"
   },
   {
    "duration": 29,
    "start_time": "2021-12-28T20:09:56.251Z"
   },
   {
    "duration": 272,
    "start_time": "2021-12-28T20:13:38.523Z"
   },
   {
    "duration": 311,
    "start_time": "2021-12-28T20:13:52.754Z"
   },
   {
    "duration": 268,
    "start_time": "2021-12-28T20:14:11.493Z"
   },
   {
    "duration": 8,
    "start_time": "2021-12-28T20:14:28.533Z"
   },
   {
    "duration": 21,
    "start_time": "2021-12-28T20:17:23.881Z"
   },
   {
    "duration": 28,
    "start_time": "2021-12-28T20:17:39.803Z"
   },
   {
    "duration": 29,
    "start_time": "2021-12-28T20:18:29.960Z"
   },
   {
    "duration": 1102,
    "start_time": "2021-12-29T18:32:32.371Z"
   },
   {
    "duration": 103,
    "start_time": "2021-12-29T18:32:33.476Z"
   },
   {
    "duration": 13,
    "start_time": "2021-12-29T18:32:33.582Z"
   },
   {
    "duration": 22,
    "start_time": "2021-12-29T18:32:33.597Z"
   },
   {
    "duration": 5,
    "start_time": "2021-12-29T18:32:33.621Z"
   },
   {
    "duration": 80,
    "start_time": "2021-12-29T18:32:33.628Z"
   },
   {
    "duration": 5,
    "start_time": "2021-12-29T18:32:33.710Z"
   },
   {
    "duration": 47,
    "start_time": "2021-12-29T18:32:33.717Z"
   },
   {
    "duration": 16,
    "start_time": "2021-12-29T18:32:33.769Z"
   },
   {
    "duration": 20,
    "start_time": "2021-12-29T18:32:33.788Z"
   },
   {
    "duration": 72,
    "start_time": "2021-12-29T18:32:33.811Z"
   },
   {
    "duration": 8,
    "start_time": "2021-12-29T18:32:33.886Z"
   },
   {
    "duration": 75,
    "start_time": "2021-12-29T18:32:33.896Z"
   },
   {
    "duration": 25,
    "start_time": "2021-12-29T18:32:33.974Z"
   },
   {
    "duration": 6,
    "start_time": "2021-12-29T18:32:34.002Z"
   },
   {
    "duration": 956,
    "start_time": "2021-12-29T18:32:34.011Z"
   },
   {
    "duration": 5418,
    "start_time": "2021-12-29T18:32:34.971Z"
   },
   {
    "duration": 10,
    "start_time": "2021-12-29T18:32:40.392Z"
   },
   {
    "duration": 435,
    "start_time": "2021-12-29T18:32:40.405Z"
   },
   {
    "duration": 47,
    "start_time": "2021-12-29T18:32:40.842Z"
   },
   {
    "duration": 7,
    "start_time": "2021-12-29T18:32:40.892Z"
   },
   {
    "duration": 29,
    "start_time": "2021-12-29T18:32:40.901Z"
   },
   {
    "duration": 56,
    "start_time": "2021-12-29T18:32:40.933Z"
   },
   {
    "duration": 395,
    "start_time": "2021-12-29T18:32:40.991Z"
   },
   {
    "duration": 34,
    "start_time": "2021-12-29T18:32:41.389Z"
   },
   {
    "duration": 48,
    "start_time": "2021-12-29T18:32:41.425Z"
   }
  ],
  "kernelspec": {
   "display_name": "Python 3 (ipykernel)",
   "language": "python",
   "name": "python3"
  },
  "language_info": {
   "codemirror_mode": {
    "name": "ipython",
    "version": 3
   },
   "file_extension": ".py",
   "mimetype": "text/x-python",
   "name": "python",
   "nbconvert_exporter": "python",
   "pygments_lexer": "ipython3",
   "version": "3.9.9"
  },
  "toc": {
   "base_numbering": 1,
   "nav_menu": {},
   "number_sections": true,
   "sideBar": true,
   "skip_h1_title": true,
   "title_cell": "Table of Contents",
   "title_sidebar": "Contents",
   "toc_cell": false,
   "toc_position": {},
   "toc_section_display": true,
   "toc_window_display": false
  }
 },
 "nbformat": 4,
 "nbformat_minor": 2
}
