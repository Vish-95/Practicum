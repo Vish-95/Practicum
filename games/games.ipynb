{
 "cells": [
  {
   "cell_type": "markdown",
   "metadata": {},
   "source": [
    "### Описание проекта"
   ]
  },
  {
   "cell_type": "markdown",
   "metadata": {},
   "source": [
    "Вы работаете в интернет-магазине, который продаёт по всему миру компьютерные игры. Из открытых источников доступны исторические данные о продажах игр, оценки пользователей и экспертов, жанры и платформы (например, Xbox или PlayStation). Необходимо выявить определяющие успешность игры закономерности. Это позволит сделать ставку на потенциально популярный продукт и спланировать рекламные кампании."
   ]
  },
  {
   "cell_type": "markdown",
   "metadata": {},
   "source": [
    "### Изучение данных из файла"
   ]
  },
  {
   "cell_type": "code",
   "execution_count": 1,
   "metadata": {},
   "outputs": [],
   "source": [
    "import pandas as pd\n",
    "import seaborn as sns\n",
    "import numpy as np\n",
    "import matplotlib.pyplot as plt\n",
    "from scipy import stats as st"
   ]
  },
  {
   "cell_type": "code",
   "execution_count": 3,
   "metadata": {
    "scrolled": true
   },
   "outputs": [
    {
     "data": {
      "text/html": [
       "<div>\n",
       "<style scoped>\n",
       "    .dataframe tbody tr th:only-of-type {\n",
       "        vertical-align: middle;\n",
       "    }\n",
       "\n",
       "    .dataframe tbody tr th {\n",
       "        vertical-align: top;\n",
       "    }\n",
       "\n",
       "    .dataframe thead th {\n",
       "        text-align: right;\n",
       "    }\n",
       "</style>\n",
       "<table border=\"1\" class=\"dataframe\">\n",
       "  <thead>\n",
       "    <tr style=\"text-align: right;\">\n",
       "      <th></th>\n",
       "      <th>Name</th>\n",
       "      <th>Platform</th>\n",
       "      <th>Year_of_Release</th>\n",
       "      <th>Genre</th>\n",
       "      <th>NA_sales</th>\n",
       "      <th>EU_sales</th>\n",
       "      <th>JP_sales</th>\n",
       "      <th>Other_sales</th>\n",
       "      <th>Critic_Score</th>\n",
       "      <th>User_Score</th>\n",
       "      <th>Rating</th>\n",
       "    </tr>\n",
       "  </thead>\n",
       "  <tbody>\n",
       "    <tr>\n",
       "      <th>0</th>\n",
       "      <td>Wii Sports</td>\n",
       "      <td>Wii</td>\n",
       "      <td>2006.0</td>\n",
       "      <td>Sports</td>\n",
       "      <td>41.36</td>\n",
       "      <td>28.96</td>\n",
       "      <td>3.77</td>\n",
       "      <td>8.45</td>\n",
       "      <td>76.0</td>\n",
       "      <td>8</td>\n",
       "      <td>E</td>\n",
       "    </tr>\n",
       "    <tr>\n",
       "      <th>1</th>\n",
       "      <td>Super Mario Bros.</td>\n",
       "      <td>NES</td>\n",
       "      <td>1985.0</td>\n",
       "      <td>Platform</td>\n",
       "      <td>29.08</td>\n",
       "      <td>3.58</td>\n",
       "      <td>6.81</td>\n",
       "      <td>0.77</td>\n",
       "      <td>NaN</td>\n",
       "      <td>NaN</td>\n",
       "      <td>NaN</td>\n",
       "    </tr>\n",
       "    <tr>\n",
       "      <th>2</th>\n",
       "      <td>Mario Kart Wii</td>\n",
       "      <td>Wii</td>\n",
       "      <td>2008.0</td>\n",
       "      <td>Racing</td>\n",
       "      <td>15.68</td>\n",
       "      <td>12.76</td>\n",
       "      <td>3.79</td>\n",
       "      <td>3.29</td>\n",
       "      <td>82.0</td>\n",
       "      <td>8.3</td>\n",
       "      <td>E</td>\n",
       "    </tr>\n",
       "    <tr>\n",
       "      <th>3</th>\n",
       "      <td>Wii Sports Resort</td>\n",
       "      <td>Wii</td>\n",
       "      <td>2009.0</td>\n",
       "      <td>Sports</td>\n",
       "      <td>15.61</td>\n",
       "      <td>10.93</td>\n",
       "      <td>3.28</td>\n",
       "      <td>2.95</td>\n",
       "      <td>80.0</td>\n",
       "      <td>8</td>\n",
       "      <td>E</td>\n",
       "    </tr>\n",
       "    <tr>\n",
       "      <th>4</th>\n",
       "      <td>Pokemon Red/Pokemon Blue</td>\n",
       "      <td>GB</td>\n",
       "      <td>1996.0</td>\n",
       "      <td>Role-Playing</td>\n",
       "      <td>11.27</td>\n",
       "      <td>8.89</td>\n",
       "      <td>10.22</td>\n",
       "      <td>1.00</td>\n",
       "      <td>NaN</td>\n",
       "      <td>NaN</td>\n",
       "      <td>NaN</td>\n",
       "    </tr>\n",
       "  </tbody>\n",
       "</table>\n",
       "</div>"
      ],
      "text/plain": [
       "                       Name Platform  Year_of_Release         Genre  NA_sales  \\\n",
       "0                Wii Sports      Wii           2006.0        Sports     41.36   \n",
       "1         Super Mario Bros.      NES           1985.0      Platform     29.08   \n",
       "2            Mario Kart Wii      Wii           2008.0        Racing     15.68   \n",
       "3         Wii Sports Resort      Wii           2009.0        Sports     15.61   \n",
       "4  Pokemon Red/Pokemon Blue       GB           1996.0  Role-Playing     11.27   \n",
       "\n",
       "   EU_sales  JP_sales  Other_sales  Critic_Score User_Score Rating  \n",
       "0     28.96      3.77         8.45          76.0          8      E  \n",
       "1      3.58      6.81         0.77           NaN        NaN    NaN  \n",
       "2     12.76      3.79         3.29          82.0        8.3      E  \n",
       "3     10.93      3.28         2.95          80.0          8      E  \n",
       "4      8.89     10.22         1.00           NaN        NaN    NaN  "
      ]
     },
     "execution_count": 3,
     "metadata": {},
     "output_type": "execute_result"
    }
   ],
   "source": [
    "df = pd.read_csv('games.csv')\n",
    "df.head()"
   ]
  },
  {
   "cell_type": "code",
   "execution_count": 4,
   "metadata": {
    "scrolled": true
   },
   "outputs": [
    {
     "name": "stdout",
     "output_type": "stream",
     "text": [
      "<class 'pandas.core.frame.DataFrame'>\n",
      "RangeIndex: 16715 entries, 0 to 16714\n",
      "Data columns (total 11 columns):\n",
      " #   Column           Non-Null Count  Dtype  \n",
      "---  ------           --------------  -----  \n",
      " 0   Name             16713 non-null  object \n",
      " 1   Platform         16715 non-null  object \n",
      " 2   Year_of_Release  16446 non-null  float64\n",
      " 3   Genre            16713 non-null  object \n",
      " 4   NA_sales         16715 non-null  float64\n",
      " 5   EU_sales         16715 non-null  float64\n",
      " 6   JP_sales         16715 non-null  float64\n",
      " 7   Other_sales      16715 non-null  float64\n",
      " 8   Critic_Score     8137 non-null   float64\n",
      " 9   User_Score       10014 non-null  object \n",
      " 10  Rating           9949 non-null   object \n",
      "dtypes: float64(6), object(5)\n",
      "memory usage: 1.4+ MB\n"
     ]
    }
   ],
   "source": [
    "df.info()"
   ]
  },
  {
   "cell_type": "markdown",
   "metadata": {},
   "source": [
    "Согласно документации к данным:\n",
    "- `Name` — название игры\n",
    "- `Platform` — платформа\n",
    "- `Year_of_Release` — год выпуска\n",
    "- `Genre` — жанр игры\n",
    "- `NA_sales` — продажи в Северной Америке (миллионы проданных копий)\n",
    "- `EU_sales` — продажи в Европе (миллионы проданных копий)\n",
    "- `JP_sales` — продажи в Японии (миллионы проданных копий)\n",
    "- `Other_sales` — продажи в других странах (миллионы проданных копий)\n",
    "- `Critic_Score` — оценка критиков (максимум 100)\n",
    "- `User_Score` — оценка пользователей (максимум 10)\n",
    "- `Rating` — рейтинг от организации ESRB (англ. Entertainment Software Rating Board). Эта ассоциация определяет рейтинг компьютерных игр и присваивает им подходящую возрастную категорию.\n",
    "\n",
    "*Данные за 2016 год могут быть неполными.\n"
   ]
  },
  {
   "cell_type": "markdown",
   "metadata": {},
   "source": [
    "**Вывод**"
   ]
  },
  {
   "cell_type": "markdown",
   "metadata": {},
   "source": [
    "В датафрейме присутвуют пераметры двух типов — object, float64; на первый взгляд требуется привести к другому типу столбцы `Year_of_Release` и `User_Score`.\n",
    "\n",
    "Пропуски типа `NaN` содержатся в данных: \n",
    "- Name, \n",
    "- Year_of_Release, \n",
    "- Genre,\n",
    "- Critic_Score,\n",
    "- User_Score, Rating. \n",
    "\n",
    "Пропуски в столбце `Name` носят случайный характер, скорее всего в столбце `Genre` данные пропущенны из-за отсутвия названия (`Name`), так как пропущенные значения в этих столбцах содержатся только в двух записях, можно их удалить. Остальные пропуски в данных на первый взгляд можно оставить без изменений."
   ]
  },
  {
   "cell_type": "markdown",
   "metadata": {},
   "source": [
    "### Предобработка данных"
   ]
  },
  {
   "cell_type": "markdown",
   "metadata": {},
   "source": [
    "Приведём названия столбцов в датафрейме к нижнему регистру:"
   ]
  },
  {
   "cell_type": "code",
   "execution_count": 5,
   "metadata": {},
   "outputs": [
    {
     "data": {
      "text/html": [
       "<div>\n",
       "<style scoped>\n",
       "    .dataframe tbody tr th:only-of-type {\n",
       "        vertical-align: middle;\n",
       "    }\n",
       "\n",
       "    .dataframe tbody tr th {\n",
       "        vertical-align: top;\n",
       "    }\n",
       "\n",
       "    .dataframe thead th {\n",
       "        text-align: right;\n",
       "    }\n",
       "</style>\n",
       "<table border=\"1\" class=\"dataframe\">\n",
       "  <thead>\n",
       "    <tr style=\"text-align: right;\">\n",
       "      <th></th>\n",
       "      <th>name</th>\n",
       "      <th>platform</th>\n",
       "      <th>year_of_release</th>\n",
       "      <th>genre</th>\n",
       "      <th>na_sales</th>\n",
       "      <th>eu_sales</th>\n",
       "      <th>jp_sales</th>\n",
       "      <th>other_sales</th>\n",
       "      <th>critic_score</th>\n",
       "      <th>user_score</th>\n",
       "      <th>rating</th>\n",
       "    </tr>\n",
       "  </thead>\n",
       "  <tbody>\n",
       "    <tr>\n",
       "      <th>0</th>\n",
       "      <td>Wii Sports</td>\n",
       "      <td>Wii</td>\n",
       "      <td>2006.0</td>\n",
       "      <td>Sports</td>\n",
       "      <td>41.36</td>\n",
       "      <td>28.96</td>\n",
       "      <td>3.77</td>\n",
       "      <td>8.45</td>\n",
       "      <td>76.0</td>\n",
       "      <td>8</td>\n",
       "      <td>E</td>\n",
       "    </tr>\n",
       "    <tr>\n",
       "      <th>1</th>\n",
       "      <td>Super Mario Bros.</td>\n",
       "      <td>NES</td>\n",
       "      <td>1985.0</td>\n",
       "      <td>Platform</td>\n",
       "      <td>29.08</td>\n",
       "      <td>3.58</td>\n",
       "      <td>6.81</td>\n",
       "      <td>0.77</td>\n",
       "      <td>NaN</td>\n",
       "      <td>NaN</td>\n",
       "      <td>NaN</td>\n",
       "    </tr>\n",
       "    <tr>\n",
       "      <th>2</th>\n",
       "      <td>Mario Kart Wii</td>\n",
       "      <td>Wii</td>\n",
       "      <td>2008.0</td>\n",
       "      <td>Racing</td>\n",
       "      <td>15.68</td>\n",
       "      <td>12.76</td>\n",
       "      <td>3.79</td>\n",
       "      <td>3.29</td>\n",
       "      <td>82.0</td>\n",
       "      <td>8.3</td>\n",
       "      <td>E</td>\n",
       "    </tr>\n",
       "    <tr>\n",
       "      <th>3</th>\n",
       "      <td>Wii Sports Resort</td>\n",
       "      <td>Wii</td>\n",
       "      <td>2009.0</td>\n",
       "      <td>Sports</td>\n",
       "      <td>15.61</td>\n",
       "      <td>10.93</td>\n",
       "      <td>3.28</td>\n",
       "      <td>2.95</td>\n",
       "      <td>80.0</td>\n",
       "      <td>8</td>\n",
       "      <td>E</td>\n",
       "    </tr>\n",
       "    <tr>\n",
       "      <th>4</th>\n",
       "      <td>Pokemon Red/Pokemon Blue</td>\n",
       "      <td>GB</td>\n",
       "      <td>1996.0</td>\n",
       "      <td>Role-Playing</td>\n",
       "      <td>11.27</td>\n",
       "      <td>8.89</td>\n",
       "      <td>10.22</td>\n",
       "      <td>1.00</td>\n",
       "      <td>NaN</td>\n",
       "      <td>NaN</td>\n",
       "      <td>NaN</td>\n",
       "    </tr>\n",
       "  </tbody>\n",
       "</table>\n",
       "</div>"
      ],
      "text/plain": [
       "                       name platform  year_of_release         genre  na_sales  \\\n",
       "0                Wii Sports      Wii           2006.0        Sports     41.36   \n",
       "1         Super Mario Bros.      NES           1985.0      Platform     29.08   \n",
       "2            Mario Kart Wii      Wii           2008.0        Racing     15.68   \n",
       "3         Wii Sports Resort      Wii           2009.0        Sports     15.61   \n",
       "4  Pokemon Red/Pokemon Blue       GB           1996.0  Role-Playing     11.27   \n",
       "\n",
       "   eu_sales  jp_sales  other_sales  critic_score user_score rating  \n",
       "0     28.96      3.77         8.45          76.0          8      E  \n",
       "1      3.58      6.81         0.77           NaN        NaN    NaN  \n",
       "2     12.76      3.79         3.29          82.0        8.3      E  \n",
       "3     10.93      3.28         2.95          80.0          8      E  \n",
       "4      8.89     10.22         1.00           NaN        NaN    NaN  "
      ]
     },
     "execution_count": 5,
     "metadata": {},
     "output_type": "execute_result"
    }
   ],
   "source": [
    "df.columns = df.columns.str.lower()\n",
    "df.head()"
   ]
  },
  {
   "cell_type": "markdown",
   "metadata": {},
   "source": [
    "**Замена типов данных**"
   ]
  },
  {
   "cell_type": "markdown",
   "metadata": {},
   "source": [
    "Приведём переменную `year_of_release` к целочисленному типу: "
   ]
  },
  {
   "cell_type": "code",
   "execution_count": 9,
   "metadata": {},
   "outputs": [],
   "source": [
    "df['year_of_release'] = df['year_of_release'].astype('Int64')"
   ]
  },
  {
   "cell_type": "markdown",
   "metadata": {},
   "source": [
    "Заменим тип данных в столбцах `year_of_release`:"
   ]
  },
  {
   "cell_type": "code",
   "execution_count": 11,
   "metadata": {
    "scrolled": false
   },
   "outputs": [],
   "source": [
    "df['user_score'] = pd.to_numeric(df['user_score'], errors='coerce')"
   ]
  },
  {
   "cell_type": "markdown",
   "metadata": {},
   "source": [
    "**Обработка пропусков**"
   ]
  },
  {
   "cell_type": "code",
   "execution_count": 12,
   "metadata": {
    "scrolled": true
   },
   "outputs": [
    {
     "data": {
      "text/plain": [
       "name                  2\n",
       "platform              0\n",
       "year_of_release     269\n",
       "genre                 2\n",
       "na_sales              0\n",
       "eu_sales              0\n",
       "jp_sales              0\n",
       "other_sales           0\n",
       "critic_score       8578\n",
       "user_score         9125\n",
       "rating             6766\n",
       "dtype: int64"
      ]
     },
     "execution_count": 12,
     "metadata": {},
     "output_type": "execute_result"
    }
   ],
   "source": [
    "df.isna().sum()"
   ]
  },
  {
   "cell_type": "code",
   "execution_count": 13,
   "metadata": {},
   "outputs": [],
   "source": [
    "# Удалим строки с пропущенными значеними в столбцах name и genre\n",
    "df = df.dropna(subset=['name', 'genre']).reset_index(drop=True)"
   ]
  },
  {
   "cell_type": "markdown",
   "metadata": {},
   "source": [
    "Посмотрим как распределны пропуски по `year_of_release` в зависимости от платформы:"
   ]
  },
  {
   "cell_type": "markdown",
   "metadata": {},
   "source": [
    "**Посчитаем суммарные продажи во всех регионах и сохраним в столбец `sum_sale`**"
   ]
  },
  {
   "cell_type": "code",
   "execution_count": 14,
   "metadata": {},
   "outputs": [],
   "source": [
    "df['sum_sale'] = df[['na_sales', 'eu_sales', 'jp_sales', 'other_sales']].sum(axis=1)"
   ]
  },
  {
   "cell_type": "markdown",
   "metadata": {},
   "source": [
    "**Вывод**"
   ]
  },
  {
   "cell_type": "markdown",
   "metadata": {},
   "source": [
    "В столбце `user_score` есть нечисловое значение `tbd` — оценка ещё не выставлена (возможно потому, что данные ещё собираются). По построенной круговой диаграмме видно, как распределяются доли оценок пользователей 'tbd', можно выделить 2007-2011 гг. как года с наибольшим количеством. \n",
    "\n",
    "При приведении переменной к числовому типу, значения `tbd` были заменены на значения `NaN`.\n"
   ]
  },
  {
   "cell_type": "markdown",
   "metadata": {},
   "source": [
    "### EDA"
   ]
  },
  {
   "cell_type": "markdown",
   "metadata": {},
   "source": [
    "Посмотрим сколько игр выпускалось в разные годы:"
   ]
  },
  {
   "cell_type": "code",
   "execution_count": 15,
   "metadata": {
    "scrolled": false
   },
   "outputs": [],
   "source": [
    "# Сводная таблица количество выпущенных игр в год \n",
    "pivot_table_year = df.pivot_table(index='year_of_release', values='name', aggfunc=('count')).reset_index()"
   ]
  },
  {
   "cell_type": "code",
   "execution_count": 16,
   "metadata": {
    "scrolled": false
   },
   "outputs": [
    {
     "data": {
      "text/plain": [
       "<AxesSubplot:title={'center':'Количество выпущенных игр в год'}, xlabel='year_of_release'>"
      ]
     },
     "execution_count": 16,
     "metadata": {},
     "output_type": "execute_result"
    },
    {
     "data": {
      "image/png": "[encoded data removed]",
      "text/plain": [
       "<Figure size 864x432 with 1 Axes>"
      ]
     },
     "metadata": {
      "needs_background": "light"
     },
     "output_type": "display_data"
    },
    {
     "data": {
      "image/png": "[encoded data removed]",
      "text/plain": [
       "<Figure size 864x432 with 1 Axes>"
      ]
     },
     "metadata": {
      "needs_background": "light"
     },
     "output_type": "display_data"
    }
   ],
   "source": [
    "# Построение графика по сводной таблице pivot_table_year\n",
    "pivot_table_year.plot(x='year_of_release', y='name', title='Количество выпущенных игр в год', figsize=(12,6))\n",
    "pivot_table_year.plot(x='year_of_release', y='name', title='Количество выпущенных игр в год', kind='bar', figsize=(12,6))"
   ]
  },
  {
   "cell_type": "markdown",
   "metadata": {},
   "source": [
    "Из графика видно, что самое большое количество игр было выпущенно в период с 2006 по 2010, а пик приходится на 2008 год.\n",
    "\n",
    "Количество выпущенных игр в период с 1980 - 1994 в среднем 32 игры в год, это может быть связано с началом развития этого направления технологий, вряд ли этот период будет полезен для анализа данных и решения поставленной задачи, поэтому далее будем рассматривать данные за 1995 - по 2016:"
   ]
  },
  {
   "cell_type": "code",
   "execution_count": 17,
   "metadata": {},
   "outputs": [],
   "source": [
    "# Срез данных по году выпуска игр\n",
    "df = df.query('year_of_release >= 1995')"
   ]
  },
  {
   "cell_type": "markdown",
   "metadata": {},
   "source": [
    "Продажи по платформам:"
   ]
  },
  {
   "cell_type": "code",
   "execution_count": 18,
   "metadata": {},
   "outputs": [
    {
     "data": {
      "text/plain": [
       "<AxesSubplot:title={'center':'Распределение продаж в зависимости от платформы'}, xlabel='platform'>"
      ]
     },
     "execution_count": 18,
     "metadata": {},
     "output_type": "execute_result"
    },
    {
     "data": {
      "image/png": "[encoded data removed]",
      "text/plain": [
       "<Figure size 864x432 with 1 Axes>"
      ]
     },
     "metadata": {
      "needs_background": "light"
     },
     "output_type": "display_data"
    }
   ],
   "source": [
    "df.pivot_table(index='platform', values='sum_sale', aggfunc=('sum')\n",
    "              ).reset_index().sort_values(by='sum_sale').plot(x='platform', y='sum_sale', kind='bar', \n",
    "                                   title='Распределение продаж в зависимости от платформы', figsize=(12,6))"
   ]
  },
  {
   "cell_type": "markdown",
   "metadata": {},
   "source": [
    "Из графика распределения сумарных продаж в зависимости от платформы можно выделить несколько платформ с высокими продажами: DS, PS, PS2, PS3, Wii, X360. Посмотрим как для данных платформ распределяются сумарные продажи по годам:"
   ]
  },
  {
   "cell_type": "code",
   "execution_count": 20,
   "metadata": {},
   "outputs": [
    {
     "data": {
      "image/png": "[encoded data removed]",
      "text/plain": [
       "<Figure size 720x432 with 6 Axes>"
      ]
     },
     "metadata": {
      "needs_background": "light"
     },
     "output_type": "display_data"
    }
   ],
   "source": [
    "fig, axes = plt.subplots(2,3,figsize=(10, 6), sharey=True)\n",
    "\n",
    "for reg, ax in zip(['DS', 'PS', 'PS2', 'PS3', 'Wii', 'X360'],axes.flat):\n",
    "     data = df.query('platform == @reg')\n",
    "     data.pivot_table(index='year_of_release', values='sum_sale', aggfunc='sum').plot(kind='bar',title=reg, ax=ax)\n",
    "     ax.set_ylabel('sales')\n",
    "    \n",
    "plt.tight_layout()"
   ]
  },
  {
   "cell_type": "markdown",
   "metadata": {},
   "source": [
    "**Вывод**"
   ]
  },
  {
   "cell_type": "markdown",
   "metadata": {},
   "source": [
    "Сумарные продажи по отобранным платформам:\n",
    "\n",
    "- Для платформы DS продажи резко выросли в 2005 г. и достигли максимума в 2007 г., за тем постпенно начали убывать и к 2013 г. практически достигли первоначальных объемов;\n",
    "- У платформы PS пик продаж приходится на 1998 г. Рост начался с 1994 г. и максимальный спад на 2003 и это последний год;\n",
    "- Для платформы PS2 продажи начинаются с 2000 г., пик приходится на 2002 г., в 2011г. продажи прекращаются;\n",
    "- Для платформы PS3 продажи начинаются в 2006 г., пик суммарных продаж приходится на 2011 г. далее продажи снижаюся и в 2016 г. продажи ниже чем вначале.\n",
    "- Для платформы Wii продажи начинаются в2006 г., постепенный рост и пик достигается в 2009, к 2011 году резкий спад продаж, в 2016 году минимальные продажи.\n",
    "- Для платформы X360 период продаж 2005 - 2016 г. Пик продаж в 2010 г.\n",
    "\n",
    "Поскольку данные за 2016 год не полные, не будем делать вывод о суммарных продажах опираясь на этот год.\n",
    " \n",
    "Можно заметить, что платформы PS, PS2, PS3  появляются с разницей в 6 лет. \n",
    "\n",
    "После 2011 г. происходит резкий спад количества выпущенных игр в год. Также из построенных гистограмм для среза данных по платформам видно, что с 2012 падают сумарные продажи. Для построения прогноза на 2017 год далее будем исследовать данные за 2012-2016 гг."
   ]
  },
  {
   "cell_type": "code",
   "execution_count": 21,
   "metadata": {},
   "outputs": [],
   "source": [
    "# срез данных 2012-2016 гг.\n",
    "df = df.query('year_of_release >= 2012')"
   ]
  },
  {
   "cell_type": "code",
   "execution_count": 22,
   "metadata": {},
   "outputs": [
    {
     "data": {
      "text/plain": [
       "<AxesSubplot:title={'center':'Распределение продаж в зависимости от платформы'}, xlabel='platform'>"
      ]
     },
     "execution_count": 22,
     "metadata": {},
     "output_type": "execute_result"
    },
    {
     "data": {
      "image/png": "[encoded data removed]",
      "text/plain": [
       "<Figure size 864x432 with 1 Axes>"
      ]
     },
     "metadata": {
      "needs_background": "light"
     },
     "output_type": "display_data"
    }
   ],
   "source": [
    "df.pivot_table(index='platform', values='sum_sale', aggfunc=('sum')\n",
    "              ).reset_index().sort_values(by='sum_sale').plot(x='platform', y='sum_sale', kind='bar', \n",
    "                                   title='Распределение продаж в зависимости от платформы', figsize=(12, 6))"
   ]
  },
  {
   "cell_type": "code",
   "execution_count": 23,
   "metadata": {
    "scrolled": true
   },
   "outputs": [
    {
     "data": {
      "image/png": "[encoded data removed]",
      "text/plain": [
       "<Figure size 432x288 with 1 Axes>"
      ]
     },
     "metadata": {
      "needs_background": "light"
     },
     "output_type": "display_data"
    },
    {
     "data": {
      "image/png": "[encoded data removed]",
      "text/plain": [
       "<Figure size 432x288 with 1 Axes>"
      ]
     },
     "metadata": {
      "needs_background": "light"
     },
     "output_type": "display_data"
    },
    {
     "data": {
      "image/png": "[encoded data removed]",
      "text/plain": [
       "<Figure size 432x288 with 1 Axes>"
      ]
     },
     "metadata": {
      "needs_background": "light"
     },
     "output_type": "display_data"
    },
    {
     "data": {
      "image/png": "[encoded data removed]",
      "text/plain": [
       "<Figure size 432x288 with 1 Axes>"
      ]
     },
     "metadata": {
      "needs_background": "light"
     },
     "output_type": "display_data"
    },
    {
     "data": {
      "image/png": "[encoded data removed]",
      "text/plain": [
       "<Figure size 432x288 with 1 Axes>"
      ]
     },
     "metadata": {
      "needs_background": "light"
     },
     "output_type": "display_data"
    },
    {
     "data": {
      "image/png": "[encoded data removed]",
      "text/plain": [
       "<Figure size 432x288 with 1 Axes>"
      ]
     },
     "metadata": {
      "needs_background": "light"
     },
     "output_type": "display_data"
    },
    {
     "data": {
      "image/png": "[encoded data removed]",
      "text/plain": [
       "<Figure size 432x288 with 1 Axes>"
      ]
     },
     "metadata": {
      "needs_background": "light"
     },
     "output_type": "display_data"
    },
    {
     "data": {
      "image/png": "[encoded data removed]",
      "text/plain": [
       "<Figure size 432x288 with 1 Axes>"
      ]
     },
     "metadata": {
      "needs_background": "light"
     },
     "output_type": "display_data"
    },
    {
     "data": {
      "image/png": "[encoded data removed]",
      "text/plain": [
       "<Figure size 432x288 with 1 Axes>"
      ]
     },
     "metadata": {
      "needs_background": "light"
     },
     "output_type": "display_data"
    },
    {
     "data": {
      "image/png": "[encoded data removed]",
      "text/plain": [
       "<Figure size 432x288 with 1 Axes>"
      ]
     },
     "metadata": {
      "needs_background": "light"
     },
     "output_type": "display_data"
    },
    {
     "data": {
      "image/png": "[encoded data removed]",
      "text/plain": [
       "<Figure size 432x288 with 1 Axes>"
      ]
     },
     "metadata": {
      "needs_background": "light"
     },
     "output_type": "display_data"
    }
   ],
   "source": [
    "val_ls = df['platform'].unique()\n",
    "for val in val_ls:\n",
    "    data = df.query('platform == @val')\n",
    "    data.pivot_table(index='year_of_release', values='sum_sale', aggfunc='sum').reset_index().plot(\n",
    "        x='year_of_release', y='sum_sale', kind='bar', title = ('Сумарные продажи '+ val))"
   ]
  },
  {
   "cell_type": "markdown",
   "metadata": {},
   "source": [
    "**Вывод**\n",
    "- Продажи растут: PS4, XOne;\n",
    "- Продажи падают: PS3, X360, 3DS, WiiU, Wii, PC, PSV, PSP;\n",
    "- Платформы лидирующие по продажам за период 2012-2013 гг.: PS3, X360, PS4, XOne;\n",
    "\n",
    "Выберем потенциально прибыльные платформы (платформы чьи продажи растут): PS4, XOne."
   ]
  },
  {
   "cell_type": "markdown",
   "metadata": {},
   "source": [
    "**Постройте график «ящик с усами» по глобальным продажам игр в разбивке по платформам. Опишите результат.**"
   ]
  },
  {
   "cell_type": "code",
   "execution_count": 24,
   "metadata": {},
   "outputs": [],
   "source": [
    "data = df.query('platform.isin([\"PS3\", \"PS4\", \"XOne\"])')"
   ]
  },
  {
   "cell_type": "code",
   "execution_count": 25,
   "metadata": {},
   "outputs": [
    {
     "data": {
      "text/plain": [
       "(0.0, 5.0)"
      ]
     },
     "execution_count": 25,
     "metadata": {},
     "output_type": "execute_result"
    },
    {
     "data": {
      "image/png": "[encoded data removed]",
      "text/plain": [
       "<Figure size 864x432 with 2 Axes>"
      ]
     },
     "metadata": {
      "needs_background": "light"
     },
     "output_type": "display_data"
    }
   ],
   "source": [
    "fig, ax = plt.subplots(1, 2, sharex=False, figsize=(12, 6))\n",
    "\n",
    "fig.suptitle(\"продажи игр в разбивке по платформам\")\n",
    "sns.boxplot(ax=ax[0], data=data, x='sum_sale', y='platform')\n",
    "sns.boxplot(ax=ax[1], data=data, x='sum_sale', y='platform').set_xlim(0, 5)"
   ]
  },
  {
   "cell_type": "markdown",
   "metadata": {},
   "source": [
    "**Вывод**"
   ]
  },
  {
   "cell_type": "markdown",
   "metadata": {},
   "source": [
    "Из построенных графиков видно, что медианы по суммарным продажам у платформ — \"PS3\", \"PS4\", \"XOne\", практически  равны. На графике также видны выбросы, это игры с очень высокими продажами, именно за счет этих выбросов платформа зарабатывает основную часть дохода. \n"
   ]
  },
  {
   "cell_type": "markdown",
   "metadata": {},
   "source": [
    "**Среди потенциально успешных платформ выберем одну (`PS4`) и посмотрим, как влияют на продажи отзывы пользователей и критиков.**"
   ]
  },
  {
   "cell_type": "code",
   "execution_count": 26,
   "metadata": {
    "scrolled": false
   },
   "outputs": [
    {
     "data": {
      "text/plain": [
       "<AxesSubplot:title={'center':'user_score VS sum_sale'}, xlabel='user_score', ylabel='sum_sale'>"
      ]
     },
     "execution_count": 26,
     "metadata": {},
     "output_type": "execute_result"
    },
    {
     "data": {
      "image/png": "[encoded data removed]",
      "text/plain": [
       "<Figure size 864x432 with 2 Axes>"
      ]
     },
     "metadata": {
      "needs_background": "light"
     },
     "output_type": "display_data"
    }
   ],
   "source": [
    "# PS4\n",
    "data = df.query('platform == \"PS4\"')\n",
    "\n",
    "# Построим диаграмму рассеяния и посчитаем корреляцию между отзывами и продажами\n",
    "fig, ax = plt.subplots(1, 2, figsize=(12, 6))\n",
    "\n",
    "data.plot(y='sum_sale', x='critic_score', title='critic_score VS sum_sale', kind='scatter', alpha=0.5, ax=ax[0])\n",
    "data.plot(y='sum_sale', x='user_score', title='user_score VS sum_sale', kind='scatter', alpha=0.5, ax=ax[1])\n"
   ]
  },
  {
   "cell_type": "markdown",
   "metadata": {},
   "source": [
    "На диаграммах рассеиния заметны выбросы, для подсчёта коэффициента корреляции, удалим их из данных:"
   ]
  },
  {
   "cell_type": "code",
   "execution_count": 27,
   "metadata": {},
   "outputs": [],
   "source": [
    "data = data.query('sum_sale < 5')"
   ]
  },
  {
   "cell_type": "code",
   "execution_count": 28,
   "metadata": {
    "scrolled": true
   },
   "outputs": [
    {
     "name": "stdout",
     "output_type": "stream",
     "text": [
      "Корреляция между отзывами и продажами\n",
      "\n",
      "              critic_score  user_score  sum_sale\n",
      "critic_score      1.000000    0.582984   0.40208\n",
      "user_score        0.582984    1.000000   0.01458\n",
      "sum_sale          0.402080    0.014580   1.00000\n"
     ]
    }
   ],
   "source": [
    "print(\"Корреляция между отзывами и продажами\\n\", data[['critic_score', 'user_score', 'sum_sale']].corr(), sep='\\n')"
   ]
  },
  {
   "cell_type": "markdown",
   "metadata": {},
   "source": [
    "<!-- По диаграмме рассеяния между отзывами критиков и продажами можно увидеть зависимость, с увеличением оценки критиков появляется и рост продаж, об этом же нам говорит расчитанный коэффициент корреляции, равный 0.41, есть слабая прямолинейная зависимость.\n",
    "\n",
    "Кэффициент корреляции между отзывами пользователей и продажами равен -0.03 — взаимозависимость между параметрами слабая. -->"
   ]
  },
  {
   "cell_type": "markdown",
   "metadata": {},
   "source": [
    "Зависимость продаж игр от оценок пользователей и критиков на других платформах:"
   ]
  },
  {
   "cell_type": "code",
   "execution_count": 29,
   "metadata": {
    "scrolled": false
   },
   "outputs": [
    {
     "name": "stdout",
     "output_type": "stream",
     "text": [
      "PS3\n",
      "              critic_score  user_score  sum_sale\n",
      "critic_score      1.000000    0.563524  0.455296\n",
      "user_score        0.563524    1.000000  0.027896\n",
      "sum_sale          0.455296    0.027896  1.000000\n"
     ]
    },
    {
     "data": {
      "image/png": "[encoded data removed]",
      "text/plain": [
       "<Figure size 432x288 with 1 Axes>"
      ]
     },
     "metadata": {
      "needs_background": "light"
     },
     "output_type": "display_data"
    },
    {
     "data": {
      "image/png": "[encoded data removed]",
      "text/plain": [
       "<Figure size 432x288 with 1 Axes>"
      ]
     },
     "metadata": {
      "needs_background": "light"
     },
     "output_type": "display_data"
    },
    {
     "name": "stdout",
     "output_type": "stream",
     "text": [
      "XOne\n",
      "              critic_score  user_score  sum_sale\n",
      "critic_score      1.000000    0.471964  0.407140\n",
      "user_score        0.471964    1.000000 -0.085555\n",
      "sum_sale          0.407140   -0.085555  1.000000\n"
     ]
    },
    {
     "data": {
      "image/png": "[encoded data removed]",
      "text/plain": [
       "<Figure size 432x288 with 1 Axes>"
      ]
     },
     "metadata": {
      "needs_background": "light"
     },
     "output_type": "display_data"
    },
    {
     "data": {
      "image/png": "[encoded data removed]",
      "text/plain": [
       "<Figure size 432x288 with 1 Axes>"
      ]
     },
     "metadata": {
      "needs_background": "light"
     },
     "output_type": "display_data"
    }
   ],
   "source": [
    "data = df.query('platform.isin([\"PS3\", \"XOne\"])')\n",
    "\n",
    "for platform, games_on_platform in data.query('sum_sale < 5').groupby('platform'):\n",
    "    print(platform)   \n",
    "\n",
    "    games_on_platform.plot(kind='scatter', x='critic_score', y='sum_sale', alpha=0.5)\n",
    "    games_on_platform.plot(kind='scatter', x='user_score', y='sum_sale', alpha=0.5)\n",
    "\n",
    "    print(games_on_platform[['critic_score', 'user_score', 'sum_sale']].corr())\n",
    "    plt.show()"
   ]
  },
  {
   "cell_type": "markdown",
   "metadata": {},
   "source": [
    "**Вывод**"
   ]
  },
  {
   "cell_type": "markdown",
   "metadata": {},
   "source": [
    "Для платформ \"PS4\", \"PS3\", \"XOne\"\n",
    "\n",
    "- Рассчитанный коэффициент корреляции между продажами игр и оценкой пользователей очень низкий для всех платформ, что означает слабую прямолинейную зависимость между рассматриваемыми параметрами.\n",
    "\n",
    "- Рассчитанный коэффициент корреляции между продажами игр и оценкой критиков для всех платформ 0.4 - 0.45 , что может означать зависимость между рассматриваемыми параметрами.\n",
    "\n"
   ]
  },
  {
   "cell_type": "markdown",
   "metadata": {},
   "source": [
    " **Общее распределение игр по жанрам** "
   ]
  },
  {
   "cell_type": "code",
   "execution_count": 30,
   "metadata": {
    "scrolled": false
   },
   "outputs": [
    {
     "data": {
      "text/plain": [
       "<AxesSubplot:xlabel='genre'>"
      ]
     },
     "execution_count": 30,
     "metadata": {},
     "output_type": "execute_result"
    },
    {
     "data": {
      "image/png": "[encoded data removed]",
      "text/plain": [
       "<Figure size 432x288 with 1 Axes>"
      ]
     },
     "metadata": {
      "needs_background": "light"
     },
     "output_type": "display_data"
    }
   ],
   "source": [
    "# гистограмма распределения игр по жанрам\n",
    "df.pivot_table(index='genre', values='name', aggfunc=('count')).reset_index().sort_values(by='name').plot('genre', kind='bar')"
   ]
  },
  {
   "cell_type": "markdown",
   "metadata": {},
   "source": [
    "Раcпределение медианы суммарных продаж относительно жанра:"
   ]
  },
  {
   "cell_type": "code",
   "execution_count": 32,
   "metadata": {},
   "outputs": [
    {
     "data": {
      "text/plain": [
       "<AxesSubplot:xlabel='genre'>"
      ]
     },
     "execution_count": 32,
     "metadata": {},
     "output_type": "execute_result"
    },
    {
     "data": {
      "image/png": "[encoded data removed]",
      "text/plain": [
       "<Figure size 432x288 with 1 Axes>"
      ]
     },
     "metadata": {
      "needs_background": "light"
     },
     "output_type": "display_data"
    }
   ],
   "source": [
    "df.pivot_table(index='genre', values='sum_sale', aggfunc=('median')).reset_index().sort_values(by='sum_sale').plot('genre', kind='bar')"
   ]
  },
  {
   "cell_type": "markdown",
   "metadata": {},
   "source": [
    "**Вывод**"
   ]
  },
  {
   "cell_type": "markdown",
   "metadata": {},
   "source": [
    "- По гистограмме распределения игр по жанрам, можно сделать вывод, что самые популярные жанры среди производителей игр: 'Action', 'Role-Playing', 'Adventure', 'Sports';\n",
    "- Самые прибыльные жанры: 'Shooter', 'Sports', 'Platform', 'Role-Playing'.\n",
    "\n",
    "Самые высокие продажи у игр жанра 'Shooter', самые низкие продажи у игр жанра 'Adventure'."
   ]
  },
  {
   "cell_type": "markdown",
   "metadata": {},
   "source": [
    "### Шаг 4. Составьте портрет пользователя каждого региона\n",
    "\n"
   ]
  },
  {
   "cell_type": "markdown",
   "metadata": {},
   "source": [
    "Определите для пользователя каждого региона (NA, EU, JP):\n",
    "\n",
    "-\tСамые популярные платформы (топ-5). Опишите различия в долях продаж.\n",
    "-\tСамые популярные жанры (топ-5). Поясните разницу.\n",
    "-\tВлияет ли рейтинг ESRB на продажи в отдельном регионе?"
   ]
  },
  {
   "cell_type": "markdown",
   "metadata": {},
   "source": [
    "**Самые популярные платформы (топ-5)**"
   ]
  },
  {
   "cell_type": "code",
   "execution_count": 33,
   "metadata": {},
   "outputs": [
    {
     "name": "stdout",
     "output_type": "stream",
     "text": [
      "популярные платформы NA\n"
     ]
    },
    {
     "data": {
      "text/html": [
       "<div>\n",
       "<style scoped>\n",
       "    .dataframe tbody tr th:only-of-type {\n",
       "        vertical-align: middle;\n",
       "    }\n",
       "\n",
       "    .dataframe tbody tr th {\n",
       "        vertical-align: top;\n",
       "    }\n",
       "\n",
       "    .dataframe thead th {\n",
       "        text-align: right;\n",
       "    }\n",
       "</style>\n",
       "<table border=\"1\" class=\"dataframe\">\n",
       "  <thead>\n",
       "    <tr style=\"text-align: right;\">\n",
       "      <th></th>\n",
       "      <th>platform</th>\n",
       "      <th>part</th>\n",
       "    </tr>\n",
       "  </thead>\n",
       "  <tbody>\n",
       "    <tr>\n",
       "      <th>9</th>\n",
       "      <td>X360</td>\n",
       "      <td>0.592077</td>\n",
       "    </tr>\n",
       "    <tr>\n",
       "      <th>4</th>\n",
       "      <td>PS4</td>\n",
       "      <td>0.346151</td>\n",
       "    </tr>\n",
       "    <tr>\n",
       "      <th>3</th>\n",
       "      <td>PS3</td>\n",
       "      <td>0.357976</td>\n",
       "    </tr>\n",
       "    <tr>\n",
       "      <th>10</th>\n",
       "      <td>XOne</td>\n",
       "      <td>0.584484</td>\n",
       "    </tr>\n",
       "    <tr>\n",
       "      <th>0</th>\n",
       "      <td>3DS</td>\n",
       "      <td>0.284209</td>\n",
       "    </tr>\n",
       "  </tbody>\n",
       "</table>\n",
       "</div>"
      ],
      "text/plain": [
       "   platform      part\n",
       "9      X360  0.592077\n",
       "4       PS4  0.346151\n",
       "3       PS3  0.357976\n",
       "10     XOne  0.584484\n",
       "0       3DS  0.284209"
      ]
     },
     "metadata": {},
     "output_type": "display_data"
    },
    {
     "name": "stdout",
     "output_type": "stream",
     "text": [
      "\n",
      "популярные платформы EU\n"
     ]
    },
    {
     "data": {
      "text/html": [
       "<div>\n",
       "<style scoped>\n",
       "    .dataframe tbody tr th:only-of-type {\n",
       "        vertical-align: middle;\n",
       "    }\n",
       "\n",
       "    .dataframe tbody tr th {\n",
       "        vertical-align: top;\n",
       "    }\n",
       "\n",
       "    .dataframe thead th {\n",
       "        text-align: right;\n",
       "    }\n",
       "</style>\n",
       "<table border=\"1\" class=\"dataframe\">\n",
       "  <thead>\n",
       "    <tr style=\"text-align: right;\">\n",
       "      <th></th>\n",
       "      <th>platform</th>\n",
       "      <th>part</th>\n",
       "    </tr>\n",
       "  </thead>\n",
       "  <tbody>\n",
       "    <tr>\n",
       "      <th>4</th>\n",
       "      <td>PS4</td>\n",
       "      <td>0.449131</td>\n",
       "    </tr>\n",
       "    <tr>\n",
       "      <th>3</th>\n",
       "      <td>PS3</td>\n",
       "      <td>0.370027</td>\n",
       "    </tr>\n",
       "    <tr>\n",
       "      <th>9</th>\n",
       "      <td>X360</td>\n",
       "      <td>0.315042</td>\n",
       "    </tr>\n",
       "    <tr>\n",
       "      <th>10</th>\n",
       "      <td>XOne</td>\n",
       "      <td>0.323814</td>\n",
       "    </tr>\n",
       "    <tr>\n",
       "      <th>0</th>\n",
       "      <td>3DS</td>\n",
       "      <td>0.219105</td>\n",
       "    </tr>\n",
       "  </tbody>\n",
       "</table>\n",
       "</div>"
      ],
      "text/plain": [
       "   platform      part\n",
       "4       PS4  0.449131\n",
       "3       PS3  0.370027\n",
       "9      X360  0.315042\n",
       "10     XOne  0.323814\n",
       "0       3DS  0.219105"
      ]
     },
     "metadata": {},
     "output_type": "display_data"
    },
    {
     "name": "stdout",
     "output_type": "stream",
     "text": [
      "\n",
      "популярные платформы JP\n"
     ]
    },
    {
     "data": {
      "text/html": [
       "<div>\n",
       "<style scoped>\n",
       "    .dataframe tbody tr th:only-of-type {\n",
       "        vertical-align: middle;\n",
       "    }\n",
       "\n",
       "    .dataframe tbody tr th {\n",
       "        vertical-align: top;\n",
       "    }\n",
       "\n",
       "    .dataframe thead th {\n",
       "        text-align: right;\n",
       "    }\n",
       "</style>\n",
       "<table border=\"1\" class=\"dataframe\">\n",
       "  <thead>\n",
       "    <tr style=\"text-align: right;\">\n",
       "      <th></th>\n",
       "      <th>platform</th>\n",
       "      <th>part</th>\n",
       "    </tr>\n",
       "  </thead>\n",
       "  <tbody>\n",
       "    <tr>\n",
       "      <th>0</th>\n",
       "      <td>3DS</td>\n",
       "      <td>0.451107</td>\n",
       "    </tr>\n",
       "    <tr>\n",
       "      <th>3</th>\n",
       "      <td>PS3</td>\n",
       "      <td>0.122200</td>\n",
       "    </tr>\n",
       "    <tr>\n",
       "      <th>6</th>\n",
       "      <td>PSV</td>\n",
       "      <td>0.427816</td>\n",
       "    </tr>\n",
       "    <tr>\n",
       "      <th>4</th>\n",
       "      <td>PS4</td>\n",
       "      <td>0.050805</td>\n",
       "    </tr>\n",
       "    <tr>\n",
       "      <th>8</th>\n",
       "      <td>WiiU</td>\n",
       "      <td>0.158292</td>\n",
       "    </tr>\n",
       "  </tbody>\n",
       "</table>\n",
       "</div>"
      ],
      "text/plain": [
       "  platform      part\n",
       "0      3DS  0.451107\n",
       "3      PS3  0.122200\n",
       "6      PSV  0.427816\n",
       "4      PS4  0.050805\n",
       "8     WiiU  0.158292"
      ]
     },
     "metadata": {},
     "output_type": "display_data"
    }
   ],
   "source": [
    "# Самые популярные платформы NA\n",
    "print(\"популярные платформы NA\")\n",
    "df_na = df.pivot_table(index='platform', values=['na_sales', 'sum_sale'], aggfunc='sum').reset_index()\n",
    "# доля продаж \n",
    "df_na['part'] = df_na['na_sales'] / df_na['sum_sale']\n",
    "display(df_na.sort_values(by='na_sales', ascending=False)[['platform','part']].head())\n",
    "\n",
    "# Самые популярные платформы EU\n",
    "print(\"\\nпопулярные платформы EU\")\n",
    "df_eu = df.pivot_table(index='platform', values=['eu_sales', 'sum_sale'], aggfunc='sum').reset_index()\n",
    "# доля продаж \n",
    "df_eu['part'] = df_eu['eu_sales'] / df_eu['sum_sale']\n",
    "display(df_eu.sort_values(by='eu_sales', ascending=False)[['platform', 'part']].head())\n",
    "\n",
    "# Самые популярные платформы JP\n",
    "print(\"\\nпопулярные платформы JP\")\n",
    "df_jp = df.pivot_table(index='platform', values=['jp_sales', 'sum_sale'], aggfunc='sum').reset_index()\n",
    "# доля продаж \n",
    "df_jp['part'] = df_jp['jp_sales'] / df_jp['sum_sale']\n",
    "display(df_jp.sort_values(by='jp_sales', ascending=False)[['platform', 'part']].head())"
   ]
  },
  {
   "cell_type": "markdown",
   "metadata": {},
   "source": [
    "Построим круговую диаграмму, чтобы рассмотреть доли продаж относительно платформы в каждом регионе:"
   ]
  },
  {
   "cell_type": "code",
   "execution_count": 34,
   "metadata": {},
   "outputs": [
    {
     "data": {
      "image/png": "[encoded data removed]",
      "text/plain": [
       "<Figure size 720x432 with 3 Axes>"
      ]
     },
     "metadata": {},
     "output_type": "display_data"
    }
   ],
   "source": [
    "fig, ax = plt.subplots(1, 3, figsize=(10, 6))\n",
    "fig.suptitle(\"Доля продаж на платформе\")\n",
    "df_na.set_index('platform').sort_values(by='na_sales', ascending=False).head().plot(ax=ax[0], y='part', kind='pie', legend=False, title='Na')\n",
    "df_eu.set_index('platform').sort_values(by='eu_sales', ascending=False).head().plot(ax=ax[1], y='part', kind='pie', legend=False,  title='Eu')\n",
    "df_jp.set_index('platform').sort_values(by='jp_sales', ascending=False).head().plot(ax=ax[2], y='part', kind='pie', legend=False, title='Jp')\n",
    "ax[1].set_ylabel('')\n",
    "ax[2].set_ylabel('')\n",
    "plt.tight_layout()"
   ]
  },
  {
   "cell_type": "markdown",
   "metadata": {},
   "source": [
    "**Самые популярные жанры (топ-5)**"
   ]
  },
  {
   "cell_type": "code",
   "execution_count": 35,
   "metadata": {},
   "outputs": [
    {
     "name": "stdout",
     "output_type": "stream",
     "text": [
      "популярные жанры NA\n"
     ]
    },
    {
     "data": {
      "text/plain": [
       "genre\n",
       "Action          177.84\n",
       "Shooter         144.77\n",
       "Sports           81.53\n",
       "Role-Playing     64.00\n",
       "Misc             38.19\n",
       "Name: na_sales, dtype: float64"
      ]
     },
     "metadata": {},
     "output_type": "display_data"
    },
    {
     "name": "stdout",
     "output_type": "stream",
     "text": [
      "\n",
      "популярные жанры EU\n"
     ]
    },
    {
     "data": {
      "text/plain": [
       "genre\n",
       "Action          159.34\n",
       "Shooter         113.47\n",
       "Sports           69.09\n",
       "Role-Playing     48.53\n",
       "Racing           27.29\n",
       "Name: eu_sales, dtype: float64"
      ]
     },
     "metadata": {},
     "output_type": "display_data"
    },
    {
     "name": "stdout",
     "output_type": "stream",
     "text": [
      "\n",
      "популярные жанры JP\n"
     ]
    },
    {
     "data": {
      "text/plain": [
       "genre\n",
       "Role-Playing    65.44\n",
       "Action          52.80\n",
       "Misc            12.86\n",
       "Simulation      10.41\n",
       "Fighting         9.44\n",
       "Name: jp_sales, dtype: float64"
      ]
     },
     "execution_count": 35,
     "metadata": {},
     "output_type": "execute_result"
    }
   ],
   "source": [
    "# Самые популярные жанры NA\n",
    "print(\"популярные жанры NA\")\n",
    "display(df.groupby('genre')['na_sales'].sum().sort_values(ascending=False).head())\n",
    "\n",
    "# Самые популярные жанры EU\n",
    "print(\"\\nпопулярные жанры EU\")\n",
    "display(df.groupby('genre')['eu_sales'].sum().sort_values(ascending=False).head())\n",
    "\n",
    "# Самые популярные жанры JP\n",
    "print(\"\\nпопулярные жанры JP\")\n",
    "df.groupby('genre')['jp_sales'].sum().sort_values(ascending=False).head()"
   ]
  },
  {
   "cell_type": "markdown",
   "metadata": {},
   "source": [
    "**Влияние рейтинга ESRB на продажи в отдельном регионе**"
   ]
  },
  {
   "cell_type": "markdown",
   "metadata": {},
   "source": [
    "Постром гистограммы распределения продаж относительно рейтинга ESRB:"
   ]
  },
  {
   "cell_type": "code",
   "execution_count": 37,
   "metadata": {},
   "outputs": [
    {
     "data": {
      "image/png": "[encoded data removed]",
      "text/plain": [
       "<Figure size 864x288 with 3 Axes>"
      ]
     },
     "metadata": {
      "needs_background": "light"
     },
     "output_type": "display_data"
    }
   ],
   "source": [
    "fig, axes = plt.subplots(1,3,figsize=(12,4), sharey=True)\n",
    "\n",
    "for reg, ax in zip(['na_sales', 'eu_sales', 'jp_sales'],axes.flat):\n",
    "     df.pivot_table(index='rating', values=reg, aggfunc=('sum')).plot(kind='bar',title=reg, ax=ax)\n",
    "     ax.set_ylabel('sales')\n",
    "    \n",
    "plt.tight_layout()"
   ]
  },
  {
   "cell_type": "code",
   "execution_count": 38,
   "metadata": {},
   "outputs": [
    {
     "data": {
      "text/plain": [
       "M       498\n",
       "T       412\n",
       "E       395\n",
       "E10+    306\n",
       "Name: rating, dtype: int64"
      ]
     },
     "execution_count": 38,
     "metadata": {},
     "output_type": "execute_result"
    }
   ],
   "source": [
    "df['rating'].value_counts()"
   ]
  },
  {
   "cell_type": "code",
   "execution_count": 39,
   "metadata": {},
   "outputs": [
    {
     "data": {
      "text/plain": [
       "<AxesSubplot:ylabel='part'>"
      ]
     },
     "execution_count": 39,
     "metadata": {},
     "output_type": "execute_result"
    },
    {
     "data": {
      "image/png": "[encoded data removed]",
      "text/plain": [
       "<Figure size 432x288 with 1 Axes>"
      ]
     },
     "metadata": {},
     "output_type": "display_data"
    }
   ],
   "source": [
    "# Доли продаж по регионам\n",
    "part_reg = pd.Series(\n",
    "    [\n",
    "    df['na_sales'].sum() / df['sum_sale'].sum(), \n",
    "    df['eu_sales'].sum() / df['sum_sale'].sum(), \n",
    "    df['jp_sales'].sum() / df['sum_sale'].sum(),\n",
    "    df['other_sales'].sum() / df['sum_sale'].sum()\n",
    "    ], \n",
    "                    index=['na_sales', 'eu_sales', 'jp_sales', 'other_sales'])\n",
    "\n",
    "part_sales = pd.DataFrame({'part': part_reg })\n",
    "part_sales.plot(y='part', kind='pie', legend=False)"
   ]
  },
  {
   "cell_type": "markdown",
   "metadata": {},
   "source": [
    "**Вывод**"
   ]
  },
  {
   "cell_type": "markdown",
   "metadata": {},
   "source": [
    "Для региона NA:\n",
    "\n",
    "- самые популярные платформы: X360, PS4, PS3, XOne, 3DS\n",
    "- самые популярные жанры: Action, Shooter, Sports, Role-Playing, Misc     \n",
    "- больше всего продаж игр с рейтингом M(17+), меньше всего с рейтингом T(13-19 лет)\n",
    "\n",
    "Для региона EU:\n",
    "\n",
    "- самые популярные платформы в EU: PS4, PS3, X360, XOne, 3DS\n",
    "- самые популярные жанры: Action, Shooter, Sports, Role-Playing, Racing\n",
    "- больше всего продаж игр с рейтингом M(17+), меньше всего с рейтингом T(13-19 лет)\n",
    "\n",
    "Для региона JP:\n",
    "\n",
    "- самые популярные платформы в JP: 3DS, PS3, PSV, PS4, WiiU\n",
    "- самые популярные жанры: Role-Playing, Action, Misc, Simulation, Fighting\n",
    "- больше всего продаж игр с рейтингом E(для всех возрастов), меньше всего с рейтингом E10+\n",
    "\n",
    "Из круговой диаграммы видно, что самые высоки продажи в Северной Америке, на втором месте Европа, на третьем Япония. \n",
    "В Северной Америке и Европе больше всего игр с рейтингом М(17+), это может быть связано и с тем что большая часть игр попадает под эту возрастную категорию. В Японии больше популярны игры в категории для всех. "
   ]
  },
  {
   "cell_type": "markdown",
   "metadata": {},
   "source": [
    "### Шаг 5. Проверка гипотез"
   ]
  },
  {
   "cell_type": "markdown",
   "metadata": {},
   "source": [
    "- Средние пользовательские рейтинги платформ Xbox One и PC одинаковые;\n",
    "\t\n"
   ]
  },
  {
   "cell_type": "markdown",
   "metadata": {},
   "source": [
    "Нулевая гипотеза $H_0: \\mu_{xbox} = \\mu_{pc}$\n",
    "\n",
    "Альтернативная гипотеза $H_1: \\mu_{xbox} \\neq \\mu_{pc}$"
   ]
  },
  {
   "cell_type": "markdown",
   "metadata": {},
   "source": [
    "Для проверки гипотезы о равенстве двух средних воспользуемся методом `st.ttest_ind()`:"
   ]
  },
  {
   "cell_type": "code",
   "execution_count": 40,
   "metadata": {},
   "outputs": [],
   "source": [
    "# Срез данных\n",
    "df_xbox_one = df.query('platform == \"XOne\" and user_score.isna() == False')['user_score'].reset_index(drop=True)\n",
    "df_pc = df.query('platform == \"PC\" and user_score.isna() == False')['user_score'].reset_index(drop=True)"
   ]
  },
  {
   "cell_type": "code",
   "execution_count": 41,
   "metadata": {},
   "outputs": [
    {
     "name": "stdout",
     "output_type": "stream",
     "text": [
      "xbox_one: 1.9069968429360695\n",
      "\n",
      "pc: 2.770443997158418\n"
     ]
    }
   ],
   "source": [
    "# Выборочные дисперсии\n",
    "print(\"xbox_one:\", df_xbox_one.var())\n",
    "print(\"\\npc:\", df_pc.var())"
   ]
  },
  {
   "cell_type": "code",
   "execution_count": 42,
   "metadata": {},
   "outputs": [
    {
     "name": "stdout",
     "output_type": "stream",
     "text": [
      "значение p-value: 0.5489537965134912\n",
      "Не получилось отвергнуть нулевую гипотезу\n"
     ]
    }
   ],
   "source": [
    "# Проверка гипотезы\n",
    "alpha = .05\n",
    "results = st.ttest_ind(df_xbox_one, df_pc, equal_var=False)\n",
    "print(\"значение p-value:\", results.pvalue)\n",
    "\n",
    "if results.pvalue < alpha:\n",
    "    print(\"Отвергаем нулевую гипотезу\")\n",
    "else:\n",
    "    print(\"Не получилось отвергнуть нулевую гипотезу\")"
   ]
  },
  {
   "cell_type": "markdown",
   "metadata": {},
   "source": [
    "**Вывод**\n",
    "\n",
    "С вероятностью 55% различие выборочных средних случайно, следовательно можно сделать вывод, что значимого различия в пользовательском рейтинге двух платформ (`Xbox One` и `PC`) нет."
   ]
  },
  {
   "cell_type": "markdown",
   "metadata": {},
   "source": [
    "- Средние пользовательские рейтинги жанров Action (англ. «действие», экшен-игры) и Sports (англ. «спортивные соревнования») разные.\n"
   ]
  },
  {
   "cell_type": "markdown",
   "metadata": {},
   "source": [
    "Нулевая гипотеза $H_0: \\mu_{action} = \\mu_{sports}$\n",
    "\n",
    "Альтернативная гипотеза $H_1: \\mu_{action} \\neq \\mu_{sports}$"
   ]
  },
  {
   "cell_type": "markdown",
   "metadata": {},
   "source": [
    "Для проверки гипотезы о равенстве двух средних воспользуемся методом `st.ttest_ind()`:"
   ]
  },
  {
   "cell_type": "code",
   "execution_count": 43,
   "metadata": {},
   "outputs": [],
   "source": [
    "# Срез данных\n",
    "df_action  = df.query('genre == \"Action\" and user_score.isna() == False')['user_score'].reset_index(drop=True)\n",
    "df_sports = df.query('genre == \"Sports\" and user_score.isna() == False')['user_score'].reset_index(drop=True)"
   ]
  },
  {
   "cell_type": "code",
   "execution_count": 44,
   "metadata": {},
   "outputs": [
    {
     "name": "stdout",
     "output_type": "stream",
     "text": [
      "df_action: 1.8890840494348111\n",
      "\n",
      "df_sports: 3.022890298704732\n"
     ]
    }
   ],
   "source": [
    "# Выборочные дисперсии\n",
    "print(\"df_action:\", df_action.var())\n",
    "print(\"\\ndf_sports:\", df_sports.var())"
   ]
  },
  {
   "cell_type": "markdown",
   "metadata": {},
   "source": [
    "поскольку выборочные дисперсии различаются, параметр `equal_var` = False:"
   ]
  },
  {
   "cell_type": "code",
   "execution_count": 45,
   "metadata": {},
   "outputs": [
    {
     "name": "stdout",
     "output_type": "stream",
     "text": [
      "значение p-value: 0.5489537965134912\n",
      "Не получилось отвергнуть нулевую гипотезу\n"
     ]
    }
   ],
   "source": [
    "# Проверка гипотезы\n",
    "alpha = .05   #уровень значимости\n",
    "results = st.ttest_ind(df_xbox_one, df_pc, equal_var=False)\n",
    "print(\"значение p-value:\", results.pvalue)\n",
    "\n",
    "if results.pvalue < alpha:\n",
    "    print(\"Отвергаем нулевую гипотезу\")\n",
    "else:\n",
    "    print(\"Не получилось отвергнуть нулевую гипотезу\")"
   ]
  },
  {
   "cell_type": "markdown",
   "metadata": {},
   "source": [
    "**Вывод**\n",
    "\n",
    "Данные предоставляют достаточное основание - для выбранного уровня значимости - отвергнуть нулевую гипотезу.\n",
    "Можно сделать вывод, что пользовательский рейтинг зависит от жанра."
   ]
  },
  {
   "cell_type": "markdown",
   "metadata": {},
   "source": [
    "### Шаг 6. Общий вывод"
   ]
  },
  {
   "cell_type": "markdown",
   "metadata": {},
   "source": [
    "Для интернет-магазина, по взятым из открытых источников историческим данным: продажи игр, оценки пользователей и экспертов, жанры и платформы, было проведено иследование и выявлено:\n",
    "\n",
    "- самые популярные платформы:  X360, PS4, PS3, XOne, 3DS;\n",
    "- пользовательский рейтинг не зависит от платформы, но зависит от жанра, так самыми популярными жанрами являются 'Action' и 'Shooter', минимальные продажи у игр жанра — 'Puzzle'; \n",
    "- в Северной Америке и Европе больше всего продаж игр с рейтингом M(17+), меньше всего с рейтингом T(13-19 лет);"
   ]
  },
  {
   "cell_type": "code",
   "execution_count": null,
   "metadata": {},
   "outputs": [],
   "source": []
  }
 ],
 "metadata": {
  "ExecuteTimeLog": [
   {
    "duration": 1200,
    "start_time": "2022-02-15T15:14:51.751Z"
   },
   {
    "duration": 2575,
    "start_time": "2022-02-15T15:14:52.952Z"
   },
   {
    "duration": -97,
    "start_time": "2022-02-15T15:14:55.627Z"
   },
   {
    "duration": -97,
    "start_time": "2022-02-15T15:14:55.628Z"
   },
   {
    "duration": -97,
    "start_time": "2022-02-15T15:14:55.629Z"
   },
   {
    "duration": -97,
    "start_time": "2022-02-15T15:14:55.630Z"
   },
   {
    "duration": -97,
    "start_time": "2022-02-15T15:14:55.631Z"
   },
   {
    "duration": -96,
    "start_time": "2022-02-15T15:14:55.631Z"
   },
   {
    "duration": -96,
    "start_time": "2022-02-15T15:14:55.632Z"
   },
   {
    "duration": -96,
    "start_time": "2022-02-15T15:14:55.633Z"
   },
   {
    "duration": -96,
    "start_time": "2022-02-15T15:14:55.634Z"
   },
   {
    "duration": -95,
    "start_time": "2022-02-15T15:14:55.634Z"
   },
   {
    "duration": -95,
    "start_time": "2022-02-15T15:14:55.635Z"
   },
   {
    "duration": -95,
    "start_time": "2022-02-15T15:14:55.636Z"
   },
   {
    "duration": -95,
    "start_time": "2022-02-15T15:14:55.637Z"
   },
   {
    "duration": -95,
    "start_time": "2022-02-15T15:14:55.638Z"
   },
   {
    "duration": -94,
    "start_time": "2022-02-15T15:14:55.639Z"
   },
   {
    "duration": -93,
    "start_time": "2022-02-15T15:14:55.639Z"
   },
   {
    "duration": -93,
    "start_time": "2022-02-15T15:14:55.640Z"
   },
   {
    "duration": -104,
    "start_time": "2022-02-15T15:14:55.652Z"
   },
   {
    "duration": -104,
    "start_time": "2022-02-15T15:14:55.653Z"
   },
   {
    "duration": -104,
    "start_time": "2022-02-15T15:14:55.654Z"
   },
   {
    "duration": -103,
    "start_time": "2022-02-15T15:14:55.654Z"
   },
   {
    "duration": -103,
    "start_time": "2022-02-15T15:14:55.655Z"
   },
   {
    "duration": -103,
    "start_time": "2022-02-15T15:14:55.656Z"
   },
   {
    "duration": -103,
    "start_time": "2022-02-15T15:14:55.657Z"
   },
   {
    "duration": -103,
    "start_time": "2022-02-15T15:14:55.658Z"
   },
   {
    "duration": -102,
    "start_time": "2022-02-15T15:14:55.658Z"
   },
   {
    "duration": -102,
    "start_time": "2022-02-15T15:14:55.659Z"
   },
   {
    "duration": -102,
    "start_time": "2022-02-15T15:14:55.660Z"
   },
   {
    "duration": -102,
    "start_time": "2022-02-15T15:14:55.661Z"
   },
   {
    "duration": -111,
    "start_time": "2022-02-15T15:14:55.671Z"
   },
   {
    "duration": -112,
    "start_time": "2022-02-15T15:14:55.673Z"
   },
   {
    "duration": -111,
    "start_time": "2022-02-15T15:14:55.673Z"
   },
   {
    "duration": -111,
    "start_time": "2022-02-15T15:14:55.674Z"
   },
   {
    "duration": -111,
    "start_time": "2022-02-15T15:14:55.675Z"
   },
   {
    "duration": 264,
    "start_time": "2022-02-15T15:15:37.870Z"
   },
   {
    "duration": 3,
    "start_time": "2022-02-15T15:15:41.016Z"
   },
   {
    "duration": 47,
    "start_time": "2022-02-15T15:15:41.021Z"
   },
   {
    "duration": 9,
    "start_time": "2022-02-15T15:15:41.070Z"
   },
   {
    "duration": 11,
    "start_time": "2022-02-15T15:15:41.081Z"
   },
   {
    "duration": 8,
    "start_time": "2022-02-15T15:15:41.093Z"
   },
   {
    "duration": 5,
    "start_time": "2022-02-15T15:15:41.102Z"
   },
   {
    "duration": 25,
    "start_time": "2022-02-15T15:15:41.109Z"
   },
   {
    "duration": 9,
    "start_time": "2022-02-15T15:15:41.135Z"
   },
   {
    "duration": 5,
    "start_time": "2022-02-15T15:15:41.146Z"
   },
   {
    "duration": 8,
    "start_time": "2022-02-15T15:15:41.153Z"
   },
   {
    "duration": 11,
    "start_time": "2022-02-15T15:15:41.162Z"
   },
   {
    "duration": 509,
    "start_time": "2022-02-15T15:15:41.175Z"
   },
   {
    "duration": 7,
    "start_time": "2022-02-15T15:15:41.685Z"
   },
   {
    "duration": 250,
    "start_time": "2022-02-15T15:15:41.693Z"
   },
   {
    "duration": 911,
    "start_time": "2022-02-15T15:15:41.945Z"
   },
   {
    "duration": -79,
    "start_time": "2022-02-15T15:15:42.937Z"
   },
   {
    "duration": -80,
    "start_time": "2022-02-15T15:15:42.939Z"
   },
   {
    "duration": -82,
    "start_time": "2022-02-15T15:15:42.942Z"
   },
   {
    "duration": -83,
    "start_time": "2022-02-15T15:15:42.944Z"
   },
   {
    "duration": -85,
    "start_time": "2022-02-15T15:15:42.946Z"
   },
   {
    "duration": -85,
    "start_time": "2022-02-15T15:15:42.947Z"
   },
   {
    "duration": -86,
    "start_time": "2022-02-15T15:15:42.949Z"
   },
   {
    "duration": -86,
    "start_time": "2022-02-15T15:15:42.951Z"
   },
   {
    "duration": -87,
    "start_time": "2022-02-15T15:15:42.953Z"
   },
   {
    "duration": -88,
    "start_time": "2022-02-15T15:15:42.955Z"
   },
   {
    "duration": -88,
    "start_time": "2022-02-15T15:15:42.956Z"
   },
   {
    "duration": -89,
    "start_time": "2022-02-15T15:15:42.958Z"
   },
   {
    "duration": -89,
    "start_time": "2022-02-15T15:15:42.959Z"
   },
   {
    "duration": -89,
    "start_time": "2022-02-15T15:15:42.960Z"
   },
   {
    "duration": -90,
    "start_time": "2022-02-15T15:15:42.962Z"
   },
   {
    "duration": -90,
    "start_time": "2022-02-15T15:15:42.963Z"
   },
   {
    "duration": -92,
    "start_time": "2022-02-15T15:15:42.965Z"
   },
   {
    "duration": -92,
    "start_time": "2022-02-15T15:15:42.966Z"
   },
   {
    "duration": -97,
    "start_time": "2022-02-15T15:15:42.972Z"
   },
   {
    "duration": -98,
    "start_time": "2022-02-15T15:15:42.974Z"
   },
   {
    "duration": -98,
    "start_time": "2022-02-15T15:15:42.975Z"
   },
   {
    "duration": 995,
    "start_time": "2022-02-15T15:16:00.828Z"
   },
   {
    "duration": 119,
    "start_time": "2022-02-15T15:16:42.858Z"
   },
   {
    "duration": 1091,
    "start_time": "2022-02-15T15:16:47.292Z"
   },
   {
    "duration": 1232,
    "start_time": "2022-02-15T15:16:53.914Z"
   },
   {
    "duration": 6,
    "start_time": "2022-02-15T15:16:55.148Z"
   },
   {
    "duration": 283,
    "start_time": "2022-02-15T15:16:55.156Z"
   },
   {
    "duration": 1578,
    "start_time": "2022-02-15T15:16:55.441Z"
   },
   {
    "duration": 26,
    "start_time": "2022-02-15T15:16:57.020Z"
   },
   {
    "duration": 2,
    "start_time": "2022-02-15T15:16:57.048Z"
   },
   {
    "duration": 539,
    "start_time": "2022-02-15T15:16:57.051Z"
   },
   {
    "duration": 1035,
    "start_time": "2022-02-15T15:16:57.592Z"
   },
   {
    "duration": 293,
    "start_time": "2022-02-15T15:16:58.630Z"
   },
   {
    "duration": 197,
    "start_time": "2022-02-15T15:16:58.925Z"
   },
   {
    "duration": 37,
    "start_time": "2022-02-15T15:16:59.123Z"
   },
   {
    "duration": 17,
    "start_time": "2022-02-15T15:16:59.161Z"
   },
   {
    "duration": 390,
    "start_time": "2022-02-15T15:16:59.180Z"
   },
   {
    "duration": 5,
    "start_time": "2022-02-15T15:16:59.572Z"
   },
   {
    "duration": 77,
    "start_time": "2022-02-15T15:16:59.578Z"
   },
   {
    "duration": 11,
    "start_time": "2022-02-15T15:16:59.657Z"
   },
   {
    "duration": 4,
    "start_time": "2022-02-15T15:16:59.669Z"
   },
   {
    "duration": 5,
    "start_time": "2022-02-15T15:16:59.675Z"
   },
   {
    "duration": 12,
    "start_time": "2022-02-15T15:16:59.682Z"
   },
   {
    "duration": 3,
    "start_time": "2022-02-15T15:16:59.696Z"
   },
   {
    "duration": 4,
    "start_time": "2022-02-15T15:16:59.731Z"
   },
   {
    "duration": 143,
    "start_time": "2022-02-15T15:17:15.339Z"
   },
   {
    "duration": 1116,
    "start_time": "2022-02-18T04:31:54.876Z"
   },
   {
    "duration": 51,
    "start_time": "2022-02-18T04:31:55.995Z"
   },
   {
    "duration": 11,
    "start_time": "2022-02-18T04:31:56.048Z"
   },
   {
    "duration": 13,
    "start_time": "2022-02-18T04:31:56.060Z"
   },
   {
    "duration": 11,
    "start_time": "2022-02-18T04:31:56.075Z"
   },
   {
    "duration": 9,
    "start_time": "2022-02-18T04:31:56.087Z"
   },
   {
    "duration": 11,
    "start_time": "2022-02-18T04:31:56.098Z"
   },
   {
    "duration": 11,
    "start_time": "2022-02-18T04:31:56.111Z"
   },
   {
    "duration": 35,
    "start_time": "2022-02-18T04:31:56.124Z"
   },
   {
    "duration": 6,
    "start_time": "2022-02-18T04:31:56.161Z"
   },
   {
    "duration": 14,
    "start_time": "2022-02-18T04:31:56.168Z"
   },
   {
    "duration": 581,
    "start_time": "2022-02-18T04:31:56.184Z"
   },
   {
    "duration": 8,
    "start_time": "2022-02-18T04:31:56.767Z"
   },
   {
    "duration": 308,
    "start_time": "2022-02-18T04:31:56.776Z"
   },
   {
    "duration": 1310,
    "start_time": "2022-02-18T04:31:57.086Z"
   },
   {
    "duration": 7,
    "start_time": "2022-02-18T04:31:58.397Z"
   },
   {
    "duration": 224,
    "start_time": "2022-02-18T04:31:58.405Z"
   },
   {
    "duration": 1880,
    "start_time": "2022-02-18T04:31:58.631Z"
   },
   {
    "duration": 23,
    "start_time": "2022-02-18T04:32:00.513Z"
   },
   {
    "duration": 196,
    "start_time": "2022-02-18T04:32:00.537Z"
   },
   {
    "duration": 540,
    "start_time": "2022-02-18T04:32:00.735Z"
   },
   {
    "duration": 1151,
    "start_time": "2022-02-18T04:32:01.277Z"
   },
   {
    "duration": 218,
    "start_time": "2022-02-18T04:32:02.431Z"
   },
   {
    "duration": 216,
    "start_time": "2022-02-18T04:32:02.651Z"
   },
   {
    "duration": 31,
    "start_time": "2022-02-18T04:32:02.868Z"
   },
   {
    "duration": 37,
    "start_time": "2022-02-18T04:32:02.901Z"
   },
   {
    "duration": 319,
    "start_time": "2022-02-18T04:32:02.940Z"
   },
   {
    "duration": -116,
    "start_time": "2022-02-18T04:32:03.376Z"
   },
   {
    "duration": -126,
    "start_time": "2022-02-18T04:32:03.387Z"
   },
   {
    "duration": -127,
    "start_time": "2022-02-18T04:32:03.389Z"
   },
   {
    "duration": -127,
    "start_time": "2022-02-18T04:32:03.390Z"
   },
   {
    "duration": -128,
    "start_time": "2022-02-18T04:32:03.392Z"
   },
   {
    "duration": -128,
    "start_time": "2022-02-18T04:32:03.393Z"
   },
   {
    "duration": -128,
    "start_time": "2022-02-18T04:32:03.394Z"
   },
   {
    "duration": -128,
    "start_time": "2022-02-18T04:32:03.395Z"
   },
   {
    "duration": 3,
    "start_time": "2022-02-18T04:36:22.717Z"
   },
   {
    "duration": 46,
    "start_time": "2022-02-18T04:36:22.721Z"
   },
   {
    "duration": 9,
    "start_time": "2022-02-18T04:36:22.769Z"
   },
   {
    "duration": 16,
    "start_time": "2022-02-18T04:36:22.780Z"
   },
   {
    "duration": 10,
    "start_time": "2022-02-18T04:36:22.798Z"
   },
   {
    "duration": 8,
    "start_time": "2022-02-18T04:36:22.809Z"
   },
   {
    "duration": 10,
    "start_time": "2022-02-18T04:36:22.818Z"
   },
   {
    "duration": 10,
    "start_time": "2022-02-18T04:36:22.859Z"
   },
   {
    "duration": 6,
    "start_time": "2022-02-18T04:36:22.872Z"
   },
   {
    "duration": 5,
    "start_time": "2022-02-18T04:36:22.880Z"
   },
   {
    "duration": 13,
    "start_time": "2022-02-18T04:36:22.887Z"
   },
   {
    "duration": 563,
    "start_time": "2022-02-18T04:36:22.902Z"
   },
   {
    "duration": 7,
    "start_time": "2022-02-18T04:36:23.467Z"
   },
   {
    "duration": 307,
    "start_time": "2022-02-18T04:36:23.475Z"
   },
   {
    "duration": 1275,
    "start_time": "2022-02-18T04:36:23.784Z"
   },
   {
    "duration": 6,
    "start_time": "2022-02-18T04:36:25.060Z"
   },
   {
    "duration": 328,
    "start_time": "2022-02-18T04:36:25.068Z"
   },
   {
    "duration": 1799,
    "start_time": "2022-02-18T04:36:25.397Z"
   },
   {
    "duration": 23,
    "start_time": "2022-02-18T04:36:27.198Z"
   },
   {
    "duration": 198,
    "start_time": "2022-02-18T04:36:27.223Z"
   },
   {
    "duration": 555,
    "start_time": "2022-02-18T04:36:27.422Z"
   },
   {
    "duration": 1075,
    "start_time": "2022-02-18T04:36:27.979Z"
   },
   {
    "duration": 215,
    "start_time": "2022-02-18T04:36:29.059Z"
   },
   {
    "duration": 215,
    "start_time": "2022-02-18T04:36:29.276Z"
   },
   {
    "duration": 35,
    "start_time": "2022-02-18T04:36:29.493Z"
   },
   {
    "duration": 40,
    "start_time": "2022-02-18T04:36:29.529Z"
   },
   {
    "duration": 184,
    "start_time": "2022-02-18T04:36:29.572Z"
   },
   {
    "duration": -64,
    "start_time": "2022-02-18T04:36:29.821Z"
   },
   {
    "duration": -65,
    "start_time": "2022-02-18T04:36:29.824Z"
   },
   {
    "duration": -67,
    "start_time": "2022-02-18T04:36:29.827Z"
   },
   {
    "duration": -68,
    "start_time": "2022-02-18T04:36:29.829Z"
   },
   {
    "duration": -69,
    "start_time": "2022-02-18T04:36:29.831Z"
   },
   {
    "duration": -78,
    "start_time": "2022-02-18T04:36:29.841Z"
   },
   {
    "duration": -87,
    "start_time": "2022-02-18T04:36:29.851Z"
   },
   {
    "duration": -88,
    "start_time": "2022-02-18T04:36:29.853Z"
   },
   {
    "duration": 3,
    "start_time": "2022-02-18T04:37:03.384Z"
   },
   {
    "duration": 44,
    "start_time": "2022-02-18T04:37:03.389Z"
   },
   {
    "duration": 9,
    "start_time": "2022-02-18T04:37:03.435Z"
   },
   {
    "duration": 13,
    "start_time": "2022-02-18T04:37:03.446Z"
   },
   {
    "duration": 9,
    "start_time": "2022-02-18T04:37:03.461Z"
   },
   {
    "duration": 5,
    "start_time": "2022-02-18T04:37:03.472Z"
   },
   {
    "duration": 10,
    "start_time": "2022-02-18T04:37:03.479Z"
   },
   {
    "duration": 11,
    "start_time": "2022-02-18T04:37:03.491Z"
   },
   {
    "duration": 5,
    "start_time": "2022-02-18T04:37:03.505Z"
   },
   {
    "duration": 47,
    "start_time": "2022-02-18T04:37:03.512Z"
   },
   {
    "duration": 14,
    "start_time": "2022-02-18T04:37:03.561Z"
   },
   {
    "duration": 557,
    "start_time": "2022-02-18T04:37:03.577Z"
   },
   {
    "duration": 7,
    "start_time": "2022-02-18T04:37:04.136Z"
   },
   {
    "duration": 300,
    "start_time": "2022-02-18T04:37:04.145Z"
   },
   {
    "duration": 1298,
    "start_time": "2022-02-18T04:37:04.446Z"
   },
   {
    "duration": 14,
    "start_time": "2022-02-18T04:37:05.745Z"
   },
   {
    "duration": 219,
    "start_time": "2022-02-18T04:37:05.760Z"
   },
   {
    "duration": 1995,
    "start_time": "2022-02-18T04:37:05.981Z"
   },
   {
    "duration": 24,
    "start_time": "2022-02-18T04:37:07.977Z"
   },
   {
    "duration": 196,
    "start_time": "2022-02-18T04:37:08.003Z"
   },
   {
    "duration": 567,
    "start_time": "2022-02-18T04:37:08.201Z"
   },
   {
    "duration": 1095,
    "start_time": "2022-02-18T04:37:08.769Z"
   },
   {
    "duration": 347,
    "start_time": "2022-02-18T04:37:09.866Z"
   },
   {
    "duration": 235,
    "start_time": "2022-02-18T04:37:10.215Z"
   },
   {
    "duration": 39,
    "start_time": "2022-02-18T04:37:10.452Z"
   },
   {
    "duration": 20,
    "start_time": "2022-02-18T04:37:10.493Z"
   },
   {
    "duration": 225,
    "start_time": "2022-02-18T04:37:10.516Z"
   },
   {
    "duration": -139,
    "start_time": "2022-02-18T04:37:10.882Z"
   },
   {
    "duration": -139,
    "start_time": "2022-02-18T04:37:10.883Z"
   },
   {
    "duration": -140,
    "start_time": "2022-02-18T04:37:10.885Z"
   },
   {
    "duration": -141,
    "start_time": "2022-02-18T04:37:10.887Z"
   },
   {
    "duration": -141,
    "start_time": "2022-02-18T04:37:10.888Z"
   },
   {
    "duration": -142,
    "start_time": "2022-02-18T04:37:10.890Z"
   },
   {
    "duration": -142,
    "start_time": "2022-02-18T04:37:10.891Z"
   },
   {
    "duration": -143,
    "start_time": "2022-02-18T04:37:10.893Z"
   },
   {
    "duration": 195,
    "start_time": "2022-02-18T04:37:21.278Z"
   },
   {
    "duration": 194,
    "start_time": "2022-02-18T04:38:23.048Z"
   },
   {
    "duration": 457,
    "start_time": "2022-02-18T04:38:34.094Z"
   },
   {
    "duration": 3,
    "start_time": "2022-02-18T04:38:55.007Z"
   },
   {
    "duration": 48,
    "start_time": "2022-02-18T04:38:55.012Z"
   },
   {
    "duration": 10,
    "start_time": "2022-02-18T04:38:55.062Z"
   },
   {
    "duration": 14,
    "start_time": "2022-02-18T04:38:55.074Z"
   },
   {
    "duration": 14,
    "start_time": "2022-02-18T04:38:55.090Z"
   },
   {
    "duration": 11,
    "start_time": "2022-02-18T04:38:55.106Z"
   },
   {
    "duration": 12,
    "start_time": "2022-02-18T04:38:55.119Z"
   },
   {
    "duration": 34,
    "start_time": "2022-02-18T04:38:55.133Z"
   },
   {
    "duration": 6,
    "start_time": "2022-02-18T04:38:55.170Z"
   },
   {
    "duration": 6,
    "start_time": "2022-02-18T04:38:55.178Z"
   },
   {
    "duration": 19,
    "start_time": "2022-02-18T04:38:55.185Z"
   },
   {
    "duration": 578,
    "start_time": "2022-02-18T04:38:55.205Z"
   },
   {
    "duration": 8,
    "start_time": "2022-02-18T04:38:55.784Z"
   },
   {
    "duration": 309,
    "start_time": "2022-02-18T04:38:55.794Z"
   },
   {
    "duration": 1251,
    "start_time": "2022-02-18T04:38:56.105Z"
   },
   {
    "duration": 6,
    "start_time": "2022-02-18T04:38:57.358Z"
   },
   {
    "duration": 355,
    "start_time": "2022-02-18T04:38:57.365Z"
   },
   {
    "duration": 1828,
    "start_time": "2022-02-18T04:38:57.722Z"
   },
   {
    "duration": 27,
    "start_time": "2022-02-18T04:38:59.552Z"
   },
   {
    "duration": 199,
    "start_time": "2022-02-18T04:38:59.581Z"
   },
   {
    "duration": 598,
    "start_time": "2022-02-18T04:38:59.782Z"
   },
   {
    "duration": 1045,
    "start_time": "2022-02-18T04:39:00.382Z"
   },
   {
    "duration": 379,
    "start_time": "2022-02-18T04:39:01.429Z"
   },
   {
    "duration": 231,
    "start_time": "2022-02-18T04:39:01.810Z"
   },
   {
    "duration": 48,
    "start_time": "2022-02-18T04:39:02.043Z"
   },
   {
    "duration": 19,
    "start_time": "2022-02-18T04:39:02.093Z"
   },
   {
    "duration": 532,
    "start_time": "2022-02-18T04:39:02.115Z"
   },
   {
    "duration": 14,
    "start_time": "2022-02-18T04:39:02.649Z"
   },
   {
    "duration": 95,
    "start_time": "2022-02-18T04:39:02.665Z"
   },
   {
    "duration": 13,
    "start_time": "2022-02-18T04:39:02.762Z"
   },
   {
    "duration": 10,
    "start_time": "2022-02-18T04:39:02.777Z"
   },
   {
    "duration": 11,
    "start_time": "2022-02-18T04:39:02.788Z"
   },
   {
    "duration": 30,
    "start_time": "2022-02-18T04:39:02.801Z"
   },
   {
    "duration": 12,
    "start_time": "2022-02-18T04:39:02.833Z"
   },
   {
    "duration": 14,
    "start_time": "2022-02-18T04:39:02.847Z"
   },
   {
    "duration": 81,
    "start_time": "2022-02-27T09:14:33.582Z"
   },
   {
    "duration": 330,
    "start_time": "2022-02-27T09:32:38.773Z"
   },
   {
    "duration": 1068,
    "start_time": "2022-02-27T09:32:42.317Z"
   },
   {
    "duration": 45,
    "start_time": "2022-02-27T09:32:43.387Z"
   },
   {
    "duration": 9,
    "start_time": "2022-02-27T09:32:43.433Z"
   },
   {
    "duration": 11,
    "start_time": "2022-02-27T09:32:43.443Z"
   },
   {
    "duration": 9,
    "start_time": "2022-02-27T09:32:43.455Z"
   },
   {
    "duration": 4,
    "start_time": "2022-02-27T09:32:43.465Z"
   },
   {
    "duration": 9,
    "start_time": "2022-02-27T09:32:43.471Z"
   },
   {
    "duration": 29,
    "start_time": "2022-02-27T09:32:43.482Z"
   },
   {
    "duration": 5,
    "start_time": "2022-02-27T09:32:43.514Z"
   },
   {
    "duration": 4,
    "start_time": "2022-02-27T09:32:43.521Z"
   },
   {
    "duration": 12,
    "start_time": "2022-02-27T09:32:43.526Z"
   },
   {
    "duration": 485,
    "start_time": "2022-02-27T09:32:43.539Z"
   },
   {
    "duration": 6,
    "start_time": "2022-02-27T09:32:44.026Z"
   },
   {
    "duration": 249,
    "start_time": "2022-02-27T09:32:44.034Z"
   },
   {
    "duration": 1096,
    "start_time": "2022-02-27T09:32:44.285Z"
   },
   {
    "duration": 5,
    "start_time": "2022-02-27T09:32:45.382Z"
   },
   {
    "duration": 181,
    "start_time": "2022-02-27T09:32:45.388Z"
   },
   {
    "duration": 1496,
    "start_time": "2022-02-27T09:32:45.571Z"
   },
   {
    "duration": 20,
    "start_time": "2022-02-27T09:32:47.069Z"
   },
   {
    "duration": 167,
    "start_time": "2022-02-27T09:32:47.090Z"
   },
   {
    "duration": 489,
    "start_time": "2022-02-27T09:32:47.259Z"
   },
   {
    "duration": 1308,
    "start_time": "2022-02-27T09:32:47.749Z"
   },
   {
    "duration": 290,
    "start_time": "2022-02-27T09:32:49.061Z"
   },
   {
    "duration": 282,
    "start_time": "2022-02-27T09:32:49.353Z"
   },
   {
    "duration": 34,
    "start_time": "2022-02-27T09:32:49.637Z"
   },
   {
    "duration": 38,
    "start_time": "2022-02-27T09:32:49.672Z"
   },
   {
    "duration": 408,
    "start_time": "2022-02-27T09:32:49.711Z"
   },
   {
    "duration": 318,
    "start_time": "2022-02-27T09:32:50.121Z"
   },
   {
    "duration": -3555,
    "start_time": "2022-02-27T09:32:53.996Z"
   },
   {
    "duration": -3557,
    "start_time": "2022-02-27T09:32:53.998Z"
   },
   {
    "duration": -3559,
    "start_time": "2022-02-27T09:32:54.001Z"
   },
   {
    "duration": -3559,
    "start_time": "2022-02-27T09:32:54.002Z"
   },
   {
    "duration": -3561,
    "start_time": "2022-02-27T09:32:54.004Z"
   },
   {
    "duration": -3565,
    "start_time": "2022-02-27T09:32:54.009Z"
   },
   {
    "duration": -3566,
    "start_time": "2022-02-27T09:32:54.011Z"
   },
   {
    "duration": -3567,
    "start_time": "2022-02-27T09:32:54.013Z"
   },
   {
    "duration": 265,
    "start_time": "2022-02-27T09:33:38.019Z"
   },
   {
    "duration": 265,
    "start_time": "2022-02-27T09:33:41.778Z"
   },
   {
    "duration": 536,
    "start_time": "2022-02-27T09:33:50.939Z"
   },
   {
    "duration": 330,
    "start_time": "2022-02-27T09:34:11.443Z"
   },
   {
    "duration": 588,
    "start_time": "2022-02-27T09:34:22.522Z"
   },
   {
    "duration": 528,
    "start_time": "2022-02-27T09:34:31.908Z"
   },
   {
    "duration": 618,
    "start_time": "2022-02-27T09:35:32.051Z"
   },
   {
    "duration": 3,
    "start_time": "2022-02-27T09:36:56.766Z"
   },
   {
    "duration": 46,
    "start_time": "2022-02-27T09:36:56.777Z"
   },
   {
    "duration": 9,
    "start_time": "2022-02-27T09:36:56.825Z"
   },
   {
    "duration": 11,
    "start_time": "2022-02-27T09:36:56.836Z"
   },
   {
    "duration": 8,
    "start_time": "2022-02-27T09:36:56.848Z"
   },
   {
    "duration": 6,
    "start_time": "2022-02-27T09:36:56.858Z"
   },
   {
    "duration": 13,
    "start_time": "2022-02-27T09:36:56.865Z"
   },
   {
    "duration": 28,
    "start_time": "2022-02-27T09:36:56.880Z"
   },
   {
    "duration": 5,
    "start_time": "2022-02-27T09:36:56.910Z"
   },
   {
    "duration": 4,
    "start_time": "2022-02-27T09:36:56.917Z"
   },
   {
    "duration": 15,
    "start_time": "2022-02-27T09:36:56.923Z"
   },
   {
    "duration": 479,
    "start_time": "2022-02-27T09:36:56.939Z"
   },
   {
    "duration": 8,
    "start_time": "2022-02-27T09:36:57.420Z"
   },
   {
    "duration": 254,
    "start_time": "2022-02-27T09:36:57.429Z"
   },
   {
    "duration": 1127,
    "start_time": "2022-02-27T09:36:57.685Z"
   },
   {
    "duration": 6,
    "start_time": "2022-02-27T09:36:58.814Z"
   },
   {
    "duration": 191,
    "start_time": "2022-02-27T09:36:58.822Z"
   },
   {
    "duration": 1549,
    "start_time": "2022-02-27T09:36:59.015Z"
   },
   {
    "duration": 21,
    "start_time": "2022-02-27T09:37:00.566Z"
   },
   {
    "duration": 174,
    "start_time": "2022-02-27T09:37:00.589Z"
   },
   {
    "duration": 608,
    "start_time": "2022-02-27T09:37:00.765Z"
   },
   {
    "duration": 1238,
    "start_time": "2022-02-27T09:37:01.375Z"
   },
   {
    "duration": 178,
    "start_time": "2022-02-27T09:37:02.616Z"
   },
   {
    "duration": 185,
    "start_time": "2022-02-27T09:37:02.795Z"
   },
   {
    "duration": 38,
    "start_time": "2022-02-27T09:37:02.981Z"
   },
   {
    "duration": 15,
    "start_time": "2022-02-27T09:37:03.020Z"
   },
   {
    "duration": 422,
    "start_time": "2022-02-27T09:37:03.036Z"
   },
   {
    "duration": 537,
    "start_time": "2022-02-27T09:37:03.461Z"
   },
   {
    "duration": 10,
    "start_time": "2022-02-27T09:37:03.999Z"
   },
   {
    "duration": 69,
    "start_time": "2022-02-27T09:37:04.010Z"
   },
   {
    "duration": 30,
    "start_time": "2022-02-27T09:37:04.080Z"
   },
   {
    "duration": 6,
    "start_time": "2022-02-27T09:37:04.112Z"
   },
   {
    "duration": 7,
    "start_time": "2022-02-27T09:37:04.119Z"
   },
   {
    "duration": 14,
    "start_time": "2022-02-27T09:37:04.128Z"
   },
   {
    "duration": 4,
    "start_time": "2022-02-27T09:37:04.144Z"
   },
   {
    "duration": 6,
    "start_time": "2022-02-27T09:37:04.149Z"
   },
   {
    "duration": 1719,
    "start_time": "2022-02-27T18:35:58.638Z"
   },
   {
    "duration": 60,
    "start_time": "2022-02-27T18:36:03.648Z"
   },
   {
    "duration": 14,
    "start_time": "2022-02-27T18:36:04.630Z"
   },
   {
    "duration": 21,
    "start_time": "2022-02-27T18:36:11.998Z"
   },
   {
    "duration": 7,
    "start_time": "2022-02-27T18:36:15.648Z"
   },
   {
    "duration": 588,
    "start_time": "2022-02-27T18:38:07.183Z"
   },
   {
    "duration": 7045,
    "start_time": "2022-02-27T18:38:44.648Z"
   },
   {
    "duration": 10,
    "start_time": "2022-02-27T18:39:26.939Z"
   },
   {
    "duration": 7382,
    "start_time": "2022-02-27T18:40:05.928Z"
   },
   {
    "duration": 246,
    "start_time": "2022-02-27T18:40:55.272Z"
   },
   {
    "duration": 225,
    "start_time": "2022-02-27T18:41:00.919Z"
   },
   {
    "duration": 240,
    "start_time": "2022-02-27T18:41:10.397Z"
   },
   {
    "duration": 274,
    "start_time": "2022-02-27T18:41:31.547Z"
   },
   {
    "duration": 6731,
    "start_time": "2022-02-27T18:41:54.000Z"
   },
   {
    "duration": 249,
    "start_time": "2022-02-27T18:43:25.371Z"
   },
   {
    "duration": 10,
    "start_time": "2022-02-27T18:43:46.446Z"
   },
   {
    "duration": 6,
    "start_time": "2022-02-27T18:44:05.197Z"
   },
   {
    "duration": 31,
    "start_time": "2022-02-27T18:45:11.557Z"
   },
   {
    "duration": 13,
    "start_time": "2022-02-27T18:45:22.360Z"
   },
   {
    "duration": 11,
    "start_time": "2022-02-27T18:45:44.495Z"
   },
   {
    "duration": 1378,
    "start_time": "2022-03-01T17:51:59.148Z"
   },
   {
    "duration": 1680,
    "start_time": "2022-03-01T17:52:00.529Z"
   },
   {
    "duration": -52,
    "start_time": "2022-03-01T17:52:02.266Z"
   },
   {
    "duration": -54,
    "start_time": "2022-03-01T17:52:02.269Z"
   },
   {
    "duration": -56,
    "start_time": "2022-03-01T17:52:02.273Z"
   },
   {
    "duration": -57,
    "start_time": "2022-03-01T17:52:02.276Z"
   },
   {
    "duration": -58,
    "start_time": "2022-03-01T17:52:02.278Z"
   },
   {
    "duration": -60,
    "start_time": "2022-03-01T17:52:02.281Z"
   },
   {
    "duration": -60,
    "start_time": "2022-03-01T17:52:02.283Z"
   },
   {
    "duration": -62,
    "start_time": "2022-03-01T17:52:02.286Z"
   },
   {
    "duration": -97,
    "start_time": "2022-03-01T17:52:02.323Z"
   },
   {
    "duration": -98,
    "start_time": "2022-03-01T17:52:02.325Z"
   },
   {
    "duration": -97,
    "start_time": "2022-03-01T17:52:02.326Z"
   },
   {
    "duration": -97,
    "start_time": "2022-03-01T17:52:02.328Z"
   },
   {
    "duration": -97,
    "start_time": "2022-03-01T17:52:02.329Z"
   },
   {
    "duration": -96,
    "start_time": "2022-03-01T17:52:02.330Z"
   },
   {
    "duration": -96,
    "start_time": "2022-03-01T17:52:02.331Z"
   },
   {
    "duration": -96,
    "start_time": "2022-03-01T17:52:02.333Z"
   },
   {
    "duration": -96,
    "start_time": "2022-03-01T17:52:02.334Z"
   },
   {
    "duration": -95,
    "start_time": "2022-03-01T17:52:02.335Z"
   },
   {
    "duration": -96,
    "start_time": "2022-03-01T17:52:02.337Z"
   },
   {
    "duration": -95,
    "start_time": "2022-03-01T17:52:02.338Z"
   },
   {
    "duration": -95,
    "start_time": "2022-03-01T17:52:02.339Z"
   },
   {
    "duration": -95,
    "start_time": "2022-03-01T17:52:02.341Z"
   },
   {
    "duration": -94,
    "start_time": "2022-03-01T17:52:02.342Z"
   },
   {
    "duration": -95,
    "start_time": "2022-03-01T17:52:02.344Z"
   },
   {
    "duration": -94,
    "start_time": "2022-03-01T17:52:02.345Z"
   },
   {
    "duration": -93,
    "start_time": "2022-03-01T17:52:02.346Z"
   },
   {
    "duration": -93,
    "start_time": "2022-03-01T17:52:02.347Z"
   },
   {
    "duration": -93,
    "start_time": "2022-03-01T17:52:02.348Z"
   },
   {
    "duration": -92,
    "start_time": "2022-03-01T17:52:02.349Z"
   },
   {
    "duration": -91,
    "start_time": "2022-03-01T17:52:02.350Z"
   },
   {
    "duration": -91,
    "start_time": "2022-03-01T17:52:02.351Z"
   },
   {
    "duration": -90,
    "start_time": "2022-03-01T17:52:02.352Z"
   },
   {
    "duration": -89,
    "start_time": "2022-03-01T17:52:02.353Z"
   },
   {
    "duration": -89,
    "start_time": "2022-03-01T17:52:02.354Z"
   },
   {
    "duration": -88,
    "start_time": "2022-03-01T17:52:02.355Z"
   },
   {
    "duration": -88,
    "start_time": "2022-03-01T17:52:02.356Z"
   },
   {
    "duration": -88,
    "start_time": "2022-03-01T17:52:02.357Z"
   },
   {
    "duration": -97,
    "start_time": "2022-03-01T17:52:02.368Z"
   },
   {
    "duration": -113,
    "start_time": "2022-03-01T17:52:02.385Z"
   },
   {
    "duration": -118,
    "start_time": "2022-03-01T17:52:02.391Z"
   },
   {
    "duration": 4,
    "start_time": "2022-03-01T17:52:39.949Z"
   },
   {
    "duration": 107,
    "start_time": "2022-03-01T17:52:39.955Z"
   },
   {
    "duration": 17,
    "start_time": "2022-03-01T17:52:40.066Z"
   },
   {
    "duration": 23,
    "start_time": "2022-03-01T17:52:40.086Z"
   },
   {
    "duration": 38,
    "start_time": "2022-03-01T17:52:40.113Z"
   },
   {
    "duration": 199,
    "start_time": "2022-03-01T17:52:40.154Z"
   },
   {
    "duration": 19,
    "start_time": "2022-03-01T17:52:40.357Z"
   },
   {
    "duration": 14,
    "start_time": "2022-03-01T17:52:40.380Z"
   },
   {
    "duration": 16,
    "start_time": "2022-03-01T17:52:40.396Z"
   },
   {
    "duration": 36,
    "start_time": "2022-03-01T17:52:40.415Z"
   },
   {
    "duration": 9,
    "start_time": "2022-03-01T17:52:40.454Z"
   },
   {
    "duration": 34,
    "start_time": "2022-03-01T17:52:40.466Z"
   },
   {
    "duration": 1060,
    "start_time": "2022-03-01T17:52:40.503Z"
   },
   {
    "duration": 23,
    "start_time": "2022-03-01T17:52:41.566Z"
   },
   {
    "duration": 543,
    "start_time": "2022-03-01T17:52:41.592Z"
   },
   {
    "duration": 14,
    "start_time": "2022-03-01T17:52:42.138Z"
   },
   {
    "duration": 2301,
    "start_time": "2022-03-01T17:52:42.155Z"
   },
   {
    "duration": 9,
    "start_time": "2022-03-01T17:52:44.460Z"
   },
   {
    "duration": 440,
    "start_time": "2022-03-01T17:52:44.475Z"
   },
   {
    "duration": 2867,
    "start_time": "2022-03-01T17:52:44.919Z"
   },
   {
    "duration": 9,
    "start_time": "2022-03-01T17:52:47.789Z"
   },
   {
    "duration": 743,
    "start_time": "2022-03-01T17:52:47.802Z"
   },
   {
    "duration": 874,
    "start_time": "2022-03-01T17:52:48.552Z"
   },
   {
    "duration": 6,
    "start_time": "2022-03-01T17:52:49.429Z"
   },
   {
    "duration": 19,
    "start_time": "2022-03-01T17:52:49.437Z"
   },
   {
    "duration": 1707,
    "start_time": "2022-03-01T17:52:49.458Z"
   },
   {
    "duration": 364,
    "start_time": "2022-03-01T17:52:51.168Z"
   },
   {
    "duration": 3,
    "start_time": "2022-03-01T17:52:51.535Z"
   },
   {
    "duration": 354,
    "start_time": "2022-03-01T17:52:51.552Z"
   },
   {
    "duration": 88,
    "start_time": "2022-03-01T17:52:51.909Z"
   },
   {
    "duration": 485,
    "start_time": "2022-03-01T17:52:52.000Z"
   },
   {
    "duration": 25,
    "start_time": "2022-03-01T17:52:52.488Z"
   },
   {
    "duration": 3,
    "start_time": "2022-03-01T17:52:52.516Z"
   },
   {
    "duration": 878,
    "start_time": "2022-03-01T17:52:52.551Z"
   },
   {
    "duration": 8,
    "start_time": "2022-03-01T17:52:53.432Z"
   },
   {
    "duration": 140,
    "start_time": "2022-03-01T17:52:53.452Z"
   },
   {
    "duration": 18,
    "start_time": "2022-03-01T17:52:53.595Z"
   },
   {
    "duration": 8,
    "start_time": "2022-03-01T17:52:53.615Z"
   },
   {
    "duration": 36,
    "start_time": "2022-03-01T17:52:53.625Z"
   },
   {
    "duration": 20,
    "start_time": "2022-03-01T17:52:53.664Z"
   },
   {
    "duration": 5,
    "start_time": "2022-03-01T17:52:53.687Z"
   },
   {
    "duration": 12,
    "start_time": "2022-03-01T17:52:53.694Z"
   }
  ],
  "kernelspec": {
   "display_name": "Python 3 (ipykernel)",
   "language": "python",
   "name": "python3"
  },
  "language_info": {
   "codemirror_mode": {
    "name": "ipython",
    "version": 3
   },
   "file_extension": ".py",
   "mimetype": "text/x-python",
   "name": "python",
   "nbconvert_exporter": "python",
   "pygments_lexer": "ipython3",
   "version": "3.9.9"
  },
  "toc": {
   "base_numbering": 1,
   "nav_menu": {},
   "number_sections": true,
   "sideBar": true,
   "skip_h1_title": true,
   "title_cell": "Table of Contents",
   "title_sidebar": "Contents",
   "toc_cell": false,
   "toc_position": {
    "height": "calc(100% - 180px)",
    "left": "10px",
    "top": "150px",
    "width": "229.0625px"
   },
   "toc_section_display": true,
   "toc_window_display": true
  }
 },
 "nbformat": 4,
 "nbformat_minor": 4
}
