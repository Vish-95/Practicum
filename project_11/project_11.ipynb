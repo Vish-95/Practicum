{
 "cells": [
  {
   "cell_type": "markdown",
   "metadata": {},
   "source": [
    "# Определение стоимости автомобилей"
   ]
  },
  {
   "cell_type": "markdown",
   "metadata": {},
   "source": [
    "Сервис по продаже автомобилей с пробегом «Не бит, не крашен» разрабатывает приложение для привлечения новых клиентов. В нём можно быстро узнать рыночную стоимость своего автомобиля. В вашем распоряжении исторические данные: технические характеристики, комплектации и цены автомобилей. Вам нужно построить модель для определения стоимости. \n",
    "\n",
    "Заказчику важны:\n",
    "\n",
    "- качество предсказания;\n",
    "- скорость предсказания;\n",
    "- время обучения."
   ]
  },
  {
   "cell_type": "code",
   "execution_count": 2,
   "metadata": {},
   "outputs": [],
   "source": [
    "import math\n",
    "import matplotlib.pyplot as plt\n",
    "import numpy as np\n",
    "import pandas as pd\n",
    "import random\n",
    "import re\n",
    "import time\n",
    "import seaborn as sns\n",
    "from sklearn.metrics import make_scorer\n",
    "from sklearn.metrics import mean_squared_error\n",
    "from sklearn.model_selection import train_test_split\n",
    "from sklearn.model_selection import GridSearchCV\n",
    "from sklearn.model_selection import cross_val_score\n",
    "from sklearn.preprocessing import OrdinalEncoder\n",
    "from sklearn.tree import DecisionTreeRegressor\n",
    "from sklearn.ensemble import RandomForestRegressor\n",
    "from sklearn.linear_model import LinearRegression\n",
    "from lightgbm import LGBMRegressor\n",
    "RANDOM_STATE = 1234"
   ]
  },
  {
   "cell_type": "markdown",
   "metadata": {},
   "source": [
    "## Подготовка данных"
   ]
  },
  {
   "cell_type": "markdown",
   "metadata": {},
   "source": [
    "### Изучение данных из файла"
   ]
  },
  {
   "cell_type": "code",
   "execution_count": 3,
   "metadata": {},
   "outputs": [
    {
     "data": {
      "text/html": [
       "<div>\n",
       "<style scoped>\n",
       "    .dataframe tbody tr th:only-of-type {\n",
       "        vertical-align: middle;\n",
       "    }\n",
       "\n",
       "    .dataframe tbody tr th {\n",
       "        vertical-align: top;\n",
       "    }\n",
       "\n",
       "    .dataframe thead th {\n",
       "        text-align: right;\n",
       "    }\n",
       "</style>\n",
       "<table border=\"1\" class=\"dataframe\">\n",
       "  <thead>\n",
       "    <tr style=\"text-align: right;\">\n",
       "      <th></th>\n",
       "      <th>DateCrawled</th>\n",
       "      <th>Price</th>\n",
       "      <th>VehicleType</th>\n",
       "      <th>RegistrationYear</th>\n",
       "      <th>Gearbox</th>\n",
       "      <th>Power</th>\n",
       "      <th>Model</th>\n",
       "      <th>Kilometer</th>\n",
       "      <th>RegistrationMonth</th>\n",
       "      <th>FuelType</th>\n",
       "      <th>Brand</th>\n",
       "      <th>NotRepaired</th>\n",
       "      <th>DateCreated</th>\n",
       "      <th>NumberOfPictures</th>\n",
       "      <th>PostalCode</th>\n",
       "      <th>LastSeen</th>\n",
       "    </tr>\n",
       "  </thead>\n",
       "  <tbody>\n",
       "    <tr>\n",
       "      <th>0</th>\n",
       "      <td>2016-03-24 11:52:17</td>\n",
       "      <td>480</td>\n",
       "      <td>NaN</td>\n",
       "      <td>1993</td>\n",
       "      <td>manual</td>\n",
       "      <td>0</td>\n",
       "      <td>golf</td>\n",
       "      <td>150000</td>\n",
       "      <td>0</td>\n",
       "      <td>petrol</td>\n",
       "      <td>volkswagen</td>\n",
       "      <td>NaN</td>\n",
       "      <td>2016-03-24 00:00:00</td>\n",
       "      <td>0</td>\n",
       "      <td>70435</td>\n",
       "      <td>2016-04-07 03:16:57</td>\n",
       "    </tr>\n",
       "    <tr>\n",
       "      <th>1</th>\n",
       "      <td>2016-03-24 10:58:45</td>\n",
       "      <td>18300</td>\n",
       "      <td>coupe</td>\n",
       "      <td>2011</td>\n",
       "      <td>manual</td>\n",
       "      <td>190</td>\n",
       "      <td>NaN</td>\n",
       "      <td>125000</td>\n",
       "      <td>5</td>\n",
       "      <td>gasoline</td>\n",
       "      <td>audi</td>\n",
       "      <td>yes</td>\n",
       "      <td>2016-03-24 00:00:00</td>\n",
       "      <td>0</td>\n",
       "      <td>66954</td>\n",
       "      <td>2016-04-07 01:46:50</td>\n",
       "    </tr>\n",
       "    <tr>\n",
       "      <th>2</th>\n",
       "      <td>2016-03-14 12:52:21</td>\n",
       "      <td>9800</td>\n",
       "      <td>suv</td>\n",
       "      <td>2004</td>\n",
       "      <td>auto</td>\n",
       "      <td>163</td>\n",
       "      <td>grand</td>\n",
       "      <td>125000</td>\n",
       "      <td>8</td>\n",
       "      <td>gasoline</td>\n",
       "      <td>jeep</td>\n",
       "      <td>NaN</td>\n",
       "      <td>2016-03-14 00:00:00</td>\n",
       "      <td>0</td>\n",
       "      <td>90480</td>\n",
       "      <td>2016-04-05 12:47:46</td>\n",
       "    </tr>\n",
       "    <tr>\n",
       "      <th>3</th>\n",
       "      <td>2016-03-17 16:54:04</td>\n",
       "      <td>1500</td>\n",
       "      <td>small</td>\n",
       "      <td>2001</td>\n",
       "      <td>manual</td>\n",
       "      <td>75</td>\n",
       "      <td>golf</td>\n",
       "      <td>150000</td>\n",
       "      <td>6</td>\n",
       "      <td>petrol</td>\n",
       "      <td>volkswagen</td>\n",
       "      <td>no</td>\n",
       "      <td>2016-03-17 00:00:00</td>\n",
       "      <td>0</td>\n",
       "      <td>91074</td>\n",
       "      <td>2016-03-17 17:40:17</td>\n",
       "    </tr>\n",
       "    <tr>\n",
       "      <th>4</th>\n",
       "      <td>2016-03-31 17:25:20</td>\n",
       "      <td>3600</td>\n",
       "      <td>small</td>\n",
       "      <td>2008</td>\n",
       "      <td>manual</td>\n",
       "      <td>69</td>\n",
       "      <td>fabia</td>\n",
       "      <td>90000</td>\n",
       "      <td>7</td>\n",
       "      <td>gasoline</td>\n",
       "      <td>skoda</td>\n",
       "      <td>no</td>\n",
       "      <td>2016-03-31 00:00:00</td>\n",
       "      <td>0</td>\n",
       "      <td>60437</td>\n",
       "      <td>2016-04-06 10:17:21</td>\n",
       "    </tr>\n",
       "  </tbody>\n",
       "</table>\n",
       "</div>"
      ],
      "text/plain": [
       "           DateCrawled  Price VehicleType  RegistrationYear Gearbox  Power  \\\n",
       "0  2016-03-24 11:52:17    480         NaN              1993  manual      0   \n",
       "1  2016-03-24 10:58:45  18300       coupe              2011  manual    190   \n",
       "2  2016-03-14 12:52:21   9800         suv              2004    auto    163   \n",
       "3  2016-03-17 16:54:04   1500       small              2001  manual     75   \n",
       "4  2016-03-31 17:25:20   3600       small              2008  manual     69   \n",
       "\n",
       "   Model  Kilometer  RegistrationMonth  FuelType       Brand NotRepaired  \\\n",
       "0   golf     150000                  0    petrol  volkswagen         NaN   \n",
       "1    NaN     125000                  5  gasoline        audi         yes   \n",
       "2  grand     125000                  8  gasoline        jeep         NaN   \n",
       "3   golf     150000                  6    petrol  volkswagen          no   \n",
       "4  fabia      90000                  7  gasoline       skoda          no   \n",
       "\n",
       "           DateCreated  NumberOfPictures  PostalCode             LastSeen  \n",
       "0  2016-03-24 00:00:00                 0       70435  2016-04-07 03:16:57  \n",
       "1  2016-03-24 00:00:00                 0       66954  2016-04-07 01:46:50  \n",
       "2  2016-03-14 00:00:00                 0       90480  2016-04-05 12:47:46  \n",
       "3  2016-03-17 00:00:00                 0       91074  2016-03-17 17:40:17  \n",
       "4  2016-03-31 00:00:00                 0       60437  2016-04-06 10:17:21  "
      ]
     },
     "execution_count": 3,
     "metadata": {},
     "output_type": "execute_result"
    }
   ],
   "source": [
    "df = pd.read_csv('/datasets/autos.csv')\n",
    "df.head()"
   ]
  },
  {
   "cell_type": "code",
   "execution_count": 4,
   "metadata": {
    "scrolled": true
   },
   "outputs": [
    {
     "name": "stdout",
     "output_type": "stream",
     "text": [
      "<class 'pandas.core.frame.DataFrame'>\n",
      "RangeIndex: 354369 entries, 0 to 354368\n",
      "Data columns (total 16 columns):\n",
      " #   Column             Non-Null Count   Dtype \n",
      "---  ------             --------------   ----- \n",
      " 0   DateCrawled        354369 non-null  object\n",
      " 1   Price              354369 non-null  int64 \n",
      " 2   VehicleType        316879 non-null  object\n",
      " 3   RegistrationYear   354369 non-null  int64 \n",
      " 4   Gearbox            334536 non-null  object\n",
      " 5   Power              354369 non-null  int64 \n",
      " 6   Model              334664 non-null  object\n",
      " 7   Kilometer          354369 non-null  int64 \n",
      " 8   RegistrationMonth  354369 non-null  int64 \n",
      " 9   FuelType           321474 non-null  object\n",
      " 10  Brand              354369 non-null  object\n",
      " 11  NotRepaired        283215 non-null  object\n",
      " 12  DateCreated        354369 non-null  object\n",
      " 13  NumberOfPictures   354369 non-null  int64 \n",
      " 14  PostalCode         354369 non-null  int64 \n",
      " 15  LastSeen           354369 non-null  object\n",
      "dtypes: int64(7), object(9)\n",
      "memory usage: 43.3+ MB\n"
     ]
    }
   ],
   "source": [
    "df.info()"
   ]
  },
  {
   "cell_type": "markdown",
   "metadata": {},
   "source": [
    "Согласно документации к данным:\n",
    "\n",
    "**Признаки**\n",
    "\n",
    "- DateCrawled — дата скачивания анкеты из базы\n",
    "- vehicle_type — тип автомобильного кузова\n",
    "- registration_year — год регистрации автомобиля\n",
    "- gearbox — тип коробки передач\n",
    "- Power — мощность (л. с.)\n",
    "- model — модель автомобиля\n",
    "- Kilometer — пробег (км)\n",
    "- RegistrationMonth — месяц регистрации автомобиля\n",
    "- fuel_type — тип топлива\n",
    "- Brand — марка автомобиля\n",
    "- not_repaired — была машина в ремонте или нет\n",
    "- DateCreated — дата создания анкеты\n",
    "- NumberOfPictures — количество фотографий автомобиля\n",
    "- PostalCode — почтовый индекс владельца анкеты (пользователя)\n",
    "- LastSeen — дата последней активности пользователя\n",
    "\n",
    "**Целевой признак**\n",
    "- Price — цена (евро)"
   ]
  },
  {
   "cell_type": "markdown",
   "metadata": {},
   "source": [
    "**Вывод**\n",
    "- Данных для анализа достаточно.\n",
    "- Пропущенные данные в переменных: *vehicle_type, gearbox, model, fuel_type, not_repaired*. \n",
    "\n",
    "Переменные не влияющие на предсказане модели: *DateCrawled, RegistrationMonth, DateCreated, PostalCode, LastSeen*, параметр *NumberOfPictures* содержит токлько одно значение `0`."
   ]
  },
  {
   "cell_type": "markdown",
   "metadata": {},
   "source": [
    "### Обработка данных"
   ]
  },
  {
   "cell_type": "markdown",
   "metadata": {},
   "source": [
    "Приведем названия столбцов датафрейма к нижнему регистру и змеиному стилю:"
   ]
  },
  {
   "cell_type": "code",
   "execution_count": 7,
   "metadata": {},
   "outputs": [],
   "source": [
    "df.columns = [re.sub(r'(?<!^)(?=[A-Z])', '_', name).lower() for name in df.columns]"
   ]
  },
  {
   "cell_type": "code",
   "execution_count": 8,
   "metadata": {},
   "outputs": [
    {
     "data": {
      "text/html": [
       "<div>\n",
       "<style scoped>\n",
       "    .dataframe tbody tr th:only-of-type {\n",
       "        vertical-align: middle;\n",
       "    }\n",
       "\n",
       "    .dataframe tbody tr th {\n",
       "        vertical-align: top;\n",
       "    }\n",
       "\n",
       "    .dataframe thead th {\n",
       "        text-align: right;\n",
       "    }\n",
       "</style>\n",
       "<table border=\"1\" class=\"dataframe\">\n",
       "  <thead>\n",
       "    <tr style=\"text-align: right;\">\n",
       "      <th></th>\n",
       "      <th>date_crawled</th>\n",
       "      <th>price</th>\n",
       "      <th>vehicle_type</th>\n",
       "      <th>registration_year</th>\n",
       "      <th>gearbox</th>\n",
       "      <th>power</th>\n",
       "      <th>model</th>\n",
       "      <th>kilometer</th>\n",
       "      <th>registration_month</th>\n",
       "      <th>fuel_type</th>\n",
       "      <th>brand</th>\n",
       "      <th>not_repaired</th>\n",
       "      <th>date_created</th>\n",
       "      <th>number_of_pictures</th>\n",
       "      <th>postal_code</th>\n",
       "      <th>last_seen</th>\n",
       "    </tr>\n",
       "  </thead>\n",
       "  <tbody>\n",
       "    <tr>\n",
       "      <th>0</th>\n",
       "      <td>2016-03-24 11:52:17</td>\n",
       "      <td>480</td>\n",
       "      <td>NaN</td>\n",
       "      <td>1993</td>\n",
       "      <td>manual</td>\n",
       "      <td>0</td>\n",
       "      <td>golf</td>\n",
       "      <td>150000</td>\n",
       "      <td>0</td>\n",
       "      <td>petrol</td>\n",
       "      <td>volkswagen</td>\n",
       "      <td>NaN</td>\n",
       "      <td>2016-03-24 00:00:00</td>\n",
       "      <td>0</td>\n",
       "      <td>70435</td>\n",
       "      <td>2016-04-07 03:16:57</td>\n",
       "    </tr>\n",
       "    <tr>\n",
       "      <th>1</th>\n",
       "      <td>2016-03-24 10:58:45</td>\n",
       "      <td>18300</td>\n",
       "      <td>coupe</td>\n",
       "      <td>2011</td>\n",
       "      <td>manual</td>\n",
       "      <td>190</td>\n",
       "      <td>NaN</td>\n",
       "      <td>125000</td>\n",
       "      <td>5</td>\n",
       "      <td>gasoline</td>\n",
       "      <td>audi</td>\n",
       "      <td>yes</td>\n",
       "      <td>2016-03-24 00:00:00</td>\n",
       "      <td>0</td>\n",
       "      <td>66954</td>\n",
       "      <td>2016-04-07 01:46:50</td>\n",
       "    </tr>\n",
       "    <tr>\n",
       "      <th>2</th>\n",
       "      <td>2016-03-14 12:52:21</td>\n",
       "      <td>9800</td>\n",
       "      <td>suv</td>\n",
       "      <td>2004</td>\n",
       "      <td>auto</td>\n",
       "      <td>163</td>\n",
       "      <td>grand</td>\n",
       "      <td>125000</td>\n",
       "      <td>8</td>\n",
       "      <td>gasoline</td>\n",
       "      <td>jeep</td>\n",
       "      <td>NaN</td>\n",
       "      <td>2016-03-14 00:00:00</td>\n",
       "      <td>0</td>\n",
       "      <td>90480</td>\n",
       "      <td>2016-04-05 12:47:46</td>\n",
       "    </tr>\n",
       "    <tr>\n",
       "      <th>3</th>\n",
       "      <td>2016-03-17 16:54:04</td>\n",
       "      <td>1500</td>\n",
       "      <td>small</td>\n",
       "      <td>2001</td>\n",
       "      <td>manual</td>\n",
       "      <td>75</td>\n",
       "      <td>golf</td>\n",
       "      <td>150000</td>\n",
       "      <td>6</td>\n",
       "      <td>petrol</td>\n",
       "      <td>volkswagen</td>\n",
       "      <td>no</td>\n",
       "      <td>2016-03-17 00:00:00</td>\n",
       "      <td>0</td>\n",
       "      <td>91074</td>\n",
       "      <td>2016-03-17 17:40:17</td>\n",
       "    </tr>\n",
       "    <tr>\n",
       "      <th>4</th>\n",
       "      <td>2016-03-31 17:25:20</td>\n",
       "      <td>3600</td>\n",
       "      <td>small</td>\n",
       "      <td>2008</td>\n",
       "      <td>manual</td>\n",
       "      <td>69</td>\n",
       "      <td>fabia</td>\n",
       "      <td>90000</td>\n",
       "      <td>7</td>\n",
       "      <td>gasoline</td>\n",
       "      <td>skoda</td>\n",
       "      <td>no</td>\n",
       "      <td>2016-03-31 00:00:00</td>\n",
       "      <td>0</td>\n",
       "      <td>60437</td>\n",
       "      <td>2016-04-06 10:17:21</td>\n",
       "    </tr>\n",
       "  </tbody>\n",
       "</table>\n",
       "</div>"
      ],
      "text/plain": [
       "          date_crawled  price vehicle_type  registration_year gearbox  power  \\\n",
       "0  2016-03-24 11:52:17    480          NaN               1993  manual      0   \n",
       "1  2016-03-24 10:58:45  18300        coupe               2011  manual    190   \n",
       "2  2016-03-14 12:52:21   9800          suv               2004    auto    163   \n",
       "3  2016-03-17 16:54:04   1500        small               2001  manual     75   \n",
       "4  2016-03-31 17:25:20   3600        small               2008  manual     69   \n",
       "\n",
       "   model  kilometer  registration_month fuel_type       brand not_repaired  \\\n",
       "0   golf     150000                   0    petrol  volkswagen          NaN   \n",
       "1    NaN     125000                   5  gasoline        audi          yes   \n",
       "2  grand     125000                   8  gasoline        jeep          NaN   \n",
       "3   golf     150000                   6    petrol  volkswagen           no   \n",
       "4  fabia      90000                   7  gasoline       skoda           no   \n",
       "\n",
       "          date_created  number_of_pictures  postal_code            last_seen  \n",
       "0  2016-03-24 00:00:00                   0        70435  2016-04-07 03:16:57  \n",
       "1  2016-03-24 00:00:00                   0        66954  2016-04-07 01:46:50  \n",
       "2  2016-03-14 00:00:00                   0        90480  2016-04-05 12:47:46  \n",
       "3  2016-03-17 00:00:00                   0        91074  2016-03-17 17:40:17  \n",
       "4  2016-03-31 00:00:00                   0        60437  2016-04-06 10:17:21  "
      ]
     },
     "execution_count": 8,
     "metadata": {},
     "output_type": "execute_result"
    }
   ],
   "source": [
    "df.head()"
   ]
  },
  {
   "cell_type": "markdown",
   "metadata": {},
   "source": [
    "- **Дубликаты**"
   ]
  },
  {
   "cell_type": "code",
   "execution_count": 8,
   "metadata": {},
   "outputs": [
    {
     "data": {
      "text/plain": [
       "4"
      ]
     },
     "execution_count": 8,
     "metadata": {},
     "output_type": "execute_result"
    }
   ],
   "source": [
    "# Явные дубликаты\n",
    "df.duplicated().sum()"
   ]
  },
  {
   "cell_type": "code",
   "execution_count": 9,
   "metadata": {},
   "outputs": [],
   "source": [
    "df = df.drop_duplicates().reset_index(drop=True)"
   ]
  },
  {
   "cell_type": "code",
   "execution_count": 10,
   "metadata": {},
   "outputs": [
    {
     "data": {
      "text/plain": [
       "array([nan, 'coupe', 'suv', 'small', 'sedan', 'convertible', 'bus',\n",
       "       'wagon', 'other'], dtype=object)"
      ]
     },
     "metadata": {},
     "output_type": "display_data"
    },
    {
     "data": {
      "text/plain": [
       "array(['manual', 'auto', nan], dtype=object)"
      ]
     },
     "metadata": {},
     "output_type": "display_data"
    },
    {
     "data": {
      "text/plain": [
       "array(['petrol', 'gasoline', nan, 'lpg', 'other', 'hybrid', 'cng',\n",
       "       'electric'], dtype=object)"
      ]
     },
     "metadata": {},
     "output_type": "display_data"
    },
    {
     "data": {
      "text/plain": [
       "array(['volkswagen', 'audi', 'jeep', 'skoda', 'bmw', 'peugeot', 'ford',\n",
       "       'mazda', 'nissan', 'renault', 'mercedes_benz', 'opel', 'seat',\n",
       "       'citroen', 'honda', 'fiat', 'mini', 'smart', 'hyundai',\n",
       "       'sonstige_autos', 'alfa_romeo', 'subaru', 'volvo', 'mitsubishi',\n",
       "       'kia', 'suzuki', 'lancia', 'toyota', 'chevrolet', 'dacia',\n",
       "       'daihatsu', 'trabant', 'saab', 'chrysler', 'jaguar', 'daewoo',\n",
       "       'porsche', 'rover', 'land_rover', 'lada'], dtype=object)"
      ]
     },
     "metadata": {},
     "output_type": "display_data"
    }
   ],
   "source": [
    "# Неявные дубликаты\n",
    "display(df['vehicle_type'].unique())\n",
    "display(df['gearbox'].unique())\n",
    "display(df['fuel_type'].unique())\n",
    "display(df['brand'].unique())"
   ]
  },
  {
   "cell_type": "markdown",
   "metadata": {},
   "source": [
    "- **Некорректные значения**"
   ]
  },
  {
   "cell_type": "code",
   "execution_count": 11,
   "metadata": {
    "scrolled": true
   },
   "outputs": [
    {
     "data": {
      "text/plain": [
       "array([1000, 1001, 1039, 1111, 1200, 1234, 1253, 1255, 1300, 1400, 1500,\n",
       "       1600, 1602, 1688, 1800, 1910, 1915, 1919, 1920, 1923, 1925, 1927,\n",
       "       1928, 1929, 1930, 1931, 1932, 1933, 1934, 1935, 1936, 1937, 1938,\n",
       "       1940, 1941, 1942, 1943, 1944, 1945, 1946, 1947, 1948, 1949, 1950,\n",
       "       1951, 1952, 1953, 1954, 1955, 1956, 1957, 1958, 1959, 1960, 1961,\n",
       "       1962, 1963, 1964, 1965, 1966, 1967, 1968, 1969, 1970, 1971, 1972,\n",
       "       1973, 1974, 1975, 1976, 1977, 1978, 1979, 1980, 1981, 1982, 1983,\n",
       "       1984, 1985, 1986, 1987, 1988, 1989, 1990, 1991, 1992, 1993, 1994,\n",
       "       1995, 1996, 1997, 1998, 1999, 2000, 2001, 2002, 2003, 2004, 2005,\n",
       "       2006, 2007, 2008, 2009, 2010, 2011, 2012, 2013, 2014, 2015, 2016,\n",
       "       2017, 2018, 2019, 2066, 2200, 2222, 2290, 2500, 2800, 2900, 3000,\n",
       "       3200, 3500, 3700, 3800, 4000, 4100, 4500, 4800, 5000, 5300, 5555,\n",
       "       5600, 5900, 5911, 6000, 6500, 7000, 7100, 7500, 7800, 8000, 8200,\n",
       "       8455, 8500, 8888, 9000, 9229, 9450, 9996, 9999])"
      ]
     },
     "execution_count": 11,
     "metadata": {},
     "output_type": "execute_result"
    }
   ],
   "source": [
    "df['registration_year'].sort_values().unique()"
   ]
  },
  {
   "cell_type": "markdown",
   "metadata": {},
   "source": [
    "Ограничим параметр `registration_year` значениями $\\in [1910, 2019]$"
   ]
  },
  {
   "cell_type": "code",
   "execution_count": 12,
   "metadata": {
    "scrolled": true
   },
   "outputs": [
    {
     "name": "stdout",
     "output_type": "stream",
     "text": [
      "66\n",
      "105\n"
     ]
    }
   ],
   "source": [
    "print(len(df.query('registration_year < 1910')['registration_year']))\n",
    "print(len(df.query('registration_year > 2019')['registration_year']))"
   ]
  },
  {
   "cell_type": "markdown",
   "metadata": {},
   "source": [
    "Поскольку имеется небольшое количество объектов со значеними `registration_year`, выходящих за пределы выбранного диапазона, удалим иx из исходного датафрейма:"
   ]
  },
  {
   "cell_type": "code",
   "execution_count": 13,
   "metadata": {},
   "outputs": [],
   "source": [
    "df = df.query(\"registration_year >= 1910 and registration_year <= 2019\")"
   ]
  },
  {
   "cell_type": "markdown",
   "metadata": {},
   "source": [
    "В параметре `power` значения заменим на медианное по группе `model`, так как много объектов с аномальными значениями. Но сначала устраним пропуски в параметре `model`. "
   ]
  },
  {
   "cell_type": "markdown",
   "metadata": {},
   "source": [
    "- **Пропуски**"
   ]
  },
  {
   "cell_type": "code",
   "execution_count": 14,
   "metadata": {
    "scrolled": true
   },
   "outputs": [
    {
     "data": {
      "text/plain": [
       "date_crawled              0\n",
       "price                     0\n",
       "vehicle_type          37319\n",
       "registration_year         0\n",
       "gearbox               19695\n",
       "power                     0\n",
       "model                 19630\n",
       "kilometer                 0\n",
       "registration_month        0\n",
       "fuel_type             32767\n",
       "brand                     0\n",
       "not_repaired          71007\n",
       "date_created              0\n",
       "number_of_pictures        0\n",
       "postal_code               0\n",
       "last_seen                 0\n",
       "dtype: int64"
      ]
     },
     "execution_count": 14,
     "metadata": {},
     "output_type": "execute_result"
    }
   ],
   "source": [
    "df.isna().sum()"
   ]
  },
  {
   "cell_type": "markdown",
   "metadata": {},
   "source": [
    "Пропущенные значения в параметре `model` заменим `unknown`:"
   ]
  },
  {
   "cell_type": "code",
   "execution_count": 15,
   "metadata": {},
   "outputs": [],
   "source": [
    "df['model'] = df['model'].fillna('unknown')"
   ]
  },
  {
   "cell_type": "markdown",
   "metadata": {},
   "source": [
    "Заменим значения в параметре `power`:"
   ]
  },
  {
   "cell_type": "code",
   "execution_count": 16,
   "metadata": {},
   "outputs": [],
   "source": [
    "df['power'] = df.groupby('model')['power'].transform('median')"
   ]
  },
  {
   "cell_type": "markdown",
   "metadata": {},
   "source": [
    "Заменим пропущенные значения в параметре `not_repaired` самым частым значенинием, предварительно сгруппировав по году регистрации и модели:"
   ]
  },
  {
   "cell_type": "code",
   "execution_count": 19,
   "metadata": {},
   "outputs": [],
   "source": [
    "df['not_repaired'].fillna(df.groupby(['registration_year', 'model'])['not_repaired'].transform(lambda x: x.mode()[0] if not x.mode().empty else np.nan), inplace=True)"
   ]
  },
  {
   "cell_type": "code",
   "execution_count": 20,
   "metadata": {},
   "outputs": [
    {
     "data": {
      "text/plain": [
       "0.12761368063829426"
      ]
     },
     "execution_count": 20,
     "metadata": {},
     "output_type": "execute_result"
    }
   ],
   "source": [
    "df['not_repaired'].isna().sum() / df['not_repaired'].shape[0] * 100"
   ]
  },
  {
   "cell_type": "markdown",
   "metadata": {},
   "source": [
    "После обработки пропусков в столбце `not_repaired` осталось 0.1% пропущенных данных. Удалим эти записи из датасета."
   ]
  },
  {
   "cell_type": "code",
   "execution_count": 21,
   "metadata": {},
   "outputs": [],
   "source": [
    "df = df.dropna(subset=['not_repaired']).reset_index(drop=True)"
   ]
  },
  {
   "cell_type": "markdown",
   "metadata": {},
   "source": [
    "Пропущенные значения параметра `vehicle_type` заменим наиболее часто встречающемся из группы `model`:"
   ]
  },
  {
   "cell_type": "code",
   "execution_count": 22,
   "metadata": {},
   "outputs": [],
   "source": [
    "df['vehicle_type'].fillna(df.groupby('model')['vehicle_type'].transform(lambda x: x.mode()[0] if not x.mode().empty else np.nan), inplace=True)"
   ]
  },
  {
   "cell_type": "markdown",
   "metadata": {},
   "source": [
    "Аналогично поступим с пропущенными значениями параметра`gearbox`:"
   ]
  },
  {
   "cell_type": "code",
   "execution_count": 23,
   "metadata": {},
   "outputs": [],
   "source": [
    "df['gearbox'].fillna(df.groupby('model')['gearbox'].transform(lambda x: x.mode()[0]), inplace=True)"
   ]
  },
  {
   "cell_type": "markdown",
   "metadata": {},
   "source": [
    "Пропуски в `fuel_type` заполним наиболее часто встречающемся значением, на основе параметров `gearbox` и `power`:"
   ]
  },
  {
   "cell_type": "code",
   "execution_count": 24,
   "metadata": {},
   "outputs": [],
   "source": [
    "df['fuel_type'].fillna(df.groupby(['gearbox', 'power'])['fuel_type'].transform(lambda x: x.mode()[0]), inplace=True)"
   ]
  },
  {
   "cell_type": "code",
   "execution_count": 25,
   "metadata": {},
   "outputs": [
    {
     "data": {
      "text/plain": [
       "date_crawled          0\n",
       "price                 0\n",
       "vehicle_type          0\n",
       "registration_year     0\n",
       "gearbox               0\n",
       "power                 0\n",
       "model                 0\n",
       "kilometer             0\n",
       "registration_month    0\n",
       "fuel_type             0\n",
       "brand                 0\n",
       "not_repaired          0\n",
       "date_created          0\n",
       "number_of_pictures    0\n",
       "postal_code           0\n",
       "last_seen             0\n",
       "dtype: int64"
      ]
     },
     "execution_count": 25,
     "metadata": {},
     "output_type": "execute_result"
    }
   ],
   "source": [
    "df.isna().sum()"
   ]
  },
  {
   "cell_type": "markdown",
   "metadata": {},
   "source": [
    "- **Тип данных**"
   ]
  },
  {
   "cell_type": "code",
   "execution_count": 26,
   "metadata": {
    "scrolled": true
   },
   "outputs": [
    {
     "data": {
      "text/plain": [
       "date_crawled           object\n",
       "price                   int64\n",
       "vehicle_type           object\n",
       "registration_year       int64\n",
       "gearbox                object\n",
       "power                 float64\n",
       "model                  object\n",
       "kilometer               int64\n",
       "registration_month      int64\n",
       "fuel_type              object\n",
       "brand                  object\n",
       "not_repaired           object\n",
       "date_created           object\n",
       "number_of_pictures      int64\n",
       "postal_code             int64\n",
       "last_seen              object\n",
       "dtype: object"
      ]
     },
     "execution_count": 26,
     "metadata": {},
     "output_type": "execute_result"
    }
   ],
   "source": [
    "df.dtypes"
   ]
  },
  {
   "cell_type": "markdown",
   "metadata": {},
   "source": [
    "Приведём `power` к целочисленному типу:"
   ]
  },
  {
   "cell_type": "code",
   "execution_count": 27,
   "metadata": {},
   "outputs": [],
   "source": [
    "df['power'] = df['power'].astype('int')"
   ]
  },
  {
   "cell_type": "code",
   "execution_count": 28,
   "metadata": {},
   "outputs": [],
   "source": [
    "#столбцы 'date_crawled', 'date_created' приведём к типу datetime\n",
    "df['date_crawled'] = pd.to_datetime(df['date_crawled'])\n",
    "df['date_created'] = pd.to_datetime(df['date_created'])"
   ]
  },
  {
   "cell_type": "code",
   "execution_count": 29,
   "metadata": {},
   "outputs": [
    {
     "data": {
      "text/plain": [
       "date_crawled          datetime64[ns]\n",
       "price                          int64\n",
       "vehicle_type                  object\n",
       "registration_year              int64\n",
       "gearbox                       object\n",
       "power                          int64\n",
       "model                         object\n",
       "kilometer                      int64\n",
       "registration_month             int64\n",
       "fuel_type                     object\n",
       "brand                         object\n",
       "not_repaired                  object\n",
       "date_created          datetime64[ns]\n",
       "number_of_pictures             int64\n",
       "postal_code                    int64\n",
       "last_seen                     object\n",
       "dtype: object"
      ]
     },
     "execution_count": 29,
     "metadata": {},
     "output_type": "execute_result"
    }
   ],
   "source": [
    "df.dtypes"
   ]
  },
  {
   "cell_type": "markdown",
   "metadata": {},
   "source": [
    "### EDA"
   ]
  },
  {
   "cell_type": "code",
   "execution_count": 30,
   "metadata": {},
   "outputs": [],
   "source": [
    "# Удалим неинформативный признак number_of_pictures\n",
    "df = df.drop(columns=['number_of_pictures', ], axis=1)"
   ]
  },
  {
   "cell_type": "markdown",
   "metadata": {},
   "source": [
    "Рассмотрим взаимосвязь признаков date_crawled, date_cteated, regestration_year"
   ]
  },
  {
   "cell_type": "code",
   "execution_count": 31,
   "metadata": {},
   "outputs": [],
   "source": [
    "date = df[['date_crawled', 'date_created', 'registration_year', 'last_seen']]"
   ]
  },
  {
   "cell_type": "code",
   "execution_count": 32,
   "metadata": {},
   "outputs": [
    {
     "data": {
      "text/plain": [
       "Int64Index([2016], dtype='int64', name='date_crawled')"
      ]
     },
     "execution_count": 32,
     "metadata": {},
     "output_type": "execute_result"
    }
   ],
   "source": [
    "pd.DatetimeIndex(date['date_crawled']).year.unique()"
   ]
  },
  {
   "cell_type": "markdown",
   "metadata": {},
   "source": [
    "В переменной 'date_crawled' содержится только 2016 год. Значит все анкеты были скачены в один год, но в разные дни и месяцы."
   ]
  },
  {
   "cell_type": "code",
   "execution_count": 33,
   "metadata": {},
   "outputs": [
    {
     "name": "stderr",
     "output_type": "stream",
     "text": [
      "/tmp/ipykernel_66/4222443690.py:1: SettingWithCopyWarning: \n",
      "A value is trying to be set on a copy of a slice from a DataFrame.\n",
      "Try using .loc[row_indexer,col_indexer] = value instead\n",
      "\n",
      "See the caveats in the documentation: https://pandas.pydata.org/pandas-docs/stable/user_guide/indexing.html#returning-a-view-versus-a-copy\n",
      "  date['month_created'] = pd.DatetimeIndex(date['date_created']).month\n",
      "/tmp/ipykernel_66/4222443690.py:2: SettingWithCopyWarning: \n",
      "A value is trying to be set on a copy of a slice from a DataFrame.\n",
      "Try using .loc[row_indexer,col_indexer] = value instead\n",
      "\n",
      "See the caveats in the documentation: https://pandas.pydata.org/pandas-docs/stable/user_guide/indexing.html#returning-a-view-versus-a-copy\n",
      "  date['year_created'] = pd.DatetimeIndex(date['date_created']).year\n"
     ]
    }
   ],
   "source": [
    "date['month_created'] = pd.DatetimeIndex(date['date_created']).month\n",
    "date['year_created'] = pd.DatetimeIndex(date['date_created']).year"
   ]
  },
  {
   "cell_type": "code",
   "execution_count": 34,
   "metadata": {
    "scrolled": false
   },
   "outputs": [
    {
     "data": {
      "image/png": "[encoded data removed]",
      "text/plain": [
       "<Figure size 432x288 with 1 Axes>"
      ]
     },
     "metadata": {
      "needs_background": "light"
     },
     "output_type": "display_data"
    },
    {
     "data": {
      "image/png": "[encoded data removed]",
      "text/plain": [
       "<Figure size 432x288 with 1 Axes>"
      ]
     },
     "metadata": {
      "needs_background": "light"
     },
     "output_type": "display_data"
    }
   ],
   "source": [
    "# Количесвто зарегестрированных автомобитей в год\n",
    "pivot_table_date = date.pivot_table(index='registration_year', values='month_created', aggfunc='count').reset_index()\n",
    "pivot_table_date.columns = ['registration_year','count']\n",
    "pivot_table_date.plot(x='registration_year', y='count', xticks=np.arange(1920,2030, 10), legend=False).set(title='Количество зарегистрированных автомобилей в год', ylabel='count');\n",
    "pivot_table_date.query('registration_year > 2010').plot(x='registration_year', y='count', xticks=np.arange(2010,2020, 2), legend=False).set(title='Количество зарегистрированных автомобилей в год', ylabel='count');"
   ]
  },
  {
   "cell_type": "markdown",
   "metadata": {},
   "source": [
    "Из построенных графиков видно:\n",
    "- максимальное количество зарегистриванных автомобилей 1995-2000 гг;\n",
    "- резкий спад к 2015 г;\n",
    "- в 2016 – 2017 гг был новый пик зарегистрированных автомобилей"
   ]
  },
  {
   "cell_type": "markdown",
   "metadata": {},
   "source": [
    "- Выбросы"
   ]
  },
  {
   "cell_type": "code",
   "execution_count": 35,
   "metadata": {
    "scrolled": false
   },
   "outputs": [
    {
     "data": {
      "text/html": [
       "<div>\n",
       "<style scoped>\n",
       "    .dataframe tbody tr th:only-of-type {\n",
       "        vertical-align: middle;\n",
       "    }\n",
       "\n",
       "    .dataframe tbody tr th {\n",
       "        vertical-align: top;\n",
       "    }\n",
       "\n",
       "    .dataframe thead th {\n",
       "        text-align: right;\n",
       "    }\n",
       "</style>\n",
       "<table border=\"1\" class=\"dataframe\">\n",
       "  <thead>\n",
       "    <tr style=\"text-align: right;\">\n",
       "      <th></th>\n",
       "      <th>price</th>\n",
       "      <th>registration_year</th>\n",
       "      <th>power</th>\n",
       "      <th>kilometer</th>\n",
       "      <th>registration_month</th>\n",
       "      <th>postal_code</th>\n",
       "    </tr>\n",
       "  </thead>\n",
       "  <tbody>\n",
       "    <tr>\n",
       "      <th>count</th>\n",
       "      <td>353742.000000</td>\n",
       "      <td>353742.000000</td>\n",
       "      <td>353742.000000</td>\n",
       "      <td>353742.000000</td>\n",
       "      <td>353742.000000</td>\n",
       "      <td>353742.000000</td>\n",
       "    </tr>\n",
       "    <tr>\n",
       "      <th>mean</th>\n",
       "      <td>4419.839315</td>\n",
       "      <td>2003.101311</td>\n",
       "      <td>109.376642</td>\n",
       "      <td>128301.445686</td>\n",
       "      <td>5.720494</td>\n",
       "      <td>50515.116017</td>\n",
       "    </tr>\n",
       "    <tr>\n",
       "      <th>std</th>\n",
       "      <td>4514.184084</td>\n",
       "      <td>7.464051</td>\n",
       "      <td>38.991546</td>\n",
       "      <td>37777.635353</td>\n",
       "      <td>3.723951</td>\n",
       "      <td>25783.035155</td>\n",
       "    </tr>\n",
       "    <tr>\n",
       "      <th>min</th>\n",
       "      <td>0.000000</td>\n",
       "      <td>1910.000000</td>\n",
       "      <td>0.000000</td>\n",
       "      <td>5000.000000</td>\n",
       "      <td>0.000000</td>\n",
       "      <td>1067.000000</td>\n",
       "    </tr>\n",
       "    <tr>\n",
       "      <th>25%</th>\n",
       "      <td>1090.000000</td>\n",
       "      <td>1999.000000</td>\n",
       "      <td>75.000000</td>\n",
       "      <td>125000.000000</td>\n",
       "      <td>3.000000</td>\n",
       "      <td>30165.000000</td>\n",
       "    </tr>\n",
       "    <tr>\n",
       "      <th>50%</th>\n",
       "      <td>2700.000000</td>\n",
       "      <td>2003.000000</td>\n",
       "      <td>105.000000</td>\n",
       "      <td>150000.000000</td>\n",
       "      <td>6.000000</td>\n",
       "      <td>49413.000000</td>\n",
       "    </tr>\n",
       "    <tr>\n",
       "      <th>75%</th>\n",
       "      <td>6400.000000</td>\n",
       "      <td>2008.000000</td>\n",
       "      <td>136.000000</td>\n",
       "      <td>150000.000000</td>\n",
       "      <td>9.000000</td>\n",
       "      <td>71088.000000</td>\n",
       "    </tr>\n",
       "    <tr>\n",
       "      <th>max</th>\n",
       "      <td>20000.000000</td>\n",
       "      <td>2019.000000</td>\n",
       "      <td>343.000000</td>\n",
       "      <td>150000.000000</td>\n",
       "      <td>12.000000</td>\n",
       "      <td>99998.000000</td>\n",
       "    </tr>\n",
       "  </tbody>\n",
       "</table>\n",
       "</div>"
      ],
      "text/plain": [
       "               price  registration_year          power      kilometer  \\\n",
       "count  353742.000000      353742.000000  353742.000000  353742.000000   \n",
       "mean     4419.839315        2003.101311     109.376642  128301.445686   \n",
       "std      4514.184084           7.464051      38.991546   37777.635353   \n",
       "min         0.000000        1910.000000       0.000000    5000.000000   \n",
       "25%      1090.000000        1999.000000      75.000000  125000.000000   \n",
       "50%      2700.000000        2003.000000     105.000000  150000.000000   \n",
       "75%      6400.000000        2008.000000     136.000000  150000.000000   \n",
       "max     20000.000000        2019.000000     343.000000  150000.000000   \n",
       "\n",
       "       registration_month    postal_code  \n",
       "count       353742.000000  353742.000000  \n",
       "mean             5.720494   50515.116017  \n",
       "std              3.723951   25783.035155  \n",
       "min              0.000000    1067.000000  \n",
       "25%              3.000000   30165.000000  \n",
       "50%              6.000000   49413.000000  \n",
       "75%              9.000000   71088.000000  \n",
       "max             12.000000   99998.000000  "
      ]
     },
     "execution_count": 35,
     "metadata": {},
     "output_type": "execute_result"
    }
   ],
   "source": [
    "df.describe()"
   ]
  },
  {
   "cell_type": "code",
   "execution_count": 36,
   "metadata": {
    "scrolled": false
   },
   "outputs": [
    {
     "data": {
      "image/png": "[encoded data removed]",
      "text/plain": [
       "<Figure size 432x288 with 1 Axes>"
      ]
     },
     "metadata": {
      "needs_background": "light"
     },
     "output_type": "display_data"
    }
   ],
   "source": [
    "df.power.plot(kind='hist', grid=True).set(xlabel='Power', title='Гистограмма распределения power');"
   ]
  },
  {
   "cell_type": "markdown",
   "metadata": {},
   "source": [
    "При аналезе гистограммы распределения параметра `power`,  обнаружены выбросы. Очистим данные от выбросов:"
   ]
  },
  {
   "cell_type": "code",
   "execution_count": 37,
   "metadata": {},
   "outputs": [],
   "source": [
    "df = df.query('power >= 40 and power <= 200')"
   ]
  },
  {
   "cell_type": "code",
   "execution_count": 38,
   "metadata": {
    "scrolled": false
   },
   "outputs": [
    {
     "data": {
      "image/png": "[encoded data removed]",
      "text/plain": [
       "<Figure size 432x288 with 1 Axes>"
      ]
     },
     "metadata": {
      "needs_background": "light"
     },
     "output_type": "display_data"
    }
   ],
   "source": [
    "sns.boxplot(x=df['power']);"
   ]
  },
  {
   "cell_type": "code",
   "execution_count": 39,
   "metadata": {},
   "outputs": [
    {
     "data": {
      "image/png": "[encoded data removed]",
      "text/plain": [
       "<Figure size 432x288 with 1 Axes>"
      ]
     },
     "metadata": {
      "needs_background": "light"
     },
     "output_type": "display_data"
    }
   ],
   "source": [
    "df.price.plot(kind='hist', grid=True).set(xlabel='Price', title='Гистограмма распределения power');"
   ]
  },
  {
   "cell_type": "markdown",
   "metadata": {},
   "source": [
    "Удалим выбросы в параметре `price`:"
   ]
  },
  {
   "cell_type": "code",
   "execution_count": 40,
   "metadata": {},
   "outputs": [],
   "source": [
    "df = df.query('price < 16000')"
   ]
  },
  {
   "cell_type": "code",
   "execution_count": 41,
   "metadata": {},
   "outputs": [
    {
     "data": {
      "image/png": "[encoded data removed]",
      "text/plain": [
       "<Figure size 432x288 with 1 Axes>"
      ]
     },
     "metadata": {
      "needs_background": "light"
     },
     "output_type": "display_data"
    }
   ],
   "source": [
    "sns.boxplot(x=df.groupby('model')['price'].mean());"
   ]
  },
  {
   "cell_type": "markdown",
   "metadata": {},
   "source": [
    "- Зависимость цены от признаков "
   ]
  },
  {
   "cell_type": "code",
   "execution_count": 42,
   "metadata": {
    "scrolled": false
   },
   "outputs": [
    {
     "data": {
      "text/plain": [
       "<AxesSubplot:>"
      ]
     },
     "execution_count": 42,
     "metadata": {},
     "output_type": "execute_result"
    },
    {
     "data": {
      "image/png": "[encoded data removed]",
      "text/plain": [
       "<Figure size 432x288 with 2 Axes>"
      ]
     },
     "metadata": {
      "needs_background": "light"
     },
     "output_type": "display_data"
    }
   ],
   "source": [
    "sns.heatmap(df.corr())"
   ]
  },
  {
   "cell_type": "code",
   "execution_count": 43,
   "metadata": {},
   "outputs": [
    {
     "data": {
      "text/html": [
       "<div>\n",
       "<style scoped>\n",
       "    .dataframe tbody tr th:only-of-type {\n",
       "        vertical-align: middle;\n",
       "    }\n",
       "\n",
       "    .dataframe tbody tr th {\n",
       "        vertical-align: top;\n",
       "    }\n",
       "\n",
       "    .dataframe thead th {\n",
       "        text-align: right;\n",
       "    }\n",
       "</style>\n",
       "<table border=\"1\" class=\"dataframe\">\n",
       "  <thead>\n",
       "    <tr style=\"text-align: right;\">\n",
       "      <th></th>\n",
       "      <th>price</th>\n",
       "      <th>registration_year</th>\n",
       "      <th>power</th>\n",
       "      <th>kilometer</th>\n",
       "      <th>registration_month</th>\n",
       "      <th>postal_code</th>\n",
       "    </tr>\n",
       "  </thead>\n",
       "  <tbody>\n",
       "    <tr>\n",
       "      <th>price</th>\n",
       "      <td>1.000000</td>\n",
       "      <td>0.379443</td>\n",
       "      <td>0.310046</td>\n",
       "      <td>-0.306875</td>\n",
       "      <td>0.115790</td>\n",
       "      <td>0.072020</td>\n",
       "    </tr>\n",
       "    <tr>\n",
       "      <th>registration_year</th>\n",
       "      <td>0.379443</td>\n",
       "      <td>1.000000</td>\n",
       "      <td>-0.011837</td>\n",
       "      <td>-0.165913</td>\n",
       "      <td>0.042077</td>\n",
       "      <td>0.019762</td>\n",
       "    </tr>\n",
       "    <tr>\n",
       "      <th>power</th>\n",
       "      <td>0.310046</td>\n",
       "      <td>-0.011837</td>\n",
       "      <td>1.000000</td>\n",
       "      <td>0.186343</td>\n",
       "      <td>0.059352</td>\n",
       "      <td>0.038099</td>\n",
       "    </tr>\n",
       "    <tr>\n",
       "      <th>kilometer</th>\n",
       "      <td>-0.306875</td>\n",
       "      <td>-0.165913</td>\n",
       "      <td>0.186343</td>\n",
       "      <td>1.000000</td>\n",
       "      <td>0.009124</td>\n",
       "      <td>-0.005490</td>\n",
       "    </tr>\n",
       "    <tr>\n",
       "      <th>registration_month</th>\n",
       "      <td>0.115790</td>\n",
       "      <td>0.042077</td>\n",
       "      <td>0.059352</td>\n",
       "      <td>0.009124</td>\n",
       "      <td>1.000000</td>\n",
       "      <td>0.013308</td>\n",
       "    </tr>\n",
       "    <tr>\n",
       "      <th>postal_code</th>\n",
       "      <td>0.072020</td>\n",
       "      <td>0.019762</td>\n",
       "      <td>0.038099</td>\n",
       "      <td>-0.005490</td>\n",
       "      <td>0.013308</td>\n",
       "      <td>1.000000</td>\n",
       "    </tr>\n",
       "  </tbody>\n",
       "</table>\n",
       "</div>"
      ],
      "text/plain": [
       "                       price  registration_year     power  kilometer  \\\n",
       "price               1.000000           0.379443  0.310046  -0.306875   \n",
       "registration_year   0.379443           1.000000 -0.011837  -0.165913   \n",
       "power               0.310046          -0.011837  1.000000   0.186343   \n",
       "kilometer          -0.306875          -0.165913  0.186343   1.000000   \n",
       "registration_month  0.115790           0.042077  0.059352   0.009124   \n",
       "postal_code         0.072020           0.019762  0.038099  -0.005490   \n",
       "\n",
       "                    registration_month  postal_code  \n",
       "price                         0.115790     0.072020  \n",
       "registration_year             0.042077     0.019762  \n",
       "power                         0.059352     0.038099  \n",
       "kilometer                     0.009124    -0.005490  \n",
       "registration_month            1.000000     0.013308  \n",
       "postal_code                   0.013308     1.000000  "
      ]
     },
     "execution_count": 43,
     "metadata": {},
     "output_type": "execute_result"
    }
   ],
   "source": [
    "df.corr()"
   ]
  },
  {
   "cell_type": "markdown",
   "metadata": {},
   "source": [
    "Посмотрим как цена зависит от параметров: `registration_year`, `power`, `kilometer`"
   ]
  },
  {
   "cell_type": "code",
   "execution_count": 45,
   "metadata": {
    "scrolled": false
   },
   "outputs": [
    {
     "data": {
      "text/plain": [
       "<AxesSubplot:xlabel='registration_year'>"
      ]
     },
     "execution_count": 45,
     "metadata": {},
     "output_type": "execute_result"
    },
    {
     "data": {
      "image/png": "[encoded data removed]",
      "text/plain": [
       "<Figure size 432x288 with 1 Axes>"
      ]
     },
     "metadata": {
      "needs_background": "light"
     },
     "output_type": "display_data"
    }
   ],
   "source": [
    "df.pivot_table(index='registration_year', values='price').reset_index().plot(x='registration_year')"
   ]
  },
  {
   "cell_type": "code",
   "execution_count": 46,
   "metadata": {
    "scrolled": false
   },
   "outputs": [
    {
     "data": {
      "text/plain": [
       "<AxesSubplot:xlabel='power', ylabel='price'>"
      ]
     },
     "execution_count": 46,
     "metadata": {},
     "output_type": "execute_result"
    },
    {
     "data": {
      "image/png": "[encoded data removed]",
      "text/plain": [
       "<Figure size 432x288 with 1 Axes>"
      ]
     },
     "metadata": {
      "needs_background": "light"
     },
     "output_type": "display_data"
    }
   ],
   "source": [
    "df.pivot_table(index='power', values='price').reset_index().plot(x='power', y='price', kind='scatter', alpha=0.5)"
   ]
  },
  {
   "cell_type": "code",
   "execution_count": 47,
   "metadata": {},
   "outputs": [
    {
     "data": {
      "text/plain": [
       "[Text(0.5, 1.0, 'Зависимость цены от пробега'), Text(0, 0.5, 'price')]"
      ]
     },
     "execution_count": 47,
     "metadata": {},
     "output_type": "execute_result"
    },
    {
     "data": {
      "image/png": "[encoded data removed]",
      "text/plain": [
       "<Figure size 432x288 with 1 Axes>"
      ]
     },
     "metadata": {
      "needs_background": "light"
     },
     "output_type": "display_data"
    }
   ],
   "source": [
    "df.pivot_table(index='kilometer', values='price').reset_index().plot(x='kilometer', y='price').set(title='Зависимость цены от пробега', ylabel='price')"
   ]
  },
  {
   "cell_type": "markdown",
   "metadata": {},
   "source": [
    "**Вывод**"
   ]
  },
  {
   "cell_type": "markdown",
   "metadata": {},
   "source": [
    "- В данных `power` и `price`, были обнаружены и устранены выбросы;\n",
    "\n",
    "По построенным графикам можно сделать следующие выводы:\n",
    "\n",
    "- В 1995 г. количество регистраций автомобилей начинает расти, в этоже время растет и средняя цена, примерно в 2014 г. наблюдается резкий спад регистраций, на графике зависимости цены от года регистрации также видно как цена резко уменьшается. Можно сделать вывод, что цена зависит от количества зарегистривованных автомобилей в рассматриваемый временной промежуток.\n",
    "\n",
    "- Коэффициент корреляции пирсона параметров `price` и `kilometer` равен `-0.3`, на графике зависимости также видно, что с увеличением пробега автомобиля снижается его цена.\n",
    "\n",
    "- Коэффициент корреляции пирсона параметров `price` и `power` равен `0.3`, на диаграмме рассеиния можно увидеть прямолинейную зависимость цены и л.с."
   ]
  },
  {
   "cell_type": "markdown",
   "metadata": {},
   "source": [
    "- Удаление признаков: "
   ]
  },
  {
   "cell_type": "code",
   "execution_count": 49,
   "metadata": {},
   "outputs": [],
   "source": [
    "df = df.drop(columns=['date_crawled', 'registration_month', 'date_created', 'postal_code', 'last_seen'], axis=1)"
   ]
  },
  {
   "cell_type": "code",
   "execution_count": 50,
   "metadata": {},
   "outputs": [
    {
     "data": {
      "text/html": [
       "<div>\n",
       "<style scoped>\n",
       "    .dataframe tbody tr th:only-of-type {\n",
       "        vertical-align: middle;\n",
       "    }\n",
       "\n",
       "    .dataframe tbody tr th {\n",
       "        vertical-align: top;\n",
       "    }\n",
       "\n",
       "    .dataframe thead th {\n",
       "        text-align: right;\n",
       "    }\n",
       "</style>\n",
       "<table border=\"1\" class=\"dataframe\">\n",
       "  <thead>\n",
       "    <tr style=\"text-align: right;\">\n",
       "      <th></th>\n",
       "      <th>price</th>\n",
       "      <th>vehicle_type</th>\n",
       "      <th>registration_year</th>\n",
       "      <th>gearbox</th>\n",
       "      <th>power</th>\n",
       "      <th>model</th>\n",
       "      <th>kilometer</th>\n",
       "      <th>fuel_type</th>\n",
       "      <th>brand</th>\n",
       "      <th>not_repaired</th>\n",
       "    </tr>\n",
       "  </thead>\n",
       "  <tbody>\n",
       "    <tr>\n",
       "      <th>0</th>\n",
       "      <td>480</td>\n",
       "      <td>sedan</td>\n",
       "      <td>1993</td>\n",
       "      <td>manual</td>\n",
       "      <td>95</td>\n",
       "      <td>golf</td>\n",
       "      <td>150000</td>\n",
       "      <td>petrol</td>\n",
       "      <td>volkswagen</td>\n",
       "      <td>no</td>\n",
       "    </tr>\n",
       "    <tr>\n",
       "      <th>2</th>\n",
       "      <td>9800</td>\n",
       "      <td>suv</td>\n",
       "      <td>2004</td>\n",
       "      <td>auto</td>\n",
       "      <td>157</td>\n",
       "      <td>grand</td>\n",
       "      <td>125000</td>\n",
       "      <td>gasoline</td>\n",
       "      <td>jeep</td>\n",
       "      <td>no</td>\n",
       "    </tr>\n",
       "    <tr>\n",
       "      <th>3</th>\n",
       "      <td>1500</td>\n",
       "      <td>small</td>\n",
       "      <td>2001</td>\n",
       "      <td>manual</td>\n",
       "      <td>95</td>\n",
       "      <td>golf</td>\n",
       "      <td>150000</td>\n",
       "      <td>petrol</td>\n",
       "      <td>volkswagen</td>\n",
       "      <td>no</td>\n",
       "    </tr>\n",
       "    <tr>\n",
       "      <th>4</th>\n",
       "      <td>3600</td>\n",
       "      <td>small</td>\n",
       "      <td>2008</td>\n",
       "      <td>manual</td>\n",
       "      <td>75</td>\n",
       "      <td>fabia</td>\n",
       "      <td>90000</td>\n",
       "      <td>gasoline</td>\n",
       "      <td>skoda</td>\n",
       "      <td>no</td>\n",
       "    </tr>\n",
       "    <tr>\n",
       "      <th>5</th>\n",
       "      <td>650</td>\n",
       "      <td>sedan</td>\n",
       "      <td>1995</td>\n",
       "      <td>manual</td>\n",
       "      <td>143</td>\n",
       "      <td>3er</td>\n",
       "      <td>150000</td>\n",
       "      <td>petrol</td>\n",
       "      <td>bmw</td>\n",
       "      <td>yes</td>\n",
       "    </tr>\n",
       "  </tbody>\n",
       "</table>\n",
       "</div>"
      ],
      "text/plain": [
       "   price vehicle_type  registration_year gearbox  power  model  kilometer  \\\n",
       "0    480        sedan               1993  manual     95   golf     150000   \n",
       "2   9800          suv               2004    auto    157  grand     125000   \n",
       "3   1500        small               2001  manual     95   golf     150000   \n",
       "4   3600        small               2008  manual     75  fabia      90000   \n",
       "5    650        sedan               1995  manual    143    3er     150000   \n",
       "\n",
       "  fuel_type       brand not_repaired  \n",
       "0    petrol  volkswagen           no  \n",
       "2  gasoline        jeep           no  \n",
       "3    petrol  volkswagen           no  \n",
       "4  gasoline       skoda           no  \n",
       "5    petrol         bmw          yes  "
      ]
     },
     "execution_count": 50,
     "metadata": {},
     "output_type": "execute_result"
    }
   ],
   "source": [
    "df.head()"
   ]
  },
  {
   "cell_type": "markdown",
   "metadata": {},
   "source": [
    "### Подготовка данных к обучению"
   ]
  },
  {
   "cell_type": "code",
   "execution_count": 51,
   "metadata": {},
   "outputs": [],
   "source": [
    "data = df"
   ]
  },
  {
   "cell_type": "markdown",
   "metadata": {},
   "source": [
    "Кодирование с применением технологии *`Ordinal Encoding`*"
   ]
  },
  {
   "cell_type": "code",
   "execution_count": 52,
   "metadata": {
    "scrolled": true
   },
   "outputs": [],
   "source": [
    "encoder = OrdinalEncoder()\n",
    "data[['vehicle_type', 'fuel_type', 'gearbox', 'not_repaired', 'model',  'brand']] = OrdinalEncoder().fit_transform(df[['vehicle_type', 'fuel_type', 'gearbox', 'not_repaired', 'model',  'brand']])"
   ]
  },
  {
   "cell_type": "code",
   "execution_count": 53,
   "metadata": {},
   "outputs": [
    {
     "data": {
      "text/html": [
       "<div>\n",
       "<style scoped>\n",
       "    .dataframe tbody tr th:only-of-type {\n",
       "        vertical-align: middle;\n",
       "    }\n",
       "\n",
       "    .dataframe tbody tr th {\n",
       "        vertical-align: top;\n",
       "    }\n",
       "\n",
       "    .dataframe thead th {\n",
       "        text-align: right;\n",
       "    }\n",
       "</style>\n",
       "<table border=\"1\" class=\"dataframe\">\n",
       "  <thead>\n",
       "    <tr style=\"text-align: right;\">\n",
       "      <th></th>\n",
       "      <th>price</th>\n",
       "      <th>vehicle_type</th>\n",
       "      <th>registration_year</th>\n",
       "      <th>gearbox</th>\n",
       "      <th>power</th>\n",
       "      <th>model</th>\n",
       "      <th>kilometer</th>\n",
       "      <th>fuel_type</th>\n",
       "      <th>brand</th>\n",
       "      <th>not_repaired</th>\n",
       "    </tr>\n",
       "  </thead>\n",
       "  <tbody>\n",
       "    <tr>\n",
       "      <th>0</th>\n",
       "      <td>480</td>\n",
       "      <td>4.0</td>\n",
       "      <td>1993</td>\n",
       "      <td>1.0</td>\n",
       "      <td>95</td>\n",
       "      <td>105.0</td>\n",
       "      <td>150000</td>\n",
       "      <td>6.0</td>\n",
       "      <td>38.0</td>\n",
       "      <td>0.0</td>\n",
       "    </tr>\n",
       "    <tr>\n",
       "      <th>2</th>\n",
       "      <td>9800</td>\n",
       "      <td>6.0</td>\n",
       "      <td>2004</td>\n",
       "      <td>0.0</td>\n",
       "      <td>157</td>\n",
       "      <td>106.0</td>\n",
       "      <td>125000</td>\n",
       "      <td>2.0</td>\n",
       "      <td>14.0</td>\n",
       "      <td>0.0</td>\n",
       "    </tr>\n",
       "    <tr>\n",
       "      <th>3</th>\n",
       "      <td>1500</td>\n",
       "      <td>5.0</td>\n",
       "      <td>2001</td>\n",
       "      <td>1.0</td>\n",
       "      <td>95</td>\n",
       "      <td>105.0</td>\n",
       "      <td>150000</td>\n",
       "      <td>6.0</td>\n",
       "      <td>38.0</td>\n",
       "      <td>0.0</td>\n",
       "    </tr>\n",
       "    <tr>\n",
       "      <th>4</th>\n",
       "      <td>3600</td>\n",
       "      <td>5.0</td>\n",
       "      <td>2008</td>\n",
       "      <td>1.0</td>\n",
       "      <td>75</td>\n",
       "      <td>91.0</td>\n",
       "      <td>90000</td>\n",
       "      <td>2.0</td>\n",
       "      <td>31.0</td>\n",
       "      <td>0.0</td>\n",
       "    </tr>\n",
       "    <tr>\n",
       "      <th>5</th>\n",
       "      <td>650</td>\n",
       "      <td>4.0</td>\n",
       "      <td>1995</td>\n",
       "      <td>1.0</td>\n",
       "      <td>143</td>\n",
       "      <td>10.0</td>\n",
       "      <td>150000</td>\n",
       "      <td>6.0</td>\n",
       "      <td>2.0</td>\n",
       "      <td>1.0</td>\n",
       "    </tr>\n",
       "  </tbody>\n",
       "</table>\n",
       "</div>"
      ],
      "text/plain": [
       "   price  vehicle_type  registration_year  gearbox  power  model  kilometer  \\\n",
       "0    480           4.0               1993      1.0     95  105.0     150000   \n",
       "2   9800           6.0               2004      0.0    157  106.0     125000   \n",
       "3   1500           5.0               2001      1.0     95  105.0     150000   \n",
       "4   3600           5.0               2008      1.0     75   91.0      90000   \n",
       "5    650           4.0               1995      1.0    143   10.0     150000   \n",
       "\n",
       "   fuel_type  brand  not_repaired  \n",
       "0        6.0   38.0           0.0  \n",
       "2        2.0   14.0           0.0  \n",
       "3        6.0   38.0           0.0  \n",
       "4        2.0   31.0           0.0  \n",
       "5        6.0    2.0           1.0  "
      ]
     },
     "execution_count": 53,
     "metadata": {},
     "output_type": "execute_result"
    }
   ],
   "source": [
    "data.head()"
   ]
  },
  {
   "cell_type": "markdown",
   "metadata": {},
   "source": [
    "Разделим датафрейм на обучающую и тестовую выборки:\n",
    "- обучающая выборка – 75%\n",
    "- тестовая выборка – 25%"
   ]
  },
  {
   "cell_type": "code",
   "execution_count": 55,
   "metadata": {},
   "outputs": [],
   "source": [
    "df_train, df_test = train_test_split(data, test_size=0.25, random_state=1234)"
   ]
  },
  {
   "cell_type": "code",
   "execution_count": 56,
   "metadata": {},
   "outputs": [],
   "source": [
    "# Выделим признаки и целевой признак\n",
    "train_features = df_train.drop('price', axis=1)\n",
    "train_target = df_train.price\n",
    "test_features = df_test.drop('price', axis=1)\n",
    "test_target = df_test.price"
   ]
  },
  {
   "cell_type": "markdown",
   "metadata": {},
   "source": [
    "Размеры полученных выборок:"
   ]
  },
  {
   "cell_type": "code",
   "execution_count": 57,
   "metadata": {},
   "outputs": [
    {
     "name": "stdout",
     "output_type": "stream",
     "text": [
      "Размер обучающей выборки – (251969, 9)\n",
      "Размер тестовой выборки – (83990, 9)\n"
     ]
    }
   ],
   "source": [
    "print(\"Размер обучающей выборки –\", train_features.shape)\n",
    "print(\"Размер тестовой выборки –\", test_features.shape)"
   ]
  },
  {
   "cell_type": "markdown",
   "metadata": {},
   "source": [
    "## Обучение моделей"
   ]
  },
  {
   "cell_type": "markdown",
   "metadata": {},
   "source": [
    "- Кросс-валидация"
   ]
  },
  {
   "cell_type": "code",
   "execution_count": 59,
   "metadata": {},
   "outputs": [],
   "source": [
    "def get_cv_scores(model, features, target):\n",
    "    scores=cross_val_score(\n",
    "                            model,\n",
    "                            features, target,\n",
    "                            cv=5,\n",
    "                            scoring=\"neg_root_mean_squared_error\"\n",
    "                            )\n",
    "    print(\"best_score:\", np.mean(scores)*(-1))"
   ]
  },
  {
   "cell_type": "markdown",
   "metadata": {},
   "source": [
    "- GridSearchCV"
   ]
  },
  {
   "cell_type": "code",
   "execution_count": 60,
   "metadata": {},
   "outputs": [],
   "source": [
    "grid_trg = {'max_depth': range(3, 15, 3)}"
   ]
  },
  {
   "cell_type": "code",
   "execution_count": 61,
   "metadata": {},
   "outputs": [],
   "source": [
    "grid_rfr = {'n_estimators': range(5, 50, 10), 'max_depth': range(2, 15, 5)}"
   ]
  },
  {
   "cell_type": "code",
   "execution_count": 62,
   "metadata": {},
   "outputs": [],
   "source": [
    "grid= {'learning_rate':[0.1], 'n_estimators': [50], 'max_depth': [15]}"
   ]
  },
  {
   "cell_type": "markdown",
   "metadata": {},
   "source": [
    "### Подбор параметров моделей"
   ]
  },
  {
   "cell_type": "markdown",
   "metadata": {},
   "source": [
    "- Модель линейной регрессии"
   ]
  },
  {
   "cell_type": "code",
   "execution_count": 63,
   "metadata": {},
   "outputs": [
    {
     "name": "stdout",
     "output_type": "stream",
     "text": [
      "best_score: 2909.5618917821666\n"
     ]
    }
   ],
   "source": [
    "model_lenrg = LinearRegression().fit(train_features, train_target)\n",
    "get_cv_scores(model_lenrg, train_features, train_target)"
   ]
  },
  {
   "cell_type": "markdown",
   "metadata": {},
   "source": [
    "- Модель решающего дерева"
   ]
  },
  {
   "cell_type": "code",
   "execution_count": 64,
   "metadata": {},
   "outputs": [
    {
     "name": "stdout",
     "output_type": "stream",
     "text": [
      "{'max_depth': 12}\n",
      "1932.5473595432363\n"
     ]
    }
   ],
   "source": [
    "model_trg = DecisionTreeRegressor(random_state=RANDOM_STATE)\n",
    "grid_search = GridSearchCV(model_trg, grid_trg, cv=5, scoring=\"neg_root_mean_squared_error\")\n",
    "grid_search.fit(train_features, train_target)\n",
    "print(grid_search.best_params_)\n",
    "print(grid_search.best_score_*(-1))"
   ]
  },
  {
   "cell_type": "markdown",
   "metadata": {},
   "source": [
    "- Модель случайного леса"
   ]
  },
  {
   "cell_type": "code",
   "execution_count": 65,
   "metadata": {},
   "outputs": [
    {
     "name": "stdout",
     "output_type": "stream",
     "text": [
      "{'max_depth': 12, 'n_estimators': 45}\n",
      "1831.5288681517002\n"
     ]
    }
   ],
   "source": [
    "model_rfr = RandomForestRegressor(random_state=RANDOM_STATE)\n",
    "grid_search = GridSearchCV(model_rfr, grid_rfr, cv=5, scoring=\"neg_root_mean_squared_error\")\n",
    "grid_search.fit(train_features, train_target)\n",
    "print(grid_search.best_params_)\n",
    "print(grid_search.best_score_*(-1))"
   ]
  },
  {
   "cell_type": "markdown",
   "metadata": {},
   "source": [
    "- Градиентный бустинг"
   ]
  },
  {
   "cell_type": "code",
   "execution_count": 66,
   "metadata": {},
   "outputs": [
    {
     "name": "stdout",
     "output_type": "stream",
     "text": [
      "{'learning_rate': 0.1, 'max_depth': 15, 'n_estimators': 50}\n",
      "1853.2877575761565\n"
     ]
    }
   ],
   "source": [
    "model = LGBMRegressor(random_state=RANDOM_STATE)\n",
    "# model.fit(train_features, train_target)\n",
    "# get_cv_scores(model, train_features, train_target)\n",
    "grid_search = GridSearchCV(model, grid, cv=5, scoring=\"neg_root_mean_squared_error\")\n",
    "grid_search.fit(train_features, train_target)\n",
    "print(grid_search.best_params_)\n",
    "print(grid_search.best_score_*(-1))"
   ]
  },
  {
   "cell_type": "markdown",
   "metadata": {},
   "source": [
    "### Построение моделей на тестовой выборке"
   ]
  },
  {
   "cell_type": "markdown",
   "metadata": {},
   "source": [
    "- Модель линейной регрессии"
   ]
  },
  {
   "cell_type": "code",
   "execution_count": 67,
   "metadata": {},
   "outputs": [
    {
     "name": "stdout",
     "output_type": "stream",
     "text": [
      "score 2923.0686324048033\n",
      "time linear regression: 0.11346840858459473\n"
     ]
    }
   ],
   "source": [
    "start = time.time()\n",
    "model_lnr = LinearRegression().fit(train_features, train_target)\n",
    "predicted_test = model_lnr.predict(test_features)\n",
    "score_lnr = mean_squared_error(predicted_test, test_target) ** 0.5\n",
    "print(\"score\", score_lnr)\n",
    "end = time.time()\n",
    "time_lnr = end - start\n",
    "print('time linear regression:', time_lnr)"
   ]
  },
  {
   "cell_type": "markdown",
   "metadata": {},
   "source": [
    "- Модель решающего дерева"
   ]
  },
  {
   "cell_type": "code",
   "execution_count": 68,
   "metadata": {},
   "outputs": [
    {
     "name": "stdout",
     "output_type": "stream",
     "text": [
      "score 2923.0686324048033\n",
      "time decision three regressor: 0.5926682949066162\n"
     ]
    }
   ],
   "source": [
    "start = time.time()\n",
    "model_trg = DecisionTreeRegressor(max_depth=12, random_state=RANDOM_STATE).fit(train_features, train_target)\n",
    "predicted_test = model_lenrg.predict(test_features)\n",
    "score_trg = mean_squared_error(predicted_test, test_target) ** 0.5\n",
    "print(\"score\", score_trg)\n",
    "end = time.time()\n",
    "time_trg = end - start\n",
    "print('time decision three regressor:', time_trg)"
   ]
  },
  {
   "cell_type": "markdown",
   "metadata": {},
   "source": [
    "- Модель случайного леса"
   ]
  },
  {
   "cell_type": "code",
   "execution_count": 69,
   "metadata": {},
   "outputs": [
    {
     "name": "stdout",
     "output_type": "stream",
     "text": [
      "score: 1821.6492643748336\n",
      "time random forest regressor: 14.353567123413086\n"
     ]
    }
   ],
   "source": [
    "start = time.time()\n",
    "model_rfr = RandomForestRegressor(n_estimators=45, max_depth=12, random_state=RANDOM_STATE)\n",
    "model_rfr.fit(train_features, train_target)\n",
    "predicted_test = model_rfr.predict(test_features)\n",
    "score_rfr = mean_squared_error(predicted_test, test_target) ** 0.5\n",
    "print('score:', score_rfr)\n",
    "end = time.time()\n",
    "time_rfr = end - start\n",
    "print('time random forest regressor:', time_rfr)"
   ]
  },
  {
   "cell_type": "markdown",
   "metadata": {},
   "source": [
    "**Градиентный бустинг**"
   ]
  },
  {
   "cell_type": "code",
   "execution_count": 70,
   "metadata": {},
   "outputs": [
    {
     "name": "stdout",
     "output_type": "stream",
     "text": [
      "score: 1863.1860763815907\n",
      "time  LightGBM regressor : 7.323498725891113\n"
     ]
    }
   ],
   "source": [
    "start = time.time()\n",
    "model_lgbmr = LGBMRegressor(learning_rate=0.1, n_estimators=45, max_depth=15, random_state=RANDOM_STATE)\n",
    "model_lgbmr.fit(train_features, train_target)\n",
    "predicted_test = model_lgbmr.predict(test_features)\n",
    "score_lgbmr = mean_squared_error(predicted_test, test_target) ** 0.5\n",
    "print('score:', score_lgbmr)\n",
    "end = time.time()\n",
    "time_lgbmr = end - start\n",
    "print('time  LightGBM regressor :', time_lgbmr)"
   ]
  },
  {
   "cell_type": "markdown",
   "metadata": {},
   "source": [
    "## Анализ моделей"
   ]
  },
  {
   "cell_type": "code",
   "execution_count": 71,
   "metadata": {},
   "outputs": [
    {
     "data": {
      "text/html": [
       "<div>\n",
       "<style scoped>\n",
       "    .dataframe tbody tr th:only-of-type {\n",
       "        vertical-align: middle;\n",
       "    }\n",
       "\n",
       "    .dataframe tbody tr th {\n",
       "        vertical-align: top;\n",
       "    }\n",
       "\n",
       "    .dataframe thead th {\n",
       "        text-align: right;\n",
       "    }\n",
       "</style>\n",
       "<table border=\"1\" class=\"dataframe\">\n",
       "  <thead>\n",
       "    <tr style=\"text-align: right;\">\n",
       "      <th></th>\n",
       "      <th>model</th>\n",
       "      <th>time</th>\n",
       "      <th>score</th>\n",
       "    </tr>\n",
       "  </thead>\n",
       "  <tbody>\n",
       "    <tr>\n",
       "      <th>0</th>\n",
       "      <td>linear_reg</td>\n",
       "      <td>0.113468</td>\n",
       "      <td>2923.068632</td>\n",
       "    </tr>\n",
       "    <tr>\n",
       "      <th>1</th>\n",
       "      <td>dec_three_reg</td>\n",
       "      <td>0.592668</td>\n",
       "      <td>2923.068632</td>\n",
       "    </tr>\n",
       "    <tr>\n",
       "      <th>2</th>\n",
       "      <td>random_forest_reg</td>\n",
       "      <td>14.353567</td>\n",
       "      <td>1821.649264</td>\n",
       "    </tr>\n",
       "    <tr>\n",
       "      <th>3</th>\n",
       "      <td>LGBMreg</td>\n",
       "      <td>7.323499</td>\n",
       "      <td>1863.186076</td>\n",
       "    </tr>\n",
       "  </tbody>\n",
       "</table>\n",
       "</div>"
      ],
      "text/plain": [
       "               model       time        score\n",
       "0         linear_reg   0.113468  2923.068632\n",
       "1      dec_three_reg   0.592668  2923.068632\n",
       "2  random_forest_reg  14.353567  1821.649264\n",
       "3            LGBMreg   7.323499  1863.186076"
      ]
     },
     "execution_count": 71,
     "metadata": {},
     "output_type": "execute_result"
    }
   ],
   "source": [
    "data = [['linear_reg', time_lnr, score_lnr],\n",
    "       ['dec_three_reg', time_trg, score_trg],\n",
    "       ['random_forest_reg', time_rfr, score_rfr],\n",
    "       ['LGBMreg', time_lgbmr, score_lgbmr]]\n",
    "columns = ['model', 'time', 'score']\n",
    "\n",
    "model_analysis = pd.DataFrame(data=data, columns=columns)\n",
    "model_analysis"
   ]
  },
  {
   "cell_type": "markdown",
   "metadata": {},
   "source": [
    "**Вывод**"
   ]
  },
  {
   "cell_type": "markdown",
   "metadata": {},
   "source": [
    "Было проведено исследование предсказания цены автомобилей с помощию различных моделей машинного обучения. Анализ времени обучения показал, что модель линейной регрессии обучается на данных быстрее всего, однако имеет самое низкое качество. Самое высокое качество показала модель случайного леса."
   ]
  }
 ],
 "metadata": {
  "ExecuteTimeLog": [
   {
    "duration": 373,
    "start_time": "2022-05-06T07:24:03.829Z"
   },
   {
    "duration": 735,
    "start_time": "2022-05-06T07:24:37.843Z"
   },
   {
    "duration": 118,
    "start_time": "2022-05-06T07:24:52.970Z"
   },
   {
    "duration": 2,
    "start_time": "2022-05-06T08:15:49.659Z"
   },
   {
    "duration": 724,
    "start_time": "2022-05-06T08:15:50.633Z"
   },
   {
    "duration": 115,
    "start_time": "2022-05-06T08:15:51.358Z"
   },
   {
    "duration": 57,
    "start_time": "2022-05-06T08:15:58.795Z"
   },
   {
    "duration": 2998,
    "start_time": "2022-05-06T08:16:20.158Z"
   },
   {
    "duration": 3276,
    "start_time": "2022-05-06T08:16:32.661Z"
   },
   {
    "duration": 641,
    "start_time": "2022-05-06T08:17:38.782Z"
   },
   {
    "duration": 12,
    "start_time": "2022-05-06T08:17:46.881Z"
   },
   {
    "duration": 11,
    "start_time": "2022-05-06T08:19:56.829Z"
   },
   {
    "duration": 37,
    "start_time": "2022-05-06T08:21:42.649Z"
   },
   {
    "duration": 10,
    "start_time": "2022-05-06T08:21:44.942Z"
   },
   {
    "duration": 10,
    "start_time": "2022-05-06T08:22:27.582Z"
   },
   {
    "duration": 659,
    "start_time": "2022-05-06T08:22:39.861Z"
   },
   {
    "duration": 32,
    "start_time": "2022-05-06T08:22:43.861Z"
   },
   {
    "duration": 276,
    "start_time": "2022-05-06T08:25:21.521Z"
   },
   {
    "duration": 273,
    "start_time": "2022-05-06T08:26:39.761Z"
   },
   {
    "duration": 18,
    "start_time": "2022-05-06T08:26:45.042Z"
   },
   {
    "duration": 243,
    "start_time": "2022-05-06T08:26:57.801Z"
   },
   {
    "duration": 15,
    "start_time": "2022-05-06T08:28:21.369Z"
   },
   {
    "duration": 10,
    "start_time": "2022-05-06T08:28:32.898Z"
   },
   {
    "duration": 19,
    "start_time": "2022-05-06T08:28:42.642Z"
   },
   {
    "duration": 35,
    "start_time": "2022-05-06T08:29:17.597Z"
   },
   {
    "duration": 34,
    "start_time": "2022-05-06T08:29:28.502Z"
   },
   {
    "duration": 123,
    "start_time": "2022-05-06T08:30:40.822Z"
   },
   {
    "duration": 88,
    "start_time": "2022-05-06T08:32:06.163Z"
   },
   {
    "duration": 17,
    "start_time": "2022-05-06T08:35:38.078Z"
   },
   {
    "duration": 33,
    "start_time": "2022-05-06T08:35:47.981Z"
   },
   {
    "duration": 25,
    "start_time": "2022-05-06T08:36:19.002Z"
   },
   {
    "duration": 29,
    "start_time": "2022-05-06T08:36:45.442Z"
   },
   {
    "duration": 25,
    "start_time": "2022-05-06T08:36:54.681Z"
   },
   {
    "duration": 25,
    "start_time": "2022-05-06T08:37:00.978Z"
   },
   {
    "duration": 77,
    "start_time": "2022-05-06T08:37:10.661Z"
   },
   {
    "duration": 72,
    "start_time": "2022-05-06T08:37:28.701Z"
   },
   {
    "duration": 72,
    "start_time": "2022-05-06T08:37:35.661Z"
   },
   {
    "duration": 26,
    "start_time": "2022-05-06T08:37:42.181Z"
   },
   {
    "duration": 34,
    "start_time": "2022-05-06T08:37:50.530Z"
   },
   {
    "duration": 25,
    "start_time": "2022-05-06T08:38:11.821Z"
   },
   {
    "duration": 27,
    "start_time": "2022-05-06T08:38:19.241Z"
   },
   {
    "duration": 386,
    "start_time": "2022-05-08T13:45:58.270Z"
   },
   {
    "duration": 747,
    "start_time": "2022-05-08T13:45:58.658Z"
   },
   {
    "duration": 128,
    "start_time": "2022-05-08T13:45:59.407Z"
   },
   {
    "duration": 42,
    "start_time": "2022-05-08T13:45:59.537Z"
   },
   {
    "duration": 289,
    "start_time": "2022-05-08T13:45:59.581Z"
   },
   {
    "duration": 360,
    "start_time": "2022-05-08T13:45:59.871Z"
   },
   {
    "duration": 80,
    "start_time": "2022-05-08T13:46:00.233Z"
   },
   {
    "duration": 106,
    "start_time": "2022-05-08T13:46:00.315Z"
   },
   {
    "duration": 38,
    "start_time": "2022-05-08T13:46:00.423Z"
   },
   {
    "duration": 35,
    "start_time": "2022-05-08T13:46:04.622Z"
   },
   {
    "duration": 15,
    "start_time": "2022-05-08T13:55:01.645Z"
   },
   {
    "duration": 19,
    "start_time": "2022-05-08T13:56:35.129Z"
   },
   {
    "duration": 19,
    "start_time": "2022-05-08T13:57:34.659Z"
   },
   {
    "duration": 36,
    "start_time": "2022-05-08T13:58:03.213Z"
   },
   {
    "duration": 42,
    "start_time": "2022-05-08T13:58:23.983Z"
   },
   {
    "duration": 77,
    "start_time": "2022-05-08T13:59:51.304Z"
   },
   {
    "duration": 91,
    "start_time": "2022-05-08T13:59:58.051Z"
   },
   {
    "duration": 72,
    "start_time": "2022-05-08T14:02:37.326Z"
   },
   {
    "duration": 59,
    "start_time": "2022-05-08T14:03:13.539Z"
   },
   {
    "duration": 81,
    "start_time": "2022-05-08T14:03:53.530Z"
   },
   {
    "duration": 477,
    "start_time": "2022-05-09T08:32:51.517Z"
   },
   {
    "duration": 1355,
    "start_time": "2022-05-09T08:32:55.459Z"
   },
   {
    "duration": 192,
    "start_time": "2022-05-09T08:32:56.818Z"
   },
   {
    "duration": 59,
    "start_time": "2022-05-09T08:32:57.012Z"
   },
   {
    "duration": 488,
    "start_time": "2022-05-09T08:32:58.685Z"
   },
   {
    "duration": 594,
    "start_time": "2022-05-09T08:32:59.175Z"
   },
   {
    "duration": 128,
    "start_time": "2022-05-09T08:32:59.881Z"
   },
   {
    "duration": 135,
    "start_time": "2022-05-09T08:33:04.289Z"
   },
   {
    "duration": 41,
    "start_time": "2022-05-09T08:33:05.561Z"
   },
   {
    "duration": 27,
    "start_time": "2022-05-09T08:33:09.617Z"
   },
   {
    "duration": 25,
    "start_time": "2022-05-09T08:33:15.235Z"
   },
   {
    "duration": 64,
    "start_time": "2022-05-09T08:33:15.583Z"
   },
   {
    "duration": 74,
    "start_time": "2022-05-09T08:33:18.660Z"
   },
   {
    "duration": 98,
    "start_time": "2022-05-09T08:33:23.973Z"
   },
   {
    "duration": 46,
    "start_time": "2022-05-09T08:40:48.412Z"
   },
   {
    "duration": 875,
    "start_time": "2022-05-09T08:44:00.547Z"
   },
   {
    "duration": 58,
    "start_time": "2022-05-09T08:44:54.268Z"
   },
   {
    "duration": 24,
    "start_time": "2022-05-09T08:45:26.705Z"
   },
   {
    "duration": 53,
    "start_time": "2022-05-09T08:45:34.140Z"
   },
   {
    "duration": 756,
    "start_time": "2022-05-09T08:45:55.709Z"
   },
   {
    "duration": 58,
    "start_time": "2022-05-09T08:46:05.279Z"
   },
   {
    "duration": 3414,
    "start_time": "2022-05-09T08:52:48.764Z"
   },
   {
    "duration": 61,
    "start_time": "2022-05-09T08:53:00.799Z"
   },
   {
    "duration": 57,
    "start_time": "2022-05-09T08:53:26.929Z"
   },
   {
    "duration": 93,
    "start_time": "2022-05-09T08:54:58.002Z"
   },
   {
    "duration": 66,
    "start_time": "2022-05-09T08:55:19.671Z"
   },
   {
    "duration": 54,
    "start_time": "2022-05-09T08:56:39.933Z"
   },
   {
    "duration": 43,
    "start_time": "2022-05-09T08:57:47.942Z"
   },
   {
    "duration": 45,
    "start_time": "2022-05-09T08:58:39.162Z"
   },
   {
    "duration": 67,
    "start_time": "2022-05-09T08:59:32.503Z"
   },
   {
    "duration": 4072,
    "start_time": "2022-05-09T09:02:11.762Z"
   },
   {
    "duration": 5,
    "start_time": "2022-05-09T09:02:27.963Z"
   },
   {
    "duration": 102,
    "start_time": "2022-05-09T09:02:32.042Z"
   },
   {
    "duration": 124,
    "start_time": "2022-05-09T09:04:48.992Z"
   },
   {
    "duration": 116,
    "start_time": "2022-05-09T09:05:04.273Z"
   },
   {
    "duration": 100,
    "start_time": "2022-05-09T09:07:06.143Z"
   },
   {
    "duration": 32,
    "start_time": "2022-05-09T09:07:13.873Z"
   },
   {
    "duration": 26,
    "start_time": "2022-05-09T09:09:32.364Z"
   },
   {
    "duration": 107,
    "start_time": "2022-05-09T09:10:21.118Z"
   },
   {
    "duration": 12,
    "start_time": "2022-05-09T09:18:20.326Z"
   },
   {
    "duration": 9,
    "start_time": "2022-05-09T09:20:02.841Z"
   },
   {
    "duration": 25,
    "start_time": "2022-05-09T09:20:48.971Z"
   },
   {
    "duration": 44,
    "start_time": "2022-05-09T09:21:12.122Z"
   },
   {
    "duration": 10,
    "start_time": "2022-05-09T09:22:07.161Z"
   },
   {
    "duration": 37,
    "start_time": "2022-05-09T09:22:20.290Z"
   },
   {
    "duration": 41,
    "start_time": "2022-05-09T09:22:35.481Z"
   },
   {
    "duration": 38,
    "start_time": "2022-05-09T09:23:21.102Z"
   },
   {
    "duration": 23,
    "start_time": "2022-05-09T09:23:35.126Z"
   },
   {
    "duration": 12,
    "start_time": "2022-05-09T10:00:47.315Z"
   },
   {
    "duration": 10,
    "start_time": "2022-05-09T10:01:46.874Z"
   },
   {
    "duration": 11,
    "start_time": "2022-05-09T10:01:52.343Z"
   },
   {
    "duration": 6,
    "start_time": "2022-05-09T10:02:12.883Z"
   },
   {
    "duration": 9,
    "start_time": "2022-05-09T10:02:22.294Z"
   },
   {
    "duration": 7,
    "start_time": "2022-05-09T10:02:29.353Z"
   },
   {
    "duration": 4,
    "start_time": "2022-05-09T10:02:34.143Z"
   },
   {
    "duration": 11,
    "start_time": "2022-05-09T10:03:14.753Z"
   },
   {
    "duration": 11,
    "start_time": "2022-05-09T10:03:23.744Z"
   },
   {
    "duration": 10,
    "start_time": "2022-05-09T10:03:36.773Z"
   },
   {
    "duration": 44,
    "start_time": "2022-05-09T10:04:07.963Z"
   },
   {
    "duration": 44,
    "start_time": "2022-05-09T10:07:08.153Z"
   },
   {
    "duration": 60,
    "start_time": "2022-05-09T10:08:45.814Z"
   },
   {
    "duration": 64,
    "start_time": "2022-05-09T10:08:59.914Z"
   },
   {
    "duration": 30,
    "start_time": "2022-05-09T10:12:24.804Z"
   },
   {
    "duration": 74,
    "start_time": "2022-05-09T10:14:34.783Z"
   },
   {
    "duration": 415,
    "start_time": "2022-05-11T07:07:03.724Z"
   },
   {
    "duration": 774,
    "start_time": "2022-05-11T07:07:09.743Z"
   },
   {
    "duration": 130,
    "start_time": "2022-05-11T07:07:10.519Z"
   },
   {
    "duration": 39,
    "start_time": "2022-05-11T07:07:10.651Z"
   },
   {
    "duration": 286,
    "start_time": "2022-05-11T07:07:12.301Z"
   },
   {
    "duration": 335,
    "start_time": "2022-05-11T07:07:13.732Z"
   },
   {
    "duration": 72,
    "start_time": "2022-05-11T07:07:14.492Z"
   },
   {
    "duration": 41,
    "start_time": "2022-05-11T07:07:15.144Z"
   },
   {
    "duration": 27,
    "start_time": "2022-05-11T07:07:15.812Z"
   },
   {
    "duration": 19,
    "start_time": "2022-05-11T07:07:18.387Z"
   },
   {
    "duration": 64,
    "start_time": "2022-05-11T07:23:14.611Z"
   },
   {
    "duration": 92,
    "start_time": "2022-05-11T07:25:56.936Z"
   },
   {
    "duration": 29,
    "start_time": "2022-05-11T07:30:00.733Z"
   },
   {
    "duration": 32,
    "start_time": "2022-05-11T07:30:51.004Z"
   },
   {
    "duration": 61,
    "start_time": "2022-05-11T07:39:31.593Z"
   },
   {
    "duration": 18,
    "start_time": "2022-05-11T07:39:35.214Z"
   },
   {
    "duration": 53,
    "start_time": "2022-05-11T07:40:52.033Z"
   },
   {
    "duration": 39,
    "start_time": "2022-05-11T07:45:46.432Z"
   },
   {
    "duration": 35,
    "start_time": "2022-05-11T07:45:55.209Z"
   },
   {
    "duration": 41,
    "start_time": "2022-05-11T07:47:20.445Z"
   },
   {
    "duration": 6,
    "start_time": "2022-05-11T07:47:24.532Z"
   },
   {
    "duration": 7,
    "start_time": "2022-05-11T07:59:40.763Z"
   },
   {
    "duration": 7,
    "start_time": "2022-05-11T07:59:47.989Z"
   },
   {
    "duration": 170,
    "start_time": "2022-05-11T08:06:22.603Z"
   },
   {
    "duration": 33,
    "start_time": "2022-05-11T08:08:02.284Z"
   },
   {
    "duration": 9,
    "start_time": "2022-05-11T08:08:03.003Z"
   },
   {
    "duration": 33,
    "start_time": "2022-05-11T08:08:28.451Z"
   },
   {
    "duration": 21,
    "start_time": "2022-05-11T08:09:00.603Z"
   },
   {
    "duration": 9,
    "start_time": "2022-05-11T08:09:15.723Z"
   },
   {
    "duration": 32,
    "start_time": "2022-05-11T08:09:45.945Z"
   },
   {
    "duration": 22,
    "start_time": "2022-05-11T08:09:56.187Z"
   },
   {
    "duration": 22,
    "start_time": "2022-05-11T08:10:13.831Z"
   },
   {
    "duration": 25,
    "start_time": "2022-05-11T08:10:29.024Z"
   },
   {
    "duration": 23,
    "start_time": "2022-05-11T08:10:33.191Z"
   },
   {
    "duration": 36,
    "start_time": "2022-05-11T08:13:59.042Z"
   },
   {
    "duration": 18,
    "start_time": "2022-05-11T08:14:02.722Z"
   },
   {
    "duration": 22,
    "start_time": "2022-05-11T08:16:53.298Z"
   },
   {
    "duration": 3,
    "start_time": "2022-05-11T08:53:39.694Z"
   },
   {
    "duration": 183,
    "start_time": "2022-05-11T08:53:56.541Z"
   },
   {
    "duration": 175,
    "start_time": "2022-05-11T08:54:30.881Z"
   },
   {
    "duration": 156,
    "start_time": "2022-05-11T08:54:40.581Z"
   },
   {
    "duration": 226,
    "start_time": "2022-05-11T08:55:00.256Z"
   },
   {
    "duration": 22,
    "start_time": "2022-05-11T08:55:10.673Z"
   },
   {
    "duration": 9,
    "start_time": "2022-05-11T08:55:48.157Z"
   },
   {
    "duration": 31,
    "start_time": "2022-05-11T08:56:32.822Z"
   },
   {
    "duration": 36,
    "start_time": "2022-05-11T08:56:33.891Z"
   },
   {
    "duration": 91,
    "start_time": "2022-05-11T08:56:35.079Z"
   },
   {
    "duration": 85,
    "start_time": "2022-05-11T11:00:04.310Z"
   },
   {
    "duration": 452,
    "start_time": "2022-05-11T11:00:10.773Z"
   },
   {
    "duration": 1408,
    "start_time": "2022-05-11T11:00:11.227Z"
   },
   {
    "duration": 203,
    "start_time": "2022-05-11T11:00:12.638Z"
   },
   {
    "duration": 55,
    "start_time": "2022-05-11T11:00:12.844Z"
   },
   {
    "duration": 403,
    "start_time": "2022-05-11T11:00:12.901Z"
   },
   {
    "duration": 473,
    "start_time": "2022-05-11T11:00:13.306Z"
   },
   {
    "duration": 106,
    "start_time": "2022-05-11T11:00:13.780Z"
   },
   {
    "duration": 49,
    "start_time": "2022-05-11T11:00:13.889Z"
   },
   {
    "duration": 136,
    "start_time": "2022-05-11T11:00:18.213Z"
   },
   {
    "duration": 55,
    "start_time": "2022-05-11T11:00:57.502Z"
   },
   {
    "duration": 41,
    "start_time": "2022-05-11T11:01:02.769Z"
   },
   {
    "duration": 5,
    "start_time": "2022-05-11T11:01:57.570Z"
   },
   {
    "duration": 13,
    "start_time": "2022-05-11T11:05:14.628Z"
   },
   {
    "duration": 3,
    "start_time": "2022-05-11T11:05:21.218Z"
   },
   {
    "duration": 944,
    "start_time": "2022-05-11T11:05:21.223Z"
   },
   {
    "duration": 165,
    "start_time": "2022-05-11T11:05:22.169Z"
   },
   {
    "duration": 30,
    "start_time": "2022-05-11T11:05:22.337Z"
   },
   {
    "duration": 344,
    "start_time": "2022-05-11T11:05:22.370Z"
   },
   {
    "duration": 419,
    "start_time": "2022-05-11T11:05:22.716Z"
   },
   {
    "duration": 102,
    "start_time": "2022-05-11T11:05:23.140Z"
   },
   {
    "duration": 35,
    "start_time": "2022-05-11T11:05:23.244Z"
   },
   {
    "duration": 11,
    "start_time": "2022-05-11T11:05:27.688Z"
   },
   {
    "duration": 14,
    "start_time": "2022-05-11T11:06:15.632Z"
   },
   {
    "duration": 8,
    "start_time": "2022-05-11T11:10:06.368Z"
   },
   {
    "duration": 16,
    "start_time": "2022-05-11T11:10:29.653Z"
   },
   {
    "duration": 12,
    "start_time": "2022-05-11T11:10:46.488Z"
   },
   {
    "duration": 35,
    "start_time": "2022-05-11T11:14:38.739Z"
   },
   {
    "duration": 35,
    "start_time": "2022-05-11T11:14:54.529Z"
   },
   {
    "duration": 7,
    "start_time": "2022-05-11T11:16:06.849Z"
   },
   {
    "duration": 34,
    "start_time": "2022-05-11T11:16:15.267Z"
   },
   {
    "duration": 32,
    "start_time": "2022-05-11T11:16:16.248Z"
   },
   {
    "duration": 7,
    "start_time": "2022-05-11T11:17:01.014Z"
   },
   {
    "duration": 41,
    "start_time": "2022-05-11T11:18:11.409Z"
   },
   {
    "duration": 110,
    "start_time": "2022-05-11T11:18:12.923Z"
   },
   {
    "duration": 38,
    "start_time": "2022-05-11T11:36:34.912Z"
   },
   {
    "duration": 24,
    "start_time": "2022-05-11T11:37:00.736Z"
   },
   {
    "duration": 24,
    "start_time": "2022-05-11T11:37:11.327Z"
   },
   {
    "duration": 23,
    "start_time": "2022-05-11T11:41:25.567Z"
   },
   {
    "duration": 25,
    "start_time": "2022-05-11T11:42:20.334Z"
   },
   {
    "duration": 37,
    "start_time": "2022-05-11T11:43:34.166Z"
   },
   {
    "duration": 10,
    "start_time": "2022-05-11T11:43:45.595Z"
   },
   {
    "duration": 9,
    "start_time": "2022-05-11T11:44:27.319Z"
   },
   {
    "duration": 20,
    "start_time": "2022-05-11T11:44:41.492Z"
   },
   {
    "duration": 21,
    "start_time": "2022-05-11T11:44:51.107Z"
   },
   {
    "duration": 16,
    "start_time": "2022-05-11T11:49:19.832Z"
   },
   {
    "duration": 17,
    "start_time": "2022-05-11T11:49:45.241Z"
   },
   {
    "duration": 16,
    "start_time": "2022-05-11T11:55:17.647Z"
   },
   {
    "duration": 31,
    "start_time": "2022-05-11T11:57:32.387Z"
   },
   {
    "duration": 36,
    "start_time": "2022-05-11T11:57:39.808Z"
   },
   {
    "duration": 42,
    "start_time": "2022-05-11T11:57:54.967Z"
   },
   {
    "duration": 38,
    "start_time": "2022-05-11T11:58:48.349Z"
   },
   {
    "duration": 9,
    "start_time": "2022-05-11T11:59:27.087Z"
   },
   {
    "duration": 34,
    "start_time": "2022-05-11T11:59:33.648Z"
   },
   {
    "duration": 17,
    "start_time": "2022-05-11T12:00:59.875Z"
   },
   {
    "duration": 25,
    "start_time": "2022-05-11T12:01:41.927Z"
   },
   {
    "duration": 9,
    "start_time": "2022-05-11T12:02:06.467Z"
   },
   {
    "duration": 23,
    "start_time": "2022-05-11T12:09:36.076Z"
   },
   {
    "duration": 21,
    "start_time": "2022-05-11T12:12:33.858Z"
   },
   {
    "duration": 109,
    "start_time": "2022-05-11T12:12:46.190Z"
   },
   {
    "duration": 44,
    "start_time": "2022-05-11T12:18:49.351Z"
   },
   {
    "duration": 68,
    "start_time": "2022-05-11T12:19:15.799Z"
   },
   {
    "duration": 43,
    "start_time": "2022-05-11T12:19:38.242Z"
   },
   {
    "duration": 13,
    "start_time": "2022-05-11T12:20:32.351Z"
   },
   {
    "duration": 88,
    "start_time": "2022-05-11T12:20:48.131Z"
   },
   {
    "duration": 11,
    "start_time": "2022-05-11T12:20:58.171Z"
   },
   {
    "duration": 9,
    "start_time": "2022-05-11T12:21:14.859Z"
   },
   {
    "duration": 12,
    "start_time": "2022-05-11T12:44:02.233Z"
   },
   {
    "duration": 9,
    "start_time": "2022-05-11T12:44:24.552Z"
   },
   {
    "duration": 4,
    "start_time": "2022-05-11T12:50:14.852Z"
   },
   {
    "duration": 90,
    "start_time": "2022-05-11T12:50:54.472Z"
   },
   {
    "duration": 95,
    "start_time": "2022-05-11T12:51:30.872Z"
   },
   {
    "duration": 10,
    "start_time": "2022-05-11T12:51:48.211Z"
   },
   {
    "duration": 86,
    "start_time": "2022-05-11T13:12:03.443Z"
   },
   {
    "duration": 100,
    "start_time": "2022-05-11T13:12:31.735Z"
   },
   {
    "duration": 119,
    "start_time": "2022-05-11T13:12:37.897Z"
   },
   {
    "duration": 105,
    "start_time": "2022-05-11T13:15:05.424Z"
   },
   {
    "duration": 90,
    "start_time": "2022-05-11T13:15:30.596Z"
   },
   {
    "duration": 110,
    "start_time": "2022-05-11T13:15:38.123Z"
   },
   {
    "duration": 126,
    "start_time": "2022-05-11T13:16:16.917Z"
   },
   {
    "duration": 9,
    "start_time": "2022-05-11T13:20:23.317Z"
   },
   {
    "duration": 4,
    "start_time": "2022-05-11T13:20:54.863Z"
   },
   {
    "duration": 31,
    "start_time": "2022-05-11T13:22:42.847Z"
   },
   {
    "duration": 112,
    "start_time": "2022-05-11T13:22:53.523Z"
   },
   {
    "duration": 8,
    "start_time": "2022-05-11T13:26:26.777Z"
   },
   {
    "duration": 90,
    "start_time": "2022-05-11T13:26:37.842Z"
   },
   {
    "duration": 157,
    "start_time": "2022-05-11T13:27:31.991Z"
   },
   {
    "duration": 104,
    "start_time": "2022-05-11T13:27:35.083Z"
   },
   {
    "duration": 58,
    "start_time": "2022-05-11T13:30:47.339Z"
   },
   {
    "duration": 145,
    "start_time": "2022-05-11T13:31:05.597Z"
   },
   {
    "duration": 161,
    "start_time": "2022-05-11T13:31:44.193Z"
   },
   {
    "duration": 168,
    "start_time": "2022-05-11T13:31:50.607Z"
   },
   {
    "duration": 163,
    "start_time": "2022-05-11T13:32:02.580Z"
   },
   {
    "duration": 3083,
    "start_time": "2022-05-11T13:33:36.107Z"
   },
   {
    "duration": 4528,
    "start_time": "2022-05-11T13:36:14.465Z"
   },
   {
    "duration": 109,
    "start_time": "2022-05-11T13:36:46.166Z"
   },
   {
    "duration": 106,
    "start_time": "2022-05-11T13:36:52.657Z"
   },
   {
    "duration": 3,
    "start_time": "2022-05-11T13:38:56.418Z"
   },
   {
    "duration": 108,
    "start_time": "2022-05-11T14:09:59.304Z"
   },
   {
    "duration": 98,
    "start_time": "2022-05-11T14:10:40.590Z"
   },
   {
    "duration": 98,
    "start_time": "2022-05-11T14:10:45.940Z"
   },
   {
    "duration": 5,
    "start_time": "2022-05-11T14:16:01.283Z"
   },
   {
    "duration": 256,
    "start_time": "2022-05-11T14:16:06.291Z"
   },
   {
    "duration": 8,
    "start_time": "2022-05-11T14:16:33.883Z"
   },
   {
    "duration": 195,
    "start_time": "2022-05-11T14:16:42.483Z"
   },
   {
    "duration": 58,
    "start_time": "2022-05-11T14:16:45.915Z"
   },
   {
    "duration": 65,
    "start_time": "2022-05-11T14:18:01.883Z"
   },
   {
    "duration": 16,
    "start_time": "2022-05-11T14:18:17.743Z"
   },
   {
    "duration": 25,
    "start_time": "2022-05-11T14:18:38.083Z"
   },
   {
    "duration": 98,
    "start_time": "2022-05-11T14:19:58.362Z"
   },
   {
    "duration": 12,
    "start_time": "2022-05-11T14:20:05.264Z"
   },
   {
    "duration": 12,
    "start_time": "2022-05-11T14:20:16.483Z"
   },
   {
    "duration": 105,
    "start_time": "2022-05-11T14:34:12.394Z"
   },
   {
    "duration": 7,
    "start_time": "2022-05-11T14:35:40.950Z"
   },
   {
    "duration": 60,
    "start_time": "2022-05-11T14:35:45.874Z"
   },
   {
    "duration": 580,
    "start_time": "2022-05-11T14:36:21.163Z"
   },
   {
    "duration": 103,
    "start_time": "2022-05-11T14:38:11.239Z"
   },
   {
    "duration": 99,
    "start_time": "2022-05-11T14:38:20.835Z"
   },
   {
    "duration": 9,
    "start_time": "2022-05-11T14:38:32.280Z"
   },
   {
    "duration": 94,
    "start_time": "2022-05-11T14:38:39.978Z"
   },
   {
    "duration": 61,
    "start_time": "2022-05-11T14:47:06.642Z"
   },
   {
    "duration": 22,
    "start_time": "2022-05-11T14:47:37.284Z"
   },
   {
    "duration": 93,
    "start_time": "2022-05-11T14:48:06.897Z"
   },
   {
    "duration": 79,
    "start_time": "2022-05-11T14:49:16.705Z"
   },
   {
    "duration": 81,
    "start_time": "2022-05-11T14:49:23.777Z"
   },
   {
    "duration": 100,
    "start_time": "2022-05-11T14:49:54.418Z"
   },
   {
    "duration": 79,
    "start_time": "2022-05-11T14:50:05.498Z"
   },
   {
    "duration": 74,
    "start_time": "2022-05-11T14:52:39.936Z"
   },
   {
    "duration": 73,
    "start_time": "2022-05-11T14:53:38.445Z"
   },
   {
    "duration": 70,
    "start_time": "2022-05-11T14:56:09.396Z"
   },
   {
    "duration": 8,
    "start_time": "2022-05-11T14:56:17.295Z"
   },
   {
    "duration": 538,
    "start_time": "2022-05-12T07:40:29.084Z"
   },
   {
    "duration": 3,
    "start_time": "2022-05-12T07:47:33.064Z"
   },
   {
    "duration": 1213,
    "start_time": "2022-05-12T07:47:33.070Z"
   },
   {
    "duration": 247,
    "start_time": "2022-05-12T07:47:34.287Z"
   },
   {
    "duration": 51,
    "start_time": "2022-05-12T07:47:34.538Z"
   },
   {
    "duration": 346,
    "start_time": "2022-05-12T07:47:34.591Z"
   },
   {
    "duration": 400,
    "start_time": "2022-05-12T07:47:34.939Z"
   },
   {
    "duration": 88,
    "start_time": "2022-05-12T07:47:35.341Z"
   },
   {
    "duration": 52,
    "start_time": "2022-05-12T07:47:35.431Z"
   },
   {
    "duration": 27,
    "start_time": "2022-05-12T07:47:35.486Z"
   },
   {
    "duration": 43,
    "start_time": "2022-05-12T07:47:35.514Z"
   },
   {
    "duration": 107,
    "start_time": "2022-05-12T07:47:35.568Z"
   },
   {
    "duration": 23,
    "start_time": "2022-05-12T07:47:38.953Z"
   },
   {
    "duration": 20,
    "start_time": "2022-05-12T07:47:40.692Z"
   },
   {
    "duration": 4697,
    "start_time": "2022-05-12T07:47:43.929Z"
   },
   {
    "duration": 105,
    "start_time": "2022-05-12T07:48:16.105Z"
   },
   {
    "duration": 134,
    "start_time": "2022-05-12T07:51:18.749Z"
   },
   {
    "duration": 103,
    "start_time": "2022-05-12T07:52:23.056Z"
   },
   {
    "duration": 60,
    "start_time": "2022-05-12T07:52:53.888Z"
   },
   {
    "duration": 16,
    "start_time": "2022-05-12T07:53:17.358Z"
   },
   {
    "duration": 37,
    "start_time": "2022-05-12T07:53:21.824Z"
   },
   {
    "duration": 94,
    "start_time": "2022-05-12T07:53:36.509Z"
   },
   {
    "duration": 68,
    "start_time": "2022-05-12T08:00:30.074Z"
   },
   {
    "duration": 4,
    "start_time": "2022-05-12T08:02:42.873Z"
   },
   {
    "duration": 8,
    "start_time": "2022-05-12T08:02:47.903Z"
   },
   {
    "duration": 4,
    "start_time": "2022-05-12T08:03:21.933Z"
   },
   {
    "duration": 4,
    "start_time": "2022-05-12T08:03:42.129Z"
   },
   {
    "duration": 4,
    "start_time": "2022-05-12T08:04:33.567Z"
   },
   {
    "duration": 2,
    "start_time": "2022-05-12T08:08:03.354Z"
   },
   {
    "duration": 3,
    "start_time": "2022-05-12T08:16:38.465Z"
   },
   {
    "duration": 34,
    "start_time": "2022-05-12T08:16:50.976Z"
   },
   {
    "duration": 2,
    "start_time": "2022-05-12T08:17:05.981Z"
   },
   {
    "duration": 773,
    "start_time": "2022-05-12T08:17:05.985Z"
   },
   {
    "duration": 143,
    "start_time": "2022-05-12T08:17:06.760Z"
   },
   {
    "duration": 40,
    "start_time": "2022-05-12T08:17:06.904Z"
   },
   {
    "duration": 306,
    "start_time": "2022-05-12T08:17:06.946Z"
   },
   {
    "duration": 334,
    "start_time": "2022-05-12T08:17:07.254Z"
   },
   {
    "duration": 89,
    "start_time": "2022-05-12T08:17:07.590Z"
   },
   {
    "duration": 27,
    "start_time": "2022-05-12T08:17:07.681Z"
   },
   {
    "duration": 11,
    "start_time": "2022-05-12T08:17:07.709Z"
   },
   {
    "duration": 58,
    "start_time": "2022-05-12T08:17:07.722Z"
   },
   {
    "duration": 93,
    "start_time": "2022-05-12T08:17:07.782Z"
   },
   {
    "duration": 31,
    "start_time": "2022-05-12T08:17:17.240Z"
   },
   {
    "duration": 22,
    "start_time": "2022-05-12T08:17:45.750Z"
   },
   {
    "duration": 33,
    "start_time": "2022-05-12T08:17:46.580Z"
   },
   {
    "duration": 214,
    "start_time": "2022-05-12T08:19:01.151Z"
   },
   {
    "duration": 4,
    "start_time": "2022-05-12T08:19:05.350Z"
   },
   {
    "duration": 4,
    "start_time": "2022-05-12T08:19:07.720Z"
   },
   {
    "duration": 4,
    "start_time": "2022-05-12T08:19:10.384Z"
   },
   {
    "duration": 4,
    "start_time": "2022-05-12T08:19:13.475Z"
   },
   {
    "duration": 5,
    "start_time": "2022-05-12T08:19:15.649Z"
   },
   {
    "duration": 4,
    "start_time": "2022-05-12T08:19:17.724Z"
   },
   {
    "duration": 21,
    "start_time": "2022-05-12T08:23:09.340Z"
   },
   {
    "duration": 33,
    "start_time": "2022-05-12T08:23:17.691Z"
   },
   {
    "duration": 2,
    "start_time": "2022-05-12T08:27:30.980Z"
   },
   {
    "duration": 3,
    "start_time": "2022-05-12T08:28:39.775Z"
   },
   {
    "duration": 820,
    "start_time": "2022-05-12T08:28:39.781Z"
   },
   {
    "duration": 142,
    "start_time": "2022-05-12T08:28:40.604Z"
   },
   {
    "duration": 49,
    "start_time": "2022-05-12T08:28:40.748Z"
   },
   {
    "duration": 331,
    "start_time": "2022-05-12T08:28:40.800Z"
   },
   {
    "duration": 371,
    "start_time": "2022-05-12T08:28:41.133Z"
   },
   {
    "duration": 106,
    "start_time": "2022-05-12T08:28:41.506Z"
   },
   {
    "duration": 30,
    "start_time": "2022-05-12T08:28:41.614Z"
   },
   {
    "duration": 37,
    "start_time": "2022-05-12T08:28:41.645Z"
   },
   {
    "duration": 47,
    "start_time": "2022-05-12T08:28:41.684Z"
   },
   {
    "duration": 108,
    "start_time": "2022-05-12T08:28:41.733Z"
   },
   {
    "duration": 55,
    "start_time": "2022-05-12T08:28:41.843Z"
   },
   {
    "duration": 5,
    "start_time": "2022-05-12T08:28:41.900Z"
   },
   {
    "duration": 26,
    "start_time": "2022-05-12T08:28:41.907Z"
   },
   {
    "duration": 34,
    "start_time": "2022-05-12T08:28:50.535Z"
   },
   {
    "duration": 20,
    "start_time": "2022-05-12T08:29:21.320Z"
   },
   {
    "duration": 13,
    "start_time": "2022-05-12T08:29:22.450Z"
   },
   {
    "duration": 1018,
    "start_time": "2022-05-12T08:29:36.496Z"
   },
   {
    "duration": 32,
    "start_time": "2022-05-12T08:29:49.886Z"
   },
   {
    "duration": 5,
    "start_time": "2022-05-12T08:29:51.115Z"
   },
   {
    "duration": 22,
    "start_time": "2022-05-12T08:29:52.200Z"
   },
   {
    "duration": 19,
    "start_time": "2022-05-12T08:29:53.159Z"
   },
   {
    "duration": 5,
    "start_time": "2022-05-12T08:30:06.155Z"
   },
   {
    "duration": 15,
    "start_time": "2022-05-12T08:30:54.025Z"
   },
   {
    "duration": 7,
    "start_time": "2022-05-12T08:30:55.020Z"
   },
   {
    "duration": 3,
    "start_time": "2022-05-12T08:31:10.455Z"
   },
   {
    "duration": 904,
    "start_time": "2022-05-12T08:31:10.460Z"
   },
   {
    "duration": 153,
    "start_time": "2022-05-12T08:31:11.367Z"
   },
   {
    "duration": 48,
    "start_time": "2022-05-12T08:31:11.522Z"
   },
   {
    "duration": 357,
    "start_time": "2022-05-12T08:31:11.573Z"
   },
   {
    "duration": 495,
    "start_time": "2022-05-12T08:31:11.931Z"
   },
   {
    "duration": 119,
    "start_time": "2022-05-12T08:31:12.428Z"
   },
   {
    "duration": 51,
    "start_time": "2022-05-12T08:31:12.548Z"
   },
   {
    "duration": 11,
    "start_time": "2022-05-12T08:31:12.602Z"
   },
   {
    "duration": 31,
    "start_time": "2022-05-12T08:31:12.616Z"
   },
   {
    "duration": 111,
    "start_time": "2022-05-12T08:31:12.674Z"
   },
   {
    "duration": 43,
    "start_time": "2022-05-12T08:31:12.788Z"
   },
   {
    "duration": 9,
    "start_time": "2022-05-12T08:31:12.833Z"
   },
   {
    "duration": 44,
    "start_time": "2022-05-12T08:31:12.844Z"
   },
   {
    "duration": 13,
    "start_time": "2022-05-12T08:31:18.045Z"
   },
   {
    "duration": 5,
    "start_time": "2022-05-12T08:31:23.427Z"
   },
   {
    "duration": 3,
    "start_time": "2022-05-12T08:31:28.895Z"
   },
   {
    "duration": 808,
    "start_time": "2022-05-12T08:31:28.900Z"
   },
   {
    "duration": 161,
    "start_time": "2022-05-12T08:31:29.710Z"
   },
   {
    "duration": 46,
    "start_time": "2022-05-12T08:31:29.875Z"
   },
   {
    "duration": 401,
    "start_time": "2022-05-12T08:31:29.925Z"
   },
   {
    "duration": 503,
    "start_time": "2022-05-12T08:31:30.327Z"
   },
   {
    "duration": 111,
    "start_time": "2022-05-12T08:31:30.832Z"
   },
   {
    "duration": 57,
    "start_time": "2022-05-12T08:31:30.946Z"
   },
   {
    "duration": 14,
    "start_time": "2022-05-12T08:31:31.006Z"
   },
   {
    "duration": 75,
    "start_time": "2022-05-12T08:31:31.022Z"
   },
   {
    "duration": 191,
    "start_time": "2022-05-12T08:31:31.099Z"
   },
   {
    "duration": 56,
    "start_time": "2022-05-12T08:31:31.294Z"
   },
   {
    "duration": 52,
    "start_time": "2022-05-12T08:31:31.354Z"
   },
   {
    "duration": 52,
    "start_time": "2022-05-12T08:31:31.409Z"
   },
   {
    "duration": 5,
    "start_time": "2022-05-12T08:31:36.516Z"
   },
   {
    "duration": 15,
    "start_time": "2022-05-12T08:31:42.296Z"
   },
   {
    "duration": 6,
    "start_time": "2022-05-12T08:31:42.836Z"
   },
   {
    "duration": 547,
    "start_time": "2022-05-12T08:32:28.286Z"
   },
   {
    "duration": 6,
    "start_time": "2022-05-12T08:32:28.980Z"
   },
   {
    "duration": 640,
    "start_time": "2022-05-12T08:33:11.262Z"
   },
   {
    "duration": 21,
    "start_time": "2022-05-12T08:35:23.025Z"
   },
   {
    "duration": 5,
    "start_time": "2022-05-12T08:35:25.356Z"
   },
   {
    "duration": 3,
    "start_time": "2022-05-12T08:35:32.840Z"
   },
   {
    "duration": 956,
    "start_time": "2022-05-12T08:35:32.845Z"
   },
   {
    "duration": 150,
    "start_time": "2022-05-12T08:35:33.803Z"
   },
   {
    "duration": 68,
    "start_time": "2022-05-12T08:35:33.956Z"
   },
   {
    "duration": 400,
    "start_time": "2022-05-12T08:35:34.027Z"
   },
   {
    "duration": 411,
    "start_time": "2022-05-12T08:35:34.428Z"
   },
   {
    "duration": 93,
    "start_time": "2022-05-12T08:35:34.841Z"
   },
   {
    "duration": 56,
    "start_time": "2022-05-12T08:35:34.936Z"
   },
   {
    "duration": 13,
    "start_time": "2022-05-12T08:35:34.993Z"
   },
   {
    "duration": 57,
    "start_time": "2022-05-12T08:35:35.007Z"
   },
   {
    "duration": 128,
    "start_time": "2022-05-12T08:35:35.066Z"
   },
   {
    "duration": 66,
    "start_time": "2022-05-12T08:35:35.197Z"
   },
   {
    "duration": 40,
    "start_time": "2022-05-12T08:35:35.266Z"
   },
   {
    "duration": 39,
    "start_time": "2022-05-12T08:35:35.308Z"
   },
   {
    "duration": 6,
    "start_time": "2022-05-12T08:35:38.825Z"
   },
   {
    "duration": 51,
    "start_time": "2022-05-12T08:35:51.231Z"
   },
   {
    "duration": 3,
    "start_time": "2022-05-12T09:16:38.068Z"
   },
   {
    "duration": 21,
    "start_time": "2022-05-12T09:16:53.637Z"
   },
   {
    "duration": 4517,
    "start_time": "2022-05-12T09:16:54.627Z"
   },
   {
    "duration": 399,
    "start_time": "2022-05-12T10:56:38.376Z"
   },
   {
    "duration": 72,
    "start_time": "2022-05-12T10:59:16.002Z"
   },
   {
    "duration": 3,
    "start_time": "2022-05-12T10:59:26.653Z"
   },
   {
    "duration": 897,
    "start_time": "2022-05-12T10:59:26.659Z"
   },
   {
    "duration": 155,
    "start_time": "2022-05-12T10:59:27.558Z"
   },
   {
    "duration": 44,
    "start_time": "2022-05-12T10:59:27.715Z"
   },
   {
    "duration": 346,
    "start_time": "2022-05-12T10:59:27.761Z"
   },
   {
    "duration": 426,
    "start_time": "2022-05-12T10:59:28.109Z"
   },
   {
    "duration": 104,
    "start_time": "2022-05-12T10:59:28.538Z"
   },
   {
    "duration": 32,
    "start_time": "2022-05-12T10:59:28.644Z"
   },
   {
    "duration": 16,
    "start_time": "2022-05-12T10:59:28.678Z"
   },
   {
    "duration": 68,
    "start_time": "2022-05-12T10:59:28.696Z"
   },
   {
    "duration": 111,
    "start_time": "2022-05-12T10:59:28.766Z"
   },
   {
    "duration": 23,
    "start_time": "2022-05-12T10:59:28.882Z"
   },
   {
    "duration": 43,
    "start_time": "2022-05-12T10:59:28.907Z"
   },
   {
    "duration": 4533,
    "start_time": "2022-05-12T10:59:28.953Z"
   },
   {
    "duration": 4,
    "start_time": "2022-05-12T10:59:33.488Z"
   },
   {
    "duration": 101,
    "start_time": "2022-05-12T10:59:33.493Z"
   },
   {
    "duration": 42,
    "start_time": "2022-05-12T10:59:36.862Z"
   },
   {
    "duration": 2612,
    "start_time": "2022-05-12T11:00:06.322Z"
   },
   {
    "duration": 24,
    "start_time": "2022-05-12T11:00:39.325Z"
   },
   {
    "duration": 703,
    "start_time": "2022-05-12T11:00:57.724Z"
   },
   {
    "duration": 10,
    "start_time": "2022-05-12T11:01:13.682Z"
   },
   {
    "duration": 11,
    "start_time": "2022-05-12T11:02:45.069Z"
   },
   {
    "duration": 777,
    "start_time": "2022-05-12T11:03:05.940Z"
   },
   {
    "duration": 740,
    "start_time": "2022-05-12T11:03:17.642Z"
   },
   {
    "duration": 14,
    "start_time": "2022-05-12T11:03:49.621Z"
   },
   {
    "duration": 24,
    "start_time": "2022-05-12T11:04:31.503Z"
   },
   {
    "duration": 196,
    "start_time": "2022-05-12T11:05:06.638Z"
   },
   {
    "duration": 702,
    "start_time": "2022-05-12T11:05:10.948Z"
   },
   {
    "duration": 11,
    "start_time": "2022-05-12T11:10:20.565Z"
   },
   {
    "duration": 3065,
    "start_time": "2022-05-12T11:10:49.835Z"
   },
   {
    "duration": 11,
    "start_time": "2022-05-12T11:11:32.802Z"
   },
   {
    "duration": 3164,
    "start_time": "2022-05-12T11:12:01.402Z"
   },
   {
    "duration": 4,
    "start_time": "2022-05-12T11:12:42.401Z"
   },
   {
    "duration": 5,
    "start_time": "2022-05-12T11:13:12.021Z"
   },
   {
    "duration": 2113,
    "start_time": "2022-05-12T11:13:59.230Z"
   },
   {
    "duration": 18,
    "start_time": "2022-05-12T11:14:31.951Z"
   },
   {
    "duration": 13,
    "start_time": "2022-05-12T11:14:42.563Z"
   },
   {
    "duration": 15,
    "start_time": "2022-05-12T11:16:49.857Z"
   },
   {
    "duration": 5,
    "start_time": "2022-05-12T11:24:17.724Z"
   },
   {
    "duration": 2523,
    "start_time": "2022-05-12T11:25:25.661Z"
   },
   {
    "duration": 60,
    "start_time": "2022-05-12T11:26:21.261Z"
   },
   {
    "duration": 8,
    "start_time": "2022-05-12T11:28:38.518Z"
   },
   {
    "duration": 31,
    "start_time": "2022-05-12T11:29:11.901Z"
   },
   {
    "duration": 201,
    "start_time": "2022-05-12T11:30:41.721Z"
   },
   {
    "duration": 103,
    "start_time": "2022-05-12T11:30:56.941Z"
   },
   {
    "duration": 35,
    "start_time": "2022-05-12T11:31:32.921Z"
   },
   {
    "duration": 2,
    "start_time": "2022-05-12T11:32:07.642Z"
   },
   {
    "duration": 838,
    "start_time": "2022-05-12T11:32:07.646Z"
   },
   {
    "duration": 137,
    "start_time": "2022-05-12T11:32:08.485Z"
   },
   {
    "duration": 42,
    "start_time": "2022-05-12T11:32:08.623Z"
   },
   {
    "duration": 324,
    "start_time": "2022-05-12T11:32:08.668Z"
   },
   {
    "duration": 369,
    "start_time": "2022-05-12T11:32:08.994Z"
   },
   {
    "duration": 93,
    "start_time": "2022-05-12T11:32:09.365Z"
   },
   {
    "duration": 30,
    "start_time": "2022-05-12T11:32:09.460Z"
   },
   {
    "duration": 11,
    "start_time": "2022-05-12T11:32:09.492Z"
   },
   {
    "duration": 57,
    "start_time": "2022-05-12T11:32:09.505Z"
   },
   {
    "duration": 109,
    "start_time": "2022-05-12T11:32:09.564Z"
   },
   {
    "duration": 23,
    "start_time": "2022-05-12T11:32:09.675Z"
   },
   {
    "duration": 38,
    "start_time": "2022-05-12T11:32:09.700Z"
   },
   {
    "duration": 4302,
    "start_time": "2022-05-12T11:32:09.741Z"
   },
   {
    "duration": 90,
    "start_time": "2022-05-12T11:32:14.045Z"
   },
   {
    "duration": 3,
    "start_time": "2022-05-12T11:32:14.137Z"
   },
   {
    "duration": 44,
    "start_time": "2022-05-12T11:32:14.141Z"
   },
   {
    "duration": 205,
    "start_time": "2022-05-12T11:32:14.187Z"
   },
   {
    "duration": 35,
    "start_time": "2022-05-12T11:32:18.663Z"
   },
   {
    "duration": 3407,
    "start_time": "2022-05-12T11:38:25.282Z"
   },
   {
    "duration": 3,
    "start_time": "2022-05-12T11:38:40.172Z"
   },
   {
    "duration": 912,
    "start_time": "2022-05-12T11:38:40.178Z"
   },
   {
    "duration": 161,
    "start_time": "2022-05-12T11:38:41.091Z"
   },
   {
    "duration": 48,
    "start_time": "2022-05-12T11:38:41.254Z"
   },
   {
    "duration": 366,
    "start_time": "2022-05-12T11:38:41.304Z"
   },
   {
    "duration": 405,
    "start_time": "2022-05-12T11:38:41.672Z"
   },
   {
    "duration": 97,
    "start_time": "2022-05-12T11:38:42.079Z"
   },
   {
    "duration": 31,
    "start_time": "2022-05-12T11:38:42.178Z"
   },
   {
    "duration": 36,
    "start_time": "2022-05-12T11:38:42.211Z"
   },
   {
    "duration": 54,
    "start_time": "2022-05-12T11:38:42.249Z"
   },
   {
    "duration": 114,
    "start_time": "2022-05-12T11:38:42.307Z"
   },
   {
    "duration": 41,
    "start_time": "2022-05-12T11:38:42.423Z"
   },
   {
    "duration": 28,
    "start_time": "2022-05-12T11:38:42.466Z"
   },
   {
    "duration": 21,
    "start_time": "2022-05-12T11:38:42.497Z"
   },
   {
    "duration": 3005,
    "start_time": "2022-05-12T11:38:45.824Z"
   },
   {
    "duration": 3226,
    "start_time": "2022-05-12T11:42:26.951Z"
   },
   {
    "duration": 9945,
    "start_time": "2022-05-12T11:43:08.233Z"
   },
   {
    "duration": 96,
    "start_time": "2022-05-12T11:43:35.970Z"
   },
   {
    "duration": 6,
    "start_time": "2022-05-12T11:43:53.241Z"
   },
   {
    "duration": 27,
    "start_time": "2022-05-12T11:50:30.664Z"
   },
   {
    "duration": 116,
    "start_time": "2022-05-12T11:50:31.504Z"
   },
   {
    "duration": 6,
    "start_time": "2022-05-12T11:50:53.991Z"
   },
   {
    "duration": 3,
    "start_time": "2022-05-12T11:51:05.612Z"
   },
   {
    "duration": 899,
    "start_time": "2022-05-12T11:51:05.618Z"
   },
   {
    "duration": 144,
    "start_time": "2022-05-12T11:51:06.519Z"
   },
   {
    "duration": 40,
    "start_time": "2022-05-12T11:51:06.665Z"
   },
   {
    "duration": 328,
    "start_time": "2022-05-12T11:51:06.707Z"
   },
   {
    "duration": 358,
    "start_time": "2022-05-12T11:51:07.036Z"
   },
   {
    "duration": 94,
    "start_time": "2022-05-12T11:51:07.396Z"
   },
   {
    "duration": 49,
    "start_time": "2022-05-12T11:51:07.492Z"
   },
   {
    "duration": 11,
    "start_time": "2022-05-12T11:51:07.543Z"
   },
   {
    "duration": 35,
    "start_time": "2022-05-12T11:51:07.556Z"
   },
   {
    "duration": 128,
    "start_time": "2022-05-12T11:51:07.594Z"
   },
   {
    "duration": 23,
    "start_time": "2022-05-12T11:51:07.734Z"
   },
   {
    "duration": 22,
    "start_time": "2022-05-12T11:51:07.760Z"
   },
   {
    "duration": 3,
    "start_time": "2022-05-12T11:51:07.785Z"
   },
   {
    "duration": 51,
    "start_time": "2022-05-12T11:51:07.790Z"
   },
   {
    "duration": 9,
    "start_time": "2022-05-12T11:51:07.844Z"
   },
   {
    "duration": 24,
    "start_time": "2022-05-12T11:52:02.651Z"
   },
   {
    "duration": 6,
    "start_time": "2022-05-12T11:52:03.292Z"
   },
   {
    "duration": 3,
    "start_time": "2022-05-12T11:52:09.124Z"
   },
   {
    "duration": 872,
    "start_time": "2022-05-12T11:52:09.129Z"
   },
   {
    "duration": 152,
    "start_time": "2022-05-12T11:52:10.003Z"
   },
   {
    "duration": 30,
    "start_time": "2022-05-12T11:52:10.157Z"
   },
   {
    "duration": 339,
    "start_time": "2022-05-12T11:52:10.190Z"
   },
   {
    "duration": 397,
    "start_time": "2022-05-12T11:52:10.533Z"
   },
   {
    "duration": 132,
    "start_time": "2022-05-12T11:52:10.932Z"
   },
   {
    "duration": 32,
    "start_time": "2022-05-12T11:52:11.066Z"
   },
   {
    "duration": 37,
    "start_time": "2022-05-12T11:52:11.100Z"
   },
   {
    "duration": 34,
    "start_time": "2022-05-12T11:52:11.139Z"
   },
   {
    "duration": 119,
    "start_time": "2022-05-12T11:52:11.176Z"
   },
   {
    "duration": 42,
    "start_time": "2022-05-12T11:52:11.297Z"
   },
   {
    "duration": 22,
    "start_time": "2022-05-12T11:52:11.341Z"
   },
   {
    "duration": 5,
    "start_time": "2022-05-12T11:52:11.365Z"
   },
   {
    "duration": 28,
    "start_time": "2022-05-12T11:52:11.372Z"
   },
   {
    "duration": 5,
    "start_time": "2022-05-12T11:52:14.224Z"
   },
   {
    "duration": 14,
    "start_time": "2022-05-12T11:52:28.023Z"
   },
   {
    "duration": 7,
    "start_time": "2022-05-12T11:52:33.543Z"
   },
   {
    "duration": 16,
    "start_time": "2022-05-12T11:57:01.282Z"
   },
   {
    "duration": 12,
    "start_time": "2022-05-12T11:57:07.443Z"
   },
   {
    "duration": 176,
    "start_time": "2022-05-12T11:57:17.866Z"
   },
   {
    "duration": 9,
    "start_time": "2022-05-12T11:57:22.282Z"
   },
   {
    "duration": 9,
    "start_time": "2022-05-12T11:57:46.581Z"
   },
   {
    "duration": 10,
    "start_time": "2022-05-12T12:00:17.323Z"
   },
   {
    "duration": 10,
    "start_time": "2022-05-12T12:01:31.864Z"
   },
   {
    "duration": 3,
    "start_time": "2022-05-12T12:01:45.203Z"
   },
   {
    "duration": 877,
    "start_time": "2022-05-12T12:01:45.208Z"
   },
   {
    "duration": 151,
    "start_time": "2022-05-12T12:01:46.088Z"
   },
   {
    "duration": 59,
    "start_time": "2022-05-12T12:01:46.242Z"
   },
   {
    "duration": 388,
    "start_time": "2022-05-12T12:01:46.305Z"
   },
   {
    "duration": 401,
    "start_time": "2022-05-12T12:01:46.695Z"
   },
   {
    "duration": 107,
    "start_time": "2022-05-12T12:01:47.098Z"
   },
   {
    "duration": 52,
    "start_time": "2022-05-12T12:01:47.207Z"
   },
   {
    "duration": 12,
    "start_time": "2022-05-12T12:01:47.261Z"
   },
   {
    "duration": 34,
    "start_time": "2022-05-12T12:01:47.275Z"
   },
   {
    "duration": 132,
    "start_time": "2022-05-12T12:01:47.312Z"
   },
   {
    "duration": 28,
    "start_time": "2022-05-12T12:01:47.446Z"
   },
   {
    "duration": 23,
    "start_time": "2022-05-12T12:01:47.476Z"
   },
   {
    "duration": 5,
    "start_time": "2022-05-12T12:01:47.501Z"
   },
   {
    "duration": 3,
    "start_time": "2022-05-12T12:01:50.724Z"
   },
   {
    "duration": 23,
    "start_time": "2022-05-12T12:01:51.289Z"
   },
   {
    "duration": 204,
    "start_time": "2022-05-12T12:02:22.383Z"
   },
   {
    "duration": 238,
    "start_time": "2022-05-12T12:03:33.404Z"
   },
   {
    "duration": 2,
    "start_time": "2022-05-12T12:04:49.691Z"
   },
   {
    "duration": 793,
    "start_time": "2022-05-12T12:06:59.263Z"
   },
   {
    "duration": 3,
    "start_time": "2022-05-12T12:07:24.383Z"
   },
   {
    "duration": 934,
    "start_time": "2022-05-12T12:07:24.389Z"
   },
   {
    "duration": 168,
    "start_time": "2022-05-12T12:07:25.325Z"
   },
   {
    "duration": 60,
    "start_time": "2022-05-12T12:07:25.495Z"
   },
   {
    "duration": 361,
    "start_time": "2022-05-12T12:07:25.557Z"
   },
   {
    "duration": 425,
    "start_time": "2022-05-12T12:07:25.919Z"
   },
   {
    "duration": 114,
    "start_time": "2022-05-12T12:07:26.346Z"
   },
   {
    "duration": 31,
    "start_time": "2022-05-12T12:07:26.461Z"
   },
   {
    "duration": 12,
    "start_time": "2022-05-12T12:07:26.494Z"
   },
   {
    "duration": 45,
    "start_time": "2022-05-12T12:07:26.535Z"
   },
   {
    "duration": 154,
    "start_time": "2022-05-12T12:07:26.582Z"
   },
   {
    "duration": 38,
    "start_time": "2022-05-12T12:07:26.739Z"
   },
   {
    "duration": 31,
    "start_time": "2022-05-12T12:07:26.779Z"
   },
   {
    "duration": 4,
    "start_time": "2022-05-12T12:07:26.813Z"
   },
   {
    "duration": 247,
    "start_time": "2022-05-12T12:07:26.839Z"
   },
   {
    "duration": 222,
    "start_time": "2022-05-12T12:07:27.088Z"
   },
   {
    "duration": 801,
    "start_time": "2022-05-12T12:07:30.450Z"
   },
   {
    "duration": 103,
    "start_time": "2022-05-12T12:08:32.383Z"
   },
   {
    "duration": 59,
    "start_time": "2022-05-12T12:08:44.142Z"
   },
   {
    "duration": 419,
    "start_time": "2022-05-12T12:09:23.468Z"
   },
   {
    "duration": 983,
    "start_time": "2022-05-12T12:09:23.889Z"
   },
   {
    "duration": 168,
    "start_time": "2022-05-12T12:09:24.873Z"
   },
   {
    "duration": 39,
    "start_time": "2022-05-12T12:09:25.043Z"
   },
   {
    "duration": 374,
    "start_time": "2022-05-12T12:09:25.085Z"
   },
   {
    "duration": 434,
    "start_time": "2022-05-12T12:09:25.461Z"
   },
   {
    "duration": 123,
    "start_time": "2022-05-12T12:09:25.897Z"
   },
   {
    "duration": 47,
    "start_time": "2022-05-12T12:09:26.022Z"
   },
   {
    "duration": 15,
    "start_time": "2022-05-12T12:09:26.070Z"
   },
   {
    "duration": 81,
    "start_time": "2022-05-12T12:09:26.087Z"
   },
   {
    "duration": 117,
    "start_time": "2022-05-12T12:09:26.169Z"
   },
   {
    "duration": 47,
    "start_time": "2022-05-12T12:09:26.288Z"
   },
   {
    "duration": 34,
    "start_time": "2022-05-12T12:09:26.339Z"
   },
   {
    "duration": 3,
    "start_time": "2022-05-12T12:09:26.376Z"
   },
   {
    "duration": 280,
    "start_time": "2022-05-12T12:09:26.381Z"
   },
   {
    "duration": 235,
    "start_time": "2022-05-12T12:09:26.663Z"
   },
   {
    "duration": 895,
    "start_time": "2022-05-12T12:09:26.900Z"
   },
   {
    "duration": 0,
    "start_time": "2022-05-12T12:09:27.797Z"
   },
   {
    "duration": 102,
    "start_time": "2022-05-12T12:09:31.183Z"
   },
   {
    "duration": 101,
    "start_time": "2022-05-12T12:10:06.951Z"
   },
   {
    "duration": 3,
    "start_time": "2022-05-12T12:10:11.323Z"
   },
   {
    "duration": 1057,
    "start_time": "2022-05-12T12:10:11.329Z"
   },
   {
    "duration": 162,
    "start_time": "2022-05-12T12:10:12.388Z"
   },
   {
    "duration": 45,
    "start_time": "2022-05-12T12:10:12.552Z"
   },
   {
    "duration": 397,
    "start_time": "2022-05-12T12:10:12.600Z"
   },
   {
    "duration": 455,
    "start_time": "2022-05-12T12:10:12.999Z"
   },
   {
    "duration": 113,
    "start_time": "2022-05-12T12:10:13.456Z"
   },
   {
    "duration": 40,
    "start_time": "2022-05-12T12:10:13.571Z"
   },
   {
    "duration": 31,
    "start_time": "2022-05-12T12:10:13.613Z"
   },
   {
    "duration": 47,
    "start_time": "2022-05-12T12:10:13.649Z"
   },
   {
    "duration": 147,
    "start_time": "2022-05-12T12:10:13.699Z"
   },
   {
    "duration": 31,
    "start_time": "2022-05-12T12:10:13.852Z"
   },
   {
    "duration": 23,
    "start_time": "2022-05-12T12:10:13.885Z"
   },
   {
    "duration": 4,
    "start_time": "2022-05-12T12:10:13.910Z"
   },
   {
    "duration": 290,
    "start_time": "2022-05-12T12:10:13.916Z"
   },
   {
    "duration": 113,
    "start_time": "2022-05-12T12:10:18.101Z"
   },
   {
    "duration": 8,
    "start_time": "2022-05-12T12:35:48.719Z"
   },
   {
    "duration": 212,
    "start_time": "2022-05-12T12:36:02.399Z"
   },
   {
    "duration": 6,
    "start_time": "2022-05-12T12:36:10.608Z"
   },
   {
    "duration": 53,
    "start_time": "2022-05-12T12:37:20.578Z"
   },
   {
    "duration": 4208,
    "start_time": "2022-05-12T12:37:36.775Z"
   },
   {
    "duration": 3705,
    "start_time": "2022-05-12T12:37:57.099Z"
   },
   {
    "duration": 247,
    "start_time": "2022-05-12T12:41:56.829Z"
   },
   {
    "duration": 16,
    "start_time": "2022-05-12T12:41:59.432Z"
   },
   {
    "duration": 7,
    "start_time": "2022-05-12T12:42:11.267Z"
   },
   {
    "duration": 1116,
    "start_time": "2022-05-12T12:42:11.277Z"
   },
   {
    "duration": 276,
    "start_time": "2022-05-12T12:42:12.396Z"
   },
   {
    "duration": 59,
    "start_time": "2022-05-12T12:42:12.676Z"
   },
   {
    "duration": 455,
    "start_time": "2022-05-12T12:42:12.738Z"
   },
   {
    "duration": 481,
    "start_time": "2022-05-12T12:42:13.194Z"
   },
   {
    "duration": 142,
    "start_time": "2022-05-12T12:42:13.679Z"
   },
   {
    "duration": 49,
    "start_time": "2022-05-12T12:42:13.822Z"
   },
   {
    "duration": 20,
    "start_time": "2022-05-12T12:42:13.873Z"
   },
   {
    "duration": 53,
    "start_time": "2022-05-12T12:42:13.895Z"
   },
   {
    "duration": 145,
    "start_time": "2022-05-12T12:42:13.950Z"
   },
   {
    "duration": 55,
    "start_time": "2022-05-12T12:42:14.097Z"
   },
   {
    "duration": 63,
    "start_time": "2022-05-12T12:42:14.154Z"
   },
   {
    "duration": 3,
    "start_time": "2022-05-12T12:42:14.220Z"
   },
   {
    "duration": 336,
    "start_time": "2022-05-12T12:42:14.225Z"
   },
   {
    "duration": 6,
    "start_time": "2022-05-12T12:42:18.179Z"
   },
   {
    "duration": 3,
    "start_time": "2022-05-12T12:42:39.980Z"
   },
   {
    "duration": 1082,
    "start_time": "2022-05-12T12:42:39.987Z"
   },
   {
    "duration": 185,
    "start_time": "2022-05-12T12:42:41.071Z"
   },
   {
    "duration": 72,
    "start_time": "2022-05-12T12:42:41.258Z"
   },
   {
    "duration": 406,
    "start_time": "2022-05-12T12:42:41.333Z"
   },
   {
    "duration": 455,
    "start_time": "2022-05-12T12:42:41.742Z"
   },
   {
    "duration": 119,
    "start_time": "2022-05-12T12:42:42.199Z"
   },
   {
    "duration": 59,
    "start_time": "2022-05-12T12:42:42.320Z"
   },
   {
    "duration": 15,
    "start_time": "2022-05-12T12:42:42.384Z"
   },
   {
    "duration": 66,
    "start_time": "2022-05-12T12:42:42.401Z"
   },
   {
    "duration": 134,
    "start_time": "2022-05-12T12:42:42.469Z"
   },
   {
    "duration": 41,
    "start_time": "2022-05-12T12:42:42.605Z"
   },
   {
    "duration": 40,
    "start_time": "2022-05-12T12:42:42.652Z"
   },
   {
    "duration": 3,
    "start_time": "2022-05-12T12:42:42.695Z"
   },
   {
    "duration": 280,
    "start_time": "2022-05-12T12:42:45.349Z"
   },
   {
    "duration": 8,
    "start_time": "2022-05-12T12:42:46.327Z"
   },
   {
    "duration": 172,
    "start_time": "2022-05-12T12:42:48.926Z"
   },
   {
    "duration": 239,
    "start_time": "2022-05-12T12:43:12.819Z"
   },
   {
    "duration": 6,
    "start_time": "2022-05-12T12:43:14.179Z"
   },
   {
    "duration": 135,
    "start_time": "2022-05-12T12:43:23.449Z"
   },
   {
    "duration": 95,
    "start_time": "2022-05-12T12:43:35.265Z"
   },
   {
    "duration": 120,
    "start_time": "2022-05-12T12:44:56.479Z"
   },
   {
    "duration": 153,
    "start_time": "2022-05-12T12:44:57.754Z"
   },
   {
    "duration": 4,
    "start_time": "2022-05-12T12:48:21.414Z"
   },
   {
    "duration": 8,
    "start_time": "2022-05-12T12:48:41.301Z"
   },
   {
    "duration": 8,
    "start_time": "2022-05-12T12:49:04.300Z"
   },
   {
    "duration": 9,
    "start_time": "2022-05-12T12:49:16.993Z"
   },
   {
    "duration": 9,
    "start_time": "2022-05-12T12:55:38.420Z"
   },
   {
    "duration": 8,
    "start_time": "2022-05-12T12:55:43.157Z"
   },
   {
    "duration": 25,
    "start_time": "2022-05-12T12:56:22.222Z"
   },
   {
    "duration": 4,
    "start_time": "2022-05-12T13:01:02.958Z"
   },
   {
    "duration": 22,
    "start_time": "2022-05-12T13:01:08.203Z"
   },
   {
    "duration": 4,
    "start_time": "2022-05-12T13:01:43.106Z"
   },
   {
    "duration": 30,
    "start_time": "2022-05-12T13:01:43.158Z"
   },
   {
    "duration": 13,
    "start_time": "2022-05-12T13:02:28.912Z"
   },
   {
    "duration": 8,
    "start_time": "2022-05-12T13:10:18.022Z"
   },
   {
    "duration": 11,
    "start_time": "2022-05-12T13:10:44.550Z"
   },
   {
    "duration": 16,
    "start_time": "2022-05-12T13:11:41.446Z"
   },
   {
    "duration": 478,
    "start_time": "2022-05-12T13:11:54.401Z"
   },
   {
    "duration": 1636,
    "start_time": "2022-05-12T13:11:54.883Z"
   },
   {
    "duration": 193,
    "start_time": "2022-05-12T13:11:56.521Z"
   },
   {
    "duration": 56,
    "start_time": "2022-05-12T13:11:56.716Z"
   },
   {
    "duration": 7,
    "start_time": "2022-05-12T13:11:56.774Z"
   },
   {
    "duration": 8,
    "start_time": "2022-05-12T13:11:56.783Z"
   },
   {
    "duration": 22,
    "start_time": "2022-05-12T13:11:56.793Z"
   },
   {
    "duration": 425,
    "start_time": "2022-05-12T13:11:56.817Z"
   },
   {
    "duration": 501,
    "start_time": "2022-05-12T13:11:57.245Z"
   },
   {
    "duration": 112,
    "start_time": "2022-05-12T13:11:57.751Z"
   },
   {
    "duration": 34,
    "start_time": "2022-05-12T13:11:57.867Z"
   },
   {
    "duration": 14,
    "start_time": "2022-05-12T13:11:57.903Z"
   },
   {
    "duration": 58,
    "start_time": "2022-05-12T13:11:57.939Z"
   },
   {
    "duration": 145,
    "start_time": "2022-05-12T13:11:57.999Z"
   },
   {
    "duration": 35,
    "start_time": "2022-05-12T13:11:58.147Z"
   },
   {
    "duration": 22,
    "start_time": "2022-05-12T13:11:58.184Z"
   },
   {
    "duration": 313,
    "start_time": "2022-05-12T13:11:58.208Z"
   },
   {
    "duration": 251,
    "start_time": "2022-05-12T13:11:58.523Z"
   },
   {
    "duration": 126,
    "start_time": "2022-05-12T13:11:58.776Z"
   },
   {
    "duration": 12,
    "start_time": "2022-05-12T13:12:02.602Z"
   },
   {
    "duration": 6,
    "start_time": "2022-05-12T13:12:05.522Z"
   },
   {
    "duration": 52,
    "start_time": "2022-05-12T13:13:33.758Z"
   },
   {
    "duration": 1217,
    "start_time": "2022-05-12T13:16:12.563Z"
   },
   {
    "duration": 123,
    "start_time": "2022-05-12T13:16:26.478Z"
   },
   {
    "duration": 462,
    "start_time": "2022-05-12T13:16:31.163Z"
   },
   {
    "duration": 200,
    "start_time": "2022-05-12T13:53:08.762Z"
   },
   {
    "duration": 6,
    "start_time": "2022-05-12T13:54:37.230Z"
   },
   {
    "duration": 8,
    "start_time": "2022-05-12T13:54:45.162Z"
   },
   {
    "duration": 16,
    "start_time": "2022-05-12T13:54:55.330Z"
   },
   {
    "duration": 33,
    "start_time": "2022-05-12T13:54:59.089Z"
   },
   {
    "duration": 34,
    "start_time": "2022-05-12T13:56:47.222Z"
   },
   {
    "duration": 17,
    "start_time": "2022-05-12T13:57:09.190Z"
   },
   {
    "duration": 49,
    "start_time": "2022-05-12T13:57:23.401Z"
   },
   {
    "duration": 59,
    "start_time": "2022-05-12T13:57:34.862Z"
   },
   {
    "duration": 50,
    "start_time": "2022-05-12T13:58:24.490Z"
   },
   {
    "duration": 34,
    "start_time": "2022-05-12T13:58:36.782Z"
   },
   {
    "duration": 33,
    "start_time": "2022-05-12T13:58:52.986Z"
   },
   {
    "duration": 33,
    "start_time": "2022-05-12T13:59:35.946Z"
   },
   {
    "duration": 41,
    "start_time": "2022-05-12T14:11:20.121Z"
   },
   {
    "duration": 40,
    "start_time": "2022-05-12T14:12:14.762Z"
   },
   {
    "duration": 42,
    "start_time": "2022-05-12T14:22:17.130Z"
   },
   {
    "duration": 41,
    "start_time": "2022-05-12T14:22:37.702Z"
   },
   {
    "duration": 5,
    "start_time": "2022-05-12T14:22:52.022Z"
   },
   {
    "duration": 5,
    "start_time": "2022-05-12T14:24:31.882Z"
   },
   {
    "duration": 5,
    "start_time": "2022-05-12T14:24:35.851Z"
   },
   {
    "duration": 2,
    "start_time": "2022-05-12T15:29:12.210Z"
   },
   {
    "duration": 177,
    "start_time": "2022-05-12T15:29:27.997Z"
   },
   {
    "duration": 1318,
    "start_time": "2022-05-12T15:29:46.726Z"
   },
   {
    "duration": 25,
    "start_time": "2022-05-12T15:31:06.358Z"
   },
   {
    "duration": 612,
    "start_time": "2022-05-12T15:31:11.745Z"
   },
   {
    "duration": 153,
    "start_time": "2022-05-12T15:31:48.916Z"
   },
   {
    "duration": 184,
    "start_time": "2022-05-12T15:32:25.592Z"
   },
   {
    "duration": 6,
    "start_time": "2022-05-12T15:33:35.976Z"
   },
   {
    "duration": 1527,
    "start_time": "2022-05-13T07:18:15.700Z"
   },
   {
    "duration": 168,
    "start_time": "2022-05-13T07:21:26.876Z"
   },
   {
    "duration": 3,
    "start_time": "2022-05-13T07:21:40.477Z"
   },
   {
    "duration": 1250,
    "start_time": "2022-05-13T07:21:40.482Z"
   },
   {
    "duration": 272,
    "start_time": "2022-05-13T07:21:41.734Z"
   },
   {
    "duration": 67,
    "start_time": "2022-05-13T07:21:42.009Z"
   },
   {
    "duration": 17,
    "start_time": "2022-05-13T07:21:42.078Z"
   },
   {
    "duration": 7,
    "start_time": "2022-05-13T07:21:42.098Z"
   },
   {
    "duration": 16,
    "start_time": "2022-05-13T07:21:42.107Z"
   },
   {
    "duration": 404,
    "start_time": "2022-05-13T07:21:42.125Z"
   },
   {
    "duration": 520,
    "start_time": "2022-05-13T07:21:42.530Z"
   },
   {
    "duration": 120,
    "start_time": "2022-05-13T07:21:43.057Z"
   },
   {
    "duration": 37,
    "start_time": "2022-05-13T07:21:43.179Z"
   },
   {
    "duration": 39,
    "start_time": "2022-05-13T07:21:43.218Z"
   },
   {
    "duration": 55,
    "start_time": "2022-05-13T07:21:43.259Z"
   },
   {
    "duration": 142,
    "start_time": "2022-05-13T07:21:43.315Z"
   },
   {
    "duration": 61,
    "start_time": "2022-05-13T07:21:43.460Z"
   },
   {
    "duration": 26,
    "start_time": "2022-05-13T07:21:43.523Z"
   },
   {
    "duration": 88,
    "start_time": "2022-05-13T07:21:43.551Z"
   },
   {
    "duration": 346,
    "start_time": "2022-05-13T07:21:43.641Z"
   },
   {
    "duration": 240,
    "start_time": "2022-05-13T07:21:43.989Z"
   },
   {
    "duration": 258,
    "start_time": "2022-05-13T07:21:44.231Z"
   },
   {
    "duration": 7,
    "start_time": "2022-05-13T07:21:44.491Z"
   },
   {
    "duration": 18,
    "start_time": "2022-05-13T07:21:44.500Z"
   },
   {
    "duration": 519,
    "start_time": "2022-05-13T07:21:44.520Z"
   },
   {
    "duration": 301,
    "start_time": "2022-05-13T07:21:45.042Z"
   },
   {
    "duration": 16,
    "start_time": "2022-05-13T07:21:45.345Z"
   },
   {
    "duration": 465,
    "start_time": "2022-05-13T07:24:50.824Z"
   },
   {
    "duration": 1878,
    "start_time": "2022-05-13T07:24:56.687Z"
   },
   {
    "duration": 30,
    "start_time": "2022-05-13T07:30:06.401Z"
   },
   {
    "duration": 4,
    "start_time": "2022-05-13T07:40:01.532Z"
   },
   {
    "duration": 47,
    "start_time": "2022-05-13T07:42:45.312Z"
   },
   {
    "duration": 29,
    "start_time": "2022-05-13T07:46:56.892Z"
   },
   {
    "duration": 21,
    "start_time": "2022-05-13T07:50:27.698Z"
   },
   {
    "duration": 3,
    "start_time": "2022-05-13T07:57:08.708Z"
   },
   {
    "duration": 4,
    "start_time": "2022-05-13T07:57:14.328Z"
   },
   {
    "duration": 4,
    "start_time": "2022-05-13T07:57:41.269Z"
   },
   {
    "duration": 5,
    "start_time": "2022-05-13T07:57:51.298Z"
   },
   {
    "duration": 81,
    "start_time": "2022-05-13T08:05:18.601Z"
   },
   {
    "duration": 5,
    "start_time": "2022-05-13T08:11:35.335Z"
   },
   {
    "duration": 196,
    "start_time": "2022-05-13T08:18:14.939Z"
   },
   {
    "duration": 4,
    "start_time": "2022-05-13T08:19:29.133Z"
   },
   {
    "duration": 5,
    "start_time": "2022-05-13T08:34:30.780Z"
   },
   {
    "duration": 4,
    "start_time": "2022-05-13T08:35:58.332Z"
   },
   {
    "duration": 6,
    "start_time": "2022-05-13T08:39:11.764Z"
   },
   {
    "duration": 4,
    "start_time": "2022-05-13T08:40:53.203Z"
   },
   {
    "duration": 17,
    "start_time": "2022-05-13T08:45:32.200Z"
   },
   {
    "duration": 286,
    "start_time": "2022-05-13T08:45:48.431Z"
   },
   {
    "duration": 4,
    "start_time": "2022-05-13T08:45:54.198Z"
   },
   {
    "duration": 173,
    "start_time": "2022-05-13T08:45:57.402Z"
   },
   {
    "duration": 176,
    "start_time": "2022-05-13T08:46:05.932Z"
   },
   {
    "duration": 6,
    "start_time": "2022-05-13T08:47:23.186Z"
   },
   {
    "duration": 1659,
    "start_time": "2022-05-13T08:47:29.311Z"
   },
   {
    "duration": 6,
    "start_time": "2022-05-13T08:48:03.343Z"
   },
   {
    "duration": 4,
    "start_time": "2022-05-13T08:48:04.391Z"
   },
   {
    "duration": 4,
    "start_time": "2022-05-13T08:48:07.363Z"
   },
   {
    "duration": 1600,
    "start_time": "2022-05-13T08:48:08.163Z"
   },
   {
    "duration": 6,
    "start_time": "2022-05-13T08:49:54.884Z"
   },
   {
    "duration": 3,
    "start_time": "2022-05-13T08:49:57.914Z"
   },
   {
    "duration": 211,
    "start_time": "2022-05-13T08:49:58.463Z"
   },
   {
    "duration": 3,
    "start_time": "2022-05-13T08:50:08.012Z"
   },
   {
    "duration": 290,
    "start_time": "2022-05-13T08:50:11.171Z"
   },
   {
    "duration": 6,
    "start_time": "2022-05-13T08:53:01.693Z"
   },
   {
    "duration": 1615,
    "start_time": "2022-05-13T08:53:08.541Z"
   },
   {
    "duration": 18,
    "start_time": "2022-05-13T08:55:13.964Z"
   },
   {
    "duration": 38,
    "start_time": "2022-05-13T08:55:27.172Z"
   },
   {
    "duration": 198,
    "start_time": "2022-05-13T08:56:24.503Z"
   },
   {
    "duration": 1933,
    "start_time": "2022-05-16T17:26:34.717Z"
   },
   {
    "duration": 889,
    "start_time": "2022-05-16T17:26:36.653Z"
   },
   {
    "duration": 137,
    "start_time": "2022-05-16T17:26:37.543Z"
   },
   {
    "duration": 31,
    "start_time": "2022-05-16T17:26:37.682Z"
   },
   {
    "duration": 9,
    "start_time": "2022-05-16T17:26:37.714Z"
   },
   {
    "duration": 5,
    "start_time": "2022-05-16T17:26:37.725Z"
   },
   {
    "duration": 11,
    "start_time": "2022-05-16T17:26:37.731Z"
   },
   {
    "duration": 206,
    "start_time": "2022-05-16T17:26:37.744Z"
   },
   {
    "duration": 246,
    "start_time": "2022-05-16T17:26:37.952Z"
   },
   {
    "duration": 72,
    "start_time": "2022-05-16T17:26:38.200Z"
   },
   {
    "duration": 26,
    "start_time": "2022-05-16T17:26:38.273Z"
   },
   {
    "duration": 14,
    "start_time": "2022-05-16T17:26:38.554Z"
   },
   {
    "duration": 28,
    "start_time": "2022-05-16T17:26:38.949Z"
   },
   {
    "duration": 67,
    "start_time": "2022-05-16T17:26:39.789Z"
   },
   {
    "duration": 18,
    "start_time": "2022-05-16T17:26:40.374Z"
   },
   {
    "duration": 17,
    "start_time": "2022-05-16T17:26:41.673Z"
   },
   {
    "duration": 35,
    "start_time": "2022-05-16T17:26:42.157Z"
   },
   {
    "duration": 201,
    "start_time": "2022-05-16T17:26:42.667Z"
   },
   {
    "duration": 150,
    "start_time": "2022-05-16T17:26:42.990Z"
   },
   {
    "duration": 80,
    "start_time": "2022-05-16T17:26:43.315Z"
   },
   {
    "duration": 67,
    "start_time": "2022-05-16T17:26:43.504Z"
   },
   {
    "duration": 5,
    "start_time": "2022-05-16T17:26:44.010Z"
   },
   {
    "duration": 5,
    "start_time": "2022-05-16T17:26:44.379Z"
   },
   {
    "duration": 372,
    "start_time": "2022-05-16T17:26:44.881Z"
   },
   {
    "duration": 60,
    "start_time": "2022-05-16T17:26:45.255Z"
   },
   {
    "duration": 139,
    "start_time": "2022-05-16T17:26:45.875Z"
   },
   {
    "duration": 105,
    "start_time": "2022-05-16T17:26:46.170Z"
   },
   {
    "duration": 156,
    "start_time": "2022-05-16T17:26:46.632Z"
   },
   {
    "duration": 556,
    "start_time": "2022-05-16T17:26:48.434Z"
   },
   {
    "duration": 28,
    "start_time": "2022-05-16T17:26:49.679Z"
   },
   {
    "duration": 15,
    "start_time": "2022-05-16T17:26:50.601Z"
   },
   {
    "duration": 3,
    "start_time": "2022-05-16T17:26:50.897Z"
   },
   {
    "duration": 2,
    "start_time": "2022-05-16T17:26:52.183Z"
   },
   {
    "duration": 3,
    "start_time": "2022-05-16T17:27:15.105Z"
   },
   {
    "duration": 3,
    "start_time": "2022-05-16T17:27:16.052Z"
   },
   {
    "duration": 3,
    "start_time": "2022-05-16T17:27:44.219Z"
   },
   {
    "duration": 3,
    "start_time": "2022-05-16T17:27:45.054Z"
   },
   {
    "duration": 3,
    "start_time": "2022-05-16T17:27:45.345Z"
   },
   {
    "duration": 1186,
    "start_time": "2022-05-16T17:27:47.979Z"
   },
   {
    "duration": 5,
    "start_time": "2022-05-16T17:28:49.013Z"
   },
   {
    "duration": 3,
    "start_time": "2022-05-16T17:28:51.405Z"
   },
   {
    "duration": 4,
    "start_time": "2022-05-16T17:29:45.844Z"
   },
   {
    "duration": 3,
    "start_time": "2022-05-16T17:29:47.719Z"
   },
   {
    "duration": 3,
    "start_time": "2022-05-16T17:29:47.886Z"
   },
   {
    "duration": 3,
    "start_time": "2022-05-16T17:29:48.174Z"
   },
   {
    "duration": 1057,
    "start_time": "2022-05-16T17:29:49.608Z"
   },
   {
    "duration": 3,
    "start_time": "2022-05-16T17:29:58.530Z"
   },
   {
    "duration": 2,
    "start_time": "2022-05-16T17:29:59.717Z"
   },
   {
    "duration": 3,
    "start_time": "2022-05-16T17:29:59.946Z"
   },
   {
    "duration": 3,
    "start_time": "2022-05-16T17:30:04.333Z"
   },
   {
    "duration": 1032,
    "start_time": "2022-05-16T17:30:05.636Z"
   },
   {
    "duration": 3,
    "start_time": "2022-05-16T17:30:10.474Z"
   },
   {
    "duration": 2,
    "start_time": "2022-05-16T17:30:11.045Z"
   },
   {
    "duration": 3,
    "start_time": "2022-05-16T17:30:11.247Z"
   },
   {
    "duration": 3,
    "start_time": "2022-05-16T17:30:11.483Z"
   },
   {
    "duration": 1082,
    "start_time": "2022-05-16T17:30:12.385Z"
   },
   {
    "duration": 3,
    "start_time": "2022-05-16T17:30:16.700Z"
   },
   {
    "duration": 3,
    "start_time": "2022-05-16T17:30:17.375Z"
   },
   {
    "duration": 3,
    "start_time": "2022-05-16T17:30:17.514Z"
   },
   {
    "duration": 3,
    "start_time": "2022-05-16T17:30:17.646Z"
   },
   {
    "duration": 251,
    "start_time": "2022-05-16T17:30:18.743Z"
   },
   {
    "duration": 3,
    "start_time": "2022-05-16T17:30:23.314Z"
   },
   {
    "duration": 3,
    "start_time": "2022-05-16T17:30:23.775Z"
   },
   {
    "duration": 3,
    "start_time": "2022-05-16T17:30:23.935Z"
   },
   {
    "duration": 3,
    "start_time": "2022-05-16T17:30:24.078Z"
   },
   {
    "duration": 66,
    "start_time": "2022-05-16T17:30:25.547Z"
   },
   {
    "duration": 3,
    "start_time": "2022-05-16T17:31:29.678Z"
   },
   {
    "duration": 3,
    "start_time": "2022-05-16T17:31:30.243Z"
   },
   {
    "duration": 3,
    "start_time": "2022-05-16T17:31:30.431Z"
   },
   {
    "duration": 3,
    "start_time": "2022-05-16T17:31:30.678Z"
   },
   {
    "duration": 1080,
    "start_time": "2022-05-16T17:31:31.386Z"
   },
   {
    "duration": 186,
    "start_time": "2022-05-16T17:34:24.525Z"
   },
   {
    "duration": 1051,
    "start_time": "2022-05-16T17:34:27.921Z"
   },
   {
    "duration": 1140,
    "start_time": "2022-05-16T17:34:36.925Z"
   },
   {
    "duration": 1110,
    "start_time": "2022-05-16T17:34:45.958Z"
   },
   {
    "duration": 1126,
    "start_time": "2022-05-16T17:34:53.241Z"
   },
   {
    "duration": 1058,
    "start_time": "2022-05-16T17:34:59.824Z"
   },
   {
    "duration": 288497,
    "start_time": "2022-05-16T17:35:50.938Z"
   },
   {
    "duration": 16082,
    "start_time": "2022-05-16T17:41:59.194Z"
   },
   {
    "duration": 90,
    "start_time": "2022-05-16T17:43:40.776Z"
   },
   {
    "duration": 77,
    "start_time": "2022-05-16T17:43:54.288Z"
   },
   {
    "duration": 450,
    "start_time": "2022-05-16T17:43:59.122Z"
   },
   {
    "duration": 431,
    "start_time": "2022-05-16T17:44:06.444Z"
   },
   {
    "duration": 13245,
    "start_time": "2022-05-16T17:44:10.523Z"
   },
   {
    "duration": 2806,
    "start_time": "2022-05-16T17:44:23.770Z"
   },
   {
    "duration": 8,
    "start_time": "2022-05-16T17:44:26.578Z"
   },
   {
    "duration": 8,
    "start_time": "2022-05-16T17:54:35.127Z"
   },
   {
    "duration": 8,
    "start_time": "2022-05-16T17:54:38.033Z"
   },
   {
    "duration": 3,
    "start_time": "2022-05-16T17:54:51.667Z"
   },
   {
    "duration": 6,
    "start_time": "2022-05-16T17:55:05.427Z"
   },
   {
    "duration": 6,
    "start_time": "2022-05-16T17:55:10.709Z"
   },
   {
    "duration": 4,
    "start_time": "2022-05-16T17:58:11.300Z"
   },
   {
    "duration": 563,
    "start_time": "2022-05-16T17:58:13.408Z"
   },
   {
    "duration": 17,
    "start_time": "2022-05-16T17:58:13.973Z"
   },
   {
    "duration": 16,
    "start_time": "2022-05-16T17:58:57.947Z"
   },
   {
    "duration": 8,
    "start_time": "2022-05-16T17:59:05.214Z"
   },
   {
    "duration": 16,
    "start_time": "2022-05-16T17:59:05.844Z"
   },
   {
    "duration": 16,
    "start_time": "2022-05-16T17:59:14.836Z"
   },
   {
    "duration": 5,
    "start_time": "2022-05-16T17:59:22.329Z"
   },
   {
    "duration": 17,
    "start_time": "2022-05-16T17:59:25.251Z"
   },
   {
    "duration": 11,
    "start_time": "2022-05-16T18:02:43.851Z"
   },
   {
    "duration": 33,
    "start_time": "2022-05-16T18:02:51.799Z"
   },
   {
    "duration": 34,
    "start_time": "2022-05-16T18:02:54.339Z"
   },
   {
    "duration": 12,
    "start_time": "2022-05-16T18:02:54.555Z"
   },
   {
    "duration": 4,
    "start_time": "2022-05-16T18:02:56.416Z"
   },
   {
    "duration": 537,
    "start_time": "2022-05-16T18:03:03.365Z"
   },
   {
    "duration": 322,
    "start_time": "2022-05-16T18:03:05.402Z"
   },
   {
    "duration": 98,
    "start_time": "2022-05-16T18:03:05.725Z"
   },
   {
    "duration": 4,
    "start_time": "2022-05-16T18:03:06.077Z"
   },
   {
    "duration": 3,
    "start_time": "2022-05-16T18:03:08.418Z"
   },
   {
    "duration": 3,
    "start_time": "2022-05-16T18:03:08.548Z"
   },
   {
    "duration": 11,
    "start_time": "2022-05-16T18:03:10.786Z"
   },
   {
    "duration": 96637,
    "start_time": "2022-05-16T18:03:11.932Z"
   },
   {
    "duration": 563,
    "start_time": "2022-05-16T18:06:25.040Z"
   },
   {
    "duration": 27,
    "start_time": "2022-05-16T18:06:28.708Z"
   },
   {
    "duration": 10,
    "start_time": "2022-05-16T18:06:28.927Z"
   },
   {
    "duration": 3,
    "start_time": "2022-05-16T18:06:29.713Z"
   },
   {
    "duration": 3,
    "start_time": "2022-05-16T18:06:32.414Z"
   },
   {
    "duration": 3,
    "start_time": "2022-05-16T18:06:33.851Z"
   },
   {
    "duration": 912,
    "start_time": "2022-05-16T18:06:35.393Z"
   },
   {
    "duration": 1535,
    "start_time": "2022-05-18T06:53:01.045Z"
   },
   {
    "duration": 2539,
    "start_time": "2022-05-18T06:53:02.582Z"
   },
   {
    "duration": 120,
    "start_time": "2022-05-18T06:53:05.123Z"
   },
   {
    "duration": 6,
    "start_time": "2022-05-18T06:53:05.245Z"
   },
   {
    "duration": 7,
    "start_time": "2022-05-18T06:53:05.253Z"
   },
   {
    "duration": 6,
    "start_time": "2022-05-18T06:53:05.262Z"
   },
   {
    "duration": 17,
    "start_time": "2022-05-18T06:53:05.270Z"
   },
   {
    "duration": 443,
    "start_time": "2022-05-18T06:53:05.289Z"
   },
   {
    "duration": 504,
    "start_time": "2022-05-18T06:53:05.734Z"
   },
   {
    "duration": 84,
    "start_time": "2022-05-18T06:53:06.240Z"
   },
   {
    "duration": 37,
    "start_time": "2022-05-18T06:53:06.326Z"
   },
   {
    "duration": 14,
    "start_time": "2022-05-18T06:53:06.365Z"
   },
   {
    "duration": 83,
    "start_time": "2022-05-18T06:53:06.381Z"
   },
   {
    "duration": 117,
    "start_time": "2022-05-18T06:53:06.467Z"
   },
   {
    "duration": 29,
    "start_time": "2022-05-18T06:53:06.586Z"
   },
   {
    "duration": 40,
    "start_time": "2022-05-18T06:53:06.617Z"
   },
   {
    "duration": 3,
    "start_time": "2022-05-18T06:53:06.658Z"
   },
   {
    "duration": 12,
    "start_time": "2022-05-18T06:53:06.663Z"
   },
   {
    "duration": 2037,
    "start_time": "2022-05-18T06:53:06.676Z"
   },
   {
    "duration": 15,
    "start_time": "2022-05-18T06:53:08.715Z"
   },
   {
    "duration": 128,
    "start_time": "2022-05-18T06:53:08.731Z"
   },
   {
    "duration": 220,
    "start_time": "2022-05-18T06:53:08.861Z"
   },
   {
    "duration": 184,
    "start_time": "2022-05-18T06:53:09.082Z"
   },
   {
    "duration": 182,
    "start_time": "2022-05-18T06:53:09.269Z"
   },
   {
    "duration": 123,
    "start_time": "2022-05-18T06:53:09.453Z"
   },
   {
    "duration": 5,
    "start_time": "2022-05-18T06:53:09.578Z"
   },
   {
    "duration": 7,
    "start_time": "2022-05-18T06:53:09.585Z"
   },
   {
    "duration": 144,
    "start_time": "2022-05-18T06:53:09.593Z"
   },
   {
    "duration": 5,
    "start_time": "2022-05-18T06:53:09.738Z"
   },
   {
    "duration": 38,
    "start_time": "2022-05-18T06:53:09.745Z"
   },
   {
    "duration": 28,
    "start_time": "2022-05-18T06:53:09.785Z"
   },
   {
    "duration": 36,
    "start_time": "2022-05-18T06:53:09.815Z"
   },
   {
    "duration": 68,
    "start_time": "2022-05-18T06:53:09.853Z"
   },
   {
    "duration": 280,
    "start_time": "2022-05-18T06:53:09.923Z"
   },
   {
    "duration": 76,
    "start_time": "2022-05-18T06:53:10.212Z"
   },
   {
    "duration": 184,
    "start_time": "2022-05-18T06:53:10.290Z"
   },
   {
    "duration": 44,
    "start_time": "2022-05-18T06:53:10.476Z"
   },
   {
    "duration": 106,
    "start_time": "2022-05-18T06:53:10.522Z"
   },
   {
    "duration": 197,
    "start_time": "2022-05-18T06:53:10.629Z"
   },
   {
    "duration": 36,
    "start_time": "2022-05-18T06:53:10.828Z"
   },
   {
    "duration": 117,
    "start_time": "2022-05-18T06:53:10.867Z"
   },
   {
    "duration": 380,
    "start_time": "2022-05-18T06:53:10.985Z"
   },
   {
    "duration": 63,
    "start_time": "2022-05-18T06:53:11.366Z"
   },
   {
    "duration": 3,
    "start_time": "2022-05-18T06:53:11.431Z"
   },
   {
    "duration": 295,
    "start_time": "2022-05-18T06:53:11.436Z"
   },
   {
    "duration": 144,
    "start_time": "2022-05-18T06:53:11.733Z"
   },
   {
    "duration": 169,
    "start_time": "2022-05-18T06:53:11.878Z"
   },
   {
    "duration": 5,
    "start_time": "2022-05-18T06:53:12.048Z"
   },
   {
    "duration": 24,
    "start_time": "2022-05-18T06:53:12.056Z"
   },
   {
    "duration": 31,
    "start_time": "2022-05-18T06:53:12.082Z"
   },
   {
    "duration": 5,
    "start_time": "2022-05-18T06:53:12.114Z"
   },
   {
    "duration": 32,
    "start_time": "2022-05-18T06:53:12.121Z"
   },
   {
    "duration": 947,
    "start_time": "2022-05-18T06:53:12.155Z"
   },
   {
    "duration": 24,
    "start_time": "2022-05-18T06:53:13.104Z"
   },
   {
    "duration": 5,
    "start_time": "2022-05-18T06:53:13.129Z"
   },
   {
    "duration": 47,
    "start_time": "2022-05-18T06:53:42.083Z"
   },
   {
    "duration": 13,
    "start_time": "2022-05-18T06:53:48.888Z"
   },
   {
    "duration": 3,
    "start_time": "2022-05-18T06:53:49.916Z"
   },
   {
    "duration": 2,
    "start_time": "2022-05-18T06:53:57.187Z"
   },
   {
    "duration": 3,
    "start_time": "2022-05-18T06:53:58.395Z"
   },
   {
    "duration": 3,
    "start_time": "2022-05-18T06:54:01.580Z"
   },
   {
    "duration": 3,
    "start_time": "2022-05-18T06:54:01.801Z"
   },
   {
    "duration": 3,
    "start_time": "2022-05-18T06:54:02.267Z"
   },
   {
    "duration": 1058,
    "start_time": "2022-05-18T06:54:03.655Z"
   },
   {
    "duration": 4,
    "start_time": "2022-05-18T06:54:36.227Z"
   },
   {
    "duration": 2,
    "start_time": "2022-05-18T06:54:38.448Z"
   },
   {
    "duration": 3,
    "start_time": "2022-05-18T06:54:38.627Z"
   },
   {
    "duration": 3,
    "start_time": "2022-05-18T06:54:38.888Z"
   },
   {
    "duration": 1018,
    "start_time": "2022-05-18T06:54:40.995Z"
   },
   {
    "duration": 5492,
    "start_time": "2022-05-18T06:54:54.129Z"
   },
   {
    "duration": 304172,
    "start_time": "2022-05-18T06:55:17.995Z"
   },
   {
    "duration": 2,
    "start_time": "2022-05-18T07:02:01.108Z"
   },
   {
    "duration": 13,
    "start_time": "2022-05-18T07:02:24.028Z"
   },
   {
    "duration": 286,
    "start_time": "2022-05-18T07:03:55.316Z"
   },
   {
    "duration": 202,
    "start_time": "2022-05-18T07:04:23.310Z"
   },
   {
    "duration": 130,
    "start_time": "2022-05-18T07:04:45.289Z"
   },
   {
    "duration": 1324,
    "start_time": "2022-05-18T07:06:03.588Z"
   },
   {
    "duration": 769,
    "start_time": "2022-05-18T07:06:04.914Z"
   },
   {
    "duration": 119,
    "start_time": "2022-05-18T07:06:05.685Z"
   },
   {
    "duration": 3,
    "start_time": "2022-05-18T07:06:05.812Z"
   },
   {
    "duration": 7,
    "start_time": "2022-05-18T07:06:05.817Z"
   },
   {
    "duration": 5,
    "start_time": "2022-05-18T07:06:05.826Z"
   },
   {
    "duration": 19,
    "start_time": "2022-05-18T07:06:05.832Z"
   },
   {
    "duration": 414,
    "start_time": "2022-05-18T07:06:05.853Z"
   },
   {
    "duration": 517,
    "start_time": "2022-05-18T07:06:06.268Z"
   },
   {
    "duration": 78,
    "start_time": "2022-05-18T07:06:06.787Z"
   },
   {
    "duration": 46,
    "start_time": "2022-05-18T07:06:06.867Z"
   },
   {
    "duration": 15,
    "start_time": "2022-05-18T07:06:06.915Z"
   },
   {
    "duration": 61,
    "start_time": "2022-05-18T07:06:06.932Z"
   },
   {
    "duration": 122,
    "start_time": "2022-05-18T07:06:07.013Z"
   },
   {
    "duration": 22,
    "start_time": "2022-05-18T07:06:07.136Z"
   },
   {
    "duration": 64,
    "start_time": "2022-05-18T07:06:07.160Z"
   },
   {
    "duration": 2,
    "start_time": "2022-05-18T07:06:07.226Z"
   },
   {
    "duration": 9,
    "start_time": "2022-05-18T07:06:07.230Z"
   },
   {
    "duration": 2067,
    "start_time": "2022-05-18T07:06:07.242Z"
   },
   {
    "duration": 16,
    "start_time": "2022-05-18T07:06:09.312Z"
   },
   {
    "duration": 130,
    "start_time": "2022-05-18T07:06:09.329Z"
   },
   {
    "duration": 222,
    "start_time": "2022-05-18T07:06:09.461Z"
   },
   {
    "duration": 177,
    "start_time": "2022-05-18T07:06:09.685Z"
   },
   {
    "duration": 180,
    "start_time": "2022-05-18T07:06:09.864Z"
   },
   {
    "duration": 118,
    "start_time": "2022-05-18T07:06:10.046Z"
   },
   {
    "duration": 5,
    "start_time": "2022-05-18T07:06:10.166Z"
   },
   {
    "duration": 10,
    "start_time": "2022-05-18T07:06:10.173Z"
   },
   {
    "duration": 146,
    "start_time": "2022-05-18T07:06:10.184Z"
   },
   {
    "duration": 6,
    "start_time": "2022-05-18T07:06:10.332Z"
   },
   {
    "duration": 37,
    "start_time": "2022-05-18T07:06:10.340Z"
   },
   {
    "duration": 10,
    "start_time": "2022-05-18T07:06:10.378Z"
   },
   {
    "duration": 52,
    "start_time": "2022-05-18T07:06:10.390Z"
   },
   {
    "duration": 71,
    "start_time": "2022-05-18T07:06:10.444Z"
   },
   {
    "duration": 273,
    "start_time": "2022-05-18T07:06:10.517Z"
   },
   {
    "duration": 89,
    "start_time": "2022-05-18T07:06:10.791Z"
   },
   {
    "duration": 170,
    "start_time": "2022-05-18T07:06:10.882Z"
   },
   {
    "duration": 33,
    "start_time": "2022-05-18T07:06:11.054Z"
   },
   {
    "duration": 108,
    "start_time": "2022-05-18T07:06:11.089Z"
   },
   {
    "duration": 184,
    "start_time": "2022-05-18T07:06:11.198Z"
   },
   {
    "duration": 49,
    "start_time": "2022-05-18T07:06:11.384Z"
   },
   {
    "duration": 151,
    "start_time": "2022-05-18T07:06:11.438Z"
   },
   {
    "duration": 390,
    "start_time": "2022-05-18T07:06:11.591Z"
   },
   {
    "duration": 59,
    "start_time": "2022-05-18T07:06:11.983Z"
   },
   {
    "duration": 2,
    "start_time": "2022-05-18T07:06:12.044Z"
   },
   {
    "duration": 165,
    "start_time": "2022-05-18T07:06:12.047Z"
   },
   {
    "duration": 148,
    "start_time": "2022-05-18T07:06:12.214Z"
   },
   {
    "duration": 169,
    "start_time": "2022-05-18T07:06:12.364Z"
   },
   {
    "duration": 4,
    "start_time": "2022-05-18T07:06:12.535Z"
   },
   {
    "duration": 25,
    "start_time": "2022-05-18T07:06:12.541Z"
   },
   {
    "duration": 10,
    "start_time": "2022-05-18T07:06:12.568Z"
   },
   {
    "duration": 15,
    "start_time": "2022-05-18T07:06:12.580Z"
   },
   {
    "duration": 1008,
    "start_time": "2022-05-18T07:06:12.597Z"
   },
   {
    "duration": 15,
    "start_time": "2022-05-18T07:06:13.607Z"
   },
   {
    "duration": 5,
    "start_time": "2022-05-18T07:06:13.624Z"
   },
   {
    "duration": 49,
    "start_time": "2022-05-18T07:06:13.631Z"
   },
   {
    "duration": 35,
    "start_time": "2022-05-18T07:06:13.682Z"
   },
   {
    "duration": 11,
    "start_time": "2022-05-18T07:06:13.719Z"
   },
   {
    "duration": 7,
    "start_time": "2022-05-18T07:06:13.732Z"
   },
   {
    "duration": 9,
    "start_time": "2022-05-18T07:06:13.741Z"
   },
   {
    "duration": 13,
    "start_time": "2022-05-18T07:06:13.752Z"
   },
   {
    "duration": 7,
    "start_time": "2022-05-18T07:06:13.773Z"
   },
   {
    "duration": 10,
    "start_time": "2022-05-18T07:06:13.783Z"
   },
   {
    "duration": 1233,
    "start_time": "2022-05-18T07:06:13.795Z"
   },
   {
    "duration": 6123,
    "start_time": "2022-05-18T07:06:15.113Z"
   },
   {
    "duration": 303845,
    "start_time": "2022-05-18T07:06:21.238Z"
   },
   {
    "duration": 22034,
    "start_time": "2022-05-18T07:11:25.085Z"
   },
   {
    "duration": 118,
    "start_time": "2022-05-18T07:11:47.120Z"
   },
   {
    "duration": 597,
    "start_time": "2022-05-18T07:11:47.240Z"
   },
   {
    "duration": 14359,
    "start_time": "2022-05-18T07:11:47.839Z"
   },
   {
    "duration": 7328,
    "start_time": "2022-05-18T07:12:02.199Z"
   },
   {
    "duration": 9,
    "start_time": "2022-05-18T07:12:09.529Z"
   },
   {
    "duration": 58,
    "start_time": "2022-05-18T16:39:07.144Z"
   },
   {
    "duration": 1519,
    "start_time": "2022-05-18T16:39:14.687Z"
   },
   {
    "duration": 1156,
    "start_time": "2022-05-18T16:39:16.208Z"
   },
   {
    "duration": 142,
    "start_time": "2022-05-18T16:39:17.366Z"
   },
   {
    "duration": 3,
    "start_time": "2022-05-18T16:39:17.933Z"
   },
   {
    "duration": 3,
    "start_time": "2022-05-18T16:39:18.591Z"
   },
   {
    "duration": 4,
    "start_time": "2022-05-18T16:39:18.788Z"
   },
   {
    "duration": 15,
    "start_time": "2022-05-18T16:39:20.738Z"
   }
  ],
  "kernelspec": {
   "display_name": "Python 3 (ipykernel)",
   "language": "python",
   "name": "python3"
  },
  "language_info": {
   "codemirror_mode": {
    "name": "ipython",
    "version": 3
   },
   "file_extension": ".py",
   "mimetype": "text/x-python",
   "name": "python",
   "nbconvert_exporter": "python",
   "pygments_lexer": "ipython3",
   "version": "3.9.9"
  },
  "toc": {
   "base_numbering": 1,
   "nav_menu": {},
   "number_sections": true,
   "sideBar": true,
   "skip_h1_title": true,
   "title_cell": "Table of Contents",
   "title_sidebar": "Contents",
   "toc_cell": false,
   "toc_position": {},
   "toc_section_display": true,
   "toc_window_display": false
  }
 },
 "nbformat": 4,
 "nbformat_minor": 2
}
