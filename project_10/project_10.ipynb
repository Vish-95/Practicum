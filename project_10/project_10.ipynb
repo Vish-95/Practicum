{
 "cells": [
  {
   "cell_type": "markdown",
   "metadata": {
    "toc": true
   },
   "source": [
    "<h1>Содержание<span class=\"tocSkip\"></span></h1>\n",
    "<div class=\"toc\"><ul class=\"toc-item\"><li><span><a href=\"#Загрузка-данных\" data-toc-modified-id=\"Загрузка-данных-1\"><span class=\"toc-item-num\">1&nbsp;&nbsp;</span>Загрузка данных</a></span></li><li><span><a href=\"#Умножение-матриц\" data-toc-modified-id=\"Умножение-матриц-2\"><span class=\"toc-item-num\">2&nbsp;&nbsp;</span>Умножение матриц</a></span></li><li><span><a href=\"#Алгоритм-преобразования\" data-toc-modified-id=\"Алгоритм-преобразования-3\"><span class=\"toc-item-num\">3&nbsp;&nbsp;</span>Алгоритм преобразования</a></span></li><li><span><a href=\"#Проверка-алгоритма\" data-toc-modified-id=\"Проверка-алгоритма-4\"><span class=\"toc-item-num\">4&nbsp;&nbsp;</span>Проверка алгоритма</a></span></li><li><span><a href=\"#Чек-лист-проверки\" data-toc-modified-id=\"Чек-лист-проверки-5\"><span class=\"toc-item-num\">5&nbsp;&nbsp;</span>Чек-лист проверки</a></span></li></ul></div>"
   ]
  },
  {
   "cell_type": "markdown",
   "metadata": {},
   "source": [
    "# Защита персональных данных клиентов"
   ]
  },
  {
   "cell_type": "markdown",
   "metadata": {},
   "source": [
    "Вам нужно защитить данные клиентов страховой компании «Хоть потоп». Разработайте такой метод преобразования данных, чтобы по ним было сложно восстановить персональную информацию. Обоснуйте корректность его работы.\n",
    "\n",
    "Нужно защитить данные, чтобы при преобразовании качество моделей машинного обучения не ухудшилось. Подбирать наилучшую модель не требуется."
   ]
  },
  {
   "cell_type": "code",
   "execution_count": 1,
   "metadata": {},
   "outputs": [],
   "source": [
    "import numpy as np\n",
    "import pandas as pd\n",
    "from sklearn.linear_model import LinearRegression\n",
    "from sklearn.metrics import r2_score"
   ]
  },
  {
   "cell_type": "markdown",
   "metadata": {},
   "source": [
    "## Загрузка данных"
   ]
  },
  {
   "cell_type": "code",
   "execution_count": 2,
   "metadata": {},
   "outputs": [
    {
     "data": {
      "text/html": [
       "<div>\n",
       "<style scoped>\n",
       "    .dataframe tbody tr th:only-of-type {\n",
       "        vertical-align: middle;\n",
       "    }\n",
       "\n",
       "    .dataframe tbody tr th {\n",
       "        vertical-align: top;\n",
       "    }\n",
       "\n",
       "    .dataframe thead th {\n",
       "        text-align: right;\n",
       "    }\n",
       "</style>\n",
       "<table border=\"1\" class=\"dataframe\">\n",
       "  <thead>\n",
       "    <tr style=\"text-align: right;\">\n",
       "      <th></th>\n",
       "      <th>Пол</th>\n",
       "      <th>Возраст</th>\n",
       "      <th>Зарплата</th>\n",
       "      <th>Члены семьи</th>\n",
       "      <th>Страховые выплаты</th>\n",
       "    </tr>\n",
       "  </thead>\n",
       "  <tbody>\n",
       "    <tr>\n",
       "      <th>0</th>\n",
       "      <td>1</td>\n",
       "      <td>41.0</td>\n",
       "      <td>49600.0</td>\n",
       "      <td>1</td>\n",
       "      <td>0</td>\n",
       "    </tr>\n",
       "    <tr>\n",
       "      <th>1</th>\n",
       "      <td>0</td>\n",
       "      <td>46.0</td>\n",
       "      <td>38000.0</td>\n",
       "      <td>1</td>\n",
       "      <td>1</td>\n",
       "    </tr>\n",
       "    <tr>\n",
       "      <th>2</th>\n",
       "      <td>0</td>\n",
       "      <td>29.0</td>\n",
       "      <td>21000.0</td>\n",
       "      <td>0</td>\n",
       "      <td>0</td>\n",
       "    </tr>\n",
       "    <tr>\n",
       "      <th>3</th>\n",
       "      <td>0</td>\n",
       "      <td>21.0</td>\n",
       "      <td>41700.0</td>\n",
       "      <td>2</td>\n",
       "      <td>0</td>\n",
       "    </tr>\n",
       "    <tr>\n",
       "      <th>4</th>\n",
       "      <td>1</td>\n",
       "      <td>28.0</td>\n",
       "      <td>26100.0</td>\n",
       "      <td>0</td>\n",
       "      <td>0</td>\n",
       "    </tr>\n",
       "  </tbody>\n",
       "</table>\n",
       "</div>"
      ],
      "text/plain": [
       "   Пол  Возраст  Зарплата  Члены семьи  Страховые выплаты\n",
       "0    1     41.0   49600.0            1                  0\n",
       "1    0     46.0   38000.0            1                  1\n",
       "2    0     29.0   21000.0            0                  0\n",
       "3    0     21.0   41700.0            2                  0\n",
       "4    1     28.0   26100.0            0                  0"
      ]
     },
     "execution_count": 2,
     "metadata": {},
     "output_type": "execute_result"
    }
   ],
   "source": [
    "data = pd.read_csv('insurance.csv')\n",
    "data.head()"
   ]
  },
  {
   "cell_type": "code",
   "execution_count": 3,
   "metadata": {},
   "outputs": [
    {
     "name": "stdout",
     "output_type": "stream",
     "text": [
      "<class 'pandas.core.frame.DataFrame'>\n",
      "RangeIndex: 5000 entries, 0 to 4999\n",
      "Data columns (total 5 columns):\n",
      " #   Column             Non-Null Count  Dtype  \n",
      "---  ------             --------------  -----  \n",
      " 0   Пол                5000 non-null   int64  \n",
      " 1   Возраст            5000 non-null   float64\n",
      " 2   Зарплата           5000 non-null   float64\n",
      " 3   Члены семьи        5000 non-null   int64  \n",
      " 4   Страховые выплаты  5000 non-null   int64  \n",
      "dtypes: float64(2), int64(3)\n",
      "memory usage: 195.4 KB\n"
     ]
    }
   ],
   "source": [
    "data.info()"
   ]
  },
  {
   "cell_type": "markdown",
   "metadata": {},
   "source": [
    "**Согласно документации к данным:**\n",
    "\n",
    "- Признаки: пол, возраст и зарплата застрахованного, количество членов его семьи.\n",
    "\n",
    "- Целевой признак: количество страховых выплат клиенту за последние 5 лет."
   ]
  },
  {
   "cell_type": "code",
   "execution_count": 4,
   "metadata": {},
   "outputs": [],
   "source": [
    "features = data.drop('Страховые выплаты', axis=1)\n",
    "target = data['Страховые выплаты']"
   ]
  },
  {
   "cell_type": "markdown",
   "metadata": {},
   "source": [
    "**Размеры обучающей выборки:**"
   ]
  },
  {
   "cell_type": "code",
   "execution_count": 5,
   "metadata": {
    "scrolled": false
   },
   "outputs": [
    {
     "name": "stdout",
     "output_type": "stream",
     "text": [
      "(5000, 4)\n"
     ]
    }
   ],
   "source": [
    "print(features.shape)"
   ]
  },
  {
   "cell_type": "markdown",
   "metadata": {},
   "source": [
    "## Умножение матриц"
   ]
  },
  
  {
   "cell_type": "markdown",
   "metadata": {},
   "source": [
    "Обозначения:\n",
    "\n",
    "- $X$ — матрица признаков (нулевой столбец состоит из единиц)\n",
    "\n",
    "- $y$ — вектор целевого признака\n",
    "\n",
    "- $P$ — матрица, на которую умножаются признаки\n",
    "\n",
    "- $w$ — вектор весов линейной регрессии (нулевой элемент равен сдвигу)"
   ]
  },
  {
   "cell_type": "markdown",
   "metadata": {},
   "source": [
    "Предсказания:\n",
    "\n",
    "$$\n",
    "a = Xw\n",
    "$$\n",
    "\n",
    "Задача обучения:\n",
    "\n",
    "$$\n",
    "w = \\arg\\min_w MSE(Xw, y)\n",
    "$$\n",
    "\n",
    "Формула обучения:\n",
    "\n",
    "$$\n",
    "w = (X^T X)^{-1} X^T y\n",
    "$$"
   ]
  },
  {
   "cell_type": "markdown",
   "metadata": {},
   "source": [
    "**Вопрос:** Признаки умножают на обратимую матрицу. Изменится ли качество линейной регрессии? "
   ]
  },
  {
   "cell_type": "markdown",
   "metadata": {},
   "source": [
    "**Ответ:** Не изменится. \n",
    "\n",
    "**Обоснование:** Пусть $P$ – обратимая матрица $<=> PP^{-1} = P^{-1}P = E$. \n",
    "\n",
    "Тогда \n",
    "$$\n",
    "a = Xw = XEw = XPP^{-1}w = (XP)P^{-1}w = (XP)w'\n",
    "$$\n",
    "\n",
    "$$\n",
    "w' = ((XP)^T XP)^{-1} (XP)^T y\n",
    "$$\n",
    "$$\n",
    "w' = (P^T (X^T X) P)^{-1} (XP)^T y\n",
    "$$\n",
    "\n",
    "$$\n",
    "w' = (P^T (X^T X) P)^{-1} P^T X^T y = \n",
    "\\\\ = ((X^T X)P)^{-1} (P^T)^{-1} P^T X^T y = \n",
    "\\\\ = ((X^T X)P)^{-1} X^T y =\n",
    "\\\\ = P^{-1} (X^T X)^{-1} X^T y = P^{-1} w\n",
    "$$"
   ]
  },
  {
   "cell_type": "markdown",
   "metadata": {},
   "source": [
    "**Вывод**"
   ]
  },
  {
   "cell_type": "markdown",
   "metadata": {},
   "source": [
    "После умножения матрицы признаков на обратимую матрицу $P$ и проведя несколько пребразований в формуле обучения, было доказано, что такое изменение признаков не влияет на результат $y$."
   ]
  },
  {
   "cell_type": "markdown",
   "metadata": {},
   "source": [
    "## Алгоритм преобразования"
   ]
  },
  {
   "cell_type": "markdown",
   "metadata": {},
   "source": [
    "**Алгоритм**\n",
    "\n",
    "1. Создание модели линейной регрессии\n",
    "\n",
    "2. Обучение модели на исходных признаках $X$\n",
    "\n",
    "3. Расчет метрики $R_2$ для предсказанных ответов\n",
    "\n",
    "4. Генерация случайной квадратной матрицы $P_{nxn}$, где n – ширина матрицы $X$ (т.е. количество признаков)\n",
    "\n",
    "5. Доказательство обратимости матрицы $P$\n",
    "\n",
    "6. Преобразование исходных признаков $X$, путём домножения на матрицу $P$\n",
    "\n",
    "7. Повтор шага 2. - 3. для матрицы $XP$\n",
    "\n",
    "8. Сравнение полученнных метрик $R_2$ "
   ]
  },
  {
   "cell_type": "markdown",
   "metadata": {},
   "source": [
    "**Обоснование**\n"
   ]
  },
  {
   "cell_type": "markdown",
   "metadata": {},
   "source": [
    "Для преобразования признаков сгенерируем квадратную матрицу $P$ размером $(nxn)$.\n",
    "Необходимо доказать, что полученная матрица обратима:\n",
    "$P$ – обратная матрица $<=>$ \n",
    "- $PP^{-1} = P^{-1}P = E$\n",
    "- $det(P) \\neq 0$.\n",
    "\n",
    "Получим преобразованную матрицу: $X(m, n) \\times P(n, n)$\n",
    "\n",
    "После обучения модели *линейной регрессии* на исходных данных и на преобразованных, рассчитаем метрики $R_2$ и сравним. Разница между полученными ответами должна стремиться к нулю, и следовательно изменение признаков не повлияет на предсказание модели."
   ]
  },
  {
   "cell_type": "markdown",
   "metadata": {},
   "source": [
    "## Проверка алгоритма"
   ]
  },
  {
   "cell_type": "markdown",
   "metadata": {},
   "source": [
    "- Обучние модели Линейной регрессии на исходных признаках"
   ]
  },
  {
   "cell_type": "code",
   "execution_count": 6,
   "metadata": {},
   "outputs": [
    {
     "name": "stdout",
     "output_type": "stream",
     "text": [
      "R2 для исходных признаков: 0.42494550286668\n"
     ]
    }
   ],
   "source": [
    "model = LinearRegression()\n",
    "\n",
    "model.fit(features, target)\n",
    "predictions_X = model.predict(features)\n",
    "score_x = r2_score(target, predictions_X)\n",
    "print('R2 для исходных признаков:', score_x)"
   ]
  },
  {
   "cell_type": "markdown",
   "metadata": {},
   "source": [
    "- Генерация случайной квадратной матрицы $P_{nxn}$"
   ]
  },
  {
   "cell_type": "code",
   "execution_count": 7,
   "metadata": {},
   "outputs": [],
   "source": [
    "n = features.shape[1]\n",
    "def generate_invertible_matrix(size):\n",
    "    try:\n",
    "        matrix = np.random.normal(size=(size, size))\n",
    "        np.linalg.inv(matrix)\n",
    "    except np.linalg.LinAlgError:\n",
    "        matrix = generate_invertible_matrix()\n",
    "    \n",
    "    return matrix\n",
    "P = generate_invertible_matrix(n)"
   ]
  },
  {
   "cell_type": "markdown",
   "metadata": {},
   "source": [
    "Мы сгенерировали квадратную обратимую матрицу $P$, теперь домножим её на матрицу признаков $X$ и повторим шаги 2-3 алгоритма:"
   ]
  },
  {
   "cell_type": "code",
   "execution_count": 8,
   "metadata": {},
   "outputs": [
    {
     "name": "stdout",
     "output_type": "stream",
     "text": [
      "R2 для исходных признаков: 0.4249455028666743\n"
     ]
    }
   ],
   "source": [
    "model.fit(features @ P, target)\n",
    "predictions_XP = model.predict(features @ P)\n",
    "score_xp = r2_score(target, predictions_XP)\n",
    "print('R2 для исходных признаков:', score_xp)"
   ]
  },
  {
   "cell_type": "markdown",
   "metadata": {},
   "source": [
    "**Вывод**"
   ]
  },
  {
   "cell_type": "markdown",
   "metadata": {},
   "source": [
    "Был разработан метод преобразования данных, с помощью которого сложно восстановить персональную информацию. Метод заключается в том, чтобы преобразовать данные путем домножения на матрицу признаков случайно сгенерированную обратимую матрицу. По свойству обратимых квадратных матриц, данные изменения матрицы признаков не влияют на качество предсказания модели, что мы проверили с помощью применения описанного выше алгоритма:\n"
   ]
  },
  {
   "cell_type": "code",
   "execution_count": 9,
   "metadata": {},
   "outputs": [
    {
     "name": "stdout",
     "output_type": "stream",
     "text": [
      "5.662137425588298e-15\n"
     ]
    }
   ],
   "source": [
    "print(score_x - score_xp)"
   ]
  }
 ],
 "metadata": {
  "ExecuteTimeLog": [
   {
    "duration": 1746,
    "start_time": "2022-04-19T13:59:26.169Z"
   },
   {
    "duration": 16,
    "start_time": "2022-04-19T13:59:53.952Z"
   },
   {
    "duration": 33,
    "start_time": "2022-04-19T14:00:02.576Z"
   },
   {
    "duration": 6,
    "start_time": "2022-04-19T14:47:25.472Z"
   },
   {
    "duration": 4,
    "start_time": "2022-04-19T14:58:24.940Z"
   },
   {
    "duration": 543,
    "start_time": "2022-04-19T15:03:49.308Z"
   },
   {
    "duration": 4,
    "start_time": "2022-04-19T15:07:22.757Z"
   },
   {
    "duration": 125,
    "start_time": "2022-04-19T15:08:45.958Z"
   },
   {
    "duration": 286,
    "start_time": "2022-04-19T15:19:13.617Z"
   },
   {
    "duration": 167,
    "start_time": "2022-04-19T16:07:22.062Z"
   },
   {
    "duration": 93,
    "start_time": "2022-04-19T16:07:36.557Z"
   },
   {
    "duration": 540,
    "start_time": "2022-04-19T16:07:43.482Z"
   },
   {
    "duration": 5,
    "start_time": "2022-04-19T16:08:19.454Z"
   },
   {
    "duration": 155,
    "start_time": "2022-04-19T16:09:01.975Z"
   },
   {
    "duration": 6,
    "start_time": "2022-04-19T16:09:38.796Z"
   },
   {
    "duration": 6,
    "start_time": "2022-04-19T16:10:42.600Z"
   },
   {
    "duration": 322,
    "start_time": "2022-04-19T16:10:56.351Z"
   },
   {
    "duration": 432,
    "start_time": "2022-04-19T16:12:20.637Z"
   },
   {
    "duration": 5,
    "start_time": "2022-04-19T16:14:00.945Z"
   },
   {
    "duration": 8,
    "start_time": "2022-04-19T16:14:07.118Z"
   },
   {
    "duration": 103,
    "start_time": "2022-04-19T16:15:20.338Z"
   },
   {
    "duration": 292,
    "start_time": "2022-04-19T16:15:40.459Z"
   },
   {
    "duration": 9,
    "start_time": "2022-04-19T16:18:44.555Z"
   },
   {
    "duration": 13,
    "start_time": "2022-04-19T16:19:04.094Z"
   },
   {
    "duration": 17,
    "start_time": "2022-04-19T16:19:13.734Z"
   },
   {
    "duration": 13,
    "start_time": "2022-04-19T16:19:30.554Z"
   },
   {
    "duration": 10,
    "start_time": "2022-04-19T16:19:49.223Z"
   },
   {
    "duration": 6,
    "start_time": "2022-04-19T16:19:54.855Z"
   },
   {
    "duration": 8,
    "start_time": "2022-04-19T16:20:02.084Z"
   },
   {
    "duration": 7,
    "start_time": "2022-04-19T16:20:14.153Z"
   },
   {
    "duration": 120,
    "start_time": "2022-04-19T16:21:08.390Z"
   },
   {
    "duration": 120,
    "start_time": "2022-04-19T16:21:13.664Z"
   },
   {
    "duration": 173,
    "start_time": "2022-04-19T16:21:17.503Z"
   },
   {
    "duration": 134,
    "start_time": "2022-04-19T16:22:14.862Z"
   },
   {
    "duration": 122,
    "start_time": "2022-04-19T16:22:30.608Z"
   },
   {
    "duration": 10,
    "start_time": "2022-04-19T16:22:52.504Z"
   },
   {
    "duration": 4,
    "start_time": "2022-04-19T16:23:09.635Z"
   },
   {
    "duration": 38,
    "start_time": "2022-04-19T16:23:09.642Z"
   },
   {
    "duration": 7,
    "start_time": "2022-04-19T16:23:09.682Z"
   },
   {
    "duration": 21,
    "start_time": "2022-04-19T16:23:09.692Z"
   },
   {
    "duration": 45,
    "start_time": "2022-04-19T16:23:09.716Z"
   },
   {
    "duration": 7,
    "start_time": "2022-04-19T16:23:15.483Z"
   },
   {
    "duration": 26,
    "start_time": "2022-04-19T16:24:38.938Z"
   },
   {
    "duration": 445,
    "start_time": "2022-04-19T16:25:12.240Z"
   },
   {
    "duration": 15,
    "start_time": "2022-04-19T16:26:23.596Z"
   },
   {
    "duration": 13,
    "start_time": "2022-04-19T16:26:47.683Z"
   },
   {
    "duration": 10,
    "start_time": "2022-04-19T16:26:51.984Z"
   },
   {
    "duration": 4,
    "start_time": "2022-04-19T16:26:57.148Z"
   },
   {
    "duration": 27,
    "start_time": "2022-04-19T16:26:57.155Z"
   },
   {
    "duration": 5,
    "start_time": "2022-04-19T16:26:57.185Z"
   },
   {
    "duration": 7,
    "start_time": "2022-04-19T16:26:57.193Z"
   },
   {
    "duration": 26,
    "start_time": "2022-04-19T16:26:57.204Z"
   },
   {
    "duration": 20,
    "start_time": "2022-04-19T16:26:57.232Z"
   },
   {
    "duration": 28,
    "start_time": "2022-04-19T16:26:57.254Z"
   },
   {
    "duration": 46,
    "start_time": "2022-04-19T16:26:57.284Z"
   },
   {
    "duration": 26,
    "start_time": "2022-04-19T16:26:59.118Z"
   },
   {
    "duration": 8,
    "start_time": "2022-04-19T16:26:59.896Z"
   },
   {
    "duration": 423,
    "start_time": "2022-04-19T16:27:22.011Z"
   },
   {
    "duration": 342,
    "start_time": "2022-04-19T16:27:42.269Z"
   },
   {
    "duration": 17,
    "start_time": "2022-04-19T16:28:54.211Z"
   },
   {
    "duration": 46,
    "start_time": "2022-04-19T16:29:01.091Z"
   },
   {
    "duration": 25,
    "start_time": "2022-04-19T16:29:12.081Z"
   },
   {
    "duration": 55,
    "start_time": "2022-04-19T16:29:39.985Z"
   },
   {
    "duration": 356,
    "start_time": "2022-04-19T16:29:57.343Z"
   },
   {
    "duration": 337,
    "start_time": "2022-04-19T16:30:54.202Z"
   },
   {
    "duration": 411,
    "start_time": "2022-04-19T16:31:20.926Z"
   },
   {
    "duration": 1071,
    "start_time": "2022-04-19T16:32:00.272Z"
   },
   {
    "duration": 359,
    "start_time": "2022-04-19T16:42:35.589Z"
   },
   {
    "duration": 69519,
    "start_time": "2022-04-19T16:50:04.644Z"
   },
   {
    "duration": 115,
    "start_time": "2022-04-19T16:51:36.216Z"
   },
   {
    "duration": 1069,
    "start_time": "2022-04-21T08:22:27.704Z"
   },
   {
    "duration": 75,
    "start_time": "2022-04-21T08:22:28.775Z"
   },
   {
    "duration": 4,
    "start_time": "2022-04-21T08:22:28.851Z"
   },
   {
    "duration": 7,
    "start_time": "2022-04-21T08:22:28.857Z"
   },
   {
    "duration": 9,
    "start_time": "2022-04-21T08:22:28.865Z"
   },
   {
    "duration": 6,
    "start_time": "2022-04-21T08:22:28.876Z"
   },
   {
    "duration": 16,
    "start_time": "2022-04-21T08:22:28.884Z"
   },
   {
    "duration": 11,
    "start_time": "2022-04-21T08:22:28.901Z"
   },
   {
    "duration": 4,
    "start_time": "2022-04-21T08:22:28.914Z"
   },
   {
    "duration": 28,
    "start_time": "2022-04-21T08:22:28.920Z"
   },
   {
    "duration": 11,
    "start_time": "2022-04-21T08:22:28.950Z"
   },
   {
    "duration": 9,
    "start_time": "2022-04-21T08:25:29.779Z"
   },
   {
    "duration": 3,
    "start_time": "2022-04-21T08:35:26.824Z"
   },
   {
    "duration": 6,
    "start_time": "2022-04-21T08:35:46.589Z"
   },
   {
    "duration": 3,
    "start_time": "2022-04-21T08:35:51.489Z"
   },
   {
    "duration": 6,
    "start_time": "2022-04-21T08:40:12.615Z"
   },
   {
    "duration": 3,
    "start_time": "2022-04-21T08:40:42.389Z"
   },
   {
    "duration": 5,
    "start_time": "2022-04-21T08:45:48.138Z"
   },
   {
    "duration": 4,
    "start_time": "2022-04-21T08:46:12.498Z"
   },
   {
    "duration": 11,
    "start_time": "2022-04-21T08:50:36.698Z"
   },
   {
    "duration": 10,
    "start_time": "2022-04-21T09:17:23.493Z"
   },
   {
    "duration": 10,
    "start_time": "2022-04-21T09:17:56.178Z"
   },
   {
    "duration": 93,
    "start_time": "2022-04-21T09:18:28.708Z"
   },
   {
    "duration": 3,
    "start_time": "2022-04-21T09:18:40.559Z"
   },
   {
    "duration": 3,
    "start_time": "2022-04-21T09:18:49.033Z"
   },
   {
    "duration": 1617,
    "start_time": "2022-04-21T11:07:34.500Z"
   },
   {
    "duration": 41,
    "start_time": "2022-04-21T11:07:36.120Z"
   },
   {
    "duration": 7,
    "start_time": "2022-04-21T11:07:36.164Z"
   },
   {
    "duration": 16,
    "start_time": "2022-04-21T11:07:36.174Z"
   },
   {
    "duration": 39,
    "start_time": "2022-04-21T11:07:36.194Z"
   },
   {
    "duration": 98,
    "start_time": "2022-04-21T11:07:36.327Z"
   },
   {
    "duration": 106,
    "start_time": "2022-04-21T11:07:36.428Z"
   },
   {
    "duration": 90,
    "start_time": "2022-04-21T11:07:36.536Z"
   },
   {
    "duration": 2323,
    "start_time": "2022-04-21T13:19:00.510Z"
   },
   {
    "duration": 22,
    "start_time": "2022-04-21T13:19:02.835Z"
   },
   {
    "duration": 4,
    "start_time": "2022-04-21T13:19:02.858Z"
   },
   {
    "duration": 6,
    "start_time": "2022-04-21T13:19:02.864Z"
   },
   {
    "duration": 20,
    "start_time": "2022-04-21T13:24:49.804Z"
   },
   {
    "duration": 6,
    "start_time": "2022-04-21T13:24:50.908Z"
   },
   {
    "duration": 11,
    "start_time": "2022-04-21T13:24:51.360Z"
   },
   {
    "duration": 3,
    "start_time": "2022-04-21T13:24:52.030Z"
   },
   {
    "duration": 71,
    "start_time": "2022-04-21T14:21:53.505Z"
   },
   {
    "duration": 1553,
    "start_time": "2022-04-21T14:21:56.405Z"
   },
   {
    "duration": 34,
    "start_time": "2022-04-21T14:21:59.716Z"
   },
   {
    "duration": 18,
    "start_time": "2022-04-21T14:22:02.788Z"
   },
   {
    "duration": 159,
    "start_time": "2022-04-21T14:30:26.487Z"
   },
   {
    "duration": 4,
    "start_time": "2022-04-21T15:30:51.639Z"
   },
   {
    "duration": 37,
    "start_time": "2022-04-21T15:30:51.646Z"
   },
   {
    "duration": 15,
    "start_time": "2022-04-21T15:30:51.685Z"
   },
   {
    "duration": 11,
    "start_time": "2022-04-21T15:30:51.703Z"
   },
   {
    "duration": 14,
    "start_time": "2022-04-21T15:30:51.716Z"
   },
   {
    "duration": 96,
    "start_time": "2022-04-21T15:30:51.733Z"
   },
   {
    "duration": 106,
    "start_time": "2022-04-21T15:30:51.833Z"
   },
   {
    "duration": 99,
    "start_time": "2022-04-21T15:30:51.943Z"
   },
   {
    "duration": 95,
    "start_time": "2022-04-21T15:30:52.045Z"
   }
  ],
  "kernelspec": {
   "display_name": "Python 3 (ipykernel)",
   "language": "python",
   "name": "python3"
  },
  "language_info": {
   "codemirror_mode": {
    "name": "ipython",
    "version": 3
   },
   "file_extension": ".py",
   "mimetype": "text/x-python",
   "name": "python",
   "nbconvert_exporter": "python",
   "pygments_lexer": "ipython3",
   "version": "3.9.9"
  },
  "toc": {
   "base_numbering": 1,
   "nav_menu": {},
   "number_sections": true,
   "sideBar": true,
   "skip_h1_title": true,
   "title_cell": "Содержание",
   "title_sidebar": "Contents",
   "toc_cell": true,
   "toc_position": {},
   "toc_section_display": true,
   "toc_window_display": true
  }
 },
 "nbformat": 4,
 "nbformat_minor": 2
}
