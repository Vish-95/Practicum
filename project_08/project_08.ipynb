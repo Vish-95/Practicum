{
 "cells": [
  {
   "cell_type": "markdown",
   "metadata": {},
   "source": [
    "# Выбор локации для скважины"
   ]
  },
  {
   "cell_type": "markdown",
   "metadata": {},
   "source": [
    "Допустим, вы работаете в добывающей компании «ГлавРосГосНефть». Нужно решить, где бурить новую скважину.\n",
    "\n",
    "Вам предоставлены пробы нефти в трёх регионах: в каждом 10 000 месторождений, где измерили качество нефти и объём её запасов. Постройте модель машинного обучения, которая поможет определить регион, где добыча принесёт наибольшую прибыль. Проанализируйте возможную прибыль и риски техникой *Bootstrap.*\n",
    "\n",
    "Шаги для выбора локации:\n",
    "\n",
    "- В избранном регионе ищут месторождения, для каждого определяют значения признаков;\n",
    "- Строят модель и оценивают объём запасов;\n",
    "- Выбирают месторождения с самым высокими оценками значений. Количество месторождений зависит от бюджета компании и стоимости разработки одной скважины;\n",
    "- Прибыль равна суммарной прибыли отобранных месторождений."
   ]
  },
  {
   "cell_type": "code",
   "execution_count": 1,
   "metadata": {
    "tags": []
   },
   "outputs": [],
   "source": [
    "import pandas as pd\n",
    "import numpy as np\n",
    "import matplotlib.pyplot as plt\n",
    "from sklearn.model_selection import train_test_split\n",
    "from sklearn.linear_model import LinearRegression\n",
    "from sklearn.metrics import mean_squared_error\n",
    "from sklearn.metrics import mean_absolute_error\n",
    "from scipy import stats as st"
   ]
  },
  {
   "cell_type": "markdown",
   "metadata": {},
   "source": [
    "## Загрузка и подготовка данных"
   ]
  },
  {
   "cell_type": "code",
   "execution_count": 2,
   "metadata": {},
   "outputs": [],
   "source": [
    "data_0 = pd.read_csv('geo_data_0.csv')\n",
    "data_1 = pd.read_csv('geo_data_1.csv')\n",
    "data_2 = pd.read_csv('geo_data_2.csv')"
   ]
  },
  {
   "cell_type": "markdown",
   "metadata": {},
   "source": [
    "**Первый регион**"
   ]
  },
  {
   "cell_type": "code",
   "execution_count": 3,
   "metadata": {},
   "outputs": [
    {
     "data": {
      "text/html": [
       "<div>\n",
       "<style scoped>\n",
       "    .dataframe tbody tr th:only-of-type {\n",
       "        vertical-align: middle;\n",
       "    }\n",
       "\n",
       "    .dataframe tbody tr th {\n",
       "        vertical-align: top;\n",
       "    }\n",
       "\n",
       "    .dataframe thead th {\n",
       "        text-align: right;\n",
       "    }\n",
       "</style>\n",
       "<table border=\"1\" class=\"dataframe\">\n",
       "  <thead>\n",
       "    <tr style=\"text-align: right;\">\n",
       "      <th></th>\n",
       "      <th>id</th>\n",
       "      <th>f0</th>\n",
       "      <th>f1</th>\n",
       "      <th>f2</th>\n",
       "      <th>product</th>\n",
       "    </tr>\n",
       "  </thead>\n",
       "  <tbody>\n",
       "    <tr>\n",
       "      <th>0</th>\n",
       "      <td>txEyH</td>\n",
       "      <td>0.705745</td>\n",
       "      <td>-0.497823</td>\n",
       "      <td>1.221170</td>\n",
       "      <td>105.280062</td>\n",
       "    </tr>\n",
       "    <tr>\n",
       "      <th>1</th>\n",
       "      <td>2acmU</td>\n",
       "      <td>1.334711</td>\n",
       "      <td>-0.340164</td>\n",
       "      <td>4.365080</td>\n",
       "      <td>73.037750</td>\n",
       "    </tr>\n",
       "    <tr>\n",
       "      <th>2</th>\n",
       "      <td>409Wp</td>\n",
       "      <td>1.022732</td>\n",
       "      <td>0.151990</td>\n",
       "      <td>1.419926</td>\n",
       "      <td>85.265647</td>\n",
       "    </tr>\n",
       "    <tr>\n",
       "      <th>3</th>\n",
       "      <td>iJLyR</td>\n",
       "      <td>-0.032172</td>\n",
       "      <td>0.139033</td>\n",
       "      <td>2.978566</td>\n",
       "      <td>168.620776</td>\n",
       "    </tr>\n",
       "    <tr>\n",
       "      <th>4</th>\n",
       "      <td>Xdl7t</td>\n",
       "      <td>1.988431</td>\n",
       "      <td>0.155413</td>\n",
       "      <td>4.751769</td>\n",
       "      <td>154.036647</td>\n",
       "    </tr>\n",
       "  </tbody>\n",
       "</table>\n",
       "</div>"
      ],
      "text/plain": [
       "      id        f0        f1        f2     product\n",
       "0  txEyH  0.705745 -0.497823  1.221170  105.280062\n",
       "1  2acmU  1.334711 -0.340164  4.365080   73.037750\n",
       "2  409Wp  1.022732  0.151990  1.419926   85.265647\n",
       "3  iJLyR -0.032172  0.139033  2.978566  168.620776\n",
       "4  Xdl7t  1.988431  0.155413  4.751769  154.036647"
      ]
     },
     "metadata": {},
     "output_type": "display_data"
    },
    {
     "name": "stdout",
     "output_type": "stream",
     "text": [
      "<class 'pandas.core.frame.DataFrame'>\n",
      "RangeIndex: 100000 entries, 0 to 99999\n",
      "Data columns (total 5 columns):\n",
      " #   Column   Non-Null Count   Dtype  \n",
      "---  ------   --------------   -----  \n",
      " 0   id       100000 non-null  object \n",
      " 1   f0       100000 non-null  float64\n",
      " 2   f1       100000 non-null  float64\n",
      " 3   f2       100000 non-null  float64\n",
      " 4   product  100000 non-null  float64\n",
      "dtypes: float64(4), object(1)\n",
      "memory usage: 3.8+ MB\n"
     ]
    }
   ],
   "source": [
    "display(data_0.head())\n",
    "data_0.info()"
   ]
  },
  {
   "cell_type": "markdown",
   "metadata": {},
   "source": [
    "**Второй регион**"
   ]
  },
  {
   "cell_type": "code",
   "execution_count": 4,
   "metadata": {},
   "outputs": [
    {
     "data": {
      "text/html": [
       "<div>\n",
       "<style scoped>\n",
       "    .dataframe tbody tr th:only-of-type {\n",
       "        vertical-align: middle;\n",
       "    }\n",
       "\n",
       "    .dataframe tbody tr th {\n",
       "        vertical-align: top;\n",
       "    }\n",
       "\n",
       "    .dataframe thead th {\n",
       "        text-align: right;\n",
       "    }\n",
       "</style>\n",
       "<table border=\"1\" class=\"dataframe\">\n",
       "  <thead>\n",
       "    <tr style=\"text-align: right;\">\n",
       "      <th></th>\n",
       "      <th>id</th>\n",
       "      <th>f0</th>\n",
       "      <th>f1</th>\n",
       "      <th>f2</th>\n",
       "      <th>product</th>\n",
       "    </tr>\n",
       "  </thead>\n",
       "  <tbody>\n",
       "    <tr>\n",
       "      <th>0</th>\n",
       "      <td>kBEdx</td>\n",
       "      <td>-15.001348</td>\n",
       "      <td>-8.276000</td>\n",
       "      <td>-0.005876</td>\n",
       "      <td>3.179103</td>\n",
       "    </tr>\n",
       "    <tr>\n",
       "      <th>1</th>\n",
       "      <td>62mP7</td>\n",
       "      <td>14.272088</td>\n",
       "      <td>-3.475083</td>\n",
       "      <td>0.999183</td>\n",
       "      <td>26.953261</td>\n",
       "    </tr>\n",
       "    <tr>\n",
       "      <th>2</th>\n",
       "      <td>vyE1P</td>\n",
       "      <td>6.263187</td>\n",
       "      <td>-5.948386</td>\n",
       "      <td>5.001160</td>\n",
       "      <td>134.766305</td>\n",
       "    </tr>\n",
       "    <tr>\n",
       "      <th>3</th>\n",
       "      <td>KcrkZ</td>\n",
       "      <td>-13.081196</td>\n",
       "      <td>-11.506057</td>\n",
       "      <td>4.999415</td>\n",
       "      <td>137.945408</td>\n",
       "    </tr>\n",
       "    <tr>\n",
       "      <th>4</th>\n",
       "      <td>AHL4O</td>\n",
       "      <td>12.702195</td>\n",
       "      <td>-8.147433</td>\n",
       "      <td>5.004363</td>\n",
       "      <td>134.766305</td>\n",
       "    </tr>\n",
       "  </tbody>\n",
       "</table>\n",
       "</div>"
      ],
      "text/plain": [
       "      id         f0         f1        f2     product\n",
       "0  kBEdx -15.001348  -8.276000 -0.005876    3.179103\n",
       "1  62mP7  14.272088  -3.475083  0.999183   26.953261\n",
       "2  vyE1P   6.263187  -5.948386  5.001160  134.766305\n",
       "3  KcrkZ -13.081196 -11.506057  4.999415  137.945408\n",
       "4  AHL4O  12.702195  -8.147433  5.004363  134.766305"
      ]
     },
     "metadata": {},
     "output_type": "display_data"
    },
    {
     "name": "stdout",
     "output_type": "stream",
     "text": [
      "<class 'pandas.core.frame.DataFrame'>\n",
      "RangeIndex: 100000 entries, 0 to 99999\n",
      "Data columns (total 5 columns):\n",
      " #   Column   Non-Null Count   Dtype  \n",
      "---  ------   --------------   -----  \n",
      " 0   id       100000 non-null  object \n",
      " 1   f0       100000 non-null  float64\n",
      " 2   f1       100000 non-null  float64\n",
      " 3   f2       100000 non-null  float64\n",
      " 4   product  100000 non-null  float64\n",
      "dtypes: float64(4), object(1)\n",
      "memory usage: 3.8+ MB\n"
     ]
    }
   ],
   "source": [
    "display(data_1.head())\n",
    "data_1.info()"
   ]
  },
  {
   "cell_type": "markdown",
   "metadata": {},
   "source": [
    "**Третий регион**"
   ]
  },
  {
   "cell_type": "code",
   "execution_count": 5,
   "metadata": {},
   "outputs": [
    {
     "data": {
      "text/html": [
       "<div>\n",
       "<style scoped>\n",
       "    .dataframe tbody tr th:only-of-type {\n",
       "        vertical-align: middle;\n",
       "    }\n",
       "\n",
       "    .dataframe tbody tr th {\n",
       "        vertical-align: top;\n",
       "    }\n",
       "\n",
       "    .dataframe thead th {\n",
       "        text-align: right;\n",
       "    }\n",
       "</style>\n",
       "<table border=\"1\" class=\"dataframe\">\n",
       "  <thead>\n",
       "    <tr style=\"text-align: right;\">\n",
       "      <th></th>\n",
       "      <th>id</th>\n",
       "      <th>f0</th>\n",
       "      <th>f1</th>\n",
       "      <th>f2</th>\n",
       "      <th>product</th>\n",
       "    </tr>\n",
       "  </thead>\n",
       "  <tbody>\n",
       "    <tr>\n",
       "      <th>0</th>\n",
       "      <td>fwXo0</td>\n",
       "      <td>-1.146987</td>\n",
       "      <td>0.963328</td>\n",
       "      <td>-0.828965</td>\n",
       "      <td>27.758673</td>\n",
       "    </tr>\n",
       "    <tr>\n",
       "      <th>1</th>\n",
       "      <td>WJtFt</td>\n",
       "      <td>0.262778</td>\n",
       "      <td>0.269839</td>\n",
       "      <td>-2.530187</td>\n",
       "      <td>56.069697</td>\n",
       "    </tr>\n",
       "    <tr>\n",
       "      <th>2</th>\n",
       "      <td>ovLUW</td>\n",
       "      <td>0.194587</td>\n",
       "      <td>0.289035</td>\n",
       "      <td>-5.586433</td>\n",
       "      <td>62.871910</td>\n",
       "    </tr>\n",
       "    <tr>\n",
       "      <th>3</th>\n",
       "      <td>q6cA6</td>\n",
       "      <td>2.236060</td>\n",
       "      <td>-0.553760</td>\n",
       "      <td>0.930038</td>\n",
       "      <td>114.572842</td>\n",
       "    </tr>\n",
       "    <tr>\n",
       "      <th>4</th>\n",
       "      <td>WPMUX</td>\n",
       "      <td>-0.515993</td>\n",
       "      <td>1.716266</td>\n",
       "      <td>5.899011</td>\n",
       "      <td>149.600746</td>\n",
       "    </tr>\n",
       "  </tbody>\n",
       "</table>\n",
       "</div>"
      ],
      "text/plain": [
       "      id        f0        f1        f2     product\n",
       "0  fwXo0 -1.146987  0.963328 -0.828965   27.758673\n",
       "1  WJtFt  0.262778  0.269839 -2.530187   56.069697\n",
       "2  ovLUW  0.194587  0.289035 -5.586433   62.871910\n",
       "3  q6cA6  2.236060 -0.553760  0.930038  114.572842\n",
       "4  WPMUX -0.515993  1.716266  5.899011  149.600746"
      ]
     },
     "metadata": {},
     "output_type": "display_data"
    },
    {
     "name": "stdout",
     "output_type": "stream",
     "text": [
      "<class 'pandas.core.frame.DataFrame'>\n",
      "RangeIndex: 100000 entries, 0 to 99999\n",
      "Data columns (total 5 columns):\n",
      " #   Column   Non-Null Count   Dtype  \n",
      "---  ------   --------------   -----  \n",
      " 0   id       100000 non-null  object \n",
      " 1   f0       100000 non-null  float64\n",
      " 2   f1       100000 non-null  float64\n",
      " 3   f2       100000 non-null  float64\n",
      " 4   product  100000 non-null  float64\n",
      "dtypes: float64(4), object(1)\n",
      "memory usage: 3.8+ MB\n"
     ]
    }
   ],
   "source": [
    "display(data_2.head())\n",
    "data_2.info()"
   ]
  },
  {
   "cell_type": "markdown",
   "metadata": {},
   "source": [
    "Согласно документации к данным:\n",
    "\n",
    "- id — уникальный идентификатор скважины;\n",
    "- f0, f1, f2 — три признака точек (неважно, что они означают, но сами признаки значимы);\n",
    "- product — объём запасов в скважине (тыс. баррелей)."
   ]
  },
  {
   "cell_type": "markdown",
   "metadata": {},
   "source": [
    "Из исходных наборов данных удалим параметр `id`, т.к. в нём нет необходимости для исследования:"
   ]
  },
  {
   "cell_type": "code",
   "execution_count": 6,
   "metadata": {},
   "outputs": [],
   "source": [
    "data_0 = data_0.drop('id', axis=1)\n",
    "data_1 = data_1.drop('id', axis=1)\n",
    "data_2 = data_2.drop('id', axis=1)"
   ]
  },
  {
   "cell_type": "markdown",
   "metadata": {},
   "source": [
    "Разделим данные на признаки и целевой признак:"
   ]
  },
  {
   "cell_type": "code",
   "execution_count": 7,
   "metadata": {},
   "outputs": [],
   "source": [
    "features_0 = data_0.drop('product', axis=1)\n",
    "features_1 = data_1.drop('product', axis=1)\n",
    "features_2 = data_2.drop('product', axis=1)\n",
    "\n",
    "target_0 = data_0['product'] \n",
    "target_1 = data_1['product'] \n",
    "target_2 = data_2['product'] "
   ]
  },
  {
   "cell_type": "markdown",
   "metadata": {},
   "source": [
    "Разделение на обучающую и валидационную выборки:\n",
    "- обучающая выборка – 75% \n",
    "- валидационная выборка – 25%"
   ]
  },
  {
   "cell_type": "code",
   "execution_count": 8,
   "metadata": {},
   "outputs": [],
   "source": [
    "# Первый регион\n",
    "features_train_0, features_valid_0, target_train_0, target_valid_0 = train_test_split(\n",
    "                                        features_0, target_0, test_size=0.25, random_state=12345)\n",
    "# Второй регион\n",
    "features_train_1, features_valid_1, target_train_1, target_valid_1 = train_test_split(\n",
    "                                        features_1, target_1, test_size=0.25, random_state=12345)\n",
    "# Третий регион\n",
    "features_train_2, features_valid_2, target_train_2, target_valid_2 = train_test_split(\n",
    "                                        features_2, target_2, test_size=0.25, random_state=12345)"
   ]
  },
  {
   "cell_type": "markdown",
   "metadata": {},
   "source": [
    "Размеры полученных выборок:"
   ]
  },
  {
   "cell_type": "code",
   "execution_count": 9,
   "metadata": {},
   "outputs": [
    {
     "name": "stdout",
     "output_type": "stream",
     "text": [
      "Первый регион \n",
      "Обучающая: (75000, 3) \n",
      "Валидационная: (25000, 3)\n",
      "\n",
      "Второй регион \n",
      "Обучающая: (75000, 3) \n",
      "Валидационная: (25000, 3)\n",
      "\n",
      "Третий регион \n",
      "Обучающая: (75000, 3) \n",
      "Валидационная: (25000, 3)\n"
     ]
    }
   ],
   "source": [
    "print('Первый регион', '\\nОбучающая:', features_train_0.shape, '\\nВалидационная:', features_valid_0.shape)\n",
    "print('\\nВторой регион', '\\nОбучающая:', features_train_1.shape, '\\nВалидационная:', features_valid_1.shape)\n",
    "print('\\nТретий регион', '\\nОбучающая:', features_train_2.shape, '\\nВалидационная:', features_valid_2.shape)"
   ]
  },
  {
   "cell_type": "markdown",
   "metadata": {},
   "source": [
    "## Обучение и проверка модели"
   ]
  },
  {
   "cell_type": "code",
   "execution_count": 10,
   "metadata": {},
   "outputs": [],
   "source": [
    "def fit_model(features_train, target_train, features_valid, target_valid):\n",
    "    model = LinearRegression()\n",
    "    model.fit(features_train, target_train)\n",
    "    predicted_valid = model.predict(features_valid)\n",
    "    \n",
    "    MSE = mean_squared_error(target_valid, predicted_valid)\n",
    "    return np.sqrt(MSE), predicted_valid"
   ]
  },
  {
   "cell_type": "markdown",
   "metadata": {},
   "source": [
    "**Обучение модели на данных для первого региона:**"
   ]
  },
  {
   "cell_type": "code",
   "execution_count": 11,
   "metadata": {},
   "outputs": [
    {
     "name": "stdout",
     "output_type": "stream",
     "text": [
      "RMSE: 37.5794217150813, \n",
      "Cредний запас предсказанного сырья: 92.59256778438035\n"
     ]
    }
   ],
   "source": [
    "rmse_0, predicted_valid_0 = fit_model(features_train_0, target_train_0, features_valid_0, target_valid_0)\n",
    "print(f'RMSE: {rmse_0}, \\nCредний запас предсказанного сырья: {predicted_valid_0.mean()}')"
   ]
  },
  {
   "cell_type": "markdown",
   "metadata": {},
   "source": [
    "**Обучение модели на данных для второго региона:**"
   ]
  },
  {
   "cell_type": "code",
   "execution_count": 12,
   "metadata": {},
   "outputs": [
    {
     "name": "stdout",
     "output_type": "stream",
     "text": [
      "RMSE: 0.8930992867756165, \n",
      "Cредний запас предсказанного сырья: 68.728546895446\n"
     ]
    }
   ],
   "source": [
    "rmse_1, predicted_valid_1 = fit_model(features_train_1, target_train_1, features_valid_1, target_valid_1)\n",
    "print(f'RMSE: {rmse_1}, \\nCредний запас предсказанного сырья: {predicted_valid_1.mean()}')"
   ]
  },
  {
   "cell_type": "markdown",
   "metadata": {},
   "source": [
    "**Обучение модели на данных для третьего региона:**"
   ]
  },
  {
   "cell_type": "code",
   "execution_count": 13,
   "metadata": {},
   "outputs": [
    {
     "name": "stdout",
     "output_type": "stream",
     "text": [
      "RMSE: 40.02970873393434, \n",
      "Cредний запас предсказанного сырья: 94.96504596800492\n"
     ]
    }
   ],
   "source": [
    "rmse_2, predicted_valid_2 = fit_model(features_train_2, target_train_2, features_valid_2, target_valid_2)\n",
    "print(f'RMSE: {rmse_2}, \\nCредний запас предсказанного сырья: {predicted_valid_2.mean()}')"
   ]
  },
  {
   "cell_type": "markdown",
   "metadata": {},
   "source": [
    "**Вывод**"
   ]
  },
  {
   "cell_type": "markdown",
   "metadata": {},
   "source": [
    "Для оценки работы модели была рассчитана метрика RMSE: наивысшее качество модель показала на данных второго региона.\n",
    "Наибольший средний запас предсказанного сырья в треьем регионе, а наименьший во втором."
   ]
  },
  {
   "cell_type": "markdown",
   "metadata": {},
   "source": [
    "## Подготовка к расчёту прибыли"
   ]
  },
  {
   "cell_type": "markdown",
   "metadata": {},
   "source": [
    "Ключевые значения для расчётов "
   ]
  },
  {
   "cell_type": "code",
   "execution_count": 14,
   "metadata": {
    "scrolled": true
   },
   "outputs": [
    {
     "name": "stdout",
     "output_type": "stream",
     "text": [
      "Достаточный объём сырья (тыс.бар.) для безубыточной разработки новой скважины: 111.11111111111111\n"
     ]
    }
   ],
   "source": [
    "# доход с одного барреля (р.)\n",
    "REVENUE = 450\n",
    "\n",
    "# Бюджет на разработку скважин в регионе\n",
    "COST = 10**10\n",
    "\n",
    "# Количество скважин\n",
    "COUNT_WELLS = 200\n",
    "\n",
    "# Достаточный объём сырья для безубыточной разработки новой скважины\n",
    "MATERIAL = COST / 450000 / COUNT_WELLS\n",
    "print(\"Достаточный объём сырья (тыс.бар.) для безубыточной разработки новой скважины:\", MATERIAL)"
   ]
  },
  {
   "cell_type": "markdown",
   "metadata": {},
   "source": [
    "Сравнение среднего запаса сырья в каждом регионе с точкой безубыточности:"
   ]
  },
  {
   "cell_type": "code",
   "execution_count": 15,
   "metadata": {},
   "outputs": [
    {
     "data": {
      "text/plain": [
       "первый регион            92.500000\n",
       "второй регион            68.825000\n",
       "третий регоин            95.000000\n",
       "точка безубыточности    111.111111\n",
       "dtype: float64"
      ]
     },
     "execution_count": 15,
     "metadata": {},
     "output_type": "execute_result"
    }
   ],
   "source": [
    "pd.Series([target_0.mean(), target_1.mean(), target_2.mean(), MATERIAL], index=['первый регион', 'второй регион', 'третий регоин', 'точка безубыточности'])"
   ]
  },
  {
   "cell_type": "markdown",
   "metadata": {},
   "source": [
    "**Вывод**"
   ]
  },
  {
   "cell_type": "markdown",
   "metadata": {},
   "source": [
    "Во всех трех регионах средний обьем запасов в скважинах ниже достаточного объема сырья для безубыточной разработки новой скважины."
   ]
  },
  {
   "cell_type": "markdown",
   "metadata": {},
   "source": [
    "## Расчёт прибыли и рисков "
   ]
  },
  {
   "cell_type": "markdown",
   "metadata": {},
   "source": [
    "Функция для расчёта прибыли по выбранным скважинам и предсказаниям модели:"
   ]
  },
  {
   "cell_type": "code",
   "execution_count": 16,
   "metadata": {},
   "outputs": [],
   "source": [
    "def payment_profit(target, predictions, count):\n",
    "# выбрать скважины с максимальными значениями предсказаний\n",
    "# просуммировать целевое значение объёма сырья, соответствующее этим предсказаниям\n",
    "# рассчитать прибыль\n",
    "    probs_sorted = predictions.sort_values(ascending=False)\n",
    "    selected = target[probs_sorted.index][:count]\n",
    "    return 450000 * selected.sum() - COST"
   ]
  },
  {
   "cell_type": "markdown",
   "metadata": {},
   "source": [
    "Даллее найдем распределение прибыли с помощью техники bootstrap:"
   ]
  },
  {
   "cell_type": "code",
   "execution_count": 17,
   "metadata": {
    "scrolled": true
   },
   "outputs": [
    {
     "name": "stdout",
     "output_type": "stream",
     "text": [
      "Cредняя выручка: 425938526.91059244\n",
      "95%-ый доверительный интервал: -102090094.83793654 , 947976353.3583689\n",
      "Риск убытков: 6.0\n",
      "\n",
      "Cредняя выручка: 518259493.6973249\n",
      "95%-ый доверительный интервал: 128123231.43308444 , 953612982.0669085\n",
      "Риск убытков: 0.3\n",
      "\n",
      "Cредняя выручка: 420194005.3440501\n",
      "95%-ый доверительный интервал: -115852609.16001143 , 989629939.8445739\n",
      "Риск убытков: 6.2\n",
      "\n"
     ]
    }
   ],
   "source": [
    "predictions = [predicted_valid_0, predicted_valid_1, predicted_valid_2]\n",
    "targets = [target_valid_0,  target_valid_1, target_valid_2]\n",
    "\n",
    "state = np.random.RandomState(12345)\n",
    "profit_values = []\n",
    "values = []\n",
    "for reg in range(len(predictions)):\n",
    "    predicted_valid = pd.Series(predictions[reg])\n",
    "    target_valid = targets[reg].reset_index(drop=True)\n",
    "    for i in range(1000):\n",
    "        target_subsample = target_valid.sample(n=500, replace=True, random_state=state)\n",
    "        probs_subsample = predicted_valid[target_subsample.index]\n",
    "        profit_values.append(payment_profit(target_subsample, probs_subsample, COUNT_WELLS))\n",
    "        \n",
    "    profit_values = pd.Series(profit_values)\n",
    "    mean = profit_values.mean()\n",
    "\n",
    "    # Риск убытков\n",
    "    losses = (profit_values < 0).mean()*100\n",
    "    \n",
    "    # 95%-й доверительный интервал\n",
    "    lower = profit_values.quantile(0.025)\n",
    "    upper = profit_values.quantile(0.975)\n",
    "    \n",
    "    print('Cредняя выручка:', mean)\n",
    "    print('95%-ый доверительный интервал:', lower, ',', upper)\n",
    "    print('Риск убытков:', losses)\n",
    "    print()\n",
    "    profit_values = []"
   ]
  },
  {
   "cell_type": "markdown",
   "metadata": {},
   "source": [
    "**Вывод**"
   ]
  },
  {
   "cell_type": "markdown",
   "metadata": {},
   "source": [
    "Наименьшие риски и наибольшая выручка во втором регионе."
   ]
  },
  {
   "cell_type": "markdown",
   "metadata": {},
   "source": [
    "## Общий вывод"
   ]
  },
  {
   "cell_type": "markdown",
   "metadata": {},
   "source": [
    "Было проведено исследование скважин нефти в трех регионах и выявлено, что добыча нефти принесёт наибольшию прибыль, с наименьшими рисками – 1.3%, во втором регионе. С вероятностью 95% прибыль составит от 128'123231 до 953'612982.\n"
   ]
  }
 ],
 "metadata": {
  "ExecuteTimeLog": [
   {
    "duration": 50,
    "start_time": "2022-03-23T12:59:57.821Z"
   },
   {
    "duration": 423,
    "start_time": "2022-03-23T13:00:00.611Z"
   },
   {
    "duration": 383,
    "start_time": "2022-03-23T13:00:04.945Z"
   },
   {
    "duration": 30,
    "start_time": "2022-03-23T13:02:18.691Z"
   },
   {
    "duration": 27,
    "start_time": "2022-03-23T13:02:24.314Z"
   },
   {
    "duration": 26,
    "start_time": "2022-03-23T13:02:39.860Z"
   },
   {
    "duration": 18,
    "start_time": "2022-03-23T13:02:45.660Z"
   },
   {
    "duration": 9,
    "start_time": "2022-03-23T13:05:49.856Z"
   },
   {
    "duration": 19,
    "start_time": "2022-03-23T13:06:13.236Z"
   },
   {
    "duration": 29,
    "start_time": "2022-03-23T13:06:44.896Z"
   },
   {
    "duration": 25,
    "start_time": "2022-03-23T13:07:09.869Z"
   },
   {
    "duration": 32,
    "start_time": "2022-03-23T13:08:26.726Z"
   },
   {
    "duration": 49,
    "start_time": "2022-03-23T14:34:23.752Z"
   },
   {
    "duration": 371,
    "start_time": "2022-03-23T14:34:56.984Z"
   },
   {
    "duration": 386,
    "start_time": "2022-03-23T14:34:58.365Z"
   },
   {
    "duration": 30,
    "start_time": "2022-03-23T14:35:00.701Z"
   },
   {
    "duration": 21,
    "start_time": "2022-03-23T14:35:03.625Z"
   },
   {
    "duration": 21,
    "start_time": "2022-03-23T14:35:07.264Z"
   },
   {
    "duration": 18,
    "start_time": "2022-03-23T14:35:10.025Z"
   },
   {
    "duration": 11,
    "start_time": "2022-03-23T14:35:17.825Z"
   },
   {
    "duration": 1850,
    "start_time": "2022-03-23T14:41:11.445Z"
   },
   {
    "duration": 4,
    "start_time": "2022-03-23T14:42:22.263Z"
   },
   {
    "duration": 13,
    "start_time": "2022-03-23T14:46:15.174Z"
   },
   {
    "duration": 3,
    "start_time": "2022-03-23T14:51:03.372Z"
   },
   {
    "duration": 16,
    "start_time": "2022-03-23T14:53:51.450Z"
   },
   {
    "duration": 30,
    "start_time": "2022-03-23T14:55:37.944Z"
   },
   {
    "duration": 62,
    "start_time": "2022-03-23T14:58:59.941Z"
   },
   {
    "duration": 8,
    "start_time": "2022-03-23T14:59:10.042Z"
   },
   {
    "duration": 4,
    "start_time": "2022-03-23T14:59:14.911Z"
   },
   {
    "duration": 3,
    "start_time": "2022-03-23T15:01:25.462Z"
   },
   {
    "duration": 5,
    "start_time": "2022-03-23T15:02:07.163Z"
   },
   {
    "duration": 6,
    "start_time": "2022-03-23T15:02:18.926Z"
   },
   {
    "duration": 31,
    "start_time": "2022-03-23T15:07:21.642Z"
   },
   {
    "duration": 6,
    "start_time": "2022-03-23T15:08:09.961Z"
   },
   {
    "duration": 3,
    "start_time": "2022-03-23T15:12:43.842Z"
   },
   {
    "duration": 14,
    "start_time": "2022-03-23T15:13:31.921Z"
   },
   {
    "duration": 20,
    "start_time": "2022-03-23T15:15:25.025Z"
   },
   {
    "duration": 13,
    "start_time": "2022-03-23T15:15:46.525Z"
   },
   {
    "duration": 15,
    "start_time": "2022-03-23T15:50:51.241Z"
   },
   {
    "duration": 4,
    "start_time": "2022-03-23T15:52:06.472Z"
   },
   {
    "duration": 19,
    "start_time": "2022-03-23T15:52:14.816Z"
   },
   {
    "duration": 4,
    "start_time": "2022-03-23T15:52:21.654Z"
   },
   {
    "duration": 411,
    "start_time": "2022-03-23T15:52:21.660Z"
   },
   {
    "duration": 33,
    "start_time": "2022-03-23T15:52:22.073Z"
   },
   {
    "duration": 43,
    "start_time": "2022-03-23T15:52:22.108Z"
   },
   {
    "duration": 34,
    "start_time": "2022-03-23T15:52:22.154Z"
   },
   {
    "duration": 21,
    "start_time": "2022-03-23T15:52:22.190Z"
   },
   {
    "duration": 33,
    "start_time": "2022-03-23T15:52:22.213Z"
   },
   {
    "duration": 31,
    "start_time": "2022-03-23T15:52:22.248Z"
   },
   {
    "duration": 6,
    "start_time": "2022-03-23T15:52:22.281Z"
   },
   {
    "duration": 13,
    "start_time": "2022-03-23T15:52:26.609Z"
   },
   {
    "duration": 5,
    "start_time": "2022-03-23T15:55:39.529Z"
   },
   {
    "duration": 8,
    "start_time": "2022-03-23T15:56:01.949Z"
   },
   {
    "duration": 9,
    "start_time": "2022-03-23T15:56:07.189Z"
   },
   {
    "duration": 27,
    "start_time": "2022-03-23T15:56:08.770Z"
   },
   {
    "duration": 5,
    "start_time": "2022-03-23T15:56:10.979Z"
   },
   {
    "duration": 16461,
    "start_time": "2022-03-23T15:56:14.242Z"
   },
   {
    "duration": 17202,
    "start_time": "2022-03-23T15:56:46.055Z"
   },
   {
    "duration": 3,
    "start_time": "2022-03-23T16:02:55.697Z"
   },
   {
    "duration": 17097,
    "start_time": "2022-03-23T16:03:01.658Z"
   },
   {
    "duration": 17331,
    "start_time": "2022-03-23T16:04:12.918Z"
   },
   {
    "duration": 16816,
    "start_time": "2022-03-23T16:04:32.051Z"
   },
   {
    "duration": 17665,
    "start_time": "2022-03-23T16:08:24.094Z"
   },
   {
    "duration": 1524,
    "start_time": "2022-03-23T16:16:49.119Z"
   },
   {
    "duration": 1496,
    "start_time": "2022-03-23T16:17:13.659Z"
   },
   {
    "duration": 144,
    "start_time": "2022-03-23T16:22:13.060Z"
   },
   {
    "duration": 3,
    "start_time": "2022-03-23T16:25:46.681Z"
   },
   {
    "duration": 1379,
    "start_time": "2022-03-23T16:27:04.210Z"
   },
   {
    "duration": 1403,
    "start_time": "2022-03-23T16:33:21.035Z"
   },
   {
    "duration": 1388,
    "start_time": "2022-03-23T16:33:46.462Z"
   },
   {
    "duration": 1439,
    "start_time": "2022-03-23T16:36:03.223Z"
   },
   {
    "duration": 1462,
    "start_time": "2022-03-23T16:36:15.402Z"
   },
   {
    "duration": 15569,
    "start_time": "2022-03-23T16:38:44.985Z"
   },
   {
    "duration": 14986,
    "start_time": "2022-03-23T16:40:20.570Z"
   },
   {
    "duration": 5,
    "start_time": "2022-03-23T16:42:12.443Z"
   },
   {
    "duration": 51,
    "start_time": "2022-03-24T07:45:39.819Z"
   },
   {
    "duration": 1199,
    "start_time": "2022-03-24T07:45:46.297Z"
   },
   {
    "duration": 387,
    "start_time": "2022-03-24T07:45:47.499Z"
   },
   {
    "duration": 29,
    "start_time": "2022-03-24T07:45:47.888Z"
   },
   {
    "duration": 33,
    "start_time": "2022-03-24T07:45:47.919Z"
   },
   {
    "duration": 21,
    "start_time": "2022-03-24T07:45:47.953Z"
   },
   {
    "duration": 16,
    "start_time": "2022-03-24T07:45:47.976Z"
   },
   {
    "duration": 40,
    "start_time": "2022-03-24T07:45:47.994Z"
   },
   {
    "duration": 10,
    "start_time": "2022-03-24T07:45:48.036Z"
   },
   {
    "duration": 35,
    "start_time": "2022-03-24T07:45:48.047Z"
   },
   {
    "duration": 5,
    "start_time": "2022-03-24T07:45:48.084Z"
   },
   {
    "duration": 7,
    "start_time": "2022-03-24T07:45:48.091Z"
   },
   {
    "duration": 17751,
    "start_time": "2022-03-24T07:45:48.100Z"
   },
   {
    "duration": 1507,
    "start_time": "2022-03-24T07:46:05.853Z"
   },
   {
    "duration": 15413,
    "start_time": "2022-03-24T07:46:07.433Z"
   },
   {
    "duration": 4,
    "start_time": "2022-03-24T07:46:22.848Z"
   },
   {
    "duration": 13,
    "start_time": "2022-03-24T07:46:54.254Z"
   },
   {
    "duration": 6,
    "start_time": "2022-03-24T07:47:40.327Z"
   },
   {
    "duration": 5,
    "start_time": "2022-03-24T07:57:26.828Z"
   },
   {
    "duration": 66,
    "start_time": "2022-03-24T08:05:44.800Z"
   },
   {
    "duration": 7,
    "start_time": "2022-03-24T08:05:53.826Z"
   },
   {
    "duration": 6,
    "start_time": "2022-03-24T11:56:49.017Z"
   },
   {
    "duration": 680,
    "start_time": "2022-03-24T11:56:49.026Z"
   },
   {
    "duration": 30,
    "start_time": "2022-03-24T11:56:49.708Z"
   },
   {
    "duration": 45,
    "start_time": "2022-03-24T11:56:49.740Z"
   },
   {
    "duration": 37,
    "start_time": "2022-03-24T11:56:49.788Z"
   },
   {
    "duration": 16,
    "start_time": "2022-03-24T11:56:49.827Z"
   },
   {
    "duration": 10,
    "start_time": "2022-03-24T11:56:49.873Z"
   },
   {
    "duration": 9,
    "start_time": "2022-03-24T11:56:49.886Z"
   },
   {
    "duration": 34,
    "start_time": "2022-03-24T11:56:49.897Z"
   },
   {
    "duration": 41,
    "start_time": "2022-03-24T11:56:49.934Z"
   },
   {
    "duration": 6,
    "start_time": "2022-03-24T11:56:49.979Z"
   },
   {
    "duration": 34702,
    "start_time": "2022-03-24T11:56:49.987Z"
   },
   {
    "duration": 2590,
    "start_time": "2022-03-24T11:57:24.691Z"
   },
   {
    "duration": 28124,
    "start_time": "2022-03-24T11:57:27.374Z"
   },
   {
    "duration": 4,
    "start_time": "2022-03-24T11:57:55.500Z"
   },
   {
    "duration": 16,
    "start_time": "2022-03-24T11:57:55.506Z"
   },
   {
    "duration": 6,
    "start_time": "2022-03-24T12:04:05.053Z"
   },
   {
    "duration": 5,
    "start_time": "2022-03-24T12:04:53.910Z"
   },
   {
    "duration": 7,
    "start_time": "2022-03-24T12:13:18.890Z"
   },
   {
    "duration": 138,
    "start_time": "2022-03-24T12:13:37.429Z"
   },
   {
    "duration": 3,
    "start_time": "2022-03-24T12:13:48.036Z"
   },
   {
    "duration": 7,
    "start_time": "2022-03-24T12:13:49.629Z"
   },
   {
    "duration": 816,
    "start_time": "2022-03-24T12:14:54.512Z"
   },
   {
    "duration": 4,
    "start_time": "2022-03-24T12:15:50.807Z"
   },
   {
    "duration": 176,
    "start_time": "2022-03-24T12:19:48.115Z"
   },
   {
    "duration": 260,
    "start_time": "2022-03-24T12:20:10.027Z"
   },
   {
    "duration": 175,
    "start_time": "2022-03-24T12:40:55.791Z"
   },
   {
    "duration": 151,
    "start_time": "2022-03-24T12:41:17.761Z"
   },
   {
    "duration": 1828,
    "start_time": "2022-03-24T12:59:39.554Z"
   },
   {
    "duration": 422,
    "start_time": "2022-03-24T12:59:41.385Z"
   },
   {
    "duration": 35,
    "start_time": "2022-03-24T12:59:41.809Z"
   },
   {
    "duration": 49,
    "start_time": "2022-03-24T12:59:41.848Z"
   },
   {
    "duration": 29,
    "start_time": "2022-03-24T12:59:41.899Z"
   },
   {
    "duration": 44,
    "start_time": "2022-03-24T12:59:41.930Z"
   },
   {
    "duration": 17,
    "start_time": "2022-03-24T12:59:41.976Z"
   },
   {
    "duration": 13,
    "start_time": "2022-03-24T12:59:41.996Z"
   },
   {
    "duration": 40,
    "start_time": "2022-03-24T12:59:42.011Z"
   },
   {
    "duration": 20,
    "start_time": "2022-03-24T12:59:42.055Z"
   },
   {
    "duration": 4,
    "start_time": "2022-03-24T12:59:42.078Z"
   },
   {
    "duration": 32609,
    "start_time": "2022-03-24T12:59:42.084Z"
   },
   {
    "duration": 2577,
    "start_time": "2022-03-24T13:00:14.696Z"
   },
   {
    "duration": 27819,
    "start_time": "2022-03-24T13:00:17.276Z"
   },
   {
    "duration": 4,
    "start_time": "2022-03-24T13:00:45.098Z"
   },
   {
    "duration": 99,
    "start_time": "2022-03-24T13:00:45.104Z"
   },
   {
    "duration": 0,
    "start_time": "2022-03-24T13:00:45.205Z"
   },
   {
    "duration": 0,
    "start_time": "2022-03-24T13:00:45.207Z"
   },
   {
    "duration": 5,
    "start_time": "2022-03-24T13:02:13.168Z"
   },
   {
    "duration": 7,
    "start_time": "2022-03-24T13:02:37.716Z"
   },
   {
    "duration": 5,
    "start_time": "2022-03-24T13:03:27.960Z"
   },
   {
    "duration": 175,
    "start_time": "2022-03-24T13:03:49.515Z"
   },
   {
    "duration": 10,
    "start_time": "2022-03-24T13:04:07.131Z"
   },
   {
    "duration": 9,
    "start_time": "2022-03-24T13:04:52.289Z"
   },
   {
    "duration": 5,
    "start_time": "2022-03-24T13:05:55.696Z"
   },
   {
    "duration": 10,
    "start_time": "2022-03-24T13:05:58.312Z"
   },
   {
    "duration": 9,
    "start_time": "2022-03-24T13:06:10.732Z"
   },
   {
    "duration": 158,
    "start_time": "2022-03-24T13:16:01.000Z"
   },
   {
    "duration": 31840,
    "start_time": "2022-03-24T13:18:51.964Z"
   },
   {
    "duration": 32406,
    "start_time": "2022-03-24T13:20:18.296Z"
   },
   {
    "duration": 32630,
    "start_time": "2022-03-24T13:21:41.865Z"
   },
   {
    "duration": 7,
    "start_time": "2022-03-24T13:22:17.292Z"
   },
   {
    "duration": 3,
    "start_time": "2022-03-24T13:35:16.877Z"
   },
   {
    "duration": 4,
    "start_time": "2022-03-24T13:35:51.318Z"
   },
   {
    "duration": 5,
    "start_time": "2022-03-24T13:45:54.935Z"
   },
   {
    "duration": 13,
    "start_time": "2022-03-24T13:46:53.344Z"
   },
   {
    "duration": 32307,
    "start_time": "2022-03-24T13:47:21.779Z"
   },
   {
    "duration": 21,
    "start_time": "2022-03-24T13:47:57.494Z"
   },
   {
    "duration": 17,
    "start_time": "2022-03-24T13:48:59.084Z"
   },
   {
    "duration": 18,
    "start_time": "2022-03-24T13:49:13.408Z"
   },
   {
    "duration": 99,
    "start_time": "2022-03-24T13:49:19.396Z"
   },
   {
    "duration": 2858,
    "start_time": "2022-03-24T15:02:51.913Z"
   },
   {
    "duration": 562,
    "start_time": "2022-03-24T15:03:03.351Z"
   },
   {
    "duration": 57,
    "start_time": "2022-03-24T15:03:03.916Z"
   },
   {
    "duration": 33,
    "start_time": "2022-03-24T15:03:03.976Z"
   },
   {
    "duration": 80,
    "start_time": "2022-03-24T15:03:04.012Z"
   },
   {
    "duration": 21,
    "start_time": "2022-03-24T15:03:04.096Z"
   },
   {
    "duration": 40,
    "start_time": "2022-03-24T15:03:04.119Z"
   },
   {
    "duration": 28,
    "start_time": "2022-03-24T15:03:04.162Z"
   },
   {
    "duration": 41,
    "start_time": "2022-03-24T15:03:04.193Z"
   },
   {
    "duration": 18,
    "start_time": "2022-03-24T15:03:04.236Z"
   },
   {
    "duration": 33,
    "start_time": "2022-03-24T15:03:04.257Z"
   },
   {
    "duration": 35966,
    "start_time": "2022-03-24T15:03:04.292Z"
   },
   {
    "duration": 2771,
    "start_time": "2022-03-24T15:03:40.274Z"
   },
   {
    "duration": 34124,
    "start_time": "2022-03-24T15:03:43.049Z"
   },
   {
    "duration": 6,
    "start_time": "2022-03-24T15:04:17.179Z"
   },
   {
    "duration": 12,
    "start_time": "2022-03-24T15:04:17.188Z"
   },
   {
    "duration": 34154,
    "start_time": "2022-03-24T15:04:17.202Z"
   },
   {
    "duration": 211,
    "start_time": "2022-03-24T15:04:51.358Z"
   },
   {
    "duration": 168,
    "start_time": "2022-03-24T15:05:31.338Z"
   },
   {
    "duration": 19,
    "start_time": "2022-03-24T15:05:51.638Z"
   },
   {
    "duration": 192,
    "start_time": "2022-03-24T15:07:28.338Z"
   },
   {
    "duration": 18,
    "start_time": "2022-03-24T15:08:31.058Z"
   },
   {
    "duration": 33359,
    "start_time": "2022-03-24T15:09:32.998Z"
   },
   {
    "duration": 4,
    "start_time": "2022-03-24T15:10:59.565Z"
   },
   {
    "duration": 17,
    "start_time": "2022-03-24T15:11:10.370Z"
   },
   {
    "duration": 33,
    "start_time": "2022-03-24T15:11:31.058Z"
   },
   {
    "duration": 38,
    "start_time": "2022-03-24T15:11:57.198Z"
   },
   {
    "duration": 36,
    "start_time": "2022-03-24T15:12:06.798Z"
   },
   {
    "duration": 29,
    "start_time": "2022-03-24T15:17:15.377Z"
   },
   {
    "duration": 9,
    "start_time": "2022-03-24T15:19:49.939Z"
   },
   {
    "duration": 8,
    "start_time": "2022-03-24T15:20:10.718Z"
   },
   {
    "duration": 23,
    "start_time": "2022-03-24T15:20:46.556Z"
   },
   {
    "duration": 20,
    "start_time": "2022-03-24T15:21:18.397Z"
   },
   {
    "duration": 22,
    "start_time": "2022-03-24T15:22:48.397Z"
   },
   {
    "duration": 6,
    "start_time": "2022-03-24T15:22:57.065Z"
   },
   {
    "duration": 25,
    "start_time": "2022-03-24T15:23:22.405Z"
   },
   {
    "duration": 4,
    "start_time": "2022-03-24T15:25:23.057Z"
   },
   {
    "duration": 21,
    "start_time": "2022-03-24T15:26:08.705Z"
   },
   {
    "duration": 8,
    "start_time": "2022-03-24T15:26:28.321Z"
   },
   {
    "duration": 6,
    "start_time": "2022-03-24T15:26:36.965Z"
   },
   {
    "duration": 10,
    "start_time": "2022-03-24T15:27:25.906Z"
   },
   {
    "duration": 2128,
    "start_time": "2022-03-24T15:37:44.815Z"
   },
   {
    "duration": 496,
    "start_time": "2022-03-24T15:37:46.946Z"
   },
   {
    "duration": 37,
    "start_time": "2022-03-24T15:37:47.444Z"
   },
   {
    "duration": 65,
    "start_time": "2022-03-24T15:37:47.484Z"
   },
   {
    "duration": 36,
    "start_time": "2022-03-24T15:37:47.553Z"
   },
   {
    "duration": 22,
    "start_time": "2022-03-24T15:37:47.591Z"
   },
   {
    "duration": 16,
    "start_time": "2022-03-24T15:37:47.644Z"
   },
   {
    "duration": 13,
    "start_time": "2022-03-24T15:37:47.662Z"
   },
   {
    "duration": 71,
    "start_time": "2022-03-24T15:37:47.677Z"
   },
   {
    "duration": 7,
    "start_time": "2022-03-24T15:37:47.750Z"
   },
   {
    "duration": 8,
    "start_time": "2022-03-24T15:37:47.760Z"
   },
   {
    "duration": 44395,
    "start_time": "2022-03-24T15:37:47.770Z"
   },
   {
    "duration": 3086,
    "start_time": "2022-03-24T15:38:32.168Z"
   },
   {
    "duration": 38524,
    "start_time": "2022-03-24T15:38:35.343Z"
   },
   {
    "duration": 5,
    "start_time": "2022-03-24T15:39:13.871Z"
   },
   {
    "duration": 17,
    "start_time": "2022-03-24T15:39:13.878Z"
   },
   {
    "duration": 40771,
    "start_time": "2022-03-24T15:39:13.898Z"
   },
   {
    "duration": 4,
    "start_time": "2022-03-24T15:39:54.672Z"
   },
   {
    "duration": 15,
    "start_time": "2022-03-24T15:39:54.678Z"
   },
   {
    "duration": 10,
    "start_time": "2022-03-24T15:39:54.696Z"
   },
   {
    "duration": 38,
    "start_time": "2022-03-24T15:39:54.710Z"
   },
   {
    "duration": 341,
    "start_time": "2022-03-24T15:41:08.091Z"
   },
   {
    "duration": 20,
    "start_time": "2022-03-24T15:41:58.674Z"
   },
   {
    "duration": 43,
    "start_time": "2022-03-24T15:42:05.594Z"
   },
   {
    "duration": 4,
    "start_time": "2022-03-24T15:45:19.354Z"
   },
   {
    "duration": 15,
    "start_time": "2022-03-24T15:48:16.130Z"
   },
   {
    "duration": 34,
    "start_time": "2022-03-24T15:48:33.415Z"
   },
   {
    "duration": 35,
    "start_time": "2022-03-24T15:48:52.781Z"
   },
   {
    "duration": 2239,
    "start_time": "2022-03-25T06:54:41.837Z"
   },
   {
    "duration": 440,
    "start_time": "2022-03-25T06:54:44.079Z"
   },
   {
    "duration": 35,
    "start_time": "2022-03-25T06:54:44.521Z"
   },
   {
    "duration": 46,
    "start_time": "2022-03-25T06:54:44.558Z"
   },
   {
    "duration": 37,
    "start_time": "2022-03-25T06:54:44.607Z"
   },
   {
    "duration": 38,
    "start_time": "2022-03-25T06:54:44.646Z"
   },
   {
    "duration": 18,
    "start_time": "2022-03-25T06:54:44.687Z"
   },
   {
    "duration": 13,
    "start_time": "2022-03-25T06:54:44.708Z"
   },
   {
    "duration": 68,
    "start_time": "2022-03-25T06:54:44.723Z"
   },
   {
    "duration": 8,
    "start_time": "2022-03-25T06:54:44.793Z"
   },
   {
    "duration": 8,
    "start_time": "2022-03-25T06:54:44.803Z"
   },
   {
    "duration": 34689,
    "start_time": "2022-03-25T06:54:44.813Z"
   },
   {
    "duration": 2481,
    "start_time": "2022-03-25T06:55:19.504Z"
   },
   {
    "duration": 30392,
    "start_time": "2022-03-25T06:55:21.991Z"
   },
   {
    "duration": 6,
    "start_time": "2022-03-25T06:55:52.385Z"
   },
   {
    "duration": 11,
    "start_time": "2022-03-25T06:55:52.393Z"
   },
   {
    "duration": 35391,
    "start_time": "2022-03-25T06:55:52.406Z"
   },
   {
    "duration": 5,
    "start_time": "2022-03-25T06:56:27.799Z"
   },
   {
    "duration": 8,
    "start_time": "2022-03-25T06:56:27.806Z"
   },
   {
    "duration": 11,
    "start_time": "2022-03-25T06:56:27.816Z"
   },
   {
    "duration": 5,
    "start_time": "2022-03-25T06:56:27.829Z"
   },
   {
    "duration": 212,
    "start_time": "2022-03-25T06:56:27.836Z"
   },
   {
    "duration": 10,
    "start_time": "2022-03-25T07:03:26.898Z"
   },
   {
    "duration": 5,
    "start_time": "2022-03-25T07:09:47.212Z"
   },
   {
    "duration": 5,
    "start_time": "2022-03-25T07:09:55.445Z"
   },
   {
    "duration": 5,
    "start_time": "2022-03-25T07:11:14.696Z"
   },
   {
    "duration": 6,
    "start_time": "2022-03-25T07:12:13.781Z"
   },
   {
    "duration": 5,
    "start_time": "2022-03-25T07:17:06.415Z"
   },
   {
    "duration": 5,
    "start_time": "2022-03-25T07:17:33.773Z"
   },
   {
    "duration": 4,
    "start_time": "2022-03-25T07:17:41.904Z"
   },
   {
    "duration": 5,
    "start_time": "2022-03-25T07:17:52.795Z"
   },
   {
    "duration": 9,
    "start_time": "2022-03-25T07:18:20.915Z"
   },
   {
    "duration": 5,
    "start_time": "2022-03-25T07:32:00.844Z"
   },
   {
    "duration": 9,
    "start_time": "2022-03-25T07:32:04.445Z"
   },
   {
    "duration": 10,
    "start_time": "2022-03-25T07:48:23.354Z"
   },
   {
    "duration": 23,
    "start_time": "2022-03-25T07:48:48.712Z"
   },
   {
    "duration": 24,
    "start_time": "2022-03-25T07:49:03.323Z"
   },
   {
    "duration": 22,
    "start_time": "2022-03-25T07:53:18.657Z"
   },
   {
    "duration": 5,
    "start_time": "2022-03-25T07:53:31.817Z"
   },
   {
    "duration": 6,
    "start_time": "2022-03-25T07:53:38.517Z"
   },
   {
    "duration": 4,
    "start_time": "2022-03-25T08:00:24.221Z"
   },
   {
    "duration": 4,
    "start_time": "2022-03-25T08:00:42.853Z"
   },
   {
    "duration": 448,
    "start_time": "2022-03-25T08:00:42.861Z"
   },
   {
    "duration": 47,
    "start_time": "2022-03-25T08:00:43.312Z"
   },
   {
    "duration": 59,
    "start_time": "2022-03-25T08:00:43.362Z"
   },
   {
    "duration": 71,
    "start_time": "2022-03-25T08:00:43.426Z"
   },
   {
    "duration": 21,
    "start_time": "2022-03-25T08:00:43.500Z"
   },
   {
    "duration": 16,
    "start_time": "2022-03-25T08:00:43.523Z"
   },
   {
    "duration": 13,
    "start_time": "2022-03-25T08:00:43.542Z"
   },
   {
    "duration": 67,
    "start_time": "2022-03-25T08:00:43.558Z"
   },
   {
    "duration": 8,
    "start_time": "2022-03-25T08:00:43.628Z"
   },
   {
    "duration": 8,
    "start_time": "2022-03-25T08:00:43.638Z"
   },
   {
    "duration": 34471,
    "start_time": "2022-03-25T08:00:43.648Z"
   },
   {
    "duration": 2770,
    "start_time": "2022-03-25T08:01:18.121Z"
   },
   {
    "duration": 30517,
    "start_time": "2022-03-25T08:01:20.983Z"
   },
   {
    "duration": 5,
    "start_time": "2022-03-25T08:01:51.502Z"
   },
   {
    "duration": 18,
    "start_time": "2022-03-25T08:01:51.509Z"
   },
   {
    "duration": 36971,
    "start_time": "2022-03-25T08:01:51.529Z"
   },
   {
    "duration": 5,
    "start_time": "2022-03-25T08:02:28.503Z"
   },
   {
    "duration": 16,
    "start_time": "2022-03-25T08:02:28.510Z"
   },
   {
    "duration": 60,
    "start_time": "2022-03-25T08:02:28.530Z"
   },
   {
    "duration": 0,
    "start_time": "2022-03-25T08:02:28.593Z"
   },
   {
    "duration": 0,
    "start_time": "2022-03-25T08:02:28.596Z"
   },
   {
    "duration": 15,
    "start_time": "2022-03-25T08:04:01.621Z"
   },
   {
    "duration": 10,
    "start_time": "2022-03-25T08:04:15.575Z"
   },
   {
    "duration": 10,
    "start_time": "2022-03-25T08:06:12.570Z"
   },
   {
    "duration": 5,
    "start_time": "2022-03-25T08:07:24.131Z"
   },
   {
    "duration": 2138,
    "start_time": "2022-03-25T08:07:25.162Z"
   },
   {
    "duration": 2063,
    "start_time": "2022-03-25T08:08:38.258Z"
   },
   {
    "duration": 5,
    "start_time": "2022-03-25T08:41:44.381Z"
   },
   {
    "duration": 1982,
    "start_time": "2022-03-25T08:45:43.949Z"
   },
   {
    "duration": 1919,
    "start_time": "2022-03-25T08:46:05.124Z"
   },
   {
    "duration": 2050,
    "start_time": "2022-03-25T08:47:02.835Z"
   },
   {
    "duration": 1685,
    "start_time": "2022-03-25T10:46:20.254Z"
   },
   {
    "duration": 3,
    "start_time": "2022-03-25T10:46:29.550Z"
   },
   {
    "duration": 3,
    "start_time": "2022-03-25T10:46:34.801Z"
   },
   {
    "duration": 406,
    "start_time": "2022-03-25T10:46:34.806Z"
   },
   {
    "duration": 32,
    "start_time": "2022-03-25T10:46:35.214Z"
   },
   {
    "duration": 23,
    "start_time": "2022-03-25T10:46:35.248Z"
   },
   {
    "duration": 21,
    "start_time": "2022-03-25T10:46:35.273Z"
   },
   {
    "duration": 43,
    "start_time": "2022-03-25T10:46:35.296Z"
   },
   {
    "duration": 14,
    "start_time": "2022-03-25T10:46:35.341Z"
   },
   {
    "duration": 10,
    "start_time": "2022-03-25T10:46:35.356Z"
   },
   {
    "duration": 33,
    "start_time": "2022-03-25T10:46:35.368Z"
   },
   {
    "duration": 30,
    "start_time": "2022-03-25T10:46:35.402Z"
   },
   {
    "duration": 4,
    "start_time": "2022-03-25T10:46:35.433Z"
   },
   {
    "duration": 17208,
    "start_time": "2022-03-25T10:46:35.438Z"
   },
   {
    "duration": 1413,
    "start_time": "2022-03-25T10:46:52.648Z"
   },
   {
    "duration": 14914,
    "start_time": "2022-03-25T10:46:54.136Z"
   },
   {
    "duration": 4,
    "start_time": "2022-03-25T10:47:09.051Z"
   },
   {
    "duration": 10,
    "start_time": "2022-03-25T10:47:09.056Z"
   },
   {
    "duration": 16474,
    "start_time": "2022-03-25T10:47:09.068Z"
   },
   {
    "duration": 3,
    "start_time": "2022-03-25T10:47:25.544Z"
   },
   {
    "duration": 1367,
    "start_time": "2022-03-25T10:47:25.548Z"
   },
   {
    "duration": 3,
    "start_time": "2022-03-25T10:47:26.916Z"
   },
   {
    "duration": 6,
    "start_time": "2022-03-25T11:12:04.361Z"
   },
   {
    "duration": 3,
    "start_time": "2022-03-25T11:14:28.941Z"
   },
   {
    "duration": 7,
    "start_time": "2022-03-25T11:14:36.120Z"
   },
   {
    "duration": 19089,
    "start_time": "2022-03-25T11:14:42.361Z"
   },
   {
    "duration": 3,
    "start_time": "2022-03-25T11:15:01.453Z"
   },
   {
    "duration": 1445,
    "start_time": "2022-03-25T11:15:01.458Z"
   },
   {
    "duration": 6,
    "start_time": "2022-03-25T11:15:02.905Z"
   },
   {
    "duration": 7,
    "start_time": "2022-03-25T11:26:46.577Z"
   },
   {
    "duration": 6,
    "start_time": "2022-03-25T11:27:01.337Z"
   },
   {
    "duration": 116,
    "start_time": "2022-03-25T11:30:55.248Z"
   },
   {
    "duration": 20127,
    "start_time": "2022-03-25T11:33:08.127Z"
   },
   {
    "duration": 19163,
    "start_time": "2022-03-25T11:34:21.488Z"
   },
   {
    "duration": 1665,
    "start_time": "2022-03-25T11:34:44.268Z"
   },
   {
    "duration": 18771,
    "start_time": "2022-03-25T11:35:01.788Z"
   },
   {
    "duration": 3,
    "start_time": "2022-03-25T11:35:41.617Z"
   },
   {
    "duration": 7,
    "start_time": "2022-03-25T11:35:44.089Z"
   },
   {
    "duration": 3,
    "start_time": "2022-03-25T11:35:56.469Z"
   },
   {
    "duration": 4,
    "start_time": "2022-03-25T11:36:00.437Z"
   },
   {
    "duration": 18,
    "start_time": "2022-03-25T11:37:17.309Z"
   },
   {
    "duration": 13,
    "start_time": "2022-03-25T11:37:57.049Z"
   },
   {
    "duration": 14,
    "start_time": "2022-03-25T11:38:13.108Z"
   },
   {
    "duration": 22,
    "start_time": "2022-03-25T11:39:09.689Z"
   },
   {
    "duration": 23,
    "start_time": "2022-03-25T11:40:25.057Z"
   },
   {
    "duration": 5,
    "start_time": "2022-03-25T11:40:53.258Z"
   },
   {
    "duration": 4,
    "start_time": "2022-03-25T11:41:33.977Z"
   },
   {
    "duration": 19497,
    "start_time": "2022-03-25T11:41:36.049Z"
   },
   {
    "duration": 6,
    "start_time": "2022-03-25T11:42:08.209Z"
   },
   {
    "duration": 1364,
    "start_time": "2022-03-25T11:42:10.850Z"
   },
   {
    "duration": 15,
    "start_time": "2022-03-25T11:43:08.009Z"
   },
   {
    "duration": 13,
    "start_time": "2022-03-25T11:43:24.431Z"
   },
   {
    "duration": 1653,
    "start_time": "2022-03-25T11:43:33.379Z"
   },
   {
    "duration": 1565,
    "start_time": "2022-03-25T11:43:48.277Z"
   },
   {
    "duration": 17296,
    "start_time": "2022-03-25T11:43:57.150Z"
   },
   {
    "duration": 20,
    "start_time": "2022-03-25T11:44:20.358Z"
   },
   {
    "duration": 1377,
    "start_time": "2022-03-25T11:45:17.883Z"
   },
   {
    "duration": 1392,
    "start_time": "2022-03-25T11:46:38.551Z"
   },
   {
    "duration": 4,
    "start_time": "2022-03-25T11:54:11.711Z"
   },
   {
    "duration": 4,
    "start_time": "2022-03-25T11:56:54.121Z"
   },
   {
    "duration": 1509,
    "start_time": "2022-03-25T11:56:55.401Z"
   },
   {
    "duration": 1463,
    "start_time": "2022-03-25T11:58:14.471Z"
   },
   {
    "duration": 1339,
    "start_time": "2022-03-25T11:58:21.409Z"
   },
   {
    "duration": 1365,
    "start_time": "2022-03-25T12:03:50.867Z"
   },
   {
    "duration": 1362,
    "start_time": "2022-03-25T12:03:57.887Z"
   },
   {
    "duration": 3,
    "start_time": "2022-03-25T12:30:25.445Z"
   },
   {
    "duration": 1337,
    "start_time": "2022-03-25T12:30:32.653Z"
   },
   {
    "duration": 4,
    "start_time": "2022-03-25T12:31:36.105Z"
   },
   {
    "duration": 4,
    "start_time": "2022-03-25T12:36:10.569Z"
   },
   {
    "duration": 4,
    "start_time": "2022-03-25T12:36:49.063Z"
   },
   {
    "duration": 4,
    "start_time": "2022-03-25T12:40:06.431Z"
   },
   {
    "duration": 8,
    "start_time": "2022-03-25T12:40:07.782Z"
   },
   {
    "duration": 1368,
    "start_time": "2022-03-25T12:51:02.058Z"
   },
   {
    "duration": 1568,
    "start_time": "2022-03-25T12:51:59.602Z"
   },
   {
    "duration": 3,
    "start_time": "2022-03-25T12:54:29.181Z"
   },
   {
    "duration": 8,
    "start_time": "2022-03-25T12:54:29.552Z"
   },
   {
    "duration": 3,
    "start_time": "2022-03-25T12:54:31.355Z"
   },
   {
    "duration": 1317,
    "start_time": "2022-03-25T12:54:58.708Z"
   },
   {
    "duration": 3966,
    "start_time": "2022-03-25T12:56:20.274Z"
   },
   {
    "duration": 3918,
    "start_time": "2022-03-25T12:56:51.936Z"
   },
   {
    "duration": 1321,
    "start_time": "2022-03-25T12:57:54.335Z"
   },
   {
    "duration": 1315,
    "start_time": "2022-03-25T12:58:10.579Z"
   },
   {
    "duration": 1335,
    "start_time": "2022-03-25T12:58:16.735Z"
   },
   {
    "duration": 1346,
    "start_time": "2022-03-25T12:58:29.299Z"
   },
   {
    "duration": 4020,
    "start_time": "2022-03-25T12:59:45.169Z"
   },
   {
    "duration": 3982,
    "start_time": "2022-03-25T13:34:57.809Z"
   },
   {
    "duration": 1309,
    "start_time": "2022-03-25T13:38:18.680Z"
   },
   {
    "duration": 1368,
    "start_time": "2022-03-25T13:38:41.348Z"
   },
   {
    "duration": 4028,
    "start_time": "2022-03-25T13:39:25.145Z"
   },
   {
    "duration": 2063,
    "start_time": "2022-03-25T19:52:30.092Z"
   },
   {
    "duration": 5149,
    "start_time": "2022-03-25T19:52:32.157Z"
   },
   {
    "duration": 32,
    "start_time": "2022-03-25T19:52:37.309Z"
   },
   {
    "duration": 26,
    "start_time": "2022-03-25T19:52:37.344Z"
   },
   {
    "duration": 30,
    "start_time": "2022-03-25T19:52:37.372Z"
   },
   {
    "duration": 20,
    "start_time": "2022-03-25T19:52:37.404Z"
   },
   {
    "duration": 22,
    "start_time": "2022-03-25T19:52:37.426Z"
   },
   {
    "duration": 14,
    "start_time": "2022-03-25T19:52:37.450Z"
   },
   {
    "duration": 40,
    "start_time": "2022-03-25T19:52:37.466Z"
   },
   {
    "duration": 6,
    "start_time": "2022-03-25T19:52:37.509Z"
   },
   {
    "duration": 21,
    "start_time": "2022-03-25T19:52:37.517Z"
   },
   {
    "duration": 27071,
    "start_time": "2022-03-25T19:52:37.540Z"
   },
   {
    "duration": 1991,
    "start_time": "2022-03-25T19:53:04.614Z"
   },
   {
    "duration": 23807,
    "start_time": "2022-03-25T19:53:06.608Z"
   },
   {
    "duration": 5,
    "start_time": "2022-03-25T20:07:53.622Z"
   },
   {
    "duration": 10,
    "start_time": "2022-03-25T20:07:53.629Z"
   },
   {
    "duration": 4,
    "start_time": "2022-03-25T20:07:53.641Z"
   },
   {
    "duration": 4284,
    "start_time": "2022-03-25T20:07:53.648Z"
   },
   {
    "duration": 1489,
    "start_time": "2022-03-26T07:56:14.283Z"
   },
   {
    "duration": 344,
    "start_time": "2022-03-26T07:56:15.774Z"
   },
   {
    "duration": 24,
    "start_time": "2022-03-26T07:56:16.120Z"
   },
   {
    "duration": 19,
    "start_time": "2022-03-26T07:56:16.146Z"
   },
   {
    "duration": 42,
    "start_time": "2022-03-26T07:56:16.168Z"
   },
   {
    "duration": 17,
    "start_time": "2022-03-26T07:56:16.212Z"
   },
   {
    "duration": 4,
    "start_time": "2022-03-26T07:56:16.231Z"
   },
   {
    "duration": 11,
    "start_time": "2022-03-26T07:56:16.237Z"
   },
   {
    "duration": 34,
    "start_time": "2022-03-26T07:56:16.250Z"
   },
   {
    "duration": 26,
    "start_time": "2022-03-26T07:56:16.286Z"
   },
   {
    "duration": 6,
    "start_time": "2022-03-26T07:56:16.314Z"
   },
   {
    "duration": 131,
    "start_time": "2022-03-26T07:56:16.322Z"
   },
   {
    "duration": 0,
    "start_time": "2022-03-26T07:56:16.454Z"
   },
   {
    "duration": 0,
    "start_time": "2022-03-26T07:56:16.456Z"
   },
   {
    "duration": 0,
    "start_time": "2022-03-26T07:56:16.457Z"
   },
   {
    "duration": 0,
    "start_time": "2022-03-26T07:56:16.458Z"
   },
   {
    "duration": 0,
    "start_time": "2022-03-26T07:56:16.459Z"
   },
   {
    "duration": 0,
    "start_time": "2022-03-26T07:56:16.460Z"
   },
   {
    "duration": 4,
    "start_time": "2022-03-26T08:00:32.913Z"
   },
   {
    "duration": 2032,
    "start_time": "2022-03-26T08:00:32.920Z"
   },
   {
    "duration": 20,
    "start_time": "2022-03-26T08:00:34.954Z"
   },
   {
    "duration": 35,
    "start_time": "2022-03-26T08:00:34.977Z"
   },
   {
    "duration": 21,
    "start_time": "2022-03-26T08:00:35.014Z"
   },
   {
    "duration": 12,
    "start_time": "2022-03-26T08:00:35.037Z"
   },
   {
    "duration": 14,
    "start_time": "2022-03-26T08:00:35.051Z"
   },
   {
    "duration": 18,
    "start_time": "2022-03-26T08:00:35.067Z"
   },
   {
    "duration": 45,
    "start_time": "2022-03-26T08:00:35.086Z"
   },
   {
    "duration": 5,
    "start_time": "2022-03-26T08:00:35.133Z"
   },
   {
    "duration": 3,
    "start_time": "2022-03-26T08:01:35.076Z"
   },
   {
    "duration": 3,
    "start_time": "2022-03-26T08:01:43.953Z"
   },
   {
    "duration": 13,
    "start_time": "2022-03-26T08:01:46.903Z"
   },
   {
    "duration": 4,
    "start_time": "2022-03-26T08:02:00.549Z"
   },
   {
    "duration": 13,
    "start_time": "2022-03-26T08:02:02.246Z"
   },
   {
    "duration": 3,
    "start_time": "2022-03-26T08:02:12.499Z"
   },
   {
    "duration": 20,
    "start_time": "2022-03-26T08:02:13.799Z"
   },
   {
    "duration": 14,
    "start_time": "2022-03-26T08:02:19.122Z"
   },
   {
    "duration": 14,
    "start_time": "2022-03-26T08:02:21.196Z"
   },
   {
    "duration": 4,
    "start_time": "2022-03-26T08:17:38.381Z"
   },
   {
    "duration": 11,
    "start_time": "2022-03-26T08:17:48.712Z"
   },
   {
    "duration": 8,
    "start_time": "2022-03-26T08:18:12.885Z"
   },
   {
    "duration": 3,
    "start_time": "2022-03-26T08:18:27.528Z"
   },
   {
    "duration": 4022,
    "start_time": "2022-03-26T08:18:31.067Z"
   },
   {
    "duration": 1322,
    "start_time": "2022-03-26T08:19:39.032Z"
   },
   {
    "duration": 3937,
    "start_time": "2022-03-26T08:19:46.924Z"
   },
   {
    "duration": 1273,
    "start_time": "2022-03-26T08:41:44.070Z"
   },
   {
    "duration": 3855,
    "start_time": "2022-03-26T08:41:53.193Z"
   },
   {
    "duration": 4,
    "start_time": "2022-03-26T09:01:38.298Z"
   },
   {
    "duration": 387,
    "start_time": "2022-03-26T09:01:38.305Z"
   },
   {
    "duration": 27,
    "start_time": "2022-03-26T09:01:38.694Z"
   },
   {
    "duration": 21,
    "start_time": "2022-03-26T09:01:38.722Z"
   },
   {
    "duration": 20,
    "start_time": "2022-03-26T09:01:38.746Z"
   },
   {
    "duration": 14,
    "start_time": "2022-03-26T09:01:38.768Z"
   },
   {
    "duration": 26,
    "start_time": "2022-03-26T09:01:38.784Z"
   },
   {
    "duration": 10,
    "start_time": "2022-03-26T09:01:38.812Z"
   },
   {
    "duration": 25,
    "start_time": "2022-03-26T09:01:38.823Z"
   },
   {
    "duration": 5,
    "start_time": "2022-03-26T09:01:38.850Z"
   },
   {
    "duration": 3,
    "start_time": "2022-03-26T09:01:38.857Z"
   },
   {
    "duration": 56,
    "start_time": "2022-03-26T09:01:38.861Z"
   },
   {
    "duration": 96,
    "start_time": "2022-03-26T09:01:38.920Z"
   },
   {
    "duration": 195,
    "start_time": "2022-03-26T09:01:39.019Z"
   },
   {
    "duration": 6,
    "start_time": "2022-03-26T09:01:39.216Z"
   },
   {
    "duration": 102,
    "start_time": "2022-03-26T09:01:39.309Z"
   },
   {
    "duration": 3,
    "start_time": "2022-03-26T09:01:39.413Z"
   },
   {
    "duration": 4037,
    "start_time": "2022-03-26T09:01:39.418Z"
   },
   {
    "duration": 2190,
    "start_time": "2022-03-26T21:14:40.494Z"
   },
   {
    "duration": 446,
    "start_time": "2022-03-26T21:14:42.687Z"
   },
   {
    "duration": 54,
    "start_time": "2022-03-26T21:14:43.135Z"
   },
   {
    "duration": 41,
    "start_time": "2022-03-26T21:14:43.192Z"
   },
   {
    "duration": 70,
    "start_time": "2022-03-26T21:14:43.238Z"
   },
   {
    "duration": 32,
    "start_time": "2022-03-26T21:14:43.311Z"
   },
   {
    "duration": 9,
    "start_time": "2022-03-26T21:14:43.346Z"
   },
   {
    "duration": 32,
    "start_time": "2022-03-26T21:14:43.358Z"
   },
   {
    "duration": 68,
    "start_time": "2022-03-26T21:14:43.393Z"
   },
   {
    "duration": 9,
    "start_time": "2022-03-26T21:14:43.463Z"
   },
   {
    "duration": 19,
    "start_time": "2022-03-26T21:14:43.474Z"
   },
   {
    "duration": 88,
    "start_time": "2022-03-26T21:14:43.495Z"
   },
   {
    "duration": 108,
    "start_time": "2022-03-26T21:14:43.587Z"
   },
   {
    "duration": 201,
    "start_time": "2022-03-26T21:14:43.701Z"
   },
   {
    "duration": 93,
    "start_time": "2022-03-26T21:14:43.993Z"
   },
   {
    "duration": 14,
    "start_time": "2022-03-26T21:14:44.089Z"
   },
   {
    "duration": 6,
    "start_time": "2022-03-26T21:14:44.106Z"
   },
   {
    "duration": 9335,
    "start_time": "2022-03-26T21:14:44.115Z"
   },
   {
    "duration": 1700,
    "start_time": "2022-03-27T13:32:46.342Z"
   },
   {
    "duration": 404,
    "start_time": "2022-03-27T13:32:48.044Z"
   },
   {
    "duration": 23,
    "start_time": "2022-03-27T13:32:48.449Z"
   },
   {
    "duration": 29,
    "start_time": "2022-03-27T13:32:48.480Z"
   },
   {
    "duration": 28,
    "start_time": "2022-03-27T13:32:48.510Z"
   },
   {
    "duration": 13,
    "start_time": "2022-03-27T13:32:48.540Z"
   },
   {
    "duration": 5,
    "start_time": "2022-03-27T13:32:48.554Z"
   },
   {
    "duration": 32,
    "start_time": "2022-03-27T13:32:48.560Z"
   },
   {
    "duration": 45,
    "start_time": "2022-03-27T13:32:48.594Z"
   },
   {
    "duration": 5,
    "start_time": "2022-03-27T13:32:48.642Z"
   },
   {
    "duration": 7,
    "start_time": "2022-03-27T13:32:48.648Z"
   },
   {
    "duration": 27,
    "start_time": "2022-03-27T13:32:48.656Z"
   },
   {
    "duration": 130,
    "start_time": "2022-03-27T13:32:48.685Z"
   },
   {
    "duration": 124,
    "start_time": "2022-03-27T13:32:48.882Z"
   },
   {
    "duration": 80,
    "start_time": "2022-03-27T13:32:49.008Z"
   },
   {
    "duration": 105,
    "start_time": "2022-03-27T13:32:49.092Z"
   },
   {
    "duration": 17,
    "start_time": "2022-03-27T13:32:49.199Z"
   },
   {
    "duration": 3703,
    "start_time": "2022-03-27T13:32:49.218Z"
   },
   {
    "duration": 3,
    "start_time": "2022-03-27T13:32:56.945Z"
   },
   {
    "duration": 4,
    "start_time": "2022-03-27T13:33:14.401Z"
   },
   {
    "duration": 8,
    "start_time": "2022-03-27T13:33:21.197Z"
   },
   {
    "duration": 3,
    "start_time": "2022-03-27T13:35:05.174Z"
   },
   {
    "duration": 3689,
    "start_time": "2022-03-27T13:35:42.397Z"
   },
   {
    "duration": 3883,
    "start_time": "2022-03-27T13:36:00.532Z"
   },
   {
    "duration": 3671,
    "start_time": "2022-03-27T13:36:22.298Z"
   },
   {
    "duration": 4008,
    "start_time": "2022-03-27T13:37:18.110Z"
   },
   {
    "duration": 3584,
    "start_time": "2022-03-27T13:37:38.234Z"
   }
  ],
  "kernelspec": {
   "display_name": "Python 3 (ipykernel)",
   "language": "python",
   "name": "python3"
  },
  "language_info": {
   "codemirror_mode": {
    "name": "ipython",
    "version": 3
   },
   "file_extension": ".py",
   "mimetype": "text/x-python",
   "name": "python",
   "nbconvert_exporter": "python",
   "pygments_lexer": "ipython3",
   "version": "3.9.9"
  },
  "toc": {
   "base_numbering": 1,
   "nav_menu": {},
   "number_sections": true,
   "sideBar": true,
   "skip_h1_title": true,
   "title_cell": "Table of Contents",
   "title_sidebar": "Contents",
   "toc_cell": false,
   "toc_position": {},
   "toc_section_display": true,
   "toc_window_display": false
  }
 },
 "nbformat": 4,
 "nbformat_minor": 4
}
