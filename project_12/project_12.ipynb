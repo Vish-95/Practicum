{
 "cells": [
  {
   "cell_type": "markdown",
   "id": "7b083714",
   "metadata": {},
   "source": [
    "### Описание проекта"
   ]
  },
  {
   "cell_type": "markdown",
   "id": "dd23b9ba",
   "metadata": {},
   "source": [
    "Компания «Чётенькое такси» собрала исторические данные о заказах такси в аэропортах. Чтобы привлекать больше водителей в период пиковой нагрузки, нужно спрогнозировать количество заказов такси на следующий час. Постройте модель для такого предсказания."
   ]
  },
  {
   "cell_type": "code",
   "execution_count": 1,
   "id": "39f1c6a9",
   "metadata": {},
   "outputs": [],
   "source": [
    "import matplotlib.pyplot as plt\n",
    "import numpy as np\n",
    "import pandas as pd\n",
    "import seaborn as sns\n",
    "from statsmodels.tsa.seasonal import seasonal_decompose\n",
    "from sklearn.metrics import mean_squared_error\n",
    "from sklearn.model_selection import train_test_split\n",
    "from sklearn.model_selection import cross_val_score\n",
    "from sklearn.model_selection import GridSearchCV\n",
    "from sklearn.linear_model import LinearRegression\n",
    "from sklearn.tree import DecisionTreeRegressor\n",
    "from sklearn.ensemble import RandomForestRegressor\n",
    "from sklearn.model_selection import TimeSeriesSplit\n",
    "import xgboost as xgb\n",
    "\n",
    "RANDOM_STATE = 1234"
   ]
  },
  {
   "cell_type": "markdown",
   "id": "1b884998",
   "metadata": {},
   "source": [
    "### Изучение данных из файла"
   ]
  },
  {
   "cell_type": "code",
   "execution_count": 2,
   "id": "67b9538e",
   "metadata": {
    "code_folding": []
   },
   "outputs": [],
   "source": [
    "path = ''\n",
    "#path = '/datasets/'\n",
    "data = pd.read_csv(path + 'taxi.csv', index_col=[0], parse_dates=[0])"
   ]
  },
  {
   "cell_type": "code",
   "execution_count": 3,
   "id": "38bc2652",
   "metadata": {},
   "outputs": [],
   "source": [
    "data.sort_index(inplace=True)\n",
    "df = data.resample('1H').sum()"
   ]
  },
  {
   "cell_type": "code",
   "execution_count": 4,
   "id": "6006c1fc",
   "metadata": {},
   "outputs": [
    {
     "data": {
      "text/html": [
       "<div>\n",
       "<style scoped>\n",
       "    .dataframe tbody tr th:only-of-type {\n",
       "        vertical-align: middle;\n",
       "    }\n",
       "\n",
       "    .dataframe tbody tr th {\n",
       "        vertical-align: top;\n",
       "    }\n",
       "\n",
       "    .dataframe thead th {\n",
       "        text-align: right;\n",
       "    }\n",
       "</style>\n",
       "<table border=\"1\" class=\"dataframe\">\n",
       "  <thead>\n",
       "    <tr style=\"text-align: right;\">\n",
       "      <th></th>\n",
       "      <th>num_orders</th>\n",
       "    </tr>\n",
       "    <tr>\n",
       "      <th>datetime</th>\n",
       "      <th></th>\n",
       "    </tr>\n",
       "  </thead>\n",
       "  <tbody>\n",
       "    <tr>\n",
       "      <th>2018-03-01 00:00:00</th>\n",
       "      <td>124</td>\n",
       "    </tr>\n",
       "    <tr>\n",
       "      <th>2018-03-01 01:00:00</th>\n",
       "      <td>85</td>\n",
       "    </tr>\n",
       "    <tr>\n",
       "      <th>2018-03-01 02:00:00</th>\n",
       "      <td>71</td>\n",
       "    </tr>\n",
       "    <tr>\n",
       "      <th>2018-03-01 03:00:00</th>\n",
       "      <td>66</td>\n",
       "    </tr>\n",
       "    <tr>\n",
       "      <th>2018-03-01 04:00:00</th>\n",
       "      <td>43</td>\n",
       "    </tr>\n",
       "  </tbody>\n",
       "</table>\n",
       "</div>"
      ],
      "text/plain": [
       "                     num_orders\n",
       "datetime                       \n",
       "2018-03-01 00:00:00         124\n",
       "2018-03-01 01:00:00          85\n",
       "2018-03-01 02:00:00          71\n",
       "2018-03-01 03:00:00          66\n",
       "2018-03-01 04:00:00          43"
      ]
     },
     "execution_count": 4,
     "metadata": {},
     "output_type": "execute_result"
    }
   ],
   "source": [
    "df.head()"
   ]
  },
  {
   "cell_type": "code",
   "execution_count": 5,
   "id": "ed94a930",
   "metadata": {},
   "outputs": [
    {
     "name": "stdout",
     "output_type": "stream",
     "text": [
      "<class 'pandas.core.frame.DataFrame'>\n",
      "DatetimeIndex: 4416 entries, 2018-03-01 00:00:00 to 2018-08-31 23:00:00\n",
      "Freq: H\n",
      "Data columns (total 1 columns):\n",
      " #   Column      Non-Null Count  Dtype\n",
      "---  ------      --------------  -----\n",
      " 0   num_orders  4416 non-null   int64\n",
      "dtypes: int64(1)\n",
      "memory usage: 69.0 KB\n"
     ]
    }
   ],
   "source": [
    "df.info()"
   ]
  },
  {
   "cell_type": "markdown",
   "id": "4e1e2e89",
   "metadata": {},
   "source": [
    "**Согласно документации к данным**"
   ]
  },
  {
   "cell_type": "markdown",
   "id": "3806355e",
   "metadata": {},
   "source": [
    "Целевой признак:\n",
    "- 'num_orders' – количество заказов "
   ]
  },
  {
   "cell_type": "markdown",
   "id": "03132e37",
   "metadata": {},
   "source": [
    "**Пропуски**"
   ]
  },
  {
   "cell_type": "code",
   "execution_count": 6,
   "id": "1c3b3b46",
   "metadata": {
    "scrolled": false
   },
   "outputs": [
    {
     "data": {
      "text/plain": [
       "num_orders    0\n",
       "dtype: int64"
      ]
     },
     "execution_count": 6,
     "metadata": {},
     "output_type": "execute_result"
    }
   ],
   "source": [
    "df.isna().sum()"
   ]
  },
  {
   "cell_type": "markdown",
   "id": "78e08451",
   "metadata": {},
   "source": [
    "**Вывод**\n",
    "\n",
    "- Данные представлены за 6 месяцев с марта по август 2018 г.\n",
    "- Пропуски в данных отсутвуют. Количество объектов в датасете достаточно.\n",
    "- Целевой признак имеет целочисленный тип. "
   ]
  },
  {
   "cell_type": "markdown",
   "id": "0d0c2680",
   "metadata": {},
   "source": [
    "### Предобработка данных"
   ]
  },
  {
   "cell_type": "code",
   "execution_count": 7,
   "id": "c67a5184",
   "metadata": {
    "scrolled": true
   },
   "outputs": [
    {
     "data": {
      "text/html": [
       "<div>\n",
       "<style scoped>\n",
       "    .dataframe tbody tr th:only-of-type {\n",
       "        vertical-align: middle;\n",
       "    }\n",
       "\n",
       "    .dataframe tbody tr th {\n",
       "        vertical-align: top;\n",
       "    }\n",
       "\n",
       "    .dataframe thead th {\n",
       "        text-align: right;\n",
       "    }\n",
       "</style>\n",
       "<table border=\"1\" class=\"dataframe\">\n",
       "  <thead>\n",
       "    <tr style=\"text-align: right;\">\n",
       "      <th></th>\n",
       "      <th>num_orders</th>\n",
       "    </tr>\n",
       "  </thead>\n",
       "  <tbody>\n",
       "    <tr>\n",
       "      <th>count</th>\n",
       "      <td>4416.000000</td>\n",
       "    </tr>\n",
       "    <tr>\n",
       "      <th>mean</th>\n",
       "      <td>84.422781</td>\n",
       "    </tr>\n",
       "    <tr>\n",
       "      <th>std</th>\n",
       "      <td>45.023853</td>\n",
       "    </tr>\n",
       "    <tr>\n",
       "      <th>min</th>\n",
       "      <td>0.000000</td>\n",
       "    </tr>\n",
       "    <tr>\n",
       "      <th>25%</th>\n",
       "      <td>54.000000</td>\n",
       "    </tr>\n",
       "    <tr>\n",
       "      <th>50%</th>\n",
       "      <td>78.000000</td>\n",
       "    </tr>\n",
       "    <tr>\n",
       "      <th>75%</th>\n",
       "      <td>107.000000</td>\n",
       "    </tr>\n",
       "    <tr>\n",
       "      <th>max</th>\n",
       "      <td>462.000000</td>\n",
       "    </tr>\n",
       "  </tbody>\n",
       "</table>\n",
       "</div>"
      ],
      "text/plain": [
       "        num_orders\n",
       "count  4416.000000\n",
       "mean     84.422781\n",
       "std      45.023853\n",
       "min       0.000000\n",
       "25%      54.000000\n",
       "50%      78.000000\n",
       "75%     107.000000\n",
       "max     462.000000"
      ]
     },
     "execution_count": 7,
     "metadata": {},
     "output_type": "execute_result"
    }
   ],
   "source": [
    "df.describe()"
   ]
  },
  {
   "cell_type": "markdown",
   "id": "c8314658",
   "metadata": {},
   "source": [
    "- Тренд и сезонность"
   ]
  },
  {
   "cell_type": "code",
   "execution_count": 8,
   "id": "f3a5b74c",
   "metadata": {},
   "outputs": [
    {
     "data": {
      "image/png": "[encoded data removed]",
      "text/plain": [
       "<Figure size 576x288 with 1 Axes>"
      ]
     },
     "metadata": {
      "needs_background": "light"
     },
     "output_type": "display_data"
    },
    {
     "data": {
      "image/png": "[encoded data removed]",
      "text/plain": [
       "<Figure size 576x288 with 1 Axes>"
      ]
     },
     "metadata": {
      "needs_background": "light"
     },
     "output_type": "display_data"
    }
   ],
   "source": [
    "decomposed = seasonal_decompose(df['2018-03-01':'2018-03-02'])\n",
    "plt.figure(figsize=(8, 4))\n",
    "decomposed.seasonal.plot(ax=plt.gca())\n",
    "decomposed = seasonal_decompose(df['2018-06-01':'2018-06-02'])\n",
    "plt.figure(figsize=(8, 4))\n",
    "decomposed.seasonal.plot(ax=plt.gca())\n",
    "plt.title('Seasonality')\n",
    "plt.tight_layout()\n",
    "plt.title('Seasonality')\n",
    "plt.tight_layout()"
   ]
  },
  {
   "cell_type": "code",
   "execution_count": 9,
   "id": "970d0cfe",
   "metadata": {},
   "outputs": [],
   "source": [
    "decomposed = seasonal_decompose(data.resample('1D').sum())"
   ]
  },
  {
   "cell_type": "code",
   "execution_count": 10,
   "id": "284411e9",
   "metadata": {},
   "outputs": [
    {
     "data": {
      "image/png": "[encoded data removed]",
      "text/plain": [
       "<Figure size 432x576 with 3 Axes>"
      ]
     },
     "metadata": {
      "needs_background": "light"
     },
     "output_type": "display_data"
    }
   ],
   "source": [
    "plt.figure(figsize=(6, 8))\n",
    "plt.subplot(311)\n",
    "decomposed.trend.plot(ax=plt.gca())\n",
    "plt.title('Trend')\n",
    "plt.subplot(312)\n",
    "decomposed.seasonal.plot(ax=plt.gca())\n",
    "plt.title('Seasonality')\n",
    "plt.subplot(313)\n",
    "decomposed.resid.plot(ax=plt.gca())\n",
    "plt.title('Residuals')\n",
    "plt.tight_layout()"
   ]
  },
  {
   "cell_type": "markdown",
   "id": "7ccee768",
   "metadata": {},
   "source": [
    "Есть тренд и сезонность. Исследуем ряд на стационарность. "
   ]
  },
  {
   "cell_type": "markdown",
   "id": "2c3fc81e",
   "metadata": {},
   "source": [
    "- Стационарность временного ряда:"
   ]
  },
  {
   "cell_type": "code",
   "execution_count": 11,
   "id": "59876acb",
   "metadata": {},
   "outputs": [
    {
     "data": {
      "image/png": "[encoded data removed]",
      "text/plain": [
       "<Figure size 720x576 with 1 Axes>"
      ]
     },
     "metadata": {
      "needs_background": "light"
     },
     "output_type": "display_data"
    }
   ],
   "source": [
    "data = data.resample('1D').sum()\n",
    "data['mean'] = data['num_orders'].rolling(15).mean()\n",
    "data['std'] = data['num_orders'].rolling(15).std()\n",
    "data.plot(figsize=(10, 8));"
   ]
  },
  {
   "cell_type": "markdown",
   "id": "d2489a0d",
   "metadata": {},
   "source": [
    "Среднее и стандартное отклонение временного ряда меняются, следовательно исходный ряд нестационарен. \n",
    "\n",
    "Добавим столбец разностей временного ряда:"
   ]
  },
  {
   "cell_type": "code",
   "execution_count": 12,
   "id": "75c85472",
   "metadata": {
    "scrolled": false
   },
   "outputs": [
    {
     "data": {
      "image/png": "[encoded data removed]",
      "text/plain": [
       "<Figure size 720x576 with 1 Axes>"
      ]
     },
     "metadata": {
      "needs_background": "light"
     },
     "output_type": "display_data"
    }
   ],
   "source": [
    "data = df - df.shift()\n",
    "data = data['2018-01':'2018-06'].resample('1D').sum()\n",
    "data['mean'] = data['num_orders'].rolling(15).mean()\n",
    "data['std'] = data['num_orders'].rolling(15).std()\n",
    "data.plot(figsize=(10, 8));"
   ]
  },
  {
   "cell_type": "markdown",
   "id": "d735781a",
   "metadata": {},
   "source": [
    "Тренд отсутвует, разности временного ряда более стационарны."
   ]
  },
  {
   "cell_type": "markdown",
   "id": "f1853b58",
   "metadata": {},
   "source": [
    "- Создадим новые признаки:"
   ]
  },
  {
   "cell_type": "code",
   "execution_count": 13,
   "id": "30a84d3d",
   "metadata": {
    "scrolled": true
   },
   "outputs": [],
   "source": [
    "def make_features(data, name_target, max_lag, rolling_mean_size):\n",
    "    data['dayofweek'] = data.index.dayofweek\n",
    "    data['hour'] = data.index.hour\n",
    "    for lag in range(1, max_lag + 1):\n",
    "        data['lag_{}'.format(lag)] = data[name_target].shift(lag)\n",
    "\n",
    "    data['rolling_mean'] = data[name_target].shift().rolling(rolling_mean_size).mean()"
   ]
  },
  {
   "cell_type": "code",
   "execution_count": 14,
   "id": "99bede8e",
   "metadata": {},
   "outputs": [
    {
     "data": {
      "text/html": [
       "<div>\n",
       "<style scoped>\n",
       "    .dataframe tbody tr th:only-of-type {\n",
       "        vertical-align: middle;\n",
       "    }\n",
       "\n",
       "    .dataframe tbody tr th {\n",
       "        vertical-align: top;\n",
       "    }\n",
       "\n",
       "    .dataframe thead th {\n",
       "        text-align: right;\n",
       "    }\n",
       "</style>\n",
       "<table border=\"1\" class=\"dataframe\">\n",
       "  <thead>\n",
       "    <tr style=\"text-align: right;\">\n",
       "      <th></th>\n",
       "      <th>num_orders</th>\n",
       "      <th>dayofweek</th>\n",
       "      <th>hour</th>\n",
       "      <th>lag_1</th>\n",
       "      <th>lag_2</th>\n",
       "      <th>lag_3</th>\n",
       "      <th>lag_4</th>\n",
       "      <th>rolling_mean</th>\n",
       "    </tr>\n",
       "    <tr>\n",
       "      <th>datetime</th>\n",
       "      <th></th>\n",
       "      <th></th>\n",
       "      <th></th>\n",
       "      <th></th>\n",
       "      <th></th>\n",
       "      <th></th>\n",
       "      <th></th>\n",
       "      <th></th>\n",
       "    </tr>\n",
       "  </thead>\n",
       "  <tbody>\n",
       "    <tr>\n",
       "      <th>2018-03-01 00:00:00</th>\n",
       "      <td>124</td>\n",
       "      <td>3</td>\n",
       "      <td>0</td>\n",
       "      <td>NaN</td>\n",
       "      <td>NaN</td>\n",
       "      <td>NaN</td>\n",
       "      <td>NaN</td>\n",
       "      <td>NaN</td>\n",
       "    </tr>\n",
       "    <tr>\n",
       "      <th>2018-03-01 01:00:00</th>\n",
       "      <td>85</td>\n",
       "      <td>3</td>\n",
       "      <td>1</td>\n",
       "      <td>124.0</td>\n",
       "      <td>NaN</td>\n",
       "      <td>NaN</td>\n",
       "      <td>NaN</td>\n",
       "      <td>NaN</td>\n",
       "    </tr>\n",
       "    <tr>\n",
       "      <th>2018-03-01 02:00:00</th>\n",
       "      <td>71</td>\n",
       "      <td>3</td>\n",
       "      <td>2</td>\n",
       "      <td>85.0</td>\n",
       "      <td>124.0</td>\n",
       "      <td>NaN</td>\n",
       "      <td>NaN</td>\n",
       "      <td>NaN</td>\n",
       "    </tr>\n",
       "    <tr>\n",
       "      <th>2018-03-01 03:00:00</th>\n",
       "      <td>66</td>\n",
       "      <td>3</td>\n",
       "      <td>3</td>\n",
       "      <td>71.0</td>\n",
       "      <td>85.0</td>\n",
       "      <td>124.0</td>\n",
       "      <td>NaN</td>\n",
       "      <td>NaN</td>\n",
       "    </tr>\n",
       "    <tr>\n",
       "      <th>2018-03-01 04:00:00</th>\n",
       "      <td>43</td>\n",
       "      <td>3</td>\n",
       "      <td>4</td>\n",
       "      <td>66.0</td>\n",
       "      <td>71.0</td>\n",
       "      <td>85.0</td>\n",
       "      <td>124.0</td>\n",
       "      <td>NaN</td>\n",
       "    </tr>\n",
       "  </tbody>\n",
       "</table>\n",
       "</div>"
      ],
      "text/plain": [
       "                     num_orders  dayofweek  hour  lag_1  lag_2  lag_3  lag_4  \\\n",
       "datetime                                                                       \n",
       "2018-03-01 00:00:00         124          3     0    NaN    NaN    NaN    NaN   \n",
       "2018-03-01 01:00:00          85          3     1  124.0    NaN    NaN    NaN   \n",
       "2018-03-01 02:00:00          71          3     2   85.0  124.0    NaN    NaN   \n",
       "2018-03-01 03:00:00          66          3     3   71.0   85.0  124.0    NaN   \n",
       "2018-03-01 04:00:00          43          3     4   66.0   71.0   85.0  124.0   \n",
       "\n",
       "                     rolling_mean  \n",
       "datetime                           \n",
       "2018-03-01 00:00:00           NaN  \n",
       "2018-03-01 01:00:00           NaN  \n",
       "2018-03-01 02:00:00           NaN  \n",
       "2018-03-01 03:00:00           NaN  \n",
       "2018-03-01 04:00:00           NaN  "
      ]
     },
     "execution_count": 14,
     "metadata": {},
     "output_type": "execute_result"
    }
   ],
   "source": [
    "make_features(df, 'num_orders', 4, 24)\n",
    "\n",
    "df.head()"
   ]
  },
  {
   "cell_type": "markdown",
   "id": "83ee3fe1",
   "metadata": {},
   "source": [
    "   \n",
    "- **Работа с аномальными значениями**"
   ]
  },
  {
   "cell_type": "code",
   "execution_count": 15,
   "id": "2ab17247",
   "metadata": {
    "scrolled": true
   },
   "outputs": [],
   "source": [
    "anomalies = df.query('num_orders > 180')[['num_orders', 'dayofweek', 'hour']]"
   ]
  },
  {
   "cell_type": "code",
   "execution_count": 16,
   "id": "e02cca0a",
   "metadata": {},
   "outputs": [
    {
     "name": "stdout",
     "output_type": "stream",
     "text": [
      "[5 1 3 4 0 6 2]\n"
     ]
    },
    {
     "data": {
      "text/plain": [
       "array([ 1,  0, 22, 23,  2,  3, 17,  4, 10, 16, 21, 15,  9, 14, 20,  8, 18])"
      ]
     },
     "execution_count": 16,
     "metadata": {},
     "output_type": "execute_result"
    }
   ],
   "source": [
    "print(anomalies.dayofweek.unique())\n",
    "anomalies.hour.unique()"
   ]
  },
  {
   "cell_type": "code",
   "execution_count": 17,
   "id": "e3976b56",
   "metadata": {
    "scrolled": false
   },
   "outputs": [
    {
     "data": {
      "image/png": "[encoded data removed]",
      "text/plain": [
       "<Figure size 432x288 with 1 Axes>"
      ]
     },
     "metadata": {
      "needs_background": "light"
     },
     "output_type": "display_data"
    },
    {
     "data": {
      "image/png": "[encoded data removed]",
      "text/plain": [
       "<Figure size 432x288 with 1 Axes>"
      ]
     },
     "metadata": {
      "needs_background": "light"
     },
     "output_type": "display_data"
    }
   ],
   "source": [
    "anomalies.pivot_table(index='dayofweek', values='num_orders', aggfunc='mean').plot().set(title='Среднее кол-во заказов по дням недели')\n",
    "df.pivot_table(index='hour', values='num_orders', aggfunc='mean').plot(kind='bar').set(title='распределение заказов по часам')\n",
    "plt.show()"
   ]
  },
  {
   "cell_type": "markdown",
   "id": "3ddbf4a3",
   "metadata": {},
   "source": [
    "На графике зависимости количесвта заказов от дня недели видно, что наибольшее количество заказов в пн.\n",
    "\n",
    "На гистограмме распределения заказов по часам:\n",
    "- Пики в 24 часа и в 16 часов;\n",
    "- Минимальное количество заказов 6-7 часов."
   ]
  },
  {
   "cell_type": "markdown",
   "id": "1acfd419",
   "metadata": {},
   "source": [
    "Рассмотрим количесвто заказов по понедельникам: "
   ]
  },
  {
   "cell_type": "code",
   "execution_count": 18,
   "id": "b670f7b7",
   "metadata": {
    "scrolled": false
   },
   "outputs": [
    {
     "data": {
      "text/plain": [
       "<AxesSubplot:xlabel='datetime'>"
      ]
     },
     "execution_count": 18,
     "metadata": {},
     "output_type": "execute_result"
    },
    {
     "data": {
      "image/png": "[encoded data removed]",
      "text/plain": [
       "<Figure size 432x288 with 1 Axes>"
      ]
     },
     "metadata": {
      "needs_background": "light"
     },
     "output_type": "display_data"
    }
   ],
   "source": [
    "df.query('dayofweek == 0')['num_orders'].plot()"
   ]
  },
  {
   "cell_type": "code",
   "execution_count": 19,
   "id": "0ad9c4c7",
   "metadata": {},
   "outputs": [
    {
     "data": {
      "image/png": "[encoded data removed]",
      "text/plain": [
       "<Figure size 432x288 with 1 Axes>"
      ]
     },
     "metadata": {
      "needs_background": "light"
     },
     "output_type": "display_data"
    }
   ],
   "source": [
    "temp = df['2018-08':].query('dayofweek == 0')\n",
    "temp.pivot_table(index='hour', values='num_orders', aggfunc='mean').plot(kind='bar').set(title='распределение заказов по часам')\n",
    "plt.show()"
   ]
  },
  {
   "cell_type": "markdown",
   "id": "e1ad7f10",
   "metadata": {},
   "source": [
    "Пики по понедельникам приходятся на август. В этот период максимальное количество заказов в 2 часа, минимальное 6-7 часов. Рассмотрим данные за август:"
   ]
  },
  {
   "cell_type": "code",
   "execution_count": 20,
   "id": "de07ce7f",
   "metadata": {
    "scrolled": false
   },
   "outputs": [
    {
     "data": {
      "text/html": [
       "<div>\n",
       "<style scoped>\n",
       "    .dataframe tbody tr th:only-of-type {\n",
       "        vertical-align: middle;\n",
       "    }\n",
       "\n",
       "    .dataframe tbody tr th {\n",
       "        vertical-align: top;\n",
       "    }\n",
       "\n",
       "    .dataframe thead th {\n",
       "        text-align: right;\n",
       "    }\n",
       "</style>\n",
       "<table border=\"1\" class=\"dataframe\">\n",
       "  <thead>\n",
       "    <tr style=\"text-align: right;\">\n",
       "      <th></th>\n",
       "      <th>num_orders</th>\n",
       "      <th>dayofweek</th>\n",
       "      <th>hour</th>\n",
       "      <th>lag_1</th>\n",
       "      <th>lag_2</th>\n",
       "      <th>lag_3</th>\n",
       "      <th>lag_4</th>\n",
       "      <th>rolling_mean</th>\n",
       "    </tr>\n",
       "    <tr>\n",
       "      <th>datetime</th>\n",
       "      <th></th>\n",
       "      <th></th>\n",
       "      <th></th>\n",
       "      <th></th>\n",
       "      <th></th>\n",
       "      <th></th>\n",
       "      <th></th>\n",
       "      <th></th>\n",
       "    </tr>\n",
       "  </thead>\n",
       "  <tbody>\n",
       "    <tr>\n",
       "      <th>2018-08-06 01:00:00</th>\n",
       "      <td>170</td>\n",
       "      <td>0</td>\n",
       "      <td>1</td>\n",
       "      <td>248.0</td>\n",
       "      <td>144.0</td>\n",
       "      <td>97.0</td>\n",
       "      <td>101.0</td>\n",
       "      <td>101.500000</td>\n",
       "    </tr>\n",
       "    <tr>\n",
       "      <th>2018-08-06 02:00:00</th>\n",
       "      <td>104</td>\n",
       "      <td>0</td>\n",
       "      <td>2</td>\n",
       "      <td>170.0</td>\n",
       "      <td>248.0</td>\n",
       "      <td>144.0</td>\n",
       "      <td>97.0</td>\n",
       "      <td>103.833333</td>\n",
       "    </tr>\n",
       "    <tr>\n",
       "      <th>2018-08-06 03:00:00</th>\n",
       "      <td>184</td>\n",
       "      <td>0</td>\n",
       "      <td>3</td>\n",
       "      <td>104.0</td>\n",
       "      <td>170.0</td>\n",
       "      <td>248.0</td>\n",
       "      <td>144.0</td>\n",
       "      <td>102.041667</td>\n",
       "    </tr>\n",
       "    <tr>\n",
       "      <th>2018-08-13 01:00:00</th>\n",
       "      <td>273</td>\n",
       "      <td>0</td>\n",
       "      <td>1</td>\n",
       "      <td>160.0</td>\n",
       "      <td>185.0</td>\n",
       "      <td>118.0</td>\n",
       "      <td>135.0</td>\n",
       "      <td>112.166667</td>\n",
       "    </tr>\n",
       "    <tr>\n",
       "      <th>2018-08-13 02:00:00</th>\n",
       "      <td>437</td>\n",
       "      <td>0</td>\n",
       "      <td>2</td>\n",
       "      <td>273.0</td>\n",
       "      <td>160.0</td>\n",
       "      <td>185.0</td>\n",
       "      <td>118.0</td>\n",
       "      <td>116.166667</td>\n",
       "    </tr>\n",
       "    <tr>\n",
       "      <th>2018-08-13 03:00:00</th>\n",
       "      <td>168</td>\n",
       "      <td>0</td>\n",
       "      <td>3</td>\n",
       "      <td>437.0</td>\n",
       "      <td>273.0</td>\n",
       "      <td>160.0</td>\n",
       "      <td>185.0</td>\n",
       "      <td>127.833333</td>\n",
       "    </tr>\n",
       "    <tr>\n",
       "      <th>2018-08-20 01:00:00</th>\n",
       "      <td>272</td>\n",
       "      <td>0</td>\n",
       "      <td>1</td>\n",
       "      <td>200.0</td>\n",
       "      <td>167.0</td>\n",
       "      <td>121.0</td>\n",
       "      <td>93.0</td>\n",
       "      <td>117.583333</td>\n",
       "    </tr>\n",
       "    <tr>\n",
       "      <th>2018-08-20 02:00:00</th>\n",
       "      <td>462</td>\n",
       "      <td>0</td>\n",
       "      <td>2</td>\n",
       "      <td>272.0</td>\n",
       "      <td>200.0</td>\n",
       "      <td>167.0</td>\n",
       "      <td>121.0</td>\n",
       "      <td>125.041667</td>\n",
       "    </tr>\n",
       "    <tr>\n",
       "      <th>2018-08-20 03:00:00</th>\n",
       "      <td>224</td>\n",
       "      <td>0</td>\n",
       "      <td>3</td>\n",
       "      <td>462.0</td>\n",
       "      <td>272.0</td>\n",
       "      <td>200.0</td>\n",
       "      <td>167.0</td>\n",
       "      <td>138.708333</td>\n",
       "    </tr>\n",
       "    <tr>\n",
       "      <th>2018-08-27 01:00:00</th>\n",
       "      <td>222</td>\n",
       "      <td>0</td>\n",
       "      <td>1</td>\n",
       "      <td>263.0</td>\n",
       "      <td>238.0</td>\n",
       "      <td>145.0</td>\n",
       "      <td>107.0</td>\n",
       "      <td>137.375000</td>\n",
       "    </tr>\n",
       "    <tr>\n",
       "      <th>2018-08-27 02:00:00</th>\n",
       "      <td>408</td>\n",
       "      <td>0</td>\n",
       "      <td>2</td>\n",
       "      <td>222.0</td>\n",
       "      <td>263.0</td>\n",
       "      <td>238.0</td>\n",
       "      <td>145.0</td>\n",
       "      <td>140.125000</td>\n",
       "    </tr>\n",
       "    <tr>\n",
       "      <th>2018-08-27 03:00:00</th>\n",
       "      <td>208</td>\n",
       "      <td>0</td>\n",
       "      <td>3</td>\n",
       "      <td>408.0</td>\n",
       "      <td>222.0</td>\n",
       "      <td>263.0</td>\n",
       "      <td>238.0</td>\n",
       "      <td>150.958333</td>\n",
       "    </tr>\n",
       "  </tbody>\n",
       "</table>\n",
       "</div>"
      ],
      "text/plain": [
       "                     num_orders  dayofweek  hour  lag_1  lag_2  lag_3  lag_4  \\\n",
       "datetime                                                                       \n",
       "2018-08-06 01:00:00         170          0     1  248.0  144.0   97.0  101.0   \n",
       "2018-08-06 02:00:00         104          0     2  170.0  248.0  144.0   97.0   \n",
       "2018-08-06 03:00:00         184          0     3  104.0  170.0  248.0  144.0   \n",
       "2018-08-13 01:00:00         273          0     1  160.0  185.0  118.0  135.0   \n",
       "2018-08-13 02:00:00         437          0     2  273.0  160.0  185.0  118.0   \n",
       "2018-08-13 03:00:00         168          0     3  437.0  273.0  160.0  185.0   \n",
       "2018-08-20 01:00:00         272          0     1  200.0  167.0  121.0   93.0   \n",
       "2018-08-20 02:00:00         462          0     2  272.0  200.0  167.0  121.0   \n",
       "2018-08-20 03:00:00         224          0     3  462.0  272.0  200.0  167.0   \n",
       "2018-08-27 01:00:00         222          0     1  263.0  238.0  145.0  107.0   \n",
       "2018-08-27 02:00:00         408          0     2  222.0  263.0  238.0  145.0   \n",
       "2018-08-27 03:00:00         208          0     3  408.0  222.0  263.0  238.0   \n",
       "\n",
       "                     rolling_mean  \n",
       "datetime                           \n",
       "2018-08-06 01:00:00    101.500000  \n",
       "2018-08-06 02:00:00    103.833333  \n",
       "2018-08-06 03:00:00    102.041667  \n",
       "2018-08-13 01:00:00    112.166667  \n",
       "2018-08-13 02:00:00    116.166667  \n",
       "2018-08-13 03:00:00    127.833333  \n",
       "2018-08-20 01:00:00    117.583333  \n",
       "2018-08-20 02:00:00    125.041667  \n",
       "2018-08-20 03:00:00    138.708333  \n",
       "2018-08-27 01:00:00    137.375000  \n",
       "2018-08-27 02:00:00    140.125000  \n",
       "2018-08-27 03:00:00    150.958333  "
      ]
     },
     "execution_count": 20,
     "metadata": {},
     "output_type": "execute_result"
    }
   ],
   "source": [
    "df['2018-08':].query('dayofweek == 0 and hour.isin([1, 2, 3])')"
   ]
  },
  {
   "cell_type": "markdown",
   "id": "1a99f7fa",
   "metadata": {},
   "source": [
    "Похоже нашли понедельники с максимальными значениями заказов, и можно было бы усреднить значения в 1, 2, 3 часа и заполнить значение `num_orders` в 2 часа в августе в пн этим средним."
   ]
  },
  {
   "cell_type": "code",
   "execution_count": 21,
   "id": "f1c6eff1",
   "metadata": {},
   "outputs": [],
   "source": [
    "df['day'] = df.index.day\n",
    "mean_orders_02 = df['2018-08':].query('dayofweek == 0 and hour.isin([1, 2, 3])').pivot_table(index='day', values='num_orders')\n",
    "mean_orders_02 = mean_orders_02.astype('int')"
   ]
  },
  {
   "cell_type": "code",
   "execution_count": 22,
   "id": "8dd4c1c0",
   "metadata": {},
   "outputs": [],
   "source": [
    "df.loc['2018-08'].loc[(df['dayofweek'] == 0) & (df['hour'] == 2), 'num_orders'] = mean_orders_02.values"
   ]
  },
  {
   "cell_type": "code",
   "execution_count": 23,
   "id": "1690d1c5",
   "metadata": {},
   "outputs": [
    {
     "data": {
      "text/html": [
       "<div>\n",
       "<style scoped>\n",
       "    .dataframe tbody tr th:only-of-type {\n",
       "        vertical-align: middle;\n",
       "    }\n",
       "\n",
       "    .dataframe tbody tr th {\n",
       "        vertical-align: top;\n",
       "    }\n",
       "\n",
       "    .dataframe thead th {\n",
       "        text-align: right;\n",
       "    }\n",
       "</style>\n",
       "<table border=\"1\" class=\"dataframe\">\n",
       "  <thead>\n",
       "    <tr style=\"text-align: right;\">\n",
       "      <th></th>\n",
       "      <th>num_orders</th>\n",
       "      <th>dayofweek</th>\n",
       "      <th>hour</th>\n",
       "      <th>lag_1</th>\n",
       "      <th>lag_2</th>\n",
       "      <th>lag_3</th>\n",
       "      <th>lag_4</th>\n",
       "      <th>rolling_mean</th>\n",
       "      <th>day</th>\n",
       "    </tr>\n",
       "    <tr>\n",
       "      <th>datetime</th>\n",
       "      <th></th>\n",
       "      <th></th>\n",
       "      <th></th>\n",
       "      <th></th>\n",
       "      <th></th>\n",
       "      <th></th>\n",
       "      <th></th>\n",
       "      <th></th>\n",
       "      <th></th>\n",
       "    </tr>\n",
       "  </thead>\n",
       "  <tbody>\n",
       "    <tr>\n",
       "      <th>2018-08-06 01:00:00</th>\n",
       "      <td>170</td>\n",
       "      <td>0</td>\n",
       "      <td>1</td>\n",
       "      <td>248.0</td>\n",
       "      <td>144.0</td>\n",
       "      <td>97.0</td>\n",
       "      <td>101.0</td>\n",
       "      <td>101.500000</td>\n",
       "      <td>6</td>\n",
       "    </tr>\n",
       "    <tr>\n",
       "      <th>2018-08-06 02:00:00</th>\n",
       "      <td>152</td>\n",
       "      <td>0</td>\n",
       "      <td>2</td>\n",
       "      <td>170.0</td>\n",
       "      <td>248.0</td>\n",
       "      <td>144.0</td>\n",
       "      <td>97.0</td>\n",
       "      <td>103.833333</td>\n",
       "      <td>6</td>\n",
       "    </tr>\n",
       "    <tr>\n",
       "      <th>2018-08-06 03:00:00</th>\n",
       "      <td>184</td>\n",
       "      <td>0</td>\n",
       "      <td>3</td>\n",
       "      <td>104.0</td>\n",
       "      <td>170.0</td>\n",
       "      <td>248.0</td>\n",
       "      <td>144.0</td>\n",
       "      <td>102.041667</td>\n",
       "      <td>6</td>\n",
       "    </tr>\n",
       "    <tr>\n",
       "      <th>2018-08-13 01:00:00</th>\n",
       "      <td>273</td>\n",
       "      <td>0</td>\n",
       "      <td>1</td>\n",
       "      <td>160.0</td>\n",
       "      <td>185.0</td>\n",
       "      <td>118.0</td>\n",
       "      <td>135.0</td>\n",
       "      <td>112.166667</td>\n",
       "      <td>13</td>\n",
       "    </tr>\n",
       "    <tr>\n",
       "      <th>2018-08-13 02:00:00</th>\n",
       "      <td>292</td>\n",
       "      <td>0</td>\n",
       "      <td>2</td>\n",
       "      <td>273.0</td>\n",
       "      <td>160.0</td>\n",
       "      <td>185.0</td>\n",
       "      <td>118.0</td>\n",
       "      <td>116.166667</td>\n",
       "      <td>13</td>\n",
       "    </tr>\n",
       "    <tr>\n",
       "      <th>2018-08-13 03:00:00</th>\n",
       "      <td>168</td>\n",
       "      <td>0</td>\n",
       "      <td>3</td>\n",
       "      <td>437.0</td>\n",
       "      <td>273.0</td>\n",
       "      <td>160.0</td>\n",
       "      <td>185.0</td>\n",
       "      <td>127.833333</td>\n",
       "      <td>13</td>\n",
       "    </tr>\n",
       "    <tr>\n",
       "      <th>2018-08-20 01:00:00</th>\n",
       "      <td>272</td>\n",
       "      <td>0</td>\n",
       "      <td>1</td>\n",
       "      <td>200.0</td>\n",
       "      <td>167.0</td>\n",
       "      <td>121.0</td>\n",
       "      <td>93.0</td>\n",
       "      <td>117.583333</td>\n",
       "      <td>20</td>\n",
       "    </tr>\n",
       "    <tr>\n",
       "      <th>2018-08-20 02:00:00</th>\n",
       "      <td>319</td>\n",
       "      <td>0</td>\n",
       "      <td>2</td>\n",
       "      <td>272.0</td>\n",
       "      <td>200.0</td>\n",
       "      <td>167.0</td>\n",
       "      <td>121.0</td>\n",
       "      <td>125.041667</td>\n",
       "      <td>20</td>\n",
       "    </tr>\n",
       "    <tr>\n",
       "      <th>2018-08-20 03:00:00</th>\n",
       "      <td>224</td>\n",
       "      <td>0</td>\n",
       "      <td>3</td>\n",
       "      <td>462.0</td>\n",
       "      <td>272.0</td>\n",
       "      <td>200.0</td>\n",
       "      <td>167.0</td>\n",
       "      <td>138.708333</td>\n",
       "      <td>20</td>\n",
       "    </tr>\n",
       "    <tr>\n",
       "      <th>2018-08-27 01:00:00</th>\n",
       "      <td>222</td>\n",
       "      <td>0</td>\n",
       "      <td>1</td>\n",
       "      <td>263.0</td>\n",
       "      <td>238.0</td>\n",
       "      <td>145.0</td>\n",
       "      <td>107.0</td>\n",
       "      <td>137.375000</td>\n",
       "      <td>27</td>\n",
       "    </tr>\n",
       "    <tr>\n",
       "      <th>2018-08-27 02:00:00</th>\n",
       "      <td>279</td>\n",
       "      <td>0</td>\n",
       "      <td>2</td>\n",
       "      <td>222.0</td>\n",
       "      <td>263.0</td>\n",
       "      <td>238.0</td>\n",
       "      <td>145.0</td>\n",
       "      <td>140.125000</td>\n",
       "      <td>27</td>\n",
       "    </tr>\n",
       "    <tr>\n",
       "      <th>2018-08-27 03:00:00</th>\n",
       "      <td>208</td>\n",
       "      <td>0</td>\n",
       "      <td>3</td>\n",
       "      <td>408.0</td>\n",
       "      <td>222.0</td>\n",
       "      <td>263.0</td>\n",
       "      <td>238.0</td>\n",
       "      <td>150.958333</td>\n",
       "      <td>27</td>\n",
       "    </tr>\n",
       "  </tbody>\n",
       "</table>\n",
       "</div>"
      ],
      "text/plain": [
       "                     num_orders  dayofweek  hour  lag_1  lag_2  lag_3  lag_4  \\\n",
       "datetime                                                                       \n",
       "2018-08-06 01:00:00         170          0     1  248.0  144.0   97.0  101.0   \n",
       "2018-08-06 02:00:00         152          0     2  170.0  248.0  144.0   97.0   \n",
       "2018-08-06 03:00:00         184          0     3  104.0  170.0  248.0  144.0   \n",
       "2018-08-13 01:00:00         273          0     1  160.0  185.0  118.0  135.0   \n",
       "2018-08-13 02:00:00         292          0     2  273.0  160.0  185.0  118.0   \n",
       "2018-08-13 03:00:00         168          0     3  437.0  273.0  160.0  185.0   \n",
       "2018-08-20 01:00:00         272          0     1  200.0  167.0  121.0   93.0   \n",
       "2018-08-20 02:00:00         319          0     2  272.0  200.0  167.0  121.0   \n",
       "2018-08-20 03:00:00         224          0     3  462.0  272.0  200.0  167.0   \n",
       "2018-08-27 01:00:00         222          0     1  263.0  238.0  145.0  107.0   \n",
       "2018-08-27 02:00:00         279          0     2  222.0  263.0  238.0  145.0   \n",
       "2018-08-27 03:00:00         208          0     3  408.0  222.0  263.0  238.0   \n",
       "\n",
       "                     rolling_mean  day  \n",
       "datetime                                \n",
       "2018-08-06 01:00:00    101.500000    6  \n",
       "2018-08-06 02:00:00    103.833333    6  \n",
       "2018-08-06 03:00:00    102.041667    6  \n",
       "2018-08-13 01:00:00    112.166667   13  \n",
       "2018-08-13 02:00:00    116.166667   13  \n",
       "2018-08-13 03:00:00    127.833333   13  \n",
       "2018-08-20 01:00:00    117.583333   20  \n",
       "2018-08-20 02:00:00    125.041667   20  \n",
       "2018-08-20 03:00:00    138.708333   20  \n",
       "2018-08-27 01:00:00    137.375000   27  \n",
       "2018-08-27 02:00:00    140.125000   27  \n",
       "2018-08-27 03:00:00    150.958333   27  "
      ]
     },
     "execution_count": 23,
     "metadata": {},
     "output_type": "execute_result"
    }
   ],
   "source": [
    "df['2018-08':].query('dayofweek == 0 and hour.isin([1, 2, 3])') "
   ]
  },
  {
   "cell_type": "markdown",
   "id": "79c8f52a",
   "metadata": {},
   "source": [
    "Посмотрим как распределяются заказы по месяцам:"
   ]
  },
  {
   "cell_type": "code",
   "execution_count": 24,
   "id": "a389abbb",
   "metadata": {
    "scrolled": true
   },
   "outputs": [],
   "source": [
    "# num_orders_month = df.groupby('month')['num_orders'].sum()\n",
    "# sns.barplot(x=num_orders_month.index, y=num_orders_month.values, palette=\"Set2\").set(title='Распределение заказов по месяцам', ylabel='num_orders');"
   ]
  },
  {
   "cell_type": "code",
   "execution_count": 25,
   "id": "1f87ae4e",
   "metadata": {},
   "outputs": [
    {
     "data": {
      "image/png": "[encoded data removed]",
      "text/plain": [
       "<Figure size 432x288 with 1 Axes>"
      ]
     },
     "metadata": {
      "needs_background": "light"
     },
     "output_type": "display_data"
    }
   ],
   "source": [
    "sns.barplot(data = df.groupby('dayofweek')['num_orders'].sum().reset_index(), x =\"dayofweek\", y = \"num_orders\", palette=\"Set2\").set(\n",
    "    title='Распределение заказов по дням недели');"
   ]
  },
  {
   "cell_type": "markdown",
   "id": "9a8b01f3",
   "metadata": {},
   "source": [
    "**Вывод**"
   ]
  },
  {
   "cell_type": "markdown",
   "id": "df22e365",
   "metadata": {},
   "source": [
    "- в данных были обнаружены и устранены выбросы.\n",
    "\n",
    "Из построенных графиков видно, что\n",
    "\n",
    "- большинство заказов было сделано в августе;\n",
    "- на гистограмме распределения заказов по дням недели больше всего заказов в пн и пт;"
   ]
  },
  {
   "cell_type": "markdown",
   "id": "0ef2e0b9",
   "metadata": {},
   "source": [
    "### Обучение моделей"
   ]
  },
  {
   "cell_type": "markdown",
   "id": "04eec356",
   "metadata": {},
   "source": [
    "Разделим датасет на тренировочную и тестовую выборки:\n",
    "- тренировочная выборка - 90%\n",
    "- тестовая выборка – 10%"
   ]
  },
  {
   "cell_type": "code",
   "execution_count": 26,
   "id": "d4f3adf0",
   "metadata": {},
   "outputs": [],
   "source": [
    "train, test = train_test_split(df, shuffle=False, test_size=0.1)\n",
    "train = train.dropna()\n",
    "\n",
    "train_features = train.drop('num_orders', axis=1)\n",
    "train_target = train['num_orders']\n",
    "\n",
    "test_features = test.drop('num_orders', axis=1)\n",
    "test_target = test['num_orders']"
   ]
  },
  {
   "cell_type": "markdown",
   "id": "1c724514",
   "metadata": {},
   "source": [
    "Размер полученных выборок:"
   ]
  },
  {
   "cell_type": "code",
   "execution_count": 27,
   "id": "63b53ffe",
   "metadata": {},
   "outputs": [
    {
     "name": "stdout",
     "output_type": "stream",
     "text": [
      "train size: (3950, 8)\n",
      "test size: (442, 8)\n"
     ]
    }
   ],
   "source": [
    "print(\"train size:\", train_features.shape)\n",
    "print(\"test size:\", test_features.shape)"
   ]
  },
  {
   "cell_type": "markdown",
   "id": "3d44a235",
   "metadata": {},
   "source": [
    "- Кросс-валидация"
   ]
  },
  {
   "cell_type": "code",
   "execution_count": 28,
   "id": "4e6a2322",
   "metadata": {},
   "outputs": [],
   "source": [
    "def get_cv_scores(model, features, target):\n",
    "    scores = cross_val_score(\n",
    "                            model,\n",
    "                            features, target,\n",
    "                            cv=TimeSeriesSplit(n_splits=5).split(features),\n",
    "                            scoring=\"neg_root_mean_squared_error\"\n",
    "    )\n",
    "    return print(\"best_scores\", np.mean(scores)*(-1))\n",
    "    "
   ]
  },
  {
   "cell_type": "markdown",
   "id": "f35a9e81",
   "metadata": {},
   "source": [
    "- GridSearchCV"
   ]
  },
  {
   "cell_type": "code",
   "execution_count": 29,
   "id": "bcd2e7a5",
   "metadata": {},
   "outputs": [],
   "source": [
    "grid_dt = {'max_depth': range(3, 15, 3)}\n",
    "grid_rdf = {'n_estimators': range(5, 50, 10), 'max_depth': range(3, 15, 5)}"
   ]
  },
  {
   "cell_type": "code",
   "execution_count": 30,
   "id": "72a8415e",
   "metadata": {},
   "outputs": [],
   "source": [
    "my_cv = TimeSeriesSplit(n_splits=5).split(train_features)"
   ]
  },
  {
   "cell_type": "markdown",
   "id": "6edea4ba",
   "metadata": {},
   "source": [
    "**Линейная регрессия**"
   ]
  },
  {
   "cell_type": "code",
   "execution_count": 31,
   "id": "0ae65630",
   "metadata": {},
   "outputs": [
    {
     "name": "stdout",
     "output_type": "stream",
     "text": [
      "best_scores 31.46211838381605\n"
     ]
    }
   ],
   "source": [
    "model = LinearRegression().fit(train_features, train_target)\n",
    "get_cv_scores(model, train_features, train_target)"
   ]
  },
  {
   "cell_type": "markdown",
   "id": "e514ec70",
   "metadata": {},
   "source": [
    "**Решающее дерево**"
   ]
  },
  {
   "cell_type": "code",
   "execution_count": 32,
   "id": "782477e3",
   "metadata": {},
   "outputs": [
    {
     "name": "stdout",
     "output_type": "stream",
     "text": [
      "{'max_depth': 6}\n",
      "29.099792184941492\n"
     ]
    }
   ],
   "source": [
    "model = DecisionTreeRegressor(random_state=RANDOM_STATE)\n",
    "grs = GridSearchCV(model, grid_dt, cv=my_cv, scoring=\"neg_root_mean_squared_error\")\n",
    "grs.fit(train_features, train_target)\n",
    "print(grs.best_params_)\n",
    "print(grs.best_score_*(-1))"
   ]
  },
  {
   "cell_type": "markdown",
   "id": "652f2e52",
   "metadata": {},
   "source": [
    "**Случайный лес**"
   ]
  },
  {
   "cell_type": "code",
   "execution_count": 33,
   "id": "6468feff",
   "metadata": {},
   "outputs": [
    {
     "name": "stdout",
     "output_type": "stream",
     "text": [
      "{'max_depth': 13, 'n_estimators': 35}\n",
      "25.320850285859674\n"
     ]
    }
   ],
   "source": [
    "model = RandomForestRegressor(random_state=RANDOM_STATE)\n",
    "grs = GridSearchCV(model, grid_rdf, cv=TimeSeriesSplit(n_splits=5).split(train_features), scoring=\"neg_root_mean_squared_error\")\n",
    "grs.fit(train_features, train_target)\n",
    "print(grs.best_params_)\n",
    "print(grs.best_score_*(-1))"
   ]
  },
  {
   "cell_type": "markdown",
   "id": "ea6eab51",
   "metadata": {},
   "source": [
    "**XGBoost**"
   ]
  },
  {
   "cell_type": "code",
   "execution_count": 34,
   "id": "7adda48d",
   "metadata": {},
   "outputs": [
    {
     "name": "stdout",
     "output_type": "stream",
     "text": [
      "{'max_depth': 3, 'n_estimators': 50}\n",
      "25.607478563969188\n"
     ]
    }
   ],
   "source": [
    "model = xgb.XGBRegressor()\n",
    "param_search = {'max_depth': range(3, 15, 2), 'n_estimators': [30, 50]}\n",
    "\n",
    "my_cv = TimeSeriesSplit(n_splits=5).split(train_features)\n",
    "gsearch = GridSearchCV(estimator=model, cv=my_cv,\n",
    "                        param_grid=param_search, scoring=\"neg_root_mean_squared_error\")\n",
    "gsearch.fit(train_features, train_target)\n",
    "print(gsearch.best_params_)\n",
    "print(gsearch.best_score_*(-1))"
   ]
  },
  {
   "cell_type": "markdown",
   "id": "765f9068",
   "metadata": {},
   "source": [
    "**Вывод**"
   ]
  },
  {
   "cell_type": "markdown",
   "id": "1eba2a30",
   "metadata": {},
   "source": [
    "Последний лучший результат у модели случайного леса, *RMSE = 25.32* "
   ]
  },
  {
   "cell_type": "markdown",
   "id": "973aab44",
   "metadata": {},
   "source": [
    "### Обучение модели на тестовой выборке"
   ]
  },
  {
   "cell_type": "code",
   "execution_count": 35,
   "id": "c6cc2fba",
   "metadata": {},
   "outputs": [
    {
     "name": "stdout",
     "output_type": "stream",
     "text": [
      "RMSE модели линейной регрессии на тестовой выборке: 44.70332550582892\n"
     ]
    }
   ],
   "source": [
    "model = RandomForestRegressor(n_estimators=35, max_depth=13, random_state=RANDOM_STATE)\n",
    "# model = LinearRegression()\n",
    "model.fit(train_features, train_target)\n",
    "predictions = model.predict(test_features)\n",
    "print(\"RMSE модели линейной регрессии на тестовой выборке:\", mean_squared_error(test_target, predictions) ** 0.5)"
   ]
  },
  {
   "cell_type": "code",
   "execution_count": 36,
   "id": "93aa1443",
   "metadata": {},
   "outputs": [
    {
     "data": {
      "image/png": "[encoded data removed]",
      "text/plain": [
       "<Figure size 864x432 with 1 Axes>"
      ]
     },
     "metadata": {
      "needs_background": "light"
     },
     "output_type": "display_data"
    }
   ],
   "source": [
    "test_target.reset_index().drop('datetime', axis=1).plot(figsize=(12,6)).set(title='Ответы и предсказания')\n",
    "plt.plot(predictions);\n",
    "plt. legend(['target', 'pred']);\n",
    "plt.show()"
   ]
  },
  {
   "cell_type": "markdown",
   "id": "f9a5f59b",
   "metadata": {},
   "source": [
    "### Проверка модели на адекватность"
   ]
  },
  {
   "cell_type": "code",
   "execution_count": 37,
   "id": "a884233b",
   "metadata": {
    "scrolled": true
   },
   "outputs": [
    {
     "name": "stdout",
     "output_type": "stream",
     "text": [
      "RMSE: 55.94336987958594\n"
     ]
    }
   ],
   "source": [
    "pred_previous = test_target.shift()\n",
    "pred_previous.iloc[0] = train_target.iloc[-1]\n",
    "print('RMSE:', mean_squared_error(pred_previous, test_target)**0.5)"
   ]
  },
  {
   "cell_type": "markdown",
   "id": "bd4a61dc",
   "metadata": {},
   "source": [
    "**Вывод**"
   ]
  },
  {
   "cell_type": "markdown",
   "id": "be815e0e",
   "metadata": {},
   "source": [
    "Было проведено исследование временного ряда, задачей которого было прогнозирование заказов такси. Наилучший результат показала модель линейной регрессии на тестовой выборке, *RMSE = 44.7*."
   ]
  }
 ],
 "metadata": {
  "ExecuteTimeLog": [
   {
    "duration": 1974,
    "start_time": "2022-05-20T14:25:30.060Z"
   },
   {
    "duration": 134,
    "start_time": "2022-05-20T14:25:32.036Z"
   },
   {
    "duration": 0,
    "start_time": "2022-05-20T14:25:32.172Z"
   },
   {
    "duration": 0,
    "start_time": "2022-05-20T14:25:32.173Z"
   },
   {
    "duration": 0,
    "start_time": "2022-05-20T14:25:32.174Z"
   },
   {
    "duration": 0,
    "start_time": "2022-05-20T14:25:32.175Z"
   },
   {
    "duration": 0,
    "start_time": "2022-05-20T14:25:32.176Z"
   },
   {
    "duration": 0,
    "start_time": "2022-05-20T14:25:32.177Z"
   },
   {
    "duration": 0,
    "start_time": "2022-05-20T14:25:32.178Z"
   },
   {
    "duration": 69,
    "start_time": "2022-05-20T14:26:44.136Z"
   },
   {
    "duration": 35,
    "start_time": "2022-05-20T14:26:49.037Z"
   },
   {
    "duration": 137,
    "start_time": "2022-05-20T14:26:58.271Z"
   },
   {
    "duration": 10,
    "start_time": "2022-05-20T14:27:00.856Z"
   },
   {
    "duration": 10,
    "start_time": "2022-05-20T14:27:01.056Z"
   },
   {
    "duration": 12,
    "start_time": "2022-05-20T14:27:01.256Z"
   },
   {
    "duration": 5,
    "start_time": "2022-05-20T14:27:04.395Z"
   },
   {
    "duration": 13,
    "start_time": "2022-05-20T14:27:07.778Z"
   },
   {
    "duration": 234,
    "start_time": "2022-05-20T14:27:14.121Z"
   },
   {
    "duration": 2,
    "start_time": "2022-05-20T14:27:14.677Z"
   },
   {
    "duration": 12,
    "start_time": "2022-05-20T14:27:36.954Z"
   },
   {
    "duration": 12,
    "start_time": "2022-05-20T14:27:45.117Z"
   },
   {
    "duration": 37,
    "start_time": "2022-05-20T14:28:14.665Z"
   },
   {
    "duration": 12,
    "start_time": "2022-05-20T14:28:19.516Z"
   },
   {
    "duration": 58,
    "start_time": "2022-05-22T15:25:05.260Z"
   },
   {
    "duration": 1792,
    "start_time": "2022-05-22T15:25:10.859Z"
   },
   {
    "duration": 169,
    "start_time": "2022-05-22T15:25:12.653Z"
   },
   {
    "duration": 9,
    "start_time": "2022-05-22T15:25:12.823Z"
   },
   {
    "duration": 12,
    "start_time": "2022-05-22T15:25:12.834Z"
   },
   {
    "duration": 28,
    "start_time": "2022-05-22T15:25:12.848Z"
   },
   {
    "duration": 8,
    "start_time": "2022-05-22T15:25:12.877Z"
   },
   {
    "duration": 14,
    "start_time": "2022-05-22T15:25:12.886Z"
   },
   {
    "duration": 100,
    "start_time": "2022-05-22T15:25:12.901Z"
   },
   {
    "duration": 2,
    "start_time": "2022-05-22T15:25:13.003Z"
   },
   {
    "duration": 6,
    "start_time": "2022-05-22T15:25:15.167Z"
   },
   {
    "duration": 96,
    "start_time": "2022-05-22T15:25:53.971Z"
   },
   {
    "duration": 171,
    "start_time": "2022-05-22T15:25:57.971Z"
   },
   {
    "duration": 767,
    "start_time": "2022-05-22T15:31:04.627Z"
   },
   {
    "duration": 575,
    "start_time": "2022-05-22T15:32:51.800Z"
   },
   {
    "duration": 386,
    "start_time": "2022-05-22T15:33:35.802Z"
   },
   {
    "duration": 259,
    "start_time": "2022-05-22T15:48:10.793Z"
   },
   {
    "duration": 288,
    "start_time": "2022-05-22T15:48:22.539Z"
   },
   {
    "duration": 326,
    "start_time": "2022-05-22T15:48:30.666Z"
   },
   {
    "duration": 328,
    "start_time": "2022-05-22T15:48:40.687Z"
   },
   {
    "duration": 463,
    "start_time": "2022-05-22T15:49:37.698Z"
   },
   {
    "duration": 5,
    "start_time": "2022-05-22T15:52:39.215Z"
   },
   {
    "duration": 21,
    "start_time": "2022-05-22T15:54:31.261Z"
   },
   {
    "duration": 26,
    "start_time": "2022-05-22T16:07:07.904Z"
   },
   {
    "duration": 3,
    "start_time": "2022-05-22T16:07:24.170Z"
   },
   {
    "duration": 222,
    "start_time": "2022-05-22T16:07:26.095Z"
   },
   {
    "duration": 13,
    "start_time": "2022-05-22T16:07:31.267Z"
   },
   {
    "duration": 14,
    "start_time": "2022-05-22T16:07:33.669Z"
   },
   {
    "duration": 4,
    "start_time": "2022-05-22T16:07:35.091Z"
   },
   {
    "duration": 7,
    "start_time": "2022-05-22T16:07:38.566Z"
   },
   {
    "duration": 7,
    "start_time": "2022-05-22T16:07:39.078Z"
   },
   {
    "duration": 48,
    "start_time": "2022-05-22T16:07:45.166Z"
   },
   {
    "duration": 312,
    "start_time": "2022-05-22T16:07:46.870Z"
   },
   {
    "duration": 11110,
    "start_time": "2022-05-22T16:07:49.766Z"
   },
   {
    "duration": 634046,
    "start_time": "2022-05-22T16:08:04.366Z"
   },
   {
    "duration": 569,
    "start_time": "2022-05-22T16:18:49.461Z"
   },
   {
    "duration": 228,
    "start_time": "2022-05-22T16:19:07.439Z"
   },
   {
    "duration": 6,
    "start_time": "2022-05-22T16:23:40.753Z"
   },
   {
    "duration": 558,
    "start_time": "2022-05-22T16:24:08.653Z"
   },
   {
    "duration": 5,
    "start_time": "2022-05-22T16:24:16.154Z"
   },
   {
    "duration": 56,
    "start_time": "2022-05-22T16:24:16.161Z"
   },
   {
    "duration": 9,
    "start_time": "2022-05-22T16:24:16.220Z"
   },
   {
    "duration": 10,
    "start_time": "2022-05-22T16:24:16.230Z"
   },
   {
    "duration": 29,
    "start_time": "2022-05-22T16:24:16.242Z"
   },
   {
    "duration": 9,
    "start_time": "2022-05-22T16:24:16.273Z"
   },
   {
    "duration": 15,
    "start_time": "2022-05-22T16:24:16.284Z"
   },
   {
    "duration": 131,
    "start_time": "2022-05-22T16:24:16.300Z"
   },
   {
    "duration": 5,
    "start_time": "2022-05-22T16:24:16.433Z"
   },
   {
    "duration": 5,
    "start_time": "2022-05-22T16:24:19.359Z"
   },
   {
    "duration": 268,
    "start_time": "2022-05-22T16:24:19.753Z"
   },
   {
    "duration": 18,
    "start_time": "2022-05-22T16:25:56.924Z"
   },
   {
    "duration": 4,
    "start_time": "2022-05-22T16:26:15.431Z"
   },
   {
    "duration": 77,
    "start_time": "2022-05-22T16:26:15.437Z"
   },
   {
    "duration": 7,
    "start_time": "2022-05-22T16:26:15.516Z"
   },
   {
    "duration": 29,
    "start_time": "2022-05-22T16:26:15.525Z"
   },
   {
    "duration": 20,
    "start_time": "2022-05-22T16:26:15.557Z"
   },
   {
    "duration": 12,
    "start_time": "2022-05-22T16:26:15.579Z"
   },
   {
    "duration": 20,
    "start_time": "2022-05-22T16:26:15.593Z"
   },
   {
    "duration": 97,
    "start_time": "2022-05-22T16:26:15.615Z"
   },
   {
    "duration": 509,
    "start_time": "2022-05-22T16:26:15.714Z"
   },
   {
    "duration": 10,
    "start_time": "2022-05-22T16:26:16.224Z"
   },
   {
    "duration": 958,
    "start_time": "2022-05-22T16:26:16.240Z"
   },
   {
    "duration": 365,
    "start_time": "2022-05-22T16:26:17.200Z"
   },
   {
    "duration": 290,
    "start_time": "2022-05-22T16:26:17.568Z"
   },
   {
    "duration": 5,
    "start_time": "2022-05-22T16:26:17.861Z"
   },
   {
    "duration": 32,
    "start_time": "2022-05-22T16:26:17.868Z"
   },
   {
    "duration": 22,
    "start_time": "2022-05-22T16:26:27.055Z"
   },
   {
    "duration": 7,
    "start_time": "2022-05-22T16:26:27.420Z"
   },
   {
    "duration": 293,
    "start_time": "2022-05-22T16:26:30.489Z"
   },
   {
    "duration": 5,
    "start_time": "2022-05-22T16:27:44.422Z"
   },
   {
    "duration": 6,
    "start_time": "2022-05-22T16:28:18.573Z"
   },
   {
    "duration": 163,
    "start_time": "2022-05-22T16:28:34.019Z"
   },
   {
    "duration": 175,
    "start_time": "2022-05-22T16:29:11.863Z"
   },
   {
    "duration": 199,
    "start_time": "2022-05-22T16:29:59.275Z"
   },
   {
    "duration": 322,
    "start_time": "2022-05-22T16:30:21.049Z"
   },
   {
    "duration": 11,
    "start_time": "2022-05-22T16:32:17.401Z"
   },
   {
    "duration": 15,
    "start_time": "2022-05-22T16:32:31.593Z"
   },
   {
    "duration": 158,
    "start_time": "2022-05-22T16:32:49.687Z"
   },
   {
    "duration": 673,
    "start_time": "2022-05-22T16:33:04.933Z"
   },
   {
    "duration": 16,
    "start_time": "2022-05-22T16:33:15.119Z"
   },
   {
    "duration": 16,
    "start_time": "2022-05-22T16:33:24.469Z"
   },
   {
    "duration": 256,
    "start_time": "2022-05-22T16:33:30.337Z"
   },
   {
    "duration": 155,
    "start_time": "2022-05-22T16:33:42.403Z"
   },
   {
    "duration": 100,
    "start_time": "2022-05-22T16:34:03.378Z"
   },
   {
    "duration": 153,
    "start_time": "2022-05-22T16:34:23.907Z"
   },
   {
    "duration": 20,
    "start_time": "2022-05-22T17:42:05.602Z"
   },
   {
    "duration": 218,
    "start_time": "2022-05-22T17:42:53.316Z"
   },
   {
    "duration": 239,
    "start_time": "2022-05-22T17:45:12.598Z"
   },
   {
    "duration": 214,
    "start_time": "2022-05-22T17:45:29.863Z"
   },
   {
    "duration": 161,
    "start_time": "2022-05-22T17:46:12.193Z"
   },
   {
    "duration": 188,
    "start_time": "2022-05-22T17:46:37.893Z"
   },
   {
    "duration": 176,
    "start_time": "2022-05-22T17:47:14.982Z"
   },
   {
    "duration": 154,
    "start_time": "2022-05-22T17:48:02.063Z"
   },
   {
    "duration": 185,
    "start_time": "2022-05-22T17:48:15.998Z"
   },
   {
    "duration": 193,
    "start_time": "2022-05-22T17:48:31.797Z"
   },
   {
    "duration": 26,
    "start_time": "2022-05-22T17:48:46.468Z"
   },
   {
    "duration": 546,
    "start_time": "2022-05-22T17:48:58.443Z"
   },
   {
    "duration": 696,
    "start_time": "2022-05-22T17:49:09.814Z"
   },
   {
    "duration": 23,
    "start_time": "2022-05-22T17:49:22.561Z"
   },
   {
    "duration": 33,
    "start_time": "2022-05-22T17:49:39.834Z"
   },
   {
    "duration": 182,
    "start_time": "2022-05-22T17:49:48.500Z"
   },
   {
    "duration": 206,
    "start_time": "2022-05-22T17:50:06.422Z"
   },
   {
    "duration": 197,
    "start_time": "2022-05-22T17:50:20.881Z"
   },
   {
    "duration": 215,
    "start_time": "2022-05-22T17:50:34.610Z"
   },
   {
    "duration": 203,
    "start_time": "2022-05-22T17:50:47.172Z"
   },
   {
    "duration": 381,
    "start_time": "2022-05-22T17:51:00.604Z"
   },
   {
    "duration": 270,
    "start_time": "2022-05-22T17:51:24.816Z"
   },
   {
    "duration": 251,
    "start_time": "2022-05-22T17:51:50.653Z"
   },
   {
    "duration": 252,
    "start_time": "2022-05-22T17:56:50.027Z"
   },
   {
    "duration": 178,
    "start_time": "2022-05-22T17:57:24.196Z"
   },
   {
    "duration": 171,
    "start_time": "2022-05-22T17:58:09.640Z"
   },
   {
    "duration": 482,
    "start_time": "2022-05-22T18:00:36.609Z"
   },
   {
    "duration": 5,
    "start_time": "2022-05-22T18:22:02.179Z"
   },
   {
    "duration": 51,
    "start_time": "2022-05-22T18:22:02.186Z"
   },
   {
    "duration": 10,
    "start_time": "2022-05-22T18:22:02.239Z"
   },
   {
    "duration": 20,
    "start_time": "2022-05-22T18:22:02.251Z"
   },
   {
    "duration": 13,
    "start_time": "2022-05-22T18:22:02.274Z"
   },
   {
    "duration": 13,
    "start_time": "2022-05-22T18:22:02.288Z"
   },
   {
    "duration": 17,
    "start_time": "2022-05-22T18:22:02.303Z"
   },
   {
    "duration": 122,
    "start_time": "2022-05-22T18:22:02.322Z"
   },
   {
    "duration": 503,
    "start_time": "2022-05-22T18:22:02.446Z"
   },
   {
    "duration": 12,
    "start_time": "2022-05-22T18:22:02.950Z"
   },
   {
    "duration": 841,
    "start_time": "2022-05-22T18:22:02.964Z"
   },
   {
    "duration": 286,
    "start_time": "2022-05-22T18:22:03.806Z"
   },
   {
    "duration": 270,
    "start_time": "2022-05-22T18:22:04.094Z"
   },
   {
    "duration": 4,
    "start_time": "2022-05-22T18:22:04.367Z"
   },
   {
    "duration": 30,
    "start_time": "2022-05-22T18:22:04.373Z"
   },
   {
    "duration": 9,
    "start_time": "2022-05-22T18:22:04.405Z"
   },
   {
    "duration": 28,
    "start_time": "2022-05-22T18:22:04.416Z"
   },
   {
    "duration": 390,
    "start_time": "2022-05-22T18:22:04.446Z"
   },
   {
    "duration": 450,
    "start_time": "2022-05-22T18:26:03.827Z"
   },
   {
    "duration": 606,
    "start_time": "2022-05-22T18:27:53.650Z"
   },
   {
    "duration": 419,
    "start_time": "2022-05-22T18:30:35.840Z"
   },
   {
    "duration": 276,
    "start_time": "2022-05-22T18:33:45.261Z"
   },
   {
    "duration": 259,
    "start_time": "2022-05-22T18:34:13.500Z"
   },
   {
    "duration": 32,
    "start_time": "2022-05-22T18:36:06.079Z"
   },
   {
    "duration": 27,
    "start_time": "2022-05-22T18:36:47.892Z"
   },
   {
    "duration": 19,
    "start_time": "2022-05-22T18:37:08.536Z"
   },
   {
    "duration": 21,
    "start_time": "2022-05-22T18:39:26.110Z"
   },
   {
    "duration": 21,
    "start_time": "2022-05-22T18:46:25.581Z"
   },
   {
    "duration": 20,
    "start_time": "2022-05-22T18:46:35.662Z"
   },
   {
    "duration": 11,
    "start_time": "2022-05-22T18:50:08.071Z"
   },
   {
    "duration": 12,
    "start_time": "2022-05-22T18:50:24.621Z"
   },
   {
    "duration": 20,
    "start_time": "2022-05-22T18:50:35.622Z"
   },
   {
    "duration": 21,
    "start_time": "2022-05-22T20:25:03.097Z"
   },
   {
    "duration": 20,
    "start_time": "2022-05-22T20:28:24.922Z"
   },
   {
    "duration": 25,
    "start_time": "2022-05-22T20:29:03.915Z"
   },
   {
    "duration": 19,
    "start_time": "2022-05-22T20:29:06.619Z"
   },
   {
    "duration": 9,
    "start_time": "2022-05-22T20:30:18.036Z"
   },
   {
    "duration": 67,
    "start_time": "2022-05-23T07:12:12.590Z"
   },
   {
    "duration": 2045,
    "start_time": "2022-05-23T07:12:18.310Z"
   },
   {
    "duration": 236,
    "start_time": "2022-05-23T07:12:20.359Z"
   },
   {
    "duration": 12,
    "start_time": "2022-05-23T07:12:20.597Z"
   },
   {
    "duration": 17,
    "start_time": "2022-05-23T07:12:20.611Z"
   },
   {
    "duration": 25,
    "start_time": "2022-05-23T07:12:20.630Z"
   },
   {
    "duration": 45,
    "start_time": "2022-05-23T07:12:20.656Z"
   },
   {
    "duration": 21,
    "start_time": "2022-05-23T07:12:20.703Z"
   },
   {
    "duration": 110,
    "start_time": "2022-05-23T07:12:20.726Z"
   },
   {
    "duration": 549,
    "start_time": "2022-05-23T07:12:20.838Z"
   },
   {
    "duration": 10,
    "start_time": "2022-05-23T07:12:21.393Z"
   },
   {
    "duration": 738,
    "start_time": "2022-05-23T07:12:21.405Z"
   },
   {
    "duration": 302,
    "start_time": "2022-05-23T07:12:22.145Z"
   },
   {
    "duration": 383,
    "start_time": "2022-05-23T07:12:22.448Z"
   },
   {
    "duration": 5,
    "start_time": "2022-05-23T07:12:22.835Z"
   },
   {
    "duration": 36,
    "start_time": "2022-05-23T07:12:22.842Z"
   },
   {
    "duration": 28,
    "start_time": "2022-05-23T07:12:22.880Z"
   },
   {
    "duration": 11,
    "start_time": "2022-05-23T07:12:22.910Z"
   },
   {
    "duration": 463,
    "start_time": "2022-05-23T07:12:22.923Z"
   },
   {
    "duration": 307,
    "start_time": "2022-05-23T07:12:23.387Z"
   },
   {
    "duration": 308,
    "start_time": "2022-05-23T07:12:23.696Z"
   },
   {
    "duration": 20,
    "start_time": "2022-05-23T07:12:24.006Z"
   },
   {
    "duration": 21,
    "start_time": "2022-05-23T07:12:31.560Z"
   },
   {
    "duration": 5,
    "start_time": "2022-05-23T07:13:12.680Z"
   },
   {
    "duration": 6,
    "start_time": "2022-05-23T07:13:21.116Z"
   },
   {
    "duration": 6,
    "start_time": "2022-05-23T07:13:38.757Z"
   },
   {
    "duration": 6,
    "start_time": "2022-05-23T07:13:51.097Z"
   },
   {
    "duration": 4,
    "start_time": "2022-05-23T07:19:20.310Z"
   },
   {
    "duration": 108,
    "start_time": "2022-05-23T07:19:27.162Z"
   },
   {
    "duration": 21,
    "start_time": "2022-05-23T07:19:30.893Z"
   },
   {
    "duration": 17,
    "start_time": "2022-05-23T07:21:11.810Z"
   },
   {
    "duration": 19,
    "start_time": "2022-05-23T07:21:29.612Z"
   },
   {
    "duration": 23,
    "start_time": "2022-05-23T07:22:06.180Z"
   },
   {
    "duration": 26,
    "start_time": "2022-05-23T07:26:45.790Z"
   },
   {
    "duration": 14,
    "start_time": "2022-05-23T07:27:11.109Z"
   },
   {
    "duration": 24,
    "start_time": "2022-05-23T07:28:16.149Z"
   },
   {
    "duration": 10,
    "start_time": "2022-05-23T07:28:24.437Z"
   },
   {
    "duration": 24,
    "start_time": "2022-05-23T07:28:41.743Z"
   },
   {
    "duration": 14,
    "start_time": "2022-05-23T07:31:05.585Z"
   },
   {
    "duration": 9,
    "start_time": "2022-05-23T07:31:21.670Z"
   },
   {
    "duration": 21,
    "start_time": "2022-05-23T07:31:22.728Z"
   },
   {
    "duration": 14,
    "start_time": "2022-05-23T07:34:42.480Z"
   },
   {
    "duration": 33,
    "start_time": "2022-05-23T07:34:43.650Z"
   },
   {
    "duration": 14,
    "start_time": "2022-05-23T07:36:45.784Z"
   },
   {
    "duration": 19,
    "start_time": "2022-05-23T07:36:58.264Z"
   },
   {
    "duration": 15,
    "start_time": "2022-05-23T07:37:11.115Z"
   },
   {
    "duration": 18,
    "start_time": "2022-05-23T07:38:10.042Z"
   },
   {
    "duration": 24,
    "start_time": "2022-05-23T07:38:14.055Z"
   },
   {
    "duration": 30,
    "start_time": "2022-05-23T07:38:58.054Z"
   },
   {
    "duration": 11,
    "start_time": "2022-05-23T07:39:28.967Z"
   },
   {
    "duration": 21,
    "start_time": "2022-05-23T07:39:34.880Z"
   },
   {
    "duration": 25,
    "start_time": "2022-05-23T07:40:14.095Z"
   },
   {
    "duration": 17,
    "start_time": "2022-05-23T07:40:19.342Z"
   },
   {
    "duration": 21,
    "start_time": "2022-05-23T07:40:28.114Z"
   },
   {
    "duration": 13,
    "start_time": "2022-05-23T07:40:42.156Z"
   },
   {
    "duration": 13,
    "start_time": "2022-05-23T07:41:28.284Z"
   },
   {
    "duration": 454,
    "start_time": "2022-05-23T07:44:36.341Z"
   },
   {
    "duration": 6,
    "start_time": "2022-05-23T07:45:01.085Z"
   },
   {
    "duration": 21,
    "start_time": "2022-05-23T07:45:19.440Z"
   },
   {
    "duration": 8,
    "start_time": "2022-05-23T07:45:34.940Z"
   },
   {
    "duration": 30,
    "start_time": "2022-05-23T07:45:38.214Z"
   },
   {
    "duration": 25,
    "start_time": "2022-05-23T07:50:20.375Z"
   },
   {
    "duration": 23,
    "start_time": "2022-05-23T07:50:32.616Z"
   },
   {
    "duration": 2643,
    "start_time": "2022-05-23T07:51:23.795Z"
   },
   {
    "duration": 2814,
    "start_time": "2022-05-23T07:52:43.007Z"
   },
   {
    "duration": 21,
    "start_time": "2022-05-23T07:53:11.639Z"
   },
   {
    "duration": 5,
    "start_time": "2022-05-23T07:53:38.053Z"
   },
   {
    "duration": 26,
    "start_time": "2022-05-23T07:53:58.813Z"
   },
   {
    "duration": 22,
    "start_time": "2022-05-23T07:54:08.461Z"
   },
   {
    "duration": 2753,
    "start_time": "2022-05-23T07:54:23.882Z"
   },
   {
    "duration": 24,
    "start_time": "2022-05-23T07:55:01.562Z"
   },
   {
    "duration": 2447,
    "start_time": "2022-05-23T07:55:11.941Z"
   },
   {
    "duration": 8,
    "start_time": "2022-05-23T07:55:41.240Z"
   },
   {
    "duration": 23,
    "start_time": "2022-05-23T07:55:53.053Z"
   },
   {
    "duration": 23,
    "start_time": "2022-05-23T07:56:04.813Z"
   },
   {
    "duration": 9,
    "start_time": "2022-05-23T07:56:44.598Z"
   },
   {
    "duration": 22,
    "start_time": "2022-05-23T07:56:52.281Z"
   },
   {
    "duration": 7,
    "start_time": "2022-05-23T07:59:37.555Z"
   },
   {
    "duration": 5,
    "start_time": "2022-05-23T08:00:06.188Z"
   },
   {
    "duration": 4,
    "start_time": "2022-05-23T08:00:15.409Z"
   },
   {
    "duration": 7,
    "start_time": "2022-05-23T08:00:31.702Z"
   },
   {
    "duration": 22,
    "start_time": "2022-05-23T08:00:33.974Z"
   },
   {
    "duration": 18,
    "start_time": "2022-05-23T08:01:56.439Z"
   },
   {
    "duration": 16,
    "start_time": "2022-05-23T08:04:30.646Z"
   },
   {
    "duration": 4,
    "start_time": "2022-05-23T08:05:12.793Z"
   },
   {
    "duration": 35,
    "start_time": "2022-05-23T08:05:12.818Z"
   },
   {
    "duration": 8,
    "start_time": "2022-05-23T08:05:12.855Z"
   },
   {
    "duration": 12,
    "start_time": "2022-05-23T08:05:12.864Z"
   },
   {
    "duration": 16,
    "start_time": "2022-05-23T08:05:12.877Z"
   },
   {
    "duration": 9,
    "start_time": "2022-05-23T08:05:12.896Z"
   },
   {
    "duration": 28,
    "start_time": "2022-05-23T08:05:12.907Z"
   },
   {
    "duration": 105,
    "start_time": "2022-05-23T08:05:12.937Z"
   },
   {
    "duration": 487,
    "start_time": "2022-05-23T08:05:13.044Z"
   },
   {
    "duration": 8,
    "start_time": "2022-05-23T08:05:13.533Z"
   },
   {
    "duration": 725,
    "start_time": "2022-05-23T08:05:13.543Z"
   },
   {
    "duration": 464,
    "start_time": "2022-05-23T08:05:14.271Z"
   },
   {
    "duration": 250,
    "start_time": "2022-05-23T08:05:14.737Z"
   },
   {
    "duration": 4,
    "start_time": "2022-05-23T08:05:14.989Z"
   },
   {
    "duration": 40,
    "start_time": "2022-05-23T08:05:14.995Z"
   },
   {
    "duration": 7,
    "start_time": "2022-05-23T08:05:15.037Z"
   },
   {
    "duration": 23,
    "start_time": "2022-05-23T08:05:15.046Z"
   },
   {
    "duration": 466,
    "start_time": "2022-05-23T08:05:15.071Z"
   },
   {
    "duration": 190,
    "start_time": "2022-05-23T08:05:15.539Z"
   },
   {
    "duration": 286,
    "start_time": "2022-05-23T08:05:15.731Z"
   },
   {
    "duration": 22,
    "start_time": "2022-05-23T08:05:16.019Z"
   },
   {
    "duration": 40,
    "start_time": "2022-05-23T08:05:16.043Z"
   },
   {
    "duration": 0,
    "start_time": "2022-05-23T08:05:16.085Z"
   },
   {
    "duration": 0,
    "start_time": "2022-05-23T08:05:16.086Z"
   },
   {
    "duration": 19,
    "start_time": "2022-05-23T08:06:13.312Z"
   },
   {
    "duration": 4,
    "start_time": "2022-05-23T08:06:14.921Z"
   },
   {
    "duration": 11,
    "start_time": "2022-05-23T08:06:31.752Z"
   },
   {
    "duration": 11,
    "start_time": "2022-05-23T08:06:38.257Z"
   },
   {
    "duration": 6,
    "start_time": "2022-05-23T08:06:48.661Z"
   },
   {
    "duration": 3,
    "start_time": "2022-05-23T08:07:19.913Z"
   },
   {
    "duration": 7,
    "start_time": "2022-05-23T08:07:29.617Z"
   },
   {
    "duration": 23,
    "start_time": "2022-05-23T08:07:36.453Z"
   },
   {
    "duration": 24,
    "start_time": "2022-05-23T08:08:24.077Z"
   },
   {
    "duration": 1475,
    "start_time": "2022-05-23T08:08:54.196Z"
   },
   {
    "duration": 38,
    "start_time": "2022-05-23T08:08:55.673Z"
   },
   {
    "duration": 9,
    "start_time": "2022-05-23T08:08:55.713Z"
   },
   {
    "duration": 23,
    "start_time": "2022-05-23T08:08:55.724Z"
   },
   {
    "duration": 19,
    "start_time": "2022-05-23T08:08:55.748Z"
   },
   {
    "duration": 14,
    "start_time": "2022-05-23T08:08:55.769Z"
   },
   {
    "duration": 31,
    "start_time": "2022-05-23T08:08:55.785Z"
   },
   {
    "duration": 102,
    "start_time": "2022-05-23T08:08:55.817Z"
   },
   {
    "duration": 484,
    "start_time": "2022-05-23T08:08:55.921Z"
   },
   {
    "duration": 10,
    "start_time": "2022-05-23T08:08:56.408Z"
   },
   {
    "duration": 744,
    "start_time": "2022-05-23T08:08:56.419Z"
   },
   {
    "duration": 297,
    "start_time": "2022-05-23T08:08:57.165Z"
   },
   {
    "duration": 262,
    "start_time": "2022-05-23T08:08:57.465Z"
   },
   {
    "duration": 4,
    "start_time": "2022-05-23T08:08:57.729Z"
   },
   {
    "duration": 31,
    "start_time": "2022-05-23T08:08:57.734Z"
   },
   {
    "duration": 116,
    "start_time": "2022-05-23T08:08:57.767Z"
   },
   {
    "duration": 6,
    "start_time": "2022-05-23T08:08:57.886Z"
   },
   {
    "duration": 441,
    "start_time": "2022-05-23T08:08:57.894Z"
   },
   {
    "duration": 286,
    "start_time": "2022-05-23T08:08:58.337Z"
   },
   {
    "duration": 282,
    "start_time": "2022-05-23T08:08:58.624Z"
   },
   {
    "duration": 27,
    "start_time": "2022-05-23T08:08:58.908Z"
   },
   {
    "duration": 41,
    "start_time": "2022-05-23T08:08:58.937Z"
   },
   {
    "duration": 12,
    "start_time": "2022-05-23T08:08:58.980Z"
   },
   {
    "duration": 30,
    "start_time": "2022-05-23T08:08:58.994Z"
   },
   {
    "duration": 4,
    "start_time": "2022-05-23T08:08:59.026Z"
   },
   {
    "duration": 199,
    "start_time": "2022-05-23T08:08:59.032Z"
   },
   {
    "duration": 10,
    "start_time": "2022-05-23T08:08:59.232Z"
   },
   {
    "duration": 6,
    "start_time": "2022-05-23T08:08:59.245Z"
   },
   {
    "duration": 8,
    "start_time": "2022-05-23T08:08:59.265Z"
   },
   {
    "duration": 9,
    "start_time": "2022-05-23T08:08:59.274Z"
   },
   {
    "duration": 7,
    "start_time": "2022-05-23T08:08:59.285Z"
   },
   {
    "duration": 71,
    "start_time": "2022-05-23T08:08:59.294Z"
   },
   {
    "duration": 287,
    "start_time": "2022-05-23T08:08:59.367Z"
   },
   {
    "duration": 10506,
    "start_time": "2022-05-23T08:08:59.656Z"
   },
   {
    "duration": 107920,
    "start_time": "2022-05-23T08:09:10.165Z"
   },
   {
    "duration": 641,
    "start_time": "2022-05-23T08:10:58.165Z"
   },
   {
    "duration": 244,
    "start_time": "2022-05-23T08:10:58.808Z"
   },
   {
    "duration": 14,
    "start_time": "2022-05-23T08:10:59.054Z"
   },
   {
    "duration": 14,
    "start_time": "2022-05-23T08:10:59.070Z"
   },
   {
    "duration": 487,
    "start_time": "2022-05-23T08:11:37.502Z"
   },
   {
    "duration": 632,
    "start_time": "2022-05-23T08:11:50.164Z"
   },
   {
    "duration": 489,
    "start_time": "2022-05-23T08:11:58.336Z"
   },
   {
    "duration": 236,
    "start_time": "2022-05-23T08:19:44.423Z"
   },
   {
    "duration": 205,
    "start_time": "2022-05-23T08:20:32.216Z"
   }
  ],
  "kernelspec": {
   "display_name": "Python 3 (ipykernel)",
   "language": "python",
   "name": "python3"
  },
  "language_info": {
   "codemirror_mode": {
    "name": "ipython",
    "version": 3
   },
   "file_extension": ".py",
   "mimetype": "text/x-python",
   "name": "python",
   "nbconvert_exporter": "python",
   "pygments_lexer": "ipython3",
   "version": "3.9.9"
  },
  "toc": {
   "base_numbering": 1,
   "nav_menu": {},
   "number_sections": true,
   "sideBar": true,
   "skip_h1_title": true,
   "title_cell": "Table of Contents",
   "title_sidebar": "Contents",
   "toc_cell": false,
   "toc_position": {},
   "toc_section_display": true,
   "toc_window_display": false
  }
 },
 "nbformat": 4,
 "nbformat_minor": 5
}
