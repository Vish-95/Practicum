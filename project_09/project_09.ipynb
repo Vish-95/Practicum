{
 "cells": [
  {
   "cell_type": "markdown",
   "metadata": {
    "toc": true
   },
   "source": [
    "<h1>Содержание<span class=\"tocSkip\"></span></h1>\n",
    "<div class=\"toc\"><ul class=\"toc-item\"><li><span><a href=\"#Подготовка-данных\" data-toc-modified-id=\"Подготовка-данных-1\"><span class=\"toc-item-num\">1&nbsp;&nbsp;</span>Подготовка данных</a></span><ul class=\"toc-item\"><li><span><a href=\"#Изучение-данных-из-файла\" data-toc-modified-id=\"Изучение-данных-из-файла-1.1\"><span class=\"toc-item-num\">1.1&nbsp;&nbsp;</span>Изучение данных из файла</a></span></li><li><span><a href=\"#Предобработка-данных\" data-toc-modified-id=\"Предобработка-данных-1.2\"><span class=\"toc-item-num\">1.2&nbsp;&nbsp;</span>Предобработка данных</a></span></li></ul></li><li><span><a href=\"#Анализ-данных\" data-toc-modified-id=\"Анализ-данных-2\"><span class=\"toc-item-num\">2&nbsp;&nbsp;</span>Анализ данных</a></span></li><li><span><a href=\"#Модель\" data-toc-modified-id=\"Модель-3\"><span class=\"toc-item-num\">3&nbsp;&nbsp;</span>Модель</a></span></li><li><span><a href=\"#Итоговый-вывод\" data-toc-modified-id=\"Итоговый-вывод-4\"><span class=\"toc-item-num\">4&nbsp;&nbsp;</span>Итоговый вывод</a></span></li><li><span><a href=\"#Чек-лист-готовности-проекта\" data-toc-modified-id=\"Чек-лист-готовности-проекта-5\"><span class=\"toc-item-num\">5&nbsp;&nbsp;</span>Чек-лист готовности проекта</a></span></li></ul></div>"
   ]
  },
  {
   "cell_type": "markdown",
   "metadata": {},
   "source": [
    "# Восстановление золота из руды"
   ]
  },
  {
   "cell_type": "markdown",
   "metadata": {},
   "source": [
    "Подготовьте прототип модели машинного обучения для «Цифры». Компания разрабатывает решения для эффективной работы промышленных предприятий.\n",
    "\n",
    "Модель должна предсказать коэффициент восстановления золота из золотосодержащей руды. Используйте данные с параметрами добычи и очистки. \n",
    "\n",
    "Модель поможет оптимизировать производство, чтобы не запускать предприятие с убыточными характеристиками.\n",
    "\n",
    "Вам нужно:\n",
    "\n",
    "1. Подготовить данные;\n",
    "2. Провести исследовательский анализ данных;\n",
    "3. Построить и обучить модель.\n",
    "\n",
    "Чтобы выполнить проект, обращайтесь к библиотекам *pandas*, *matplotlib* и *sklearn.* Вам поможет их документация."
   ]
  },
  {
   "cell_type": "code",
   "execution_count": 1,
   "metadata": {},
   "outputs": [],
   "source": [
    "import matplotlib.pyplot as plt\n",
    "import numpy as np\n",
    "import pandas as pd\n",
    "import seaborn as sns\n",
    "from sklearn.metrics import mean_absolute_error\n",
    "from sklearn.model_selection import GridSearchCV\n",
    "from sklearn.ensemble import RandomForestRegressor\n",
    "from sklearn.model_selection import cross_val_score\n",
    "from sklearn.linear_model import LinearRegression\n",
    "from sklearn.metrics import make_scorer\n",
    "\n",
    "RANDOM_STATE = 1234"
   ]
  },
  {
   "cell_type": "markdown",
   "metadata": {},
   "source": [
    "## Подготовка данных"
   ]
  },
  {
   "cell_type": "markdown",
   "metadata": {},
   "source": [
    "### Изучение данных из файла"
   ]
  },
  {
   "cell_type": "code",
   "execution_count": 2,
   "metadata": {},
   "outputs": [],
   "source": [
    "data = pd.read_csv('/datasets/gold_recovery_full_new.csv', index_col='date', parse_dates=True)\n",
    "train = pd.read_csv('/datasets/gold_recovery_train_new.csv', index_col='date', parse_dates=True)\n",
    "test = pd.read_csv('/datasets/gold_recovery_test_new.csv', index_col='date', parse_dates=True)"
   ]
  },
  {
   "cell_type": "markdown",
   "metadata": {},
   "source": [
    "**Исходные данные**"
   ]
  },
  {
   "cell_type": "code",
   "execution_count": 3,
   "metadata": {
    "scrolled": true
   },
   "outputs": [
    {
     "data": {
      "text/html": [
       "<div>\n",
       "<style scoped>\n",
       "    .dataframe tbody tr th:only-of-type {\n",
       "        vertical-align: middle;\n",
       "    }\n",
       "\n",
       "    .dataframe tbody tr th {\n",
       "        vertical-align: top;\n",
       "    }\n",
       "\n",
       "    .dataframe thead th {\n",
       "        text-align: right;\n",
       "    }\n",
       "</style>\n",
       "<table border=\"1\" class=\"dataframe\">\n",
       "  <thead>\n",
       "    <tr style=\"text-align: right;\">\n",
       "      <th></th>\n",
       "      <th>final.output.concentrate_ag</th>\n",
       "      <th>final.output.concentrate_pb</th>\n",
       "      <th>final.output.concentrate_sol</th>\n",
       "      <th>final.output.concentrate_au</th>\n",
       "      <th>final.output.recovery</th>\n",
       "      <th>final.output.tail_ag</th>\n",
       "      <th>final.output.tail_pb</th>\n",
       "      <th>final.output.tail_sol</th>\n",
       "      <th>final.output.tail_au</th>\n",
       "      <th>primary_cleaner.input.sulfate</th>\n",
       "      <th>...</th>\n",
       "      <th>secondary_cleaner.state.floatbank4_a_air</th>\n",
       "      <th>secondary_cleaner.state.floatbank4_a_level</th>\n",
       "      <th>secondary_cleaner.state.floatbank4_b_air</th>\n",
       "      <th>secondary_cleaner.state.floatbank4_b_level</th>\n",
       "      <th>secondary_cleaner.state.floatbank5_a_air</th>\n",
       "      <th>secondary_cleaner.state.floatbank5_a_level</th>\n",
       "      <th>secondary_cleaner.state.floatbank5_b_air</th>\n",
       "      <th>secondary_cleaner.state.floatbank5_b_level</th>\n",
       "      <th>secondary_cleaner.state.floatbank6_a_air</th>\n",
       "      <th>secondary_cleaner.state.floatbank6_a_level</th>\n",
       "    </tr>\n",
       "    <tr>\n",
       "      <th>date</th>\n",
       "      <th></th>\n",
       "      <th></th>\n",
       "      <th></th>\n",
       "      <th></th>\n",
       "      <th></th>\n",
       "      <th></th>\n",
       "      <th></th>\n",
       "      <th></th>\n",
       "      <th></th>\n",
       "      <th></th>\n",
       "      <th></th>\n",
       "      <th></th>\n",
       "      <th></th>\n",
       "      <th></th>\n",
       "      <th></th>\n",
       "      <th></th>\n",
       "      <th></th>\n",
       "      <th></th>\n",
       "      <th></th>\n",
       "      <th></th>\n",
       "      <th></th>\n",
       "    </tr>\n",
       "  </thead>\n",
       "  <tbody>\n",
       "    <tr>\n",
       "      <th>2016-01-15 00:00:00</th>\n",
       "      <td>6.055403</td>\n",
       "      <td>9.889648</td>\n",
       "      <td>5.507324</td>\n",
       "      <td>42.192020</td>\n",
       "      <td>70.541216</td>\n",
       "      <td>10.411962</td>\n",
       "      <td>0.895447</td>\n",
       "      <td>16.904297</td>\n",
       "      <td>2.143149</td>\n",
       "      <td>127.092003</td>\n",
       "      <td>...</td>\n",
       "      <td>14.016835</td>\n",
       "      <td>-502.488007</td>\n",
       "      <td>12.099931</td>\n",
       "      <td>-504.715942</td>\n",
       "      <td>9.925633</td>\n",
       "      <td>-498.310211</td>\n",
       "      <td>8.079666</td>\n",
       "      <td>-500.470978</td>\n",
       "      <td>14.151341</td>\n",
       "      <td>-605.841980</td>\n",
       "    </tr>\n",
       "    <tr>\n",
       "      <th>2016-01-15 01:00:00</th>\n",
       "      <td>6.029369</td>\n",
       "      <td>9.968944</td>\n",
       "      <td>5.257781</td>\n",
       "      <td>42.701629</td>\n",
       "      <td>69.266198</td>\n",
       "      <td>10.462676</td>\n",
       "      <td>0.927452</td>\n",
       "      <td>16.634514</td>\n",
       "      <td>2.224930</td>\n",
       "      <td>125.629232</td>\n",
       "      <td>...</td>\n",
       "      <td>13.992281</td>\n",
       "      <td>-505.503262</td>\n",
       "      <td>11.950531</td>\n",
       "      <td>-501.331529</td>\n",
       "      <td>10.039245</td>\n",
       "      <td>-500.169983</td>\n",
       "      <td>7.984757</td>\n",
       "      <td>-500.582168</td>\n",
       "      <td>13.998353</td>\n",
       "      <td>-599.787184</td>\n",
       "    </tr>\n",
       "    <tr>\n",
       "      <th>2016-01-15 02:00:00</th>\n",
       "      <td>6.055926</td>\n",
       "      <td>10.213995</td>\n",
       "      <td>5.383759</td>\n",
       "      <td>42.657501</td>\n",
       "      <td>68.116445</td>\n",
       "      <td>10.507046</td>\n",
       "      <td>0.953716</td>\n",
       "      <td>16.208849</td>\n",
       "      <td>2.257889</td>\n",
       "      <td>123.819808</td>\n",
       "      <td>...</td>\n",
       "      <td>14.015015</td>\n",
       "      <td>-502.520901</td>\n",
       "      <td>11.912783</td>\n",
       "      <td>-501.133383</td>\n",
       "      <td>10.070913</td>\n",
       "      <td>-500.129135</td>\n",
       "      <td>8.013877</td>\n",
       "      <td>-500.517572</td>\n",
       "      <td>14.028663</td>\n",
       "      <td>-601.427363</td>\n",
       "    </tr>\n",
       "    <tr>\n",
       "      <th>2016-01-15 03:00:00</th>\n",
       "      <td>6.047977</td>\n",
       "      <td>9.977019</td>\n",
       "      <td>4.858634</td>\n",
       "      <td>42.689819</td>\n",
       "      <td>68.347543</td>\n",
       "      <td>10.422762</td>\n",
       "      <td>0.883763</td>\n",
       "      <td>16.532835</td>\n",
       "      <td>2.146849</td>\n",
       "      <td>122.270188</td>\n",
       "      <td>...</td>\n",
       "      <td>14.036510</td>\n",
       "      <td>-500.857308</td>\n",
       "      <td>11.999550</td>\n",
       "      <td>-501.193686</td>\n",
       "      <td>9.970366</td>\n",
       "      <td>-499.201640</td>\n",
       "      <td>7.977324</td>\n",
       "      <td>-500.255908</td>\n",
       "      <td>14.005551</td>\n",
       "      <td>-599.996129</td>\n",
       "    </tr>\n",
       "    <tr>\n",
       "      <th>2016-01-15 04:00:00</th>\n",
       "      <td>6.148599</td>\n",
       "      <td>10.142511</td>\n",
       "      <td>4.939416</td>\n",
       "      <td>42.774141</td>\n",
       "      <td>66.927016</td>\n",
       "      <td>10.360302</td>\n",
       "      <td>0.792826</td>\n",
       "      <td>16.525686</td>\n",
       "      <td>2.055292</td>\n",
       "      <td>117.988169</td>\n",
       "      <td>...</td>\n",
       "      <td>14.027298</td>\n",
       "      <td>-499.838632</td>\n",
       "      <td>11.953070</td>\n",
       "      <td>-501.053894</td>\n",
       "      <td>9.925709</td>\n",
       "      <td>-501.686727</td>\n",
       "      <td>7.894242</td>\n",
       "      <td>-500.356035</td>\n",
       "      <td>13.996647</td>\n",
       "      <td>-601.496691</td>\n",
       "    </tr>\n",
       "  </tbody>\n",
       "</table>\n",
       "<p>5 rows × 86 columns</p>\n",
       "</div>"
      ],
      "text/plain": [
       "                     final.output.concentrate_ag  final.output.concentrate_pb  \\\n",
       "date                                                                            \n",
       "2016-01-15 00:00:00                     6.055403                     9.889648   \n",
       "2016-01-15 01:00:00                     6.029369                     9.968944   \n",
       "2016-01-15 02:00:00                     6.055926                    10.213995   \n",
       "2016-01-15 03:00:00                     6.047977                     9.977019   \n",
       "2016-01-15 04:00:00                     6.148599                    10.142511   \n",
       "\n",
       "                     final.output.concentrate_sol  \\\n",
       "date                                                \n",
       "2016-01-15 00:00:00                      5.507324   \n",
       "2016-01-15 01:00:00                      5.257781   \n",
       "2016-01-15 02:00:00                      5.383759   \n",
       "2016-01-15 03:00:00                      4.858634   \n",
       "2016-01-15 04:00:00                      4.939416   \n",
       "\n",
       "                     final.output.concentrate_au  final.output.recovery  \\\n",
       "date                                                                      \n",
       "2016-01-15 00:00:00                    42.192020              70.541216   \n",
       "2016-01-15 01:00:00                    42.701629              69.266198   \n",
       "2016-01-15 02:00:00                    42.657501              68.116445   \n",
       "2016-01-15 03:00:00                    42.689819              68.347543   \n",
       "2016-01-15 04:00:00                    42.774141              66.927016   \n",
       "\n",
       "                     final.output.tail_ag  final.output.tail_pb  \\\n",
       "date                                                              \n",
       "2016-01-15 00:00:00             10.411962              0.895447   \n",
       "2016-01-15 01:00:00             10.462676              0.927452   \n",
       "2016-01-15 02:00:00             10.507046              0.953716   \n",
       "2016-01-15 03:00:00             10.422762              0.883763   \n",
       "2016-01-15 04:00:00             10.360302              0.792826   \n",
       "\n",
       "                     final.output.tail_sol  final.output.tail_au  \\\n",
       "date                                                               \n",
       "2016-01-15 00:00:00              16.904297              2.143149   \n",
       "2016-01-15 01:00:00              16.634514              2.224930   \n",
       "2016-01-15 02:00:00              16.208849              2.257889   \n",
       "2016-01-15 03:00:00              16.532835              2.146849   \n",
       "2016-01-15 04:00:00              16.525686              2.055292   \n",
       "\n",
       "                     primary_cleaner.input.sulfate  ...  \\\n",
       "date                                                ...   \n",
       "2016-01-15 00:00:00                     127.092003  ...   \n",
       "2016-01-15 01:00:00                     125.629232  ...   \n",
       "2016-01-15 02:00:00                     123.819808  ...   \n",
       "2016-01-15 03:00:00                     122.270188  ...   \n",
       "2016-01-15 04:00:00                     117.988169  ...   \n",
       "\n",
       "                     secondary_cleaner.state.floatbank4_a_air  \\\n",
       "date                                                            \n",
       "2016-01-15 00:00:00                                 14.016835   \n",
       "2016-01-15 01:00:00                                 13.992281   \n",
       "2016-01-15 02:00:00                                 14.015015   \n",
       "2016-01-15 03:00:00                                 14.036510   \n",
       "2016-01-15 04:00:00                                 14.027298   \n",
       "\n",
       "                     secondary_cleaner.state.floatbank4_a_level  \\\n",
       "date                                                              \n",
       "2016-01-15 00:00:00                                 -502.488007   \n",
       "2016-01-15 01:00:00                                 -505.503262   \n",
       "2016-01-15 02:00:00                                 -502.520901   \n",
       "2016-01-15 03:00:00                                 -500.857308   \n",
       "2016-01-15 04:00:00                                 -499.838632   \n",
       "\n",
       "                     secondary_cleaner.state.floatbank4_b_air  \\\n",
       "date                                                            \n",
       "2016-01-15 00:00:00                                 12.099931   \n",
       "2016-01-15 01:00:00                                 11.950531   \n",
       "2016-01-15 02:00:00                                 11.912783   \n",
       "2016-01-15 03:00:00                                 11.999550   \n",
       "2016-01-15 04:00:00                                 11.953070   \n",
       "\n",
       "                     secondary_cleaner.state.floatbank4_b_level  \\\n",
       "date                                                              \n",
       "2016-01-15 00:00:00                                 -504.715942   \n",
       "2016-01-15 01:00:00                                 -501.331529   \n",
       "2016-01-15 02:00:00                                 -501.133383   \n",
       "2016-01-15 03:00:00                                 -501.193686   \n",
       "2016-01-15 04:00:00                                 -501.053894   \n",
       "\n",
       "                     secondary_cleaner.state.floatbank5_a_air  \\\n",
       "date                                                            \n",
       "2016-01-15 00:00:00                                  9.925633   \n",
       "2016-01-15 01:00:00                                 10.039245   \n",
       "2016-01-15 02:00:00                                 10.070913   \n",
       "2016-01-15 03:00:00                                  9.970366   \n",
       "2016-01-15 04:00:00                                  9.925709   \n",
       "\n",
       "                     secondary_cleaner.state.floatbank5_a_level  \\\n",
       "date                                                              \n",
       "2016-01-15 00:00:00                                 -498.310211   \n",
       "2016-01-15 01:00:00                                 -500.169983   \n",
       "2016-01-15 02:00:00                                 -500.129135   \n",
       "2016-01-15 03:00:00                                 -499.201640   \n",
       "2016-01-15 04:00:00                                 -501.686727   \n",
       "\n",
       "                     secondary_cleaner.state.floatbank5_b_air  \\\n",
       "date                                                            \n",
       "2016-01-15 00:00:00                                  8.079666   \n",
       "2016-01-15 01:00:00                                  7.984757   \n",
       "2016-01-15 02:00:00                                  8.013877   \n",
       "2016-01-15 03:00:00                                  7.977324   \n",
       "2016-01-15 04:00:00                                  7.894242   \n",
       "\n",
       "                     secondary_cleaner.state.floatbank5_b_level  \\\n",
       "date                                                              \n",
       "2016-01-15 00:00:00                                 -500.470978   \n",
       "2016-01-15 01:00:00                                 -500.582168   \n",
       "2016-01-15 02:00:00                                 -500.517572   \n",
       "2016-01-15 03:00:00                                 -500.255908   \n",
       "2016-01-15 04:00:00                                 -500.356035   \n",
       "\n",
       "                     secondary_cleaner.state.floatbank6_a_air  \\\n",
       "date                                                            \n",
       "2016-01-15 00:00:00                                 14.151341   \n",
       "2016-01-15 01:00:00                                 13.998353   \n",
       "2016-01-15 02:00:00                                 14.028663   \n",
       "2016-01-15 03:00:00                                 14.005551   \n",
       "2016-01-15 04:00:00                                 13.996647   \n",
       "\n",
       "                     secondary_cleaner.state.floatbank6_a_level  \n",
       "date                                                             \n",
       "2016-01-15 00:00:00                                 -605.841980  \n",
       "2016-01-15 01:00:00                                 -599.787184  \n",
       "2016-01-15 02:00:00                                 -601.427363  \n",
       "2016-01-15 03:00:00                                 -599.996129  \n",
       "2016-01-15 04:00:00                                 -601.496691  \n",
       "\n",
       "[5 rows x 86 columns]"
      ]
     },
     "execution_count": 3,
     "metadata": {},
     "output_type": "execute_result"
    }
   ],
   "source": [
    "data.head()"
   ]
  },
  {
   "cell_type": "code",
   "execution_count": 4,
   "metadata": {
    "scrolled": true
   },
   "outputs": [
    {
     "name": "stdout",
     "output_type": "stream",
     "text": [
      "<class 'pandas.core.frame.DataFrame'>\n",
      "DatetimeIndex: 19439 entries, 2016-01-15 00:00:00 to 2018-08-18 10:59:59\n",
      "Data columns (total 86 columns):\n",
      " #   Column                                              Non-Null Count  Dtype  \n",
      "---  ------                                              --------------  -----  \n",
      " 0   final.output.concentrate_ag                         19438 non-null  float64\n",
      " 1   final.output.concentrate_pb                         19438 non-null  float64\n",
      " 2   final.output.concentrate_sol                        19228 non-null  float64\n",
      " 3   final.output.concentrate_au                         19439 non-null  float64\n",
      " 4   final.output.recovery                               19439 non-null  float64\n",
      " 5   final.output.tail_ag                                19438 non-null  float64\n",
      " 6   final.output.tail_pb                                19338 non-null  float64\n",
      " 7   final.output.tail_sol                               19433 non-null  float64\n",
      " 8   final.output.tail_au                                19439 non-null  float64\n",
      " 9   primary_cleaner.input.sulfate                       19415 non-null  float64\n",
      " 10  primary_cleaner.input.depressant                    19402 non-null  float64\n",
      " 11  primary_cleaner.input.feed_size                     19439 non-null  float64\n",
      " 12  primary_cleaner.input.xanthate                      19335 non-null  float64\n",
      " 13  primary_cleaner.output.concentrate_ag               19439 non-null  float64\n",
      " 14  primary_cleaner.output.concentrate_pb               19323 non-null  float64\n",
      " 15  primary_cleaner.output.concentrate_sol              19069 non-null  float64\n",
      " 16  primary_cleaner.output.concentrate_au               19439 non-null  float64\n",
      " 17  primary_cleaner.output.tail_ag                      19435 non-null  float64\n",
      " 18  primary_cleaner.output.tail_pb                      19418 non-null  float64\n",
      " 19  primary_cleaner.output.tail_sol                     19377 non-null  float64\n",
      " 20  primary_cleaner.output.tail_au                      19439 non-null  float64\n",
      " 21  primary_cleaner.state.floatbank8_a_air              19435 non-null  float64\n",
      " 22  primary_cleaner.state.floatbank8_a_level            19438 non-null  float64\n",
      " 23  primary_cleaner.state.floatbank8_b_air              19435 non-null  float64\n",
      " 24  primary_cleaner.state.floatbank8_b_level            19438 non-null  float64\n",
      " 25  primary_cleaner.state.floatbank8_c_air              19437 non-null  float64\n",
      " 26  primary_cleaner.state.floatbank8_c_level            19438 non-null  float64\n",
      " 27  primary_cleaner.state.floatbank8_d_air              19436 non-null  float64\n",
      " 28  primary_cleaner.state.floatbank8_d_level            19438 non-null  float64\n",
      " 29  rougher.calculation.sulfate_to_au_concentrate       19437 non-null  float64\n",
      " 30  rougher.calculation.floatbank10_sulfate_to_au_feed  19437 non-null  float64\n",
      " 31  rougher.calculation.floatbank11_sulfate_to_au_feed  19437 non-null  float64\n",
      " 32  rougher.calculation.au_pb_ratio                     19439 non-null  float64\n",
      " 33  rougher.input.feed_ag                               19439 non-null  float64\n",
      " 34  rougher.input.feed_pb                               19339 non-null  float64\n",
      " 35  rougher.input.feed_rate                             19428 non-null  float64\n",
      " 36  rougher.input.feed_size                             19294 non-null  float64\n",
      " 37  rougher.input.feed_sol                              19340 non-null  float64\n",
      " 38  rougher.input.feed_au                               19439 non-null  float64\n",
      " 39  rougher.input.floatbank10_sulfate                   19405 non-null  float64\n",
      " 40  rougher.input.floatbank10_xanthate                  19431 non-null  float64\n",
      " 41  rougher.input.floatbank11_sulfate                   19395 non-null  float64\n",
      " 42  rougher.input.floatbank11_xanthate                  18986 non-null  float64\n",
      " 43  rougher.output.concentrate_ag                       19439 non-null  float64\n",
      " 44  rougher.output.concentrate_pb                       19439 non-null  float64\n",
      " 45  rougher.output.concentrate_sol                      19416 non-null  float64\n",
      " 46  rougher.output.concentrate_au                       19439 non-null  float64\n",
      " 47  rougher.output.recovery                             19439 non-null  float64\n",
      " 48  rougher.output.tail_ag                              19438 non-null  float64\n",
      " 49  rougher.output.tail_pb                              19439 non-null  float64\n",
      " 50  rougher.output.tail_sol                             19439 non-null  float64\n",
      " 51  rougher.output.tail_au                              19439 non-null  float64\n",
      " 52  rougher.state.floatbank10_a_air                     19438 non-null  float64\n",
      " 53  rougher.state.floatbank10_a_level                   19438 non-null  float64\n",
      " 54  rougher.state.floatbank10_b_air                     19438 non-null  float64\n",
      " 55  rougher.state.floatbank10_b_level                   19438 non-null  float64\n",
      " 56  rougher.state.floatbank10_c_air                     19438 non-null  float64\n",
      " 57  rougher.state.floatbank10_c_level                   19438 non-null  float64\n",
      " 58  rougher.state.floatbank10_d_air                     19439 non-null  float64\n",
      " 59  rougher.state.floatbank10_d_level                   19439 non-null  float64\n",
      " 60  rougher.state.floatbank10_e_air                     19003 non-null  float64\n",
      " 61  rougher.state.floatbank10_e_level                   19439 non-null  float64\n",
      " 62  rougher.state.floatbank10_f_air                     19439 non-null  float64\n",
      " 63  rougher.state.floatbank10_f_level                   19439 non-null  float64\n",
      " 64  secondary_cleaner.output.tail_ag                    19437 non-null  float64\n",
      " 65  secondary_cleaner.output.tail_pb                    19427 non-null  float64\n",
      " 66  secondary_cleaner.output.tail_sol                   17691 non-null  float64\n",
      " 67  secondary_cleaner.output.tail_au                    19439 non-null  float64\n",
      " 68  secondary_cleaner.state.floatbank2_a_air            19219 non-null  float64\n",
      " 69  secondary_cleaner.state.floatbank2_a_level          19438 non-null  float64\n",
      " 70  secondary_cleaner.state.floatbank2_b_air            19416 non-null  float64\n",
      " 71  secondary_cleaner.state.floatbank2_b_level          19438 non-null  float64\n",
      " 72  secondary_cleaner.state.floatbank3_a_air            19426 non-null  float64\n",
      " 73  secondary_cleaner.state.floatbank3_a_level          19438 non-null  float64\n",
      " 74  secondary_cleaner.state.floatbank3_b_air            19438 non-null  float64\n",
      " 75  secondary_cleaner.state.floatbank3_b_level          19438 non-null  float64\n",
      " 76  secondary_cleaner.state.floatbank4_a_air            19433 non-null  float64\n",
      " 77  secondary_cleaner.state.floatbank4_a_level          19438 non-null  float64\n",
      " 78  secondary_cleaner.state.floatbank4_b_air            19438 non-null  float64\n",
      " 79  secondary_cleaner.state.floatbank4_b_level          19438 non-null  float64\n",
      " 80  secondary_cleaner.state.floatbank5_a_air            19438 non-null  float64\n",
      " 81  secondary_cleaner.state.floatbank5_a_level          19438 non-null  float64\n",
      " 82  secondary_cleaner.state.floatbank5_b_air            19438 non-null  float64\n",
      " 83  secondary_cleaner.state.floatbank5_b_level          19438 non-null  float64\n",
      " 84  secondary_cleaner.state.floatbank6_a_air            19437 non-null  float64\n",
      " 85  secondary_cleaner.state.floatbank6_a_level          19438 non-null  float64\n",
      "dtypes: float64(86)\n",
      "memory usage: 12.9 MB\n"
     ]
    }
   ],
   "source": [
    "data.info()"
   ]
  },
  {
   "cell_type": "markdown",
   "metadata": {},
   "source": [
    "**Обучающая выборка**"
   ]
  },
  {
   "cell_type": "code",
   "execution_count": 5,
   "metadata": {
    "scrolled": true
   },
   "outputs": [
    {
     "name": "stdout",
     "output_type": "stream",
     "text": [
      "<class 'pandas.core.frame.DataFrame'>\n",
      "DatetimeIndex: 14149 entries, 2016-01-15 00:00:00 to 2018-08-18 10:59:59\n",
      "Data columns (total 86 columns):\n",
      " #   Column                                              Non-Null Count  Dtype  \n",
      "---  ------                                              --------------  -----  \n",
      " 0   final.output.concentrate_ag                         14148 non-null  float64\n",
      " 1   final.output.concentrate_pb                         14148 non-null  float64\n",
      " 2   final.output.concentrate_sol                        13938 non-null  float64\n",
      " 3   final.output.concentrate_au                         14149 non-null  float64\n",
      " 4   final.output.recovery                               14149 non-null  float64\n",
      " 5   final.output.tail_ag                                14149 non-null  float64\n",
      " 6   final.output.tail_pb                                14049 non-null  float64\n",
      " 7   final.output.tail_sol                               14144 non-null  float64\n",
      " 8   final.output.tail_au                                14149 non-null  float64\n",
      " 9   primary_cleaner.input.sulfate                       14129 non-null  float64\n",
      " 10  primary_cleaner.input.depressant                    14117 non-null  float64\n",
      " 11  primary_cleaner.input.feed_size                     14149 non-null  float64\n",
      " 12  primary_cleaner.input.xanthate                      14049 non-null  float64\n",
      " 13  primary_cleaner.output.concentrate_ag               14149 non-null  float64\n",
      " 14  primary_cleaner.output.concentrate_pb               14063 non-null  float64\n",
      " 15  primary_cleaner.output.concentrate_sol              13863 non-null  float64\n",
      " 16  primary_cleaner.output.concentrate_au               14149 non-null  float64\n",
      " 17  primary_cleaner.output.tail_ag                      14148 non-null  float64\n",
      " 18  primary_cleaner.output.tail_pb                      14134 non-null  float64\n",
      " 19  primary_cleaner.output.tail_sol                     14103 non-null  float64\n",
      " 20  primary_cleaner.output.tail_au                      14149 non-null  float64\n",
      " 21  primary_cleaner.state.floatbank8_a_air              14145 non-null  float64\n",
      " 22  primary_cleaner.state.floatbank8_a_level            14148 non-null  float64\n",
      " 23  primary_cleaner.state.floatbank8_b_air              14145 non-null  float64\n",
      " 24  primary_cleaner.state.floatbank8_b_level            14148 non-null  float64\n",
      " 25  primary_cleaner.state.floatbank8_c_air              14147 non-null  float64\n",
      " 26  primary_cleaner.state.floatbank8_c_level            14148 non-null  float64\n",
      " 27  primary_cleaner.state.floatbank8_d_air              14146 non-null  float64\n",
      " 28  primary_cleaner.state.floatbank8_d_level            14148 non-null  float64\n",
      " 29  rougher.calculation.sulfate_to_au_concentrate       14148 non-null  float64\n",
      " 30  rougher.calculation.floatbank10_sulfate_to_au_feed  14148 non-null  float64\n",
      " 31  rougher.calculation.floatbank11_sulfate_to_au_feed  14148 non-null  float64\n",
      " 32  rougher.calculation.au_pb_ratio                     14149 non-null  float64\n",
      " 33  rougher.input.feed_ag                               14149 non-null  float64\n",
      " 34  rougher.input.feed_pb                               14049 non-null  float64\n",
      " 35  rougher.input.feed_rate                             14141 non-null  float64\n",
      " 36  rougher.input.feed_size                             14005 non-null  float64\n",
      " 37  rougher.input.feed_sol                              14071 non-null  float64\n",
      " 38  rougher.input.feed_au                               14149 non-null  float64\n",
      " 39  rougher.input.floatbank10_sulfate                   14120 non-null  float64\n",
      " 40  rougher.input.floatbank10_xanthate                  14141 non-null  float64\n",
      " 41  rougher.input.floatbank11_sulfate                   14113 non-null  float64\n",
      " 42  rougher.input.floatbank11_xanthate                  13721 non-null  float64\n",
      " 43  rougher.output.concentrate_ag                       14149 non-null  float64\n",
      " 44  rougher.output.concentrate_pb                       14149 non-null  float64\n",
      " 45  rougher.output.concentrate_sol                      14127 non-null  float64\n",
      " 46  rougher.output.concentrate_au                       14149 non-null  float64\n",
      " 47  rougher.output.recovery                             14149 non-null  float64\n",
      " 48  rougher.output.tail_ag                              14148 non-null  float64\n",
      " 49  rougher.output.tail_pb                              14149 non-null  float64\n",
      " 50  rougher.output.tail_sol                             14149 non-null  float64\n",
      " 51  rougher.output.tail_au                              14149 non-null  float64\n",
      " 52  rougher.state.floatbank10_a_air                     14148 non-null  float64\n",
      " 53  rougher.state.floatbank10_a_level                   14148 non-null  float64\n",
      " 54  rougher.state.floatbank10_b_air                     14148 non-null  float64\n",
      " 55  rougher.state.floatbank10_b_level                   14148 non-null  float64\n",
      " 56  rougher.state.floatbank10_c_air                     14148 non-null  float64\n",
      " 57  rougher.state.floatbank10_c_level                   14148 non-null  float64\n",
      " 58  rougher.state.floatbank10_d_air                     14149 non-null  float64\n",
      " 59  rougher.state.floatbank10_d_level                   14149 non-null  float64\n",
      " 60  rougher.state.floatbank10_e_air                     13713 non-null  float64\n",
      " 61  rougher.state.floatbank10_e_level                   14149 non-null  float64\n",
      " 62  rougher.state.floatbank10_f_air                     14149 non-null  float64\n",
      " 63  rougher.state.floatbank10_f_level                   14149 non-null  float64\n",
      " 64  secondary_cleaner.output.tail_ag                    14147 non-null  float64\n",
      " 65  secondary_cleaner.output.tail_pb                    14139 non-null  float64\n",
      " 66  secondary_cleaner.output.tail_sol                   12544 non-null  float64\n",
      " 67  secondary_cleaner.output.tail_au                    14149 non-null  float64\n",
      " 68  secondary_cleaner.state.floatbank2_a_air            13932 non-null  float64\n",
      " 69  secondary_cleaner.state.floatbank2_a_level          14148 non-null  float64\n",
      " 70  secondary_cleaner.state.floatbank2_b_air            14128 non-null  float64\n",
      " 71  secondary_cleaner.state.floatbank2_b_level          14148 non-null  float64\n",
      " 72  secondary_cleaner.state.floatbank3_a_air            14145 non-null  float64\n",
      " 73  secondary_cleaner.state.floatbank3_a_level          14148 non-null  float64\n",
      " 74  secondary_cleaner.state.floatbank3_b_air            14148 non-null  float64\n",
      " 75  secondary_cleaner.state.floatbank3_b_level          14148 non-null  float64\n",
      " 76  secondary_cleaner.state.floatbank4_a_air            14143 non-null  float64\n",
      " 77  secondary_cleaner.state.floatbank4_a_level          14148 non-null  float64\n",
      " 78  secondary_cleaner.state.floatbank4_b_air            14148 non-null  float64\n",
      " 79  secondary_cleaner.state.floatbank4_b_level          14148 non-null  float64\n",
      " 80  secondary_cleaner.state.floatbank5_a_air            14148 non-null  float64\n",
      " 81  secondary_cleaner.state.floatbank5_a_level          14148 non-null  float64\n",
      " 82  secondary_cleaner.state.floatbank5_b_air            14148 non-null  float64\n",
      " 83  secondary_cleaner.state.floatbank5_b_level          14148 non-null  float64\n",
      " 84  secondary_cleaner.state.floatbank6_a_air            14147 non-null  float64\n",
      " 85  secondary_cleaner.state.floatbank6_a_level          14148 non-null  float64\n",
      "dtypes: float64(86)\n",
      "memory usage: 9.4 MB\n"
     ]
    }
   ],
   "source": [
    "train.info()"
   ]
  },
  {
   "cell_type": "markdown",
   "metadata": {},
   "source": [
    "**Тестовая выбоорка**"
   ]
  },
  {
   "cell_type": "code",
   "execution_count": 6,
   "metadata": {
    "scrolled": true
   },
   "outputs": [
    {
     "name": "stdout",
     "output_type": "stream",
     "text": [
      "<class 'pandas.core.frame.DataFrame'>\n",
      "DatetimeIndex: 5290 entries, 2016-09-01 00:59:59 to 2017-12-31 23:59:59\n",
      "Data columns (total 52 columns):\n",
      " #   Column                                      Non-Null Count  Dtype  \n",
      "---  ------                                      --------------  -----  \n",
      " 0   primary_cleaner.input.sulfate               5286 non-null   float64\n",
      " 1   primary_cleaner.input.depressant            5285 non-null   float64\n",
      " 2   primary_cleaner.input.feed_size             5290 non-null   float64\n",
      " 3   primary_cleaner.input.xanthate              5286 non-null   float64\n",
      " 4   primary_cleaner.state.floatbank8_a_air      5290 non-null   float64\n",
      " 5   primary_cleaner.state.floatbank8_a_level    5290 non-null   float64\n",
      " 6   primary_cleaner.state.floatbank8_b_air      5290 non-null   float64\n",
      " 7   primary_cleaner.state.floatbank8_b_level    5290 non-null   float64\n",
      " 8   primary_cleaner.state.floatbank8_c_air      5290 non-null   float64\n",
      " 9   primary_cleaner.state.floatbank8_c_level    5290 non-null   float64\n",
      " 10  primary_cleaner.state.floatbank8_d_air      5290 non-null   float64\n",
      " 11  primary_cleaner.state.floatbank8_d_level    5290 non-null   float64\n",
      " 12  rougher.input.feed_ag                       5290 non-null   float64\n",
      " 13  rougher.input.feed_pb                       5290 non-null   float64\n",
      " 14  rougher.input.feed_rate                     5287 non-null   float64\n",
      " 15  rougher.input.feed_size                     5289 non-null   float64\n",
      " 16  rougher.input.feed_sol                      5269 non-null   float64\n",
      " 17  rougher.input.feed_au                       5290 non-null   float64\n",
      " 18  rougher.input.floatbank10_sulfate           5285 non-null   float64\n",
      " 19  rougher.input.floatbank10_xanthate          5290 non-null   float64\n",
      " 20  rougher.input.floatbank11_sulfate           5282 non-null   float64\n",
      " 21  rougher.input.floatbank11_xanthate          5265 non-null   float64\n",
      " 22  rougher.state.floatbank10_a_air             5290 non-null   float64\n",
      " 23  rougher.state.floatbank10_a_level           5290 non-null   float64\n",
      " 24  rougher.state.floatbank10_b_air             5290 non-null   float64\n",
      " 25  rougher.state.floatbank10_b_level           5290 non-null   float64\n",
      " 26  rougher.state.floatbank10_c_air             5290 non-null   float64\n",
      " 27  rougher.state.floatbank10_c_level           5290 non-null   float64\n",
      " 28  rougher.state.floatbank10_d_air             5290 non-null   float64\n",
      " 29  rougher.state.floatbank10_d_level           5290 non-null   float64\n",
      " 30  rougher.state.floatbank10_e_air             5290 non-null   float64\n",
      " 31  rougher.state.floatbank10_e_level           5290 non-null   float64\n",
      " 32  rougher.state.floatbank10_f_air             5290 non-null   float64\n",
      " 33  rougher.state.floatbank10_f_level           5290 non-null   float64\n",
      " 34  secondary_cleaner.state.floatbank2_a_air    5287 non-null   float64\n",
      " 35  secondary_cleaner.state.floatbank2_a_level  5290 non-null   float64\n",
      " 36  secondary_cleaner.state.floatbank2_b_air    5288 non-null   float64\n",
      " 37  secondary_cleaner.state.floatbank2_b_level  5290 non-null   float64\n",
      " 38  secondary_cleaner.state.floatbank3_a_air    5281 non-null   float64\n",
      " 39  secondary_cleaner.state.floatbank3_a_level  5290 non-null   float64\n",
      " 40  secondary_cleaner.state.floatbank3_b_air    5290 non-null   float64\n",
      " 41  secondary_cleaner.state.floatbank3_b_level  5290 non-null   float64\n",
      " 42  secondary_cleaner.state.floatbank4_a_air    5290 non-null   float64\n",
      " 43  secondary_cleaner.state.floatbank4_a_level  5290 non-null   float64\n",
      " 44  secondary_cleaner.state.floatbank4_b_air    5290 non-null   float64\n",
      " 45  secondary_cleaner.state.floatbank4_b_level  5290 non-null   float64\n",
      " 46  secondary_cleaner.state.floatbank5_a_air    5290 non-null   float64\n",
      " 47  secondary_cleaner.state.floatbank5_a_level  5290 non-null   float64\n",
      " 48  secondary_cleaner.state.floatbank5_b_air    5290 non-null   float64\n",
      " 49  secondary_cleaner.state.floatbank5_b_level  5290 non-null   float64\n",
      " 50  secondary_cleaner.state.floatbank6_a_air    5290 non-null   float64\n",
      " 51  secondary_cleaner.state.floatbank6_a_level  5290 non-null   float64\n",
      "dtypes: float64(52)\n",
      "memory usage: 2.1 MB\n"
     ]
    }
   ],
   "source": [
    "test.info()"
   ]
  },
  {
   "cell_type": "markdown",
   "metadata": {},
   "source": [
    "**Согласно документации к данным**"
   ]
  },
  {
   "cell_type": "markdown",
   "metadata": {},
   "source": [
    "**Технологический процесс**\n",
    "\n",
    "- `Rougher feed` — исходное сырье\n",
    "\n",
    "- `Rougher additions (или reagent additions)` — флотационные реагенты: \n",
    "Xanthate, Sulphate, Depressant\n",
    "\n",
    "- `Xanthate **` — ксантогенат (промотер, или активатор флотации);\n",
    "\n",
    "- `Sulphate` — сульфат (на данном производстве сульфид натрия);\n",
    "\n",
    "- `Depressant` — депрессант (силикат натрия).\n",
    "\n",
    "- `Rougher process` (англ. «грубый процесс») — флотация\n",
    "\n",
    "- `Rougher tails` — отвальные хвосты\n",
    "\n",
    "- `Float banks` — флотационная установка\n",
    "\n",
    "- `Cleaner process` — очистка\n",
    "\n",
    "- `Rougher Au` — черновой концентрат золота\n",
    "\n",
    "- `Final Au` — финальный концентрат золота\n",
    "\n",
    "**Параметры этапов**\n",
    "\n",
    "- `air amount` — объём воздуха\n",
    "\n",
    "- `fluid levels` — уровень жидкости\n",
    "\n",
    "- `feed size` — размер гранул сырья\n",
    "\n",
    "- `feed rate` — скорость подачи\n",
    "\n",
    "**Этапы**\n",
    "\n",
    "- `rougher` — флотация\n",
    "\n",
    "- `primary_cleaner` — первичная очистка\n",
    "\n",
    "- `secondary_cleaner` — вторичная очистка\n",
    "\n",
    "- `final` — финальные характеристики\n",
    "\n",
    "**тип_параметра**\n",
    "\n",
    "- `input` — параметры сырья\n",
    "\n",
    "- `output` — параметры продукта\n",
    "\n",
    "- `state` — параметры, характеризующие текущее состояние этапа\n",
    "\n",
    "- `calculation` — расчётные характеристики"
   ]
  },
  {
   "cell_type": "markdown",
   "metadata": {},
   "source": [
    "**Вывод**"
   ]
  },
  {
   "cell_type": "markdown",
   "metadata": {},
   "source": [
    "Данные представленны в достаточном количестве. В данных несколько признаков содержат пропуски: ...\n",
    "Несколько признаков отсутвуют в тестовой выборке.\n",
    "- обучающая выборка от исходной составляет – 73%\n",
    "\n",
    "- тестовая выборка от исходной составляет – 27% \n"
   ]
  },
  {
   "cell_type": "markdown",
   "metadata": {},
   "source": [
    "### Предобработка данных"
   ]
  },
  {
   "cell_type": "markdown",
   "metadata": {},
   "source": [
    "**Расчёт эффективности обогащения**"
   ]
  },
  {
   "cell_type": "code",
   "execution_count": 7,
   "metadata": {},
   "outputs": [],
   "source": [
    "def recovery(row):\n",
    "# доля золота в концетрате после флотации/очистки\n",
    "    concentrate = row['rougher.output.concentrate_au']\n",
    "    \n",
    "# доля золота в концетрате до флотации/очистки\n",
    "    feed = row['rougher.input.feed_au']\n",
    "\n",
    "# доля золота в отвальных хвостах после флотации/очистки\n",
    "    tails = row['rougher.output.tail_au']\n",
    "    return (concentrate * (feed - tails)) / (feed * (concentrate - tails)) * 100\n",
    "calc_recovery = train.apply(recovery, axis=1)    "
   ]
  },
  {
   "cell_type": "markdown",
   "metadata": {},
   "source": [
    "Расчитаем *MAE* для полученных значений эффективности обогощения `au` и значений признака `rougher.output.recovery`"
   ]
  },
  {
   "cell_type": "code",
   "execution_count": 8,
   "metadata": {
    "scrolled": true
   },
   "outputs": [
    {
     "name": "stdout",
     "output_type": "stream",
     "text": [
      "9.73512347450521e-15\n"
     ]
    }
   ],
   "source": [
    "MAE = mean_absolute_error(train['rougher.output.recovery'], calc_recovery)\n",
    "print(MAE)"
   ]
  },
  {
   "cell_type": "markdown",
   "metadata": {},
   "source": [
    "**Вывод**"
   ]
  },
  {
   "cell_type": "markdown",
   "metadata": {},
   "source": [
    "Вычисленная мера ошибок *MAE* очень мала, полученные значения эффективности обогощения `au` практически не отличаются от значений в признаке `rougher.output.recovery`. Следовательно также можно счить, что признак `rougher.output.recovery` – это эффективность обогащения `au`."
   ]
  },
  {
   "cell_type": "markdown",
   "metadata": {},
   "source": [
    "***"
   ]
  },
  {
   "cell_type": "markdown",
   "metadata": {},
   "source": [
    "**Изучение признаков**"
   ]
  },
  {
   "cell_type": "markdown",
   "metadata": {},
   "source": [
    "Посмотрим какие признаки из обучающей выборки отсутвуют в тестовой"
   ]
  },
  {
   "cell_type": "code",
   "execution_count": 9,
   "metadata": {
    "scrolled": true
   },
   "outputs": [
    {
     "name": "stdout",
     "output_type": "stream",
     "text": [
      "<class 'pandas.core.frame.DataFrame'>\n",
      "DatetimeIndex: 14149 entries, 2016-01-15 00:00:00 to 2018-08-18 10:59:59\n",
      "Data columns (total 34 columns):\n",
      " #   Column                                              Non-Null Count  Dtype  \n",
      "---  ------                                              --------------  -----  \n",
      " 0   final.output.concentrate_ag                         14148 non-null  float64\n",
      " 1   final.output.concentrate_pb                         14148 non-null  float64\n",
      " 2   final.output.concentrate_sol                        13938 non-null  float64\n",
      " 3   final.output.concentrate_au                         14149 non-null  float64\n",
      " 4   final.output.recovery                               14149 non-null  float64\n",
      " 5   final.output.tail_ag                                14149 non-null  float64\n",
      " 6   final.output.tail_pb                                14049 non-null  float64\n",
      " 7   final.output.tail_sol                               14144 non-null  float64\n",
      " 8   final.output.tail_au                                14149 non-null  float64\n",
      " 9   primary_cleaner.output.concentrate_ag               14149 non-null  float64\n",
      " 10  primary_cleaner.output.concentrate_pb               14063 non-null  float64\n",
      " 11  primary_cleaner.output.concentrate_sol              13863 non-null  float64\n",
      " 12  primary_cleaner.output.concentrate_au               14149 non-null  float64\n",
      " 13  primary_cleaner.output.tail_ag                      14148 non-null  float64\n",
      " 14  primary_cleaner.output.tail_pb                      14134 non-null  float64\n",
      " 15  primary_cleaner.output.tail_sol                     14103 non-null  float64\n",
      " 16  primary_cleaner.output.tail_au                      14149 non-null  float64\n",
      " 17  rougher.calculation.sulfate_to_au_concentrate       14148 non-null  float64\n",
      " 18  rougher.calculation.floatbank10_sulfate_to_au_feed  14148 non-null  float64\n",
      " 19  rougher.calculation.floatbank11_sulfate_to_au_feed  14148 non-null  float64\n",
      " 20  rougher.calculation.au_pb_ratio                     14149 non-null  float64\n",
      " 21  rougher.output.concentrate_ag                       14149 non-null  float64\n",
      " 22  rougher.output.concentrate_pb                       14149 non-null  float64\n",
      " 23  rougher.output.concentrate_sol                      14127 non-null  float64\n",
      " 24  rougher.output.concentrate_au                       14149 non-null  float64\n",
      " 25  rougher.output.recovery                             14149 non-null  float64\n",
      " 26  rougher.output.tail_ag                              14148 non-null  float64\n",
      " 27  rougher.output.tail_pb                              14149 non-null  float64\n",
      " 28  rougher.output.tail_sol                             14149 non-null  float64\n",
      " 29  rougher.output.tail_au                              14149 non-null  float64\n",
      " 30  secondary_cleaner.output.tail_ag                    14147 non-null  float64\n",
      " 31  secondary_cleaner.output.tail_pb                    14139 non-null  float64\n",
      " 32  secondary_cleaner.output.tail_sol                   12544 non-null  float64\n",
      " 33  secondary_cleaner.output.tail_au                    14149 non-null  float64\n",
      "dtypes: float64(34)\n",
      "memory usage: 3.8 MB\n"
     ]
    }
   ],
   "source": [
    "test_col = pd.Series(test.columns)\n",
    "train_col = pd.Series(train.columns)\n",
    "columns_not_in_test = train_col[~train_col.isin(test_col)]\n",
    "train[columns_not_in_test].info()"
   ]
  },
  {
   "cell_type": "markdown",
   "metadata": {},
   "source": [
    "В тестовой выборке отсутствуют 34 признака, из них два целевых: \n",
    "\n",
    "`rougher.output.recovery` и `final.output.recovery`. Остальные признаки характерезуют продукт полученный по завершеннию соответствующего этапа, для обучения модели это лишняя интформация. "
   ]
  },
  {
   "cell_type": "code",
   "execution_count": 10,
   "metadata": {},
   "outputs": [],
   "source": [
    "# Удаляем признаки \n",
    "features_train = train[test_col]"
   ]
  },
  {
   "cell_type": "code",
   "execution_count": 11,
   "metadata": {},
   "outputs": [
    {
     "data": {
      "text/plain": [
       "(14149, 52)"
      ]
     },
     "execution_count": 11,
     "metadata": {},
     "output_type": "execute_result"
    }
   ],
   "source": [
    "features_train.shape"
   ]
  },
  {
   "cell_type": "markdown",
   "metadata": {},
   "source": [
    "**Дубликаты в данных**"
   ]
  },
  {
   "cell_type": "code",
   "execution_count": 12,
   "metadata": {},
   "outputs": [
    {
     "name": "stdout",
     "output_type": "stream",
     "text": [
      "0\n"
     ]
    }
   ],
   "source": [
    "print(data.duplicated().sum())"
   ]
  },
  {
   "cell_type": "markdown",
   "metadata": {},
   "source": [
    "**Обработка пропусков**"
   ]
  },
  {
   "cell_type": "markdown",
   "metadata": {},
   "source": [
    "Обработка пропусков в обучающей выборке"
   ]
  },
  {
   "cell_type": "code",
   "execution_count": 13,
   "metadata": {
    "scrolled": true
   },
   "outputs": [
    {
     "data": {
      "text/plain": [
       "rougher.state.floatbank10_e_air               436\n",
       "rougher.input.floatbank11_xanthate            428\n",
       "secondary_cleaner.state.floatbank2_a_air      217\n",
       "rougher.input.feed_size                       144\n",
       "rougher.input.feed_pb                         100\n",
       "primary_cleaner.input.xanthate                100\n",
       "rougher.input.feed_sol                         78\n",
       "rougher.input.floatbank11_sulfate              36\n",
       "primary_cleaner.input.depressant               32\n",
       "rougher.input.floatbank10_sulfate              29\n",
       "secondary_cleaner.state.floatbank2_b_air       21\n",
       "primary_cleaner.input.sulfate                  20\n",
       "rougher.input.feed_rate                         8\n",
       "rougher.input.floatbank10_xanthate              8\n",
       "secondary_cleaner.state.floatbank4_a_air        6\n",
       "primary_cleaner.state.floatbank8_a_air          4\n",
       "primary_cleaner.state.floatbank8_b_air          4\n",
       "secondary_cleaner.state.floatbank3_a_air        4\n",
       "primary_cleaner.state.floatbank8_d_air          3\n",
       "secondary_cleaner.state.floatbank6_a_air        2\n",
       "primary_cleaner.state.floatbank8_c_air          2\n",
       "secondary_cleaner.state.floatbank4_b_level      1\n",
       "secondary_cleaner.state.floatbank5_b_level      1\n",
       "secondary_cleaner.state.floatbank2_b_level      1\n",
       "secondary_cleaner.state.floatbank3_a_level      1\n",
       "secondary_cleaner.state.floatbank4_a_level      1\n",
       "secondary_cleaner.state.floatbank3_b_air        1\n",
       "secondary_cleaner.state.floatbank3_b_level      1\n",
       "secondary_cleaner.state.floatbank5_a_air        1\n",
       "secondary_cleaner.state.floatbank5_b_air        1\n",
       "secondary_cleaner.state.floatbank4_b_air        1\n",
       "secondary_cleaner.state.floatbank5_a_level      1\n",
       "secondary_cleaner.state.floatbank2_a_level      1\n",
       "rougher.state.floatbank10_c_air                 1\n",
       "rougher.state.floatbank10_a_air                 1\n",
       "rougher.state.floatbank10_b_air                 1\n",
       "primary_cleaner.state.floatbank8_a_level        1\n",
       "primary_cleaner.state.floatbank8_b_level        1\n",
       "primary_cleaner.state.floatbank8_c_level        1\n",
       "primary_cleaner.state.floatbank8_d_level        1\n",
       "rougher.state.floatbank10_a_level               1\n",
       "secondary_cleaner.state.floatbank6_a_level      1\n",
       "rougher.state.floatbank10_b_level               1\n",
       "rougher.state.floatbank10_c_level               1\n",
       "rougher.state.floatbank10_f_air                 0\n",
       "dtype: int64"
      ]
     },
     "execution_count": 13,
     "metadata": {},
     "output_type": "execute_result"
    }
   ],
   "source": [
    "features_train.isna().sum().sort_values(ascending=False).head(45)"
   ]
  },
  {
   "cell_type": "markdown",
   "metadata": {},
   "source": [
    "Удалим все объекты с пропусками:"
   ]
  },
  {
   "cell_type": "code",
   "execution_count": 14,
   "metadata": {},
   "outputs": [],
   "source": [
    "# features_train = features_train.dropna()\n",
    "features_train = features_train.fillna(method='ffill')"
   ]
  },
  {
   "cell_type": "markdown",
   "metadata": {},
   "source": [
    "Обработка пропусков в тестовой выборке:"
   ]
  },
  {
   "cell_type": "code",
   "execution_count": 15,
   "metadata": {
    "scrolled": false
   },
   "outputs": [
    {
     "data": {
      "text/plain": [
       "rougher.input.floatbank11_xanthate            25\n",
       "rougher.input.feed_sol                        21\n",
       "secondary_cleaner.state.floatbank3_a_air       9\n",
       "rougher.input.floatbank11_sulfate              8\n",
       "primary_cleaner.input.depressant               5\n",
       "rougher.input.floatbank10_sulfate              5\n",
       "primary_cleaner.input.sulfate                  4\n",
       "primary_cleaner.input.xanthate                 4\n",
       "rougher.input.feed_rate                        3\n",
       "secondary_cleaner.state.floatbank2_a_air       3\n",
       "secondary_cleaner.state.floatbank2_b_air       2\n",
       "rougher.input.feed_size                        1\n",
       "secondary_cleaner.state.floatbank3_b_level     0\n",
       "secondary_cleaner.state.floatbank3_b_air       0\n",
       "rougher.state.floatbank10_f_air                0\n",
       "dtype: int64"
      ]
     },
     "metadata": {},
     "output_type": "display_data"
    }
   ],
   "source": [
    "display(test.isna().sum().sort_values(ascending=False).head(15))\n",
    "features_test = test.fillna(method='ffill')"
   ]
  },
  {
   "cell_type": "markdown",
   "metadata": {},
   "source": [
    "## Анализ данных"
   ]
  },
  {
   "cell_type": "markdown",
   "metadata": {},
   "source": [
    "**Концентрация металлов (Au, Ag, Pb) на различных этапах очистки**"
   ]
  },
  {
   "cell_type": "code",
   "execution_count": 16,
   "metadata": {
    "scrolled": false
   },
   "outputs": [
    {
     "data": {
      "image/png": "[encoded data removed]",
      "text/plain": [
       "<Figure size 881.125x432 with 1 Axes>"
      ]
     },
     "metadata": {
      "needs_background": "light"
     },
     "output_type": "display_data"
    },
    {
     "data": {
      "image/png": "[encoded data removed]",
      "text/plain": [
       "<Figure size 881.125x432 with 1 Axes>"
      ]
     },
     "metadata": {
      "needs_background": "light"
     },
     "output_type": "display_data"
    },
    {
     "data": {
      "image/png": "[encoded data removed]",
      "text/plain": [
       "<Figure size 881.125x432 with 1 Axes>"
      ]
     },
     "metadata": {
      "needs_background": "light"
     },
     "output_type": "display_data"
    }
   ],
   "source": [
    "for metal in ['ag', 'au', 'pb']:\n",
    "    sns.displot(data=data[[f'rougher.input.feed_{metal}', f'primary_cleaner.output.concentrate_{metal}',\n",
    "                           f'final.output.concentrate_{metal}', f'rougher.output.concentrate_{metal}']], \n",
    "            kind='hist', height=6, aspect=1.5, bins=18, alpha=0.3).set(\n",
    "        title=f'распределение {metal} на различных этапах очистки', xlabel = 'concentrate')\n",
    "            \n",
    "    "
   ]
  },
  {
   "cell_type": "markdown",
   "metadata": {},
   "source": [
    "Из построенных гистограмм распределения видно, что на последнем этапе очистки концентрация золота и свинца начинает преобладать по сравнению с предюдущими этапами очистки. Также можно видеть, что концентрация серебра постепенно уменьшается."
   ]
  },
  {
   "cell_type": "code",
   "execution_count": 17,
   "metadata": {},
   "outputs": [
    {
     "data": {
      "image/png": "[encoded data removed]",
      "text/plain": [
       "<Figure size 432x288 with 1 Axes>"
      ]
     },
     "metadata": {
      "needs_background": "light"
     },
     "output_type": "display_data"
    },
    {
     "data": {
      "image/png": "[encoded data removed]",
      "text/plain": [
       "<Figure size 432x288 with 1 Axes>"
      ]
     },
     "metadata": {
      "needs_background": "light"
     },
     "output_type": "display_data"
    },
    {
     "data": {
      "image/png": "[encoded data removed]",
      "text/plain": [
       "<Figure size 432x288 with 1 Axes>"
      ]
     },
     "metadata": {
      "needs_background": "light"
     },
     "output_type": "display_data"
    }
   ],
   "source": [
    "for metal in ['ag', 'au', 'pb']:\n",
    "    sns.boxplot(y=\"variable\", x=\"value\", data=pd.melt(data[[f'rougher.input.feed_{metal}', f'primary_cleaner.output.concentrate_{metal}',\n",
    "                           f'final.output.concentrate_{metal}', f'rougher.output.concentrate_{metal}']])\n",
    "                ).set(xlabel = 'concentrate')\n",
    "    plt.show()"
   ]
  },
  {
   "cell_type": "markdown",
   "metadata": {},
   "source": [
    "Построенные диаграммы размаха также подтверждают, что концентрация серебра уменьшается, концентрация золота и свинца увеличивается с каждым этапом очистки. Также можно видеть выбросы."
   ]
  },
  {
   "cell_type": "markdown",
   "metadata": {},
   "source": [
    "**Распределение размеров гранул сырья**"
   ]
  },
  {
   "cell_type": "code",
   "execution_count": 18,
   "metadata": {},
   "outputs": [
    {
     "data": {
      "text/plain": [
       "[Text(0.5, 1.0, 'test'), Text(0.5, 0, 'size')]"
      ]
     },
     "execution_count": 18,
     "metadata": {},
     "output_type": "execute_result"
    },
    {
     "data": {
      "image/png": "[encoded data removed]",
      "text/plain": [
       "<Figure size 432x288 with 2 Axes>"
      ]
     },
     "metadata": {
      "needs_background": "light"
     },
     "output_type": "display_data"
    }
   ],
   "source": [
    "fig, axes = plt.subplots(1, 2)\n",
    "sns.histplot(data=train['rougher.input.feed_size'], bins=30, ax=axes[0]).set(title='train', xlabel='size')\n",
    "sns.histplot(data=test['rougher.input.feed_size'], bins=30, ax=axes[1]).set(title='test', xlabel='size')\n"
   ]
  },
  {
   "cell_type": "markdown",
   "metadata": {},
   "source": [
    "Распределения гранул сырья на обучающей и на тестовой выборке сходятся."
   ]
  },
  {
   "cell_type": "markdown",
   "metadata": {},
   "source": [
    "- Исследование суммарной концентрации всех веществ на разных стадиях: в сырье, в черновом и финальном концентратах"
   ]
  },
  {
   "cell_type": "code",
   "execution_count": 19,
   "metadata": {},
   "outputs": [
    {
     "data": {
      "image/png": "[encoded data removed]",
      "text/plain": [
       "<Figure size 648x432 with 1 Axes>"
      ]
     },
     "metadata": {
      "needs_background": "light"
     },
     "output_type": "display_data"
    },
    {
     "data": {
      "image/png": "[encoded data removed]",
      "text/plain": [
       "<Figure size 648x432 with 1 Axes>"
      ]
     },
     "metadata": {
      "needs_background": "light"
     },
     "output_type": "display_data"
    },
    {
     "data": {
      "image/png": "[encoded data removed]",
      "text/plain": [
       "<Figure size 648x432 with 1 Axes>"
      ]
     },
     "metadata": {
      "needs_background": "light"
     },
     "output_type": "display_data"
    }
   ],
   "source": [
    "sum_consentrate = 0\n",
    "for stage in ['rougher.input.feed_', 'rougher.output.concentrate_', 'final.output.concentrate_']:\n",
    "    for metal in ['ag', 'au', 'pb']:\n",
    "        sum_consentrate += data[stage + metal]\n",
    "    sns.displot(data=sum_consentrate, kind='hist', height=6, aspect=1.5, bins=18, alpha=0.3).set(\n",
    "            title=f'распределение суммарной концентрации на этапе {stage}',\n",
    "            xlabel='concentrate')\n",
    "    plt.show()\n",
    "    sum_consentrate = 0"
   ]
  },
  {
   "cell_type": "markdown",
   "metadata": {},
   "source": [
    "На построенных графиках распределения суммарной концентрации металлов видно, что на различных этапах обработки руды, в финальном продукте содержится максимальная концентрация. \n",
    "***\n",
    "Также опять видны выбросы и явные нулевые значения уже в сумарной концентрации,так как нулевые значения не привносят вклада в прогназируемые значения удалим их на этапах флотации и финальном:"
   ]
  },
  {
   "cell_type": "code",
   "execution_count": 20,
   "metadata": {},
   "outputs": [],
   "source": [
    "data['rougher.output.concentrate_au'] = data[data['rougher.output.concentrate_au'] != 0]\n",
    "data['final.output.concentrate_au'] = data[data['final.output.concentrate_au'] != 0]"
   ]
  },
  {
   "cell_type": "markdown",
   "metadata": {},
   "source": [
    "## Модель"
   ]
  },
  {
   "cell_type": "markdown",
   "metadata": {},
   "source": [
    "Функция для расчёта *sMAPE*"
   ]
  },
  {
   "cell_type": "code",
   "execution_count": 21,
   "metadata": {},
   "outputs": [],
   "source": [
    "def smape(y_true, y_pred):\n",
    "    error = np.abs(y_true - y_pred)\n",
    "    scale = (np.abs(y_true) + np.abs(y_pred))/2\n",
    "    return (error / scale).mean()*100 \n",
    "score_smape = make_scorer(smape, greater_is_better=False)"
   ]
  },
  {
   "cell_type": "markdown",
   "metadata": {},
   "source": [
    "Определение целевых признаков"
   ]
  },
  {
   "cell_type": "code",
   "execution_count": 22,
   "metadata": {},
   "outputs": [],
   "source": [
    "# Определяем целевые признаки для test\n",
    "target_rougher_test = data['rougher.output.recovery'].loc[features_test.index]\n",
    "target_final_test = data['final.output.recovery'].loc[features_test.index]"
   ]
  },
  {
   "cell_type": "code",
   "execution_count": 23,
   "metadata": {},
   "outputs": [],
   "source": [
    "# Определяем целевые признаки для train\n",
    "target_rougher_train = train['rougher.output.recovery'].loc[features_train.index]\n",
    "target_final_train = train['final.output.recovery'].loc[features_train.index]"
   ]
  },
  {
   "cell_type": "markdown",
   "metadata": {},
   "source": [
    "**Размеры полученных выборок**"
   ]
  },
  {
   "cell_type": "code",
   "execution_count": 24,
   "metadata": {},
   "outputs": [
    {
     "name": "stdout",
     "output_type": "stream",
     "text": [
      "Обучающая выборка (14149, 52)\n",
      "Тестовая выборка (5290, 52)\n"
     ]
    }
   ],
   "source": [
    "print(f\"Обучающая выборка {features_train.shape}\")\n",
    "print(f\"Тестовая выборка {features_test.shape}\")"
   ]
  },
  {
   "cell_type": "markdown",
   "metadata": {},
   "source": [
    "**Кросс-валидация**"
   ]
  },
  {
   "cell_type": "code",
   "execution_count": 25,
   "metadata": {},
   "outputs": [],
   "source": [
    "def get_cv_scores(model, features, target):\n",
    "    scores = cross_val_score(\n",
    "        model,\n",
    "        features, target,\n",
    "        cv=5,\n",
    "        scoring=score_smape\n",
    "    )\n",
    "    print('best_score: ', np.mean(scores)*(-1))"
   ]
  },
  {
   "cell_type": "markdown",
   "metadata": {},
   "source": [
    "**Модель случайного леса**"
   ]
  },
  {
   "cell_type": "code",
   "execution_count": 26,
   "metadata": {},
   "outputs": [],
   "source": [
    "grid = {'n_estimators': range(5, 50, 10), 'max_depth': range(2, 10, 2)}"
   ]
  },
  {
   "cell_type": "code",
   "execution_count": 27,
   "metadata": {
    "scrolled": true
   },
   "outputs": [
    {
     "name": "stdout",
     "output_type": "stream",
     "text": [
      "predictions rougher\n",
      "best parameters: {'max_depth': 6, 'n_estimators': 25}\n",
      "best score: 11.092159524932132\n"
     ]
    }
   ],
   "source": [
    "model_rfr = RandomForestRegressor(random_state=RANDOM_STATE)\n",
    "grid_search = GridSearchCV(model_rfr, grid, cv=5, scoring=score_smape)\n",
    "\n",
    "grid_search.fit(features_train, target_rougher_train)\n",
    "print(\"predictions rougher\")\n",
    "print(\"best parameters:\", grid_search.best_params_)\n",
    "print(\"best score:\", grid_search.best_score_*(-1))"
   ]
  },
  {
   "cell_type": "code",
   "execution_count": 28,
   "metadata": {},
   "outputs": [
    {
     "name": "stdout",
     "output_type": "stream",
     "text": [
      "predictions final\n",
      "best parameters: {'max_depth': 4, 'n_estimators': 35}\n",
      "best score: 10.334694700824627\n"
     ]
    }
   ],
   "source": [
    "print(\"predictions final\")\n",
    "grid_search.fit(features_train, target_final_train)\n",
    "print(\"best parameters:\", grid_search.best_params_)\n",
    "print(\"best score:\", grid_search.best_score_*(-1))"
   ]
  },
  {
   "cell_type": "markdown",
   "metadata": {},
   "source": [
    "**Модель линейной регрессии**"
   ]
  },
  {
   "cell_type": "code",
   "execution_count": 29,
   "metadata": {},
   "outputs": [
    {
     "name": "stdout",
     "output_type": "stream",
     "text": [
      "predictions rougher\n",
      "best_score:  12.802483458481934\n"
     ]
    }
   ],
   "source": [
    "lg = LinearRegression().fit(features_train, target_rougher_train)\n",
    "\n",
    "print(\"predictions rougher\")\n",
    "get_cv_scores(lg, features_train, target_rougher_train)"
   ]
  },
  {
   "cell_type": "code",
   "execution_count": 30,
   "metadata": {},
   "outputs": [
    {
     "name": "stdout",
     "output_type": "stream",
     "text": [
      "predictions final\n",
      "best_score:  12.245300320302457\n"
     ]
    }
   ],
   "source": [
    "lg = LinearRegression().fit(features_train, target_final_train)\n",
    "\n",
    "print(\"predictions final\")\n",
    "get_cv_scores(lg, features_train, target_final_train)"
   ]
  },
  {
   "cell_type": "markdown",
   "metadata": {},
   "source": [
    "**Вывод**"
   ]
  },
  {
   "cell_type": "markdown",
   "metadata": {},
   "source": [
    "По результатам исследования моделей наилучший результат:\n",
    "- для признака `rougher.output.recovery` показала модель случайного леса **score** = 10.85\n",
    "- для признака `final.output.recover` показала модель случайного леса **score** = 10.21"
   ]
  },
  {
   "cell_type": "markdown",
   "metadata": {},
   "source": [
    "**Построение модели на тестовой выборке**"
   ]
  },
  {
   "cell_type": "code",
   "execution_count": 31,
   "metadata": {},
   "outputs": [],
   "source": [
    "# model = LinearRegression().fit(features_train, target_rougher_train)\n",
    "model = RandomForestRegressor(n_estimators=25, max_depth=6, random_state=RANDOM_STATE).fit(features_train, target_rougher_train)\n",
    "predicted_test = model.predict(features_test)"
   ]
  },
  {
   "cell_type": "code",
   "execution_count": 32,
   "metadata": {
    "scrolled": true
   },
   "outputs": [
    {
     "data": {
      "text/plain": [
       "10.103408891990778"
      ]
     },
     "execution_count": 32,
     "metadata": {},
     "output_type": "execute_result"
    }
   ],
   "source": [
    "# score rougher\n",
    "smape_rougher = smape(target_rougher_test, predicted_test)\n",
    "smape_rougher"
   ]
  },
  {
   "cell_type": "code",
   "execution_count": 33,
   "metadata": {},
   "outputs": [],
   "source": [
    "# model = LinearRegression().fit(features_train, target_final_train)\n",
    "model = RandomForestRegressor(n_estimators=35, max_depth=4, random_state=RANDOM_STATE).fit(features_train, target_final_train)\n",
    "predicted_test = model.predict(features_test)"
   ]
  },
  {
   "cell_type": "code",
   "execution_count": 34,
   "metadata": {},
   "outputs": [
    {
     "data": {
      "text/plain": [
       "9.43461817313594"
      ]
     },
     "execution_count": 34,
     "metadata": {},
     "output_type": "execute_result"
    }
   ],
   "source": [
    "# score final\n",
    "smape_final = smape(target_final_test, predicted_test)\n",
    "smape_final"
   ]
  },
  {
   "cell_type": "markdown",
   "metadata": {},
   "source": [
    "**Итоговый *SMAPE***"
   ]
  },
  {
   "cell_type": "code",
   "execution_count": 35,
   "metadata": {
    "scrolled": true
   },
   "outputs": [
    {
     "name": "stdout",
     "output_type": "stream",
     "text": [
      "Итоговый sMAPE: 9.60181585284965\n"
     ]
    }
   ],
   "source": [
    "sMape = .25 * smape_rougher + 0.75 * smape_final\n",
    "print(f\"Итоговый sMAPE: {sMape}\")"
   ]
  },
  {
   "cell_type": "markdown",
   "metadata": {},
   "source": [
    "## Итоговый вывод"
   ]
  },
  {
   "cell_type": "markdown",
   "metadata": {},
   "source": [
    "Проведено исследование данных с параметрами добычи и очистки золотосодержащей руды. Подготовлен протип модели для прогнозирования коэффициента восстановления золота из золотосодержащей руды.\n"
   ]
  }
 ],
 "metadata": {
  "ExecuteTimeLog": [
   {
    "duration": 423,
    "start_time": "2022-04-04T08:07:47.486Z"
   },
   {
    "duration": 1269,
    "start_time": "2022-04-04T08:07:49.459Z"
   },
   {
    "duration": 29,
    "start_time": "2022-04-04T08:08:07.615Z"
   },
   {
    "duration": 20,
    "start_time": "2022-04-04T08:09:15.760Z"
   },
   {
    "duration": 23,
    "start_time": "2022-04-04T08:10:08.599Z"
   },
   {
    "duration": 34,
    "start_time": "2022-04-04T08:10:22.290Z"
   },
   {
    "duration": 18,
    "start_time": "2022-04-04T08:16:49.474Z"
   },
   {
    "duration": 14,
    "start_time": "2022-04-04T08:17:27.320Z"
   },
   {
    "duration": 12,
    "start_time": "2022-04-04T09:35:45.713Z"
   },
   {
    "duration": 85,
    "start_time": "2022-04-04T09:36:31.181Z"
   },
   {
    "duration": 19,
    "start_time": "2022-04-04T09:36:59.865Z"
   },
   {
    "duration": 15,
    "start_time": "2022-04-04T09:37:23.964Z"
   },
   {
    "duration": 54,
    "start_time": "2022-04-04T09:37:28.165Z"
   },
   {
    "duration": 27,
    "start_time": "2022-04-04T09:37:44.904Z"
   },
   {
    "duration": 7,
    "start_time": "2022-04-04T09:38:32.424Z"
   },
   {
    "duration": 8,
    "start_time": "2022-04-04T09:39:30.444Z"
   },
   {
    "duration": 9,
    "start_time": "2022-04-04T09:39:35.676Z"
   },
   {
    "duration": 10,
    "start_time": "2022-04-04T09:39:48.344Z"
   },
   {
    "duration": 10,
    "start_time": "2022-04-04T09:40:04.725Z"
   },
   {
    "duration": 12,
    "start_time": "2022-04-04T09:41:15.384Z"
   },
   {
    "duration": 12,
    "start_time": "2022-04-04T09:43:06.117Z"
   },
   {
    "duration": 10,
    "start_time": "2022-04-04T09:43:15.222Z"
   },
   {
    "duration": 10,
    "start_time": "2022-04-04T09:43:34.604Z"
   },
   {
    "duration": 10,
    "start_time": "2022-04-04T09:43:44.758Z"
   },
   {
    "duration": 10,
    "start_time": "2022-04-04T09:43:50.597Z"
   },
   {
    "duration": 11,
    "start_time": "2022-04-04T09:44:02.544Z"
   },
   {
    "duration": 10,
    "start_time": "2022-04-04T09:44:10.069Z"
   },
   {
    "duration": 10,
    "start_time": "2022-04-04T09:44:22.857Z"
   },
   {
    "duration": 10,
    "start_time": "2022-04-04T09:44:37.255Z"
   },
   {
    "duration": 11,
    "start_time": "2022-04-04T09:44:48.938Z"
   },
   {
    "duration": 11,
    "start_time": "2022-04-04T09:44:58.697Z"
   },
   {
    "duration": 10,
    "start_time": "2022-04-04T09:45:02.977Z"
   },
   {
    "duration": 8,
    "start_time": "2022-04-04T09:46:17.057Z"
   },
   {
    "duration": 8,
    "start_time": "2022-04-04T09:46:40.097Z"
   },
   {
    "duration": 5,
    "start_time": "2022-04-04T10:35:53.064Z"
   },
   {
    "duration": 5,
    "start_time": "2022-04-04T10:36:11.509Z"
   },
   {
    "duration": 7,
    "start_time": "2022-04-04T10:36:45.572Z"
   },
   {
    "duration": 5,
    "start_time": "2022-04-04T10:37:00.493Z"
   },
   {
    "duration": 3,
    "start_time": "2022-04-04T10:37:25.232Z"
   },
   {
    "duration": 4,
    "start_time": "2022-04-04T10:37:35.952Z"
   },
   {
    "duration": 3,
    "start_time": "2022-04-04T10:38:55.171Z"
   },
   {
    "duration": 4,
    "start_time": "2022-04-04T10:38:57.132Z"
   },
   {
    "duration": 38,
    "start_time": "2022-04-04T10:40:31.851Z"
   },
   {
    "duration": 7,
    "start_time": "2022-04-04T10:41:37.589Z"
   },
   {
    "duration": 32,
    "start_time": "2022-04-04T10:41:50.701Z"
   },
   {
    "duration": 3,
    "start_time": "2022-04-04T10:42:15.121Z"
   },
   {
    "duration": 9,
    "start_time": "2022-04-04T10:42:57.000Z"
   },
   {
    "duration": 11,
    "start_time": "2022-04-04T10:43:02.481Z"
   },
   {
    "duration": 2831,
    "start_time": "2022-04-04T10:47:42.206Z"
   },
   {
    "duration": 2845,
    "start_time": "2022-04-04T10:48:28.743Z"
   },
   {
    "duration": 659,
    "start_time": "2022-04-04T10:49:08.643Z"
   },
   {
    "duration": 6,
    "start_time": "2022-04-04T10:49:15.116Z"
   },
   {
    "duration": 1373,
    "start_time": "2022-04-04T11:14:44.025Z"
   },
   {
    "duration": 1499,
    "start_time": "2022-04-04T11:15:59.253Z"
   },
   {
    "duration": 1473,
    "start_time": "2022-04-04T11:16:50.605Z"
   },
   {
    "duration": 1456,
    "start_time": "2022-04-04T11:17:14.442Z"
   },
   {
    "duration": 1390,
    "start_time": "2022-04-04T11:18:01.302Z"
   },
   {
    "duration": 1573,
    "start_time": "2022-04-04T11:19:00.461Z"
   },
   {
    "duration": 2912,
    "start_time": "2022-04-04T11:20:39.934Z"
   },
   {
    "duration": 9,
    "start_time": "2022-04-04T11:21:32.814Z"
   },
   {
    "duration": 8,
    "start_time": "2022-04-04T11:21:41.902Z"
   },
   {
    "duration": 6,
    "start_time": "2022-04-04T11:22:40.114Z"
   },
   {
    "duration": 14,
    "start_time": "2022-04-04T11:29:06.704Z"
   },
   {
    "duration": 12,
    "start_time": "2022-04-04T11:33:35.262Z"
   },
   {
    "duration": 11,
    "start_time": "2022-04-04T11:39:38.936Z"
   },
   {
    "duration": 73,
    "start_time": "2022-04-04T11:47:22.987Z"
   },
   {
    "duration": 31,
    "start_time": "2022-04-04T11:48:18.086Z"
   },
   {
    "duration": 66,
    "start_time": "2022-04-04T12:50:43.134Z"
   },
   {
    "duration": 17,
    "start_time": "2022-04-04T12:52:58.220Z"
   },
   {
    "duration": 72,
    "start_time": "2022-04-04T12:53:07.350Z"
   },
   {
    "duration": 75,
    "start_time": "2022-04-04T12:54:10.865Z"
   },
   {
    "duration": 78,
    "start_time": "2022-04-04T12:56:48.520Z"
   },
   {
    "duration": 114,
    "start_time": "2022-04-04T12:56:56.160Z"
   },
   {
    "duration": 5547,
    "start_time": "2022-04-04T12:57:23.905Z"
   },
   {
    "duration": 116,
    "start_time": "2022-04-04T12:57:55.955Z"
   },
   {
    "duration": 11,
    "start_time": "2022-04-04T13:21:11.286Z"
   },
   {
    "duration": 7,
    "start_time": "2022-04-04T13:21:24.596Z"
   },
   {
    "duration": 9,
    "start_time": "2022-04-04T13:23:01.415Z"
   },
   {
    "duration": 9,
    "start_time": "2022-04-04T13:23:21.275Z"
   },
   {
    "duration": 9,
    "start_time": "2022-04-04T13:24:01.936Z"
   },
   {
    "duration": 29,
    "start_time": "2022-04-04T13:24:14.711Z"
   },
   {
    "duration": 2718,
    "start_time": "2022-04-04T13:25:02.979Z"
   },
   {
    "duration": 16,
    "start_time": "2022-04-04T13:26:07.519Z"
   },
   {
    "duration": 167,
    "start_time": "2022-04-04T13:34:10.163Z"
   },
   {
    "duration": 114,
    "start_time": "2022-04-04T13:35:09.342Z"
   },
   {
    "duration": 16911,
    "start_time": "2022-04-04T13:36:17.203Z"
   },
   {
    "duration": 6,
    "start_time": "2022-04-04T13:36:49.482Z"
   },
   {
    "duration": 8,
    "start_time": "2022-04-04T13:37:41.982Z"
   },
   {
    "duration": 6,
    "start_time": "2022-04-04T13:37:57.233Z"
   },
   {
    "duration": 16867,
    "start_time": "2022-04-04T13:38:12.083Z"
   },
   {
    "duration": 6,
    "start_time": "2022-04-04T13:38:28.952Z"
   },
   {
    "duration": 6,
    "start_time": "2022-04-04T13:39:07.694Z"
   },
   {
    "duration": 6,
    "start_time": "2022-04-04T13:40:03.162Z"
   },
   {
    "duration": 7,
    "start_time": "2022-04-04T13:41:01.582Z"
   },
   {
    "duration": 6,
    "start_time": "2022-04-04T13:41:23.822Z"
   },
   {
    "duration": 429,
    "start_time": "2022-04-04T17:58:37.527Z"
   },
   {
    "duration": 6163,
    "start_time": "2022-04-04T17:58:40.985Z"
   },
   {
    "duration": 28,
    "start_time": "2022-04-04T17:58:48.275Z"
   },
   {
    "duration": 23,
    "start_time": "2022-04-04T17:58:49.483Z"
   },
   {
    "duration": 22,
    "start_time": "2022-04-04T17:58:54.462Z"
   },
   {
    "duration": 18,
    "start_time": "2022-04-04T17:58:54.767Z"
   },
   {
    "duration": 24,
    "start_time": "2022-04-04T17:58:57.644Z"
   },
   {
    "duration": 13,
    "start_time": "2022-04-04T17:58:58.278Z"
   },
   {
    "duration": 31,
    "start_time": "2022-04-04T17:59:08.901Z"
   },
   {
    "duration": 16,
    "start_time": "2022-04-04T17:59:12.836Z"
   },
   {
    "duration": 16539,
    "start_time": "2022-04-04T17:59:20.782Z"
   },
   {
    "duration": 16581,
    "start_time": "2022-04-04T18:00:02.015Z"
   },
   {
    "duration": 5,
    "start_time": "2022-04-04T18:00:25.566Z"
   },
   {
    "duration": 169,
    "start_time": "2022-04-04T18:05:16.348Z"
   },
   {
    "duration": 137,
    "start_time": "2022-04-04T18:05:30.613Z"
   },
   {
    "duration": 230,
    "start_time": "2022-04-04T18:05:48.365Z"
   },
   {
    "duration": 6,
    "start_time": "2022-04-04T18:05:53.578Z"
   },
   {
    "duration": 243,
    "start_time": "2022-04-04T18:06:48.288Z"
   },
   {
    "duration": 6,
    "start_time": "2022-04-04T18:06:52.605Z"
   },
   {
    "duration": 230,
    "start_time": "2022-04-04T18:07:03.862Z"
   },
   {
    "duration": 5,
    "start_time": "2022-04-04T18:07:07.715Z"
   },
   {
    "duration": 6,
    "start_time": "2022-04-04T18:07:09.027Z"
   },
   {
    "duration": 764,
    "start_time": "2022-04-04T18:10:49.048Z"
   },
   {
    "duration": 5,
    "start_time": "2022-04-04T18:14:11.204Z"
   },
   {
    "duration": 1727,
    "start_time": "2022-04-05T07:16:36.674Z"
   },
   {
    "duration": 719,
    "start_time": "2022-04-05T07:16:38.404Z"
   },
   {
    "duration": 40,
    "start_time": "2022-04-05T07:16:39.125Z"
   },
   {
    "duration": 36,
    "start_time": "2022-04-05T07:16:39.167Z"
   },
   {
    "duration": 30,
    "start_time": "2022-04-05T07:16:39.206Z"
   },
   {
    "duration": 54,
    "start_time": "2022-04-05T07:16:39.238Z"
   },
   {
    "duration": 30,
    "start_time": "2022-04-05T07:16:39.294Z"
   },
   {
    "duration": 29,
    "start_time": "2022-04-05T07:16:39.326Z"
   },
   {
    "duration": 479,
    "start_time": "2022-04-05T07:16:39.357Z"
   },
   {
    "duration": 6,
    "start_time": "2022-04-05T07:16:39.839Z"
   },
   {
    "duration": 455,
    "start_time": "2022-04-05T07:18:46.654Z"
   },
   {
    "duration": 6,
    "start_time": "2022-04-05T07:18:48.246Z"
   },
   {
    "duration": 8,
    "start_time": "2022-04-05T07:19:15.665Z"
   },
   {
    "duration": 7,
    "start_time": "2022-04-05T07:19:26.445Z"
   },
   {
    "duration": 317,
    "start_time": "2022-04-05T07:35:53.943Z"
   },
   {
    "duration": 6,
    "start_time": "2022-04-05T07:35:56.983Z"
   },
   {
    "duration": 9,
    "start_time": "2022-04-05T07:41:19.652Z"
   },
   {
    "duration": 4,
    "start_time": "2022-04-05T07:46:12.763Z"
   },
   {
    "duration": 910,
    "start_time": "2022-04-05T07:46:12.774Z"
   },
   {
    "duration": 31,
    "start_time": "2022-04-05T07:46:13.687Z"
   },
   {
    "duration": 32,
    "start_time": "2022-04-05T07:46:13.720Z"
   },
   {
    "duration": 51,
    "start_time": "2022-04-05T07:46:13.755Z"
   },
   {
    "duration": 38,
    "start_time": "2022-04-05T07:46:13.810Z"
   },
   {
    "duration": 72,
    "start_time": "2022-04-05T07:46:13.851Z"
   },
   {
    "duration": 28,
    "start_time": "2022-04-05T07:46:13.926Z"
   },
   {
    "duration": 396,
    "start_time": "2022-04-05T07:46:13.957Z"
   },
   {
    "duration": 6,
    "start_time": "2022-04-05T07:46:14.356Z"
   },
   {
    "duration": 8,
    "start_time": "2022-04-05T07:50:11.224Z"
   },
   {
    "duration": 8,
    "start_time": "2022-04-05T07:51:46.423Z"
   },
   {
    "duration": 9,
    "start_time": "2022-04-05T07:51:58.262Z"
   },
   {
    "duration": 125,
    "start_time": "2022-04-05T07:52:12.811Z"
   },
   {
    "duration": 9,
    "start_time": "2022-04-05T07:52:16.972Z"
   },
   {
    "duration": 43,
    "start_time": "2022-04-05T07:54:19.678Z"
   },
   {
    "duration": 25,
    "start_time": "2022-04-05T07:54:38.051Z"
   },
   {
    "duration": 19,
    "start_time": "2022-04-05T07:54:57.030Z"
   },
   {
    "duration": 1723,
    "start_time": "2022-04-05T10:54:35.107Z"
   },
   {
    "duration": 847,
    "start_time": "2022-04-05T10:54:36.833Z"
   },
   {
    "duration": 39,
    "start_time": "2022-04-05T10:54:37.682Z"
   },
   {
    "duration": 41,
    "start_time": "2022-04-05T10:54:37.723Z"
   },
   {
    "duration": 29,
    "start_time": "2022-04-05T10:54:37.767Z"
   },
   {
    "duration": 45,
    "start_time": "2022-04-05T10:54:37.798Z"
   },
   {
    "duration": 31,
    "start_time": "2022-04-05T10:54:37.845Z"
   },
   {
    "duration": 23,
    "start_time": "2022-04-05T10:54:37.878Z"
   },
   {
    "duration": 394,
    "start_time": "2022-04-05T10:54:37.904Z"
   },
   {
    "duration": 5,
    "start_time": "2022-04-05T10:54:38.301Z"
   },
   {
    "duration": 45,
    "start_time": "2022-04-05T10:54:38.308Z"
   },
   {
    "duration": 9,
    "start_time": "2022-04-05T10:54:50.447Z"
   },
   {
    "duration": 11,
    "start_time": "2022-04-05T10:54:56.306Z"
   },
   {
    "duration": 4717,
    "start_time": "2022-04-05T10:57:14.289Z"
   },
   {
    "duration": 3,
    "start_time": "2022-04-05T10:57:26.044Z"
   },
   {
    "duration": 2542,
    "start_time": "2022-04-05T10:57:26.050Z"
   },
   {
    "duration": 31,
    "start_time": "2022-04-05T10:57:28.594Z"
   },
   {
    "duration": 38,
    "start_time": "2022-04-05T10:57:28.627Z"
   },
   {
    "duration": 30,
    "start_time": "2022-04-05T10:57:28.669Z"
   },
   {
    "duration": 59,
    "start_time": "2022-04-05T10:57:28.702Z"
   },
   {
    "duration": 30,
    "start_time": "2022-04-05T10:57:28.764Z"
   },
   {
    "duration": 50,
    "start_time": "2022-04-05T10:57:28.796Z"
   },
   {
    "duration": 391,
    "start_time": "2022-04-05T10:57:28.848Z"
   },
   {
    "duration": 11,
    "start_time": "2022-04-05T10:57:29.243Z"
   },
   {
    "duration": 22,
    "start_time": "2022-04-05T10:57:29.257Z"
   },
   {
    "duration": 6,
    "start_time": "2022-04-05T10:57:33.824Z"
   },
   {
    "duration": 8,
    "start_time": "2022-04-05T10:57:51.517Z"
   },
   {
    "duration": 6,
    "start_time": "2022-04-05T10:58:28.405Z"
   },
   {
    "duration": 12,
    "start_time": "2022-04-05T10:59:14.077Z"
   },
   {
    "duration": 11,
    "start_time": "2022-04-05T11:03:36.226Z"
   },
   {
    "duration": 10,
    "start_time": "2022-04-05T11:03:48.619Z"
   },
   {
    "duration": 11,
    "start_time": "2022-04-05T11:05:57.720Z"
   },
   {
    "duration": 11,
    "start_time": "2022-04-05T11:06:07.483Z"
   },
   {
    "duration": 11,
    "start_time": "2022-04-05T11:06:15.080Z"
   },
   {
    "duration": 11,
    "start_time": "2022-04-05T11:06:25.800Z"
   },
   {
    "duration": 12,
    "start_time": "2022-04-05T11:06:38.659Z"
   },
   {
    "duration": 10,
    "start_time": "2022-04-05T11:06:48.404Z"
   },
   {
    "duration": 11,
    "start_time": "2022-04-05T11:06:52.410Z"
   },
   {
    "duration": 11,
    "start_time": "2022-04-05T11:07:00.140Z"
   },
   {
    "duration": 4,
    "start_time": "2022-04-05T11:11:27.108Z"
   },
   {
    "duration": 817,
    "start_time": "2022-04-05T11:11:27.115Z"
   },
   {
    "duration": 29,
    "start_time": "2022-04-05T11:11:27.934Z"
   },
   {
    "duration": 27,
    "start_time": "2022-04-05T11:11:27.966Z"
   },
   {
    "duration": 48,
    "start_time": "2022-04-05T11:11:27.995Z"
   },
   {
    "duration": 31,
    "start_time": "2022-04-05T11:11:28.045Z"
   },
   {
    "duration": 30,
    "start_time": "2022-04-05T11:11:28.078Z"
   },
   {
    "duration": 45,
    "start_time": "2022-04-05T11:11:28.111Z"
   },
   {
    "duration": 375,
    "start_time": "2022-04-05T11:11:28.159Z"
   },
   {
    "duration": 10,
    "start_time": "2022-04-05T11:11:28.537Z"
   },
   {
    "duration": 14,
    "start_time": "2022-04-05T11:11:35.159Z"
   },
   {
    "duration": 9,
    "start_time": "2022-04-05T11:11:41.952Z"
   },
   {
    "duration": 16,
    "start_time": "2022-04-05T11:14:56.512Z"
   },
   {
    "duration": 17,
    "start_time": "2022-04-05T11:15:21.943Z"
   },
   {
    "duration": 30,
    "start_time": "2022-04-05T11:15:29.325Z"
   },
   {
    "duration": 20,
    "start_time": "2022-04-05T11:16:02.905Z"
   },
   {
    "duration": 20,
    "start_time": "2022-04-05T11:16:55.334Z"
   },
   {
    "duration": 653,
    "start_time": "2022-04-05T11:17:06.365Z"
   },
   {
    "duration": 17,
    "start_time": "2022-04-05T11:17:16.945Z"
   },
   {
    "duration": 18,
    "start_time": "2022-04-05T11:22:36.785Z"
   },
   {
    "duration": 18,
    "start_time": "2022-04-05T11:22:56.005Z"
   },
   {
    "duration": 20,
    "start_time": "2022-04-05T11:23:04.604Z"
   },
   {
    "duration": 18,
    "start_time": "2022-04-05T11:23:07.645Z"
   },
   {
    "duration": 34,
    "start_time": "2022-04-05T11:23:13.986Z"
   },
   {
    "duration": 27,
    "start_time": "2022-04-05T11:23:20.345Z"
   },
   {
    "duration": 43,
    "start_time": "2022-04-05T11:23:45.485Z"
   },
   {
    "duration": 41,
    "start_time": "2022-04-05T11:23:53.916Z"
   },
   {
    "duration": 205,
    "start_time": "2022-04-05T11:23:56.917Z"
   },
   {
    "duration": 32,
    "start_time": "2022-04-05T11:24:05.405Z"
   },
   {
    "duration": 26,
    "start_time": "2022-04-05T11:24:27.522Z"
   },
   {
    "duration": 34,
    "start_time": "2022-04-05T11:24:58.683Z"
   },
   {
    "duration": 18,
    "start_time": "2022-04-05T11:25:09.423Z"
   },
   {
    "duration": 18,
    "start_time": "2022-04-05T11:25:29.031Z"
   },
   {
    "duration": 14,
    "start_time": "2022-04-05T11:25:52.045Z"
   },
   {
    "duration": 25,
    "start_time": "2022-04-05T11:25:58.089Z"
   },
   {
    "duration": 24,
    "start_time": "2022-04-05T11:26:04.127Z"
   },
   {
    "duration": 11,
    "start_time": "2022-04-05T11:28:47.679Z"
   },
   {
    "duration": 13,
    "start_time": "2022-04-05T11:28:55.943Z"
   },
   {
    "duration": 10,
    "start_time": "2022-04-05T11:30:46.112Z"
   },
   {
    "duration": 6,
    "start_time": "2022-04-05T11:30:55.428Z"
   },
   {
    "duration": 6,
    "start_time": "2022-04-05T11:31:11.161Z"
   },
   {
    "duration": 6,
    "start_time": "2022-04-05T11:31:23.210Z"
   },
   {
    "duration": 6,
    "start_time": "2022-04-05T11:31:31.126Z"
   },
   {
    "duration": 6,
    "start_time": "2022-04-05T11:31:40.353Z"
   },
   {
    "duration": 7,
    "start_time": "2022-04-05T11:31:47.245Z"
   },
   {
    "duration": 6708,
    "start_time": "2022-04-05T11:32:20.054Z"
   },
   {
    "duration": 0,
    "start_time": "2022-04-05T11:32:26.764Z"
   },
   {
    "duration": 4,
    "start_time": "2022-04-05T11:32:41.377Z"
   },
   {
    "duration": 797,
    "start_time": "2022-04-05T11:32:41.391Z"
   },
   {
    "duration": 33,
    "start_time": "2022-04-05T11:32:42.191Z"
   },
   {
    "duration": 41,
    "start_time": "2022-04-05T11:32:42.226Z"
   },
   {
    "duration": 31,
    "start_time": "2022-04-05T11:32:42.269Z"
   },
   {
    "duration": 54,
    "start_time": "2022-04-05T11:32:42.303Z"
   },
   {
    "duration": 33,
    "start_time": "2022-04-05T11:32:42.359Z"
   },
   {
    "duration": 20,
    "start_time": "2022-04-05T11:32:42.394Z"
   },
   {
    "duration": 390,
    "start_time": "2022-04-05T11:32:42.443Z"
   },
   {
    "duration": 10,
    "start_time": "2022-04-05T11:32:42.835Z"
   },
   {
    "duration": 32,
    "start_time": "2022-04-05T11:32:42.847Z"
   },
   {
    "duration": 10,
    "start_time": "2022-04-05T11:32:56.185Z"
   },
   {
    "duration": 12,
    "start_time": "2022-04-05T11:33:02.172Z"
   },
   {
    "duration": 12,
    "start_time": "2022-04-05T11:34:12.877Z"
   },
   {
    "duration": 10,
    "start_time": "2022-04-05T11:34:19.352Z"
   },
   {
    "duration": 29,
    "start_time": "2022-04-05T11:34:36.412Z"
   },
   {
    "duration": 55,
    "start_time": "2022-04-05T11:36:07.952Z"
   },
   {
    "duration": 28,
    "start_time": "2022-04-05T11:36:50.493Z"
   },
   {
    "duration": 5,
    "start_time": "2022-04-05T11:41:26.637Z"
   },
   {
    "duration": 12,
    "start_time": "2022-04-05T11:42:00.464Z"
   },
   {
    "duration": 8,
    "start_time": "2022-04-05T11:42:42.219Z"
   },
   {
    "duration": 17,
    "start_time": "2022-04-05T11:42:50.360Z"
   },
   {
    "duration": 3,
    "start_time": "2022-04-05T11:42:56.719Z"
   },
   {
    "duration": 791,
    "start_time": "2022-04-05T11:42:56.725Z"
   },
   {
    "duration": 35,
    "start_time": "2022-04-05T11:42:57.518Z"
   },
   {
    "duration": 30,
    "start_time": "2022-04-05T11:42:57.555Z"
   },
   {
    "duration": 28,
    "start_time": "2022-04-05T11:42:57.588Z"
   },
   {
    "duration": 45,
    "start_time": "2022-04-05T11:42:57.618Z"
   },
   {
    "duration": 147,
    "start_time": "2022-04-05T11:42:57.665Z"
   },
   {
    "duration": 53,
    "start_time": "2022-04-05T11:42:57.814Z"
   },
   {
    "duration": 357,
    "start_time": "2022-04-05T11:42:57.869Z"
   },
   {
    "duration": 5,
    "start_time": "2022-04-05T11:42:58.229Z"
   },
   {
    "duration": 21,
    "start_time": "2022-04-05T11:42:58.243Z"
   },
   {
    "duration": 11,
    "start_time": "2022-04-05T11:42:58.267Z"
   },
   {
    "duration": 21,
    "start_time": "2022-04-05T11:42:58.280Z"
   },
   {
    "duration": 57,
    "start_time": "2022-04-05T11:42:58.304Z"
   },
   {
    "duration": 28,
    "start_time": "2022-04-05T11:43:00.360Z"
   },
   {
    "duration": 10,
    "start_time": "2022-04-05T11:43:04.079Z"
   },
   {
    "duration": 41,
    "start_time": "2022-04-05T11:43:06.560Z"
   },
   {
    "duration": 11,
    "start_time": "2022-04-05T11:43:10.219Z"
   },
   {
    "duration": 15,
    "start_time": "2022-04-05T11:44:06.470Z"
   },
   {
    "duration": 44,
    "start_time": "2022-04-05T11:44:09.873Z"
   },
   {
    "duration": 12,
    "start_time": "2022-04-05T11:44:12.832Z"
   },
   {
    "duration": 11,
    "start_time": "2022-04-05T11:44:26.527Z"
   },
   {
    "duration": 16,
    "start_time": "2022-04-05T11:46:01.728Z"
   },
   {
    "duration": 15,
    "start_time": "2022-04-05T11:46:07.068Z"
   },
   {
    "duration": 16,
    "start_time": "2022-04-05T11:46:12.400Z"
   },
   {
    "duration": 16,
    "start_time": "2022-04-05T11:46:17.860Z"
   },
   {
    "duration": 15,
    "start_time": "2022-04-05T11:46:23.640Z"
   },
   {
    "duration": 10,
    "start_time": "2022-04-05T11:49:44.944Z"
   },
   {
    "duration": 41,
    "start_time": "2022-04-05T11:49:57.812Z"
   },
   {
    "duration": 8,
    "start_time": "2022-04-05T11:50:33.331Z"
   },
   {
    "duration": 10,
    "start_time": "2022-04-05T11:51:06.303Z"
   },
   {
    "duration": 8,
    "start_time": "2022-04-05T12:22:15.983Z"
   },
   {
    "duration": 8,
    "start_time": "2022-04-05T12:29:37.433Z"
   },
   {
    "duration": 40,
    "start_time": "2022-04-05T12:29:54.030Z"
   },
   {
    "duration": 4709,
    "start_time": "2022-04-05T12:30:23.178Z"
   },
   {
    "duration": 17,
    "start_time": "2022-04-05T12:30:44.347Z"
   },
   {
    "duration": 5006,
    "start_time": "2022-04-05T12:30:58.181Z"
   },
   {
    "duration": 39,
    "start_time": "2022-04-05T12:31:09.258Z"
   },
   {
    "duration": 10,
    "start_time": "2022-04-05T12:32:56.803Z"
   },
   {
    "duration": 15,
    "start_time": "2022-04-05T12:40:31.719Z"
   },
   {
    "duration": 38,
    "start_time": "2022-04-05T12:40:47.048Z"
   },
   {
    "duration": 11,
    "start_time": "2022-04-05T12:40:58.315Z"
   },
   {
    "duration": 9,
    "start_time": "2022-04-05T12:41:15.447Z"
   },
   {
    "duration": 8,
    "start_time": "2022-04-05T12:42:58.277Z"
   },
   {
    "duration": 7,
    "start_time": "2022-04-05T12:43:32.536Z"
   },
   {
    "duration": 7,
    "start_time": "2022-04-05T12:43:49.316Z"
   },
   {
    "duration": 7,
    "start_time": "2022-04-05T12:44:47.416Z"
   },
   {
    "duration": 4,
    "start_time": "2022-04-05T12:54:09.530Z"
   },
   {
    "duration": 768,
    "start_time": "2022-04-05T12:54:09.537Z"
   },
   {
    "duration": 36,
    "start_time": "2022-04-05T12:54:10.307Z"
   },
   {
    "duration": 24,
    "start_time": "2022-04-05T12:54:10.345Z"
   },
   {
    "duration": 29,
    "start_time": "2022-04-05T12:54:10.372Z"
   },
   {
    "duration": 58,
    "start_time": "2022-04-05T12:54:10.404Z"
   },
   {
    "duration": 30,
    "start_time": "2022-04-05T12:54:10.465Z"
   },
   {
    "duration": 47,
    "start_time": "2022-04-05T12:54:10.497Z"
   },
   {
    "duration": 361,
    "start_time": "2022-04-05T12:54:10.547Z"
   },
   {
    "duration": 5,
    "start_time": "2022-04-05T12:54:10.911Z"
   },
   {
    "duration": 40,
    "start_time": "2022-04-05T12:54:10.919Z"
   },
   {
    "duration": 12,
    "start_time": "2022-04-05T12:54:28.839Z"
   },
   {
    "duration": 11,
    "start_time": "2022-04-05T12:55:27.239Z"
   },
   {
    "duration": 21,
    "start_time": "2022-04-05T12:55:42.756Z"
   },
   {
    "duration": 10,
    "start_time": "2022-04-05T12:55:51.155Z"
   },
   {
    "duration": 12,
    "start_time": "2022-04-05T13:45:24.797Z"
   },
   {
    "duration": 3820,
    "start_time": "2022-04-05T13:46:29.375Z"
   },
   {
    "duration": 18,
    "start_time": "2022-04-05T13:46:59.112Z"
   },
   {
    "duration": 12,
    "start_time": "2022-04-05T13:48:21.778Z"
   },
   {
    "duration": 11,
    "start_time": "2022-04-05T13:48:41.862Z"
   },
   {
    "duration": 5,
    "start_time": "2022-04-05T13:49:03.163Z"
   },
   {
    "duration": 1545,
    "start_time": "2022-04-05T13:49:35.646Z"
   },
   {
    "duration": 16,
    "start_time": "2022-04-05T13:50:34.454Z"
   },
   {
    "duration": 7,
    "start_time": "2022-04-05T13:51:08.671Z"
   },
   {
    "duration": 39,
    "start_time": "2022-04-05T13:51:17.034Z"
   },
   {
    "duration": 11,
    "start_time": "2022-04-05T13:51:26.213Z"
   },
   {
    "duration": 3218,
    "start_time": "2022-04-05T13:51:34.883Z"
   },
   {
    "duration": 19,
    "start_time": "2022-04-05T13:51:48.521Z"
   },
   {
    "duration": 1765,
    "start_time": "2022-04-05T13:57:08.229Z"
   },
   {
    "duration": 1807,
    "start_time": "2022-04-05T13:57:28.222Z"
   },
   {
    "duration": 1504,
    "start_time": "2022-04-05T13:58:17.650Z"
   },
   {
    "duration": 1597,
    "start_time": "2022-04-05T13:58:26.790Z"
   },
   {
    "duration": 1567,
    "start_time": "2022-04-05T14:01:09.364Z"
   },
   {
    "duration": 1624,
    "start_time": "2022-04-05T14:03:02.294Z"
   },
   {
    "duration": 1657,
    "start_time": "2022-04-05T14:03:22.356Z"
   },
   {
    "duration": 1669,
    "start_time": "2022-04-05T14:06:19.363Z"
   },
   {
    "duration": 1732,
    "start_time": "2022-04-05T14:06:56.955Z"
   },
   {
    "duration": 1602,
    "start_time": "2022-04-05T14:08:47.267Z"
   },
   {
    "duration": 836,
    "start_time": "2022-04-05T14:08:48.871Z"
   },
   {
    "duration": 99,
    "start_time": "2022-04-05T14:08:49.710Z"
   },
   {
    "duration": 26,
    "start_time": "2022-04-05T14:08:49.812Z"
   },
   {
    "duration": 29,
    "start_time": "2022-04-05T14:08:49.841Z"
   },
   {
    "duration": 28,
    "start_time": "2022-04-05T14:08:49.873Z"
   },
   {
    "duration": 53,
    "start_time": "2022-04-05T14:08:49.903Z"
   },
   {
    "duration": 19,
    "start_time": "2022-04-05T14:08:49.958Z"
   },
   {
    "duration": 391,
    "start_time": "2022-04-05T14:08:49.980Z"
   },
   {
    "duration": 7,
    "start_time": "2022-04-05T14:08:50.374Z"
   },
   {
    "duration": 39,
    "start_time": "2022-04-05T14:08:50.383Z"
   },
   {
    "duration": 1873,
    "start_time": "2022-04-05T14:08:55.375Z"
   },
   {
    "duration": 10,
    "start_time": "2022-04-05T14:12:05.162Z"
   },
   {
    "duration": 17,
    "start_time": "2022-04-05T14:12:10.283Z"
   },
   {
    "duration": 8,
    "start_time": "2022-04-05T14:12:20.015Z"
   },
   {
    "duration": 23,
    "start_time": "2022-04-05T14:13:03.325Z"
   },
   {
    "duration": 18,
    "start_time": "2022-04-05T14:14:13.536Z"
   },
   {
    "duration": 10,
    "start_time": "2022-04-05T14:14:39.270Z"
   },
   {
    "duration": 24,
    "start_time": "2022-04-05T14:14:40.018Z"
   },
   {
    "duration": 18,
    "start_time": "2022-04-05T14:14:41.194Z"
   },
   {
    "duration": 18,
    "start_time": "2022-04-05T14:22:54.755Z"
   },
   {
    "duration": 18,
    "start_time": "2022-04-05T14:23:48.596Z"
   },
   {
    "duration": 7,
    "start_time": "2022-04-05T14:24:20.774Z"
   },
   {
    "duration": 41,
    "start_time": "2022-04-05T14:51:09.625Z"
   },
   {
    "duration": 44,
    "start_time": "2022-04-05T14:51:20.058Z"
   },
   {
    "duration": 6,
    "start_time": "2022-04-05T14:54:02.020Z"
   },
   {
    "duration": 18,
    "start_time": "2022-04-05T14:54:28.051Z"
   },
   {
    "duration": 12,
    "start_time": "2022-04-05T14:54:33.575Z"
   },
   {
    "duration": 167,
    "start_time": "2022-04-05T14:55:04.715Z"
   },
   {
    "duration": 152,
    "start_time": "2022-04-05T14:55:11.305Z"
   },
   {
    "duration": 152,
    "start_time": "2022-04-05T14:56:39.525Z"
   },
   {
    "duration": 176,
    "start_time": "2022-04-05T14:56:55.584Z"
   },
   {
    "duration": 760,
    "start_time": "2022-04-05T15:21:56.956Z"
   },
   {
    "duration": 5,
    "start_time": "2022-04-05T15:22:09.256Z"
   },
   {
    "duration": 622,
    "start_time": "2022-04-05T15:23:53.411Z"
   },
   {
    "duration": 258,
    "start_time": "2022-04-05T15:25:05.566Z"
   },
   {
    "duration": 383626,
    "start_time": "2022-04-05T15:25:15.260Z"
   },
   {
    "duration": 2093,
    "start_time": "2022-04-06T11:59:38.975Z"
   },
   {
    "duration": 782,
    "start_time": "2022-04-06T11:59:43.587Z"
   },
   {
    "duration": 36,
    "start_time": "2022-04-06T11:59:46.973Z"
   },
   {
    "duration": 26,
    "start_time": "2022-04-06T11:59:52.886Z"
   },
   {
    "duration": 31,
    "start_time": "2022-04-06T12:00:19.702Z"
   },
   {
    "duration": 23,
    "start_time": "2022-04-06T12:00:27.878Z"
   },
   {
    "duration": 30,
    "start_time": "2022-04-06T12:00:30.721Z"
   },
   {
    "duration": 20,
    "start_time": "2022-04-06T12:00:35.017Z"
   },
   {
    "duration": 294,
    "start_time": "2022-04-06T12:02:32.933Z"
   },
   {
    "duration": 7,
    "start_time": "2022-04-06T12:02:34.266Z"
   },
   {
    "duration": 21,
    "start_time": "2022-04-06T12:02:50.390Z"
   },
   {
    "duration": 167,
    "start_time": "2022-04-06T12:02:57.685Z"
   },
   {
    "duration": 1523,
    "start_time": "2022-04-07T08:38:45.279Z"
   },
   {
    "duration": 635,
    "start_time": "2022-04-07T08:38:46.804Z"
   },
   {
    "duration": 25,
    "start_time": "2022-04-07T08:38:47.440Z"
   },
   {
    "duration": 17,
    "start_time": "2022-04-07T08:38:47.466Z"
   },
   {
    "duration": 32,
    "start_time": "2022-04-07T08:38:47.486Z"
   },
   {
    "duration": 11,
    "start_time": "2022-04-07T08:38:47.519Z"
   },
   {
    "duration": 195,
    "start_time": "2022-04-07T08:38:47.532Z"
   },
   {
    "duration": 4,
    "start_time": "2022-04-07T08:38:47.728Z"
   },
   {
    "duration": 16,
    "start_time": "2022-04-07T08:38:47.734Z"
   },
   {
    "duration": 108,
    "start_time": "2022-04-07T08:38:47.752Z"
   },
   {
    "duration": 2,
    "start_time": "2022-04-07T08:38:47.862Z"
   },
   {
    "duration": 5,
    "start_time": "2022-04-07T08:38:47.865Z"
   },
   {
    "duration": 4,
    "start_time": "2022-04-07T08:39:03.798Z"
   },
   {
    "duration": 6,
    "start_time": "2022-04-07T08:39:04.527Z"
   },
   {
    "duration": 3,
    "start_time": "2022-04-07T09:08:00.160Z"
   },
   {
    "duration": 671,
    "start_time": "2022-04-07T09:08:00.164Z"
   },
   {
    "duration": 23,
    "start_time": "2022-04-07T09:08:00.836Z"
   },
   {
    "duration": 24,
    "start_time": "2022-04-07T09:08:00.862Z"
   },
   {
    "duration": 26,
    "start_time": "2022-04-07T09:08:00.888Z"
   },
   {
    "duration": 12,
    "start_time": "2022-04-07T09:08:00.915Z"
   },
   {
    "duration": 206,
    "start_time": "2022-04-07T09:08:00.929Z"
   },
   {
    "duration": 5,
    "start_time": "2022-04-07T09:08:01.137Z"
   },
   {
    "duration": 22,
    "start_time": "2022-04-07T09:08:01.143Z"
   },
   {
    "duration": 108,
    "start_time": "2022-04-07T09:08:01.169Z"
   },
   {
    "duration": 2,
    "start_time": "2022-04-07T09:08:01.280Z"
   },
   {
    "duration": 24,
    "start_time": "2022-04-07T09:08:01.284Z"
   },
   {
    "duration": 17,
    "start_time": "2022-04-07T09:08:01.309Z"
   },
   {
    "duration": 10,
    "start_time": "2022-04-07T09:08:01.328Z"
   },
   {
    "duration": 22,
    "start_time": "2022-04-07T09:08:01.340Z"
   },
   {
    "duration": 338131,
    "start_time": "2022-04-07T09:08:01.364Z"
   },
   {
    "duration": 217,
    "start_time": "2022-04-07T09:13:39.496Z"
   },
   {
    "duration": 2410,
    "start_time": "2022-04-07T09:13:39.715Z"
   },
   {
    "duration": 109,
    "start_time": "2022-04-07T09:14:35.991Z"
   },
   {
    "duration": 144,
    "start_time": "2022-04-07T09:14:45.043Z"
   },
   {
    "duration": 61,
    "start_time": "2022-04-07T10:36:58.585Z"
   },
   {
    "duration": 1403,
    "start_time": "2022-04-07T10:37:04.865Z"
   },
   {
    "duration": 757,
    "start_time": "2022-04-07T10:37:06.270Z"
   },
   {
    "duration": 27,
    "start_time": "2022-04-07T10:37:07.029Z"
   },
   {
    "duration": 17,
    "start_time": "2022-04-07T10:37:07.058Z"
   },
   {
    "duration": 15,
    "start_time": "2022-04-07T10:37:07.076Z"
   },
   {
    "duration": 21,
    "start_time": "2022-04-07T10:37:07.108Z"
   },
   {
    "duration": 233,
    "start_time": "2022-04-07T10:37:07.130Z"
   },
   {
    "duration": 5,
    "start_time": "2022-04-07T10:37:07.364Z"
   },
   {
    "duration": 16,
    "start_time": "2022-04-07T10:37:07.370Z"
   },
   {
    "duration": 133,
    "start_time": "2022-04-07T10:37:07.389Z"
   },
   {
    "duration": 3,
    "start_time": "2022-04-07T10:37:07.526Z"
   },
   {
    "duration": 6,
    "start_time": "2022-04-07T10:37:07.531Z"
   },
   {
    "duration": 8,
    "start_time": "2022-04-07T10:37:07.538Z"
   },
   {
    "duration": 6,
    "start_time": "2022-04-07T10:37:07.548Z"
   },
   {
    "duration": 5,
    "start_time": "2022-04-07T10:37:45.960Z"
   },
   {
    "duration": 77,
    "start_time": "2022-04-07T10:46:54.125Z"
   },
   {
    "duration": 91,
    "start_time": "2022-04-07T10:46:58.886Z"
   },
   {
    "duration": 72,
    "start_time": "2022-04-07T10:47:30.570Z"
   },
   {
    "duration": 3,
    "start_time": "2022-04-07T10:51:19.244Z"
   },
   {
    "duration": 17,
    "start_time": "2022-04-07T10:51:26.435Z"
   },
   {
    "duration": 10,
    "start_time": "2022-04-07T10:53:16.455Z"
   },
   {
    "duration": 10,
    "start_time": "2022-04-07T10:53:29.834Z"
   },
   {
    "duration": 509,
    "start_time": "2022-04-07T10:54:06.795Z"
   },
   {
    "duration": 12,
    "start_time": "2022-04-07T11:14:12.095Z"
   },
   {
    "duration": 2999,
    "start_time": "2022-04-07T11:14:17.179Z"
   },
   {
    "duration": 836,
    "start_time": "2022-04-07T11:15:13.044Z"
   },
   {
    "duration": 4432,
    "start_time": "2022-04-07T11:15:35.445Z"
   },
   {
    "duration": 4315,
    "start_time": "2022-04-07T11:15:51.475Z"
   },
   {
    "duration": 4447,
    "start_time": "2022-04-07T11:16:10.754Z"
   },
   {
    "duration": 4617,
    "start_time": "2022-04-07T11:17:36.339Z"
   },
   {
    "duration": 1119,
    "start_time": "2022-04-07T11:26:27.764Z"
   },
   {
    "duration": 13,
    "start_time": "2022-04-07T11:27:02.048Z"
   },
   {
    "duration": 16,
    "start_time": "2022-04-07T11:27:10.834Z"
   },
   {
    "duration": 15,
    "start_time": "2022-04-07T11:27:45.658Z"
   },
   {
    "duration": 15,
    "start_time": "2022-04-07T11:28:36.359Z"
   },
   {
    "duration": 687,
    "start_time": "2022-04-07T11:28:49.884Z"
   },
   {
    "duration": 673,
    "start_time": "2022-04-07T11:29:25.975Z"
   },
   {
    "duration": 2358,
    "start_time": "2022-04-07T11:31:02.725Z"
   },
   {
    "duration": 2339,
    "start_time": "2022-04-07T11:37:50.923Z"
   },
   {
    "duration": 2276,
    "start_time": "2022-04-07T11:38:07.930Z"
   },
   {
    "duration": 2182,
    "start_time": "2022-04-07T11:38:34.618Z"
   },
   {
    "duration": 2425,
    "start_time": "2022-04-07T11:38:43.173Z"
   },
   {
    "duration": 2249,
    "start_time": "2022-04-07T11:39:00.990Z"
   },
   {
    "duration": 2256,
    "start_time": "2022-04-07T11:39:25.188Z"
   },
   {
    "duration": 2403,
    "start_time": "2022-04-07T11:42:24.723Z"
   },
   {
    "duration": 2213,
    "start_time": "2022-04-07T11:42:46.614Z"
   },
   {
    "duration": 2218,
    "start_time": "2022-04-07T11:45:00.854Z"
   },
   {
    "duration": 2336,
    "start_time": "2022-04-07T11:45:26.814Z"
   },
   {
    "duration": 2236,
    "start_time": "2022-04-07T11:46:04.238Z"
   },
   {
    "duration": 2372,
    "start_time": "2022-04-07T11:46:43.388Z"
   },
   {
    "duration": 758,
    "start_time": "2022-04-07T11:47:37.910Z"
   },
   {
    "duration": 2196,
    "start_time": "2022-04-07T11:47:55.473Z"
   },
   {
    "duration": 7,
    "start_time": "2022-04-07T11:49:27.488Z"
   },
   {
    "duration": 2242,
    "start_time": "2022-04-07T11:49:55.887Z"
   },
   {
    "duration": 259,
    "start_time": "2022-04-07T12:07:52.159Z"
   },
   {
    "duration": 125,
    "start_time": "2022-04-07T12:08:12.747Z"
   },
   {
    "duration": 124,
    "start_time": "2022-04-07T12:08:20.842Z"
   },
   {
    "duration": 228,
    "start_time": "2022-04-07T12:08:38.607Z"
   },
   {
    "duration": 435,
    "start_time": "2022-04-07T12:09:01.657Z"
   },
   {
    "duration": 26,
    "start_time": "2022-04-07T12:12:15.212Z"
   },
   {
    "duration": 442,
    "start_time": "2022-04-07T12:14:52.438Z"
   },
   {
    "duration": 433,
    "start_time": "2022-04-07T12:15:20.737Z"
   },
   {
    "duration": 692,
    "start_time": "2022-04-07T12:22:32.162Z"
   },
   {
    "duration": 520,
    "start_time": "2022-04-07T12:22:44.913Z"
   },
   {
    "duration": 312,
    "start_time": "2022-04-07T12:23:16.142Z"
   },
   {
    "duration": 24,
    "start_time": "2022-04-07T12:23:34.916Z"
   },
   {
    "duration": 17,
    "start_time": "2022-04-07T12:23:38.143Z"
   },
   {
    "duration": 23,
    "start_time": "2022-04-07T12:23:40.519Z"
   },
   {
    "duration": 533,
    "start_time": "2022-04-07T12:24:00.157Z"
   },
   {
    "duration": 5,
    "start_time": "2022-04-07T12:44:11.538Z"
   },
   {
    "duration": 946,
    "start_time": "2022-04-07T12:44:46.102Z"
   },
   {
    "duration": 393,
    "start_time": "2022-04-07T12:44:59.568Z"
   },
   {
    "duration": 352,
    "start_time": "2022-04-07T12:45:30.988Z"
   },
   {
    "duration": 687,
    "start_time": "2022-04-07T12:45:50.349Z"
   },
   {
    "duration": 708,
    "start_time": "2022-04-07T12:46:11.579Z"
   },
   {
    "duration": 767,
    "start_time": "2022-04-07T12:46:25.537Z"
   },
   {
    "duration": 1004,
    "start_time": "2022-04-07T12:47:00.098Z"
   },
   {
    "duration": 535,
    "start_time": "2022-04-07T12:48:01.508Z"
   },
   {
    "duration": 1878,
    "start_time": "2022-04-07T14:36:28.182Z"
   },
   {
    "duration": 970,
    "start_time": "2022-04-07T14:36:35.149Z"
   },
   {
    "duration": 36,
    "start_time": "2022-04-07T14:36:36.122Z"
   },
   {
    "duration": 25,
    "start_time": "2022-04-07T14:36:36.160Z"
   },
   {
    "duration": 22,
    "start_time": "2022-04-07T14:36:36.202Z"
   },
   {
    "duration": 17,
    "start_time": "2022-04-07T14:36:36.227Z"
   },
   {
    "duration": 332,
    "start_time": "2022-04-07T14:36:36.246Z"
   },
   {
    "duration": 5,
    "start_time": "2022-04-07T14:36:36.580Z"
   },
   {
    "duration": 29,
    "start_time": "2022-04-07T14:36:36.587Z"
   },
   {
    "duration": 142,
    "start_time": "2022-04-07T14:36:36.618Z"
   },
   {
    "duration": 3,
    "start_time": "2022-04-07T14:36:36.762Z"
   },
   {
    "duration": 17,
    "start_time": "2022-04-07T14:36:36.767Z"
   },
   {
    "duration": 6,
    "start_time": "2022-04-07T14:36:36.786Z"
   },
   {
    "duration": 11,
    "start_time": "2022-04-07T14:36:36.794Z"
   },
   {
    "duration": 3092,
    "start_time": "2022-04-07T14:36:36.809Z"
   },
   {
    "duration": 769,
    "start_time": "2022-04-07T14:36:39.903Z"
   },
   {
    "duration": 6,
    "start_time": "2022-04-07T14:36:40.674Z"
   },
   {
    "duration": 875,
    "start_time": "2022-04-07T14:36:40.682Z"
   },
   {
    "duration": 205,
    "start_time": "2022-04-07T14:37:14.308Z"
   },
   {
    "duration": 970,
    "start_time": "2022-04-07T14:37:52.248Z"
   },
   {
    "duration": 761,
    "start_time": "2022-04-07T14:38:16.078Z"
   },
   {
    "duration": 899,
    "start_time": "2022-04-07T15:04:36.546Z"
   },
   {
    "duration": 739,
    "start_time": "2022-04-07T15:05:39.986Z"
   },
   {
    "duration": 1851,
    "start_time": "2022-04-07T15:06:11.094Z"
   },
   {
    "duration": 1374,
    "start_time": "2022-04-07T15:06:20.087Z"
   },
   {
    "duration": 1555,
    "start_time": "2022-04-07T15:06:29.338Z"
   },
   {
    "duration": 1540,
    "start_time": "2022-04-07T15:06:56.738Z"
   },
   {
    "duration": 1575,
    "start_time": "2022-04-07T15:07:06.799Z"
   },
   {
    "duration": 738,
    "start_time": "2022-04-07T15:07:40.075Z"
   },
   {
    "duration": 246,
    "start_time": "2022-04-07T15:08:33.939Z"
   },
   {
    "duration": 419,
    "start_time": "2022-04-07T15:11:56.847Z"
   },
   {
    "duration": 1023,
    "start_time": "2022-04-07T15:22:01.608Z"
   },
   {
    "duration": 1184,
    "start_time": "2022-04-07T15:23:56.609Z"
   },
   {
    "duration": 1470,
    "start_time": "2022-04-07T15:28:48.586Z"
   },
   {
    "duration": 1034,
    "start_time": "2022-04-07T15:30:56.478Z"
   },
   {
    "duration": 1119,
    "start_time": "2022-04-07T15:36:22.527Z"
   },
   {
    "duration": 1562,
    "start_time": "2022-04-08T08:57:36.291Z"
   },
   {
    "duration": 557,
    "start_time": "2022-04-08T08:57:37.855Z"
   },
   {
    "duration": 24,
    "start_time": "2022-04-08T08:57:38.414Z"
   },
   {
    "duration": 75,
    "start_time": "2022-04-08T08:57:38.440Z"
   },
   {
    "duration": 15,
    "start_time": "2022-04-08T08:57:38.516Z"
   },
   {
    "duration": 32,
    "start_time": "2022-04-08T08:57:38.532Z"
   },
   {
    "duration": 181,
    "start_time": "2022-04-08T08:57:38.566Z"
   },
   {
    "duration": 4,
    "start_time": "2022-04-08T08:57:38.749Z"
   },
   {
    "duration": 58,
    "start_time": "2022-04-08T08:57:38.754Z"
   },
   {
    "duration": 111,
    "start_time": "2022-04-08T08:57:38.815Z"
   },
   {
    "duration": 2,
    "start_time": "2022-04-08T08:57:38.928Z"
   },
   {
    "duration": 58,
    "start_time": "2022-04-08T08:57:38.932Z"
   },
   {
    "duration": 21,
    "start_time": "2022-04-08T08:57:38.991Z"
   },
   {
    "duration": 48,
    "start_time": "2022-04-08T08:57:39.014Z"
   },
   {
    "duration": 2100,
    "start_time": "2022-04-08T08:57:39.063Z"
   },
   {
    "duration": 487,
    "start_time": "2022-04-08T08:57:41.165Z"
   },
   {
    "duration": 4,
    "start_time": "2022-04-08T08:57:41.654Z"
   },
   {
    "duration": 298,
    "start_time": "2022-04-08T08:57:41.660Z"
   },
   {
    "duration": 904,
    "start_time": "2022-04-08T08:57:41.960Z"
   },
   {
    "duration": 3,
    "start_time": "2022-04-08T08:57:42.866Z"
   },
   {
    "duration": 8,
    "start_time": "2022-04-08T09:25:26.143Z"
   },
   {
    "duration": 125,
    "start_time": "2022-04-08T09:26:59.410Z"
   },
   {
    "duration": 2,
    "start_time": "2022-04-08T09:27:04.274Z"
   },
   {
    "duration": 122,
    "start_time": "2022-04-08T09:27:29.107Z"
   },
   {
    "duration": 2611,
    "start_time": "2022-04-08T10:50:07.377Z"
   },
   {
    "duration": 6837,
    "start_time": "2022-04-08T10:50:09.991Z"
   },
   {
    "duration": 51,
    "start_time": "2022-04-08T10:50:16.831Z"
   },
   {
    "duration": 40,
    "start_time": "2022-04-08T10:50:16.885Z"
   },
   {
    "duration": 52,
    "start_time": "2022-04-08T10:50:16.929Z"
   },
   {
    "duration": 22,
    "start_time": "2022-04-08T10:50:16.984Z"
   },
   {
    "duration": 336,
    "start_time": "2022-04-08T10:50:17.009Z"
   },
   {
    "duration": 6,
    "start_time": "2022-04-08T10:50:17.347Z"
   },
   {
    "duration": 29,
    "start_time": "2022-04-08T10:50:17.355Z"
   },
   {
    "duration": 183,
    "start_time": "2022-04-08T10:50:17.386Z"
   },
   {
    "duration": 3,
    "start_time": "2022-04-08T10:50:17.572Z"
   },
   {
    "duration": 6,
    "start_time": "2022-04-08T10:50:17.577Z"
   },
   {
    "duration": 9,
    "start_time": "2022-04-08T10:50:17.585Z"
   },
   {
    "duration": 6,
    "start_time": "2022-04-08T10:50:17.598Z"
   },
   {
    "duration": 3240,
    "start_time": "2022-04-08T10:50:17.607Z"
   },
   {
    "duration": 788,
    "start_time": "2022-04-08T10:50:20.850Z"
   },
   {
    "duration": 8,
    "start_time": "2022-04-08T10:50:21.641Z"
   },
   {
    "duration": 444,
    "start_time": "2022-04-08T10:50:21.667Z"
   },
   {
    "duration": 1687,
    "start_time": "2022-04-08T10:50:22.115Z"
   },
   {
    "duration": 7,
    "start_time": "2022-04-08T10:50:23.804Z"
   },
   {
    "duration": 10,
    "start_time": "2022-04-08T10:50:23.813Z"
   },
   {
    "duration": 10,
    "start_time": "2022-04-08T10:54:58.635Z"
   },
   {
    "duration": 159,
    "start_time": "2022-04-08T10:55:04.665Z"
   },
   {
    "duration": 11,
    "start_time": "2022-04-08T10:55:26.922Z"
   },
   {
    "duration": 11,
    "start_time": "2022-04-08T10:58:51.538Z"
   },
   {
    "duration": 11,
    "start_time": "2022-04-08T10:59:03.533Z"
   },
   {
    "duration": 16,
    "start_time": "2022-04-08T10:59:17.792Z"
   },
   {
    "duration": 11,
    "start_time": "2022-04-08T10:59:21.057Z"
   },
   {
    "duration": 7,
    "start_time": "2022-04-08T11:00:12.706Z"
   },
   {
    "duration": 4,
    "start_time": "2022-04-08T11:01:51.133Z"
   },
   {
    "duration": 834,
    "start_time": "2022-04-08T11:01:51.140Z"
   },
   {
    "duration": 32,
    "start_time": "2022-04-08T11:01:51.977Z"
   },
   {
    "duration": 35,
    "start_time": "2022-04-08T11:01:52.012Z"
   },
   {
    "duration": 24,
    "start_time": "2022-04-08T11:01:52.068Z"
   },
   {
    "duration": 19,
    "start_time": "2022-04-08T11:01:52.095Z"
   },
   {
    "duration": 359,
    "start_time": "2022-04-08T11:01:52.116Z"
   },
   {
    "duration": 7,
    "start_time": "2022-04-08T11:01:52.477Z"
   },
   {
    "duration": 23,
    "start_time": "2022-04-08T11:01:52.486Z"
   },
   {
    "duration": 6,
    "start_time": "2022-04-08T11:01:52.512Z"
   },
   {
    "duration": 188,
    "start_time": "2022-04-08T11:01:52.521Z"
   },
   {
    "duration": 11,
    "start_time": "2022-04-08T11:01:52.712Z"
   },
   {
    "duration": 18,
    "start_time": "2022-04-08T11:01:52.725Z"
   },
   {
    "duration": 4,
    "start_time": "2022-04-08T11:01:52.767Z"
   },
   {
    "duration": 17,
    "start_time": "2022-04-08T11:01:52.773Z"
   },
   {
    "duration": 6,
    "start_time": "2022-04-08T11:01:52.792Z"
   },
   {
    "duration": 6,
    "start_time": "2022-04-08T11:01:52.800Z"
   },
   {
    "duration": 3000,
    "start_time": "2022-04-08T11:01:52.808Z"
   },
   {
    "duration": 713,
    "start_time": "2022-04-08T11:01:55.811Z"
   },
   {
    "duration": 456,
    "start_time": "2022-04-08T11:01:56.526Z"
   },
   {
    "duration": 1790,
    "start_time": "2022-04-08T11:01:56.985Z"
   },
   {
    "duration": 5,
    "start_time": "2022-04-08T11:01:58.777Z"
   },
   {
    "duration": 6,
    "start_time": "2022-04-08T11:01:58.784Z"
   },
   {
    "duration": 306,
    "start_time": "2022-04-08T11:01:58.792Z"
   },
   {
    "duration": 11,
    "start_time": "2022-04-08T11:02:37.472Z"
   },
   {
    "duration": 14,
    "start_time": "2022-04-08T11:05:30.851Z"
   },
   {
    "duration": 162,
    "start_time": "2022-04-08T11:05:35.492Z"
   },
   {
    "duration": 4,
    "start_time": "2022-04-08T11:05:41.100Z"
   },
   {
    "duration": 774,
    "start_time": "2022-04-08T11:05:41.107Z"
   },
   {
    "duration": 30,
    "start_time": "2022-04-08T11:05:41.883Z"
   },
   {
    "duration": 28,
    "start_time": "2022-04-08T11:05:41.915Z"
   },
   {
    "duration": 41,
    "start_time": "2022-04-08T11:05:41.946Z"
   },
   {
    "duration": 17,
    "start_time": "2022-04-08T11:05:41.989Z"
   },
   {
    "duration": 322,
    "start_time": "2022-04-08T11:05:42.008Z"
   },
   {
    "duration": 5,
    "start_time": "2022-04-08T11:05:42.333Z"
   },
   {
    "duration": 37,
    "start_time": "2022-04-08T11:05:42.340Z"
   },
   {
    "duration": 8,
    "start_time": "2022-04-08T11:05:42.380Z"
   },
   {
    "duration": 163,
    "start_time": "2022-04-08T11:05:42.390Z"
   },
   {
    "duration": 18,
    "start_time": "2022-04-08T11:05:42.555Z"
   },
   {
    "duration": 12,
    "start_time": "2022-04-08T11:05:42.575Z"
   },
   {
    "duration": 3,
    "start_time": "2022-04-08T11:05:42.591Z"
   },
   {
    "duration": 16,
    "start_time": "2022-04-08T11:05:42.596Z"
   },
   {
    "duration": 5,
    "start_time": "2022-04-08T11:05:42.615Z"
   },
   {
    "duration": 46,
    "start_time": "2022-04-08T11:05:42.622Z"
   },
   {
    "duration": 2985,
    "start_time": "2022-04-08T11:05:42.670Z"
   },
   {
    "duration": 781,
    "start_time": "2022-04-08T11:05:45.657Z"
   },
   {
    "duration": 661,
    "start_time": "2022-04-08T11:05:46.440Z"
   },
   {
    "duration": 1999,
    "start_time": "2022-04-08T11:05:47.103Z"
   },
   {
    "duration": 5,
    "start_time": "2022-04-08T11:05:49.105Z"
   },
   {
    "duration": 5,
    "start_time": "2022-04-08T11:05:49.168Z"
   },
   {
    "duration": 22,
    "start_time": "2022-04-08T11:05:49.175Z"
   },
   {
    "duration": 5,
    "start_time": "2022-04-08T11:06:10.599Z"
   },
   {
    "duration": 13,
    "start_time": "2022-04-08T11:06:11.319Z"
   },
   {
    "duration": 19,
    "start_time": "2022-04-08T11:06:39.759Z"
   },
   {
    "duration": 5,
    "start_time": "2022-04-08T11:07:22.011Z"
   },
   {
    "duration": 18,
    "start_time": "2022-04-08T11:07:22.799Z"
   },
   {
    "duration": 40,
    "start_time": "2022-04-08T11:10:33.711Z"
   },
   {
    "duration": 11,
    "start_time": "2022-04-08T11:10:47.710Z"
   },
   {
    "duration": 8,
    "start_time": "2022-04-08T11:10:57.130Z"
   },
   {
    "duration": 44,
    "start_time": "2022-04-08T11:12:16.458Z"
   },
   {
    "duration": 8,
    "start_time": "2022-04-08T11:12:49.651Z"
   },
   {
    "duration": 4,
    "start_time": "2022-04-08T11:12:56.431Z"
   },
   {
    "duration": 1844,
    "start_time": "2022-04-08T11:12:56.903Z"
   },
   {
    "duration": 5,
    "start_time": "2022-04-08T11:13:07.320Z"
   },
   {
    "duration": 111,
    "start_time": "2022-04-08T11:15:00.531Z"
   },
   {
    "duration": 5,
    "start_time": "2022-04-08T11:15:17.938Z"
   },
   {
    "duration": 1480,
    "start_time": "2022-04-08T11:15:19.550Z"
   },
   {
    "duration": 6,
    "start_time": "2022-04-08T11:15:25.970Z"
   },
   {
    "duration": 14,
    "start_time": "2022-04-08T11:16:53.650Z"
   },
   {
    "duration": 20,
    "start_time": "2022-04-08T11:17:02.132Z"
   },
   {
    "duration": 20,
    "start_time": "2022-04-08T11:17:41.979Z"
   },
   {
    "duration": 20,
    "start_time": "2022-04-08T11:18:26.978Z"
   },
   {
    "duration": 5,
    "start_time": "2022-04-08T11:27:55.448Z"
   },
   {
    "duration": 5647,
    "start_time": "2022-04-08T11:28:17.997Z"
   },
   {
    "duration": 5,
    "start_time": "2022-04-08T11:28:25.989Z"
   },
   {
    "duration": 39,
    "start_time": "2022-04-08T11:28:31.592Z"
   },
   {
    "duration": 4,
    "start_time": "2022-04-08T11:30:25.500Z"
   },
   {
    "duration": 12,
    "start_time": "2022-04-08T11:47:19.502Z"
   },
   {
    "duration": 1962,
    "start_time": "2022-04-08T11:47:26.747Z"
   },
   {
    "duration": 763,
    "start_time": "2022-04-08T11:47:28.712Z"
   },
   {
    "duration": 35,
    "start_time": "2022-04-08T11:47:29.478Z"
   },
   {
    "duration": 25,
    "start_time": "2022-04-08T11:47:29.516Z"
   },
   {
    "duration": 42,
    "start_time": "2022-04-08T11:47:29.545Z"
   },
   {
    "duration": 19,
    "start_time": "2022-04-08T11:47:29.590Z"
   },
   {
    "duration": 322,
    "start_time": "2022-04-08T11:47:29.611Z"
   },
   {
    "duration": 6,
    "start_time": "2022-04-08T11:47:29.936Z"
   },
   {
    "duration": 40,
    "start_time": "2022-04-08T11:47:29.945Z"
   },
   {
    "duration": 5,
    "start_time": "2022-04-08T11:47:29.988Z"
   },
   {
    "duration": 183,
    "start_time": "2022-04-08T11:47:29.996Z"
   },
   {
    "duration": 10,
    "start_time": "2022-04-08T11:47:30.181Z"
   },
   {
    "duration": 17,
    "start_time": "2022-04-08T11:47:30.194Z"
   },
   {
    "duration": 3,
    "start_time": "2022-04-08T11:47:30.216Z"
   },
   {
    "duration": 53,
    "start_time": "2022-04-08T11:47:30.221Z"
   },
   {
    "duration": 42,
    "start_time": "2022-04-08T11:47:30.276Z"
   },
   {
    "duration": 8,
    "start_time": "2022-04-08T11:47:30.321Z"
   },
   {
    "duration": 41,
    "start_time": "2022-04-08T11:47:30.331Z"
   },
   {
    "duration": 2860,
    "start_time": "2022-04-08T11:47:30.374Z"
   },
   {
    "duration": 1446,
    "start_time": "2022-04-08T11:47:33.236Z"
   },
   {
    "duration": 1306,
    "start_time": "2022-04-08T11:47:34.684Z"
   },
   {
    "duration": 1644,
    "start_time": "2022-04-08T11:47:35.993Z"
   },
   {
    "duration": 6,
    "start_time": "2022-04-08T11:47:37.639Z"
   },
   {
    "duration": 5,
    "start_time": "2022-04-08T11:47:45.025Z"
   },
   {
    "duration": 157,
    "start_time": "2022-04-08T11:47:47.025Z"
   },
   {
    "duration": 12,
    "start_time": "2022-04-08T11:48:30.065Z"
   },
   {
    "duration": 54530,
    "start_time": "2022-04-08T11:48:37.573Z"
   },
   {
    "duration": 5,
    "start_time": "2022-04-08T11:49:32.106Z"
   },
   {
    "duration": 14620,
    "start_time": "2022-04-08T11:52:40.703Z"
   },
   {
    "duration": 12,
    "start_time": "2022-04-08T11:53:46.190Z"
   },
   {
    "duration": 23,
    "start_time": "2022-04-08T11:54:00.840Z"
   },
   {
    "duration": 5,
    "start_time": "2022-04-08T11:55:30.965Z"
   },
   {
    "duration": 15573,
    "start_time": "2022-04-08T11:56:14.965Z"
   },
   {
    "duration": 5,
    "start_time": "2022-04-08T11:56:30.540Z"
   },
   {
    "duration": 40,
    "start_time": "2022-04-08T11:56:30.547Z"
   },
   {
    "duration": 7,
    "start_time": "2022-04-08T12:38:19.181Z"
   },
   {
    "duration": 6,
    "start_time": "2022-04-08T12:38:34.440Z"
   },
   {
    "duration": 772,
    "start_time": "2022-04-08T12:38:34.450Z"
   },
   {
    "duration": 29,
    "start_time": "2022-04-08T12:38:35.225Z"
   },
   {
    "duration": 32,
    "start_time": "2022-04-08T12:38:35.257Z"
   },
   {
    "duration": 22,
    "start_time": "2022-04-08T12:38:35.292Z"
   },
   {
    "duration": 16,
    "start_time": "2022-04-08T12:38:35.317Z"
   },
   {
    "duration": 408,
    "start_time": "2022-04-08T12:38:35.368Z"
   },
   {
    "duration": 6,
    "start_time": "2022-04-08T12:38:35.778Z"
   },
   {
    "duration": 22,
    "start_time": "2022-04-08T12:38:35.787Z"
   },
   {
    "duration": 8,
    "start_time": "2022-04-08T12:38:35.812Z"
   },
   {
    "duration": 180,
    "start_time": "2022-04-08T12:38:35.823Z"
   },
   {
    "duration": 11,
    "start_time": "2022-04-08T12:38:36.005Z"
   },
   {
    "duration": 15,
    "start_time": "2022-04-08T12:38:36.018Z"
   },
   {
    "duration": 32,
    "start_time": "2022-04-08T12:38:36.038Z"
   },
   {
    "duration": 16,
    "start_time": "2022-04-08T12:38:36.072Z"
   },
   {
    "duration": 38,
    "start_time": "2022-04-08T12:38:36.090Z"
   },
   {
    "duration": 39,
    "start_time": "2022-04-08T12:38:36.130Z"
   },
   {
    "duration": 6,
    "start_time": "2022-04-08T12:38:36.171Z"
   },
   {
    "duration": 2739,
    "start_time": "2022-04-08T12:38:36.179Z"
   },
   {
    "duration": 726,
    "start_time": "2022-04-08T12:38:38.921Z"
   },
   {
    "duration": 444,
    "start_time": "2022-04-08T12:38:39.649Z"
   },
   {
    "duration": 1620,
    "start_time": "2022-04-08T12:38:40.096Z"
   },
   {
    "duration": 5,
    "start_time": "2022-04-08T12:38:41.719Z"
   },
   {
    "duration": 5,
    "start_time": "2022-04-08T12:38:41.727Z"
   },
   {
    "duration": 55343,
    "start_time": "2022-04-08T12:38:41.735Z"
   },
   {
    "duration": 6,
    "start_time": "2022-04-08T12:39:37.080Z"
   },
   {
    "duration": 14253,
    "start_time": "2022-04-08T12:39:37.088Z"
   },
   {
    "duration": 5,
    "start_time": "2022-04-08T12:39:51.343Z"
   },
   {
    "duration": 30,
    "start_time": "2022-04-08T12:39:51.350Z"
   },
   {
    "duration": 5,
    "start_time": "2022-04-08T12:41:45.569Z"
   },
   {
    "duration": 8,
    "start_time": "2022-04-08T12:42:19.669Z"
   },
   {
    "duration": 14035,
    "start_time": "2022-04-08T12:42:23.709Z"
   },
   {
    "duration": 14741,
    "start_time": "2022-04-08T12:44:26.362Z"
   },
   {
    "duration": 10,
    "start_time": "2022-04-08T12:54:12.741Z"
   },
   {
    "duration": 7,
    "start_time": "2022-04-08T12:54:37.569Z"
   },
   {
    "duration": 7,
    "start_time": "2022-04-08T12:54:45.874Z"
   },
   {
    "duration": 201,
    "start_time": "2022-04-08T12:54:46.226Z"
   },
   {
    "duration": 14,
    "start_time": "2022-04-08T12:54:46.734Z"
   },
   {
    "duration": 19,
    "start_time": "2022-04-08T12:54:47.061Z"
   },
   {
    "duration": 4,
    "start_time": "2022-04-08T12:54:47.274Z"
   },
   {
    "duration": 18,
    "start_time": "2022-04-08T12:54:47.662Z"
   },
   {
    "duration": 56,
    "start_time": "2022-04-08T12:54:50.682Z"
   },
   {
    "duration": 7,
    "start_time": "2022-04-08T12:54:51.115Z"
   },
   {
    "duration": 8,
    "start_time": "2022-04-08T12:54:51.305Z"
   },
   {
    "duration": 3898,
    "start_time": "2022-04-08T12:54:51.843Z"
   },
   {
    "duration": 1081,
    "start_time": "2022-04-08T12:54:55.745Z"
   },
   {
    "duration": 791,
    "start_time": "2022-04-08T12:54:57.870Z"
   },
   {
    "duration": 2023,
    "start_time": "2022-04-08T12:55:00.542Z"
   },
   {
    "duration": 5,
    "start_time": "2022-04-08T12:55:10.522Z"
   },
   {
    "duration": 4,
    "start_time": "2022-04-08T12:55:11.722Z"
   },
   {
    "duration": 55390,
    "start_time": "2022-04-08T12:55:13.214Z"
   },
   {
    "duration": 6,
    "start_time": "2022-04-08T12:56:08.608Z"
   },
   {
    "duration": 11,
    "start_time": "2022-04-08T12:56:08.616Z"
   },
   {
    "duration": 5,
    "start_time": "2022-04-08T12:57:54.561Z"
   },
   {
    "duration": 14,
    "start_time": "2022-04-08T12:58:49.707Z"
   },
   {
    "duration": 4,
    "start_time": "2022-04-08T12:58:53.186Z"
   },
   {
    "duration": 17,
    "start_time": "2022-04-08T12:58:53.193Z"
   },
   {
    "duration": 7,
    "start_time": "2022-04-08T12:58:53.212Z"
   },
   {
    "duration": 8,
    "start_time": "2022-04-08T12:58:53.222Z"
   },
   {
    "duration": 2870,
    "start_time": "2022-04-08T12:58:53.234Z"
   },
   {
    "duration": 860,
    "start_time": "2022-04-08T12:58:56.107Z"
   },
   {
    "duration": 432,
    "start_time": "2022-04-08T12:58:56.970Z"
   },
   {
    "duration": 1606,
    "start_time": "2022-04-08T12:58:57.405Z"
   },
   {
    "duration": 6,
    "start_time": "2022-04-08T12:58:59.013Z"
   },
   {
    "duration": 12,
    "start_time": "2022-04-08T12:58:59.020Z"
   },
   {
    "duration": 55889,
    "start_time": "2022-04-08T12:58:59.034Z"
   },
   {
    "duration": 6,
    "start_time": "2022-04-08T12:59:54.925Z"
   },
   {
    "duration": 17,
    "start_time": "2022-04-08T12:59:54.933Z"
   },
   {
    "duration": 15058,
    "start_time": "2022-04-08T12:59:54.969Z"
   },
   {
    "duration": 6,
    "start_time": "2022-04-08T13:40:09.866Z"
   },
   {
    "duration": 1862,
    "start_time": "2022-04-08T13:40:18.016Z"
   },
   {
    "duration": 770,
    "start_time": "2022-04-08T13:40:23.030Z"
   },
   {
    "duration": 36,
    "start_time": "2022-04-08T13:40:25.913Z"
   },
   {
    "duration": 26,
    "start_time": "2022-04-08T13:40:26.607Z"
   },
   {
    "duration": 23,
    "start_time": "2022-04-08T13:40:31.492Z"
   },
   {
    "duration": 19,
    "start_time": "2022-04-08T13:40:32.772Z"
   },
   {
    "duration": 292,
    "start_time": "2022-04-08T13:40:41.927Z"
   },
   {
    "duration": 6,
    "start_time": "2022-04-08T13:40:44.468Z"
   },
   {
    "duration": 22,
    "start_time": "2022-04-08T13:40:59.451Z"
   },
   {
    "duration": 7,
    "start_time": "2022-04-08T13:41:51.754Z"
   },
   {
    "duration": 168,
    "start_time": "2022-04-08T13:41:52.859Z"
   },
   {
    "duration": 8,
    "start_time": "2022-04-08T13:42:12.027Z"
   },
   {
    "duration": 7,
    "start_time": "2022-04-08T13:42:14.720Z"
   },
   {
    "duration": 207,
    "start_time": "2022-04-08T13:42:19.139Z"
   },
   {
    "duration": 15,
    "start_time": "2022-04-08T13:42:20.707Z"
   },
   {
    "duration": 16,
    "start_time": "2022-04-08T13:42:28.547Z"
   },
   {
    "duration": 5,
    "start_time": "2022-04-08T13:42:32.868Z"
   },
   {
    "duration": 14,
    "start_time": "2022-04-08T13:42:36.640Z"
   },
   {
    "duration": 6,
    "start_time": "2022-04-08T13:43:04.777Z"
   },
   {
    "duration": 8,
    "start_time": "2022-04-08T13:43:24.228Z"
   },
   {
    "duration": 3282,
    "start_time": "2022-04-08T13:43:28.238Z"
   },
   {
    "duration": 719,
    "start_time": "2022-04-08T13:43:38.469Z"
   },
   {
    "duration": 455,
    "start_time": "2022-04-08T13:43:42.855Z"
   },
   {
    "duration": 1549,
    "start_time": "2022-04-08T13:43:47.289Z"
   },
   {
    "duration": 6,
    "start_time": "2022-04-08T13:43:54.634Z"
   },
   {
    "duration": 4,
    "start_time": "2022-04-08T13:43:56.268Z"
   },
   {
    "duration": 63233,
    "start_time": "2022-04-08T13:43:57.017Z"
   },
   {
    "duration": 5,
    "start_time": "2022-04-08T13:45:01.547Z"
   },
   {
    "duration": 7,
    "start_time": "2022-04-08T13:45:02.707Z"
   },
   {
    "duration": 4,
    "start_time": "2022-04-08T13:46:05.335Z"
   },
   {
    "duration": 164638,
    "start_time": "2022-04-08T13:46:06.765Z"
   },
   {
    "duration": 4,
    "start_time": "2022-04-08T13:48:51.406Z"
   },
   {
    "duration": 4,
    "start_time": "2022-04-08T13:49:07.118Z"
   },
   {
    "duration": 100,
    "start_time": "2022-04-08T13:49:07.227Z"
   },
   {
    "duration": 15,
    "start_time": "2022-04-08T13:49:14.783Z"
   },
   {
    "duration": 6,
    "start_time": "2022-04-08T13:49:23.454Z"
   },
   {
    "duration": 3,
    "start_time": "2022-04-08T13:49:24.696Z"
   },
   {
    "duration": 170199,
    "start_time": "2022-04-08T13:49:25.195Z"
   },
   {
    "duration": 4,
    "start_time": "2022-04-08T13:53:24.724Z"
   },
   {
    "duration": 4,
    "start_time": "2022-04-08T13:53:26.748Z"
   },
   {
    "duration": 155359,
    "start_time": "2022-04-08T13:53:27.236Z"
   },
   {
    "duration": 4,
    "start_time": "2022-04-08T13:56:02.597Z"
   },
   {
    "duration": 5,
    "start_time": "2022-04-08T13:56:09.804Z"
   },
   {
    "duration": 4,
    "start_time": "2022-04-08T13:56:10.915Z"
   },
   {
    "duration": 122555,
    "start_time": "2022-04-08T13:56:11.508Z"
   },
   {
    "duration": 4,
    "start_time": "2022-04-08T13:58:42.838Z"
   },
   {
    "duration": 4,
    "start_time": "2022-04-08T13:58:45.310Z"
   },
   {
    "duration": 89037,
    "start_time": "2022-04-08T13:58:45.839Z"
   },
   {
    "duration": 6,
    "start_time": "2022-04-08T14:00:59.023Z"
   },
   {
    "duration": 4,
    "start_time": "2022-04-08T14:01:00.816Z"
   },
   {
    "duration": 9236,
    "start_time": "2022-04-08T14:01:02.575Z"
   },
   {
    "duration": 6,
    "start_time": "2022-04-08T14:01:50.085Z"
   },
   {
    "duration": 4,
    "start_time": "2022-04-08T14:01:51.603Z"
   },
   {
    "duration": 158615,
    "start_time": "2022-04-08T14:01:52.146Z"
   },
   {
    "duration": 5,
    "start_time": "2022-04-08T14:04:30.768Z"
   },
   {
    "duration": 26203,
    "start_time": "2022-04-08T14:05:40.144Z"
   },
   {
    "duration": 12274,
    "start_time": "2022-04-08T14:06:13.584Z"
   },
   {
    "duration": 7,
    "start_time": "2022-04-08T14:06:56.784Z"
   },
   {
    "duration": 10473,
    "start_time": "2022-04-08T14:06:58.656Z"
   },
   {
    "duration": 12,
    "start_time": "2022-04-08T14:08:17.975Z"
   },
   {
    "duration": 12,
    "start_time": "2022-04-08T14:08:26.043Z"
   },
   {
    "duration": 12,
    "start_time": "2022-04-08T14:08:48.975Z"
   },
   {
    "duration": 93,
    "start_time": "2022-04-08T14:09:21.596Z"
   },
   {
    "duration": 11,
    "start_time": "2022-04-08T14:09:41.696Z"
   },
   {
    "duration": 11,
    "start_time": "2022-04-08T14:16:12.375Z"
   },
   {
    "duration": 4,
    "start_time": "2022-04-08T14:16:17.328Z"
   },
   {
    "duration": 11,
    "start_time": "2022-04-08T14:16:20.676Z"
   },
   {
    "duration": 11,
    "start_time": "2022-04-08T14:22:40.475Z"
   },
   {
    "duration": 11,
    "start_time": "2022-04-08T14:23:00.956Z"
   },
   {
    "duration": 158607,
    "start_time": "2022-04-08T14:26:47.303Z"
   },
   {
    "duration": 4,
    "start_time": "2022-04-08T14:29:25.913Z"
   },
   {
    "duration": 6,
    "start_time": "2022-04-08T14:29:26.961Z"
   },
   {
    "duration": 5,
    "start_time": "2022-04-08T14:29:57.903Z"
   },
   {
    "duration": 6,
    "start_time": "2022-04-08T14:31:59.927Z"
   },
   {
    "duration": 10748,
    "start_time": "2022-04-08T14:32:00.713Z"
   },
   {
    "duration": 11,
    "start_time": "2022-04-08T14:32:14.579Z"
   },
   {
    "duration": 5,
    "start_time": "2022-04-08T14:39:49.843Z"
   },
   {
    "duration": 789,
    "start_time": "2022-04-08T14:39:49.852Z"
   },
   {
    "duration": 36,
    "start_time": "2022-04-08T14:39:50.644Z"
   },
   {
    "duration": 28,
    "start_time": "2022-04-08T14:39:50.683Z"
   },
   {
    "duration": 56,
    "start_time": "2022-04-08T14:39:50.714Z"
   },
   {
    "duration": 36,
    "start_time": "2022-04-08T14:39:50.773Z"
   },
   {
    "duration": 337,
    "start_time": "2022-04-08T14:39:50.811Z"
   },
   {
    "duration": 5,
    "start_time": "2022-04-08T14:39:51.151Z"
   },
   {
    "duration": 21,
    "start_time": "2022-04-08T14:39:51.168Z"
   },
   {
    "duration": 7,
    "start_time": "2022-04-08T14:39:51.191Z"
   },
   {
    "duration": 7,
    "start_time": "2022-04-08T14:39:51.200Z"
   },
   {
    "duration": 206,
    "start_time": "2022-04-08T14:39:51.209Z"
   },
   {
    "duration": 10,
    "start_time": "2022-04-08T14:39:51.417Z"
   },
   {
    "duration": 40,
    "start_time": "2022-04-08T14:39:51.432Z"
   },
   {
    "duration": 3,
    "start_time": "2022-04-08T14:39:51.474Z"
   },
   {
    "duration": 17,
    "start_time": "2022-04-08T14:39:51.479Z"
   },
   {
    "duration": 8,
    "start_time": "2022-04-08T14:39:51.499Z"
   },
   {
    "duration": 13,
    "start_time": "2022-04-08T14:39:51.509Z"
   },
   {
    "duration": 44,
    "start_time": "2022-04-08T14:39:51.525Z"
   },
   {
    "duration": 3074,
    "start_time": "2022-04-08T14:39:51.571Z"
   },
   {
    "duration": 907,
    "start_time": "2022-04-08T14:39:54.648Z"
   },
   {
    "duration": 475,
    "start_time": "2022-04-08T14:39:55.558Z"
   },
   {
    "duration": 1501,
    "start_time": "2022-04-08T14:39:56.035Z"
   },
   {
    "duration": 6,
    "start_time": "2022-04-08T14:39:57.538Z"
   },
   {
    "duration": 21,
    "start_time": "2022-04-08T14:39:57.546Z"
   },
   {
    "duration": 170728,
    "start_time": "2022-04-08T14:39:57.570Z"
   },
   {
    "duration": 6,
    "start_time": "2022-04-08T14:42:48.300Z"
   },
   {
    "duration": 9,
    "start_time": "2022-04-08T14:42:48.308Z"
   },
   {
    "duration": 10917,
    "start_time": "2022-04-08T14:42:48.319Z"
   },
   {
    "duration": 12,
    "start_time": "2022-04-08T14:42:59.238Z"
   },
   {
    "duration": 15,
    "start_time": "2022-04-08T14:44:50.681Z"
   },
   {
    "duration": 5,
    "start_time": "2022-04-08T14:44:53.802Z"
   },
   {
    "duration": 4,
    "start_time": "2022-04-08T14:44:55.843Z"
   },
   {
    "duration": 181199,
    "start_time": "2022-04-08T14:44:56.122Z"
   },
   {
    "duration": 165114,
    "start_time": "2022-04-08T14:48:34.129Z"
   },
   {
    "duration": 2367,
    "start_time": "2022-04-08T16:49:42.480Z"
   },
   {
    "duration": 841,
    "start_time": "2022-04-08T16:49:44.850Z"
   },
   {
    "duration": 36,
    "start_time": "2022-04-08T16:49:45.693Z"
   },
   {
    "duration": 42,
    "start_time": "2022-04-08T16:49:45.731Z"
   },
   {
    "duration": 24,
    "start_time": "2022-04-08T16:49:45.777Z"
   },
   {
    "duration": 18,
    "start_time": "2022-04-08T16:49:45.803Z"
   },
   {
    "duration": 357,
    "start_time": "2022-04-08T16:49:45.824Z"
   },
   {
    "duration": 6,
    "start_time": "2022-04-08T16:49:46.183Z"
   },
   {
    "duration": 25,
    "start_time": "2022-04-08T16:49:46.192Z"
   },
   {
    "duration": 7,
    "start_time": "2022-04-08T16:49:46.219Z"
   },
   {
    "duration": 13,
    "start_time": "2022-04-08T16:49:46.229Z"
   },
   {
    "duration": 167,
    "start_time": "2022-04-08T16:49:46.268Z"
   },
   {
    "duration": 10,
    "start_time": "2022-04-08T16:49:46.438Z"
   },
   {
    "duration": 15,
    "start_time": "2022-04-08T16:49:46.469Z"
   },
   {
    "duration": 4,
    "start_time": "2022-04-08T16:49:46.486Z"
   },
   {
    "duration": 19,
    "start_time": "2022-04-08T16:49:46.492Z"
   },
   {
    "duration": 6,
    "start_time": "2022-04-08T16:49:46.513Z"
   },
   {
    "duration": 8,
    "start_time": "2022-04-08T16:49:46.521Z"
   },
   {
    "duration": 39,
    "start_time": "2022-04-08T16:49:46.531Z"
   },
   {
    "duration": 3098,
    "start_time": "2022-04-08T16:49:46.573Z"
   },
   {
    "duration": 1497,
    "start_time": "2022-04-08T16:49:49.674Z"
   },
   {
    "duration": 916,
    "start_time": "2022-04-08T16:49:51.174Z"
   },
   {
    "duration": 1913,
    "start_time": "2022-04-08T16:49:52.092Z"
   },
   {
    "duration": 61,
    "start_time": "2022-04-08T16:49:54.008Z"
   },
   {
    "duration": 8,
    "start_time": "2022-04-08T16:49:54.071Z"
   },
   {
    "duration": 163154,
    "start_time": "2022-04-08T16:49:54.081Z"
   },
   {
    "duration": 5,
    "start_time": "2022-04-08T16:52:37.238Z"
   },
   {
    "duration": 21,
    "start_time": "2022-04-08T16:52:37.246Z"
   },
   {
    "duration": 10267,
    "start_time": "2022-04-08T16:52:37.269Z"
   },
   {
    "duration": 169,
    "start_time": "2022-04-08T16:52:47.538Z"
   },
   {
    "duration": 35,
    "start_time": "2022-04-08T16:52:59.477Z"
   },
   {
    "duration": 9,
    "start_time": "2022-04-08T16:53:07.731Z"
   },
   {
    "duration": 6,
    "start_time": "2022-04-08T16:53:19.378Z"
   },
   {
    "duration": 88,
    "start_time": "2022-04-08T16:53:46.539Z"
   },
   {
    "duration": 5,
    "start_time": "2022-04-08T16:54:57.163Z"
   },
   {
    "duration": 41813,
    "start_time": "2022-04-08T16:55:05.902Z"
   },
   {
    "duration": 0,
    "start_time": "2022-04-08T16:55:47.718Z"
   },
   {
    "duration": 6,
    "start_time": "2022-04-08T16:55:57.319Z"
   },
   {
    "duration": 5,
    "start_time": "2022-04-08T16:56:05.168Z"
   },
   {
    "duration": 4,
    "start_time": "2022-04-08T16:56:06.331Z"
   },
   {
    "duration": 159399,
    "start_time": "2022-04-08T16:56:07.509Z"
   },
   {
    "duration": 6,
    "start_time": "2022-04-08T16:58:46.911Z"
   },
   {
    "duration": 16,
    "start_time": "2022-04-08T16:58:46.919Z"
   },
   {
    "duration": 1103,
    "start_time": "2022-04-08T17:01:25.316Z"
   },
   {
    "duration": 1092,
    "start_time": "2022-04-08T17:02:17.905Z"
   },
   {
    "duration": 471,
    "start_time": "2022-04-08T17:06:04.373Z"
   },
   {
    "duration": 4,
    "start_time": "2022-04-08T17:08:30.759Z"
   },
   {
    "duration": 481,
    "start_time": "2022-04-08T17:08:38.225Z"
   },
   {
    "duration": 613,
    "start_time": "2022-04-08T17:13:33.647Z"
   },
   {
    "duration": 303,
    "start_time": "2022-04-08T17:14:08.744Z"
   },
   {
    "duration": 188,
    "start_time": "2022-04-08T17:15:08.611Z"
   },
   {
    "duration": 208,
    "start_time": "2022-04-08T17:16:50.308Z"
   },
   {
    "duration": 190,
    "start_time": "2022-04-08T17:17:24.041Z"
   },
   {
    "duration": 33,
    "start_time": "2022-04-08T17:19:26.882Z"
   },
   {
    "duration": 4,
    "start_time": "2022-04-08T17:19:56.129Z"
   },
   {
    "duration": 158080,
    "start_time": "2022-04-08T17:19:57.204Z"
   },
   {
    "duration": 95,
    "start_time": "2022-04-08T17:35:36.423Z"
   },
   {
    "duration": 64,
    "start_time": "2022-04-08T17:35:41.178Z"
   },
   {
    "duration": 1948,
    "start_time": "2022-04-08T17:35:51.830Z"
   },
   {
    "duration": 765,
    "start_time": "2022-04-08T17:35:53.781Z"
   },
   {
    "duration": 33,
    "start_time": "2022-04-08T17:35:54.548Z"
   },
   {
    "duration": 27,
    "start_time": "2022-04-08T17:35:54.583Z"
   },
   {
    "duration": 22,
    "start_time": "2022-04-08T17:35:54.613Z"
   },
   {
    "duration": 46,
    "start_time": "2022-04-08T17:35:54.637Z"
   },
   {
    "duration": 308,
    "start_time": "2022-04-08T17:35:54.685Z"
   },
   {
    "duration": 6,
    "start_time": "2022-04-08T17:35:54.995Z"
   },
   {
    "duration": 23,
    "start_time": "2022-04-08T17:35:55.003Z"
   },
   {
    "duration": 6,
    "start_time": "2022-04-08T17:35:55.028Z"
   },
   {
    "duration": 34,
    "start_time": "2022-04-08T17:35:55.036Z"
   },
   {
    "duration": 169,
    "start_time": "2022-04-08T17:35:55.072Z"
   },
   {
    "duration": 10,
    "start_time": "2022-04-08T17:35:55.243Z"
   },
   {
    "duration": 14,
    "start_time": "2022-04-08T17:35:55.270Z"
   },
   {
    "duration": 4,
    "start_time": "2022-04-08T17:35:55.286Z"
   },
   {
    "duration": 15,
    "start_time": "2022-04-08T17:35:55.292Z"
   },
   {
    "duration": 3772,
    "start_time": "2022-04-08T17:35:55.309Z"
   },
   {
    "duration": 1367,
    "start_time": "2022-04-08T17:35:59.084Z"
   },
   {
    "duration": 453,
    "start_time": "2022-04-08T17:36:00.453Z"
   },
   {
    "duration": 1539,
    "start_time": "2022-04-08T17:36:00.908Z"
   },
   {
    "duration": 2236,
    "start_time": "2022-04-08T17:36:11.468Z"
   },
   {
    "duration": 227,
    "start_time": "2022-04-08T17:36:29.330Z"
   },
   {
    "duration": 54,
    "start_time": "2022-04-08T17:39:45.437Z"
   },
   {
    "duration": 60,
    "start_time": "2022-04-08T17:39:56.252Z"
   },
   {
    "duration": 54,
    "start_time": "2022-04-08T17:40:09.839Z"
   },
   {
    "duration": 56,
    "start_time": "2022-04-08T17:41:10.674Z"
   },
   {
    "duration": 57,
    "start_time": "2022-04-08T17:41:58.756Z"
   },
   {
    "duration": 55,
    "start_time": "2022-04-08T17:42:08.303Z"
   },
   {
    "duration": 8,
    "start_time": "2022-04-08T17:42:38.142Z"
   },
   {
    "duration": 52,
    "start_time": "2022-04-08T17:43:00.599Z"
   },
   {
    "duration": 29,
    "start_time": "2022-04-08T17:43:36.254Z"
   },
   {
    "duration": 8435,
    "start_time": "2022-04-08T17:44:17.693Z"
   },
   {
    "duration": 37,
    "start_time": "2022-04-08T17:45:11.332Z"
   },
   {
    "duration": 1464,
    "start_time": "2022-04-08T17:45:26.481Z"
   },
   {
    "duration": 15,
    "start_time": "2022-04-08T17:48:18.789Z"
   },
   {
    "duration": 328,
    "start_time": "2022-04-08T17:48:30.120Z"
   },
   {
    "duration": 1800,
    "start_time": "2022-04-08T17:48:58.956Z"
   },
   {
    "duration": 2005,
    "start_time": "2022-04-08T17:49:09.539Z"
   },
   {
    "duration": 1908,
    "start_time": "2022-04-08T17:49:15.640Z"
   },
   {
    "duration": 1850,
    "start_time": "2022-04-08T17:50:28.534Z"
   },
   {
    "duration": 97,
    "start_time": "2022-04-08T17:50:37.078Z"
   },
   {
    "duration": 1902,
    "start_time": "2022-04-08T17:50:45.017Z"
   },
   {
    "duration": 1830,
    "start_time": "2022-04-08T17:50:52.541Z"
   },
   {
    "duration": 404,
    "start_time": "2022-04-08T17:51:44.854Z"
   },
   {
    "duration": 326,
    "start_time": "2022-04-08T17:52:09.206Z"
   },
   {
    "duration": 505,
    "start_time": "2022-04-08T17:52:21.254Z"
   },
   {
    "duration": 1187,
    "start_time": "2022-04-08T17:54:24.512Z"
   },
   {
    "duration": 22,
    "start_time": "2022-04-08T17:55:47.067Z"
   },
   {
    "duration": 580,
    "start_time": "2022-04-08T17:57:30.871Z"
   },
   {
    "duration": 713,
    "start_time": "2022-04-08T17:57:39.600Z"
   },
   {
    "duration": 20,
    "start_time": "2022-04-08T17:59:30.776Z"
   },
   {
    "duration": 4,
    "start_time": "2022-04-09T08:57:34.666Z"
   },
   {
    "duration": 1766,
    "start_time": "2022-04-09T08:57:46.690Z"
   },
   {
    "duration": 681,
    "start_time": "2022-04-09T08:57:48.457Z"
   },
   {
    "duration": 26,
    "start_time": "2022-04-09T08:57:49.140Z"
   },
   {
    "duration": 35,
    "start_time": "2022-04-09T08:57:49.168Z"
   },
   {
    "duration": 15,
    "start_time": "2022-04-09T08:57:49.204Z"
   },
   {
    "duration": 11,
    "start_time": "2022-04-09T08:57:49.221Z"
   },
   {
    "duration": 200,
    "start_time": "2022-04-09T08:57:49.234Z"
   },
   {
    "duration": 4,
    "start_time": "2022-04-09T08:57:49.436Z"
   },
   {
    "duration": 14,
    "start_time": "2022-04-09T08:57:49.442Z"
   },
   {
    "duration": 4,
    "start_time": "2022-04-09T08:57:49.459Z"
   },
   {
    "duration": 6,
    "start_time": "2022-04-09T08:57:49.465Z"
   },
   {
    "duration": 111,
    "start_time": "2022-04-09T08:57:49.473Z"
   },
   {
    "duration": 16,
    "start_time": "2022-04-09T08:57:49.586Z"
   },
   {
    "duration": 13,
    "start_time": "2022-04-09T08:57:49.603Z"
   },
   {
    "duration": 3,
    "start_time": "2022-04-09T08:57:49.617Z"
   },
   {
    "duration": 10,
    "start_time": "2022-04-09T08:57:49.622Z"
   },
   {
    "duration": 2273,
    "start_time": "2022-04-09T08:57:49.634Z"
   },
   {
    "duration": 916,
    "start_time": "2022-04-09T08:57:51.908Z"
   },
   {
    "duration": 510,
    "start_time": "2022-04-09T08:57:52.825Z"
   },
   {
    "duration": 1090,
    "start_time": "2022-04-09T08:57:53.337Z"
   },
   {
    "duration": 30,
    "start_time": "2022-04-09T08:57:54.429Z"
   },
   {
    "duration": 3,
    "start_time": "2022-04-09T08:57:54.461Z"
   },
   {
    "duration": 5,
    "start_time": "2022-04-09T08:57:54.465Z"
   },
   {
    "duration": 6,
    "start_time": "2022-04-09T08:57:54.472Z"
   },
   {
    "duration": 22,
    "start_time": "2022-04-09T08:57:54.479Z"
   },
   {
    "duration": 3,
    "start_time": "2022-04-09T08:57:54.503Z"
   },
   {
    "duration": 5,
    "start_time": "2022-04-09T08:57:54.507Z"
   },
   {
    "duration": 128435,
    "start_time": "2022-04-09T08:57:54.515Z"
   },
   {
    "duration": 5,
    "start_time": "2022-04-09T09:01:35.409Z"
   },
   {
    "duration": 3,
    "start_time": "2022-04-09T09:01:36.917Z"
   },
   {
    "duration": 2,
    "start_time": "2022-04-09T09:01:43.452Z"
   },
   {
    "duration": 257260,
    "start_time": "2022-04-09T09:02:33.597Z"
   },
   {
    "duration": 4,
    "start_time": "2022-04-09T09:11:42.019Z"
   },
   {
    "duration": 47,
    "start_time": "2022-04-09T10:24:17.178Z"
   },
   {
    "duration": 6,
    "start_time": "2022-04-09T10:24:26.719Z"
   },
   {
    "duration": 0,
    "start_time": "2022-04-09T10:24:26.727Z"
   },
   {
    "duration": 0,
    "start_time": "2022-04-09T10:24:26.729Z"
   },
   {
    "duration": 7,
    "start_time": "2022-04-09T10:24:43.708Z"
   },
   {
    "duration": 1814,
    "start_time": "2022-04-09T10:24:49.263Z"
   },
   {
    "duration": 601,
    "start_time": "2022-04-09T10:24:51.079Z"
   },
   {
    "duration": 24,
    "start_time": "2022-04-09T10:24:51.681Z"
   },
   {
    "duration": 17,
    "start_time": "2022-04-09T10:24:51.707Z"
   },
   {
    "duration": 14,
    "start_time": "2022-04-09T10:24:51.725Z"
   },
   {
    "duration": 11,
    "start_time": "2022-04-09T10:24:51.758Z"
   },
   {
    "duration": 183,
    "start_time": "2022-04-09T10:24:51.771Z"
   },
   {
    "duration": 4,
    "start_time": "2022-04-09T10:24:51.958Z"
   },
   {
    "duration": 29,
    "start_time": "2022-04-09T10:24:51.963Z"
   },
   {
    "duration": 5,
    "start_time": "2022-04-09T10:24:51.996Z"
   },
   {
    "duration": 8,
    "start_time": "2022-04-09T10:24:52.003Z"
   },
   {
    "duration": 103,
    "start_time": "2022-04-09T10:24:52.013Z"
   },
   {
    "duration": 7,
    "start_time": "2022-04-09T10:24:52.118Z"
   },
   {
    "duration": 16,
    "start_time": "2022-04-09T10:24:52.127Z"
   },
   {
    "duration": 2,
    "start_time": "2022-04-09T10:24:52.145Z"
   },
   {
    "duration": 10,
    "start_time": "2022-04-09T10:24:52.158Z"
   },
   {
    "duration": 2137,
    "start_time": "2022-04-09T10:24:52.169Z"
   },
   {
    "duration": 445,
    "start_time": "2022-04-09T10:24:54.308Z"
   },
   {
    "duration": 253,
    "start_time": "2022-04-09T10:24:54.758Z"
   },
   {
    "duration": 973,
    "start_time": "2022-04-09T10:24:55.013Z"
   },
   {
    "duration": 31,
    "start_time": "2022-04-09T10:24:55.988Z"
   },
   {
    "duration": 3,
    "start_time": "2022-04-09T10:24:56.021Z"
   },
   {
    "duration": 5,
    "start_time": "2022-04-09T10:24:56.026Z"
   },
   {
    "duration": 25,
    "start_time": "2022-04-09T10:24:56.033Z"
   },
   {
    "duration": 16,
    "start_time": "2022-04-09T10:24:56.060Z"
   },
   {
    "duration": 15,
    "start_time": "2022-04-09T10:24:56.078Z"
   },
   {
    "duration": 19,
    "start_time": "2022-04-09T10:24:56.095Z"
   },
   {
    "duration": 253278,
    "start_time": "2022-04-09T10:24:56.118Z"
   },
   {
    "duration": 80,
    "start_time": "2022-04-09T10:29:09.398Z"
   },
   {
    "duration": 10,
    "start_time": "2022-04-09T10:34:47.997Z"
   },
   {
    "duration": 4,
    "start_time": "2022-04-09T10:35:08.379Z"
   },
   {
    "duration": 3,
    "start_time": "2022-04-09T10:39:43.911Z"
   },
   {
    "duration": 246,
    "start_time": "2022-04-09T10:41:10.913Z"
   },
   {
    "duration": 3,
    "start_time": "2022-04-09T10:41:35.271Z"
   },
   {
    "duration": 130,
    "start_time": "2022-04-09T10:41:38.929Z"
   },
   {
    "duration": 4,
    "start_time": "2022-04-09T10:41:59.696Z"
   },
   {
    "duration": 1436,
    "start_time": "2022-04-09T10:42:03.834Z"
   },
   {
    "duration": 1301,
    "start_time": "2022-04-09T10:45:47.463Z"
   },
   {
    "duration": 15,
    "start_time": "2022-04-09T10:51:20.334Z"
   },
   {
    "duration": 5,
    "start_time": "2022-04-09T10:51:31.235Z"
   },
   {
    "duration": 9,
    "start_time": "2022-04-09T10:53:38.060Z"
   },
   {
    "duration": 324,
    "start_time": "2022-04-09T10:53:55.035Z"
   },
   {
    "duration": 5,
    "start_time": "2022-04-09T10:54:52.409Z"
   },
   {
    "duration": 2,
    "start_time": "2022-04-09T10:56:31.950Z"
   },
   {
    "duration": 3,
    "start_time": "2022-04-09T10:57:20.129Z"
   },
   {
    "duration": 3,
    "start_time": "2022-04-09T10:57:46.630Z"
   },
   {
    "duration": 5,
    "start_time": "2022-04-09T10:57:55.271Z"
   },
   {
    "duration": 460,
    "start_time": "2022-04-09T10:57:58.464Z"
   },
   {
    "duration": 6,
    "start_time": "2022-04-09T10:57:58.926Z"
   },
   {
    "duration": 4,
    "start_time": "2022-04-09T10:58:02.297Z"
   },
   {
    "duration": 1227,
    "start_time": "2022-04-09T10:58:48.339Z"
   },
   {
    "duration": 1397,
    "start_time": "2022-04-09T10:58:51.863Z"
   },
   {
    "duration": 3,
    "start_time": "2022-04-09T10:59:08.649Z"
   },
   {
    "duration": 1365,
    "start_time": "2022-04-09T10:59:12.194Z"
   },
   {
    "duration": 1635,
    "start_time": "2022-04-09T10:59:15.423Z"
   },
   {
    "duration": 44,
    "start_time": "2022-04-09T10:59:20.122Z"
   },
   {
    "duration": 6,
    "start_time": "2022-04-09T10:59:20.531Z"
   },
   {
    "duration": 341,
    "start_time": "2022-04-09T10:59:21.061Z"
   },
   {
    "duration": 5,
    "start_time": "2022-04-09T10:59:21.616Z"
   },
   {
    "duration": 3,
    "start_time": "2022-04-09T10:59:24.171Z"
   },
   {
    "duration": 1459,
    "start_time": "2022-04-09T11:23:20.259Z"
   },
   {
    "duration": 636,
    "start_time": "2022-04-09T11:23:21.720Z"
   },
   {
    "duration": 22,
    "start_time": "2022-04-09T11:23:22.358Z"
   },
   {
    "duration": 17,
    "start_time": "2022-04-09T11:23:22.381Z"
   },
   {
    "duration": 14,
    "start_time": "2022-04-09T11:23:22.400Z"
   },
   {
    "duration": 11,
    "start_time": "2022-04-09T11:23:22.416Z"
   },
   {
    "duration": 197,
    "start_time": "2022-04-09T11:23:22.429Z"
   },
   {
    "duration": 5,
    "start_time": "2022-04-09T11:23:22.628Z"
   },
   {
    "duration": 25,
    "start_time": "2022-04-09T11:23:22.634Z"
   },
   {
    "duration": 5,
    "start_time": "2022-04-09T11:23:22.660Z"
   },
   {
    "duration": 5,
    "start_time": "2022-04-09T11:23:22.667Z"
   },
   {
    "duration": 107,
    "start_time": "2022-04-09T11:23:22.674Z"
   },
   {
    "duration": 8,
    "start_time": "2022-04-09T11:23:22.783Z"
   },
   {
    "duration": 9,
    "start_time": "2022-04-09T11:23:22.795Z"
   },
   {
    "duration": 8,
    "start_time": "2022-04-09T11:23:22.806Z"
   },
   {
    "duration": 2175,
    "start_time": "2022-04-09T11:23:22.815Z"
   },
   {
    "duration": 459,
    "start_time": "2022-04-09T11:23:24.992Z"
   },
   {
    "duration": 293,
    "start_time": "2022-04-09T11:23:25.452Z"
   },
   {
    "duration": 1052,
    "start_time": "2022-04-09T11:23:25.747Z"
   },
   {
    "duration": 32,
    "start_time": "2022-04-09T11:23:26.801Z"
   },
   {
    "duration": 4,
    "start_time": "2022-04-09T11:23:26.835Z"
   },
   {
    "duration": 21,
    "start_time": "2022-04-09T11:23:26.841Z"
   },
   {
    "duration": 14,
    "start_time": "2022-04-09T11:23:26.864Z"
   },
   {
    "duration": 31,
    "start_time": "2022-04-09T11:23:26.879Z"
   },
   {
    "duration": 19,
    "start_time": "2022-04-09T11:23:26.913Z"
   },
   {
    "duration": 17,
    "start_time": "2022-04-09T11:23:26.934Z"
   },
   {
    "duration": 246075,
    "start_time": "2022-04-09T11:23:26.953Z"
   },
   {
    "duration": 1636,
    "start_time": "2022-04-09T11:27:33.030Z"
   },
   {
    "duration": 1604,
    "start_time": "2022-04-09T11:27:34.759Z"
   },
   {
    "duration": 296,
    "start_time": "2022-04-09T11:27:36.365Z"
   },
   {
    "duration": 100,
    "start_time": "2022-04-09T11:27:36.664Z"
   },
   {
    "duration": 422,
    "start_time": "2022-04-09T11:27:36.766Z"
   },
   {
    "duration": 6,
    "start_time": "2022-04-09T11:27:37.189Z"
   },
   {
    "duration": 11,
    "start_time": "2022-04-09T11:27:37.196Z"
   },
   {
    "duration": 4,
    "start_time": "2022-04-09T11:28:12.299Z"
   },
   {
    "duration": 488177,
    "start_time": "2022-04-09T11:28:12.941Z"
   },
   {
    "duration": 87,
    "start_time": "2022-04-09T11:39:30.972Z"
   },
   {
    "duration": 6,
    "start_time": "2022-04-09T11:39:31.608Z"
   },
   {
    "duration": 811,
    "start_time": "2022-04-09T11:39:34.327Z"
   },
   {
    "duration": 5,
    "start_time": "2022-04-09T11:39:35.141Z"
   },
   {
    "duration": 4,
    "start_time": "2022-04-09T11:39:37.946Z"
   },
   {
    "duration": 822,
    "start_time": "2022-04-09T11:39:47.626Z"
   },
   {
    "duration": 9,
    "start_time": "2022-04-09T11:39:48.450Z"
   },
   {
    "duration": 809,
    "start_time": "2022-04-09T11:40:03.466Z"
   },
   {
    "duration": 5,
    "start_time": "2022-04-09T11:40:05.074Z"
   },
   {
    "duration": 808,
    "start_time": "2022-04-09T11:40:08.816Z"
   },
   {
    "duration": 6,
    "start_time": "2022-04-09T11:40:09.626Z"
   },
   {
    "duration": 3,
    "start_time": "2022-04-09T11:40:14.306Z"
   },
   {
    "duration": 3,
    "start_time": "2022-04-09T11:40:48.818Z"
   },
   {
    "duration": 554477,
    "start_time": "2022-04-09T11:40:49.344Z"
   },
   {
    "duration": 2,
    "start_time": "2022-04-09T11:54:50.204Z"
   },
   {
    "duration": 535652,
    "start_time": "2022-04-09T11:54:52.752Z"
   },
   {
    "duration": 2,
    "start_time": "2022-04-09T12:05:09.027Z"
   },
   {
    "duration": 1479158,
    "start_time": "2022-04-09T12:05:10.482Z"
   },
   {
    "duration": 137,
    "start_time": "2022-04-09T12:32:23.426Z"
   },
   {
    "duration": 5,
    "start_time": "2022-04-09T12:32:27.722Z"
   },
   {
    "duration": 3,
    "start_time": "2022-04-09T12:32:29.578Z"
   },
   {
    "duration": 1816,
    "start_time": "2022-04-09T13:40:56.029Z"
   },
   {
    "duration": 668,
    "start_time": "2022-04-09T13:40:57.847Z"
   },
   {
    "duration": 26,
    "start_time": "2022-04-09T13:40:58.517Z"
   },
   {
    "duration": 20,
    "start_time": "2022-04-09T13:40:58.545Z"
   },
   {
    "duration": 16,
    "start_time": "2022-04-09T13:40:58.567Z"
   },
   {
    "duration": 12,
    "start_time": "2022-04-09T13:40:58.585Z"
   },
   {
    "duration": 213,
    "start_time": "2022-04-09T13:40:58.599Z"
   },
   {
    "duration": 5,
    "start_time": "2022-04-09T13:40:58.814Z"
   },
   {
    "duration": 33,
    "start_time": "2022-04-09T13:40:58.820Z"
   },
   {
    "duration": 5,
    "start_time": "2022-04-09T13:40:58.856Z"
   },
   {
    "duration": 11,
    "start_time": "2022-04-09T13:40:58.863Z"
   },
   {
    "duration": 113,
    "start_time": "2022-04-09T13:40:58.875Z"
   },
   {
    "duration": 8,
    "start_time": "2022-04-09T13:40:58.990Z"
   },
   {
    "duration": 13,
    "start_time": "2022-04-09T13:40:59.000Z"
   },
   {
    "duration": 27,
    "start_time": "2022-04-09T13:40:59.014Z"
   },
   {
    "duration": 2331,
    "start_time": "2022-04-09T13:40:59.043Z"
   },
   {
    "duration": 507,
    "start_time": "2022-04-09T13:41:01.376Z"
   },
   {
    "duration": 302,
    "start_time": "2022-04-09T13:41:01.885Z"
   },
   {
    "duration": 1094,
    "start_time": "2022-04-09T13:41:02.189Z"
   },
   {
    "duration": 33,
    "start_time": "2022-04-09T13:41:03.285Z"
   },
   {
    "duration": 21,
    "start_time": "2022-04-09T13:41:03.320Z"
   },
   {
    "duration": 17,
    "start_time": "2022-04-09T13:41:03.343Z"
   },
   {
    "duration": 10,
    "start_time": "2022-04-09T13:41:03.362Z"
   },
   {
    "duration": 20,
    "start_time": "2022-04-09T13:41:03.374Z"
   },
   {
    "duration": 30,
    "start_time": "2022-04-09T13:41:03.396Z"
   },
   {
    "duration": 10,
    "start_time": "2022-04-09T13:41:03.428Z"
   },
   {
    "duration": 1558318,
    "start_time": "2022-04-09T13:41:03.440Z"
   },
   {
    "duration": 1578,
    "start_time": "2022-04-09T14:07:01.762Z"
   },
   {
    "duration": 1799,
    "start_time": "2022-04-09T14:07:03.343Z"
   },
   {
    "duration": 396,
    "start_time": "2022-04-09T14:07:05.144Z"
   },
   {
    "duration": 7,
    "start_time": "2022-04-09T14:07:05.542Z"
   },
   {
    "duration": 288,
    "start_time": "2022-04-09T14:07:05.552Z"
   },
   {
    "duration": 9,
    "start_time": "2022-04-09T14:07:05.844Z"
   },
   {
    "duration": 4,
    "start_time": "2022-04-09T14:07:05.940Z"
   },
   {
    "duration": 114,
    "start_time": "2022-04-09T14:14:13.771Z"
   },
   {
    "duration": 6,
    "start_time": "2022-04-09T14:14:18.870Z"
   },
   {
    "duration": 6,
    "start_time": "2022-04-09T14:14:32.442Z"
   },
   {
    "duration": 29,
    "start_time": "2022-04-09T14:15:03.430Z"
   },
   {
    "duration": 71,
    "start_time": "2022-04-09T16:09:41.170Z"
   },
   {
    "duration": 2219,
    "start_time": "2022-04-09T16:21:31.525Z"
   },
   {
    "duration": 803,
    "start_time": "2022-04-09T16:21:33.747Z"
   },
   {
    "duration": 47,
    "start_time": "2022-04-09T16:21:34.552Z"
   },
   {
    "duration": 26,
    "start_time": "2022-04-09T16:21:34.601Z"
   },
   {
    "duration": 51,
    "start_time": "2022-04-09T16:21:34.630Z"
   },
   {
    "duration": 18,
    "start_time": "2022-04-09T16:21:34.683Z"
   },
   {
    "duration": 329,
    "start_time": "2022-04-09T16:21:34.703Z"
   },
   {
    "duration": 5,
    "start_time": "2022-04-09T16:21:35.034Z"
   },
   {
    "duration": 40,
    "start_time": "2022-04-09T16:21:35.041Z"
   },
   {
    "duration": 10,
    "start_time": "2022-04-09T16:21:35.084Z"
   },
   {
    "duration": 8,
    "start_time": "2022-04-09T16:21:35.096Z"
   },
   {
    "duration": 187,
    "start_time": "2022-04-09T16:21:35.106Z"
   },
   {
    "duration": 9,
    "start_time": "2022-04-09T16:21:35.295Z"
   },
   {
    "duration": 9,
    "start_time": "2022-04-09T16:21:35.309Z"
   },
   {
    "duration": 57,
    "start_time": "2022-04-09T16:21:35.320Z"
   },
   {
    "duration": 3394,
    "start_time": "2022-04-09T16:21:35.379Z"
   },
   {
    "duration": 900,
    "start_time": "2022-04-09T16:21:38.776Z"
   },
   {
    "duration": 905,
    "start_time": "2022-04-09T16:21:39.678Z"
   },
   {
    "duration": 2204,
    "start_time": "2022-04-09T16:21:40.585Z"
   },
   {
    "duration": 52,
    "start_time": "2022-04-09T16:21:42.791Z"
   },
   {
    "duration": 5,
    "start_time": "2022-04-09T16:21:42.845Z"
   },
   {
    "duration": 26,
    "start_time": "2022-04-09T16:21:42.852Z"
   },
   {
    "duration": 7,
    "start_time": "2022-04-09T16:21:42.881Z"
   },
   {
    "duration": 5,
    "start_time": "2022-04-09T16:21:42.890Z"
   },
   {
    "duration": 5,
    "start_time": "2022-04-09T16:21:42.898Z"
   },
   {
    "duration": 6,
    "start_time": "2022-04-09T16:21:42.905Z"
   },
   {
    "duration": 269737,
    "start_time": "2022-04-09T16:21:42.913Z"
   },
   {
    "duration": 0,
    "start_time": "2022-04-09T16:26:12.652Z"
   },
   {
    "duration": 0,
    "start_time": "2022-04-09T16:26:12.654Z"
   },
   {
    "duration": 0,
    "start_time": "2022-04-09T16:26:12.656Z"
   },
   {
    "duration": 0,
    "start_time": "2022-04-09T16:26:12.657Z"
   },
   {
    "duration": 0,
    "start_time": "2022-04-09T16:26:12.673Z"
   },
   {
    "duration": 0,
    "start_time": "2022-04-09T16:26:12.674Z"
   },
   {
    "duration": 0,
    "start_time": "2022-04-09T16:26:12.675Z"
   },
   {
    "duration": 0,
    "start_time": "2022-04-09T16:26:12.677Z"
   },
   {
    "duration": 2056,
    "start_time": "2022-04-09T16:30:24.577Z"
   },
   {
    "duration": 821,
    "start_time": "2022-04-09T16:30:26.635Z"
   },
   {
    "duration": 37,
    "start_time": "2022-04-09T16:30:27.458Z"
   },
   {
    "duration": 24,
    "start_time": "2022-04-09T16:30:27.498Z"
   },
   {
    "duration": 48,
    "start_time": "2022-04-09T16:30:27.525Z"
   },
   {
    "duration": 19,
    "start_time": "2022-04-09T16:30:27.575Z"
   },
   {
    "duration": 328,
    "start_time": "2022-04-09T16:30:27.596Z"
   },
   {
    "duration": 7,
    "start_time": "2022-04-09T16:30:27.927Z"
   },
   {
    "duration": 44,
    "start_time": "2022-04-09T16:30:27.937Z"
   },
   {
    "duration": 7,
    "start_time": "2022-04-09T16:30:27.986Z"
   },
   {
    "duration": 10,
    "start_time": "2022-04-09T16:30:27.995Z"
   },
   {
    "duration": 189,
    "start_time": "2022-04-09T16:30:28.006Z"
   },
   {
    "duration": 10,
    "start_time": "2022-04-09T16:30:28.197Z"
   },
   {
    "duration": 7,
    "start_time": "2022-04-09T16:30:28.209Z"
   },
   {
    "duration": 10,
    "start_time": "2022-04-09T16:30:28.218Z"
   },
   {
    "duration": 3618,
    "start_time": "2022-04-09T16:30:28.230Z"
   },
   {
    "duration": 879,
    "start_time": "2022-04-09T16:30:31.850Z"
   },
   {
    "duration": 469,
    "start_time": "2022-04-09T16:30:32.732Z"
   },
   {
    "duration": 1533,
    "start_time": "2022-04-09T16:30:33.203Z"
   },
   {
    "duration": 64,
    "start_time": "2022-04-09T16:30:34.739Z"
   },
   {
    "duration": 5,
    "start_time": "2022-04-09T16:30:34.805Z"
   },
   {
    "duration": 12,
    "start_time": "2022-04-09T16:30:34.812Z"
   },
   {
    "duration": 8,
    "start_time": "2022-04-09T16:30:34.826Z"
   },
   {
    "duration": 4,
    "start_time": "2022-04-09T16:30:34.836Z"
   },
   {
    "duration": 30,
    "start_time": "2022-04-09T16:30:34.843Z"
   },
   {
    "duration": 7,
    "start_time": "2022-04-09T16:30:34.876Z"
   },
   {
    "duration": 1571789,
    "start_time": "2022-04-09T16:30:34.885Z"
   },
   {
    "duration": 0,
    "start_time": "2022-04-09T16:56:46.676Z"
   },
   {
    "duration": 0,
    "start_time": "2022-04-09T16:56:46.678Z"
   },
   {
    "duration": 0,
    "start_time": "2022-04-09T16:56:46.679Z"
   },
   {
    "duration": 0,
    "start_time": "2022-04-09T16:56:46.681Z"
   },
   {
    "duration": 0,
    "start_time": "2022-04-09T16:56:46.683Z"
   },
   {
    "duration": 1,
    "start_time": "2022-04-09T16:56:46.684Z"
   },
   {
    "duration": 0,
    "start_time": "2022-04-09T16:56:46.686Z"
   },
   {
    "duration": 1945,
    "start_time": "2022-04-09T17:23:26.548Z"
   },
   {
    "duration": 848,
    "start_time": "2022-04-09T17:23:28.496Z"
   },
   {
    "duration": 54,
    "start_time": "2022-04-09T17:23:29.347Z"
   },
   {
    "duration": 27,
    "start_time": "2022-04-09T17:23:29.403Z"
   },
   {
    "duration": 51,
    "start_time": "2022-04-09T17:23:29.435Z"
   },
   {
    "duration": 19,
    "start_time": "2022-04-09T17:23:29.489Z"
   },
   {
    "duration": 338,
    "start_time": "2022-04-09T17:23:29.511Z"
   },
   {
    "duration": 6,
    "start_time": "2022-04-09T17:23:29.851Z"
   },
   {
    "duration": 21,
    "start_time": "2022-04-09T17:23:29.873Z"
   },
   {
    "duration": 6,
    "start_time": "2022-04-09T17:23:29.896Z"
   },
   {
    "duration": 6,
    "start_time": "2022-04-09T17:23:29.904Z"
   },
   {
    "duration": 207,
    "start_time": "2022-04-09T17:23:29.912Z"
   },
   {
    "duration": 10,
    "start_time": "2022-04-09T17:23:30.121Z"
   },
   {
    "duration": 7,
    "start_time": "2022-04-09T17:23:30.136Z"
   },
   {
    "duration": 39,
    "start_time": "2022-04-09T17:23:30.145Z"
   },
   {
    "duration": 4598,
    "start_time": "2022-04-09T17:23:30.187Z"
   },
   {
    "duration": 885,
    "start_time": "2022-04-09T17:23:34.788Z"
   },
   {
    "duration": 461,
    "start_time": "2022-04-09T17:23:35.676Z"
   },
   {
    "duration": 1495,
    "start_time": "2022-04-09T17:23:36.139Z"
   },
   {
    "duration": 63,
    "start_time": "2022-04-09T17:23:37.636Z"
   },
   {
    "duration": 5,
    "start_time": "2022-04-09T17:23:37.701Z"
   },
   {
    "duration": 9,
    "start_time": "2022-04-09T17:23:37.709Z"
   },
   {
    "duration": 8,
    "start_time": "2022-04-09T17:23:37.720Z"
   },
   {
    "duration": 6,
    "start_time": "2022-04-09T17:23:37.730Z"
   },
   {
    "duration": 37,
    "start_time": "2022-04-09T17:23:37.738Z"
   },
   {
    "duration": 7,
    "start_time": "2022-04-09T17:23:37.777Z"
   },
   {
    "duration": 2111,
    "start_time": "2022-04-09T17:37:26.568Z"
   },
   {
    "duration": 2015,
    "start_time": "2022-04-09T17:37:28.683Z"
   },
   {
    "duration": 86,
    "start_time": "2022-04-09T17:37:30.700Z"
   },
   {
    "duration": 24,
    "start_time": "2022-04-09T17:37:30.789Z"
   },
   {
    "duration": 76,
    "start_time": "2022-04-09T17:37:30.815Z"
   },
   {
    "duration": 19,
    "start_time": "2022-04-09T17:37:30.893Z"
   },
   {
    "duration": 709,
    "start_time": "2022-04-09T17:37:30.914Z"
   },
   {
    "duration": 6,
    "start_time": "2022-04-09T17:37:31.626Z"
   },
   {
    "duration": 44,
    "start_time": "2022-04-09T17:37:31.635Z"
   },
   {
    "duration": 6,
    "start_time": "2022-04-09T17:37:31.683Z"
   },
   {
    "duration": 28,
    "start_time": "2022-04-09T17:37:31.692Z"
   },
   {
    "duration": 186,
    "start_time": "2022-04-09T17:37:31.723Z"
   },
   {
    "duration": 10,
    "start_time": "2022-04-09T17:37:31.912Z"
   },
   {
    "duration": 7,
    "start_time": "2022-04-09T17:37:31.925Z"
   },
   {
    "duration": 43,
    "start_time": "2022-04-09T17:37:31.934Z"
   },
   {
    "duration": 3411,
    "start_time": "2022-04-09T17:37:31.979Z"
   },
   {
    "duration": 881,
    "start_time": "2022-04-09T17:37:35.392Z"
   },
   {
    "duration": 461,
    "start_time": "2022-04-09T17:37:36.275Z"
   },
   {
    "duration": 1548,
    "start_time": "2022-04-09T17:37:36.738Z"
   },
   {
    "duration": 53,
    "start_time": "2022-04-09T17:37:38.288Z"
   },
   {
    "duration": 4,
    "start_time": "2022-04-09T17:37:38.343Z"
   },
   {
    "duration": 28,
    "start_time": "2022-04-09T17:37:38.350Z"
   },
   {
    "duration": 7,
    "start_time": "2022-04-09T17:37:38.380Z"
   },
   {
    "duration": 4,
    "start_time": "2022-04-09T17:37:38.390Z"
   },
   {
    "duration": 11,
    "start_time": "2022-04-09T17:37:38.396Z"
   },
   {
    "duration": 7,
    "start_time": "2022-04-09T17:37:38.409Z"
   },
   {
    "duration": 563358,
    "start_time": "2022-04-09T17:37:38.419Z"
   },
   {
    "duration": 0,
    "start_time": "2022-04-09T17:47:01.781Z"
   },
   {
    "duration": 0,
    "start_time": "2022-04-09T17:47:01.783Z"
   },
   {
    "duration": 0,
    "start_time": "2022-04-09T17:47:01.785Z"
   },
   {
    "duration": 0,
    "start_time": "2022-04-09T17:47:01.787Z"
   },
   {
    "duration": 0,
    "start_time": "2022-04-09T17:47:01.789Z"
   },
   {
    "duration": 0,
    "start_time": "2022-04-09T17:47:01.790Z"
   },
   {
    "duration": 0,
    "start_time": "2022-04-09T17:47:01.792Z"
   },
   {
    "duration": 0,
    "start_time": "2022-04-09T17:47:01.794Z"
   },
   {
    "duration": 1561,
    "start_time": "2022-04-09T19:46:09.989Z"
   },
   {
    "duration": 4,
    "start_time": "2022-04-09T19:46:37.104Z"
   },
   {
    "duration": 1432,
    "start_time": "2022-04-09T19:46:37.110Z"
   },
   {
    "duration": 24,
    "start_time": "2022-04-09T19:46:38.544Z"
   },
   {
    "duration": 18,
    "start_time": "2022-04-09T19:46:38.578Z"
   },
   {
    "duration": 15,
    "start_time": "2022-04-09T19:46:38.598Z"
   },
   {
    "duration": 12,
    "start_time": "2022-04-09T19:46:38.615Z"
   },
   {
    "duration": 199,
    "start_time": "2022-04-09T19:46:38.628Z"
   },
   {
    "duration": 5,
    "start_time": "2022-04-09T19:46:38.828Z"
   },
   {
    "duration": 15,
    "start_time": "2022-04-09T19:46:38.834Z"
   },
   {
    "duration": 5,
    "start_time": "2022-04-09T19:46:38.851Z"
   },
   {
    "duration": 4,
    "start_time": "2022-04-09T19:46:38.879Z"
   },
   {
    "duration": 103,
    "start_time": "2022-04-09T19:46:38.884Z"
   },
   {
    "duration": 8,
    "start_time": "2022-04-09T19:46:38.990Z"
   },
   {
    "duration": 7,
    "start_time": "2022-04-09T19:46:38.999Z"
   },
   {
    "duration": 8,
    "start_time": "2022-04-09T19:46:39.007Z"
   },
   {
    "duration": 2337,
    "start_time": "2022-04-09T19:46:39.016Z"
   },
   {
    "duration": 529,
    "start_time": "2022-04-09T19:46:41.355Z"
   },
   {
    "duration": 277,
    "start_time": "2022-04-09T19:46:41.886Z"
   },
   {
    "duration": 1000,
    "start_time": "2022-04-09T19:46:42.164Z"
   },
   {
    "duration": 43,
    "start_time": "2022-04-09T19:46:43.166Z"
   },
   {
    "duration": 4,
    "start_time": "2022-04-09T19:46:43.211Z"
   },
   {
    "duration": 8,
    "start_time": "2022-04-09T19:46:43.216Z"
   },
   {
    "duration": 5,
    "start_time": "2022-04-09T19:46:43.226Z"
   },
   {
    "duration": 3,
    "start_time": "2022-04-09T19:46:43.233Z"
   },
   {
    "duration": 5,
    "start_time": "2022-04-09T19:46:43.237Z"
   },
   {
    "duration": 5,
    "start_time": "2022-04-09T19:46:43.243Z"
   },
   {
    "duration": 25935,
    "start_time": "2022-04-09T19:46:43.249Z"
   },
   {
    "duration": 0,
    "start_time": "2022-04-09T19:47:09.186Z"
   },
   {
    "duration": 0,
    "start_time": "2022-04-09T19:47:09.187Z"
   },
   {
    "duration": 0,
    "start_time": "2022-04-09T19:47:09.188Z"
   },
   {
    "duration": 0,
    "start_time": "2022-04-09T19:47:09.190Z"
   },
   {
    "duration": 0,
    "start_time": "2022-04-09T19:47:09.191Z"
   },
   {
    "duration": 0,
    "start_time": "2022-04-09T19:47:09.192Z"
   },
   {
    "duration": 0,
    "start_time": "2022-04-09T19:47:09.193Z"
   },
   {
    "duration": 0,
    "start_time": "2022-04-09T19:47:09.194Z"
   },
   {
    "duration": 207607,
    "start_time": "2022-04-09T19:47:11.531Z"
   },
   {
    "duration": 1022,
    "start_time": "2022-04-09T19:50:49.569Z"
   },
   {
    "duration": 3,
    "start_time": "2022-04-09T19:51:11.207Z"
   },
   {
    "duration": 1612,
    "start_time": "2022-04-09T19:51:16.267Z"
   },
   {
    "duration": 1411,
    "start_time": "2022-04-09T19:51:20.974Z"
   },
   {
    "duration": 807845,
    "start_time": "2022-04-09T19:51:33.014Z"
   },
   {
    "duration": 796967,
    "start_time": "2022-04-09T20:05:13.697Z"
   },
   {
    "duration": 6616,
    "start_time": "2022-04-09T20:19:22.332Z"
   },
   {
    "duration": 6,
    "start_time": "2022-04-09T20:19:33.399Z"
   },
   {
    "duration": 4156,
    "start_time": "2022-04-09T20:19:40.467Z"
   },
   {
    "duration": 6,
    "start_time": "2022-04-09T20:19:46.153Z"
   },
   {
    "duration": 6098,
    "start_time": "2022-04-09T20:20:09.445Z"
   },
   {
    "duration": 6,
    "start_time": "2022-04-09T20:20:16.872Z"
   },
   {
    "duration": 4,
    "start_time": "2022-04-09T20:20:47.888Z"
   },
   {
    "duration": 2138,
    "start_time": "2022-04-10T06:39:51.308Z"
   },
   {
    "duration": 798,
    "start_time": "2022-04-10T06:39:53.449Z"
   },
   {
    "duration": 45,
    "start_time": "2022-04-10T06:39:54.249Z"
   },
   {
    "duration": 25,
    "start_time": "2022-04-10T06:39:54.297Z"
   },
   {
    "duration": 22,
    "start_time": "2022-04-10T06:39:54.325Z"
   },
   {
    "duration": 20,
    "start_time": "2022-04-10T06:39:54.375Z"
   },
   {
    "duration": 333,
    "start_time": "2022-04-10T06:39:54.398Z"
   },
   {
    "duration": 7,
    "start_time": "2022-04-10T06:39:54.733Z"
   },
   {
    "duration": 45,
    "start_time": "2022-04-10T06:39:54.743Z"
   },
   {
    "duration": 6,
    "start_time": "2022-04-10T06:39:54.794Z"
   },
   {
    "duration": 9,
    "start_time": "2022-04-10T06:39:54.803Z"
   },
   {
    "duration": 195,
    "start_time": "2022-04-10T06:39:54.814Z"
   },
   {
    "duration": 12,
    "start_time": "2022-04-10T06:39:55.012Z"
   },
   {
    "duration": 9,
    "start_time": "2022-04-10T06:39:55.027Z"
   },
   {
    "duration": 41,
    "start_time": "2022-04-10T06:39:55.038Z"
   },
   {
    "duration": 3605,
    "start_time": "2022-04-10T06:39:55.082Z"
   },
   {
    "duration": 937,
    "start_time": "2022-04-10T06:39:58.689Z"
   },
   {
    "duration": 449,
    "start_time": "2022-04-10T06:39:59.628Z"
   },
   {
    "duration": 1599,
    "start_time": "2022-04-10T06:40:00.079Z"
   },
   {
    "duration": 56,
    "start_time": "2022-04-10T06:40:01.681Z"
   },
   {
    "duration": 5,
    "start_time": "2022-04-10T06:40:01.739Z"
   },
   {
    "duration": 29,
    "start_time": "2022-04-10T06:40:01.746Z"
   },
   {
    "duration": 22,
    "start_time": "2022-04-10T06:40:01.777Z"
   },
   {
    "duration": 11,
    "start_time": "2022-04-10T06:40:01.801Z"
   },
   {
    "duration": 45,
    "start_time": "2022-04-10T06:40:01.814Z"
   },
   {
    "duration": 28,
    "start_time": "2022-04-10T06:40:01.861Z"
   },
   {
    "duration": 189795,
    "start_time": "2022-04-10T06:40:01.892Z"
   },
   {
    "duration": 0,
    "start_time": "2022-04-10T06:43:11.690Z"
   },
   {
    "duration": 0,
    "start_time": "2022-04-10T06:43:11.692Z"
   },
   {
    "duration": 0,
    "start_time": "2022-04-10T06:43:11.693Z"
   },
   {
    "duration": 0,
    "start_time": "2022-04-10T06:43:11.694Z"
   },
   {
    "duration": 0,
    "start_time": "2022-04-10T06:43:11.696Z"
   },
   {
    "duration": 0,
    "start_time": "2022-04-10T06:43:11.697Z"
   },
   {
    "duration": 0,
    "start_time": "2022-04-10T06:43:11.699Z"
   },
   {
    "duration": 0,
    "start_time": "2022-04-10T06:43:11.700Z"
   },
   {
    "duration": 1909,
    "start_time": "2022-04-10T06:43:23.285Z"
   },
   {
    "duration": 772,
    "start_time": "2022-04-10T06:43:25.197Z"
   },
   {
    "duration": 35,
    "start_time": "2022-04-10T06:43:25.971Z"
   },
   {
    "duration": 24,
    "start_time": "2022-04-10T06:43:26.009Z"
   },
   {
    "duration": 46,
    "start_time": "2022-04-10T06:43:26.035Z"
   },
   {
    "duration": 18,
    "start_time": "2022-04-10T06:43:26.083Z"
   },
   {
    "duration": 326,
    "start_time": "2022-04-10T06:43:26.102Z"
   },
   {
    "duration": 6,
    "start_time": "2022-04-10T06:43:26.430Z"
   },
   {
    "duration": 43,
    "start_time": "2022-04-10T06:43:26.438Z"
   },
   {
    "duration": 6,
    "start_time": "2022-04-10T06:43:26.485Z"
   },
   {
    "duration": 8,
    "start_time": "2022-04-10T06:43:26.493Z"
   },
   {
    "duration": 194,
    "start_time": "2022-04-10T06:43:26.503Z"
   },
   {
    "duration": 10,
    "start_time": "2022-04-10T06:43:26.699Z"
   },
   {
    "duration": 7,
    "start_time": "2022-04-10T06:43:26.711Z"
   },
   {
    "duration": 11,
    "start_time": "2022-04-10T06:43:26.720Z"
   },
   {
    "duration": 3630,
    "start_time": "2022-04-10T06:43:26.733Z"
   },
   {
    "duration": 849,
    "start_time": "2022-04-10T06:43:30.373Z"
   },
   {
    "duration": 456,
    "start_time": "2022-04-10T06:43:31.224Z"
   },
   {
    "duration": 1582,
    "start_time": "2022-04-10T06:43:31.682Z"
   },
   {
    "duration": 52,
    "start_time": "2022-04-10T06:43:33.274Z"
   },
   {
    "duration": 6,
    "start_time": "2022-04-10T06:43:33.328Z"
   },
   {
    "duration": 14,
    "start_time": "2022-04-10T06:43:33.337Z"
   },
   {
    "duration": 24,
    "start_time": "2022-04-10T06:43:33.354Z"
   },
   {
    "duration": 6,
    "start_time": "2022-04-10T06:43:33.381Z"
   },
   {
    "duration": 10,
    "start_time": "2022-04-10T06:43:33.390Z"
   },
   {
    "duration": 8,
    "start_time": "2022-04-10T06:43:33.402Z"
   },
   {
    "duration": 1074953,
    "start_time": "2022-04-10T06:43:33.413Z"
   },
   {
    "duration": 1062074,
    "start_time": "2022-04-10T07:01:28.376Z"
   },
   {
    "duration": 1923,
    "start_time": "2022-04-10T07:19:10.452Z"
   },
   {
    "duration": 2100,
    "start_time": "2022-04-10T07:19:12.378Z"
   },
   {
    "duration": 8624,
    "start_time": "2022-04-10T07:19:14.482Z"
   },
   {
    "duration": 9,
    "start_time": "2022-04-10T07:19:23.109Z"
   },
   {
    "duration": 5628,
    "start_time": "2022-04-10T07:19:23.122Z"
   },
   {
    "duration": 8,
    "start_time": "2022-04-10T07:19:28.753Z"
   },
   {
    "duration": 5,
    "start_time": "2022-04-10T07:19:28.774Z"
   },
   {
    "duration": 1606,
    "start_time": "2022-04-10T08:58:40.821Z"
   },
   {
    "duration": 651,
    "start_time": "2022-04-10T08:58:42.429Z"
   },
   {
    "duration": 23,
    "start_time": "2022-04-10T08:58:43.081Z"
   },
   {
    "duration": 16,
    "start_time": "2022-04-10T08:58:43.106Z"
   },
   {
    "duration": 27,
    "start_time": "2022-04-10T08:58:43.124Z"
   },
   {
    "duration": 11,
    "start_time": "2022-04-10T08:58:43.153Z"
   },
   {
    "duration": 175,
    "start_time": "2022-04-10T08:58:43.165Z"
   },
   {
    "duration": 7,
    "start_time": "2022-04-10T08:58:43.342Z"
   },
   {
    "duration": 14,
    "start_time": "2022-04-10T08:58:43.351Z"
   },
   {
    "duration": 5,
    "start_time": "2022-04-10T08:58:43.368Z"
   },
   {
    "duration": 7,
    "start_time": "2022-04-10T08:58:43.374Z"
   },
   {
    "duration": 112,
    "start_time": "2022-04-10T08:58:43.382Z"
   },
   {
    "duration": 7,
    "start_time": "2022-04-10T08:58:43.496Z"
   },
   {
    "duration": 7,
    "start_time": "2022-04-10T08:58:43.504Z"
   },
   {
    "duration": 7,
    "start_time": "2022-04-10T08:58:43.512Z"
   },
   {
    "duration": 2381,
    "start_time": "2022-04-10T08:58:43.521Z"
   },
   {
    "duration": 511,
    "start_time": "2022-04-10T08:58:45.903Z"
   },
   {
    "duration": 265,
    "start_time": "2022-04-10T08:58:46.415Z"
   },
   {
    "duration": 989,
    "start_time": "2022-04-10T08:58:46.681Z"
   },
   {
    "duration": 34,
    "start_time": "2022-04-10T08:58:47.672Z"
   },
   {
    "duration": 113,
    "start_time": "2022-04-10T08:58:47.708Z"
   },
   {
    "duration": 0,
    "start_time": "2022-04-10T08:58:47.823Z"
   },
   {
    "duration": 0,
    "start_time": "2022-04-10T08:58:47.824Z"
   },
   {
    "duration": 0,
    "start_time": "2022-04-10T08:58:47.825Z"
   },
   {
    "duration": 0,
    "start_time": "2022-04-10T08:58:47.826Z"
   },
   {
    "duration": 0,
    "start_time": "2022-04-10T08:58:47.826Z"
   },
   {
    "duration": 0,
    "start_time": "2022-04-10T08:58:47.828Z"
   },
   {
    "duration": 0,
    "start_time": "2022-04-10T08:58:47.828Z"
   },
   {
    "duration": 0,
    "start_time": "2022-04-10T08:58:47.829Z"
   },
   {
    "duration": 0,
    "start_time": "2022-04-10T08:58:47.848Z"
   },
   {
    "duration": 0,
    "start_time": "2022-04-10T08:58:47.849Z"
   },
   {
    "duration": 0,
    "start_time": "2022-04-10T08:58:47.850Z"
   },
   {
    "duration": 0,
    "start_time": "2022-04-10T08:58:47.851Z"
   },
   {
    "duration": 0,
    "start_time": "2022-04-10T08:58:47.852Z"
   },
   {
    "duration": 0,
    "start_time": "2022-04-10T08:58:47.853Z"
   },
   {
    "duration": 11,
    "start_time": "2022-04-10T08:59:32.320Z"
   },
   {
    "duration": 4,
    "start_time": "2022-04-10T09:00:32.120Z"
   },
   {
    "duration": 6,
    "start_time": "2022-04-10T09:00:33.886Z"
   },
   {
    "duration": 5,
    "start_time": "2022-04-10T09:00:34.301Z"
   },
   {
    "duration": 3,
    "start_time": "2022-04-10T09:00:36.771Z"
   },
   {
    "duration": 3,
    "start_time": "2022-04-10T09:00:39.322Z"
   },
   {
    "duration": 3,
    "start_time": "2022-04-10T09:00:52.720Z"
   },
   {
    "duration": 3,
    "start_time": "2022-04-10T09:00:58.395Z"
   },
   {
    "duration": 392013,
    "start_time": "2022-04-10T09:01:18.054Z"
   },
   {
    "duration": 385898,
    "start_time": "2022-04-10T09:07:50.069Z"
   },
   {
    "duration": 1585,
    "start_time": "2022-04-10T09:14:15.968Z"
   },
   {
    "duration": 1607,
    "start_time": "2022-04-10T09:14:17.647Z"
   },
   {
    "duration": 6279,
    "start_time": "2022-04-10T09:14:19.256Z"
   },
   {
    "duration": 11,
    "start_time": "2022-04-10T09:14:25.537Z"
   },
   {
    "duration": 4072,
    "start_time": "2022-04-10T09:14:25.550Z"
   },
   {
    "duration": 5,
    "start_time": "2022-04-10T09:14:29.624Z"
   },
   {
    "duration": 4,
    "start_time": "2022-04-10T09:14:33.435Z"
   },
   {
    "duration": 5865,
    "start_time": "2022-04-10T09:15:22.135Z"
   },
   {
    "duration": 7,
    "start_time": "2022-04-10T09:15:29.119Z"
   },
   {
    "duration": 3,
    "start_time": "2022-04-10T09:15:32.434Z"
   },
   {
    "duration": 4052,
    "start_time": "2022-04-10T09:15:41.595Z"
   },
   {
    "duration": 6,
    "start_time": "2022-04-10T09:15:45.842Z"
   },
   {
    "duration": 3,
    "start_time": "2022-04-10T09:15:47.922Z"
   },
   {
    "duration": 814,
    "start_time": "2022-04-10T09:15:53.983Z"
   },
   {
    "duration": 5,
    "start_time": "2022-04-10T09:15:55.604Z"
   },
   {
    "duration": 3,
    "start_time": "2022-04-10T09:15:57.217Z"
   },
   {
    "duration": 2477,
    "start_time": "2022-04-10T09:16:04.665Z"
   },
   {
    "duration": 6,
    "start_time": "2022-04-10T09:16:07.144Z"
   },
   {
    "duration": 12,
    "start_time": "2022-04-10T09:16:07.152Z"
   },
   {
    "duration": 5670,
    "start_time": "2022-04-10T09:16:13.908Z"
   },
   {
    "duration": 5,
    "start_time": "2022-04-10T09:16:19.581Z"
   },
   {
    "duration": 5,
    "start_time": "2022-04-10T09:16:19.588Z"
   },
   {
    "duration": 179,
    "start_time": "2022-04-10T18:50:56.272Z"
   },
   {
    "duration": 26,
    "start_time": "2022-04-10T18:51:19.096Z"
   },
   {
    "duration": 13,
    "start_time": "2022-04-10T18:51:35.612Z"
   },
   {
    "duration": 5,
    "start_time": "2022-04-10T18:52:03.552Z"
   },
   {
    "duration": 919,
    "start_time": "2022-04-10T18:52:03.564Z"
   },
   {
    "duration": 32,
    "start_time": "2022-04-10T18:52:04.486Z"
   },
   {
    "duration": 29,
    "start_time": "2022-04-10T18:52:04.520Z"
   },
   {
    "duration": 44,
    "start_time": "2022-04-10T18:52:04.551Z"
   },
   {
    "duration": 25,
    "start_time": "2022-04-10T18:52:04.598Z"
   },
   {
    "duration": 335,
    "start_time": "2022-04-10T18:52:04.625Z"
   },
   {
    "duration": 5,
    "start_time": "2022-04-10T18:52:04.963Z"
   },
   {
    "duration": 34,
    "start_time": "2022-04-10T18:52:04.974Z"
   },
   {
    "duration": 7,
    "start_time": "2022-04-10T18:52:05.010Z"
   },
   {
    "duration": 8,
    "start_time": "2022-04-10T18:52:05.019Z"
   },
   {
    "duration": 185,
    "start_time": "2022-04-10T18:52:05.030Z"
   },
   {
    "duration": 11,
    "start_time": "2022-04-10T18:52:05.217Z"
   },
   {
    "duration": 7,
    "start_time": "2022-04-10T18:52:05.231Z"
   },
   {
    "duration": 39,
    "start_time": "2022-04-10T18:52:05.242Z"
   },
   {
    "duration": 3270,
    "start_time": "2022-04-10T18:52:05.284Z"
   },
   {
    "duration": 945,
    "start_time": "2022-04-10T18:52:08.557Z"
   },
   {
    "duration": 471,
    "start_time": "2022-04-10T18:52:09.505Z"
   },
   {
    "duration": 1547,
    "start_time": "2022-04-10T18:52:09.979Z"
   },
   {
    "duration": 59,
    "start_time": "2022-04-10T18:52:11.529Z"
   },
   {
    "duration": 7,
    "start_time": "2022-04-10T18:52:11.590Z"
   },
   {
    "duration": 10,
    "start_time": "2022-04-10T18:52:11.599Z"
   },
   {
    "duration": 8,
    "start_time": "2022-04-10T18:52:11.611Z"
   },
   {
    "duration": 64,
    "start_time": "2022-04-10T18:52:11.621Z"
   },
   {
    "duration": 6,
    "start_time": "2022-04-10T18:52:11.687Z"
   },
   {
    "duration": 7986,
    "start_time": "2022-04-10T18:52:20.808Z"
   },
   {
    "duration": 8,
    "start_time": "2022-04-10T18:52:31.589Z"
   },
   {
    "duration": 702,
    "start_time": "2022-04-10T18:52:34.040Z"
   },
   {
    "duration": 7597,
    "start_time": "2022-04-10T18:52:45.696Z"
   },
   {
    "duration": 9,
    "start_time": "2022-04-10T18:52:55.115Z"
   },
   {
    "duration": 5,
    "start_time": "2022-04-10T18:52:56.703Z"
   },
   {
    "duration": 1946,
    "start_time": "2022-04-10T18:54:25.432Z"
   },
   {
    "duration": 808,
    "start_time": "2022-04-10T18:54:27.381Z"
   },
   {
    "duration": 35,
    "start_time": "2022-04-10T18:54:28.191Z"
   },
   {
    "duration": 23,
    "start_time": "2022-04-10T18:54:28.229Z"
   },
   {
    "duration": 23,
    "start_time": "2022-04-10T18:54:28.273Z"
   },
   {
    "duration": 17,
    "start_time": "2022-04-10T18:54:28.298Z"
   },
   {
    "duration": 338,
    "start_time": "2022-04-10T18:54:28.317Z"
   },
   {
    "duration": 6,
    "start_time": "2022-04-10T18:54:28.657Z"
   },
   {
    "duration": 26,
    "start_time": "2022-04-10T18:54:28.665Z"
   },
   {
    "duration": 6,
    "start_time": "2022-04-10T18:54:28.695Z"
   },
   {
    "duration": 8,
    "start_time": "2022-04-10T18:54:28.702Z"
   },
   {
    "duration": 201,
    "start_time": "2022-04-10T18:54:28.712Z"
   },
   {
    "duration": 10,
    "start_time": "2022-04-10T18:54:28.915Z"
   },
   {
    "duration": 8,
    "start_time": "2022-04-10T18:54:28.927Z"
   },
   {
    "duration": 43,
    "start_time": "2022-04-10T18:54:28.937Z"
   },
   {
    "duration": 3599,
    "start_time": "2022-04-10T18:54:28.983Z"
   },
   {
    "duration": 1292,
    "start_time": "2022-04-10T18:54:32.585Z"
   },
   {
    "duration": 450,
    "start_time": "2022-04-10T18:54:33.880Z"
   },
   {
    "duration": 1535,
    "start_time": "2022-04-10T18:54:34.333Z"
   },
   {
    "duration": 53,
    "start_time": "2022-04-10T18:54:35.874Z"
   },
   {
    "duration": 5,
    "start_time": "2022-04-10T18:54:35.929Z"
   },
   {
    "duration": 22,
    "start_time": "2022-04-10T18:54:35.935Z"
   },
   {
    "duration": 36,
    "start_time": "2022-04-10T18:54:35.959Z"
   },
   {
    "duration": 7,
    "start_time": "2022-04-10T18:54:35.997Z"
   },
   {
    "duration": 22,
    "start_time": "2022-04-10T18:54:36.006Z"
   },
   {
    "duration": 24,
    "start_time": "2022-04-10T18:54:36.031Z"
   },
   {
    "duration": 546235,
    "start_time": "2022-04-10T18:54:36.057Z"
   },
   {
    "duration": 538781,
    "start_time": "2022-04-10T19:03:42.297Z"
   },
   {
    "duration": 1898,
    "start_time": "2022-04-10T19:12:41.080Z"
   },
   {
    "duration": 2094,
    "start_time": "2022-04-10T19:12:42.981Z"
   },
   {
    "duration": 8092,
    "start_time": "2022-04-10T19:12:45.078Z"
   },
   {
    "duration": 7,
    "start_time": "2022-04-10T19:12:53.174Z"
   },
   {
    "duration": 7714,
    "start_time": "2022-04-10T19:12:53.183Z"
   },
   {
    "duration": 8,
    "start_time": "2022-04-10T19:13:00.899Z"
   },
   {
    "duration": 8,
    "start_time": "2022-04-10T19:13:00.909Z"
   }
  ],
  "kernelspec": {
   "display_name": "Python 3 (ipykernel)",
   "language": "python",
   "name": "python3"
  },
  "language_info": {
   "codemirror_mode": {
    "name": "ipython",
    "version": 3
   },
   "file_extension": ".py",
   "mimetype": "text/x-python",
   "name": "python",
   "nbconvert_exporter": "python",
   "pygments_lexer": "ipython3",
   "version": "3.9.9"
  },
  "toc": {
   "base_numbering": 1,
   "nav_menu": {},
   "number_sections": true,
   "sideBar": true,
   "skip_h1_title": true,
   "title_cell": "Содержание",
   "title_sidebar": "Contents",
   "toc_cell": true,
   "toc_position": {
    "height": "calc(100% - 180px)",
    "left": "10px",
    "top": "150px",
    "width": "165px"
   },
   "toc_section_display": true,
   "toc_window_display": true
  }
 },
 "nbformat": 4,
 "nbformat_minor": 2
}
