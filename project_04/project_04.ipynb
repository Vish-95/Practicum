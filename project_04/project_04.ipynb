{
 "cells": [
  {
   "cell_type": "markdown",
   "metadata": {},
   "source": [
    "**Описание проекта**"
   ]
  },
  {
   "cell_type": "markdown",
   "metadata": {},
   "source": [
    "Вы аналитик компании «Мегалайн» — федерального оператора сотовой связи. Клиентам предлагают два тарифных плана: «Смарт» и «Ультра». Чтобы скорректировать рекламный бюджет, коммерческий департамент хочет понять, какой тариф приносит больше денег.\n",
    "Вам предстоит сделать предварительный анализ тарифов на небольшой выборке клиентов. В вашем распоряжении данные 500 пользователей «Мегалайна»: кто они, откуда, каким тарифом пользуются, сколько звонков и сообщений каждый отправил за 2018 год. Нужно проанализировать поведение клиентов и сделать вывод — какой тариф лучше."
   ]
  },
  {
   "cell_type": "markdown",
   "metadata": {},
   "source": [
    "**Описание тарифов**"
   ]
  },
  {
   "cell_type": "markdown",
   "metadata": {},
   "source": [
    "**Тариф «Смарт»**"
   ]
  },
  {
   "cell_type": "markdown",
   "metadata": {},
   "source": [
    "1) Ежемесячная плата: 550 рублей\n",
    "\n",
    "2) Включено 500 минут разговора, 50 сообщений и 15 Гб интернет-трафика\n",
    "\n",
    "3) Стоимость услуг сверх тарифного пакета:\n",
    "  1. минута разговора: 3 рубля («Мегалайн» всегда округляет вверх значения минут и мегабайтов. Если пользователь проговорил всего 1 секунду, в тарифе засчитывается целая минута); \n",
    "  2. сообщение: 3 рубля; \n",
    "  3. 1 Гб интернет-трафика: 200 рублей."
   ]
  },
  {
   "cell_type": "markdown",
   "metadata": {},
   "source": [
    "**Тариф «Ультра»**"
   ]
  },
  {
   "cell_type": "markdown",
   "metadata": {},
   "source": [
    "1) Ежемесячная плата: 1950 рублей\n",
    "\n",
    "2) Включено 3000 минут разговора, 1000 сообщений и 30 Гб интернет-трафика\n",
    "\n",
    "3) Стоимость услуг сверх тарифного пакета: \n",
    " 1. минута разговора: 1 рубль; \n",
    " 2. сообщение: 1 рубль; \n",
    " 3. 1 Гб интернет-трафика: 150 рублей."
   ]
  },
  {
   "cell_type": "markdown",
   "metadata": {},
   "source": [
    "Датасет собирается из 5 источников:\n",
    "- calls.csv – данные о звонках\n",
    "- internet.csv – данные об интернет-сессиях\n",
    "- messages.csv – данные о сообщениях\n",
    "- tariffs.csv – данные о тарифе\n",
    "- users.csv – данные о пользователях"
   ]
  },
  {
   "cell_type": "code",
   "execution_count": 1,
   "metadata": {},
   "outputs": [],
   "source": [
    "import pandas as pd\n",
    "import numpy as np\n",
    "import matplotlib.pyplot as plt\n",
    "import seaborn as sns\n",
    "from scipy import stats as st"
   ]
  },
  {
   "cell_type": "markdown",
   "metadata": {},
   "source": [
    "### Изучение данных"
   ]
  },
  {
   "cell_type": "code",
   "execution_count": 2,
   "metadata": {},
   "outputs": [],
   "source": [
    "# path = '/datasets/'\n",
    "path = ''\n",
    "calls = pd.read_csv(path + 'calls.csv')\n",
    "internet = pd.read_csv(path + 'internet.csv', index_col=0)\n",
    "messages = pd.read_csv(path + 'messages.csv')\n",
    "tariffs = pd.read_csv(path + 'tariffs.csv')\n",
    "users = pd.read_csv(path + 'users.csv')"
   ]
  },
  {
   "cell_type": "markdown",
   "metadata": {},
   "source": [
    "**Данные о звонках**"
   ]
  },
  {
   "cell_type": "markdown",
   "metadata": {},
   "source": [
    "- id — уникальный номер звонка\n",
    "- call_date — дата звонка\n",
    "- duration — длительность звонка в минутах\n",
    "- user_id — идентификатор пользователя, сделавшего звонок"
   ]
  },
  {
   "cell_type": "code",
   "execution_count": 3,
   "metadata": {
    "scrolled": true
   },
   "outputs": [
    {
     "data": {
      "text/html": [
       "<div>\n",
       "<style scoped>\n",
       "    .dataframe tbody tr th:only-of-type {\n",
       "        vertical-align: middle;\n",
       "    }\n",
       "\n",
       "    .dataframe tbody tr th {\n",
       "        vertical-align: top;\n",
       "    }\n",
       "\n",
       "    .dataframe thead th {\n",
       "        text-align: right;\n",
       "    }\n",
       "</style>\n",
       "<table border=\"1\" class=\"dataframe\">\n",
       "  <thead>\n",
       "    <tr style=\"text-align: right;\">\n",
       "      <th></th>\n",
       "      <th>id</th>\n",
       "      <th>call_date</th>\n",
       "      <th>duration</th>\n",
       "      <th>user_id</th>\n",
       "    </tr>\n",
       "  </thead>\n",
       "  <tbody>\n",
       "    <tr>\n",
       "      <th>0</th>\n",
       "      <td>1000_0</td>\n",
       "      <td>2018-07-25</td>\n",
       "      <td>0.00</td>\n",
       "      <td>1000</td>\n",
       "    </tr>\n",
       "    <tr>\n",
       "      <th>1</th>\n",
       "      <td>1000_1</td>\n",
       "      <td>2018-08-17</td>\n",
       "      <td>0.00</td>\n",
       "      <td>1000</td>\n",
       "    </tr>\n",
       "    <tr>\n",
       "      <th>2</th>\n",
       "      <td>1000_2</td>\n",
       "      <td>2018-06-11</td>\n",
       "      <td>2.85</td>\n",
       "      <td>1000</td>\n",
       "    </tr>\n",
       "    <tr>\n",
       "      <th>3</th>\n",
       "      <td>1000_3</td>\n",
       "      <td>2018-09-21</td>\n",
       "      <td>13.80</td>\n",
       "      <td>1000</td>\n",
       "    </tr>\n",
       "    <tr>\n",
       "      <th>4</th>\n",
       "      <td>1000_4</td>\n",
       "      <td>2018-12-15</td>\n",
       "      <td>5.18</td>\n",
       "      <td>1000</td>\n",
       "    </tr>\n",
       "  </tbody>\n",
       "</table>\n",
       "</div>"
      ],
      "text/plain": [
       "       id   call_date  duration  user_id\n",
       "0  1000_0  2018-07-25      0.00     1000\n",
       "1  1000_1  2018-08-17      0.00     1000\n",
       "2  1000_2  2018-06-11      2.85     1000\n",
       "3  1000_3  2018-09-21     13.80     1000\n",
       "4  1000_4  2018-12-15      5.18     1000"
      ]
     },
     "execution_count": 3,
     "metadata": {},
     "output_type": "execute_result"
    }
   ],
   "source": [
    "calls.head()"
   ]
  },
  {
   "cell_type": "code",
   "execution_count": 4,
   "metadata": {
    "scrolled": true
   },
   "outputs": [
    {
     "name": "stdout",
     "output_type": "stream",
     "text": [
      "<class 'pandas.core.frame.DataFrame'>\n",
      "RangeIndex: 202607 entries, 0 to 202606\n",
      "Data columns (total 4 columns):\n",
      " #   Column     Non-Null Count   Dtype  \n",
      "---  ------     --------------   -----  \n",
      " 0   id         202607 non-null  object \n",
      " 1   call_date  202607 non-null  object \n",
      " 2   duration   202607 non-null  float64\n",
      " 3   user_id    202607 non-null  int64  \n",
      "dtypes: float64(1), int64(1), object(2)\n",
      "memory usage: 6.2+ MB\n"
     ]
    }
   ],
   "source": [
    "calls.info()"
   ]
  },
  {
   "cell_type": "markdown",
   "metadata": {},
   "source": [
    "Пропущенных значений нет, необходимо привести парметр `call_date` к типу datetime."
   ]
  },
  {
   "cell_type": "markdown",
   "metadata": {},
   "source": [
    "**Данные об интернет-сессиях**"
   ]
  },
  {
   "cell_type": "markdown",
   "metadata": {},
   "source": [
    "- id — уникальный номер сессии\n",
    "- mb_used — объём потраченного за сессию интернет-трафика (в мегабайтах)\n",
    "- session_date — дата интернет-сессии\n",
    "- user_id — идентификатор пользователя"
   ]
  },
  {
   "cell_type": "code",
   "execution_count": 5,
   "metadata": {},
   "outputs": [
    {
     "data": {
      "text/html": [
       "<div>\n",
       "<style scoped>\n",
       "    .dataframe tbody tr th:only-of-type {\n",
       "        vertical-align: middle;\n",
       "    }\n",
       "\n",
       "    .dataframe tbody tr th {\n",
       "        vertical-align: top;\n",
       "    }\n",
       "\n",
       "    .dataframe thead th {\n",
       "        text-align: right;\n",
       "    }\n",
       "</style>\n",
       "<table border=\"1\" class=\"dataframe\">\n",
       "  <thead>\n",
       "    <tr style=\"text-align: right;\">\n",
       "      <th></th>\n",
       "      <th>id</th>\n",
       "      <th>mb_used</th>\n",
       "      <th>session_date</th>\n",
       "      <th>user_id</th>\n",
       "    </tr>\n",
       "  </thead>\n",
       "  <tbody>\n",
       "    <tr>\n",
       "      <th>0</th>\n",
       "      <td>1000_0</td>\n",
       "      <td>112.95</td>\n",
       "      <td>2018-11-25</td>\n",
       "      <td>1000</td>\n",
       "    </tr>\n",
       "    <tr>\n",
       "      <th>1</th>\n",
       "      <td>1000_1</td>\n",
       "      <td>1052.81</td>\n",
       "      <td>2018-09-07</td>\n",
       "      <td>1000</td>\n",
       "    </tr>\n",
       "    <tr>\n",
       "      <th>2</th>\n",
       "      <td>1000_2</td>\n",
       "      <td>1197.26</td>\n",
       "      <td>2018-06-25</td>\n",
       "      <td>1000</td>\n",
       "    </tr>\n",
       "    <tr>\n",
       "      <th>3</th>\n",
       "      <td>1000_3</td>\n",
       "      <td>550.27</td>\n",
       "      <td>2018-08-22</td>\n",
       "      <td>1000</td>\n",
       "    </tr>\n",
       "    <tr>\n",
       "      <th>4</th>\n",
       "      <td>1000_4</td>\n",
       "      <td>302.56</td>\n",
       "      <td>2018-09-24</td>\n",
       "      <td>1000</td>\n",
       "    </tr>\n",
       "  </tbody>\n",
       "</table>\n",
       "</div>"
      ],
      "text/plain": [
       "       id  mb_used session_date  user_id\n",
       "0  1000_0   112.95   2018-11-25     1000\n",
       "1  1000_1  1052.81   2018-09-07     1000\n",
       "2  1000_2  1197.26   2018-06-25     1000\n",
       "3  1000_3   550.27   2018-08-22     1000\n",
       "4  1000_4   302.56   2018-09-24     1000"
      ]
     },
     "execution_count": 5,
     "metadata": {},
     "output_type": "execute_result"
    }
   ],
   "source": [
    "internet.head()"
   ]
  },
  {
   "cell_type": "code",
   "execution_count": 6,
   "metadata": {},
   "outputs": [
    {
     "name": "stdout",
     "output_type": "stream",
     "text": [
      "<class 'pandas.core.frame.DataFrame'>\n",
      "Int64Index: 149396 entries, 0 to 149395\n",
      "Data columns (total 4 columns):\n",
      " #   Column        Non-Null Count   Dtype  \n",
      "---  ------        --------------   -----  \n",
      " 0   id            149396 non-null  object \n",
      " 1   mb_used       149396 non-null  float64\n",
      " 2   session_date  149396 non-null  object \n",
      " 3   user_id       149396 non-null  int64  \n",
      "dtypes: float64(1), int64(1), object(2)\n",
      "memory usage: 5.7+ MB\n"
     ]
    }
   ],
   "source": [
    "internet.info()"
   ]
  },
  {
   "cell_type": "markdown",
   "metadata": {},
   "source": [
    "Пропущенных значений нет, необходимо привести парметр `session_date` к типу datetime."
   ]
  },
  {
   "cell_type": "markdown",
   "metadata": {},
   "source": [
    "**Данные о сообщениях**"
   ]
  },
  {
   "cell_type": "markdown",
   "metadata": {},
   "source": [
    "- id — уникальный номер сообщения\n",
    "- message_date — дата сообщения\n",
    "- user_id — идентификатор пользователя, отправившего сообщение"
   ]
  },
  {
   "cell_type": "code",
   "execution_count": 7,
   "metadata": {},
   "outputs": [
    {
     "data": {
      "text/html": [
       "<div>\n",
       "<style scoped>\n",
       "    .dataframe tbody tr th:only-of-type {\n",
       "        vertical-align: middle;\n",
       "    }\n",
       "\n",
       "    .dataframe tbody tr th {\n",
       "        vertical-align: top;\n",
       "    }\n",
       "\n",
       "    .dataframe thead th {\n",
       "        text-align: right;\n",
       "    }\n",
       "</style>\n",
       "<table border=\"1\" class=\"dataframe\">\n",
       "  <thead>\n",
       "    <tr style=\"text-align: right;\">\n",
       "      <th></th>\n",
       "      <th>id</th>\n",
       "      <th>message_date</th>\n",
       "      <th>user_id</th>\n",
       "    </tr>\n",
       "  </thead>\n",
       "  <tbody>\n",
       "    <tr>\n",
       "      <th>0</th>\n",
       "      <td>1000_0</td>\n",
       "      <td>2018-06-27</td>\n",
       "      <td>1000</td>\n",
       "    </tr>\n",
       "    <tr>\n",
       "      <th>1</th>\n",
       "      <td>1000_1</td>\n",
       "      <td>2018-10-08</td>\n",
       "      <td>1000</td>\n",
       "    </tr>\n",
       "    <tr>\n",
       "      <th>2</th>\n",
       "      <td>1000_2</td>\n",
       "      <td>2018-08-04</td>\n",
       "      <td>1000</td>\n",
       "    </tr>\n",
       "    <tr>\n",
       "      <th>3</th>\n",
       "      <td>1000_3</td>\n",
       "      <td>2018-06-16</td>\n",
       "      <td>1000</td>\n",
       "    </tr>\n",
       "    <tr>\n",
       "      <th>4</th>\n",
       "      <td>1000_4</td>\n",
       "      <td>2018-12-05</td>\n",
       "      <td>1000</td>\n",
       "    </tr>\n",
       "  </tbody>\n",
       "</table>\n",
       "</div>"
      ],
      "text/plain": [
       "       id message_date  user_id\n",
       "0  1000_0   2018-06-27     1000\n",
       "1  1000_1   2018-10-08     1000\n",
       "2  1000_2   2018-08-04     1000\n",
       "3  1000_3   2018-06-16     1000\n",
       "4  1000_4   2018-12-05     1000"
      ]
     },
     "execution_count": 7,
     "metadata": {},
     "output_type": "execute_result"
    }
   ],
   "source": [
    "messages.head()"
   ]
  },
  {
   "cell_type": "code",
   "execution_count": 8,
   "metadata": {},
   "outputs": [
    {
     "name": "stdout",
     "output_type": "stream",
     "text": [
      "<class 'pandas.core.frame.DataFrame'>\n",
      "RangeIndex: 123036 entries, 0 to 123035\n",
      "Data columns (total 3 columns):\n",
      " #   Column        Non-Null Count   Dtype \n",
      "---  ------        --------------   ----- \n",
      " 0   id            123036 non-null  object\n",
      " 1   message_date  123036 non-null  object\n",
      " 2   user_id       123036 non-null  int64 \n",
      "dtypes: int64(1), object(2)\n",
      "memory usage: 2.8+ MB\n"
     ]
    }
   ],
   "source": [
    "messages.info()"
   ]
  },
  {
   "cell_type": "markdown",
   "metadata": {},
   "source": [
    "Пропущенных значений нет, необходимо привести парметр `message_date` к типу datetime."
   ]
  },
  {
   "cell_type": "markdown",
   "metadata": {},
   "source": [
    "**Данные о тарифе**"
   ]
  },
  {
   "cell_type": "markdown",
   "metadata": {},
   "source": [
    "- messages_included\t – включено количество смс\n",
    "- mb_per_month_included – включено количесвто мб\n",
    "- minutes_included – включено минут разговора\n",
    "- rub_monthly_fee – ежемесячная плата\n",
    "- rub_per_gb – стоимость 1 гб интернета\n",
    "- rub_per_message – стоимость 1 смс\n",
    "- rub_per_minute – стоимость 1 минуты разговора\n",
    "- tariff_name – название тарифа"
   ]
  },
  {
   "cell_type": "code",
   "execution_count": 9,
   "metadata": {},
   "outputs": [
    {
     "data": {
      "text/html": [
       "<div>\n",
       "<style scoped>\n",
       "    .dataframe tbody tr th:only-of-type {\n",
       "        vertical-align: middle;\n",
       "    }\n",
       "\n",
       "    .dataframe tbody tr th {\n",
       "        vertical-align: top;\n",
       "    }\n",
       "\n",
       "    .dataframe thead th {\n",
       "        text-align: right;\n",
       "    }\n",
       "</style>\n",
       "<table border=\"1\" class=\"dataframe\">\n",
       "  <thead>\n",
       "    <tr style=\"text-align: right;\">\n",
       "      <th></th>\n",
       "      <th>messages_included</th>\n",
       "      <th>mb_per_month_included</th>\n",
       "      <th>minutes_included</th>\n",
       "      <th>rub_monthly_fee</th>\n",
       "      <th>rub_per_gb</th>\n",
       "      <th>rub_per_message</th>\n",
       "      <th>rub_per_minute</th>\n",
       "      <th>tariff_name</th>\n",
       "    </tr>\n",
       "  </thead>\n",
       "  <tbody>\n",
       "    <tr>\n",
       "      <th>0</th>\n",
       "      <td>50</td>\n",
       "      <td>15360</td>\n",
       "      <td>500</td>\n",
       "      <td>550</td>\n",
       "      <td>200</td>\n",
       "      <td>3</td>\n",
       "      <td>3</td>\n",
       "      <td>smart</td>\n",
       "    </tr>\n",
       "    <tr>\n",
       "      <th>1</th>\n",
       "      <td>1000</td>\n",
       "      <td>30720</td>\n",
       "      <td>3000</td>\n",
       "      <td>1950</td>\n",
       "      <td>150</td>\n",
       "      <td>1</td>\n",
       "      <td>1</td>\n",
       "      <td>ultra</td>\n",
       "    </tr>\n",
       "  </tbody>\n",
       "</table>\n",
       "</div>"
      ],
      "text/plain": [
       "   messages_included  mb_per_month_included  minutes_included  \\\n",
       "0                 50                  15360               500   \n",
       "1               1000                  30720              3000   \n",
       "\n",
       "   rub_monthly_fee  rub_per_gb  rub_per_message  rub_per_minute tariff_name  \n",
       "0              550         200                3               3       smart  \n",
       "1             1950         150                1               1       ultra  "
      ]
     },
     "execution_count": 9,
     "metadata": {},
     "output_type": "execute_result"
    }
   ],
   "source": [
    "tariffs.head()"
   ]
  },
  {
   "cell_type": "markdown",
   "metadata": {},
   "source": [
    "**Данные о пользователях**"
   ]
  },
  {
   "cell_type": "markdown",
   "metadata": {},
   "source": [
    "- user_id –уникальный идентификатор пользователя\n",
    "- age – возраст пользователя\n",
    "- churn_date – дата прекращения пользования тарифом (если значение пропущено, то тариф ещё действоал на момент выгрузки данных)\n",
    "- city – город проживания пользователя\n",
    "- first_name – имя пользователя\n",
    "- last_name – фамилия пользователя\n",
    "- reg_date – дата подключения тарифа (день, месяц, год)\n",
    "- tariff – название тарифного плана"
   ]
  },
  {
   "cell_type": "code",
   "execution_count": 10,
   "metadata": {},
   "outputs": [
    {
     "data": {
      "text/html": [
       "<div>\n",
       "<style scoped>\n",
       "    .dataframe tbody tr th:only-of-type {\n",
       "        vertical-align: middle;\n",
       "    }\n",
       "\n",
       "    .dataframe tbody tr th {\n",
       "        vertical-align: top;\n",
       "    }\n",
       "\n",
       "    .dataframe thead th {\n",
       "        text-align: right;\n",
       "    }\n",
       "</style>\n",
       "<table border=\"1\" class=\"dataframe\">\n",
       "  <thead>\n",
       "    <tr style=\"text-align: right;\">\n",
       "      <th></th>\n",
       "      <th>user_id</th>\n",
       "      <th>age</th>\n",
       "      <th>churn_date</th>\n",
       "      <th>city</th>\n",
       "      <th>first_name</th>\n",
       "      <th>last_name</th>\n",
       "      <th>reg_date</th>\n",
       "      <th>tariff</th>\n",
       "    </tr>\n",
       "  </thead>\n",
       "  <tbody>\n",
       "    <tr>\n",
       "      <th>0</th>\n",
       "      <td>1000</td>\n",
       "      <td>52</td>\n",
       "      <td>NaN</td>\n",
       "      <td>Краснодар</td>\n",
       "      <td>Рафаил</td>\n",
       "      <td>Верещагин</td>\n",
       "      <td>2018-05-25</td>\n",
       "      <td>ultra</td>\n",
       "    </tr>\n",
       "    <tr>\n",
       "      <th>1</th>\n",
       "      <td>1001</td>\n",
       "      <td>41</td>\n",
       "      <td>NaN</td>\n",
       "      <td>Москва</td>\n",
       "      <td>Иван</td>\n",
       "      <td>Ежов</td>\n",
       "      <td>2018-11-01</td>\n",
       "      <td>smart</td>\n",
       "    </tr>\n",
       "    <tr>\n",
       "      <th>2</th>\n",
       "      <td>1002</td>\n",
       "      <td>59</td>\n",
       "      <td>NaN</td>\n",
       "      <td>Стерлитамак</td>\n",
       "      <td>Евгений</td>\n",
       "      <td>Абрамович</td>\n",
       "      <td>2018-06-17</td>\n",
       "      <td>smart</td>\n",
       "    </tr>\n",
       "    <tr>\n",
       "      <th>3</th>\n",
       "      <td>1003</td>\n",
       "      <td>23</td>\n",
       "      <td>NaN</td>\n",
       "      <td>Москва</td>\n",
       "      <td>Белла</td>\n",
       "      <td>Белякова</td>\n",
       "      <td>2018-08-17</td>\n",
       "      <td>ultra</td>\n",
       "    </tr>\n",
       "    <tr>\n",
       "      <th>4</th>\n",
       "      <td>1004</td>\n",
       "      <td>68</td>\n",
       "      <td>NaN</td>\n",
       "      <td>Новокузнецк</td>\n",
       "      <td>Татьяна</td>\n",
       "      <td>Авдеенко</td>\n",
       "      <td>2018-05-14</td>\n",
       "      <td>ultra</td>\n",
       "    </tr>\n",
       "  </tbody>\n",
       "</table>\n",
       "</div>"
      ],
      "text/plain": [
       "   user_id  age churn_date         city first_name  last_name    reg_date  \\\n",
       "0     1000   52        NaN    Краснодар     Рафаил  Верещагин  2018-05-25   \n",
       "1     1001   41        NaN       Москва       Иван       Ежов  2018-11-01   \n",
       "2     1002   59        NaN  Стерлитамак    Евгений  Абрамович  2018-06-17   \n",
       "3     1003   23        NaN       Москва      Белла   Белякова  2018-08-17   \n",
       "4     1004   68        NaN  Новокузнецк    Татьяна   Авдеенко  2018-05-14   \n",
       "\n",
       "  tariff  \n",
       "0  ultra  \n",
       "1  smart  \n",
       "2  smart  \n",
       "3  ultra  \n",
       "4  ultra  "
      ]
     },
     "execution_count": 10,
     "metadata": {},
     "output_type": "execute_result"
    }
   ],
   "source": [
    "users.head()"
   ]
  },
  {
   "cell_type": "code",
   "execution_count": 11,
   "metadata": {},
   "outputs": [
    {
     "name": "stdout",
     "output_type": "stream",
     "text": [
      "<class 'pandas.core.frame.DataFrame'>\n",
      "RangeIndex: 500 entries, 0 to 499\n",
      "Data columns (total 8 columns):\n",
      " #   Column      Non-Null Count  Dtype \n",
      "---  ------      --------------  ----- \n",
      " 0   user_id     500 non-null    int64 \n",
      " 1   age         500 non-null    int64 \n",
      " 2   churn_date  38 non-null     object\n",
      " 3   city        500 non-null    object\n",
      " 4   first_name  500 non-null    object\n",
      " 5   last_name   500 non-null    object\n",
      " 6   reg_date    500 non-null    object\n",
      " 7   tariff      500 non-null    object\n",
      "dtypes: int64(2), object(6)\n",
      "memory usage: 31.4+ KB\n"
     ]
    }
   ],
   "source": [
    "users.info()"
   ]
  },
  {
   "cell_type": "markdown",
   "metadata": {},
   "source": [
    "В `churn_date` содержаться пропуски типа `NaN`, но эти пропуски объяснимы и устранять их не будем. Необходимо заменить тип данных в столбцах: `churn_date`, `reg_date` на  тип `datetime`."
   ]
  },
  {
   "cell_type": "markdown",
   "metadata": {},
   "source": [
    "###  Предобработка данных"
   ]
  },
  {
   "cell_type": "markdown",
   "metadata": {},
   "source": [
    "Приведём данные в столбцах к типу `datetime`:"
   ]
  },
  {
   "cell_type": "code",
   "execution_count": 12,
   "metadata": {},
   "outputs": [],
   "source": [
    "calls['call_date'] = pd.to_datetime(calls['call_date'])\n",
    "internet['session_date'] = pd.to_datetime(internet['session_date'])\n",
    "messages['message_date'] = pd.to_datetime(messages['message_date'])\n",
    "users['churn_date'] = pd.to_datetime(users['churn_date'])\n",
    "users['reg_date'] = pd.to_datetime(users['reg_date'])"
   ]
  },
  {
   "cell_type": "markdown",
   "metadata": {},
   "source": [
    "Добавим столбец с номером месяца:"
   ]
  },
  {
   "cell_type": "code",
   "execution_count": 13,
   "metadata": {},
   "outputs": [],
   "source": [
    "calls['month'] = pd.DatetimeIndex(calls['call_date']).month\n",
    "internet['month'] = pd.DatetimeIndex(internet['session_date']).month\n",
    "messages['month'] = pd.DatetimeIndex(messages['message_date']).month\n",
    "users['month'] = pd.DatetimeIndex(users['churn_date']).month\n",
    "users['month'] = pd.DatetimeIndex(users['reg_date']).month"
   ]
  },
  {
   "cell_type": "markdown",
   "metadata": {},
   "source": [
    "\"Мегалайн\" всегда округляет секунды до минуты, а мегабайты - до гигабайт. Округлим вверх длительность разговора - `duration` и приведём к целочисленному типу:"
   ]
  },
  {
   "cell_type": "code",
   "execution_count": 14,
   "metadata": {},
   "outputs": [],
   "source": [
    "calls['duration'] = np.ceil(calls['duration'])\n",
    "calls['duration'] = calls['duration'].astype('int')"
   ]
  },
  {
   "cell_type": "markdown",
   "metadata": {},
   "source": [
    "**Сгруппируем таблицы по пользователям и месяцам**"
   ]
  },
  {
   "cell_type": "markdown",
   "metadata": {},
   "source": [
    "Количество сделанных звонков и израсходованных минут разговора по месяцам:"
   ]
  },
  {
   "cell_type": "code",
   "execution_count": 15,
   "metadata": {},
   "outputs": [],
   "source": [
    "calls_moth = calls.pivot_table(index=['user_id', 'month'], values=['duration'],\n",
    "                              aggfunc=['sum', 'count']).reset_index()\n",
    "calls_moth.columns = ['user_id', 'month', 'duration', 'count_calls']"
   ]
  },
  {
   "cell_type": "markdown",
   "metadata": {},
   "source": [
    "Количество отправленных сообщений по месяцам:"
   ]
  },
  {
   "cell_type": "code",
   "execution_count": 16,
   "metadata": {},
   "outputs": [],
   "source": [
    "messages_month =  messages.pivot_table(index=['user_id', 'month'], values='id',\n",
    "                              aggfunc='count').reset_index()\n",
    "messages_month.columns = ['user_id', 'month', 'count_messages']"
   ]
  },
  {
   "cell_type": "markdown",
   "metadata": {},
   "source": [
    "Объём израсходанного интернет-трайфика по месяцам"
   ]
  },
  {
   "cell_type": "code",
   "execution_count": 17,
   "metadata": {
    "scrolled": false
   },
   "outputs": [
    {
     "data": {
      "text/html": [
       "<div>\n",
       "<style scoped>\n",
       "    .dataframe tbody tr th:only-of-type {\n",
       "        vertical-align: middle;\n",
       "    }\n",
       "\n",
       "    .dataframe tbody tr th {\n",
       "        vertical-align: top;\n",
       "    }\n",
       "\n",
       "    .dataframe thead th {\n",
       "        text-align: right;\n",
       "    }\n",
       "</style>\n",
       "<table border=\"1\" class=\"dataframe\">\n",
       "  <thead>\n",
       "    <tr style=\"text-align: right;\">\n",
       "      <th></th>\n",
       "      <th>user_id</th>\n",
       "      <th>month</th>\n",
       "      <th>mb_used</th>\n",
       "    </tr>\n",
       "  </thead>\n",
       "  <tbody>\n",
       "    <tr>\n",
       "      <th>0</th>\n",
       "      <td>1000</td>\n",
       "      <td>5</td>\n",
       "      <td>2253.49</td>\n",
       "    </tr>\n",
       "    <tr>\n",
       "      <th>1</th>\n",
       "      <td>1000</td>\n",
       "      <td>6</td>\n",
       "      <td>23233.77</td>\n",
       "    </tr>\n",
       "    <tr>\n",
       "      <th>2</th>\n",
       "      <td>1000</td>\n",
       "      <td>7</td>\n",
       "      <td>14003.64</td>\n",
       "    </tr>\n",
       "    <tr>\n",
       "      <th>3</th>\n",
       "      <td>1000</td>\n",
       "      <td>8</td>\n",
       "      <td>14055.93</td>\n",
       "    </tr>\n",
       "    <tr>\n",
       "      <th>4</th>\n",
       "      <td>1000</td>\n",
       "      <td>9</td>\n",
       "      <td>14568.91</td>\n",
       "    </tr>\n",
       "  </tbody>\n",
       "</table>\n",
       "</div>"
      ],
      "text/plain": [
       "   user_id  month   mb_used\n",
       "0     1000      5   2253.49\n",
       "1     1000      6  23233.77\n",
       "2     1000      7  14003.64\n",
       "3     1000      8  14055.93\n",
       "4     1000      9  14568.91"
      ]
     },
     "execution_count": 17,
     "metadata": {},
     "output_type": "execute_result"
    }
   ],
   "source": [
    "inetrnet_month = internet.pivot_table(index=['user_id', 'month'], values='mb_used', aggfunc='sum').reset_index()\n",
    "inetrnet_month.columns = ['user_id', 'month','mb_used']\n",
    "inetrnet_month.head()"
   ]
  },
  {
   "cell_type": "markdown",
   "metadata": {},
   "source": [
    "Округлим полученную сумму (мегабайт) веб-трафика за месяц до гигабайт и приведём к целочисленному типу:"
   ]
  },
  {
   "cell_type": "code",
   "execution_count": 18,
   "metadata": {},
   "outputs": [],
   "source": [
    "# Перевод в гигабайты и оркугление\n",
    "inetrnet_month['mb_used'] = np.ceil(inetrnet_month['mb_used'] / 1024)\n",
    "\n",
    "# Приведём к целочисленному типу\n",
    "inetrnet_month['mb_used'] = inetrnet_month['mb_used'].astype('int')\n",
    "\n",
    "# Изменим название столбца в соответсвии с изменениями\n",
    "inetrnet_month.columns = ['user_id', 'month','gb_used']"
   ]
  },
  {
   "cell_type": "markdown",
   "metadata": {},
   "source": [
    "**Объединение данных в общий датафрейм**"
   ]
  },
  {
   "cell_type": "markdown",
   "metadata": {},
   "source": [
    "Объединение таблиц calls_month, internet_month, messages_month"
   ]
  },
  {
   "cell_type": "code",
   "execution_count": 19,
   "metadata": {
    "scrolled": false
   },
   "outputs": [
    {
     "data": {
      "text/html": [
       "<div>\n",
       "<style scoped>\n",
       "    .dataframe tbody tr th:only-of-type {\n",
       "        vertical-align: middle;\n",
       "    }\n",
       "\n",
       "    .dataframe tbody tr th {\n",
       "        vertical-align: top;\n",
       "    }\n",
       "\n",
       "    .dataframe thead th {\n",
       "        text-align: right;\n",
       "    }\n",
       "</style>\n",
       "<table border=\"1\" class=\"dataframe\">\n",
       "  <thead>\n",
       "    <tr style=\"text-align: right;\">\n",
       "      <th></th>\n",
       "      <th>user_id</th>\n",
       "      <th>month</th>\n",
       "      <th>duration</th>\n",
       "      <th>count_calls</th>\n",
       "      <th>count_messages</th>\n",
       "      <th>gb_used</th>\n",
       "    </tr>\n",
       "  </thead>\n",
       "  <tbody>\n",
       "    <tr>\n",
       "      <th>0</th>\n",
       "      <td>1000</td>\n",
       "      <td>5</td>\n",
       "      <td>159.0</td>\n",
       "      <td>22.0</td>\n",
       "      <td>22.0</td>\n",
       "      <td>3.0</td>\n",
       "    </tr>\n",
       "    <tr>\n",
       "      <th>1</th>\n",
       "      <td>1000</td>\n",
       "      <td>6</td>\n",
       "      <td>172.0</td>\n",
       "      <td>43.0</td>\n",
       "      <td>60.0</td>\n",
       "      <td>23.0</td>\n",
       "    </tr>\n",
       "    <tr>\n",
       "      <th>2</th>\n",
       "      <td>1000</td>\n",
       "      <td>7</td>\n",
       "      <td>340.0</td>\n",
       "      <td>47.0</td>\n",
       "      <td>75.0</td>\n",
       "      <td>14.0</td>\n",
       "    </tr>\n",
       "    <tr>\n",
       "      <th>3</th>\n",
       "      <td>1000</td>\n",
       "      <td>8</td>\n",
       "      <td>408.0</td>\n",
       "      <td>52.0</td>\n",
       "      <td>81.0</td>\n",
       "      <td>14.0</td>\n",
       "    </tr>\n",
       "    <tr>\n",
       "      <th>4</th>\n",
       "      <td>1000</td>\n",
       "      <td>9</td>\n",
       "      <td>466.0</td>\n",
       "      <td>58.0</td>\n",
       "      <td>57.0</td>\n",
       "      <td>15.0</td>\n",
       "    </tr>\n",
       "  </tbody>\n",
       "</table>\n",
       "</div>"
      ],
      "text/plain": [
       "   user_id  month  duration  count_calls  count_messages  gb_used\n",
       "0     1000      5     159.0         22.0            22.0      3.0\n",
       "1     1000      6     172.0         43.0            60.0     23.0\n",
       "2     1000      7     340.0         47.0            75.0     14.0\n",
       "3     1000      8     408.0         52.0            81.0     14.0\n",
       "4     1000      9     466.0         58.0            57.0     15.0"
      ]
     },
     "execution_count": 19,
     "metadata": {},
     "output_type": "execute_result"
    }
   ],
   "source": [
    "df = calls_moth.merge(messages_month, how='outer', on=['user_id', 'month'])\n",
    "df_service = df.merge(inetrnet_month, how='outer', on=['user_id', 'month'])\n",
    "df_service.head() "
   ]
  },
  {
   "cell_type": "markdown",
   "metadata": {},
   "source": [
    "После объединения таблиц услуг появились записи с пропущенными значениями:"
   ]
  },
  {
   "cell_type": "code",
   "execution_count": 20,
   "metadata": {
    "scrolled": true
   },
   "outputs": [
    {
     "data": {
      "text/plain": [
       "user_id             0\n",
       "month               0\n",
       "duration           40\n",
       "count_calls        40\n",
       "count_messages    497\n",
       "gb_used            11\n",
       "dtype: int64"
      ]
     },
     "execution_count": 20,
     "metadata": {},
     "output_type": "execute_result"
    }
   ],
   "source": [
    "df_service.isna().sum()"
   ]
  },
  {
   "cell_type": "markdown",
   "metadata": {},
   "source": [
    "Заполним порпуски нулями, так как пропущенные значения могут означать, что пользователь не использовал услугу:"
   ]
  },
  {
   "cell_type": "code",
   "execution_count": 21,
   "metadata": {},
   "outputs": [],
   "source": [
    "df_service[['duration', 'count_messages', 'gb_used']] = (\n",
    "    df_service[['duration', 'count_messages', 'gb_used']].fillna(0))"
   ]
  },
  {
   "cell_type": "markdown",
   "metadata": {},
   "source": [
    "Поскольку пропущенные звонки (`duration` = 0) учитываются при подсчете количества сделанных звонков, пропуски в столбце `count_calls` заполним количеством `duration`:"
   ]
  },
  {
   "cell_type": "code",
   "execution_count": 22,
   "metadata": {},
   "outputs": [],
   "source": [
    "df_service['count_calls'] = df_service['count_calls'].fillna(\n",
    "    df_service.groupby(['user_id', 'month'])['duration'].transform('count'))"
   ]
  },
  {
   "cell_type": "markdown",
   "metadata": {},
   "source": [
    "Объединение таблиц df_service, users, tariffs"
   ]
  },
  {
   "cell_type": "code",
   "execution_count": 23,
   "metadata": {},
   "outputs": [
    {
     "data": {
      "text/html": [
       "<div>\n",
       "<style scoped>\n",
       "    .dataframe tbody tr th:only-of-type {\n",
       "        vertical-align: middle;\n",
       "    }\n",
       "\n",
       "    .dataframe tbody tr th {\n",
       "        vertical-align: top;\n",
       "    }\n",
       "\n",
       "    .dataframe thead th {\n",
       "        text-align: right;\n",
       "    }\n",
       "</style>\n",
       "<table border=\"1\" class=\"dataframe\">\n",
       "  <thead>\n",
       "    <tr style=\"text-align: right;\">\n",
       "      <th></th>\n",
       "      <th>user_id</th>\n",
       "      <th>month</th>\n",
       "      <th>duration</th>\n",
       "      <th>count_calls</th>\n",
       "      <th>count_messages</th>\n",
       "      <th>gb_used</th>\n",
       "      <th>tariff</th>\n",
       "      <th>city</th>\n",
       "      <th>messages_included</th>\n",
       "      <th>mb_per_month_included</th>\n",
       "      <th>minutes_included</th>\n",
       "      <th>rub_monthly_fee</th>\n",
       "      <th>rub_per_gb</th>\n",
       "      <th>rub_per_message</th>\n",
       "      <th>rub_per_minute</th>\n",
       "    </tr>\n",
       "  </thead>\n",
       "  <tbody>\n",
       "    <tr>\n",
       "      <th>0</th>\n",
       "      <td>1000</td>\n",
       "      <td>5</td>\n",
       "      <td>159.0</td>\n",
       "      <td>22.0</td>\n",
       "      <td>22.0</td>\n",
       "      <td>3.0</td>\n",
       "      <td>ultra</td>\n",
       "      <td>Краснодар</td>\n",
       "      <td>1000</td>\n",
       "      <td>30720</td>\n",
       "      <td>3000</td>\n",
       "      <td>1950</td>\n",
       "      <td>150</td>\n",
       "      <td>1</td>\n",
       "      <td>1</td>\n",
       "    </tr>\n",
       "    <tr>\n",
       "      <th>1</th>\n",
       "      <td>1000</td>\n",
       "      <td>6</td>\n",
       "      <td>172.0</td>\n",
       "      <td>43.0</td>\n",
       "      <td>60.0</td>\n",
       "      <td>23.0</td>\n",
       "      <td>ultra</td>\n",
       "      <td>Краснодар</td>\n",
       "      <td>1000</td>\n",
       "      <td>30720</td>\n",
       "      <td>3000</td>\n",
       "      <td>1950</td>\n",
       "      <td>150</td>\n",
       "      <td>1</td>\n",
       "      <td>1</td>\n",
       "    </tr>\n",
       "    <tr>\n",
       "      <th>2</th>\n",
       "      <td>1000</td>\n",
       "      <td>7</td>\n",
       "      <td>340.0</td>\n",
       "      <td>47.0</td>\n",
       "      <td>75.0</td>\n",
       "      <td>14.0</td>\n",
       "      <td>ultra</td>\n",
       "      <td>Краснодар</td>\n",
       "      <td>1000</td>\n",
       "      <td>30720</td>\n",
       "      <td>3000</td>\n",
       "      <td>1950</td>\n",
       "      <td>150</td>\n",
       "      <td>1</td>\n",
       "      <td>1</td>\n",
       "    </tr>\n",
       "    <tr>\n",
       "      <th>3</th>\n",
       "      <td>1000</td>\n",
       "      <td>8</td>\n",
       "      <td>408.0</td>\n",
       "      <td>52.0</td>\n",
       "      <td>81.0</td>\n",
       "      <td>14.0</td>\n",
       "      <td>ultra</td>\n",
       "      <td>Краснодар</td>\n",
       "      <td>1000</td>\n",
       "      <td>30720</td>\n",
       "      <td>3000</td>\n",
       "      <td>1950</td>\n",
       "      <td>150</td>\n",
       "      <td>1</td>\n",
       "      <td>1</td>\n",
       "    </tr>\n",
       "    <tr>\n",
       "      <th>4</th>\n",
       "      <td>1000</td>\n",
       "      <td>9</td>\n",
       "      <td>466.0</td>\n",
       "      <td>58.0</td>\n",
       "      <td>57.0</td>\n",
       "      <td>15.0</td>\n",
       "      <td>ultra</td>\n",
       "      <td>Краснодар</td>\n",
       "      <td>1000</td>\n",
       "      <td>30720</td>\n",
       "      <td>3000</td>\n",
       "      <td>1950</td>\n",
       "      <td>150</td>\n",
       "      <td>1</td>\n",
       "      <td>1</td>\n",
       "    </tr>\n",
       "  </tbody>\n",
       "</table>\n",
       "</div>"
      ],
      "text/plain": [
       "   user_id  month  duration  count_calls  count_messages  gb_used tariff  \\\n",
       "0     1000      5     159.0         22.0            22.0      3.0  ultra   \n",
       "1     1000      6     172.0         43.0            60.0     23.0  ultra   \n",
       "2     1000      7     340.0         47.0            75.0     14.0  ultra   \n",
       "3     1000      8     408.0         52.0            81.0     14.0  ultra   \n",
       "4     1000      9     466.0         58.0            57.0     15.0  ultra   \n",
       "\n",
       "        city  messages_included  mb_per_month_included  minutes_included  \\\n",
       "0  Краснодар               1000                  30720              3000   \n",
       "1  Краснодар               1000                  30720              3000   \n",
       "2  Краснодар               1000                  30720              3000   \n",
       "3  Краснодар               1000                  30720              3000   \n",
       "4  Краснодар               1000                  30720              3000   \n",
       "\n",
       "   rub_monthly_fee  rub_per_gb  rub_per_message  rub_per_minute  \n",
       "0             1950         150                1               1  \n",
       "1             1950         150                1               1  \n",
       "2             1950         150                1               1  \n",
       "3             1950         150                1               1  \n",
       "4             1950         150                1               1  "
      ]
     },
     "execution_count": 23,
     "metadata": {},
     "output_type": "execute_result"
    }
   ],
   "source": [
    "# Объединение таблиц df_service и users по id пользователя и тарифу\n",
    "df = df_service.merge(users[['user_id', 'tariff', 'city']],  how='left', on=['user_id'])\n",
    "\n",
    "# замена названия столбца в таблице tariffs\n",
    "tariffs = tariffs.rename(columns={'tariff_name':'tariff'})\n",
    "\n",
    "# Объединение с таблицей tariffs\n",
    "data = df.merge(tariffs,  how='left', on=['tariff'])\n",
    "data.head()"
   ]
  },
  {
   "cell_type": "code",
   "execution_count": 24,
   "metadata": {},
   "outputs": [
    {
     "name": "stdout",
     "output_type": "stream",
     "text": [
      "<class 'pandas.core.frame.DataFrame'>\n",
      "Int64Index: 3214 entries, 0 to 3213\n",
      "Data columns (total 15 columns):\n",
      " #   Column                 Non-Null Count  Dtype  \n",
      "---  ------                 --------------  -----  \n",
      " 0   user_id                3214 non-null   int64  \n",
      " 1   month                  3214 non-null   int64  \n",
      " 2   duration               3214 non-null   float64\n",
      " 3   count_calls            3214 non-null   float64\n",
      " 4   count_messages         3214 non-null   float64\n",
      " 5   gb_used                3214 non-null   float64\n",
      " 6   tariff                 3214 non-null   object \n",
      " 7   city                   3214 non-null   object \n",
      " 8   messages_included      3214 non-null   int64  \n",
      " 9   mb_per_month_included  3214 non-null   int64  \n",
      " 10  minutes_included       3214 non-null   int64  \n",
      " 11  rub_monthly_fee        3214 non-null   int64  \n",
      " 12  rub_per_gb             3214 non-null   int64  \n",
      " 13  rub_per_message        3214 non-null   int64  \n",
      " 14  rub_per_minute         3214 non-null   int64  \n",
      "dtypes: float64(4), int64(9), object(2)\n",
      "memory usage: 401.8+ KB\n"
     ]
    }
   ],
   "source": [
    "data.info()"
   ]
  },
  {
   "cell_type": "markdown",
   "metadata": {},
   "source": [
    "Рассчитаем помесячную выручку с каждого пользователя:"
   ]
  },
  {
   "cell_type": "code",
   "execution_count": 25,
   "metadata": {},
   "outputs": [],
   "source": [
    "def revenue(row):\n",
    "# вычтем бесплатный лимит из суммарного количества звонков, сообщений и интернет-трафика; \n",
    "# остаток умножаем на значение из тарифного плана;\n",
    "# прибавим абонентскую плату, соответствующую тарифному плану\n",
    "\n",
    "    calls = max(0, (row['duration'] - row['minutes_included']) * row['rub_per_minute'])\n",
    "    sms = max(0, (row['count_messages'] - row['messages_included']) * row['rub_per_message'])\n",
    "    traffic = max(0, (row['gb_used'] - np.ceil(row['mb_per_month_included']/1024)) * row['rub_per_gb'])\n",
    "     \n",
    "    return calls + sms +  traffic + row['rub_monthly_fee']\n",
    "   \n",
    "data['revenue'] = data.apply(revenue, axis=1)"
   ]
  },
  {
   "cell_type": "markdown",
   "metadata": {},
   "source": [
    "### Анализ данных"
   ]
  },
  {
   "cell_type": "markdown",
   "metadata": {},
   "source": [
    "Отфильтруем данные по тарифу:"
   ]
  },
  {
   "cell_type": "code",
   "execution_count": 26,
   "metadata": {},
   "outputs": [
    {
     "name": "stdout",
     "output_type": "stream",
     "text": [
      "<class 'pandas.core.frame.DataFrame'>\n",
      "Int64Index: 2229 entries, 8 to 3212\n",
      "Data columns (total 16 columns):\n",
      " #   Column                 Non-Null Count  Dtype  \n",
      "---  ------                 --------------  -----  \n",
      " 0   user_id                2229 non-null   int64  \n",
      " 1   month                  2229 non-null   int64  \n",
      " 2   duration               2229 non-null   float64\n",
      " 3   count_calls            2229 non-null   float64\n",
      " 4   count_messages         2229 non-null   float64\n",
      " 5   gb_used                2229 non-null   float64\n",
      " 6   tariff                 2229 non-null   object \n",
      " 7   city                   2229 non-null   object \n",
      " 8   messages_included      2229 non-null   int64  \n",
      " 9   mb_per_month_included  2229 non-null   int64  \n",
      " 10  minutes_included       2229 non-null   int64  \n",
      " 11  rub_monthly_fee        2229 non-null   int64  \n",
      " 12  rub_per_gb             2229 non-null   int64  \n",
      " 13  rub_per_message        2229 non-null   int64  \n",
      " 14  rub_per_minute         2229 non-null   int64  \n",
      " 15  revenue                2229 non-null   float64\n",
      "dtypes: float64(5), int64(9), object(2)\n",
      "memory usage: 296.0+ KB\n",
      "None\n",
      "<class 'pandas.core.frame.DataFrame'>\n",
      "Int64Index: 985 entries, 0 to 3213\n",
      "Data columns (total 16 columns):\n",
      " #   Column                 Non-Null Count  Dtype  \n",
      "---  ------                 --------------  -----  \n",
      " 0   user_id                985 non-null    int64  \n",
      " 1   month                  985 non-null    int64  \n",
      " 2   duration               985 non-null    float64\n",
      " 3   count_calls            985 non-null    float64\n",
      " 4   count_messages         985 non-null    float64\n",
      " 5   gb_used                985 non-null    float64\n",
      " 6   tariff                 985 non-null    object \n",
      " 7   city                   985 non-null    object \n",
      " 8   messages_included      985 non-null    int64  \n",
      " 9   mb_per_month_included  985 non-null    int64  \n",
      " 10  minutes_included       985 non-null    int64  \n",
      " 11  rub_monthly_fee        985 non-null    int64  \n",
      " 12  rub_per_gb             985 non-null    int64  \n",
      " 13  rub_per_message        985 non-null    int64  \n",
      " 14  rub_per_minute         985 non-null    int64  \n",
      " 15  revenue                985 non-null    float64\n",
      "dtypes: float64(5), int64(9), object(2)\n",
      "memory usage: 130.8+ KB\n",
      "None\n"
     ]
    }
   ],
   "source": [
    "df_smart = data[data['tariff'] == 'smart']\n",
    "df_ultra = data[data['tariff'] == 'ultra']\n",
    "print(df_smart.info())\n",
    "print(df_ultra.info())"
   ]
  },
  {
   "cell_type": "markdown",
   "metadata": {},
   "source": [
    "Построим гистограмму распределения для параметров: `duration`, `count_messages`, `gb_used` соответвующего тарифа"
   ]
  },
  {
   "cell_type": "code",
   "execution_count": 27,
   "metadata": {
    "code_folding": [
     5
    ]
   },
   "outputs": [
    {
     "data": {
      "image/png": "[encoded data removed]",
      "text/plain": [
       "<Figure size 1152x432 with 3 Axes>"
      ]
     },
     "metadata": {
      "needs_background": "light"
     },
     "output_type": "display_data"
    }
   ],
   "source": [
    "service = ['duration', 'count_messages', 'gb_used']\n",
    "axis_x = ['Количество минут', 'Количество сообщений', 'Количество ГБ']\n",
    "\n",
    "fig, axes = plt.subplots(1, 3, figsize=(16,6))\n",
    "fig.suptitle('Распределение параметров тарифов Смарт и Ультра', fontsize=18)\n",
    "for i, val in enumerate(service):\n",
    "    data.groupby('tariff')['duration'].plot.hist(alpha=0.5, legend=True, bins=25, ax=axes[i], title=f'Распределение параметра {val.upper()}')\n",
    "    axes[i].legend(['Смарт', 'Ультра'])\n",
    "    axes[i].set_xlabel(axis_x[i], fontsize=14)\n",
    "    axes[i].set_ylabel('Число пользователей', fontsize=14)\n",
    "    plt.tight_layout()\n",
    "\n",
    "plt.show() "
   ]
  },
  {
   "cell_type": "markdown",
   "metadata": {},
   "source": [
    "Посчитаем среднее количество, дисперсию и стандартное отклонение. "
   ]
  },
  {
   "cell_type": "code",
   "execution_count": 28,
   "metadata": {},
   "outputs": [
    {
     "data": {
      "text/html": [
       "<div>\n",
       "<style scoped>\n",
       "    .dataframe tbody tr th:only-of-type {\n",
       "        vertical-align: middle;\n",
       "    }\n",
       "\n",
       "    .dataframe tbody tr th {\n",
       "        vertical-align: top;\n",
       "    }\n",
       "\n",
       "    .dataframe thead tr th {\n",
       "        text-align: left;\n",
       "    }\n",
       "</style>\n",
       "<table border=\"1\" class=\"dataframe\">\n",
       "  <thead>\n",
       "    <tr>\n",
       "      <th></th>\n",
       "      <th>tariff</th>\n",
       "      <th colspan=\"3\" halign=\"left\">mean</th>\n",
       "      <th colspan=\"3\" halign=\"left\">median</th>\n",
       "      <th colspan=\"3\" halign=\"left\">var</th>\n",
       "      <th colspan=\"3\" halign=\"left\">std</th>\n",
       "    </tr>\n",
       "    <tr>\n",
       "      <th></th>\n",
       "      <th></th>\n",
       "      <th>count_messages</th>\n",
       "      <th>duration</th>\n",
       "      <th>gb_used</th>\n",
       "      <th>count_messages</th>\n",
       "      <th>duration</th>\n",
       "      <th>gb_used</th>\n",
       "      <th>count_messages</th>\n",
       "      <th>duration</th>\n",
       "      <th>gb_used</th>\n",
       "      <th>count_messages</th>\n",
       "      <th>duration</th>\n",
       "      <th>gb_used</th>\n",
       "    </tr>\n",
       "  </thead>\n",
       "  <tbody>\n",
       "    <tr>\n",
       "      <th>0</th>\n",
       "      <td>smart</td>\n",
       "      <td>33.384029</td>\n",
       "      <td>417.934948</td>\n",
       "      <td>16.328847</td>\n",
       "      <td>28.0</td>\n",
       "      <td>422.0</td>\n",
       "      <td>17.0</td>\n",
       "      <td>796.812958</td>\n",
       "      <td>36219.315784</td>\n",
       "      <td>33.028705</td>\n",
       "      <td>28.227876</td>\n",
       "      <td>190.313730</td>\n",
       "      <td>5.747061</td>\n",
       "    </tr>\n",
       "    <tr>\n",
       "      <th>1</th>\n",
       "      <td>ultra</td>\n",
       "      <td>49.363452</td>\n",
       "      <td>526.623350</td>\n",
       "      <td>19.494416</td>\n",
       "      <td>38.0</td>\n",
       "      <td>518.0</td>\n",
       "      <td>19.0</td>\n",
       "      <td>2285.266143</td>\n",
       "      <td>100873.633397</td>\n",
       "      <td>97.091686</td>\n",
       "      <td>47.804457</td>\n",
       "      <td>317.606098</td>\n",
       "      <td>9.853511</td>\n",
       "    </tr>\n",
       "  </tbody>\n",
       "</table>\n",
       "</div>"
      ],
      "text/plain": [
       "  tariff           mean                                median           \\\n",
       "         count_messages    duration    gb_used count_messages duration   \n",
       "0  smart      33.384029  417.934948  16.328847           28.0    422.0   \n",
       "1  ultra      49.363452  526.623350  19.494416           38.0    518.0   \n",
       "\n",
       "                     var                                      std              \\\n",
       "  gb_used count_messages       duration    gb_used count_messages    duration   \n",
       "0    17.0     796.812958   36219.315784  33.028705      28.227876  190.313730   \n",
       "1    19.0    2285.266143  100873.633397  97.091686      47.804457  317.606098   \n",
       "\n",
       "             \n",
       "    gb_used  \n",
       "0  5.747061  \n",
       "1  9.853511  "
      ]
     },
     "execution_count": 28,
     "metadata": {},
     "output_type": "execute_result"
    }
   ],
   "source": [
    "df_tariff = data.pivot_table(\n",
    "    index='tariff', values=['duration', 'count_messages', 'gb_used'], aggfunc=['mean', 'median', 'var', 'std']).reset_index()\n",
    "df_tariff"
   ]
  },
  {
   "cell_type": "markdown",
   "metadata": {},
   "source": [
    "**Вывод**"
   ]
  },
  {
   "cell_type": "markdown",
   "metadata": {},
   "source": [
    "По постороенным гистограммам и найденным статистикам можно сделать следующие выводы:\n",
    " - большинство пользователей пользуются тарифом `smart`\n",
    " - в тарифе `smart` пользователи чаще тратят 450-550 минут разговора, для тарифа `ultra` количество потраченных маинут в месяц около 600;\n",
    " - большинство пользователей тарифа `smart` тратят в месяц около 40 смс, а большая часть пользователей тарифа `ultra` в среднем тратит 50 смс в месяц;\n",
    " - пользователи тарифа `smart` чаще тратят 17 гб интернет трафика, пользователи тарифа `ultra` чаще тратят 15-20 гб интернет трафика"
   ]
  },
  {
   "cell_type": "markdown",
   "metadata": {},
   "source": [
    "### Проверка гипотез"
   ]
  },
  {
   "cell_type": "markdown",
   "metadata": {},
   "source": [
    "Мы рассчитали выручку с пользователей тарифов «Ультра» и «Смарт». \n",
    "\n",
    "**Проверим гипотезу о том, что средняя выручка пользователей тарифов «Ультра» и «Смарт» различаются.**"
   ]
  },
  {
   "cell_type": "markdown",
   "metadata": {},
   "source": [
    "$H_0$: **revenue_smart = revenue_ultra**\n",
    "\n",
    "$H_1$: **revenue_smart $\\neq$ revenue_ultra**"
   ]
  },
  {
   "cell_type": "markdown",
   "metadata": {},
   "source": [
    "Для проверки гипотезы о равенстве выборочных средних мы используем метод scipy.stats.ttest_ind(). Так как дисперсии в выборках разные, парметр метода `equal_var` выставим False:"
   ]
  },
  {
   "cell_type": "code",
   "execution_count": 29,
   "metadata": {},
   "outputs": [
    {
     "name": "stdout",
     "output_type": "stream",
     "text": [
      "p-значение:  4.2606313931076085e-250\n",
      "Отвергаем нулевую гипотезу\n"
     ]
    }
   ],
   "source": [
    "# Проверка гипотезы\n",
    "\n",
    "# Критический уровень статистической значимости\n",
    "alpha = .01\n",
    "results = st.ttest_ind(df_smart['revenue'], df_ultra['revenue'], equal_var=False)\n",
    "print('p-значение: ', results.pvalue)\n",
    "\n",
    "if results.pvalue < alpha:\n",
    "    print(\"Отвергаем нулевую гипотезу\")\n",
    "else:\n",
    "    print(\"Не получилось отвергнуть нулевую гипотезу\") "
   ]
  },
  {
   "cell_type": "markdown",
   "metadata": {},
   "source": [
    "Мы проверили двустороннюю гипотезу о равенстве средних, нулевая гипотеза не подтвердилсь. Можем сделать вывод, что средние выборок выручки по двум тарифам не равны."
   ]
  },
  {
   "cell_type": "markdown",
   "metadata": {},
   "source": [
    "**Сравним выборочное среднее выручки тирафа «Ультра» и тарифа «Смарт»**"
   ]
  },
  {
   "cell_type": "code",
   "execution_count": 30,
   "metadata": {},
   "outputs": [
    {
     "name": "stdout",
     "output_type": "stream",
     "text": [
      "Среднее выручки тарифа Смарт: 1289.9735307312696\n",
      "Среднее выручки тарифа Утра: 2070.1522842639592\n"
     ]
    }
   ],
   "source": [
    "print(f\"Среднее выручки тарифа Смарт: {df_smart['revenue'].mean()}\")\n",
    "print(f\"Среднее выручки тарифа Утра: {df_ultra['revenue'].mean()}\")"
   ]
  },
  {
   "cell_type": "markdown",
   "metadata": {},
   "source": [
    "Действительно средняя выручка тарифа «Ультра» превышает среднюю выручку тарифа «Смарт»."
   ]
  },
  {
   "cell_type": "markdown",
   "metadata": {},
   "source": [
    "**Проверим гипотезу о том, что средняя выручка пользователей из Москвы отличается от выручки пользователей из других регионов.**"
   ]
  },
  {
   "cell_type": "markdown",
   "metadata": {},
   "source": [
    "$H_0$: **revenue_city_moscow = revenue_city_other**\n",
    "\n",
    "$H_1$: **revenue_city_moscow $\\neq$ revenue_city_other**"
   ]
  },
  {
   "cell_type": "code",
   "execution_count": 31,
   "metadata": {},
   "outputs": [
    {
     "name": "stdout",
     "output_type": "stream",
     "text": [
      "p-значение: 0.5440152911670224\n",
      "Не получилось отвергнуть нулевую гипотезу\n"
     ]
    }
   ],
   "source": [
    "# Сформируем датавреймы по условию \n",
    "revenue_city_moscow = data.query('city == \"Москва\"')['revenue']\n",
    "revenue_city_other = data.query('city != \"Москва\"')['revenue']\n",
    "\n",
    "# Проверка гипотезы\n",
    "# Критический уровень статистической значимости\n",
    "alpha = .05\n",
    "results = st.ttest_ind(revenue_city_moscow, revenue_city_other)\n",
    "print('p-значение:', results.pvalue)\n",
    "\n",
    "if results.pvalue < alpha:\n",
    "    print(\"Отвергаем нулевую гипотезу\")\n",
    "else:\n",
    "    print(\"Не получилось отвергнуть нулевую гипотезу\") "
   ]
  },
  {
   "cell_type": "markdown",
   "metadata": {},
   "source": [
    "Полученное значение p-value говорит о том, что вероятность получить такое или большее различие случайно почти 10%, хотя средние выручки в Москве и других городах различаются. Такая вероятность позволяет сделать вывод что значимого различия между средними выручки нет.\n",
    "\n",
    "Мы не использовали дополнительный параметр equal_var = False, потому что у нас достаточно большие и одинаковые по размеру выборки, к тому же в обеих измерена одна и та же переменная — нет оснований полагать, что разброс будет сильно отличаться."
   ]
  },
  {
   "cell_type": "markdown",
   "metadata": {},
   "source": [
    "### Общий вывод"
   ]
  },
  {
   "cell_type": "markdown",
   "metadata": {},
   "source": [
    "Было проведено исследование тарифов «Ультра» и «Смарт» и выявлено, что средний пользователь тарифа «Ультра» не использует в полной мере включенный пакет услуг. Также подтвердилась гипотеза, что выборочное средние выручки тарифа «Ультра» превышает выборочное средние выручки тарифа «Смарт». Можно сделать вывод, что для компании выгоднее тариф «Ультра»."
   ]
  }
 ],
 "metadata": {
  "ExecuteTimeLog": [
   {
    "duration": 1052,
    "start_time": "2022-01-30T11:56:01.311Z"
   },
   {
    "duration": 360,
    "start_time": "2022-01-30T12:03:21.349Z"
   },
   {
    "duration": 333,
    "start_time": "2022-01-30T12:03:35.165Z"
   },
   {
    "duration": 3,
    "start_time": "2022-01-30T12:03:58.277Z"
   },
   {
    "duration": 137,
    "start_time": "2022-01-30T12:10:23.978Z"
   },
   {
    "duration": 364,
    "start_time": "2022-01-30T12:12:42.933Z"
   },
   {
    "duration": 2,
    "start_time": "2022-01-30T12:14:23.871Z"
   },
   {
    "duration": 14,
    "start_time": "2022-01-30T12:16:27.232Z"
   },
   {
    "duration": 7,
    "start_time": "2022-01-30T12:21:29.467Z"
   },
   {
    "duration": 1056,
    "start_time": "2022-01-30T12:49:14.703Z"
   },
   {
    "duration": 382,
    "start_time": "2022-01-30T12:49:15.761Z"
   },
   {
    "duration": 10,
    "start_time": "2022-01-30T12:49:16.145Z"
   },
   {
    "duration": 8,
    "start_time": "2022-01-30T12:49:16.156Z"
   },
   {
    "duration": 9,
    "start_time": "2022-01-30T12:49:16.166Z"
   },
   {
    "duration": 6,
    "start_time": "2022-01-30T13:01:21.921Z"
   },
   {
    "duration": 8,
    "start_time": "2022-01-30T13:03:46.659Z"
   },
   {
    "duration": 8,
    "start_time": "2022-01-30T13:04:30.362Z"
   },
   {
    "duration": 610,
    "start_time": "2022-02-01T18:01:35.968Z"
   },
   {
    "duration": 1358,
    "start_time": "2022-02-01T18:01:36.581Z"
   },
   {
    "duration": -71,
    "start_time": "2022-02-01T18:01:38.013Z"
   },
   {
    "duration": -72,
    "start_time": "2022-02-01T18:01:38.015Z"
   },
   {
    "duration": -73,
    "start_time": "2022-02-01T18:01:38.017Z"
   },
   {
    "duration": -74,
    "start_time": "2022-02-01T18:01:38.019Z"
   },
   {
    "duration": -74,
    "start_time": "2022-02-01T18:01:38.020Z"
   },
   {
    "duration": -75,
    "start_time": "2022-02-01T18:01:38.022Z"
   },
   {
    "duration": -76,
    "start_time": "2022-02-01T18:01:38.023Z"
   },
   {
    "duration": -76,
    "start_time": "2022-02-01T18:01:38.024Z"
   },
   {
    "duration": -77,
    "start_time": "2022-02-01T18:01:38.026Z"
   },
   {
    "duration": -78,
    "start_time": "2022-02-01T18:01:38.028Z"
   },
   {
    "duration": -78,
    "start_time": "2022-02-01T18:01:38.029Z"
   },
   {
    "duration": -78,
    "start_time": "2022-02-01T18:01:38.030Z"
   },
   {
    "duration": -80,
    "start_time": "2022-02-01T18:01:38.032Z"
   },
   {
    "duration": -80,
    "start_time": "2022-02-01T18:01:38.033Z"
   },
   {
    "duration": -80,
    "start_time": "2022-02-01T18:01:38.034Z"
   },
   {
    "duration": -80,
    "start_time": "2022-02-01T18:01:38.035Z"
   },
   {
    "duration": -80,
    "start_time": "2022-02-01T18:01:38.036Z"
   },
   {
    "duration": -80,
    "start_time": "2022-02-01T18:01:38.037Z"
   },
   {
    "duration": -79,
    "start_time": "2022-02-01T18:01:38.038Z"
   },
   {
    "duration": -79,
    "start_time": "2022-02-01T18:01:38.039Z"
   },
   {
    "duration": -99,
    "start_time": "2022-02-01T18:01:38.060Z"
   },
   {
    "duration": 3,
    "start_time": "2022-02-01T18:01:55.946Z"
   },
   {
    "duration": 425,
    "start_time": "2022-02-01T18:01:55.951Z"
   },
   {
    "duration": 14,
    "start_time": "2022-02-01T18:01:56.378Z"
   },
   {
    "duration": 13,
    "start_time": "2022-02-01T18:01:56.394Z"
   },
   {
    "duration": 21,
    "start_time": "2022-02-01T18:01:56.408Z"
   },
   {
    "duration": 8,
    "start_time": "2022-02-01T18:01:56.431Z"
   },
   {
    "duration": 36,
    "start_time": "2022-02-01T18:01:56.440Z"
   },
   {
    "duration": 7,
    "start_time": "2022-02-01T18:01:56.477Z"
   },
   {
    "duration": 16,
    "start_time": "2022-02-01T18:01:56.486Z"
   },
   {
    "duration": 12,
    "start_time": "2022-02-01T18:01:56.504Z"
   },
   {
    "duration": 43,
    "start_time": "2022-02-01T18:01:56.519Z"
   },
   {
    "duration": 15,
    "start_time": "2022-02-01T18:01:56.564Z"
   },
   {
    "duration": 68,
    "start_time": "2022-02-01T18:01:56.581Z"
   },
   {
    "duration": 50,
    "start_time": "2022-02-01T18:01:56.660Z"
   },
   {
    "duration": 17,
    "start_time": "2022-02-01T18:01:56.712Z"
   },
   {
    "duration": 7,
    "start_time": "2022-02-01T18:01:56.731Z"
   },
   {
    "duration": 79,
    "start_time": "2022-02-01T18:01:56.739Z"
   },
   {
    "duration": 41,
    "start_time": "2022-02-01T18:01:56.820Z"
   },
   {
    "duration": 28,
    "start_time": "2022-02-01T18:01:56.863Z"
   },
   {
    "duration": 7,
    "start_time": "2022-02-01T18:01:56.893Z"
   },
   {
    "duration": 37,
    "start_time": "2022-02-01T18:01:56.902Z"
   },
   {
    "duration": 34,
    "start_time": "2022-02-01T18:01:56.941Z"
   },
   {
    "duration": 14,
    "start_time": "2022-02-01T18:01:56.977Z"
   },
   {
    "duration": 16,
    "start_time": "2022-02-01T18:02:37.750Z"
   },
   {
    "duration": 27,
    "start_time": "2022-02-01T18:08:17.764Z"
   },
   {
    "duration": 38,
    "start_time": "2022-02-01T18:09:01.345Z"
   },
   {
    "duration": 25,
    "start_time": "2022-02-01T18:10:15.857Z"
   },
   {
    "duration": 40,
    "start_time": "2022-02-01T18:24:30.228Z"
   },
   {
    "duration": 50,
    "start_time": "2022-02-01T18:59:46.571Z"
   },
   {
    "duration": 36,
    "start_time": "2022-02-01T19:02:43.372Z"
   },
   {
    "duration": 17,
    "start_time": "2022-02-01T19:02:54.582Z"
   },
   {
    "duration": 17,
    "start_time": "2022-02-01T19:03:06.811Z"
   },
   {
    "duration": 183,
    "start_time": "2022-02-01T19:03:33.376Z"
   },
   {
    "duration": 37,
    "start_time": "2022-02-01T19:05:00.349Z"
   },
   {
    "duration": 21,
    "start_time": "2022-02-01T19:06:08.904Z"
   },
   {
    "duration": 41,
    "start_time": "2022-02-01T19:06:31.759Z"
   },
   {
    "duration": 49,
    "start_time": "2022-02-01T19:07:09.318Z"
   },
   {
    "duration": 2,
    "start_time": "2022-02-01T19:27:25.155Z"
   },
   {
    "duration": 9,
    "start_time": "2022-02-01T19:27:26.548Z"
   },
   {
    "duration": 183,
    "start_time": "2022-02-01T19:27:35.241Z"
   },
   {
    "duration": 177,
    "start_time": "2022-02-01T19:27:47.948Z"
   },
   {
    "duration": 27,
    "start_time": "2022-02-01T19:27:52.414Z"
   },
   {
    "duration": 24,
    "start_time": "2022-02-01T19:29:32.518Z"
   },
   {
    "duration": 40,
    "start_time": "2022-02-01T19:30:14.990Z"
   },
   {
    "duration": 196,
    "start_time": "2022-02-01T19:40:41.062Z"
   },
   {
    "duration": 25,
    "start_time": "2022-02-01T19:40:42.053Z"
   },
   {
    "duration": 8,
    "start_time": "2022-02-01T19:45:21.344Z"
   },
   {
    "duration": 7,
    "start_time": "2022-02-01T19:46:23.695Z"
   },
   {
    "duration": 180,
    "start_time": "2022-02-01T19:47:35.380Z"
   },
   {
    "duration": 9,
    "start_time": "2022-02-01T19:47:36.339Z"
   },
   {
    "duration": 183,
    "start_time": "2022-02-01T19:49:12.471Z"
   },
   {
    "duration": 7,
    "start_time": "2022-02-01T19:49:13.297Z"
   },
   {
    "duration": 178,
    "start_time": "2022-02-01T19:52:18.977Z"
   },
   {
    "duration": 7,
    "start_time": "2022-02-01T19:52:20.599Z"
   },
   {
    "duration": 3,
    "start_time": "2022-02-01T19:52:28.485Z"
   },
   {
    "duration": 425,
    "start_time": "2022-02-01T19:52:28.490Z"
   },
   {
    "duration": 8,
    "start_time": "2022-02-01T19:52:28.918Z"
   },
   {
    "duration": 18,
    "start_time": "2022-02-01T19:52:28.928Z"
   },
   {
    "duration": 22,
    "start_time": "2022-02-01T19:52:28.948Z"
   },
   {
    "duration": 9,
    "start_time": "2022-02-01T19:52:28.972Z"
   },
   {
    "duration": 29,
    "start_time": "2022-02-01T19:52:28.983Z"
   },
   {
    "duration": 7,
    "start_time": "2022-02-01T19:52:29.014Z"
   },
   {
    "duration": 34,
    "start_time": "2022-02-01T19:52:29.025Z"
   },
   {
    "duration": 9,
    "start_time": "2022-02-01T19:52:29.061Z"
   },
   {
    "duration": 23,
    "start_time": "2022-02-01T19:52:29.071Z"
   },
   {
    "duration": 22,
    "start_time": "2022-02-01T19:52:29.096Z"
   },
   {
    "duration": 72,
    "start_time": "2022-02-01T19:52:29.119Z"
   },
   {
    "duration": 50,
    "start_time": "2022-02-01T19:52:29.193Z"
   },
   {
    "duration": 24,
    "start_time": "2022-02-01T19:52:29.245Z"
   },
   {
    "duration": 14,
    "start_time": "2022-02-01T19:52:29.271Z"
   },
   {
    "duration": 74,
    "start_time": "2022-02-01T19:52:29.288Z"
   },
   {
    "duration": 25,
    "start_time": "2022-02-01T19:52:29.363Z"
   },
   {
    "duration": 22,
    "start_time": "2022-02-01T19:52:29.390Z"
   },
   {
    "duration": 4,
    "start_time": "2022-02-01T19:52:29.414Z"
   },
   {
    "duration": 41,
    "start_time": "2022-02-01T19:52:29.420Z"
   },
   {
    "duration": 33,
    "start_time": "2022-02-01T19:52:29.462Z"
   },
   {
    "duration": 2,
    "start_time": "2022-02-01T19:52:29.497Z"
   },
   {
    "duration": 14,
    "start_time": "2022-02-01T19:52:29.500Z"
   },
   {
    "duration": 198,
    "start_time": "2022-02-01T19:52:29.515Z"
   },
   {
    "duration": 7,
    "start_time": "2022-02-01T19:52:29.715Z"
   },
   {
    "duration": 19,
    "start_time": "2022-02-01T19:53:29.343Z"
   },
   {
    "duration": 19,
    "start_time": "2022-02-01T19:53:49.715Z"
   },
   {
    "duration": 9,
    "start_time": "2022-02-01T19:57:15.603Z"
   },
   {
    "duration": 6,
    "start_time": "2022-02-01T19:57:18.147Z"
   },
   {
    "duration": 12,
    "start_time": "2022-02-01T19:57:48.046Z"
   },
   {
    "duration": 12,
    "start_time": "2022-02-01T19:59:15.485Z"
   },
   {
    "duration": 6,
    "start_time": "2022-02-01T19:59:18.389Z"
   },
   {
    "duration": 372,
    "start_time": "2022-02-01T20:02:03.373Z"
   },
   {
    "duration": 16,
    "start_time": "2022-02-01T20:02:23.754Z"
   },
   {
    "duration": 7,
    "start_time": "2022-02-01T20:02:25.271Z"
   },
   {
    "duration": 66,
    "start_time": "2022-02-01T20:03:20.275Z"
   },
   {
    "duration": 16,
    "start_time": "2022-02-01T20:03:28.446Z"
   },
   {
    "duration": 8,
    "start_time": "2022-02-01T20:03:29.173Z"
   },
   {
    "duration": 17,
    "start_time": "2022-02-01T20:03:39.659Z"
   },
   {
    "duration": 304,
    "start_time": "2022-02-01T20:07:55.672Z"
   },
   {
    "duration": 15,
    "start_time": "2022-02-01T20:08:30.240Z"
   },
   {
    "duration": 15,
    "start_time": "2022-02-01T20:09:19.053Z"
   },
   {
    "duration": 6,
    "start_time": "2022-02-01T20:09:21.921Z"
   },
   {
    "duration": 13,
    "start_time": "2022-02-01T20:09:38.286Z"
   },
   {
    "duration": 8,
    "start_time": "2022-02-01T20:09:59.376Z"
   },
   {
    "duration": 220,
    "start_time": "2022-02-01T20:10:24.425Z"
   },
   {
    "duration": 11,
    "start_time": "2022-02-01T20:10:27.075Z"
   },
   {
    "duration": 13,
    "start_time": "2022-02-01T20:25:02.601Z"
   },
   {
    "duration": 15,
    "start_time": "2022-02-01T20:26:53.036Z"
   },
   {
    "duration": 25,
    "start_time": "2022-02-01T20:27:38.725Z"
   },
   {
    "duration": 48,
    "start_time": "2022-02-01T20:28:31.343Z"
   },
   {
    "duration": 32,
    "start_time": "2022-02-01T20:30:14.458Z"
   },
   {
    "duration": 35,
    "start_time": "2022-02-01T20:30:57.338Z"
   },
   {
    "duration": 5,
    "start_time": "2022-02-01T20:34:58.987Z"
   },
   {
    "duration": 254,
    "start_time": "2022-02-01T20:35:33.416Z"
   },
   {
    "duration": 415,
    "start_time": "2022-02-02T07:15:15.525Z"
   },
   {
    "duration": 318,
    "start_time": "2022-02-02T07:15:20.292Z"
   },
   {
    "duration": 745,
    "start_time": "2022-02-02T07:15:24.527Z"
   },
   {
    "duration": 505,
    "start_time": "2022-02-02T07:15:25.275Z"
   },
   {
    "duration": 23,
    "start_time": "2022-02-02T07:15:25.784Z"
   },
   {
    "duration": 19,
    "start_time": "2022-02-02T07:15:25.811Z"
   },
   {
    "duration": 29,
    "start_time": "2022-02-02T07:15:25.833Z"
   },
   {
    "duration": 12,
    "start_time": "2022-02-02T07:15:25.865Z"
   },
   {
    "duration": 60,
    "start_time": "2022-02-02T07:15:25.880Z"
   },
   {
    "duration": 11,
    "start_time": "2022-02-02T07:15:25.943Z"
   },
   {
    "duration": 21,
    "start_time": "2022-02-02T07:15:25.960Z"
   },
   {
    "duration": 43,
    "start_time": "2022-02-02T07:15:25.983Z"
   },
   {
    "duration": 15,
    "start_time": "2022-02-02T07:15:26.028Z"
   },
   {
    "duration": 9,
    "start_time": "2022-02-02T07:15:26.046Z"
   },
   {
    "duration": 130,
    "start_time": "2022-02-02T07:15:26.058Z"
   },
   {
    "duration": 82,
    "start_time": "2022-02-02T07:15:26.190Z"
   },
   {
    "duration": 20,
    "start_time": "2022-02-02T07:15:26.275Z"
   },
   {
    "duration": 26,
    "start_time": "2022-02-02T07:15:26.297Z"
   },
   {
    "duration": 71,
    "start_time": "2022-02-02T07:15:26.325Z"
   },
   {
    "duration": 53,
    "start_time": "2022-02-02T07:15:26.398Z"
   },
   {
    "duration": 36,
    "start_time": "2022-02-02T07:15:26.453Z"
   },
   {
    "duration": 11,
    "start_time": "2022-02-02T07:15:26.492Z"
   },
   {
    "duration": 38,
    "start_time": "2022-02-02T07:15:26.505Z"
   },
   {
    "duration": 3,
    "start_time": "2022-02-02T07:15:26.545Z"
   },
   {
    "duration": 4,
    "start_time": "2022-02-02T07:15:33.141Z"
   },
   {
    "duration": 38,
    "start_time": "2022-02-02T07:15:33.641Z"
   },
   {
    "duration": 35,
    "start_time": "2022-02-02T07:17:03.858Z"
   },
   {
    "duration": 30,
    "start_time": "2022-02-02T07:17:43.320Z"
   },
   {
    "duration": 31,
    "start_time": "2022-02-02T07:21:56.131Z"
   },
   {
    "duration": 12,
    "start_time": "2022-02-02T07:21:57.071Z"
   },
   {
    "duration": 318,
    "start_time": "2022-02-02T07:27:59.857Z"
   },
   {
    "duration": 372,
    "start_time": "2022-02-02T07:28:06.896Z"
   },
   {
    "duration": 747,
    "start_time": "2022-02-02T07:28:59.941Z"
   },
   {
    "duration": 553,
    "start_time": "2022-02-02T07:29:00.690Z"
   },
   {
    "duration": 11,
    "start_time": "2022-02-02T07:29:01.245Z"
   },
   {
    "duration": 19,
    "start_time": "2022-02-02T07:29:01.259Z"
   },
   {
    "duration": 27,
    "start_time": "2022-02-02T07:29:01.281Z"
   },
   {
    "duration": 24,
    "start_time": "2022-02-02T07:29:01.310Z"
   },
   {
    "duration": 31,
    "start_time": "2022-02-02T07:29:01.336Z"
   },
   {
    "duration": 10,
    "start_time": "2022-02-02T07:29:01.369Z"
   },
   {
    "duration": 46,
    "start_time": "2022-02-02T07:29:01.383Z"
   },
   {
    "duration": 12,
    "start_time": "2022-02-02T07:29:01.432Z"
   },
   {
    "duration": 41,
    "start_time": "2022-02-02T07:29:01.446Z"
   },
   {
    "duration": 23,
    "start_time": "2022-02-02T07:29:01.490Z"
   },
   {
    "duration": 91,
    "start_time": "2022-02-02T07:29:01.515Z"
   },
   {
    "duration": 73,
    "start_time": "2022-02-02T07:29:01.609Z"
   },
   {
    "duration": 20,
    "start_time": "2022-02-02T07:29:01.685Z"
   },
   {
    "duration": 20,
    "start_time": "2022-02-02T07:29:01.707Z"
   },
   {
    "duration": 62,
    "start_time": "2022-02-02T07:29:01.729Z"
   },
   {
    "duration": 57,
    "start_time": "2022-02-02T07:29:01.793Z"
   },
   {
    "duration": 32,
    "start_time": "2022-02-02T07:29:01.852Z"
   },
   {
    "duration": 6,
    "start_time": "2022-02-02T07:29:01.886Z"
   },
   {
    "duration": 50,
    "start_time": "2022-02-02T07:29:01.895Z"
   },
   {
    "duration": 30,
    "start_time": "2022-02-02T07:29:01.948Z"
   },
   {
    "duration": 10,
    "start_time": "2022-02-02T07:29:01.980Z"
   },
   {
    "duration": 333,
    "start_time": "2022-02-02T07:29:01.993Z"
   },
   {
    "duration": 10,
    "start_time": "2022-02-02T07:29:02.328Z"
   },
   {
    "duration": 301,
    "start_time": "2022-02-02T07:29:02.340Z"
   },
   {
    "duration": 98,
    "start_time": "2022-02-02T07:29:02.647Z"
   },
   {
    "duration": -36,
    "start_time": "2022-02-02T07:29:02.783Z"
   },
   {
    "duration": -35,
    "start_time": "2022-02-02T07:29:02.783Z"
   },
   {
    "duration": 434,
    "start_time": "2022-02-02T07:30:37.640Z"
   },
   {
    "duration": 288,
    "start_time": "2022-02-02T07:30:59.805Z"
   },
   {
    "duration": 359,
    "start_time": "2022-02-02T07:31:12.384Z"
   },
   {
    "duration": 482,
    "start_time": "2022-02-02T07:31:18.413Z"
   },
   {
    "duration": 490,
    "start_time": "2022-02-02T07:32:34.705Z"
   },
   {
    "duration": 419,
    "start_time": "2022-02-02T07:33:02.786Z"
   },
   {
    "duration": 459,
    "start_time": "2022-02-02T07:33:41.437Z"
   },
   {
    "duration": 937,
    "start_time": "2022-02-02T07:34:01.706Z"
   },
   {
    "duration": 929,
    "start_time": "2022-02-02T07:34:23.294Z"
   },
   {
    "duration": 871,
    "start_time": "2022-02-02T07:37:49.684Z"
   },
   {
    "duration": 459,
    "start_time": "2022-02-02T07:39:32.075Z"
   },
   {
    "duration": 884,
    "start_time": "2022-02-02T07:47:09.005Z"
   },
   {
    "duration": 666,
    "start_time": "2022-02-02T07:47:38.788Z"
   },
   {
    "duration": 96,
    "start_time": "2022-02-02T07:48:12.778Z"
   },
   {
    "duration": 597,
    "start_time": "2022-02-02T07:48:20.600Z"
   },
   {
    "duration": 599,
    "start_time": "2022-02-02T07:48:58.946Z"
   },
   {
    "duration": 580,
    "start_time": "2022-02-02T07:49:05.405Z"
   },
   {
    "duration": 1144,
    "start_time": "2022-02-02T07:52:02.244Z"
   },
   {
    "duration": 1055,
    "start_time": "2022-02-02T07:52:30.168Z"
   },
   {
    "duration": 962,
    "start_time": "2022-02-02T07:52:34.079Z"
   },
   {
    "duration": 1016,
    "start_time": "2022-02-02T07:53:05.464Z"
   },
   {
    "duration": 1105,
    "start_time": "2022-02-02T07:53:19.887Z"
   },
   {
    "duration": 573,
    "start_time": "2022-02-02T07:54:55.957Z"
   },
   {
    "duration": 989,
    "start_time": "2022-02-02T07:55:05.426Z"
   },
   {
    "duration": 866,
    "start_time": "2022-02-02T07:58:21.626Z"
   },
   {
    "duration": 885,
    "start_time": "2022-02-02T07:58:27.685Z"
   },
   {
    "duration": 505,
    "start_time": "2022-02-02T07:58:40.421Z"
   },
   {
    "duration": 522,
    "start_time": "2022-02-02T07:58:46.460Z"
   },
   {
    "duration": 517,
    "start_time": "2022-02-02T07:58:50.242Z"
   },
   {
    "duration": 811,
    "start_time": "2022-02-02T07:59:56.405Z"
   },
   {
    "duration": 849,
    "start_time": "2022-02-02T08:06:14.912Z"
   },
   {
    "duration": 786,
    "start_time": "2022-02-02T08:06:40.001Z"
   },
   {
    "duration": 811,
    "start_time": "2022-02-02T08:07:05.687Z"
   },
   {
    "duration": 909,
    "start_time": "2022-02-02T08:07:32.296Z"
   },
   {
    "duration": 952,
    "start_time": "2022-02-02T08:09:54.547Z"
   },
   {
    "duration": 1011,
    "start_time": "2022-02-02T08:10:05.704Z"
   },
   {
    "duration": 1310,
    "start_time": "2022-02-02T09:45:23.997Z"
   },
   {
    "duration": 417,
    "start_time": "2022-02-02T09:45:25.310Z"
   },
   {
    "duration": 13,
    "start_time": "2022-02-02T09:45:25.730Z"
   },
   {
    "duration": 14,
    "start_time": "2022-02-02T09:45:25.745Z"
   },
   {
    "duration": 23,
    "start_time": "2022-02-02T09:45:25.761Z"
   },
   {
    "duration": 12,
    "start_time": "2022-02-02T09:45:25.787Z"
   },
   {
    "duration": 23,
    "start_time": "2022-02-02T09:45:25.801Z"
   },
   {
    "duration": 7,
    "start_time": "2022-02-02T09:45:25.828Z"
   },
   {
    "duration": 17,
    "start_time": "2022-02-02T09:45:25.837Z"
   },
   {
    "duration": 8,
    "start_time": "2022-02-02T09:45:25.856Z"
   },
   {
    "duration": 12,
    "start_time": "2022-02-02T09:45:25.899Z"
   },
   {
    "duration": 14,
    "start_time": "2022-02-02T09:45:25.913Z"
   },
   {
    "duration": 108,
    "start_time": "2022-02-02T09:45:25.929Z"
   },
   {
    "duration": 70,
    "start_time": "2022-02-02T09:45:26.039Z"
   },
   {
    "duration": 23,
    "start_time": "2022-02-02T09:45:26.112Z"
   },
   {
    "duration": 5,
    "start_time": "2022-02-02T09:45:26.137Z"
   },
   {
    "duration": 89,
    "start_time": "2022-02-02T09:45:26.144Z"
   },
   {
    "duration": 28,
    "start_time": "2022-02-02T09:45:26.235Z"
   },
   {
    "duration": 41,
    "start_time": "2022-02-02T09:45:26.265Z"
   },
   {
    "duration": 9,
    "start_time": "2022-02-02T09:45:26.308Z"
   },
   {
    "duration": 21,
    "start_time": "2022-02-02T09:45:26.320Z"
   },
   {
    "duration": 21,
    "start_time": "2022-02-02T09:45:26.342Z"
   },
   {
    "duration": 33,
    "start_time": "2022-02-02T09:45:26.366Z"
   },
   {
    "duration": 254,
    "start_time": "2022-02-02T09:45:26.402Z"
   },
   {
    "duration": 6,
    "start_time": "2022-02-02T09:45:26.658Z"
   },
   {
    "duration": 770,
    "start_time": "2022-02-02T09:45:26.665Z"
   },
   {
    "duration": 39,
    "start_time": "2022-02-02T09:45:27.437Z"
   },
   {
    "duration": 64,
    "start_time": "2022-02-02T09:45:27.478Z"
   },
   {
    "duration": 732,
    "start_time": "2022-02-02T09:50:29.663Z"
   },
   {
    "duration": 97,
    "start_time": "2022-02-02T09:51:52.725Z"
   },
   {
    "duration": 821,
    "start_time": "2022-02-02T09:52:14.803Z"
   },
   {
    "duration": 5,
    "start_time": "2022-02-02T09:53:30.347Z"
   },
   {
    "duration": 7,
    "start_time": "2022-02-02T09:53:43.746Z"
   },
   {
    "duration": 6,
    "start_time": "2022-02-02T09:54:02.167Z"
   },
   {
    "duration": 751,
    "start_time": "2022-02-02T10:07:06.907Z"
   },
   {
    "duration": 582,
    "start_time": "2022-02-02T10:10:25.656Z"
   },
   {
    "duration": 746,
    "start_time": "2022-02-02T10:11:14.201Z"
   },
   {
    "duration": 153,
    "start_time": "2022-02-02T10:13:23.610Z"
   },
   {
    "duration": 815,
    "start_time": "2022-02-02T10:13:31.677Z"
   },
   {
    "duration": 686,
    "start_time": "2022-02-02T10:13:50.517Z"
   },
   {
    "duration": 665,
    "start_time": "2022-02-02T10:14:15.591Z"
   },
   {
    "duration": 740,
    "start_time": "2022-02-02T10:14:35.214Z"
   },
   {
    "duration": 875,
    "start_time": "2022-02-02T10:15:14.145Z"
   },
   {
    "duration": 719,
    "start_time": "2022-02-02T10:15:44.621Z"
   },
   {
    "duration": 84,
    "start_time": "2022-02-02T10:16:07.207Z"
   },
   {
    "duration": 745,
    "start_time": "2022-02-02T10:16:12.395Z"
   },
   {
    "duration": 768,
    "start_time": "2022-02-02T10:16:30.662Z"
   },
   {
    "duration": 765,
    "start_time": "2022-02-02T10:17:07.588Z"
   },
   {
    "duration": 95,
    "start_time": "2022-02-02T10:17:34.568Z"
   },
   {
    "duration": 876,
    "start_time": "2022-02-02T10:17:48.565Z"
   },
   {
    "duration": 793,
    "start_time": "2022-02-02T10:18:50.837Z"
   },
   {
    "duration": 772,
    "start_time": "2022-02-02T10:19:22.383Z"
   },
   {
    "duration": 830,
    "start_time": "2022-02-02T10:20:05.895Z"
   },
   {
    "duration": 892,
    "start_time": "2022-02-02T10:22:01.656Z"
   },
   {
    "duration": 1905,
    "start_time": "2022-02-02T10:30:05.150Z"
   },
   {
    "duration": 210,
    "start_time": "2022-02-02T10:30:25.388Z"
   },
   {
    "duration": 348,
    "start_time": "2022-02-02T10:30:38.575Z"
   },
   {
    "duration": 1002,
    "start_time": "2022-02-02T10:30:52.177Z"
   },
   {
    "duration": 900,
    "start_time": "2022-02-02T10:31:00.425Z"
   },
   {
    "duration": 1118,
    "start_time": "2022-02-02T10:31:15.557Z"
   },
   {
    "duration": 287,
    "start_time": "2022-02-02T10:31:45.389Z"
   },
   {
    "duration": 84,
    "start_time": "2022-02-02T10:31:57.002Z"
   },
   {
    "duration": 1072,
    "start_time": "2022-02-02T10:32:01.377Z"
   },
   {
    "duration": 1111,
    "start_time": "2022-02-02T10:32:15.474Z"
   },
   {
    "duration": 1058,
    "start_time": "2022-02-02T10:32:33.533Z"
   },
   {
    "duration": 1258,
    "start_time": "2022-02-02T10:33:33.990Z"
   },
   {
    "duration": 1023,
    "start_time": "2022-02-02T10:33:51.622Z"
   },
   {
    "duration": 7,
    "start_time": "2022-02-02T10:36:07.351Z"
   },
   {
    "duration": 321,
    "start_time": "2022-02-02T10:37:21.891Z"
   },
   {
    "duration": 206,
    "start_time": "2022-02-02T10:37:34.564Z"
   },
   {
    "duration": 238,
    "start_time": "2022-02-02T10:37:40.275Z"
   },
   {
    "duration": 273,
    "start_time": "2022-02-02T10:38:12.891Z"
   },
   {
    "duration": 246,
    "start_time": "2022-02-02T10:39:52.511Z"
   },
   {
    "duration": 8260,
    "start_time": "2022-02-02T10:41:30.356Z"
   },
   {
    "duration": 7188,
    "start_time": "2022-02-02T10:43:01.417Z"
   },
   {
    "duration": 49,
    "start_time": "2022-02-02T10:44:01.544Z"
   },
   {
    "duration": 14,
    "start_time": "2022-02-02T11:24:25.578Z"
   },
   {
    "duration": 48,
    "start_time": "2022-02-02T11:29:15.071Z"
   },
   {
    "duration": 20,
    "start_time": "2022-02-02T11:40:23.943Z"
   },
   {
    "duration": 139,
    "start_time": "2022-02-02T12:08:20.271Z"
   },
   {
    "duration": 280,
    "start_time": "2022-02-02T12:24:09.903Z"
   },
   {
    "duration": 3,
    "start_time": "2022-02-02T12:24:17.129Z"
   },
   {
    "duration": 434,
    "start_time": "2022-02-02T12:24:17.133Z"
   },
   {
    "duration": 9,
    "start_time": "2022-02-02T12:24:17.569Z"
   },
   {
    "duration": 35,
    "start_time": "2022-02-02T12:24:17.580Z"
   },
   {
    "duration": 40,
    "start_time": "2022-02-02T12:24:17.616Z"
   },
   {
    "duration": 13,
    "start_time": "2022-02-02T12:24:17.657Z"
   },
   {
    "duration": 51,
    "start_time": "2022-02-02T12:24:17.671Z"
   },
   {
    "duration": 7,
    "start_time": "2022-02-02T12:24:17.723Z"
   },
   {
    "duration": 33,
    "start_time": "2022-02-02T12:24:17.733Z"
   },
   {
    "duration": 23,
    "start_time": "2022-02-02T12:24:17.769Z"
   },
   {
    "duration": 23,
    "start_time": "2022-02-02T12:24:17.794Z"
   },
   {
    "duration": 30,
    "start_time": "2022-02-02T12:24:17.818Z"
   },
   {
    "duration": 66,
    "start_time": "2022-02-02T12:24:17.850Z"
   },
   {
    "duration": 54,
    "start_time": "2022-02-02T12:24:17.918Z"
   },
   {
    "duration": 13,
    "start_time": "2022-02-02T12:24:17.973Z"
   },
   {
    "duration": 13,
    "start_time": "2022-02-02T12:24:17.988Z"
   },
   {
    "duration": 48,
    "start_time": "2022-02-02T12:24:18.003Z"
   },
   {
    "duration": 26,
    "start_time": "2022-02-02T12:24:18.052Z"
   },
   {
    "duration": 41,
    "start_time": "2022-02-02T12:24:18.079Z"
   },
   {
    "duration": 4,
    "start_time": "2022-02-02T12:24:18.122Z"
   },
   {
    "duration": 24,
    "start_time": "2022-02-02T12:24:18.128Z"
   },
   {
    "duration": 20,
    "start_time": "2022-02-02T12:24:18.154Z"
   },
   {
    "duration": 29,
    "start_time": "2022-02-02T12:24:18.175Z"
   },
   {
    "duration": 219,
    "start_time": "2022-02-02T12:24:18.206Z"
   },
   {
    "duration": 14,
    "start_time": "2022-02-02T12:24:18.427Z"
   },
   {
    "duration": 1095,
    "start_time": "2022-02-02T12:24:18.443Z"
   },
   {
    "duration": 58,
    "start_time": "2022-02-02T12:24:19.541Z"
   },
   {
    "duration": 272,
    "start_time": "2022-02-02T12:24:19.600Z"
   },
   {
    "duration": 465,
    "start_time": "2022-02-02T12:24:37.442Z"
   },
   {
    "duration": 5,
    "start_time": "2022-02-02T12:24:44.232Z"
   },
   {
    "duration": 5,
    "start_time": "2022-02-02T12:25:17.241Z"
   },
   {
    "duration": 5,
    "start_time": "2022-02-02T12:25:28.332Z"
   },
   {
    "duration": 6,
    "start_time": "2022-02-02T12:25:34.672Z"
   },
   {
    "duration": 304,
    "start_time": "2022-02-02T12:29:27.313Z"
   },
   {
    "duration": 293,
    "start_time": "2022-02-02T12:29:45.702Z"
   },
   {
    "duration": 261,
    "start_time": "2022-02-02T12:29:49.390Z"
   },
   {
    "duration": 254,
    "start_time": "2022-02-02T12:30:09.515Z"
   },
   {
    "duration": 210,
    "start_time": "2022-02-02T12:30:15.125Z"
   },
   {
    "duration": 217,
    "start_time": "2022-02-02T12:30:47.333Z"
   },
   {
    "duration": 221,
    "start_time": "2022-02-02T12:30:56.551Z"
   },
   {
    "duration": 22,
    "start_time": "2022-02-02T12:47:59.472Z"
   },
   {
    "duration": 3,
    "start_time": "2022-02-02T12:48:26.669Z"
   },
   {
    "duration": 446,
    "start_time": "2022-02-02T12:48:26.674Z"
   },
   {
    "duration": 9,
    "start_time": "2022-02-02T12:48:27.122Z"
   },
   {
    "duration": 17,
    "start_time": "2022-02-02T12:48:27.132Z"
   },
   {
    "duration": 21,
    "start_time": "2022-02-02T12:48:27.151Z"
   },
   {
    "duration": 9,
    "start_time": "2022-02-02T12:48:27.174Z"
   },
   {
    "duration": 32,
    "start_time": "2022-02-02T12:48:27.185Z"
   },
   {
    "duration": 7,
    "start_time": "2022-02-02T12:48:27.219Z"
   },
   {
    "duration": 28,
    "start_time": "2022-02-02T12:48:27.229Z"
   },
   {
    "duration": 8,
    "start_time": "2022-02-02T12:48:27.259Z"
   },
   {
    "duration": 30,
    "start_time": "2022-02-02T12:48:27.269Z"
   },
   {
    "duration": 11,
    "start_time": "2022-02-02T12:48:27.303Z"
   },
   {
    "duration": 85,
    "start_time": "2022-02-02T12:48:27.316Z"
   },
   {
    "duration": 61,
    "start_time": "2022-02-02T12:48:27.404Z"
   },
   {
    "duration": 32,
    "start_time": "2022-02-02T12:48:27.467Z"
   },
   {
    "duration": 8,
    "start_time": "2022-02-02T12:48:27.502Z"
   },
   {
    "duration": 49,
    "start_time": "2022-02-02T12:48:27.513Z"
   },
   {
    "duration": 40,
    "start_time": "2022-02-02T12:48:27.563Z"
   },
   {
    "duration": 26,
    "start_time": "2022-02-02T12:48:27.606Z"
   },
   {
    "duration": 5,
    "start_time": "2022-02-02T12:48:27.634Z"
   },
   {
    "duration": 19,
    "start_time": "2022-02-02T12:48:27.641Z"
   },
   {
    "duration": 55,
    "start_time": "2022-02-02T12:48:27.661Z"
   },
   {
    "duration": 7,
    "start_time": "2022-02-02T12:48:27.718Z"
   },
   {
    "duration": 225,
    "start_time": "2022-02-02T12:48:27.727Z"
   },
   {
    "duration": 13,
    "start_time": "2022-02-02T12:48:27.954Z"
   },
   {
    "duration": 1140,
    "start_time": "2022-02-02T12:48:27.969Z"
   },
   {
    "duration": 48,
    "start_time": "2022-02-02T12:48:29.114Z"
   },
   {
    "duration": 6,
    "start_time": "2022-02-02T12:48:29.165Z"
   },
   {
    "duration": 6,
    "start_time": "2022-02-02T12:51:07.193Z"
   },
   {
    "duration": 7,
    "start_time": "2022-02-02T12:51:40.950Z"
   },
   {
    "duration": 148,
    "start_time": "2022-02-02T12:51:49.190Z"
   },
   {
    "duration": 5,
    "start_time": "2022-02-02T12:52:28.035Z"
   },
   {
    "duration": 8,
    "start_time": "2022-02-02T12:53:16.516Z"
   },
   {
    "duration": 13,
    "start_time": "2022-02-02T12:54:57.495Z"
   },
   {
    "duration": 6,
    "start_time": "2022-02-02T12:55:06.866Z"
   },
   {
    "duration": 13,
    "start_time": "2022-02-02T12:57:04.505Z"
   },
   {
    "duration": 11,
    "start_time": "2022-02-02T13:02:23.833Z"
   },
   {
    "duration": 16,
    "start_time": "2022-02-02T13:02:28.291Z"
   },
   {
    "duration": 8,
    "start_time": "2022-02-02T13:57:57.510Z"
   },
   {
    "duration": 8,
    "start_time": "2022-02-02T14:00:07.999Z"
   },
   {
    "duration": 4,
    "start_time": "2022-02-02T14:03:47.968Z"
   },
   {
    "duration": 4,
    "start_time": "2022-02-02T14:04:06.574Z"
   },
   {
    "duration": 4,
    "start_time": "2022-02-02T14:06:21.918Z"
   },
   {
    "duration": 7,
    "start_time": "2022-02-02T14:07:18.409Z"
   },
   {
    "duration": 4,
    "start_time": "2022-02-02T14:20:20.254Z"
   },
   {
    "duration": 501,
    "start_time": "2022-02-02T14:20:20.261Z"
   },
   {
    "duration": 9,
    "start_time": "2022-02-02T14:20:20.765Z"
   },
   {
    "duration": 18,
    "start_time": "2022-02-02T14:20:20.776Z"
   },
   {
    "duration": 43,
    "start_time": "2022-02-02T14:20:20.796Z"
   },
   {
    "duration": 15,
    "start_time": "2022-02-02T14:20:20.841Z"
   },
   {
    "duration": 26,
    "start_time": "2022-02-02T14:20:20.858Z"
   },
   {
    "duration": 12,
    "start_time": "2022-02-02T14:20:20.902Z"
   },
   {
    "duration": 30,
    "start_time": "2022-02-02T14:20:20.917Z"
   },
   {
    "duration": 10,
    "start_time": "2022-02-02T14:20:20.950Z"
   },
   {
    "duration": 18,
    "start_time": "2022-02-02T14:20:20.962Z"
   },
   {
    "duration": 44,
    "start_time": "2022-02-02T14:20:20.982Z"
   },
   {
    "duration": 72,
    "start_time": "2022-02-02T14:20:21.029Z"
   },
   {
    "duration": 66,
    "start_time": "2022-02-02T14:20:21.108Z"
   },
   {
    "duration": 10,
    "start_time": "2022-02-02T14:20:21.176Z"
   },
   {
    "duration": 18,
    "start_time": "2022-02-02T14:20:21.189Z"
   },
   {
    "duration": 77,
    "start_time": "2022-02-02T14:20:21.209Z"
   },
   {
    "duration": 36,
    "start_time": "2022-02-02T14:20:21.287Z"
   },
   {
    "duration": 31,
    "start_time": "2022-02-02T14:20:21.326Z"
   },
   {
    "duration": 5,
    "start_time": "2022-02-02T14:20:21.359Z"
   },
   {
    "duration": 37,
    "start_time": "2022-02-02T14:20:21.365Z"
   },
   {
    "duration": 40,
    "start_time": "2022-02-02T14:20:21.404Z"
   },
   {
    "duration": 18,
    "start_time": "2022-02-02T14:20:21.447Z"
   },
   {
    "duration": 262,
    "start_time": "2022-02-02T14:20:21.468Z"
   },
   {
    "duration": 15,
    "start_time": "2022-02-02T14:20:21.732Z"
   },
   {
    "duration": 1209,
    "start_time": "2022-02-02T14:20:21.749Z"
   },
   {
    "duration": 65,
    "start_time": "2022-02-02T14:20:22.962Z"
   },
   {
    "duration": 6,
    "start_time": "2022-02-02T14:20:23.029Z"
   },
   {
    "duration": 9,
    "start_time": "2022-02-02T14:20:23.038Z"
   },
   {
    "duration": 12,
    "start_time": "2022-02-02T14:20:23.050Z"
   },
   {
    "duration": 40,
    "start_time": "2022-02-02T14:20:23.064Z"
   },
   {
    "duration": 3,
    "start_time": "2022-02-02T14:21:18.739Z"
   },
   {
    "duration": 426,
    "start_time": "2022-02-02T14:21:18.744Z"
   },
   {
    "duration": 21,
    "start_time": "2022-02-02T14:21:19.173Z"
   },
   {
    "duration": 25,
    "start_time": "2022-02-02T14:21:19.197Z"
   },
   {
    "duration": 43,
    "start_time": "2022-02-02T14:21:19.225Z"
   },
   {
    "duration": 11,
    "start_time": "2022-02-02T14:21:19.270Z"
   },
   {
    "duration": 50,
    "start_time": "2022-02-02T14:21:19.283Z"
   },
   {
    "duration": 12,
    "start_time": "2022-02-02T14:21:19.336Z"
   },
   {
    "duration": 16,
    "start_time": "2022-02-02T14:21:19.351Z"
   },
   {
    "duration": 39,
    "start_time": "2022-02-02T14:21:19.369Z"
   },
   {
    "duration": 17,
    "start_time": "2022-02-02T14:21:19.411Z"
   },
   {
    "duration": 11,
    "start_time": "2022-02-02T14:21:19.430Z"
   },
   {
    "duration": 88,
    "start_time": "2022-02-02T14:21:19.443Z"
   },
   {
    "duration": 57,
    "start_time": "2022-02-02T14:21:19.532Z"
   },
   {
    "duration": 12,
    "start_time": "2022-02-02T14:21:19.591Z"
   },
   {
    "duration": 20,
    "start_time": "2022-02-02T14:21:19.609Z"
   },
   {
    "duration": 48,
    "start_time": "2022-02-02T14:21:19.631Z"
   },
   {
    "duration": 44,
    "start_time": "2022-02-02T14:21:19.681Z"
   },
   {
    "duration": 26,
    "start_time": "2022-02-02T14:21:19.727Z"
   },
   {
    "duration": 6,
    "start_time": "2022-02-02T14:21:19.755Z"
   },
   {
    "duration": 44,
    "start_time": "2022-02-02T14:21:19.762Z"
   },
   {
    "duration": 23,
    "start_time": "2022-02-02T14:21:19.808Z"
   },
   {
    "duration": 7,
    "start_time": "2022-02-02T14:21:19.833Z"
   },
   {
    "duration": 233,
    "start_time": "2022-02-02T14:21:19.842Z"
   },
   {
    "duration": 25,
    "start_time": "2022-02-02T14:21:20.076Z"
   },
   {
    "duration": 1114,
    "start_time": "2022-02-02T14:21:20.102Z"
   },
   {
    "duration": 49,
    "start_time": "2022-02-02T14:21:21.219Z"
   },
   {
    "duration": 6,
    "start_time": "2022-02-02T14:21:21.270Z"
   },
   {
    "duration": 37,
    "start_time": "2022-02-02T14:21:21.277Z"
   },
   {
    "duration": 21,
    "start_time": "2022-02-02T14:21:21.316Z"
   },
   {
    "duration": 30,
    "start_time": "2022-02-02T14:21:21.339Z"
   },
   {
    "duration": 1483,
    "start_time": "2022-02-12T02:44:52.857Z"
   },
   {
    "duration": 503,
    "start_time": "2022-02-12T02:44:54.342Z"
   },
   {
    "duration": 14,
    "start_time": "2022-02-12T02:44:54.848Z"
   },
   {
    "duration": 17,
    "start_time": "2022-02-12T02:44:54.865Z"
   },
   {
    "duration": 26,
    "start_time": "2022-02-12T02:44:54.885Z"
   },
   {
    "duration": 11,
    "start_time": "2022-02-12T02:44:54.913Z"
   },
   {
    "duration": 53,
    "start_time": "2022-02-12T02:44:54.927Z"
   },
   {
    "duration": 9,
    "start_time": "2022-02-12T02:44:54.982Z"
   },
   {
    "duration": 17,
    "start_time": "2022-02-12T02:44:54.995Z"
   },
   {
    "duration": 50,
    "start_time": "2022-02-12T02:44:55.015Z"
   },
   {
    "duration": 17,
    "start_time": "2022-02-12T02:44:55.068Z"
   },
   {
    "duration": 11,
    "start_time": "2022-02-12T02:44:55.087Z"
   },
   {
    "duration": 147,
    "start_time": "2022-02-12T02:44:55.100Z"
   },
   {
    "duration": 77,
    "start_time": "2022-02-12T02:44:55.249Z"
   },
   {
    "duration": 41,
    "start_time": "2022-02-12T02:44:55.329Z"
   },
   {
    "duration": 9,
    "start_time": "2022-02-12T02:44:55.373Z"
   },
   {
    "duration": 95,
    "start_time": "2022-02-12T02:44:55.384Z"
   },
   {
    "duration": 40,
    "start_time": "2022-02-12T02:44:55.482Z"
   },
   {
    "duration": 59,
    "start_time": "2022-02-12T02:44:55.524Z"
   },
   {
    "duration": 11,
    "start_time": "2022-02-12T02:44:55.586Z"
   },
   {
    "duration": 22,
    "start_time": "2022-02-12T02:44:55.599Z"
   },
   {
    "duration": 61,
    "start_time": "2022-02-12T02:44:55.624Z"
   },
   {
    "duration": 13,
    "start_time": "2022-02-12T02:44:55.688Z"
   },
   {
    "duration": 339,
    "start_time": "2022-02-12T02:44:55.704Z"
   },
   {
    "duration": 30,
    "start_time": "2022-02-12T02:44:56.046Z"
   },
   {
    "duration": 1415,
    "start_time": "2022-02-12T02:44:56.079Z"
   },
   {
    "duration": 86,
    "start_time": "2022-02-12T02:44:57.499Z"
   },
   {
    "duration": 7,
    "start_time": "2022-02-12T02:44:57.588Z"
   },
   {
    "duration": 8,
    "start_time": "2022-02-12T02:44:57.597Z"
   },
   {
    "duration": 8,
    "start_time": "2022-02-12T02:44:57.607Z"
   },
   {
    "duration": 42,
    "start_time": "2022-02-12T02:44:57.617Z"
   },
   {
    "duration": 20,
    "start_time": "2022-02-12T02:48:22.267Z"
   },
   {
    "duration": 615,
    "start_time": "2022-02-12T02:54:07.970Z"
   },
   {
    "duration": 25,
    "start_time": "2022-02-12T02:59:01.420Z"
   },
   {
    "duration": 1169,
    "start_time": "2022-02-12T05:21:20.805Z"
   },
   {
    "duration": 461,
    "start_time": "2022-02-12T05:21:21.976Z"
   },
   {
    "duration": 12,
    "start_time": "2022-02-12T05:21:22.440Z"
   },
   {
    "duration": 15,
    "start_time": "2022-02-12T05:21:22.453Z"
   },
   {
    "duration": 23,
    "start_time": "2022-02-12T05:21:22.470Z"
   },
   {
    "duration": 21,
    "start_time": "2022-02-12T05:21:22.496Z"
   },
   {
    "duration": 41,
    "start_time": "2022-02-12T05:21:22.519Z"
   },
   {
    "duration": 8,
    "start_time": "2022-02-12T05:21:22.562Z"
   },
   {
    "duration": 35,
    "start_time": "2022-02-12T05:21:22.573Z"
   },
   {
    "duration": 29,
    "start_time": "2022-02-12T05:21:22.611Z"
   },
   {
    "duration": 28,
    "start_time": "2022-02-12T05:21:22.642Z"
   },
   {
    "duration": 24,
    "start_time": "2022-02-12T05:21:22.672Z"
   },
   {
    "duration": 86,
    "start_time": "2022-02-12T05:21:22.698Z"
   },
   {
    "duration": 58,
    "start_time": "2022-02-12T05:21:22.786Z"
   },
   {
    "duration": 17,
    "start_time": "2022-02-12T05:21:22.846Z"
   },
   {
    "duration": 19,
    "start_time": "2022-02-12T05:21:22.865Z"
   },
   {
    "duration": 7,
    "start_time": "2022-02-12T05:21:29.987Z"
   },
   {
    "duration": 17,
    "start_time": "2022-02-12T05:22:14.848Z"
   },
   {
    "duration": 11,
    "start_time": "2022-02-12T05:22:26.598Z"
   },
   {
    "duration": 7,
    "start_time": "2022-02-12T05:22:46.010Z"
   },
   {
    "duration": 440,
    "start_time": "2022-02-12T05:22:46.020Z"
   },
   {
    "duration": 9,
    "start_time": "2022-02-12T05:22:46.462Z"
   },
   {
    "duration": 16,
    "start_time": "2022-02-12T05:22:46.472Z"
   },
   {
    "duration": 21,
    "start_time": "2022-02-12T05:22:46.489Z"
   },
   {
    "duration": 12,
    "start_time": "2022-02-12T05:22:46.512Z"
   },
   {
    "duration": 24,
    "start_time": "2022-02-12T05:22:46.525Z"
   },
   {
    "duration": 7,
    "start_time": "2022-02-12T05:22:46.550Z"
   },
   {
    "duration": 39,
    "start_time": "2022-02-12T05:22:46.560Z"
   },
   {
    "duration": 9,
    "start_time": "2022-02-12T05:22:46.601Z"
   },
   {
    "duration": 11,
    "start_time": "2022-02-12T05:22:46.612Z"
   },
   {
    "duration": 10,
    "start_time": "2022-02-12T05:22:46.625Z"
   },
   {
    "duration": 95,
    "start_time": "2022-02-12T05:22:46.636Z"
   },
   {
    "duration": 56,
    "start_time": "2022-02-12T05:22:46.732Z"
   },
   {
    "duration": 13,
    "start_time": "2022-02-12T05:22:46.798Z"
   },
   {
    "duration": 4,
    "start_time": "2022-02-12T05:22:49.818Z"
   },
   {
    "duration": 15,
    "start_time": "2022-02-12T05:22:51.483Z"
   },
   {
    "duration": 11,
    "start_time": "2022-02-12T05:23:02.777Z"
   },
   {
    "duration": 10,
    "start_time": "2022-02-12T05:23:56.840Z"
   },
   {
    "duration": 6,
    "start_time": "2022-02-12T05:24:28.993Z"
   },
   {
    "duration": 8,
    "start_time": "2022-02-12T05:24:29.781Z"
   },
   {
    "duration": 23,
    "start_time": "2022-02-12T05:27:10.403Z"
   },
   {
    "duration": 368,
    "start_time": "2022-02-13T08:05:00.237Z"
   },
   {
    "duration": 1422,
    "start_time": "2022-02-13T08:05:28.072Z"
   },
   {
    "duration": 480,
    "start_time": "2022-02-13T08:05:29.497Z"
   },
   {
    "duration": 17,
    "start_time": "2022-02-13T08:05:29.981Z"
   },
   {
    "duration": 21,
    "start_time": "2022-02-13T08:05:30.002Z"
   },
   {
    "duration": 42,
    "start_time": "2022-02-13T08:05:30.026Z"
   },
   {
    "duration": 15,
    "start_time": "2022-02-13T08:05:30.070Z"
   },
   {
    "duration": 37,
    "start_time": "2022-02-13T08:05:30.088Z"
   },
   {
    "duration": 9,
    "start_time": "2022-02-13T08:05:30.128Z"
   },
   {
    "duration": 24,
    "start_time": "2022-02-13T08:05:30.149Z"
   },
   {
    "duration": 17,
    "start_time": "2022-02-13T08:05:30.175Z"
   },
   {
    "duration": 25,
    "start_time": "2022-02-13T08:05:30.195Z"
   },
   {
    "duration": 28,
    "start_time": "2022-02-13T08:05:30.222Z"
   },
   {
    "duration": 106,
    "start_time": "2022-02-13T08:05:30.253Z"
   },
   {
    "duration": 73,
    "start_time": "2022-02-13T08:05:30.361Z"
   },
   {
    "duration": 21,
    "start_time": "2022-02-13T08:05:30.449Z"
   },
   {
    "duration": 10,
    "start_time": "2022-02-13T08:05:30.475Z"
   },
   {
    "duration": 9,
    "start_time": "2022-02-13T08:05:33.962Z"
   },
   {
    "duration": 12,
    "start_time": "2022-02-13T08:05:34.572Z"
   },
   {
    "duration": 16,
    "start_time": "2022-02-13T08:06:23.471Z"
   },
   {
    "duration": 22,
    "start_time": "2022-02-13T08:06:31.349Z"
   },
   {
    "duration": 19,
    "start_time": "2022-02-13T08:07:04.721Z"
   },
   {
    "duration": 16,
    "start_time": "2022-02-13T08:07:23.686Z"
   },
   {
    "duration": 21,
    "start_time": "2022-02-13T08:07:41.020Z"
   },
   {
    "duration": 12,
    "start_time": "2022-02-13T08:08:13.539Z"
   },
   {
    "duration": 26,
    "start_time": "2022-02-13T08:08:18.863Z"
   },
   {
    "duration": 1422,
    "start_time": "2022-02-13T08:09:44.008Z"
   },
   {
    "duration": 18,
    "start_time": "2022-02-13T08:09:56.019Z"
   },
   {
    "duration": 23,
    "start_time": "2022-02-13T08:10:50.046Z"
   },
   {
    "duration": 289,
    "start_time": "2022-02-13T08:23:50.550Z"
   },
   {
    "duration": 7,
    "start_time": "2022-02-13T08:24:12.538Z"
   },
   {
    "duration": 77,
    "start_time": "2022-02-13T08:24:14.050Z"
   },
   {
    "duration": 40,
    "start_time": "2022-02-13T08:24:15.008Z"
   },
   {
    "duration": 38,
    "start_time": "2022-02-13T08:24:15.600Z"
   },
   {
    "duration": 13,
    "start_time": "2022-02-13T08:24:16.584Z"
   },
   {
    "duration": 23,
    "start_time": "2022-02-13T08:24:23.033Z"
   },
   {
    "duration": 16,
    "start_time": "2022-02-13T08:24:24.234Z"
   },
   {
    "duration": 30,
    "start_time": "2022-02-13T08:25:14.663Z"
   },
   {
    "duration": 20,
    "start_time": "2022-02-13T08:25:15.715Z"
   },
   {
    "duration": 8,
    "start_time": "2022-02-13T08:26:12.835Z"
   },
   {
    "duration": 8,
    "start_time": "2022-02-13T08:35:17.577Z"
   },
   {
    "duration": 9,
    "start_time": "2022-02-13T08:35:28.131Z"
   },
   {
    "duration": 7,
    "start_time": "2022-02-13T08:35:53.673Z"
   },
   {
    "duration": 8,
    "start_time": "2022-02-13T08:36:04.869Z"
   },
   {
    "duration": 21,
    "start_time": "2022-02-13T08:36:28.067Z"
   },
   {
    "duration": 23,
    "start_time": "2022-02-13T08:37:33.956Z"
   },
   {
    "duration": 24,
    "start_time": "2022-02-13T08:38:22.001Z"
   },
   {
    "duration": 1374,
    "start_time": "2022-02-13T08:48:50.683Z"
   },
   {
    "duration": 38,
    "start_time": "2022-02-13T08:49:10.025Z"
   },
   {
    "duration": 49,
    "start_time": "2022-02-13T08:49:19.572Z"
   },
   {
    "duration": 43,
    "start_time": "2022-02-13T08:49:49.440Z"
   },
   {
    "duration": 7271,
    "start_time": "2022-02-13T08:50:14.346Z"
   },
   {
    "duration": 45,
    "start_time": "2022-02-13T08:50:43.224Z"
   },
   {
    "duration": 328,
    "start_time": "2022-02-13T08:51:13.405Z"
   },
   {
    "duration": 47,
    "start_time": "2022-02-13T08:51:17.633Z"
   },
   {
    "duration": 75,
    "start_time": "2022-02-13T08:53:18.195Z"
   },
   {
    "duration": 69,
    "start_time": "2022-02-13T09:00:07.418Z"
   },
   {
    "duration": 4,
    "start_time": "2022-02-13T09:00:09.007Z"
   },
   {
    "duration": 37,
    "start_time": "2022-02-13T09:00:10.535Z"
   },
   {
    "duration": 39,
    "start_time": "2022-02-13T09:00:12.183Z"
   },
   {
    "duration": 7,
    "start_time": "2022-02-13T09:00:15.021Z"
   },
   {
    "duration": 30,
    "start_time": "2022-02-13T09:00:19.826Z"
   },
   {
    "duration": 8,
    "start_time": "2022-02-13T09:00:23.059Z"
   },
   {
    "duration": 428,
    "start_time": "2022-02-13T09:00:27.216Z"
   },
   {
    "duration": 9,
    "start_time": "2022-02-13T09:00:38.145Z"
   },
   {
    "duration": 10,
    "start_time": "2022-02-13T09:00:39.948Z"
   },
   {
    "duration": 18,
    "start_time": "2022-02-13T09:00:54.672Z"
   },
   {
    "duration": 28,
    "start_time": "2022-02-13T09:01:34.670Z"
   },
   {
    "duration": 22,
    "start_time": "2022-02-13T09:04:42.756Z"
   },
   {
    "duration": 32,
    "start_time": "2022-02-13T09:07:02.470Z"
   },
   {
    "duration": 20,
    "start_time": "2022-02-13T09:07:03.573Z"
   },
   {
    "duration": 15,
    "start_time": "2022-02-13T09:08:13.164Z"
   },
   {
    "duration": 6,
    "start_time": "2022-02-13T09:08:29.397Z"
   },
   {
    "duration": 23,
    "start_time": "2022-02-13T09:08:32.795Z"
   },
   {
    "duration": 15,
    "start_time": "2022-02-13T09:08:58.447Z"
   },
   {
    "duration": 7,
    "start_time": "2022-02-13T09:09:51.692Z"
   },
   {
    "duration": 8,
    "start_time": "2022-02-13T09:09:52.404Z"
   },
   {
    "duration": 22,
    "start_time": "2022-02-13T09:10:02.475Z"
   },
   {
    "duration": 9,
    "start_time": "2022-02-13T09:11:12.686Z"
   },
   {
    "duration": 24,
    "start_time": "2022-02-13T09:11:13.438Z"
   },
   {
    "duration": 110499,
    "start_time": "2022-02-13T09:17:12.991Z"
   },
   {
    "duration": 44442,
    "start_time": "2022-02-13T09:19:05.131Z"
   },
   {
    "duration": 3,
    "start_time": "2022-02-13T09:35:31.395Z"
   },
   {
    "duration": 460,
    "start_time": "2022-02-13T09:35:31.401Z"
   },
   {
    "duration": 11,
    "start_time": "2022-02-13T09:35:31.864Z"
   },
   {
    "duration": 22,
    "start_time": "2022-02-13T09:35:31.878Z"
   },
   {
    "duration": 26,
    "start_time": "2022-02-13T09:35:31.903Z"
   },
   {
    "duration": 12,
    "start_time": "2022-02-13T09:35:31.948Z"
   },
   {
    "duration": 25,
    "start_time": "2022-02-13T09:35:31.963Z"
   },
   {
    "duration": 11,
    "start_time": "2022-02-13T09:35:31.991Z"
   },
   {
    "duration": 53,
    "start_time": "2022-02-13T09:35:32.006Z"
   },
   {
    "duration": 15,
    "start_time": "2022-02-13T09:35:32.063Z"
   },
   {
    "duration": 19,
    "start_time": "2022-02-13T09:35:32.080Z"
   },
   {
    "duration": 48,
    "start_time": "2022-02-13T09:35:32.102Z"
   },
   {
    "duration": 97,
    "start_time": "2022-02-13T09:35:32.153Z"
   },
   {
    "duration": 73,
    "start_time": "2022-02-13T09:35:32.252Z"
   },
   {
    "duration": 30,
    "start_time": "2022-02-13T09:35:32.327Z"
   },
   {
    "duration": 8,
    "start_time": "2022-02-13T09:35:32.359Z"
   },
   {
    "duration": 79,
    "start_time": "2022-02-13T09:35:32.370Z"
   },
   {
    "duration": 4,
    "start_time": "2022-02-13T09:35:32.452Z"
   },
   {
    "duration": 52,
    "start_time": "2022-02-13T09:35:32.459Z"
   },
   {
    "duration": 45,
    "start_time": "2022-02-13T09:35:32.513Z"
   },
   {
    "duration": 6,
    "start_time": "2022-02-13T09:35:32.560Z"
   },
   {
    "duration": 35,
    "start_time": "2022-02-13T09:35:32.569Z"
   },
   {
    "duration": 43,
    "start_time": "2022-02-13T09:35:32.607Z"
   },
   {
    "duration": 9,
    "start_time": "2022-02-13T09:35:32.652Z"
   },
   {
    "duration": 18,
    "start_time": "2022-02-13T09:35:32.663Z"
   },
   {
    "duration": 8,
    "start_time": "2022-02-13T09:35:34.810Z"
   },
   {
    "duration": 11,
    "start_time": "2022-02-13T09:35:35.251Z"
   },
   {
    "duration": 16,
    "start_time": "2022-02-13T09:35:35.998Z"
   },
   {
    "duration": 25,
    "start_time": "2022-02-13T09:36:52.009Z"
   },
   {
    "duration": 10,
    "start_time": "2022-02-13T09:37:09.499Z"
   },
   {
    "duration": 16,
    "start_time": "2022-02-13T09:37:13.789Z"
   },
   {
    "duration": 24,
    "start_time": "2022-02-13T09:37:14.689Z"
   },
   {
    "duration": 4,
    "start_time": "2022-02-13T10:15:39.620Z"
   },
   {
    "duration": 485,
    "start_time": "2022-02-13T10:15:39.627Z"
   },
   {
    "duration": 15,
    "start_time": "2022-02-13T10:15:40.116Z"
   },
   {
    "duration": 23,
    "start_time": "2022-02-13T10:15:40.133Z"
   },
   {
    "duration": 28,
    "start_time": "2022-02-13T10:15:40.159Z"
   },
   {
    "duration": 12,
    "start_time": "2022-02-13T10:15:40.190Z"
   },
   {
    "duration": 56,
    "start_time": "2022-02-13T10:15:40.204Z"
   },
   {
    "duration": 12,
    "start_time": "2022-02-13T10:15:40.263Z"
   },
   {
    "duration": 21,
    "start_time": "2022-02-13T10:15:40.280Z"
   },
   {
    "duration": 11,
    "start_time": "2022-02-13T10:15:40.304Z"
   },
   {
    "duration": 15,
    "start_time": "2022-02-13T10:15:40.349Z"
   },
   {
    "duration": 10,
    "start_time": "2022-02-13T10:15:40.367Z"
   },
   {
    "duration": 138,
    "start_time": "2022-02-13T10:15:40.380Z"
   },
   {
    "duration": 80,
    "start_time": "2022-02-13T10:15:40.520Z"
   },
   {
    "duration": 15,
    "start_time": "2022-02-13T10:15:40.603Z"
   },
   {
    "duration": 7,
    "start_time": "2022-02-13T10:15:40.621Z"
   },
   {
    "duration": 77,
    "start_time": "2022-02-13T10:15:40.630Z"
   },
   {
    "duration": 50,
    "start_time": "2022-02-13T10:15:40.709Z"
   },
   {
    "duration": 36,
    "start_time": "2022-02-13T10:15:40.762Z"
   },
   {
    "duration": 8,
    "start_time": "2022-02-13T10:15:40.800Z"
   },
   {
    "duration": 58,
    "start_time": "2022-02-13T10:15:40.810Z"
   },
   {
    "duration": 14,
    "start_time": "2022-02-13T10:15:40.871Z"
   },
   {
    "duration": 13,
    "start_time": "2022-02-13T10:15:40.887Z"
   },
   {
    "duration": 7,
    "start_time": "2022-02-13T10:15:40.903Z"
   },
   {
    "duration": 37,
    "start_time": "2022-02-13T10:15:40.912Z"
   },
   {
    "duration": 17,
    "start_time": "2022-02-13T10:15:40.952Z"
   },
   {
    "duration": 24,
    "start_time": "2022-02-13T10:15:40.975Z"
   },
   {
    "duration": 68,
    "start_time": "2022-02-13T10:15:41.003Z"
   },
   {
    "duration": 13,
    "start_time": "2022-02-13T10:15:41.074Z"
   },
   {
    "duration": 1477,
    "start_time": "2022-02-13T10:20:08.058Z"
   },
   {
    "duration": 501,
    "start_time": "2022-02-13T10:20:09.538Z"
   },
   {
    "duration": 17,
    "start_time": "2022-02-13T10:20:10.042Z"
   },
   {
    "duration": 20,
    "start_time": "2022-02-13T10:20:10.062Z"
   },
   {
    "duration": 26,
    "start_time": "2022-02-13T10:20:10.085Z"
   },
   {
    "duration": 42,
    "start_time": "2022-02-13T10:20:10.114Z"
   },
   {
    "duration": 23,
    "start_time": "2022-02-13T10:20:10.159Z"
   },
   {
    "duration": 10,
    "start_time": "2022-02-13T10:20:10.186Z"
   },
   {
    "duration": 48,
    "start_time": "2022-02-13T10:20:10.200Z"
   },
   {
    "duration": 13,
    "start_time": "2022-02-13T10:20:10.251Z"
   },
   {
    "duration": 18,
    "start_time": "2022-02-13T10:20:10.267Z"
   },
   {
    "duration": 13,
    "start_time": "2022-02-13T10:20:10.288Z"
   },
   {
    "duration": 129,
    "start_time": "2022-02-13T10:20:10.303Z"
   },
   {
    "duration": 84,
    "start_time": "2022-02-13T10:20:10.435Z"
   },
   {
    "duration": 38,
    "start_time": "2022-02-13T10:20:10.521Z"
   },
   {
    "duration": 8,
    "start_time": "2022-02-13T10:20:10.562Z"
   },
   {
    "duration": 93,
    "start_time": "2022-02-13T10:20:10.572Z"
   },
   {
    "duration": 39,
    "start_time": "2022-02-13T10:20:10.668Z"
   },
   {
    "duration": 53,
    "start_time": "2022-02-13T10:20:10.710Z"
   },
   {
    "duration": 13,
    "start_time": "2022-02-13T10:20:10.766Z"
   },
   {
    "duration": 28,
    "start_time": "2022-02-13T10:20:10.782Z"
   },
   {
    "duration": 38,
    "start_time": "2022-02-13T10:20:10.812Z"
   },
   {
    "duration": 7,
    "start_time": "2022-02-13T10:20:10.855Z"
   },
   {
    "duration": 7,
    "start_time": "2022-02-13T10:20:10.865Z"
   },
   {
    "duration": 13,
    "start_time": "2022-02-13T10:20:10.875Z"
   },
   {
    "duration": 16,
    "start_time": "2022-02-13T10:20:10.890Z"
   },
   {
    "duration": 58,
    "start_time": "2022-02-13T10:20:10.909Z"
   },
   {
    "duration": 35,
    "start_time": "2022-02-13T10:20:10.969Z"
   },
   {
    "duration": 11,
    "start_time": "2022-02-13T10:20:11.006Z"
   },
   {
    "duration": 352,
    "start_time": "2022-02-13T10:20:18.130Z"
   },
   {
    "duration": 377,
    "start_time": "2022-02-13T10:20:21.472Z"
   },
   {
    "duration": 36,
    "start_time": "2022-02-13T10:20:27.938Z"
   },
   {
    "duration": 46,
    "start_time": "2022-02-13T10:20:53.707Z"
   },
   {
    "duration": 429,
    "start_time": "2022-02-13T10:22:50.203Z"
   },
   {
    "duration": 32,
    "start_time": "2022-02-13T10:23:05.656Z"
   },
   {
    "duration": 6,
    "start_time": "2022-02-13T10:23:18.417Z"
   },
   {
    "duration": 519,
    "start_time": "2022-02-13T10:23:18.425Z"
   },
   {
    "duration": 17,
    "start_time": "2022-02-13T10:23:18.948Z"
   },
   {
    "duration": 29,
    "start_time": "2022-02-13T10:23:18.969Z"
   },
   {
    "duration": 50,
    "start_time": "2022-02-13T10:23:19.002Z"
   },
   {
    "duration": 16,
    "start_time": "2022-02-13T10:23:19.055Z"
   },
   {
    "duration": 28,
    "start_time": "2022-02-13T10:23:19.074Z"
   },
   {
    "duration": 12,
    "start_time": "2022-02-13T10:23:19.105Z"
   },
   {
    "duration": 31,
    "start_time": "2022-02-13T10:23:19.153Z"
   },
   {
    "duration": 17,
    "start_time": "2022-02-13T10:23:19.189Z"
   },
   {
    "duration": 54,
    "start_time": "2022-02-13T10:23:19.210Z"
   },
   {
    "duration": 17,
    "start_time": "2022-02-13T10:23:19.267Z"
   },
   {
    "duration": 174,
    "start_time": "2022-02-13T10:23:19.287Z"
   },
   {
    "duration": 84,
    "start_time": "2022-02-13T10:23:19.464Z"
   },
   {
    "duration": 18,
    "start_time": "2022-02-13T10:23:19.551Z"
   },
   {
    "duration": 7,
    "start_time": "2022-02-13T10:23:19.571Z"
   },
   {
    "duration": 94,
    "start_time": "2022-02-13T10:23:19.580Z"
   },
   {
    "duration": 34,
    "start_time": "2022-02-13T10:23:19.677Z"
   },
   {
    "duration": 58,
    "start_time": "2022-02-13T10:23:19.713Z"
   },
   {
    "duration": 7,
    "start_time": "2022-02-13T10:23:19.774Z"
   },
   {
    "duration": 34,
    "start_time": "2022-02-13T10:23:19.784Z"
   },
   {
    "duration": 16,
    "start_time": "2022-02-13T10:23:19.848Z"
   },
   {
    "duration": 7,
    "start_time": "2022-02-13T10:23:19.867Z"
   },
   {
    "duration": 9,
    "start_time": "2022-02-13T10:23:19.877Z"
   },
   {
    "duration": 13,
    "start_time": "2022-02-13T10:23:19.888Z"
   },
   {
    "duration": 16,
    "start_time": "2022-02-13T10:23:19.948Z"
   },
   {
    "duration": 24,
    "start_time": "2022-02-13T10:23:19.969Z"
   },
   {
    "duration": 71,
    "start_time": "2022-02-13T10:23:19.996Z"
   },
   {
    "duration": 12,
    "start_time": "2022-02-13T10:23:20.070Z"
   },
   {
    "duration": 4,
    "start_time": "2022-02-13T10:23:20.085Z"
   },
   {
    "duration": 393,
    "start_time": "2022-02-13T10:23:20.091Z"
   },
   {
    "duration": 376,
    "start_time": "2022-02-13T10:23:22.672Z"
   },
   {
    "duration": 31,
    "start_time": "2022-02-13T10:23:23.294Z"
   },
   {
    "duration": 991,
    "start_time": "2022-02-13T10:28:26.142Z"
   },
   {
    "duration": 1634,
    "start_time": "2022-02-13T10:28:50.128Z"
   },
   {
    "duration": 1486,
    "start_time": "2022-02-13T10:43:13.830Z"
   },
   {
    "duration": 476,
    "start_time": "2022-02-13T10:43:15.318Z"
   },
   {
    "duration": 16,
    "start_time": "2022-02-13T10:43:15.797Z"
   },
   {
    "duration": 23,
    "start_time": "2022-02-13T10:43:15.816Z"
   },
   {
    "duration": 28,
    "start_time": "2022-02-13T10:43:15.842Z"
   },
   {
    "duration": 12,
    "start_time": "2022-02-13T10:43:15.872Z"
   },
   {
    "duration": 32,
    "start_time": "2022-02-13T10:43:15.887Z"
   },
   {
    "duration": 10,
    "start_time": "2022-02-13T10:43:15.949Z"
   },
   {
    "duration": 18,
    "start_time": "2022-02-13T10:43:15.964Z"
   },
   {
    "duration": 13,
    "start_time": "2022-02-13T10:43:15.985Z"
   },
   {
    "duration": 55,
    "start_time": "2022-02-13T10:43:16.000Z"
   },
   {
    "duration": 15,
    "start_time": "2022-02-13T10:43:16.058Z"
   },
   {
    "duration": 117,
    "start_time": "2022-02-13T10:43:16.075Z"
   },
   {
    "duration": 83,
    "start_time": "2022-02-13T10:43:16.194Z"
   },
   {
    "duration": 23,
    "start_time": "2022-02-13T10:43:16.279Z"
   },
   {
    "duration": 8,
    "start_time": "2022-02-13T10:43:16.305Z"
   },
   {
    "duration": 103,
    "start_time": "2022-02-13T10:43:16.316Z"
   },
   {
    "duration": 49,
    "start_time": "2022-02-13T10:43:16.422Z"
   },
   {
    "duration": 40,
    "start_time": "2022-02-13T10:43:16.474Z"
   },
   {
    "duration": 33,
    "start_time": "2022-02-13T10:43:16.516Z"
   },
   {
    "duration": 31,
    "start_time": "2022-02-13T10:43:16.551Z"
   },
   {
    "duration": 20,
    "start_time": "2022-02-13T10:43:16.585Z"
   },
   {
    "duration": 42,
    "start_time": "2022-02-13T10:43:16.608Z"
   },
   {
    "duration": 7,
    "start_time": "2022-02-13T10:43:16.654Z"
   },
   {
    "duration": 16,
    "start_time": "2022-02-13T10:43:16.663Z"
   },
   {
    "duration": 28,
    "start_time": "2022-02-13T10:43:16.682Z"
   },
   {
    "duration": 44,
    "start_time": "2022-02-13T10:43:16.717Z"
   },
   {
    "duration": 32,
    "start_time": "2022-02-13T10:43:16.764Z"
   },
   {
    "duration": 9,
    "start_time": "2022-02-13T10:43:16.799Z"
   },
   {
    "duration": 7,
    "start_time": "2022-02-13T10:43:16.811Z"
   },
   {
    "duration": 413,
    "start_time": "2022-02-13T10:43:16.820Z"
   },
   {
    "duration": 26,
    "start_time": "2022-02-13T10:43:17.235Z"
   },
   {
    "duration": 1099,
    "start_time": "2022-02-13T10:43:26.008Z"
   },
   {
    "duration": 1976,
    "start_time": "2022-02-13T10:45:00.760Z"
   },
   {
    "duration": 1719,
    "start_time": "2022-02-13T10:52:13.138Z"
   },
   {
    "duration": 1491,
    "start_time": "2022-02-13T10:52:34.241Z"
   },
   {
    "duration": 1752,
    "start_time": "2022-02-13T10:55:52.294Z"
   },
   {
    "duration": 1351,
    "start_time": "2022-02-13T11:05:43.009Z"
   },
   {
    "duration": 1380,
    "start_time": "2022-02-13T11:05:52.242Z"
   },
   {
    "duration": 1233,
    "start_time": "2022-02-13T11:07:15.258Z"
   },
   {
    "duration": 1226,
    "start_time": "2022-02-13T11:07:24.577Z"
   },
   {
    "duration": 1269,
    "start_time": "2022-02-13T11:07:59.016Z"
   },
   {
    "duration": 1560,
    "start_time": "2022-02-13T11:08:08.835Z"
   },
   {
    "duration": 1422,
    "start_time": "2022-02-13T11:08:20.236Z"
   },
   {
    "duration": 1285,
    "start_time": "2022-02-13T11:08:28.274Z"
   },
   {
    "duration": 1350,
    "start_time": "2022-02-13T11:08:35.627Z"
   },
   {
    "duration": 1370,
    "start_time": "2022-02-13T11:08:44.960Z"
   },
   {
    "duration": 1566,
    "start_time": "2022-02-13T11:09:02.149Z"
   },
   {
    "duration": 1498,
    "start_time": "2022-02-13T11:09:07.811Z"
   },
   {
    "duration": 1408,
    "start_time": "2022-02-13T11:09:20.678Z"
   },
   {
    "duration": 1504,
    "start_time": "2022-02-13T11:09:42.964Z"
   },
   {
    "duration": 1234,
    "start_time": "2022-02-13T11:10:49.598Z"
   },
   {
    "duration": 1348,
    "start_time": "2022-02-13T11:11:37.850Z"
   },
   {
    "duration": 1543,
    "start_time": "2022-02-13T11:11:51.040Z"
   },
   {
    "duration": 1480,
    "start_time": "2022-02-13T11:13:23.436Z"
   },
   {
    "duration": 481,
    "start_time": "2022-02-13T11:13:24.919Z"
   },
   {
    "duration": 16,
    "start_time": "2022-02-13T11:13:25.404Z"
   },
   {
    "duration": 23,
    "start_time": "2022-02-13T11:13:25.423Z"
   },
   {
    "duration": 45,
    "start_time": "2022-02-13T11:13:25.449Z"
   },
   {
    "duration": 17,
    "start_time": "2022-02-13T11:13:25.497Z"
   },
   {
    "duration": 45,
    "start_time": "2022-02-13T11:13:25.517Z"
   },
   {
    "duration": 10,
    "start_time": "2022-02-13T11:13:25.565Z"
   },
   {
    "duration": 19,
    "start_time": "2022-02-13T11:13:25.579Z"
   },
   {
    "duration": 52,
    "start_time": "2022-02-13T11:13:25.601Z"
   },
   {
    "duration": 15,
    "start_time": "2022-02-13T11:13:25.656Z"
   },
   {
    "duration": 9,
    "start_time": "2022-02-13T11:13:25.674Z"
   },
   {
    "duration": 140,
    "start_time": "2022-02-13T11:13:25.686Z"
   },
   {
    "duration": 98,
    "start_time": "2022-02-13T11:13:25.829Z"
   },
   {
    "duration": 33,
    "start_time": "2022-02-13T11:13:25.931Z"
   },
   {
    "duration": 11,
    "start_time": "2022-02-13T11:13:25.968Z"
   },
   {
    "duration": 128,
    "start_time": "2022-02-13T11:13:25.982Z"
   },
   {
    "duration": 63,
    "start_time": "2022-02-13T11:13:26.113Z"
   },
   {
    "duration": 53,
    "start_time": "2022-02-13T11:13:26.179Z"
   },
   {
    "duration": 27,
    "start_time": "2022-02-13T11:13:26.235Z"
   },
   {
    "duration": 32,
    "start_time": "2022-02-13T11:13:26.265Z"
   },
   {
    "duration": 15,
    "start_time": "2022-02-13T11:13:26.299Z"
   },
   {
    "duration": 36,
    "start_time": "2022-02-13T11:13:26.317Z"
   },
   {
    "duration": 7,
    "start_time": "2022-02-13T11:13:26.355Z"
   },
   {
    "duration": 15,
    "start_time": "2022-02-13T11:13:26.365Z"
   },
   {
    "duration": 15,
    "start_time": "2022-02-13T11:13:26.382Z"
   },
   {
    "duration": 64,
    "start_time": "2022-02-13T11:13:26.402Z"
   },
   {
    "duration": 33,
    "start_time": "2022-02-13T11:13:26.469Z"
   },
   {
    "duration": 10,
    "start_time": "2022-02-13T11:13:26.505Z"
   },
   {
    "duration": 33,
    "start_time": "2022-02-13T11:13:26.518Z"
   },
   {
    "duration": 378,
    "start_time": "2022-02-13T11:13:26.553Z"
   },
   {
    "duration": 29,
    "start_time": "2022-02-13T11:13:26.933Z"
   },
   {
    "duration": 1411,
    "start_time": "2022-02-13T11:13:29.840Z"
   },
   {
    "duration": 1293,
    "start_time": "2022-02-13T11:14:28.591Z"
   },
   {
    "duration": 1581,
    "start_time": "2022-02-13T11:14:46.442Z"
   },
   {
    "duration": 1298,
    "start_time": "2022-02-13T11:14:58.111Z"
   },
   {
    "duration": 1398,
    "start_time": "2022-02-13T11:15:11.358Z"
   },
   {
    "duration": 1531,
    "start_time": "2022-02-13T11:15:43.602Z"
   },
   {
    "duration": 1272,
    "start_time": "2022-02-13T11:15:51.207Z"
   },
   {
    "duration": 1513,
    "start_time": "2022-02-13T11:16:11.278Z"
   },
   {
    "duration": 1164,
    "start_time": "2022-02-13T11:16:19.358Z"
   },
   {
    "duration": 1406,
    "start_time": "2022-02-13T11:16:54.099Z"
   },
   {
    "duration": 1319,
    "start_time": "2022-02-13T11:17:37.747Z"
   },
   {
    "duration": 1481,
    "start_time": "2022-02-13T11:18:56.881Z"
   },
   {
    "duration": 1982,
    "start_time": "2022-02-13T11:19:16.811Z"
   },
   {
    "duration": 1567,
    "start_time": "2022-02-13T11:19:22.898Z"
   },
   {
    "duration": 1283,
    "start_time": "2022-02-13T11:21:27.251Z"
   },
   {
    "duration": 2429,
    "start_time": "2022-02-13T11:21:48.070Z"
   },
   {
    "duration": 1829,
    "start_time": "2022-02-13T11:25:13.486Z"
   },
   {
    "duration": 4,
    "start_time": "2022-02-13T11:26:05.653Z"
   },
   {
    "duration": 581,
    "start_time": "2022-02-13T11:41:15.319Z"
   },
   {
    "duration": 11,
    "start_time": "2022-02-13T11:41:20.468Z"
   },
   {
    "duration": 19,
    "start_time": "2022-02-13T11:41:22.401Z"
   },
   {
    "duration": 42,
    "start_time": "2022-02-13T11:41:27.151Z"
   },
   {
    "duration": 13,
    "start_time": "2022-02-13T11:41:32.864Z"
   },
   {
    "duration": 23,
    "start_time": "2022-02-13T11:41:36.759Z"
   },
   {
    "duration": 11,
    "start_time": "2022-02-13T11:41:42.015Z"
   },
   {
    "duration": 29,
    "start_time": "2022-02-13T11:41:44.840Z"
   },
   {
    "duration": 16,
    "start_time": "2022-02-13T11:41:47.610Z"
   },
   {
    "duration": 16,
    "start_time": "2022-02-13T11:41:50.326Z"
   },
   {
    "duration": 10,
    "start_time": "2022-02-13T11:41:52.831Z"
   },
   {
    "duration": 83,
    "start_time": "2022-02-13T11:42:03.150Z"
   },
   {
    "duration": 68,
    "start_time": "2022-02-13T11:42:05.857Z"
   },
   {
    "duration": 1449,
    "start_time": "2022-02-13T11:51:29.960Z"
   },
   {
    "duration": 487,
    "start_time": "2022-02-13T11:51:31.412Z"
   },
   {
    "duration": 16,
    "start_time": "2022-02-13T11:51:31.902Z"
   },
   {
    "duration": 35,
    "start_time": "2022-02-13T11:51:31.921Z"
   },
   {
    "duration": 11,
    "start_time": "2022-02-13T11:51:31.959Z"
   },
   {
    "duration": 24,
    "start_time": "2022-02-13T11:51:31.972Z"
   },
   {
    "duration": 10,
    "start_time": "2022-02-13T11:51:31.998Z"
   },
   {
    "duration": 50,
    "start_time": "2022-02-13T11:51:32.011Z"
   },
   {
    "duration": 12,
    "start_time": "2022-02-13T11:51:32.065Z"
   },
   {
    "duration": 16,
    "start_time": "2022-02-13T11:51:32.081Z"
   },
   {
    "duration": 50,
    "start_time": "2022-02-13T11:51:32.100Z"
   },
   {
    "duration": 112,
    "start_time": "2022-02-13T11:51:32.152Z"
   },
   {
    "duration": 82,
    "start_time": "2022-02-13T11:51:32.266Z"
   },
   {
    "duration": 3,
    "start_time": "2022-02-13T11:51:32.351Z"
   },
   {
    "duration": 15,
    "start_time": "2022-02-13T11:51:32.356Z"
   },
   {
    "duration": 93,
    "start_time": "2022-02-13T11:51:32.373Z"
   },
   {
    "duration": 42,
    "start_time": "2022-02-13T11:51:32.469Z"
   },
   {
    "duration": 66,
    "start_time": "2022-02-13T11:51:32.514Z"
   },
   {
    "duration": 15,
    "start_time": "2022-02-13T11:51:32.583Z"
   },
   {
    "duration": 52,
    "start_time": "2022-02-13T11:51:32.601Z"
   },
   {
    "duration": 11,
    "start_time": "2022-02-13T11:51:32.657Z"
   },
   {
    "duration": 7,
    "start_time": "2022-02-13T11:51:32.670Z"
   },
   {
    "duration": 10,
    "start_time": "2022-02-13T11:51:32.680Z"
   },
   {
    "duration": 75,
    "start_time": "2022-02-13T11:51:32.692Z"
   },
   {
    "duration": 12,
    "start_time": "2022-02-13T11:51:32.770Z"
   },
   {
    "duration": 5,
    "start_time": "2022-02-13T11:51:32.785Z"
   },
   {
    "duration": 425,
    "start_time": "2022-02-13T11:51:32.796Z"
   },
   {
    "duration": 32,
    "start_time": "2022-02-13T11:51:33.225Z"
   },
   {
    "duration": 1763,
    "start_time": "2022-02-13T11:51:33.260Z"
   },
   {
    "duration": 4,
    "start_time": "2022-02-13T11:51:35.027Z"
   },
   {
    "duration": 591,
    "start_time": "2022-02-13T11:51:35.034Z"
   },
   {
    "duration": 72,
    "start_time": "2022-02-13T11:51:35.627Z"
   },
   {
    "duration": 7,
    "start_time": "2022-02-13T11:51:35.702Z"
   },
   {
    "duration": 8,
    "start_time": "2022-02-13T11:51:35.712Z"
   },
   {
    "duration": 31,
    "start_time": "2022-02-13T11:51:35.722Z"
   },
   {
    "duration": 118,
    "start_time": "2022-02-13T11:51:35.756Z"
   }
  ],
  "kernelspec": {
   "display_name": "Python 3 (ipykernel)",
   "language": "python",
   "name": "python3"
  },
  "language_info": {
   "codemirror_mode": {
    "name": "ipython",
    "version": 3
   },
   "file_extension": ".py",
   "mimetype": "text/x-python",
   "name": "python",
   "nbconvert_exporter": "python",
   "pygments_lexer": "ipython3",
   "version": "3.9.9"
  },
  "toc": {
   "base_numbering": 1,
   "nav_menu": {},
   "number_sections": true,
   "sideBar": true,
   "skip_h1_title": true,
   "title_cell": "Table of Contents",
   "title_sidebar": "Contents",
   "toc_cell": false,
   "toc_position": {
    "height": "calc(100% - 180px)",
    "left": "10px",
    "top": "150px",
    "width": "165px"
   },
   "toc_section_display": true,
   "toc_window_display": true
  }
 },
 "nbformat": 4,
 "nbformat_minor": 2
}
