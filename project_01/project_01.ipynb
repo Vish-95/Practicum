{
 "cells": [
  {
   "cell_type": "markdown",
   "metadata": {
    "id": "E0vqbgi9ay0H"
   },
   "source": [
    "# Яндекс.Музыка"
   ]
  },
  {
   "cell_type": "markdown",
   "metadata": {
    "id": "VUC88oWjTJw2"
   },
   "source": [
    "Сравнение Москвы и Петербурга окружено мифами. Например:\n",
    " * Москва — мегаполис, подчинённый жёсткому ритму рабочей недели;\n",
    " * Петербург — культурная столица, со своими вкусами.\n",
    "\n",
    "На данных Яндекс.Музыки вы сравните поведение пользователей двух столиц.\n",
    "\n",
    "**Цель исследования** — проверьте три гипотезы:\n",
    "1. Активность пользователей зависит от дня недели. Причём в Москве и Петербурге это проявляется по-разному.\n",
    "2. В понедельник утром в Москве преобладают одни жанры, а в Петербурге — другие. Так же и вечером пятницы преобладают разные жанры — в зависимости от города. \n",
    "3. Москва и Петербург предпочитают разные жанры музыки. В Москве чаще слушают поп-музыку, в Петербурге — русский рэп.\n",
    "\n",
    "**Ход исследования**\n",
    "\n",
    "Данные о поведении пользователей вы получите из файла `yandex_music_project.csv`. О качестве данных ничего не известно. Поэтому перед проверкой гипотез понадобится обзор данных. \n",
    "\n",
    "Вы проверите данные на ошибки и оцените их влияние на исследование. Затем, на этапе предобработки вы поищете возможность исправить самые критичные ошибки данных.\n",
    " \n",
    "Таким образом, исследование пройдёт в три этапа:\n",
    " 1. Обзор данных.\n",
    " 2. Предобработка данных.\n",
    " 3. Проверка гипотез.\n",
    "\n"
   ]
  },
  {
   "cell_type": "code",
   "execution_count": 1,
   "metadata": {
    "id": "AXN7PHPN_Zcs"
   },
   "outputs": [],
   "source": [
    "import pandas as pd"
   ]
  },
  {
   "cell_type": "markdown",
   "metadata": {
    "id": "Ml1hmfXC_Zcs"
   },
   "source": [
    "## Обзор данных"
   ]
  },
  {
   "cell_type": "code",
   "execution_count": 2,
   "metadata": {
    "id": "fFVu7vqh_Zct"
   },
   "outputs": [
    {
     "data": {
      "text/html": [
       "<div>\n",
       "<style scoped>\n",
       "    .dataframe tbody tr th:only-of-type {\n",
       "        vertical-align: middle;\n",
       "    }\n",
       "\n",
       "    .dataframe tbody tr th {\n",
       "        vertical-align: top;\n",
       "    }\n",
       "\n",
       "    .dataframe thead th {\n",
       "        text-align: right;\n",
       "    }\n",
       "</style>\n",
       "<table border=\"1\" class=\"dataframe\">\n",
       "  <thead>\n",
       "    <tr style=\"text-align: right;\">\n",
       "      <th></th>\n",
       "      <th>userID</th>\n",
       "      <th>Track</th>\n",
       "      <th>artist</th>\n",
       "      <th>genre</th>\n",
       "      <th>City</th>\n",
       "      <th>time</th>\n",
       "      <th>Day</th>\n",
       "    </tr>\n",
       "  </thead>\n",
       "  <tbody>\n",
       "    <tr>\n",
       "      <th>0</th>\n",
       "      <td>FFB692EC</td>\n",
       "      <td>Kamigata To Boots</td>\n",
       "      <td>The Mass Missile</td>\n",
       "      <td>rock</td>\n",
       "      <td>Saint-Petersburg</td>\n",
       "      <td>20:28:33</td>\n",
       "      <td>Wednesday</td>\n",
       "    </tr>\n",
       "    <tr>\n",
       "      <th>1</th>\n",
       "      <td>55204538</td>\n",
       "      <td>Delayed Because of Accident</td>\n",
       "      <td>Andreas Rönnberg</td>\n",
       "      <td>rock</td>\n",
       "      <td>Moscow</td>\n",
       "      <td>14:07:09</td>\n",
       "      <td>Friday</td>\n",
       "    </tr>\n",
       "    <tr>\n",
       "      <th>2</th>\n",
       "      <td>20EC38</td>\n",
       "      <td>Funiculì funiculà</td>\n",
       "      <td>Mario Lanza</td>\n",
       "      <td>pop</td>\n",
       "      <td>Saint-Petersburg</td>\n",
       "      <td>20:58:07</td>\n",
       "      <td>Wednesday</td>\n",
       "    </tr>\n",
       "    <tr>\n",
       "      <th>3</th>\n",
       "      <td>A3DD03C9</td>\n",
       "      <td>Dragons in the Sunset</td>\n",
       "      <td>Fire + Ice</td>\n",
       "      <td>folk</td>\n",
       "      <td>Saint-Petersburg</td>\n",
       "      <td>08:37:09</td>\n",
       "      <td>Monday</td>\n",
       "    </tr>\n",
       "    <tr>\n",
       "      <th>4</th>\n",
       "      <td>E2DC1FAE</td>\n",
       "      <td>Soul People</td>\n",
       "      <td>Space Echo</td>\n",
       "      <td>dance</td>\n",
       "      <td>Moscow</td>\n",
       "      <td>08:34:34</td>\n",
       "      <td>Monday</td>\n",
       "    </tr>\n",
       "    <tr>\n",
       "      <th>5</th>\n",
       "      <td>842029A1</td>\n",
       "      <td>Преданная</td>\n",
       "      <td>IMPERVTOR</td>\n",
       "      <td>rusrap</td>\n",
       "      <td>Saint-Petersburg</td>\n",
       "      <td>13:09:41</td>\n",
       "      <td>Friday</td>\n",
       "    </tr>\n",
       "    <tr>\n",
       "      <th>6</th>\n",
       "      <td>4CB90AA5</td>\n",
       "      <td>True</td>\n",
       "      <td>Roman Messer</td>\n",
       "      <td>dance</td>\n",
       "      <td>Moscow</td>\n",
       "      <td>13:00:07</td>\n",
       "      <td>Wednesday</td>\n",
       "    </tr>\n",
       "    <tr>\n",
       "      <th>7</th>\n",
       "      <td>F03E1C1F</td>\n",
       "      <td>Feeling This Way</td>\n",
       "      <td>Polina Griffith</td>\n",
       "      <td>dance</td>\n",
       "      <td>Moscow</td>\n",
       "      <td>20:47:49</td>\n",
       "      <td>Wednesday</td>\n",
       "    </tr>\n",
       "    <tr>\n",
       "      <th>8</th>\n",
       "      <td>8FA1D3BE</td>\n",
       "      <td>И вновь продолжается бой</td>\n",
       "      <td>NaN</td>\n",
       "      <td>ruspop</td>\n",
       "      <td>Moscow</td>\n",
       "      <td>09:17:40</td>\n",
       "      <td>Friday</td>\n",
       "    </tr>\n",
       "    <tr>\n",
       "      <th>9</th>\n",
       "      <td>E772D5C0</td>\n",
       "      <td>Pessimist</td>\n",
       "      <td>NaN</td>\n",
       "      <td>dance</td>\n",
       "      <td>Saint-Petersburg</td>\n",
       "      <td>21:20:49</td>\n",
       "      <td>Wednesday</td>\n",
       "    </tr>\n",
       "  </tbody>\n",
       "</table>\n",
       "</div>"
      ],
      "text/plain": [
       "     userID                        Track            artist   genre  \\\n",
       "0  FFB692EC            Kamigata To Boots  The Mass Missile    rock   \n",
       "1  55204538  Delayed Because of Accident  Andreas Rönnberg    rock   \n",
       "2    20EC38            Funiculì funiculà       Mario Lanza     pop   \n",
       "3  A3DD03C9        Dragons in the Sunset        Fire + Ice    folk   \n",
       "4  E2DC1FAE                  Soul People        Space Echo   dance   \n",
       "5  842029A1                    Преданная         IMPERVTOR  rusrap   \n",
       "6  4CB90AA5                         True      Roman Messer   dance   \n",
       "7  F03E1C1F             Feeling This Way   Polina Griffith   dance   \n",
       "8  8FA1D3BE     И вновь продолжается бой               NaN  ruspop   \n",
       "9  E772D5C0                    Pessimist               NaN   dance   \n",
       "\n",
       "             City        time        Day  \n",
       "0  Saint-Petersburg  20:28:33  Wednesday  \n",
       "1            Moscow  14:07:09     Friday  \n",
       "2  Saint-Petersburg  20:58:07  Wednesday  \n",
       "3  Saint-Petersburg  08:37:09     Monday  \n",
       "4            Moscow  08:34:34     Monday  \n",
       "5  Saint-Petersburg  13:09:41     Friday  \n",
       "6            Moscow  13:00:07  Wednesday  \n",
       "7            Moscow  20:47:49  Wednesday  \n",
       "8            Moscow  09:17:40     Friday  \n",
       "9  Saint-Petersburg  21:20:49  Wednesday  "
      ]
     },
     "execution_count": 2,
     "metadata": {},
     "output_type": "execute_result"
    }
   ],
   "source": [
    "df = pd.read_csv('yandex_music_project.csv')\n",
    "df.head(10)"
   ]
  },
  {
   "cell_type": "code",
   "execution_count": 3,
   "metadata": {
    "id": "DSf2kIb-_Zct"
   },
   "outputs": [
    {
     "name": "stdout",
     "output_type": "stream",
     "text": [
      "<class 'pandas.core.frame.DataFrame'>\n",
      "RangeIndex: 65079 entries, 0 to 65078\n",
      "Data columns (total 7 columns):\n",
      " #   Column    Non-Null Count  Dtype \n",
      "---  ------    --------------  ----- \n",
      " 0     userID  65079 non-null  object\n",
      " 1   Track     63848 non-null  object\n",
      " 2   artist    57876 non-null  object\n",
      " 3   genre     63881 non-null  object\n",
      " 4     City    65079 non-null  object\n",
      " 5   time      65079 non-null  object\n",
      " 6   Day       65079 non-null  object\n",
      "dtypes: object(7)\n",
      "memory usage: 3.5+ MB\n"
     ]
    }
   ],
   "source": [
    "df.info()"
   ]
  },
  {
   "cell_type": "markdown",
   "metadata": {
    "id": "TaQ2Iwbr_Zct"
   },
   "source": [
    "Итак, в таблице семь столбцов. Тип данных во всех столбцах — `object`.\n",
    "\n",
    "Согласно документации к данным:\n",
    "* `userID` — идентификатор пользователя;\n",
    "* `Track` — название трека;  \n",
    "* `artist` — имя исполнителя;\n",
    "* `genre` — название жанра;\n",
    "* `City` — город пользователя;\n",
    "* `time` — время начала прослушивания;\n",
    "* `Day` — день недели.\n",
    "\n",
    "В названиях колонок видны три нарушения стиля:\n",
    "1. Строчные буквы сочетаются с прописными.\n",
    "2. Встречаются пробелы.\n",
    "3. Несколько слов написаны слитно.\n",
    "\n",
    "\n",
    "\n",
    "Количество значений в столбцах различается. Значит, в данных есть пропущенные значения.\n"
   ]
  },
  {
   "cell_type": "markdown",
   "metadata": {
    "id": "MCB6-dXG_Zct"
   },
   "source": [
    "**Выводы**\n",
    "\n",
    "В каждой строке таблицы — данные о прослушанном треке. Часть колонок описывает саму композицию: название, исполнителя и жанр. Остальные данные рассказывают о пользователе: из какого он города, когда он слушал музыку. \n",
    "\n",
    "Предварительно можно утверждать, что, данных достаточно для проверки гипотез. Но встречаются пропуски в данных, а в названиях колонок — расхождения с хорошим стилем.\n",
    "\n",
    "Чтобы двигаться дальше, нужно устранить проблемы в данных."
   ]
  },
  {
   "cell_type": "markdown",
   "metadata": {
    "id": "SjYF6Ub9_Zct"
   },
   "source": [
    "## Предобработка данных"
   ]
  },
  {
   "cell_type": "markdown",
   "metadata": {
    "id": "dIaKXr29_Zct"
   },
   "source": [
    "### Стиль заголовков"
   ]
  },
  {
   "cell_type": "markdown",
   "metadata": {},
   "source": [
    "Приведём названия столбцов в соответствие с хорошим стилем:"
   ]
  },
  {
   "cell_type": "code",
   "execution_count": 5,
   "metadata": {
    "id": "ISlFqs5y_Zct"
   },
   "outputs": [],
   "source": [
    "# переименование столбцов\n",
    "df = df.rename(columns={'  userID': 'user_id', 'Track': 'track', '  City  ': 'city', 'Day': 'day'})\n",
    "df.columns"
   ]
  },
  {
   "cell_type": "markdown",
   "metadata": {
    "id": "5ISfbcfY_Zct"
   },
   "source": [
    "### Пропуски значений"
   ]
  },
  {
   "cell_type": "markdown",
   "metadata": {},
   "source": [
    "Количество пропусков "
   ]
  },
  {
   "cell_type": "code",
   "execution_count": 7,
   "metadata": {
    "id": "RskX29qr_Zct"
   },
   "outputs": [
    {
     "data": {
      "text/plain": [
       "user_id       0\n",
       "track      1231\n",
       "artist     7203\n",
       "genre      1198\n",
       "city          0\n",
       "time          0\n",
       "day           0\n",
       "dtype: int64"
      ]
     },
     "execution_count": 7,
     "metadata": {},
     "output_type": "execute_result"
    }
   ],
   "source": [
    "df.isna().sum()"
   ]
  },
  {
   "cell_type": "markdown",
   "metadata": {
    "id": "qubhgnlO_Zct"
   },
   "source": [
    "Не все пропущенные значения влияют на исследование. Так в `track` и `artist` пропуски не важны для нашей работы. Достаточно заменить их явными обозначениями.\n",
    "\n",
    "Но пропуски в `genre` могут помешать сравнению музыкальных вкусов в Москве и Санкт-Петербурге. "
   ]
  },
  {
   "cell_type": "markdown",
   "metadata": {
    "id": "fSv2laPA_Zct"
   },
   "source": [
    "Замена пропущенных значений в столбцах `track`, `artist` и `genre` на строку `'unknown'`:"
   ]
  },
  {
   "cell_type": "code",
   "execution_count": 8,
   "metadata": {
    "id": "KplB5qWs_Zct"
   },
   "outputs": [],
   "source": [
    "columns_to_replace = ['track', 'artist', 'genre']\n",
    "for col in columns_to_replace:\n",
    "    df[col] = df[col].fillna('unknown')"
   ]
  },
  {
   "cell_type": "markdown",
   "metadata": {
    "id": "Ilsm-MZo_Zct"
   },
   "source": [
    "Убедимся, что в таблице не осталось пропусков:"
   ]
  },
  {
   "cell_type": "code",
   "execution_count": 9,
   "metadata": {
    "id": "Tq4nYRX4_Zct"
   },
   "outputs": [
    {
     "data": {
      "text/plain": [
       "user_id    0\n",
       "track      0\n",
       "artist     0\n",
       "genre      0\n",
       "city       0\n",
       "time       0\n",
       "day        0\n",
       "dtype: int64"
      ]
     },
     "execution_count": 9,
     "metadata": {},
     "output_type": "execute_result"
    }
   ],
   "source": [
    "df.isna().sum()"
   ]
  },
  {
   "cell_type": "markdown",
   "metadata": {
    "id": "BWKRtBJ3_Zct"
   },
   "source": [
    "### Дубликаты"
   ]
  },
  {
   "cell_type": "markdown",
   "metadata": {},
   "source": [
    "Посчитаем явные дубликаты в таблице:"
   ]
  },
  {
   "cell_type": "code",
   "execution_count": 10,
   "metadata": {
    "id": "36eES_S0_Zct"
   },
   "outputs": [
    {
     "data": {
      "text/plain": [
       "3826"
      ]
     },
     "execution_count": 10,
     "metadata": {},
     "output_type": "execute_result"
    }
   ],
   "source": [
    "df.duplicated().sum()"
   ]
  },
  {
   "cell_type": "markdown",
   "metadata": {},
   "source": [
    "Удаление явных дубликатов (с удалением старых индексов и формированием новых)"
   ]
  },
  {
   "cell_type": "code",
   "execution_count": 32,
   "metadata": {
    "id": "exFHq6tt_Zct"
   },
   "outputs": [
    {
     "data": {
      "text/plain": [
       "0"
      ]
     },
     "execution_count": 32,
     "metadata": {},
     "output_type": "execute_result"
    }
   ],
   "source": [
    "df = df.drop_duplicates().reset_index(drop=True)\n",
    "df.duplicated().sum()"
   ]
  },
  {
   "cell_type": "markdown",
   "metadata": {
    "id": "QlFBsxAr_Zct"
   },
   "source": [
    "Теперь избавимся от неявных дубликатов в колонке `genre`."
   ]
  },
  {
   "cell_type": "code",
   "execution_count": 13,
   "metadata": {
    "id": "JIUcqzZN_Zct",
    "scrolled": true
   },
   "outputs": [
    {
     "data": {
      "text/plain": [
       "array(['acid', 'acoustic', 'action', 'adult', 'africa', 'afrikaans',\n",
       "       'alternative', 'alternativepunk', 'ambient', 'americana',\n",
       "       'animated', 'anime', 'arabesk', 'arabic', 'arena',\n",
       "       'argentinetango', 'art', 'audiobook', 'author', 'avantgarde',\n",
       "       'axé', 'baile', 'balkan', 'beats', 'bigroom', 'black', 'bluegrass',\n",
       "       'blues', 'bollywood', 'bossa', 'brazilian', 'breakbeat', 'breaks',\n",
       "       'broadway', 'cantautori', 'cantopop', 'canzone', 'caribbean',\n",
       "       'caucasian', 'celtic', 'chamber', 'chanson', 'children', 'chill',\n",
       "       'chinese', 'choral', 'christian', 'christmas', 'classical',\n",
       "       'classicmetal', 'club', 'colombian', 'comedy', 'conjazz',\n",
       "       'contemporary', 'country', 'cuban', 'dance', 'dancehall',\n",
       "       'dancepop', 'dark', 'death', 'deep', 'deutschrock', 'deutschspr',\n",
       "       'dirty', 'disco', 'dnb', 'documentary', 'downbeat', 'downtempo',\n",
       "       'drum', 'dub', 'dubstep', 'eastern', 'easy', 'electronic',\n",
       "       'electropop', 'emo', 'entehno', 'epicmetal', 'estrada', 'ethnic',\n",
       "       'eurofolk', 'european', 'experimental', 'extrememetal', 'fado',\n",
       "       'fairytail', 'film', 'fitness', 'flamenco', 'folk', 'folklore',\n",
       "       'folkmetal', 'folkrock', 'folktronica', 'forró', 'frankreich',\n",
       "       'französisch', 'french', 'funk', 'future', 'gangsta', 'garage',\n",
       "       'german', 'ghazal', 'gitarre', 'glitch', 'gospel', 'gothic',\n",
       "       'grime', 'grunge', 'gypsy', 'handsup', \"hard'n'heavy\", 'hardcore',\n",
       "       'hardstyle', 'hardtechno', 'hip', 'hip-hop', 'hiphop',\n",
       "       'historisch', 'holiday', 'hop', 'horror', 'house', 'hymn', 'idm',\n",
       "       'independent', 'indian', 'indie', 'indipop', 'industrial',\n",
       "       'inspirational', 'instrumental', 'international', 'irish', 'jam',\n",
       "       'japanese', 'jazz', 'jewish', 'jpop', 'jungle', 'k-pop',\n",
       "       'karadeniz', 'karaoke', 'kayokyoku', 'korean', 'laiko', 'latin',\n",
       "       'latino', 'leftfield', 'local', 'lounge', 'loungeelectronic',\n",
       "       'lovers', 'malaysian', 'mandopop', 'marschmusik', 'meditative',\n",
       "       'mediterranean', 'melodic', 'metal', 'metalcore', 'mexican',\n",
       "       'middle', 'minimal', 'miscellaneous', 'modern', 'mood', 'mpb',\n",
       "       'muslim', 'native', 'neoklassik', 'neue', 'new', 'newage',\n",
       "       'newwave', 'nu', 'nujazz', 'numetal', 'oceania', 'old', 'opera',\n",
       "       'orchestral', 'other', 'piano', 'podcasts', 'pop', 'popdance',\n",
       "       'popelectronic', 'popeurodance', 'poprussian', 'post',\n",
       "       'posthardcore', 'postrock', 'power', 'progmetal', 'progressive',\n",
       "       'psychedelic', 'punjabi', 'punk', 'quebecois', 'ragga', 'ram',\n",
       "       'rancheras', 'rap', 'rave', 'reggae', 'reggaeton', 'regional',\n",
       "       'relax', 'religious', 'retro', 'rhythm', 'rnb', 'rnr', 'rock',\n",
       "       'rockabilly', 'rockalternative', 'rockindie', 'rockother',\n",
       "       'romance', 'roots', 'ruspop', 'rusrap', 'rusrock', 'russian',\n",
       "       'salsa', 'samba', 'scenic', 'schlager', 'self', 'sertanejo',\n",
       "       'shanson', 'shoegazing', 'showtunes', 'singer', 'ska', 'skarock',\n",
       "       'slow', 'smooth', 'soft', 'soul', 'soulful', 'sound', 'soundtrack',\n",
       "       'southern', 'specialty', 'speech', 'spiritual', 'sport',\n",
       "       'stonerrock', 'surf', 'swing', 'synthpop', 'synthrock',\n",
       "       'sängerportrait', 'tango', 'tanzorchester', 'taraftar', 'tatar',\n",
       "       'tech', 'techno', 'teen', 'thrash', 'top', 'traditional',\n",
       "       'tradjazz', 'trance', 'tribal', 'trip', 'triphop', 'tropical',\n",
       "       'türk', 'türkçe', 'ukrrock', 'unknown', 'urban', 'uzbek',\n",
       "       'variété', 'vi', 'videogame', 'vocal', 'western', 'world',\n",
       "       'worldbeat', 'ïîï', 'электроника'], dtype=object)"
      ]
     },
     "execution_count": 13,
     "metadata": {},
     "output_type": "execute_result"
    }
   ],
   "source": [
    "# Просмотр уникальных названий жанров\n",
    "df['genre'].sort_values().unique()"
   ]
  },
  {
   "cell_type": "code",
   "execution_count": 34,
   "metadata": {
    "id": "ErNDkmns_Zct",
    "scrolled": true
   },
   "outputs": [
    {
     "data": {
      "text/plain": [
       "array(['acid', 'acoustic', 'action', 'adult', 'africa', 'afrikaans',\n",
       "       'alternative', 'alternativepunk', 'ambient', 'americana',\n",
       "       'animated', 'anime', 'arabesk', 'arabic', 'arena',\n",
       "       'argentinetango', 'art', 'audiobook', 'author', 'avantgarde',\n",
       "       'axé', 'baile', 'balkan', 'beats', 'bigroom', 'black', 'bluegrass',\n",
       "       'blues', 'bollywood', 'bossa', 'brazilian', 'breakbeat', 'breaks',\n",
       "       'broadway', 'cantautori', 'cantopop', 'canzone', 'caribbean',\n",
       "       'caucasian', 'celtic', 'chamber', 'chanson', 'children', 'chill',\n",
       "       'chinese', 'choral', 'christian', 'christmas', 'classical',\n",
       "       'classicmetal', 'club', 'colombian', 'comedy', 'conjazz',\n",
       "       'contemporary', 'country', 'cuban', 'dance', 'dancehall',\n",
       "       'dancepop', 'dark', 'death', 'deep', 'deutschrock', 'deutschspr',\n",
       "       'dirty', 'disco', 'dnb', 'documentary', 'downbeat', 'downtempo',\n",
       "       'drum', 'dub', 'dubstep', 'eastern', 'easy', 'electronic',\n",
       "       'electropop', 'emo', 'entehno', 'epicmetal', 'estrada', 'ethnic',\n",
       "       'eurofolk', 'european', 'experimental', 'extrememetal', 'fado',\n",
       "       'fairytail', 'film', 'fitness', 'flamenco', 'folk', 'folklore',\n",
       "       'folkmetal', 'folkrock', 'folktronica', 'forró', 'frankreich',\n",
       "       'französisch', 'french', 'funk', 'future', 'gangsta', 'garage',\n",
       "       'german', 'ghazal', 'gitarre', 'glitch', 'gospel', 'gothic',\n",
       "       'grime', 'grunge', 'gypsy', 'handsup', \"hard'n'heavy\", 'hardcore',\n",
       "       'hardstyle', 'hardtechno', 'hiphop', 'historisch', 'holiday',\n",
       "       'horror', 'house', 'hymn', 'idm', 'independent', 'indian', 'indie',\n",
       "       'indipop', 'industrial', 'inspirational', 'instrumental',\n",
       "       'international', 'irish', 'jam', 'japanese', 'jazz', 'jewish',\n",
       "       'jpop', 'jungle', 'k-pop', 'karadeniz', 'karaoke', 'kayokyoku',\n",
       "       'korean', 'laiko', 'latin', 'latino', 'leftfield', 'local',\n",
       "       'lounge', 'loungeelectronic', 'lovers', 'malaysian', 'mandopop',\n",
       "       'marschmusik', 'meditative', 'mediterranean', 'melodic', 'metal',\n",
       "       'metalcore', 'mexican', 'middle', 'minimal', 'miscellaneous',\n",
       "       'modern', 'mood', 'mpb', 'muslim', 'native', 'neoklassik', 'neue',\n",
       "       'new', 'newage', 'newwave', 'nu', 'nujazz', 'numetal', 'oceania',\n",
       "       'old', 'opera', 'orchestral', 'other', 'piano', 'podcasts', 'pop',\n",
       "       'popdance', 'popelectronic', 'popeurodance', 'poprussian', 'post',\n",
       "       'posthardcore', 'postrock', 'power', 'progmetal', 'progressive',\n",
       "       'psychedelic', 'punjabi', 'punk', 'quebecois', 'ragga', 'ram',\n",
       "       'rancheras', 'rap', 'rave', 'reggae', 'reggaeton', 'regional',\n",
       "       'relax', 'religious', 'retro', 'rhythm', 'rnb', 'rnr', 'rock',\n",
       "       'rockabilly', 'rockalternative', 'rockindie', 'rockother',\n",
       "       'romance', 'roots', 'ruspop', 'rusrap', 'rusrock', 'russian',\n",
       "       'salsa', 'samba', 'scenic', 'schlager', 'self', 'sertanejo',\n",
       "       'shanson', 'shoegazing', 'showtunes', 'singer', 'ska', 'skarock',\n",
       "       'slow', 'smooth', 'soft', 'soul', 'soulful', 'sound', 'soundtrack',\n",
       "       'southern', 'specialty', 'speech', 'spiritual', 'sport',\n",
       "       'stonerrock', 'surf', 'swing', 'synthpop', 'synthrock',\n",
       "       'sängerportrait', 'tango', 'tanzorchester', 'taraftar', 'tatar',\n",
       "       'tech', 'techno', 'teen', 'thrash', 'top', 'traditional',\n",
       "       'tradjazz', 'trance', 'tribal', 'trip', 'triphop', 'tropical',\n",
       "       'türk', 'türkçe', 'ukrrock', 'unknown', 'urban', 'uzbek',\n",
       "       'variété', 'vi', 'videogame', 'vocal', 'western', 'world',\n",
       "       'worldbeat', 'ïîï', 'электроника'], dtype=object)"
      ]
     },
     "execution_count": 34,
     "metadata": {},
     "output_type": "execute_result"
    }
   ],
   "source": [
    "df['genre'] = df['genre'].replace(['hip', 'hop', 'hip-hop'], 'hiphop')\n",
    "df['genre'].sort_values().unique()"
   ]
  },
  {
   "cell_type": "markdown",
   "metadata": {
    "id": "jz6a9-7HQUDd"
   },
   "source": [
    "**Выводы**\n",
    "\n",
    "Предобработка обнаружила три проблемы в данных:\n",
    "\n",
    "- нарушения в стиле заголовков,\n",
    "- пропущенные значения,\n",
    "- дубликаты — явные и неявные.\n",
    "\n",
    "Вы исправили заголовки, чтобы упростить работу с таблицей. Без дубликатов исследование станет более точным.\n",
    "\n",
    "Пропущенные значения вы заменили на `'unknown'`. Ещё предстоит увидеть, не повредят ли исследованию пропуски в колонке `genre`.\n",
    "\n",
    "Теперь можно перейти к проверке гипотез. "
   ]
  },
  {
   "cell_type": "markdown",
   "metadata": {
    "id": "WttZHXH0SqKk"
   },
   "source": [
    "## Проверка гипотез"
   ]
  },
  {
   "cell_type": "markdown",
   "metadata": {
    "id": "Im936VVi_Zcu"
   },
   "source": [
    "### Сравнение поведения пользователей двух столиц"
   ]
  },
  {
   "cell_type": "markdown",
   "metadata": {
    "id": "nwt_MuaL_Zcu"
   },
   "source": [
    "Первая гипотеза: пользователи по-разному слушают музыку в Москве и Санкт-Петербурге. Проверим это предположение по данным о трёх днях недели — понедельнике, среде и пятнице. Для этого:\n",
    "\n",
    "* Разделим пользователей Москвы и Санкт-Петербурга\n",
    "* Сравним, сколько треков послушала каждая группа пользователей в понедельник, среду и пятницу.\n"
   ]
  },
  {
   "cell_type": "code",
   "execution_count": 17,
   "metadata": {
    "id": "0_Qs96oh_Zcu"
   },
   "outputs": [
    {
     "name": "stdout",
     "output_type": "stream",
     "text": [
      "Количество пользователей в Москве: 42741\n",
      "Количество пользователей в Санкт-Петербурге: 18512\n"
     ]
    }
   ],
   "source": [
    "# Подсчёт прослушиваний в каждом \n",
    "count_moscow_users = df[df['city'] == 'Moscow']['user_id'].count()\n",
    "count_spb_users = df[df['city'] == 'Saint-Petersburg']['user_id'].count()\n",
    "print('Количество пользователей в Москве:',count_moscow_users)\n",
    "print('Количество пользователей в Санкт-Петербурге:',count_spb_users)"
   ]
  },
  {
   "cell_type": "markdown",
   "metadata": {
    "id": "dzli3w8o_Zcu"
   },
   "source": [
    "В Москве прослушиваний больше, чем в Петербурге. Из этого не следует, что московские пользователи чаще слушают музыку. Просто самих пользователей в Москве больше."
   ]
  },
  {
   "cell_type": "code",
   "execution_count": 18,
   "metadata": {
    "id": "uZMKjiJz_Zcu"
   },
   "outputs": [
    {
     "data": {
      "text/plain": [
       "day\n",
       "Friday       21840\n",
       "Monday       21354\n",
       "Wednesday    18059\n",
       "Name: user_id, dtype: int64"
      ]
     },
     "execution_count": 18,
     "metadata": {},
     "output_type": "execute_result"
    }
   ],
   "source": [
    "# Подсчёт прослушиваний в каждый из трёх дней\n",
    "df.groupby('day')['user_id'].count()"
   ]
  },
  {
   "cell_type": "markdown",
   "metadata": {
    "id": "cC2tNrlL_Zcu"
   },
   "source": [
    "В среднем пользователи из двух городов менее активны по средам. Но картина может измениться, если рассмотреть каждый город в отдельности."
   ]
  },
  {
   "cell_type": "code",
   "execution_count": 19,
   "metadata": {
    "id": "Nz3GdQB1_Zcu"
   },
   "outputs": [],
   "source": [
    "# посчитает прослушивания для заданного дня и города\n",
    "def number_tracks(day, city):\n",
    "\n",
    "    filter_df = df[df['day'] == day]\n",
    "    track_list = filter_df[filter_df['city'] == city]\n",
    "    track_list_count = track_list['user_id'].count()\n",
    "    return track_list_count"
   ]
  },
  {
   "cell_type": "code",
   "execution_count": 31,
   "metadata": {
    "id": "rJcRATNQ_Zcu"
   },
   "outputs": [
    {
     "name": "stdout",
     "output_type": "stream",
     "text": [
      "количество прослушиваний в Москве по понедельникам 15740\n",
      "количество прослушиваний в Санкт-Петербурге по понедельникам 5614\n",
      "\n",
      "количество прослушиваний в Москве по средам 11056\n",
      "количество прослушиваний в Санкт-Петербурге по средам 7003\n",
      "\n",
      "количество прослушиваний в Москве по пятницам 15945\n",
      "количество прослушиваний в Санкт-Петербурге по пятницам 5895\n",
      "\n"
     ]
    }
   ],
   "source": [
    "print(f\"количество прослушиваний в Москве по понедельникам {number_tracks(day='Monday', city='Moscow')}\")\n",
    "print(f\"количество прослушиваний в Санкт-Петербурге по понедельникам {number_tracks(day='Monday', city='Saint-Petersburg')}\\n\")\n",
    "\n",
    "print(f\"количество прослушиваний в Москве по средам {number_tracks(day='Wednesday', city='Moscow')}\")\n",
    "print(f\"количество прослушиваний в Санкт-Петербурге по средам {number_tracks(day='Wednesday', city='Saint-Petersburg')}\\n\")\n",
    "\n",
    "print(f\"количество прослушиваний в Москве по пятницам {number_tracks(day='Friday', city='Moscow')}\")\n",
    "print(f\"количество прослушиваний в Санкт-Петербурге по пятницам {number_tracks(day='Friday', city='Saint-Petersburg')}\\n\")"
   ]
  },
  {
   "cell_type": "code",
   "execution_count": 21,
   "metadata": {
    "id": "APAcLpOr_Zcu"
   },
   "outputs": [
    {
     "data": {
      "text/html": [
       "<div>\n",
       "<style scoped>\n",
       "    .dataframe tbody tr th:only-of-type {\n",
       "        vertical-align: middle;\n",
       "    }\n",
       "\n",
       "    .dataframe tbody tr th {\n",
       "        vertical-align: top;\n",
       "    }\n",
       "\n",
       "    .dataframe thead th {\n",
       "        text-align: right;\n",
       "    }\n",
       "</style>\n",
       "<table border=\"1\" class=\"dataframe\">\n",
       "  <thead>\n",
       "    <tr style=\"text-align: right;\">\n",
       "      <th></th>\n",
       "      <th>city</th>\n",
       "      <th>monday</th>\n",
       "      <th>wednesday</th>\n",
       "      <th>friday</th>\n",
       "    </tr>\n",
       "  </thead>\n",
       "  <tbody>\n",
       "    <tr>\n",
       "      <th>0</th>\n",
       "      <td>Moscow</td>\n",
       "      <td>15740</td>\n",
       "      <td>11056</td>\n",
       "      <td>15945</td>\n",
       "    </tr>\n",
       "    <tr>\n",
       "      <th>1</th>\n",
       "      <td>Saint-Petersburg</td>\n",
       "      <td>5614</td>\n",
       "      <td>7003</td>\n",
       "      <td>5895</td>\n",
       "    </tr>\n",
       "  </tbody>\n",
       "</table>\n",
       "</div>"
      ],
      "text/plain": [
       "               city  monday  wednesday  friday\n",
       "0            Moscow   15740      11056   15945\n",
       "1  Saint-Petersburg    5614       7003    5895"
      ]
     },
     "metadata": {},
     "output_type": "display_data"
    }
   ],
   "source": [
    "# Таблица с результатами\n",
    "data = [['Moscow', 15740, 11056, 15945], ['Saint-Petersburg', 5614, 7003, 5895]]\n",
    "columns = ['city', 'monday', 'wednesday', 'friday']\n",
    "\n",
    "result_table = pd.DataFrame(data=data, columns=columns)\n",
    "display(result_table)"
   ]
  },
  {
   "cell_type": "markdown",
   "metadata": {
    "id": "-EgPIHYu_Zcu"
   },
   "source": [
    "**Выводы**\n",
    "\n",
    "Данные показывают разницу поведения пользователей:\n",
    "\n",
    "- В Москве пик прослушиваний приходится на понедельник и пятницу, а в среду заметен спад.\n",
    "- В Петербурге, наоборот, больше слушают музыку по средам. Активность в понедельник и пятницу здесь почти в равной мере уступает среде.\n",
    "\n",
    "Значит, данные говорят в пользу первой гипотезы."
   ]
  },
  {
   "cell_type": "markdown",
   "metadata": {
    "id": "atZAxtq4_Zcu"
   },
   "source": [
    "### Музыка в начале и в конце недели"
   ]
  },
  {
   "cell_type": "markdown",
   "metadata": {
    "id": "eXrQqXFH_Zcu"
   },
   "source": [
    "Вторая гипотеза: утром в понедельник в Москве преобладают одни жанры, а в Петербурге — другие. Так же и вечером пятницы преобладают разные жанры — в зависимости от города."
   ]
  },
  {
   "cell_type": "code",
   "execution_count": 22,
   "metadata": {
    "id": "qeaFfM_P_Zcu"
   },
   "outputs": [],
   "source": [
    "# получение таблицы moscow_general из тех строк таблицы df, \n",
    "# для которых значение в столбце 'city' равно 'Moscow'\n",
    "moscow_general = df[df['city'] == 'Moscow']"
   ]
  },
  {
   "cell_type": "code",
   "execution_count": 23,
   "metadata": {
    "id": "ORaVRKto_Zcu"
   },
   "outputs": [],
   "source": [
    "# получение таблицы spb_general из тех строк таблицы df,\n",
    "# для которых значение в столбце 'city' равно 'Saint-Petersburg'\n",
    "spb_general = df[df['city'] == 'Saint-Petersburg']"
   ]
  },
  {
   "cell_type": "code",
   "execution_count": 24,
   "metadata": {
    "id": "laJT9BYl_Zcu"
   },
   "outputs": [],
   "source": [
    "#  Выводит информацию о топ-10 жанров тех треков, которые прослушивали в указанный день,\n",
    "# в промежутке между двумя отметками времени\n",
    "def genre_weekday(table, day, time1, time2):\n",
    "    filter_table = table[table['day'] == day]\n",
    "    filter_table = filter_table[filter_table['time'] > time1]\n",
    "    genre_df = filter_table[filter_table['time'] < time2]\n",
    "    \n",
    "    genre_df_count = genre_df.groupby('genre')['user_id'].count()\n",
    "    \n",
    "    genre_df_sorted = genre_df_count.sort_values(ascending=False)\n",
    "    \n",
    "    return genre_df_sorted.head(10)    "
   ]
  },
  {
   "cell_type": "markdown",
   "metadata": {
    "id": "la2s2_PF_Zcu"
   },
   "source": [
    "Cравним результаты функции `genre_weekday()` для Москвы и Санкт-Петербурга в понедельник утром (с 7:00 до 11:00) и в пятницу вечером (с 17:00 до 23:00):"
   ]
  },
  {
   "cell_type": "code",
   "execution_count": 25,
   "metadata": {
    "id": "yz7itPUQ_Zcu"
   },
   "outputs": [
    {
     "data": {
      "text/plain": [
       "genre\n",
       "pop            781\n",
       "dance          549\n",
       "electronic     480\n",
       "rock           474\n",
       "hiphop         286\n",
       "ruspop         186\n",
       "world          181\n",
       "rusrap         175\n",
       "alternative    164\n",
       "unknown        161\n",
       "Name: user_id, dtype: int64"
      ]
     },
     "execution_count": 25,
     "metadata": {},
     "output_type": "execute_result"
    }
   ],
   "source": [
    "# вызов функции для утра понедельника в Москве\n",
    "genre_weekday(moscow_general, 'Monday', '07:00', '11:00')"
   ]
  },
  {
   "cell_type": "code",
   "execution_count": 26,
   "metadata": {
    "id": "kwUcHPdy_Zcu"
   },
   "outputs": [
    {
     "data": {
      "text/plain": [
       "genre\n",
       "pop            218\n",
       "dance          182\n",
       "rock           162\n",
       "electronic     147\n",
       "hiphop          80\n",
       "ruspop          64\n",
       "alternative     58\n",
       "rusrap          55\n",
       "jazz            44\n",
       "classical       40\n",
       "Name: user_id, dtype: int64"
      ]
     },
     "execution_count": 26,
     "metadata": {},
     "output_type": "execute_result"
    }
   ],
   "source": [
    "# вызов функции для утра понедельника в Петербурге \n",
    "genre_weekday(spb_general, 'Monday', '07:00', '11:00')"
   ]
  },
  {
   "cell_type": "code",
   "execution_count": 27,
   "metadata": {
    "id": "EzXVRE1o_Zcu"
   },
   "outputs": [
    {
     "data": {
      "text/plain": [
       "genre\n",
       "pop            713\n",
       "rock           517\n",
       "dance          495\n",
       "electronic     482\n",
       "hiphop         273\n",
       "world          208\n",
       "ruspop         170\n",
       "alternative    163\n",
       "classical      163\n",
       "rusrap         142\n",
       "Name: user_id, dtype: int64"
      ]
     },
     "execution_count": 27,
     "metadata": {},
     "output_type": "execute_result"
    }
   ],
   "source": [
    "# вызов функции для вечера пятницы в Москве\n",
    "genre_weekday(moscow_general, 'Friday', '17:00', '23:00')"
   ]
  },
  {
   "cell_type": "code",
   "execution_count": 28,
   "metadata": {
    "id": "JZaEKu5v_Zcu"
   },
   "outputs": [
    {
     "data": {
      "text/plain": [
       "genre\n",
       "pop            256\n",
       "electronic     216\n",
       "rock           216\n",
       "dance          210\n",
       "hiphop          97\n",
       "alternative     63\n",
       "jazz            61\n",
       "classical       60\n",
       "rusrap          59\n",
       "world           54\n",
       "Name: user_id, dtype: int64"
      ]
     },
     "execution_count": 28,
     "metadata": {},
     "output_type": "execute_result"
    }
   ],
   "source": [
    "# вызов функции для вечера пятницы в Петербурге\n",
    "genre_weekday(spb_general, 'Friday', '17:00', '23:00')"
   ]
  },
  {
   "cell_type": "markdown",
   "metadata": {
    "id": "wrCe4MNX_Zcu"
   },
   "source": [
    "**Выводы**\n",
    "\n",
    "Если сравнить топ-10 жанров в понедельник утром, можно сделать такие выводы:\n",
    "\n",
    "1. В Москве и Петербурге слушают похожую музыку. Единственное отличие — в московский рейтинг вошёл жанр “world”, а в петербургский — джаз и классика.\n",
    "\n",
    "2. В Москве пропущенных значений оказалось так много, что значение `'unknown'` заняло десятое место среди самых популярных жанров. Значит, пропущенные значения занимают существенную долю в данных и угрожают достоверности исследования.\n",
    "\n",
    "Вечер пятницы не меняет эту картину. Некоторые жанры поднимаются немного выше, другие спускаются, но в целом топ-10 остаётся тем же самым.\n",
    "\n",
    "Таким образом, вторая гипотеза подтвердилась лишь частично:\n",
    "* Пользователи слушают похожую музыку в начале недели и в конце.\n",
    "* Разница между Москвой и Петербургом не слишком выражена. В Москве чаще слушают русскую популярную музыку, в Петербурге — джаз.\n",
    "\n",
    "Однако пропуски в данных ставят под сомнение этот результат. В Москве их так много, что рейтинг топ-10 мог бы выглядеть иначе, если бы не утерянные  данные о жанрах."
   ]
  },
  {
   "cell_type": "markdown",
   "metadata": {
    "id": "JolODAqr_Zcu"
   },
   "source": [
    "### Жанровые предпочтения в Москве и Петербурге\n",
    "\n",
    "Гипотеза: Петербург — столица рэпа, музыку этого жанра там слушают чаще, чем в Москве.  А Москва — город контрастов, в котором, тем не менее, преобладает поп-музыка."
   ]
  },
  {
   "cell_type": "code",
   "execution_count": 29,
   "metadata": {
    "id": "r19lIPke_Zcu"
   },
   "outputs": [
    {
     "data": {
      "text/html": [
       "<div>\n",
       "<style scoped>\n",
       "    .dataframe tbody tr th:only-of-type {\n",
       "        vertical-align: middle;\n",
       "    }\n",
       "\n",
       "    .dataframe tbody tr th {\n",
       "        vertical-align: top;\n",
       "    }\n",
       "\n",
       "    .dataframe thead th {\n",
       "        text-align: right;\n",
       "    }\n",
       "</style>\n",
       "<table border=\"1\" class=\"dataframe\">\n",
       "  <thead>\n",
       "    <tr style=\"text-align: right;\">\n",
       "      <th></th>\n",
       "      <th>track</th>\n",
       "    </tr>\n",
       "    <tr>\n",
       "      <th>genre</th>\n",
       "      <th></th>\n",
       "    </tr>\n",
       "  </thead>\n",
       "  <tbody>\n",
       "    <tr>\n",
       "      <th>pop</th>\n",
       "      <td>5892</td>\n",
       "    </tr>\n",
       "    <tr>\n",
       "      <th>dance</th>\n",
       "      <td>4435</td>\n",
       "    </tr>\n",
       "    <tr>\n",
       "      <th>rock</th>\n",
       "      <td>3965</td>\n",
       "    </tr>\n",
       "    <tr>\n",
       "      <th>electronic</th>\n",
       "      <td>3786</td>\n",
       "    </tr>\n",
       "    <tr>\n",
       "      <th>hiphop</th>\n",
       "      <td>2096</td>\n",
       "    </tr>\n",
       "    <tr>\n",
       "      <th>classical</th>\n",
       "      <td>1616</td>\n",
       "    </tr>\n",
       "    <tr>\n",
       "      <th>world</th>\n",
       "      <td>1432</td>\n",
       "    </tr>\n",
       "    <tr>\n",
       "      <th>alternative</th>\n",
       "      <td>1379</td>\n",
       "    </tr>\n",
       "    <tr>\n",
       "      <th>ruspop</th>\n",
       "      <td>1372</td>\n",
       "    </tr>\n",
       "    <tr>\n",
       "      <th>rusrap</th>\n",
       "      <td>1161</td>\n",
       "    </tr>\n",
       "  </tbody>\n",
       "</table>\n",
       "</div>"
      ],
      "text/plain": [
       "             track\n",
       "genre             \n",
       "pop           5892\n",
       "dance         4435\n",
       "rock          3965\n",
       "electronic    3786\n",
       "hiphop        2096\n",
       "classical     1616\n",
       "world         1432\n",
       "alternative   1379\n",
       "ruspop        1372\n",
       "rusrap        1161"
      ]
     },
     "execution_count": 29,
     "metadata": {},
     "output_type": "execute_result"
    }
   ],
   "source": [
    "moscow_genres =  moscow_general.groupby('genre')['track'].count().sort_values(ascending=False)\n",
    "moscow_genres.to_frame().head(10)"
   ]
  },
  {
   "cell_type": "markdown",
   "metadata": {
    "id": "cnPG2vnN_Zcv"
   },
   "source": [
    "Теперь повторите то же и для Петербурга."
   ]
  },
  {
   "cell_type": "code",
   "execution_count": 30,
   "metadata": {
    "id": "gluLIpE7_Zcv"
   },
   "outputs": [
    {
     "data": {
      "text/html": [
       "<div>\n",
       "<style scoped>\n",
       "    .dataframe tbody tr th:only-of-type {\n",
       "        vertical-align: middle;\n",
       "    }\n",
       "\n",
       "    .dataframe tbody tr th {\n",
       "        vertical-align: top;\n",
       "    }\n",
       "\n",
       "    .dataframe thead th {\n",
       "        text-align: right;\n",
       "    }\n",
       "</style>\n",
       "<table border=\"1\" class=\"dataframe\">\n",
       "  <thead>\n",
       "    <tr style=\"text-align: right;\">\n",
       "      <th></th>\n",
       "      <th>track</th>\n",
       "    </tr>\n",
       "    <tr>\n",
       "      <th>genre</th>\n",
       "      <th></th>\n",
       "    </tr>\n",
       "  </thead>\n",
       "  <tbody>\n",
       "    <tr>\n",
       "      <th>pop</th>\n",
       "      <td>2431</td>\n",
       "    </tr>\n",
       "    <tr>\n",
       "      <th>dance</th>\n",
       "      <td>1932</td>\n",
       "    </tr>\n",
       "    <tr>\n",
       "      <th>rock</th>\n",
       "      <td>1879</td>\n",
       "    </tr>\n",
       "    <tr>\n",
       "      <th>electronic</th>\n",
       "      <td>1736</td>\n",
       "    </tr>\n",
       "    <tr>\n",
       "      <th>hiphop</th>\n",
       "      <td>960</td>\n",
       "    </tr>\n",
       "    <tr>\n",
       "      <th>alternative</th>\n",
       "      <td>649</td>\n",
       "    </tr>\n",
       "    <tr>\n",
       "      <th>classical</th>\n",
       "      <td>646</td>\n",
       "    </tr>\n",
       "    <tr>\n",
       "      <th>rusrap</th>\n",
       "      <td>564</td>\n",
       "    </tr>\n",
       "    <tr>\n",
       "      <th>ruspop</th>\n",
       "      <td>538</td>\n",
       "    </tr>\n",
       "    <tr>\n",
       "      <th>world</th>\n",
       "      <td>515</td>\n",
       "    </tr>\n",
       "  </tbody>\n",
       "</table>\n",
       "</div>"
      ],
      "text/plain": [
       "             track\n",
       "genre             \n",
       "pop           2431\n",
       "dance         1932\n",
       "rock          1879\n",
       "electronic    1736\n",
       "hiphop         960\n",
       "alternative    649\n",
       "classical      646\n",
       "rusrap         564\n",
       "ruspop         538\n",
       "world          515"
      ]
     },
     "execution_count": 30,
     "metadata": {},
     "output_type": "execute_result"
    }
   ],
   "source": [
    "spb_genres = spb_general.groupby('genre')['track'].count().sort_values(ascending=False)\n",
    "spb_genres.to_frame().head(10)"
   ]
  },
  {
   "cell_type": "markdown",
   "metadata": {
    "id": "RY51YJYu_Zcv"
   },
   "source": [
    "**Выводы**"
   ]
  },
  {
   "cell_type": "markdown",
   "metadata": {
    "id": "nVhnJEm__Zcv"
   },
   "source": [
    "Гипотеза частично подтвердилась:\n",
    "* Поп-музыка — самый популярный жанр в Москве, как и предполагала гипотеза. Более того, в топ-10 жанров встречается близкий жанр — русская популярная музыка.\n",
    "* Вопреки ожиданиям, рэп одинаково популярен в Москве и Петербурге. \n"
   ]
  },
  {
   "cell_type": "markdown",
   "metadata": {
    "id": "ykKQ0N65_Zcv"
   },
   "source": [
    "## Итоги исследования"
   ]
  },
  {
   "cell_type": "markdown",
   "metadata": {
    "id": "tjUwbHb3_Zcv"
   },
   "source": [
    "Были проверенны три гипотезы и установлено:\n",
    "\n",
    "1. День недели по-разному влияет на активность пользователей в Москве и Петербурге. \n",
    "\n",
    "Первая гипотеза полностью подтвердилась.\n",
    "\n",
    "2. Музыкальные предпочтения не сильно меняются в течение недели — будь то Москва или Петербург. Небольшие различия заметны в начале недели, по понедельникам:\n",
    "* в Москве слушают музыку жанра “world”,\n",
    "* в Петербурге — джаз и классику.\n",
    "\n",
    "Таким образом, вторая гипотеза подтвердилась лишь отчасти. Этот результат мог оказаться иным, если бы не пропуски в данных.\n",
    "\n",
    "3. Во вкусах пользователей Москвы и Петербурга больше общего чем различий. Вопреки ожиданиям, предпочтения жанров в Петербурге напоминают московские.\n",
    "\n",
    "Третья гипотеза не подтвердилась. Если различия в предпочтениях и существуют, на основной массе пользователей они незаметны."
   ]
  }
 ],
 "metadata": {
  "ExecuteTimeLog": [
   {
    "duration": 619,
    "start_time": "2021-12-09T20:28:17.047Z"
   },
   {
    "duration": 151,
    "start_time": "2021-12-09T20:29:07.557Z"
   },
   {
    "duration": 17,
    "start_time": "2021-12-09T20:29:24.773Z"
   },
   {
    "duration": 24,
    "start_time": "2021-12-09T20:29:56.328Z"
   },
   {
    "duration": 4,
    "start_time": "2021-12-09T20:36:29.992Z"
   },
   {
    "duration": 21,
    "start_time": "2021-12-09T20:38:23.461Z"
   },
   {
    "duration": 4,
    "start_time": "2021-12-09T20:38:38.298Z"
   },
   {
    "duration": 23,
    "start_time": "2021-12-09T20:39:06.958Z"
   },
   {
    "duration": 17,
    "start_time": "2021-12-09T20:47:03.104Z"
   },
   {
    "duration": 23,
    "start_time": "2021-12-09T20:47:14.148Z"
   },
   {
    "duration": 62,
    "start_time": "2021-12-09T20:48:09.711Z"
   },
   {
    "duration": 76,
    "start_time": "2021-12-09T20:50:21.654Z"
   },
   {
    "duration": 60,
    "start_time": "2021-12-09T20:50:32.423Z"
   },
   {
    "duration": 49,
    "start_time": "2021-12-09T20:50:43.270Z"
   },
   {
    "duration": 141,
    "start_time": "2021-12-09T20:51:50.153Z"
   },
   {
    "duration": 41,
    "start_time": "2021-12-09T20:51:56.489Z"
   },
   {
    "duration": 3,
    "start_time": "2021-12-09T20:55:27.658Z"
   },
   {
    "duration": 8,
    "start_time": "2021-12-09T20:56:23.994Z"
   },
   {
    "duration": 41,
    "start_time": "2021-12-09T20:56:46.760Z"
   },
   {
    "duration": 444,
    "start_time": "2021-12-12T07:17:27.174Z"
   },
   {
    "duration": 594,
    "start_time": "2021-12-12T07:17:57.442Z"
   },
   {
    "duration": 130,
    "start_time": "2021-12-12T07:17:58.038Z"
   },
   {
    "duration": 16,
    "start_time": "2021-12-12T07:17:58.170Z"
   },
   {
    "duration": 33,
    "start_time": "2021-12-12T07:17:58.187Z"
   },
   {
    "duration": 7,
    "start_time": "2021-12-12T07:17:58.222Z"
   },
   {
    "duration": 29,
    "start_time": "2021-12-12T07:17:58.230Z"
   },
   {
    "duration": 21,
    "start_time": "2021-12-12T07:17:58.260Z"
   },
   {
    "duration": 27,
    "start_time": "2021-12-12T07:17:58.283Z"
   },
   {
    "duration": 28,
    "start_time": "2021-12-12T07:17:58.312Z"
   },
   {
    "duration": 21,
    "start_time": "2021-12-12T07:17:58.342Z"
   },
   {
    "duration": 58,
    "start_time": "2021-12-12T07:17:58.364Z"
   },
   {
    "duration": 69,
    "start_time": "2021-12-12T07:17:58.423Z"
   },
   {
    "duration": 58,
    "start_time": "2021-12-12T07:17:58.494Z"
   },
   {
    "duration": 57,
    "start_time": "2021-12-12T07:17:58.554Z"
   },
   {
    "duration": 3,
    "start_time": "2021-12-12T07:17:58.613Z"
   },
   {
    "duration": 9,
    "start_time": "2021-12-12T07:17:58.617Z"
   },
   {
    "duration": 41,
    "start_time": "2021-12-12T07:17:58.627Z"
   },
   {
    "duration": 9821,
    "start_time": "2021-12-12T07:17:58.670Z"
   },
   {
    "duration": 208,
    "start_time": "2021-12-12T07:18:08.286Z"
   },
   {
    "duration": 205,
    "start_time": "2021-12-12T07:18:08.290Z"
   },
   {
    "duration": 198,
    "start_time": "2021-12-12T07:18:08.298Z"
   },
   {
    "duration": 195,
    "start_time": "2021-12-12T07:18:08.302Z"
   },
   {
    "duration": 182,
    "start_time": "2021-12-12T07:18:08.315Z"
   },
   {
    "duration": 179,
    "start_time": "2021-12-12T07:18:08.319Z"
   },
   {
    "duration": 177,
    "start_time": "2021-12-12T07:18:08.322Z"
   },
   {
    "duration": 175,
    "start_time": "2021-12-12T07:18:08.325Z"
   },
   {
    "duration": 169,
    "start_time": "2021-12-12T07:18:08.332Z"
   },
   {
    "duration": 166,
    "start_time": "2021-12-12T07:18:08.335Z"
   },
   {
    "duration": 163,
    "start_time": "2021-12-12T07:18:08.339Z"
   },
   {
    "duration": 157,
    "start_time": "2021-12-12T07:18:08.346Z"
   },
   {
    "duration": 155,
    "start_time": "2021-12-12T07:18:08.349Z"
   },
   {
    "duration": 152,
    "start_time": "2021-12-12T07:18:08.353Z"
   },
   {
    "duration": 150,
    "start_time": "2021-12-12T07:18:08.356Z"
   },
   {
    "duration": 146,
    "start_time": "2021-12-12T07:18:08.361Z"
   },
   {
    "duration": 143,
    "start_time": "2021-12-12T07:18:08.365Z"
   },
   {
    "duration": 140,
    "start_time": "2021-12-12T07:18:08.368Z"
   },
   {
    "duration": 137,
    "start_time": "2021-12-12T07:18:08.372Z"
   },
   {
    "duration": 132,
    "start_time": "2021-12-12T07:18:08.378Z"
   },
   {
    "duration": 9382,
    "start_time": "2021-12-12T07:20:28.213Z"
   },
   {
    "duration": 9203,
    "start_time": "2021-12-12T07:21:02.072Z"
   },
   {
    "duration": 9978,
    "start_time": "2021-12-12T07:22:49.194Z"
   },
   {
    "duration": 3,
    "start_time": "2021-12-12T07:23:25.179Z"
   },
   {
    "duration": 9354,
    "start_time": "2021-12-12T07:24:27.112Z"
   },
   {
    "duration": 9183,
    "start_time": "2021-12-12T07:24:41.126Z"
   },
   {
    "duration": 351,
    "start_time": "2021-12-12T16:20:11.690Z"
   },
   {
    "duration": 781,
    "start_time": "2021-12-12T16:20:20.533Z"
   },
   {
    "duration": 190,
    "start_time": "2021-12-12T16:20:21.317Z"
   },
   {
    "duration": 26,
    "start_time": "2021-12-12T16:20:21.509Z"
   },
   {
    "duration": 32,
    "start_time": "2021-12-12T16:20:21.538Z"
   },
   {
    "duration": 5,
    "start_time": "2021-12-12T16:20:21.573Z"
   },
   {
    "duration": 61,
    "start_time": "2021-12-12T16:20:21.580Z"
   },
   {
    "duration": 11,
    "start_time": "2021-12-12T16:20:21.644Z"
   },
   {
    "duration": 42,
    "start_time": "2021-12-12T16:20:21.658Z"
   },
   {
    "duration": 23,
    "start_time": "2021-12-12T16:20:21.718Z"
   },
   {
    "duration": 36,
    "start_time": "2021-12-12T16:20:21.743Z"
   },
   {
    "duration": 119,
    "start_time": "2021-12-12T16:20:21.781Z"
   },
   {
    "duration": 120,
    "start_time": "2021-12-12T16:20:21.902Z"
   },
   {
    "duration": 78,
    "start_time": "2021-12-12T16:20:22.025Z"
   },
   {
    "duration": 56,
    "start_time": "2021-12-12T16:20:22.118Z"
   },
   {
    "duration": 4,
    "start_time": "2021-12-12T16:20:22.176Z"
   },
   {
    "duration": 34,
    "start_time": "2021-12-12T16:20:22.183Z"
   },
   {
    "duration": 57,
    "start_time": "2021-12-12T16:20:22.220Z"
   },
   {
    "duration": 42,
    "start_time": "2021-12-12T16:20:22.280Z"
   },
   {
    "duration": 4,
    "start_time": "2021-12-12T16:20:22.324Z"
   },
   {
    "duration": 5,
    "start_time": "2021-12-12T16:20:22.330Z"
   },
   {
    "duration": 5,
    "start_time": "2021-12-12T16:20:22.337Z"
   },
   {
    "duration": 6,
    "start_time": "2021-12-12T16:20:22.344Z"
   },
   {
    "duration": 3,
    "start_time": "2021-12-12T16:20:22.356Z"
   },
   {
    "duration": 4,
    "start_time": "2021-12-12T16:20:22.362Z"
   },
   {
    "duration": 48,
    "start_time": "2021-12-12T16:20:22.369Z"
   },
   {
    "duration": 4,
    "start_time": "2021-12-12T16:20:22.420Z"
   },
   {
    "duration": 6,
    "start_time": "2021-12-12T16:20:22.426Z"
   },
   {
    "duration": 6,
    "start_time": "2021-12-12T16:20:22.435Z"
   },
   {
    "duration": 5,
    "start_time": "2021-12-12T16:20:22.443Z"
   },
   {
    "duration": 5,
    "start_time": "2021-12-12T16:20:22.451Z"
   },
   {
    "duration": 8,
    "start_time": "2021-12-12T16:20:22.458Z"
   },
   {
    "duration": 48,
    "start_time": "2021-12-12T16:20:22.469Z"
   },
   {
    "duration": 7,
    "start_time": "2021-12-12T16:20:22.520Z"
   },
   {
    "duration": 6,
    "start_time": "2021-12-12T16:20:22.529Z"
   },
   {
    "duration": 6,
    "start_time": "2021-12-12T16:20:22.537Z"
   },
   {
    "duration": 5,
    "start_time": "2021-12-12T16:20:22.545Z"
   },
   {
    "duration": 4,
    "start_time": "2021-12-12T16:20:22.553Z"
   },
   {
    "duration": 6,
    "start_time": "2021-12-12T16:20:22.559Z"
   },
   {
    "duration": 32,
    "start_time": "2021-12-12T16:20:46.162Z"
   },
   {
    "duration": 35,
    "start_time": "2021-12-12T16:22:46.799Z"
   },
   {
    "duration": 34,
    "start_time": "2021-12-12T16:22:59.186Z"
   },
   {
    "duration": 48,
    "start_time": "2021-12-12T16:23:18.574Z"
   },
   {
    "duration": 53,
    "start_time": "2021-12-12T16:27:16.902Z"
   },
   {
    "duration": 46,
    "start_time": "2021-12-12T16:27:29.568Z"
   },
   {
    "duration": 33,
    "start_time": "2021-12-12T16:28:47.334Z"
   },
   {
    "duration": 30,
    "start_time": "2021-12-12T16:32:09.610Z"
   },
   {
    "duration": 32,
    "start_time": "2021-12-12T16:32:28.566Z"
   },
   {
    "duration": 32,
    "start_time": "2021-12-12T16:33:34.330Z"
   },
   {
    "duration": 406,
    "start_time": "2021-12-12T16:37:14.698Z"
   },
   {
    "duration": 435,
    "start_time": "2021-12-12T16:38:34.759Z"
   },
   {
    "duration": 307,
    "start_time": "2021-12-12T16:38:52.093Z"
   },
   {
    "duration": 15,
    "start_time": "2021-12-12T16:39:09.660Z"
   },
   {
    "duration": 327,
    "start_time": "2021-12-12T16:42:14.049Z"
   },
   {
    "duration": 37,
    "start_time": "2021-12-12T16:42:32.438Z"
   },
   {
    "duration": 32,
    "start_time": "2021-12-12T16:42:39.558Z"
   },
   {
    "duration": 104,
    "start_time": "2021-12-12T16:51:41.891Z"
   },
   {
    "duration": 6,
    "start_time": "2021-12-12T16:51:49.127Z"
   },
   {
    "duration": 24,
    "start_time": "2021-12-12T16:52:40.559Z"
   },
   {
    "duration": 18,
    "start_time": "2021-12-12T16:53:29.180Z"
   },
   {
    "duration": 21,
    "start_time": "2021-12-12T16:53:57.086Z"
   },
   {
    "duration": 24,
    "start_time": "2021-12-12T16:54:09.970Z"
   },
   {
    "duration": 32,
    "start_time": "2021-12-12T16:55:09.144Z"
   },
   {
    "duration": 28,
    "start_time": "2021-12-12T16:55:38.729Z"
   },
   {
    "duration": 22,
    "start_time": "2021-12-12T16:56:14.431Z"
   },
   {
    "duration": 20,
    "start_time": "2021-12-12T16:56:31.825Z"
   },
   {
    "duration": 314,
    "start_time": "2021-12-12T16:58:07.098Z"
   },
   {
    "duration": 299,
    "start_time": "2021-12-12T16:58:18.491Z"
   },
   {
    "duration": 130,
    "start_time": "2021-12-12T16:58:38.987Z"
   },
   {
    "duration": 296,
    "start_time": "2021-12-12T17:00:25.982Z"
   },
   {
    "duration": 305,
    "start_time": "2021-12-12T17:01:44.371Z"
   },
   {
    "duration": 338,
    "start_time": "2021-12-12T17:02:01.373Z"
   },
   {
    "duration": 345,
    "start_time": "2021-12-12T17:04:04.841Z"
   },
   {
    "duration": 359,
    "start_time": "2021-12-12T17:04:20.678Z"
   },
   {
    "duration": 1573,
    "start_time": "2021-12-12T17:04:27.219Z"
   },
   {
    "duration": 15,
    "start_time": "2021-12-12T17:08:25.370Z"
   },
   {
    "duration": 6,
    "start_time": "2021-12-12T17:11:50.507Z"
   },
   {
    "duration": 14,
    "start_time": "2021-12-12T17:12:09.071Z"
   },
   {
    "duration": 8,
    "start_time": "2021-12-12T17:12:15.378Z"
   },
   {
    "duration": 13,
    "start_time": "2021-12-12T17:12:21.689Z"
   },
   {
    "duration": 396,
    "start_time": "2021-12-12T17:12:48.496Z"
   },
   {
    "duration": 29,
    "start_time": "2021-12-12T17:12:55.555Z"
   },
   {
    "duration": 12,
    "start_time": "2021-12-12T17:16:06.850Z"
   },
   {
    "duration": 18,
    "start_time": "2021-12-12T17:17:03.045Z"
   },
   {
    "duration": 16,
    "start_time": "2021-12-12T17:21:56.919Z"
   },
   {
    "duration": 5,
    "start_time": "2021-12-12T17:23:55.594Z"
   },
   {
    "duration": 215,
    "start_time": "2021-12-12T17:23:55.602Z"
   },
   {
    "duration": 15,
    "start_time": "2021-12-12T17:23:55.820Z"
   },
   {
    "duration": 33,
    "start_time": "2021-12-12T17:23:55.839Z"
   },
   {
    "duration": 5,
    "start_time": "2021-12-12T17:23:55.875Z"
   },
   {
    "duration": 60,
    "start_time": "2021-12-12T17:23:55.882Z"
   },
   {
    "duration": 5,
    "start_time": "2021-12-12T17:23:55.946Z"
   },
   {
    "duration": 30,
    "start_time": "2021-12-12T17:23:55.955Z"
   },
   {
    "duration": 47,
    "start_time": "2021-12-12T17:23:55.987Z"
   },
   {
    "duration": 31,
    "start_time": "2021-12-12T17:23:56.036Z"
   },
   {
    "duration": 105,
    "start_time": "2021-12-12T17:23:56.069Z"
   },
   {
    "duration": 109,
    "start_time": "2021-12-12T17:23:56.176Z"
   },
   {
    "duration": 85,
    "start_time": "2021-12-12T17:23:56.287Z"
   },
   {
    "duration": 69,
    "start_time": "2021-12-12T17:23:56.374Z"
   },
   {
    "duration": 4,
    "start_time": "2021-12-12T17:23:56.446Z"
   },
   {
    "duration": 12,
    "start_time": "2021-12-12T17:23:56.453Z"
   },
   {
    "duration": 85,
    "start_time": "2021-12-12T17:23:56.469Z"
   },
   {
    "duration": 31,
    "start_time": "2021-12-12T17:23:56.556Z"
   },
   {
    "duration": 36,
    "start_time": "2021-12-12T17:23:56.591Z"
   },
   {
    "duration": 5,
    "start_time": "2021-12-12T17:23:56.629Z"
   },
   {
    "duration": 26,
    "start_time": "2021-12-12T17:23:56.636Z"
   },
   {
    "duration": 20,
    "start_time": "2021-12-12T17:23:56.665Z"
   },
   {
    "duration": 20,
    "start_time": "2021-12-12T17:23:56.716Z"
   },
   {
    "duration": 19,
    "start_time": "2021-12-12T17:23:56.738Z"
   },
   {
    "duration": 21,
    "start_time": "2021-12-12T17:23:56.759Z"
   },
   {
    "duration": 52,
    "start_time": "2021-12-12T17:23:56.783Z"
   },
   {
    "duration": 12,
    "start_time": "2021-12-12T17:23:56.838Z"
   },
   {
    "duration": 14,
    "start_time": "2021-12-12T17:23:56.852Z"
   },
   {
    "duration": 49,
    "start_time": "2021-12-12T17:23:56.869Z"
   },
   {
    "duration": 4,
    "start_time": "2021-12-12T17:23:56.920Z"
   },
   {
    "duration": 8,
    "start_time": "2021-12-12T17:23:56.926Z"
   },
   {
    "duration": 5,
    "start_time": "2021-12-12T17:23:56.936Z"
   },
   {
    "duration": 7,
    "start_time": "2021-12-12T17:23:56.943Z"
   },
   {
    "duration": 5,
    "start_time": "2021-12-12T17:23:56.953Z"
   },
   {
    "duration": 4,
    "start_time": "2021-12-12T17:23:56.960Z"
   },
   {
    "duration": 6,
    "start_time": "2021-12-12T17:23:56.966Z"
   },
   {
    "duration": 44,
    "start_time": "2021-12-12T17:23:56.975Z"
   },
   {
    "duration": 5,
    "start_time": "2021-12-12T17:23:57.022Z"
   },
   {
    "duration": 6,
    "start_time": "2021-12-12T17:38:36.866Z"
   },
   {
    "duration": 4,
    "start_time": "2021-12-12T17:38:44.798Z"
   },
   {
    "duration": 318,
    "start_time": "2021-12-12T17:38:44.806Z"
   },
   {
    "duration": 28,
    "start_time": "2021-12-12T17:38:45.129Z"
   },
   {
    "duration": 75,
    "start_time": "2021-12-12T17:38:45.162Z"
   },
   {
    "duration": 8,
    "start_time": "2021-12-12T17:38:45.240Z"
   },
   {
    "duration": 35,
    "start_time": "2021-12-12T17:38:45.251Z"
   },
   {
    "duration": 7,
    "start_time": "2021-12-12T17:38:45.319Z"
   },
   {
    "duration": 50,
    "start_time": "2021-12-12T17:38:45.332Z"
   },
   {
    "duration": 47,
    "start_time": "2021-12-12T17:38:45.386Z"
   },
   {
    "duration": 31,
    "start_time": "2021-12-12T17:38:45.436Z"
   },
   {
    "duration": 115,
    "start_time": "2021-12-12T17:38:45.470Z"
   },
   {
    "duration": 111,
    "start_time": "2021-12-12T17:38:45.587Z"
   },
   {
    "duration": 82,
    "start_time": "2021-12-12T17:38:45.701Z"
   },
   {
    "duration": 75,
    "start_time": "2021-12-12T17:38:45.785Z"
   },
   {
    "duration": 4,
    "start_time": "2021-12-12T17:38:45.863Z"
   },
   {
    "duration": 12,
    "start_time": "2021-12-12T17:38:45.869Z"
   },
   {
    "duration": 91,
    "start_time": "2021-12-12T17:38:45.883Z"
   },
   {
    "duration": 56,
    "start_time": "2021-12-12T17:38:45.977Z"
   },
   {
    "duration": 16,
    "start_time": "2021-12-12T17:38:46.035Z"
   },
   {
    "duration": 5,
    "start_time": "2021-12-12T17:38:46.054Z"
   },
   {
    "duration": 29,
    "start_time": "2021-12-12T17:38:46.061Z"
   },
   {
    "duration": 20,
    "start_time": "2021-12-12T17:38:46.118Z"
   },
   {
    "duration": 20,
    "start_time": "2021-12-12T17:38:46.142Z"
   },
   {
    "duration": 60,
    "start_time": "2021-12-12T17:38:46.165Z"
   },
   {
    "duration": 24,
    "start_time": "2021-12-12T17:38:46.227Z"
   },
   {
    "duration": 22,
    "start_time": "2021-12-12T17:38:46.253Z"
   },
   {
    "duration": 47,
    "start_time": "2021-12-12T17:38:46.278Z"
   },
   {
    "duration": 20,
    "start_time": "2021-12-12T17:38:46.327Z"
   },
   {
    "duration": 18,
    "start_time": "2021-12-12T17:38:46.349Z"
   },
   {
    "duration": 6,
    "start_time": "2021-12-12T17:38:46.370Z"
   },
   {
    "duration": 4,
    "start_time": "2021-12-12T17:38:46.418Z"
   },
   {
    "duration": 9,
    "start_time": "2021-12-12T17:38:46.424Z"
   },
   {
    "duration": 5,
    "start_time": "2021-12-12T17:38:46.436Z"
   },
   {
    "duration": 5,
    "start_time": "2021-12-12T17:38:46.445Z"
   },
   {
    "duration": 5,
    "start_time": "2021-12-12T17:38:46.453Z"
   },
   {
    "duration": 5,
    "start_time": "2021-12-12T17:38:46.461Z"
   },
   {
    "duration": 4,
    "start_time": "2021-12-12T17:38:46.469Z"
   },
   {
    "duration": 4,
    "start_time": "2021-12-12T17:38:46.518Z"
   },
   {
    "duration": 11379,
    "start_time": "2021-12-12T17:39:56.593Z"
   },
   {
    "duration": 6,
    "start_time": "2021-12-12T17:40:51.366Z"
   },
   {
    "duration": 27,
    "start_time": "2021-12-12T17:40:55.432Z"
   },
   {
    "duration": 25,
    "start_time": "2021-12-12T17:41:17.143Z"
   },
   {
    "duration": 34,
    "start_time": "2021-12-12T17:41:24.024Z"
   },
   {
    "duration": 8,
    "start_time": "2021-12-12T17:41:48.792Z"
   },
   {
    "duration": 27,
    "start_time": "2021-12-12T17:41:51.441Z"
   },
   {
    "duration": 6,
    "start_time": "2021-12-12T17:41:58.054Z"
   },
   {
    "duration": 26,
    "start_time": "2021-12-12T17:41:59.878Z"
   },
   {
    "duration": 18,
    "start_time": "2021-12-12T17:42:27.160Z"
   },
   {
    "duration": 24,
    "start_time": "2021-12-12T17:43:19.495Z"
   },
   {
    "duration": 28,
    "start_time": "2021-12-12T17:43:30.839Z"
   },
   {
    "duration": 24,
    "start_time": "2021-12-12T17:44:00.502Z"
   },
   {
    "duration": 12,
    "start_time": "2021-12-12T17:48:51.269Z"
   },
   {
    "duration": 305,
    "start_time": "2021-12-12T17:49:10.518Z"
   },
   {
    "duration": 312,
    "start_time": "2021-12-12T17:49:26.608Z"
   },
   {
    "duration": 5,
    "start_time": "2021-12-12T17:49:37.929Z"
   },
   {
    "duration": 215,
    "start_time": "2021-12-12T17:49:37.938Z"
   },
   {
    "duration": 16,
    "start_time": "2021-12-12T17:49:38.155Z"
   },
   {
    "duration": 48,
    "start_time": "2021-12-12T17:49:38.173Z"
   },
   {
    "duration": 5,
    "start_time": "2021-12-12T17:49:38.224Z"
   },
   {
    "duration": 26,
    "start_time": "2021-12-12T17:49:38.231Z"
   },
   {
    "duration": 14,
    "start_time": "2021-12-12T17:49:38.260Z"
   },
   {
    "duration": 63,
    "start_time": "2021-12-12T17:49:38.277Z"
   },
   {
    "duration": 23,
    "start_time": "2021-12-12T17:49:38.343Z"
   },
   {
    "duration": 54,
    "start_time": "2021-12-12T17:49:38.369Z"
   },
   {
    "duration": 109,
    "start_time": "2021-12-12T17:49:38.426Z"
   },
   {
    "duration": 106,
    "start_time": "2021-12-12T17:49:38.537Z"
   },
   {
    "duration": 93,
    "start_time": "2021-12-12T17:49:38.645Z"
   },
   {
    "duration": 89,
    "start_time": "2021-12-12T17:49:38.740Z"
   },
   {
    "duration": 4,
    "start_time": "2021-12-12T17:49:38.831Z"
   },
   {
    "duration": 13,
    "start_time": "2021-12-12T17:49:38.837Z"
   },
   {
    "duration": 88,
    "start_time": "2021-12-12T17:49:38.852Z"
   },
   {
    "duration": 33,
    "start_time": "2021-12-12T17:49:38.943Z"
   },
   {
    "duration": 40,
    "start_time": "2021-12-12T17:49:38.981Z"
   },
   {
    "duration": 6,
    "start_time": "2021-12-12T17:49:39.025Z"
   },
   {
    "duration": 25,
    "start_time": "2021-12-12T17:49:39.034Z"
   },
   {
    "duration": 21,
    "start_time": "2021-12-12T17:49:39.061Z"
   },
   {
    "duration": 56,
    "start_time": "2021-12-12T17:49:39.085Z"
   },
   {
    "duration": 26,
    "start_time": "2021-12-12T17:49:39.143Z"
   },
   {
    "duration": 59,
    "start_time": "2021-12-12T17:49:39.172Z"
   },
   {
    "duration": 20,
    "start_time": "2021-12-12T17:49:39.234Z"
   },
   {
    "duration": 13,
    "start_time": "2021-12-12T17:49:39.256Z"
   },
   {
    "duration": 53,
    "start_time": "2021-12-12T17:49:39.272Z"
   },
   {
    "duration": 22,
    "start_time": "2021-12-12T17:49:39.328Z"
   },
   {
    "duration": 6,
    "start_time": "2021-12-12T17:49:39.352Z"
   },
   {
    "duration": 29,
    "start_time": "2021-12-12T17:49:39.361Z"
   },
   {
    "duration": 26,
    "start_time": "2021-12-12T17:49:39.418Z"
   },
   {
    "duration": 23,
    "start_time": "2021-12-12T17:49:39.446Z"
   },
   {
    "duration": 48,
    "start_time": "2021-12-12T17:49:39.471Z"
   },
   {
    "duration": 16,
    "start_time": "2021-12-12T17:49:39.522Z"
   },
   {
    "duration": 972,
    "start_time": "2021-12-12T17:49:39.541Z"
   },
   {
    "duration": -296,
    "start_time": "2021-12-12T17:49:40.812Z"
   },
   {
    "duration": -302,
    "start_time": "2021-12-12T17:49:40.819Z"
   },
   {
    "duration": 279,
    "start_time": "2021-12-12T17:50:08.489Z"
   },
   {
    "duration": 7,
    "start_time": "2021-12-12T17:50:24.465Z"
   },
   {
    "duration": 9,
    "start_time": "2021-12-12T17:50:49.618Z"
   },
   {
    "duration": 7,
    "start_time": "2021-12-12T17:51:04.423Z"
   },
   {
    "duration": 6,
    "start_time": "2021-12-12T17:51:06.732Z"
   },
   {
    "duration": 6,
    "start_time": "2021-12-12T17:52:42.824Z"
   },
   {
    "duration": 6,
    "start_time": "2021-12-12T17:52:45.284Z"
   },
   {
    "duration": 44,
    "start_time": "2021-12-12T17:54:07.159Z"
   },
   {
    "duration": 21,
    "start_time": "2021-12-12T17:54:19.687Z"
   },
   {
    "duration": 19,
    "start_time": "2021-12-12T17:54:43.260Z"
   },
   {
    "duration": 3,
    "start_time": "2021-12-12T17:55:30.169Z"
   },
   {
    "duration": 232,
    "start_time": "2021-12-12T17:55:30.176Z"
   },
   {
    "duration": 16,
    "start_time": "2021-12-12T17:55:30.411Z"
   },
   {
    "duration": 36,
    "start_time": "2021-12-12T17:55:30.430Z"
   },
   {
    "duration": 6,
    "start_time": "2021-12-12T17:55:30.469Z"
   },
   {
    "duration": 55,
    "start_time": "2021-12-12T17:55:30.477Z"
   },
   {
    "duration": 8,
    "start_time": "2021-12-12T17:55:30.535Z"
   },
   {
    "duration": 34,
    "start_time": "2021-12-12T17:55:30.547Z"
   },
   {
    "duration": 44,
    "start_time": "2021-12-12T17:55:30.584Z"
   },
   {
    "duration": 33,
    "start_time": "2021-12-12T17:55:30.630Z"
   },
   {
    "duration": 106,
    "start_time": "2021-12-12T17:55:30.665Z"
   },
   {
    "duration": 111,
    "start_time": "2021-12-12T17:55:30.774Z"
   },
   {
    "duration": 94,
    "start_time": "2021-12-12T17:55:30.887Z"
   },
   {
    "duration": 71,
    "start_time": "2021-12-12T17:55:30.983Z"
   },
   {
    "duration": 4,
    "start_time": "2021-12-12T17:55:31.057Z"
   },
   {
    "duration": 16,
    "start_time": "2021-12-12T17:55:31.063Z"
   },
   {
    "duration": 74,
    "start_time": "2021-12-12T17:55:31.082Z"
   },
   {
    "duration": 35,
    "start_time": "2021-12-12T17:55:31.158Z"
   },
   {
    "duration": 35,
    "start_time": "2021-12-12T17:55:31.195Z"
   },
   {
    "duration": 5,
    "start_time": "2021-12-12T17:55:31.232Z"
   },
   {
    "duration": 32,
    "start_time": "2021-12-12T17:55:31.239Z"
   },
   {
    "duration": 45,
    "start_time": "2021-12-12T17:55:31.274Z"
   },
   {
    "duration": 20,
    "start_time": "2021-12-12T17:55:31.324Z"
   },
   {
    "duration": 20,
    "start_time": "2021-12-12T17:55:31.347Z"
   },
   {
    "duration": 56,
    "start_time": "2021-12-12T17:55:31.369Z"
   },
   {
    "duration": 20,
    "start_time": "2021-12-12T17:55:31.428Z"
   },
   {
    "duration": 13,
    "start_time": "2021-12-12T17:55:31.451Z"
   },
   {
    "duration": 51,
    "start_time": "2021-12-12T17:55:31.466Z"
   },
   {
    "duration": 15,
    "start_time": "2021-12-12T17:55:31.519Z"
   },
   {
    "duration": 6,
    "start_time": "2021-12-12T17:55:31.537Z"
   },
   {
    "duration": 30,
    "start_time": "2021-12-12T17:55:31.547Z"
   },
   {
    "duration": 47,
    "start_time": "2021-12-12T17:55:31.580Z"
   },
   {
    "duration": 23,
    "start_time": "2021-12-12T17:55:31.630Z"
   },
   {
    "duration": 17,
    "start_time": "2021-12-12T17:55:31.656Z"
   },
   {
    "duration": 363,
    "start_time": "2021-12-12T17:55:31.675Z"
   },
   {
    "duration": -299,
    "start_time": "2021-12-12T17:55:32.340Z"
   },
   {
    "duration": -306,
    "start_time": "2021-12-12T17:55:32.348Z"
   },
   {
    "duration": -314,
    "start_time": "2021-12-12T17:55:32.358Z"
   },
   {
    "duration": 34,
    "start_time": "2021-12-12T17:56:33.831Z"
   },
   {
    "duration": 12,
    "start_time": "2021-12-12T17:56:36.615Z"
   },
   {
    "duration": 43,
    "start_time": "2021-12-12T17:58:53.387Z"
   },
   {
    "duration": 12,
    "start_time": "2021-12-12T17:58:55.271Z"
   },
   {
    "duration": 12,
    "start_time": "2021-12-12T17:59:30.926Z"
   },
   {
    "duration": 6,
    "start_time": "2021-12-12T17:59:32.345Z"
   },
   {
    "duration": 11,
    "start_time": "2021-12-12T18:00:24.269Z"
   },
   {
    "duration": 7,
    "start_time": "2021-12-12T18:00:47.338Z"
   },
   {
    "duration": 811,
    "start_time": "2021-12-13T13:28:15.514Z"
   },
   {
    "duration": 244,
    "start_time": "2021-12-13T13:28:16.330Z"
   },
   {
    "duration": 25,
    "start_time": "2021-12-13T13:28:16.577Z"
   },
   {
    "duration": 59,
    "start_time": "2021-12-13T13:28:16.604Z"
   },
   {
    "duration": 7,
    "start_time": "2021-12-13T13:28:16.666Z"
   },
   {
    "duration": 59,
    "start_time": "2021-12-13T13:28:16.676Z"
   },
   {
    "duration": 6,
    "start_time": "2021-12-13T13:28:16.742Z"
   },
   {
    "duration": 31,
    "start_time": "2021-12-13T13:28:16.751Z"
   },
   {
    "duration": 56,
    "start_time": "2021-12-13T13:28:16.787Z"
   },
   {
    "duration": 29,
    "start_time": "2021-12-13T13:28:16.847Z"
   },
   {
    "duration": 115,
    "start_time": "2021-12-13T13:28:16.878Z"
   },
   {
    "duration": 131,
    "start_time": "2021-12-13T13:28:16.995Z"
   },
   {
    "duration": 89,
    "start_time": "2021-12-13T13:28:17.129Z"
   },
   {
    "duration": 65,
    "start_time": "2021-12-13T13:28:17.221Z"
   },
   {
    "duration": 4,
    "start_time": "2021-12-13T13:28:17.289Z"
   },
   {
    "duration": 32,
    "start_time": "2021-12-13T13:28:17.296Z"
   },
   {
    "duration": 63,
    "start_time": "2021-12-13T13:28:17.331Z"
   },
   {
    "duration": 54,
    "start_time": "2021-12-13T13:28:17.397Z"
   },
   {
    "duration": 15,
    "start_time": "2021-12-13T13:28:17.453Z"
   },
   {
    "duration": 5,
    "start_time": "2021-12-13T13:28:17.470Z"
   },
   {
    "duration": 68,
    "start_time": "2021-12-13T13:28:17.478Z"
   },
   {
    "duration": 21,
    "start_time": "2021-12-13T13:28:17.548Z"
   },
   {
    "duration": 20,
    "start_time": "2021-12-13T13:28:17.571Z"
   },
   {
    "duration": 47,
    "start_time": "2021-12-13T13:28:17.593Z"
   },
   {
    "duration": 21,
    "start_time": "2021-12-13T13:28:17.643Z"
   },
   {
    "duration": 59,
    "start_time": "2021-12-13T13:28:17.666Z"
   },
   {
    "duration": 12,
    "start_time": "2021-12-13T13:28:17.731Z"
   },
   {
    "duration": 15,
    "start_time": "2021-12-13T13:28:17.746Z"
   },
   {
    "duration": 14,
    "start_time": "2021-12-13T13:28:17.763Z"
   },
   {
    "duration": 6,
    "start_time": "2021-12-13T13:28:17.780Z"
   },
   {
    "duration": 33,
    "start_time": "2021-12-13T13:28:17.818Z"
   },
   {
    "duration": 16,
    "start_time": "2021-12-13T13:28:17.854Z"
   },
   {
    "duration": 59,
    "start_time": "2021-12-13T13:28:17.873Z"
   },
   {
    "duration": 22,
    "start_time": "2021-12-13T13:28:17.935Z"
   },
   {
    "duration": 18,
    "start_time": "2021-12-13T13:28:17.960Z"
   },
   {
    "duration": 38,
    "start_time": "2021-12-13T13:28:17.981Z"
   },
   {
    "duration": 13,
    "start_time": "2021-12-13T13:28:18.022Z"
   },
   {
    "duration": 7,
    "start_time": "2021-12-13T13:28:18.037Z"
   },
   {
    "duration": 17,
    "start_time": "2021-12-13T13:28:53.913Z"
   },
   {
    "duration": 164,
    "start_time": "2021-12-13T13:29:14.214Z"
   },
   {
    "duration": 13,
    "start_time": "2021-12-13T13:31:00.928Z"
   }
  ],
  "colab": {
   "collapsed_sections": [
    "E0vqbgi9ay0H",
    "VUC88oWjTJw2"
   ],
   "name": "yandex_music_project_2021.2.ipynb",
   "provenance": []
  },
  "kernelspec": {
   "display_name": "Python 3 (ipykernel)",
   "language": "python",
   "name": "python3"
  },
  "language_info": {
   "codemirror_mode": {
    "name": "ipython",
    "version": 3
   },
   "file_extension": ".py",
   "mimetype": "text/x-python",
   "name": "python",
   "nbconvert_exporter": "python",
   "pygments_lexer": "ipython3",
   "version": "3.9.9"
  },
  "toc": {
   "base_numbering": 1,
   "nav_menu": {},
   "number_sections": true,
   "sideBar": true,
   "skip_h1_title": true,
   "title_cell": "Table of Contents",
   "title_sidebar": "Contents",
   "toc_cell": false,
   "toc_position": {
    "height": "calc(100% - 180px)",
    "left": "10px",
    "top": "150px",
    "width": "275.387px"
   },
   "toc_section_display": true,
   "toc_window_display": true
  }
 },
 "nbformat": 4,
 "nbformat_minor": 1
}
