{
 "cells": [
  {
   "cell_type": "markdown",
   "metadata": {
    "toc": true
   },
   "source": [
    "<h1>Содержание<span class=\"tocSkip\"></span></h1>\n",
    "<div class=\"toc\"><ul class=\"toc-item\"><li><span><a href=\"#Подготовка-данных\" data-toc-modified-id=\"Подготовка-данных-1\"><span class=\"toc-item-num\">1&nbsp;&nbsp;</span>Подготовка данных</a></span></li><li><span><a href=\"#Исследование-задачи\" data-toc-modified-id=\"Исследование-задачи-2\"><span class=\"toc-item-num\">2&nbsp;&nbsp;</span>Исследование задачи</a></span></li><li><span><a href=\"#Борьба-с-дисбалансом\" data-toc-modified-id=\"Борьба-с-дисбалансом-3\"><span class=\"toc-item-num\">3&nbsp;&nbsp;</span>Борьба с дисбалансом</a></span><ul class=\"toc-item\"><li><span><a href=\"#Подбор-модели\" data-toc-modified-id=\"Подбор-модели-3.1\"><span class=\"toc-item-num\">3.1&nbsp;&nbsp;</span>Подбор модели</a></span></li></ul></li><li><span><a href=\"#Тестирование-модели\" data-toc-modified-id=\"Тестирование-модели-4\"><span class=\"toc-item-num\">4&nbsp;&nbsp;</span>Тестирование модели</a></span></li><li><span><a href=\"#Общий-вывод\" data-toc-modified-id=\"Общий-вывод-5\"><span class=\"toc-item-num\">5&nbsp;&nbsp;</span>Общий вывод</a></span></li><li><span><a href=\"#Чек-лист-готовности-проекта\" data-toc-modified-id=\"Чек-лист-готовности-проекта-6\"><span class=\"toc-item-num\">6&nbsp;&nbsp;</span>Чек-лист готовности проекта</a></span></li></ul></div>"
   ]
  },
  {
   "cell_type": "markdown",
   "metadata": {},
   "source": [
    "# Отток клиентов"
   ]
  },
  {
   "cell_type": "markdown",
   "metadata": {},
   "source": [
    "Из «Бета-Банка» стали уходить клиенты. Каждый месяц. Немного, но заметно. Банковские маркетологи посчитали: сохранять текущих клиентов дешевле, чем привлекать новых.\n",
    "\n",
    "Нужно спрогнозировать, уйдёт клиент из банка в ближайшее время или нет. Вам предоставлены исторические данные о поведении клиентов и расторжении договоров с банком. \n",
    "\n",
    "Постройте модель с предельно большим значением *F1*-меры. Чтобы сдать проект успешно, нужно довести метрику до 0.59. Проверьте *F1*-меру на тестовой выборке самостоятельно.\n",
    "\n",
    "Дополнительно измеряйте *AUC-ROC*, сравнивайте её значение с *F1*-мерой.\n",
    "\n",
    "Источник данных: [https://www.kaggle.com/barelydedicated/bank-customer-churn-modeling](https://www.kaggle.com/barelydedicated/bank-customer-churn-modeling)"
   ]
  },
  {
   "cell_type": "code",
   "execution_count": 1,
   "metadata": {},
   "outputs": [],
   "source": [
    "import pandas as pd\n",
    "import numpy as np\n",
    "from sklearn.metrics import f1_score\n",
    "from sklearn.metrics import roc_auc_score\n",
    "from sklearn.metrics import accuracy_score\n",
    "from sklearn.model_selection import train_test_split\n",
    "from sklearn.preprocessing import StandardScaler\n",
    "from sklearn.tree import DecisionTreeClassifier\n",
    "from sklearn.linear_model import LogisticRegression\n",
    "from sklearn.ensemble import RandomForestClassifier\n",
    "from sklearn.utils import shuffle\n",
    "from sklearn.metrics import recall_score, precision_score, roc_curve\n",
    "import seaborn as sns\n",
    "import matplotlib.pyplot as plt\n",
    "from sklearn.dummy import DummyClassifier\n",
    "from random import randint"
   ]
  },
  {
   "cell_type": "markdown",
   "metadata": {},
   "source": [
    "## Подготовка данных"
   ]
  },
  {
   "cell_type": "markdown",
   "metadata": {},
   "source": [
    "**Изучение данных из файла**"
   ]
  },
  {
   "cell_type": "code",
   "execution_count": 2,
   "metadata": {
    "scrolled": true
   },
   "outputs": [
    {
     "name": "stdout",
     "output_type": "stream",
     "text": [
      "<class 'pandas.core.frame.DataFrame'>\n",
      "RangeIndex: 10000 entries, 0 to 9999\n",
      "Data columns (total 14 columns):\n",
      " #   Column           Non-Null Count  Dtype  \n",
      "---  ------           --------------  -----  \n",
      " 0   RowNumber        10000 non-null  int64  \n",
      " 1   CustomerId       10000 non-null  int64  \n",
      " 2   Surname          10000 non-null  object \n",
      " 3   CreditScore      10000 non-null  int64  \n",
      " 4   Geography        10000 non-null  object \n",
      " 5   Gender           10000 non-null  object \n",
      " 6   Age              10000 non-null  int64  \n",
      " 7   Tenure           9091 non-null   float64\n",
      " 8   Balance          10000 non-null  float64\n",
      " 9   NumOfProducts    10000 non-null  int64  \n",
      " 10  HasCrCard        10000 non-null  int64  \n",
      " 11  IsActiveMember   10000 non-null  int64  \n",
      " 12  EstimatedSalary  10000 non-null  float64\n",
      " 13  Exited           10000 non-null  int64  \n",
      "dtypes: float64(3), int64(8), object(3)\n",
      "memory usage: 1.1+ MB\n"
     ]
    }
   ],
   "source": [
    "# path = '/datasets/'\n",
    "path = ''\n",
    "data = pd.read_csv(path+'Churn.csv', index_col=False)\n",
    "data.info()"
   ]
  },
  {
   "cell_type": "code",
   "execution_count": 3,
   "metadata": {},
   "outputs": [
    {
     "data": {
      "text/html": [
       "<div>\n",
       "<style scoped>\n",
       "    .dataframe tbody tr th:only-of-type {\n",
       "        vertical-align: middle;\n",
       "    }\n",
       "\n",
       "    .dataframe tbody tr th {\n",
       "        vertical-align: top;\n",
       "    }\n",
       "\n",
       "    .dataframe thead th {\n",
       "        text-align: right;\n",
       "    }\n",
       "</style>\n",
       "<table border=\"1\" class=\"dataframe\">\n",
       "  <thead>\n",
       "    <tr style=\"text-align: right;\">\n",
       "      <th></th>\n",
       "      <th>RowNumber</th>\n",
       "      <th>CustomerId</th>\n",
       "      <th>Surname</th>\n",
       "      <th>CreditScore</th>\n",
       "      <th>Geography</th>\n",
       "      <th>Gender</th>\n",
       "      <th>Age</th>\n",
       "      <th>Tenure</th>\n",
       "      <th>Balance</th>\n",
       "      <th>NumOfProducts</th>\n",
       "      <th>HasCrCard</th>\n",
       "      <th>IsActiveMember</th>\n",
       "      <th>EstimatedSalary</th>\n",
       "      <th>Exited</th>\n",
       "    </tr>\n",
       "  </thead>\n",
       "  <tbody>\n",
       "    <tr>\n",
       "      <th>0</th>\n",
       "      <td>1</td>\n",
       "      <td>15634602</td>\n",
       "      <td>Hargrave</td>\n",
       "      <td>619</td>\n",
       "      <td>France</td>\n",
       "      <td>Female</td>\n",
       "      <td>42</td>\n",
       "      <td>2.0</td>\n",
       "      <td>0.00</td>\n",
       "      <td>1</td>\n",
       "      <td>1</td>\n",
       "      <td>1</td>\n",
       "      <td>101348.88</td>\n",
       "      <td>1</td>\n",
       "    </tr>\n",
       "    <tr>\n",
       "      <th>1</th>\n",
       "      <td>2</td>\n",
       "      <td>15647311</td>\n",
       "      <td>Hill</td>\n",
       "      <td>608</td>\n",
       "      <td>Spain</td>\n",
       "      <td>Female</td>\n",
       "      <td>41</td>\n",
       "      <td>1.0</td>\n",
       "      <td>83807.86</td>\n",
       "      <td>1</td>\n",
       "      <td>0</td>\n",
       "      <td>1</td>\n",
       "      <td>112542.58</td>\n",
       "      <td>0</td>\n",
       "    </tr>\n",
       "    <tr>\n",
       "      <th>2</th>\n",
       "      <td>3</td>\n",
       "      <td>15619304</td>\n",
       "      <td>Onio</td>\n",
       "      <td>502</td>\n",
       "      <td>France</td>\n",
       "      <td>Female</td>\n",
       "      <td>42</td>\n",
       "      <td>8.0</td>\n",
       "      <td>159660.80</td>\n",
       "      <td>3</td>\n",
       "      <td>1</td>\n",
       "      <td>0</td>\n",
       "      <td>113931.57</td>\n",
       "      <td>1</td>\n",
       "    </tr>\n",
       "    <tr>\n",
       "      <th>3</th>\n",
       "      <td>4</td>\n",
       "      <td>15701354</td>\n",
       "      <td>Boni</td>\n",
       "      <td>699</td>\n",
       "      <td>France</td>\n",
       "      <td>Female</td>\n",
       "      <td>39</td>\n",
       "      <td>1.0</td>\n",
       "      <td>0.00</td>\n",
       "      <td>2</td>\n",
       "      <td>0</td>\n",
       "      <td>0</td>\n",
       "      <td>93826.63</td>\n",
       "      <td>0</td>\n",
       "    </tr>\n",
       "    <tr>\n",
       "      <th>4</th>\n",
       "      <td>5</td>\n",
       "      <td>15737888</td>\n",
       "      <td>Mitchell</td>\n",
       "      <td>850</td>\n",
       "      <td>Spain</td>\n",
       "      <td>Female</td>\n",
       "      <td>43</td>\n",
       "      <td>2.0</td>\n",
       "      <td>125510.82</td>\n",
       "      <td>1</td>\n",
       "      <td>1</td>\n",
       "      <td>1</td>\n",
       "      <td>79084.10</td>\n",
       "      <td>0</td>\n",
       "    </tr>\n",
       "    <tr>\n",
       "      <th>5</th>\n",
       "      <td>6</td>\n",
       "      <td>15574012</td>\n",
       "      <td>Chu</td>\n",
       "      <td>645</td>\n",
       "      <td>Spain</td>\n",
       "      <td>Male</td>\n",
       "      <td>44</td>\n",
       "      <td>8.0</td>\n",
       "      <td>113755.78</td>\n",
       "      <td>2</td>\n",
       "      <td>1</td>\n",
       "      <td>0</td>\n",
       "      <td>149756.71</td>\n",
       "      <td>1</td>\n",
       "    </tr>\n",
       "    <tr>\n",
       "      <th>6</th>\n",
       "      <td>7</td>\n",
       "      <td>15592531</td>\n",
       "      <td>Bartlett</td>\n",
       "      <td>822</td>\n",
       "      <td>France</td>\n",
       "      <td>Male</td>\n",
       "      <td>50</td>\n",
       "      <td>7.0</td>\n",
       "      <td>0.00</td>\n",
       "      <td>2</td>\n",
       "      <td>1</td>\n",
       "      <td>1</td>\n",
       "      <td>10062.80</td>\n",
       "      <td>0</td>\n",
       "    </tr>\n",
       "    <tr>\n",
       "      <th>7</th>\n",
       "      <td>8</td>\n",
       "      <td>15656148</td>\n",
       "      <td>Obinna</td>\n",
       "      <td>376</td>\n",
       "      <td>Germany</td>\n",
       "      <td>Female</td>\n",
       "      <td>29</td>\n",
       "      <td>4.0</td>\n",
       "      <td>115046.74</td>\n",
       "      <td>4</td>\n",
       "      <td>1</td>\n",
       "      <td>0</td>\n",
       "      <td>119346.88</td>\n",
       "      <td>1</td>\n",
       "    </tr>\n",
       "    <tr>\n",
       "      <th>8</th>\n",
       "      <td>9</td>\n",
       "      <td>15792365</td>\n",
       "      <td>He</td>\n",
       "      <td>501</td>\n",
       "      <td>France</td>\n",
       "      <td>Male</td>\n",
       "      <td>44</td>\n",
       "      <td>4.0</td>\n",
       "      <td>142051.07</td>\n",
       "      <td>2</td>\n",
       "      <td>0</td>\n",
       "      <td>1</td>\n",
       "      <td>74940.50</td>\n",
       "      <td>0</td>\n",
       "    </tr>\n",
       "    <tr>\n",
       "      <th>9</th>\n",
       "      <td>10</td>\n",
       "      <td>15592389</td>\n",
       "      <td>H?</td>\n",
       "      <td>684</td>\n",
       "      <td>France</td>\n",
       "      <td>Male</td>\n",
       "      <td>27</td>\n",
       "      <td>2.0</td>\n",
       "      <td>134603.88</td>\n",
       "      <td>1</td>\n",
       "      <td>1</td>\n",
       "      <td>1</td>\n",
       "      <td>71725.73</td>\n",
       "      <td>0</td>\n",
       "    </tr>\n",
       "  </tbody>\n",
       "</table>\n",
       "</div>"
      ],
      "text/plain": [
       "   RowNumber  CustomerId   Surname  CreditScore Geography  Gender  Age  \\\n",
       "0          1    15634602  Hargrave          619    France  Female   42   \n",
       "1          2    15647311      Hill          608     Spain  Female   41   \n",
       "2          3    15619304      Onio          502    France  Female   42   \n",
       "3          4    15701354      Boni          699    France  Female   39   \n",
       "4          5    15737888  Mitchell          850     Spain  Female   43   \n",
       "5          6    15574012       Chu          645     Spain    Male   44   \n",
       "6          7    15592531  Bartlett          822    France    Male   50   \n",
       "7          8    15656148    Obinna          376   Germany  Female   29   \n",
       "8          9    15792365        He          501    France    Male   44   \n",
       "9         10    15592389        H?          684    France    Male   27   \n",
       "\n",
       "   Tenure    Balance  NumOfProducts  HasCrCard  IsActiveMember  \\\n",
       "0     2.0       0.00              1          1               1   \n",
       "1     1.0   83807.86              1          0               1   \n",
       "2     8.0  159660.80              3          1               0   \n",
       "3     1.0       0.00              2          0               0   \n",
       "4     2.0  125510.82              1          1               1   \n",
       "5     8.0  113755.78              2          1               0   \n",
       "6     7.0       0.00              2          1               1   \n",
       "7     4.0  115046.74              4          1               0   \n",
       "8     4.0  142051.07              2          0               1   \n",
       "9     2.0  134603.88              1          1               1   \n",
       "\n",
       "   EstimatedSalary  Exited  \n",
       "0        101348.88       1  \n",
       "1        112542.58       0  \n",
       "2        113931.57       1  \n",
       "3         93826.63       0  \n",
       "4         79084.10       0  \n",
       "5        149756.71       1  \n",
       "6         10062.80       0  \n",
       "7        119346.88       1  \n",
       "8         74940.50       0  \n",
       "9         71725.73       0  "
      ]
     },
     "execution_count": 3,
     "metadata": {},
     "output_type": "execute_result"
    }
   ],
   "source": [
    "data.head(10)"
   ]
  },
  {
   "cell_type": "markdown",
   "metadata": {},
   "source": [
    "Согласно документации к данным:\n",
    "\n",
    "Признаки\n",
    "\n",
    "- RowNumber — индекс строки в данных\n",
    "- CustomerId — уникальный идентификатор клиента\n",
    "- Surname — фамилия\n",
    "- CreditScore — кредитный рейтинг\n",
    "- Geography — страна проживания\n",
    "- Gender — пол\n",
    "- Age — возраст\n",
    "- Tenure — сколько лет человек является клиентом банка\n",
    "- Balance — баланс на счёте\n",
    "- NumOfProducts — количество продуктов банка, используемых клиентом\n",
    "- HasCrCard — наличие кредитной карты\n",
    "- IsActiveMember — активность клиента\n",
    "- EstimatedSalary — предполагаемая зарплата\n",
    "\n",
    "Целевой признак\n",
    "\n",
    "- Exited — факт ухода клиента"
   ]
  },
  {
   "cell_type": "markdown",
   "metadata": {},
   "source": [
    "Столбцы 'RowNumber', 'CustomerId', 'Surname' не будут полезны для дальнейшего исследования удалим их:"
   ]
  },
  {
   "cell_type": "code",
   "execution_count": 4,
   "metadata": {},
   "outputs": [],
   "source": [
    "data = data.drop(['RowNumber', 'CustomerId', 'Surname'], axis=1)"
   ]
  },
  {
   "cell_type": "markdown",
   "metadata": {},
   "source": [
    "**Вывод**"
   ]
  },
  {
   "cell_type": "markdown",
   "metadata": {},
   "source": [
    "Предварительно можно утверждать, что для исследования данных достаточно:\n",
    "- в исходном датафрейме три перменные типа `float`, восемь типа `int` и три типа `object`;\n",
    "- в данных есть параметр `Tenure` с пропущенными значениями типа `NaN`, пропуски носят случайный характер (MAR);\n",
    "- из датафрейма были удалены столбцы `'RowNumber'`, `'CustomerId'`, `'Surname'`."
   ]
  },
  {
   "cell_type": "markdown",
   "metadata": {},
   "source": [
    "**Обработка пропусков**"
   ]
  },
  {
   "cell_type": "markdown",
   "metadata": {},
   "source": [
    "Сгруппируем данных по врозрасту и заменим пропуски 'Tenure' медианой соответствующей возрастной категории:"
   ]
  },
  {
   "cell_type": "code",
   "execution_count": 5,
   "metadata": {},
   "outputs": [],
   "source": [
    "data.loc[data['Tenure'].isna(), 'Tenure']=randint(0,10)"
   ]
  },
  {
   "cell_type": "markdown",
   "metadata": {},
   "source": [
    "**Приведение типов данных**"
   ]
  },
  {
   "cell_type": "code",
   "execution_count": 6,
   "metadata": {},
   "outputs": [],
   "source": [
    "data[['Balance', 'EstimatedSalary', 'Tenure']] = data[['Balance', 'EstimatedSalary', 'Tenure']].astype('int')"
   ]
  },
  {
   "cell_type": "markdown",
   "metadata": {},
   "source": [
    "**Обработка категориальных признаков методом One-Hot-Encoding** "
   ]
  },
  {
   "cell_type": "code",
   "execution_count": 7,
   "metadata": {
    "scrolled": true
   },
   "outputs": [
    {
     "data": {
      "text/html": [
       "<div>\n",
       "<style scoped>\n",
       "    .dataframe tbody tr th:only-of-type {\n",
       "        vertical-align: middle;\n",
       "    }\n",
       "\n",
       "    .dataframe tbody tr th {\n",
       "        vertical-align: top;\n",
       "    }\n",
       "\n",
       "    .dataframe thead th {\n",
       "        text-align: right;\n",
       "    }\n",
       "</style>\n",
       "<table border=\"1\" class=\"dataframe\">\n",
       "  <thead>\n",
       "    <tr style=\"text-align: right;\">\n",
       "      <th></th>\n",
       "      <th>CreditScore</th>\n",
       "      <th>Age</th>\n",
       "      <th>Tenure</th>\n",
       "      <th>Balance</th>\n",
       "      <th>NumOfProducts</th>\n",
       "      <th>HasCrCard</th>\n",
       "      <th>IsActiveMember</th>\n",
       "      <th>EstimatedSalary</th>\n",
       "      <th>Exited</th>\n",
       "      <th>Geography_Germany</th>\n",
       "      <th>Geography_Spain</th>\n",
       "      <th>Gender_Male</th>\n",
       "    </tr>\n",
       "  </thead>\n",
       "  <tbody>\n",
       "    <tr>\n",
       "      <th>0</th>\n",
       "      <td>619</td>\n",
       "      <td>42</td>\n",
       "      <td>2</td>\n",
       "      <td>0</td>\n",
       "      <td>1</td>\n",
       "      <td>1</td>\n",
       "      <td>1</td>\n",
       "      <td>101348</td>\n",
       "      <td>1</td>\n",
       "      <td>0</td>\n",
       "      <td>0</td>\n",
       "      <td>0</td>\n",
       "    </tr>\n",
       "    <tr>\n",
       "      <th>1</th>\n",
       "      <td>608</td>\n",
       "      <td>41</td>\n",
       "      <td>1</td>\n",
       "      <td>83807</td>\n",
       "      <td>1</td>\n",
       "      <td>0</td>\n",
       "      <td>1</td>\n",
       "      <td>112542</td>\n",
       "      <td>0</td>\n",
       "      <td>0</td>\n",
       "      <td>1</td>\n",
       "      <td>0</td>\n",
       "    </tr>\n",
       "    <tr>\n",
       "      <th>2</th>\n",
       "      <td>502</td>\n",
       "      <td>42</td>\n",
       "      <td>8</td>\n",
       "      <td>159660</td>\n",
       "      <td>3</td>\n",
       "      <td>1</td>\n",
       "      <td>0</td>\n",
       "      <td>113931</td>\n",
       "      <td>1</td>\n",
       "      <td>0</td>\n",
       "      <td>0</td>\n",
       "      <td>0</td>\n",
       "    </tr>\n",
       "    <tr>\n",
       "      <th>3</th>\n",
       "      <td>699</td>\n",
       "      <td>39</td>\n",
       "      <td>1</td>\n",
       "      <td>0</td>\n",
       "      <td>2</td>\n",
       "      <td>0</td>\n",
       "      <td>0</td>\n",
       "      <td>93826</td>\n",
       "      <td>0</td>\n",
       "      <td>0</td>\n",
       "      <td>0</td>\n",
       "      <td>0</td>\n",
       "    </tr>\n",
       "    <tr>\n",
       "      <th>4</th>\n",
       "      <td>850</td>\n",
       "      <td>43</td>\n",
       "      <td>2</td>\n",
       "      <td>125510</td>\n",
       "      <td>1</td>\n",
       "      <td>1</td>\n",
       "      <td>1</td>\n",
       "      <td>79084</td>\n",
       "      <td>0</td>\n",
       "      <td>0</td>\n",
       "      <td>1</td>\n",
       "      <td>0</td>\n",
       "    </tr>\n",
       "  </tbody>\n",
       "</table>\n",
       "</div>"
      ],
      "text/plain": [
       "   CreditScore  Age  Tenure  Balance  NumOfProducts  HasCrCard  \\\n",
       "0          619   42       2        0              1          1   \n",
       "1          608   41       1    83807              1          0   \n",
       "2          502   42       8   159660              3          1   \n",
       "3          699   39       1        0              2          0   \n",
       "4          850   43       2   125510              1          1   \n",
       "\n",
       "   IsActiveMember  EstimatedSalary  Exited  Geography_Germany  \\\n",
       "0               1           101348       1                  0   \n",
       "1               1           112542       0                  0   \n",
       "2               0           113931       1                  0   \n",
       "3               0            93826       0                  0   \n",
       "4               1            79084       0                  0   \n",
       "\n",
       "   Geography_Spain  Gender_Male  \n",
       "0                0            0  \n",
       "1                1            0  \n",
       "2                0            0  \n",
       "3                0            0  \n",
       "4                1            0  "
      ]
     },
     "execution_count": 7,
     "metadata": {},
     "output_type": "execute_result"
    }
   ],
   "source": [
    "# Прямое кодирование\n",
    "data = pd.get_dummies(data, drop_first=True)\n",
    "data.head()"
   ]
  },
  {
   "cell_type": "code",
   "execution_count": 8,
   "metadata": {
    "scrolled": true
   },
   "outputs": [
    {
     "data": {
      "text/plain": [
       "<AxesSubplot:>"
      ]
     },
     "execution_count": 8,
     "metadata": {},
     "output_type": "execute_result"
    },
    {
     "data": {
      "image/png": "[encoded data removed]",
      "text/plain": [
       "<Figure size 432x288 with 2 Axes>"
      ]
     },
     "metadata": {
      "needs_background": "light"
     },
     "output_type": "display_data"
    }
   ],
   "source": [
    "# Построение тепловой карты признаков\n",
    "sns.heatmap(data.corr())"
   ]
  },
  {
   "cell_type": "markdown",
   "metadata": {},
   "source": [
    "<div class=\"alert alert-block alert-info\">\n",
    "<b>Совет </b>  Советую обратить внимание на библиотеки sweetviz и pandas_profiling помогут в проведении более тщательного EDA анализа. Исследовательский анализ можно делать и с помощью ручного вызова функций дефолтных библиотек. Данные библиотеки хороши для максимизации комфорта презентации результатов анализа бизнес-пользователям. \n",
    "    \n",
    "Очень просты в использоовании, на вход кладется датафрейм: pandas_profiling.ProfileReport(df) <br> P.S. Чтобы пробовать на платформе практикума нужно будет установить пакеты таким образом (локально проблем не будет):\n",
    "    \n",
    "    # библиотеки, которых нет на сервере\n",
    "    !pip install sweetviz -q\n",
    "    # Библиотека pandas-profiling не всегда устанавливается стабильно, поэтому принудительно задать стабильные версии\n",
    "    !pip install pandas_profiling==1.4.1 -q\n",
    "    !pip install pandas==0.25.3 -q\n",
    "    # Обновить версию scikit-learn навсякий случай\n",
    "    !pip install -U scikit-learn -q\n",
    "Чтобы обычные графики не ломались важно указать `%matplotlib inline`\n",
    "</div>"
   ]
  },
  {
   "cell_type": "markdown",
   "metadata": {},
   "source": [
    "**Разделение датафрейма на признаки и целевой признак**"
   ]
  },
  {
   "cell_type": "code",
   "execution_count": 9,
   "metadata": {},
   "outputs": [],
   "source": [
    "features = data.drop('Exited', axis=1)\n",
    "target = data['Exited']"
   ]
  },
  {
   "cell_type": "markdown",
   "metadata": {},
   "source": [
    "**Разделение на обучающую, тестовую и валидационную выборки**\n"
   ]
  },
  {
   "cell_type": "markdown",
   "metadata": {},
   "source": [
    "Разделим исходный датафрейм в соотношении: \n",
    "\n",
    "- обучающая выборка — 60%\n",
    "- тестовая выборка — 20%\n",
    "- валидационная выборка — 20%"
   ]
  },
  {
   "cell_type": "code",
   "execution_count": 10,
   "metadata": {},
   "outputs": [],
   "source": [
    "features_train, features_temp, target_train, target_temp = train_test_split(features, target, test_size=0.4, random_state=12345)\n",
    "features_test, features_valid, target_test, target_valid = train_test_split(features_temp, target_temp, test_size=0.5, random_state=12345)"
   ]
  },
  {
   "cell_type": "markdown",
   "metadata": {},
   "source": [
    "Размеры полученных выборок:"
   ]
  },
  {
   "cell_type": "code",
   "execution_count": 11,
   "metadata": {},
   "outputs": [
    {
     "name": "stdout",
     "output_type": "stream",
     "text": [
      "train: (6000, 11)\n",
      "valid: (2000, 11)\n",
      "test: (2000, 11)\n"
     ]
    }
   ],
   "source": [
    "# Обучающая выборка\n",
    "print('train:', features_train.shape)\n",
    "\n",
    "# Валидационная выборка\n",
    "print('valid:', features_valid.shape)\n",
    "\n",
    "# Тестовая выборка\n",
    "print('test:', features_test.shape)"
   ]
  },
  {
   "cell_type": "markdown",
   "metadata": {},
   "source": [
    "**Масштабирование признаков**"
   ]
  },
  {
   "cell_type": "code",
   "execution_count": 12,
   "metadata": {},
   "outputs": [],
   "source": [
    "numeric = ['CreditScore', 'Age', 'Tenure', 'Balance', 'NumOfProducts', 'HasCrCard', 'IsActiveMember', 'EstimatedSalary']\n",
    "\n",
    "# pd.options.mode.chained_assigment = None\n",
    "\n",
    "scaler = StandardScaler()\n",
    "scaler.fit(features_train[numeric])\n",
    "features_train[numeric] = scaler.transform(features_train[numeric])\n",
    "features_valid[numeric] = scaler.transform(features_valid[numeric])\n",
    "features_test[numeric] = scaler.transform(features_test[numeric])\n"
   ]
  },
  {
   "cell_type": "markdown",
   "metadata": {},
   "source": [
    "**Вывод**"
   ]
  },
  {
   "cell_type": "markdown",
   "metadata": {},
   "source": [
    "Целевой признак, факт ухода клиента (ушёл — 1, не ушёл — 0) это категориальный признак — решается задача классификации."
   ]
  },
  {
   "cell_type": "markdown",
   "metadata": {},
   "source": [
    "## Исследование задачи"
   ]
  },
  {
   "cell_type": "code",
   "execution_count": 13,
   "metadata": {},
   "outputs": [],
   "source": [
    "# Построение Roc-кривой\n",
    "def plot_roc_auc(target, probabilities_one):\n",
    "    fpr, tpr, threshold = roc_curve(target, probabilities_one)\n",
    "    plt.figure()\n",
    "\n",
    "    plt.plot(fpr, tpr)\n",
    "    plt.plot([0, 1], [0, 1], linestyle='--')\n",
    "    plt.xlim([0.0, 1.0])\n",
    "    plt.ylim([0.0, 1.0])\n",
    "    plt.xlabel('False Positive Rate')\n",
    "    plt.ylabel('True Positive Rate')\n",
    "    plt.title('ROC-кривая')\n",
    "    plt.show()\n",
    "\n",
    "    return roc_auc_score(target, probabilities_one)"
   ]
  },
  {
   "cell_type": "markdown",
   "metadata": {},
   "source": [
    "**Построим пробную модель:** "
   ]
  },
  {
   "cell_type": "markdown",
   "metadata": {},
   "source": [
    "- логистической регрессии"
   ]
  },
  {
   "cell_type": "code",
   "execution_count": 14,
   "metadata": {},
   "outputs": [
    {
     "data": {
      "image/png": "[encoded data removed]",
      "text/plain": [
       "<Figure size 432x288 with 1 Axes>"
      ]
     },
     "metadata": {
      "needs_background": "light"
     },
     "output_type": "display_data"
    },
    {
     "name": "stdout",
     "output_type": "stream",
     "text": [
      "ROC_AUC 0.7386170287720497\n",
      "accuracy_score: 0.791\n",
      "f1_score: 0.2743055555555555\n"
     ]
    }
   ],
   "source": [
    "model = LogisticRegression(random_state=12345)\n",
    "model.fit(features_train, target_train)\n",
    "\n",
    "predicted_valid = model.predict(features_valid)\n",
    "\n",
    "accuracy_valid = accuracy_score(target_valid, predicted_valid)\n",
    "f1_valid = f1_score(target_valid, predicted_valid)\n",
    "\n",
    "probabilities_valid = model.predict_proba(features_valid)\n",
    "probabilities_one_valid = probabilities_valid[:, 1]\n",
    "\n",
    "auc_roc = plot_roc_auc(target_valid,  probabilities_one_valid)\n",
    "print(\"ROC_AUC\", auc_roc)\n",
    "print('accuracy_score:', accuracy_valid)\n",
    "print('f1_score:', f1_valid)"
   ]
  },
  {
   "cell_type": "markdown",
   "metadata": {},
   "source": [
    "- решающего дерева"
   ]
  },
  {
   "cell_type": "code",
   "execution_count": 15,
   "metadata": {
    "scrolled": true
   },
   "outputs": [
    {
     "data": {
      "image/png": "[encoded data removed]",
      "text/plain": [
       "<Figure size 432x288 with 1 Axes>"
      ]
     },
     "metadata": {
      "needs_background": "light"
     },
     "output_type": "display_data"
    },
    {
     "name": "stdout",
     "output_type": "stream",
     "text": [
      "ROC_AUC 0.6733121361894011\n",
      "accuracy_score: 0.789\n",
      "f1_score: 0.48661800486618007\n"
     ]
    }
   ],
   "source": [
    "model = DecisionTreeClassifier(random_state=12345)\n",
    "model.fit(features_train, target_train)\n",
    "\n",
    "predicted_valid = model.predict(features_valid)\n",
    "\n",
    "accuracy_valid = accuracy_score(target_valid, predicted_valid)\n",
    "f1_valid = f1_score(target_valid, predicted_valid)\n",
    "\n",
    "probabilities_valid = model.predict_proba(features_valid)\n",
    "probabilities_one_valid = probabilities_valid[:, 1]\n",
    "\n",
    "auc_roc = plot_roc_auc(target_valid,  probabilities_one_valid)\n",
    "print(\"ROC_AUC\", auc_roc)\n",
    "print('accuracy_score:', accuracy_valid)\n",
    "print('f1_score:', f1_valid)"
   ]
  },
  {
   "cell_type": "markdown",
   "metadata": {},
   "source": [
    "- случайного леса"
   ]
  },
  {
   "cell_type": "code",
   "execution_count": 16,
   "metadata": {
    "scrolled": true
   },
   "outputs": [
    {
     "data": {
      "image/png": "[encoded data removed]",
      "text/plain": [
       "<Figure size 432x288 with 1 Axes>"
      ]
     },
     "metadata": {
      "needs_background": "light"
     },
     "output_type": "display_data"
    },
    {
     "name": "stdout",
     "output_type": "stream",
     "text": [
      "ROC_AUC 0.854069506844099\n",
      "accuracy_score: 0.846\n",
      "f1_score: 0.5375375375375375\n"
     ]
    }
   ],
   "source": [
    "model = RandomForestClassifier(random_state=12345)\n",
    "model.fit(features_train, target_train)\n",
    "\n",
    "predicted_valid = model.predict(features_valid)\n",
    "\n",
    "accuracy_valid = accuracy_score(target_valid, predicted_valid)\n",
    "f1_valid = f1_score(target_valid, predicted_valid)\n",
    "\n",
    "probabilities_valid = model.predict_proba(features_valid)\n",
    "probabilities_one_valid = probabilities_valid[:, 1]\n",
    "\n",
    "auc_roc = plot_roc_auc(target_valid,  probabilities_one_valid)\n",
    "print(\"ROC_AUC\", auc_roc)\n",
    "print('accuracy_score:', accuracy_valid)\n",
    "print('f1_score:', f1_valid)"
   ]
  },
  {
   "cell_type": "markdown",
   "metadata": {},
   "source": [
    "Наилучший результат по двум метрикам показала модель случайного леса."
   ]
  },
  {
   "cell_type": "markdown",
   "metadata": {},
   "source": [
    "**Проверим модель на адекватность:**"
   ]
  },
  {
   "cell_type": "markdown",
   "metadata": {},
   "source": [
    "Посчитаем относительные частоты ответов целевого признака"
   ]
  },
  {
   "cell_type": "code",
   "execution_count": 17,
   "metadata": {},
   "outputs": [
    {
     "data": {
      "text/plain": [
       "<AxesSubplot:>"
      ]
     },
     "execution_count": 17,
     "metadata": {},
     "output_type": "execute_result"
    },
    {
     "data": {
      "image/png": "[encoded data removed]",
      "text/plain": [
       "<Figure size 432x288 with 1 Axes>"
      ]
     },
     "metadata": {
      "needs_background": "light"
     },
     "output_type": "display_data"
    }
   ],
   "source": [
    "class_frequency = target_train.value_counts(normalize=True)\n",
    "class_frequency.plot(kind='bar')"
   ]
  },
  {
   "cell_type": "markdown",
   "metadata": {},
   "source": [
    "Наиболее частый ответ — 0."
   ]
  },
  {
   "cell_type": "code",
   "execution_count": 18,
   "metadata": {
    "scrolled": true
   },
   "outputs": [
    {
     "name": "stdout",
     "output_type": "stream",
     "text": [
      "accuracy: 0.7885\n"
     ]
    }
   ],
   "source": [
    "# Формируем массив предсказанных значений \n",
    "target_pred_constant = pd.Series(0, index=target_valid.index)\n",
    "print('accuracy:', accuracy_score(target_valid, target_pred_constant))"
   ]
  },
  {
   "cell_type": "markdown",
   "metadata": {},
   "source": [
    "**Вывод**"
   ]
  },
  {
   "cell_type": "markdown",
   "metadata": {},
   "source": [
    "- Доли правильных ответов предсказанных с помощью модели решающего дерева и с помощью константной модели не сильно отличаются; \n",
    "\n",
    "- Из построенной гистограммы можно видеть, что присутвует дисбаланс классов;\n",
    "\n",
    "- О дисбалансе классов нам также говорит и различие двух метрик accuracy и F1-меры. Accuracy не учитывает дисбаланс классов и показывает завышенную оценку.\n",
    "\n",
    "Так как при дисбалансе классов метрика accuracy не точна, далее для оценки моделей используется F1-мера."
   ]
  },
  {
   "cell_type": "markdown",
   "metadata": {},
   "source": [
    "## Борьба с дисбалансом"
   ]
  },
  {
   "cell_type": "markdown",
   "metadata": {},
   "source": [
    "- Предадим объектам редкого класса больший вес (class_weight='balanced'). "
   ]
  },
  {
   "cell_type": "code",
   "execution_count": 19,
   "metadata": {
    "scrolled": true
   },
   "outputs": [
    {
     "name": "stdout",
     "output_type": "stream",
     "text": [
      "F1: 0.5163297045101088\n"
     ]
    }
   ],
   "source": [
    "model = RandomForestClassifier(random_state=12345, class_weight='balanced')\n",
    "model.fit(features_train, target_train)\n",
    "predicted_valid = model.predict(features_valid)\n",
    "\n",
    "print('F1:', f1_score(target_valid, predicted_valid))"
   ]
  },
  {
   "cell_type": "markdown",
   "metadata": {},
   "source": [
    "Значение F1-меры увеличилось, но не так как бы нам хотелось. \n",
    "- Увеличим выборку:"
   ]
  },
  {
   "cell_type": "code",
   "execution_count": 20,
   "metadata": {},
   "outputs": [],
   "source": [
    " # Разделяем обучающую выборку на отрицательные и положительные ответы\n",
    "features_zeros = features_train[target_train == 0]\n",
    "features_ones = features_train[target_train == 1]\n",
    "\n",
    "target_zeros = target_train[target_train == 0]\n",
    "target_ones = target_train[target_train == 1]\n",
    "\n",
    "repeat = 10\n",
    "# Создаём новую обучающую выборку\n",
    "features_upsampled = pd.concat([features_zeros] + [features_ones]*repeat)\n",
    "target_upsampled = pd.concat([target_zeros] + [target_ones]*repeat)\n",
    "\n",
    "# Перемешиваем данные\n",
    "features_upsampled, target_upsampled = shuffle(features_upsampled, target_upsampled, random_state=12345)"
   ]
  },
  {
   "cell_type": "code",
   "execution_count": 21,
   "metadata": {},
   "outputs": [
    {
     "name": "stdout",
     "output_type": "stream",
     "text": [
      "F1-мера модели случаного леса на валидационной выборке: 0.5797872340425531\n"
     ]
    }
   ],
   "source": [
    "model = RandomForestClassifier(random_state=12345)\n",
    "\n",
    "model.fit(features_upsampled, target_upsampled)\n",
    "predicted_valid = model.predict(features_valid)\n",
    "\n",
    "print('F1-мера модели случаного леса на валидационной выборке:', f1_score(target_valid, predicted_valid))"
   ]
  },
  {
   "cell_type": "code",
   "execution_count": 22,
   "metadata": {},
   "outputs": [
    {
     "data": {
      "image/png": "[encoded data removed]",
      "text/plain": [
       "<Figure size 432x288 with 1 Axes>"
      ]
     },
     "metadata": {
      "needs_background": "light"
     },
     "output_type": "display_data"
    },
    {
     "name": "stdout",
     "output_type": "stream",
     "text": [
      "ROC_AUC модели случаного леса на валидационной выборке 0.8492199481014765\n"
     ]
    }
   ],
   "source": [
    "probabilities_valid = model.predict_proba(features_valid)\n",
    "probabilities_one_valid = probabilities_valid[:, 1]\n",
    "\n",
    "auc_roc = plot_roc_auc(target_valid,  probabilities_one_valid)\n",
    "print(\"ROC_AUC модели случаного леса на валидационной выборке\", auc_roc)"
   ]
  },
  {
   "cell_type": "markdown",
   "metadata": {},
   "source": [
    "**Вывод**"
   ]
  },
  {
   "cell_type": "markdown",
   "metadata": {},
   "source": [
    "Для борбы с дисбалансом класса были опробованны две технологии:\n",
    "\n",
    "1) взвешивание классов \n",
    "\n",
    "2) увеличение выборки (upsampling)\n",
    "\n",
    "При изменении веса классов F1-мера даже ухудшилась для модели случайного леса, при увеличении выборки F1-мера возросла.\n",
    "Далее при подборе модели будем использовать второй способ борьбы с дисбалансом классов."
   ]
  },
  {
   "cell_type": "markdown",
   "metadata": {},
   "source": [
    "### Подбор модели"
   ]
  },
  {
   "cell_type": "markdown",
   "metadata": {},
   "source": [
    "- Модель логистической регрессии:"
   ]
  },
  {
   "cell_type": "code",
   "execution_count": 23,
   "metadata": {},
   "outputs": [
    {
     "data": {
      "image/png": "[encoded data removed]",
      "text/plain": [
       "<Figure size 432x288 with 1 Axes>"
      ]
     },
     "metadata": {
      "needs_background": "light"
     },
     "output_type": "display_data"
    },
    {
     "name": "stdout",
     "output_type": "stream",
     "text": [
      "ROC-AUC: 0.7427335321127736\n",
      "F1: 0.43009545199326216\n"
     ]
    }
   ],
   "source": [
    "model = LogisticRegression(random_state=12345, solver='liblinear')\n",
    "model.fit(features_upsampled, target_upsampled)\n",
    "predicted_valid = model.predict(features_valid)\n",
    "\n",
    "# Вероятность класса\n",
    "probabilities_valid = model.predict_proba(features_valid)\n",
    "probabilities_one_valid = probabilities_valid[:, 1]\n",
    "\n",
    "auc_roc = plot_roc_auc(target_valid, probabilities_one_valid)\n",
    "f1 = f1_score(target_valid, predicted_valid)\n",
    "print('ROC-AUC:', auc_roc)\n",
    "print('F1:', f1)"
   ]
  },
  {
   "cell_type": "markdown",
   "metadata": {},
   "source": [
    "- Модель решающего дерева:"
   ]
  },
  {
   "cell_type": "code",
   "execution_count": 24,
   "metadata": {},
   "outputs": [
    {
     "data": {
      "image/png": "[encoded data removed]",
      "text/plain": [
       "<Figure size 432x288 with 1 Axes>"
      ]
     },
     "metadata": {
      "needs_background": "light"
     },
     "output_type": "display_data"
    },
    {
     "name": "stdout",
     "output_type": "stream",
     "text": [
      "максимальная глубина решающего дерева: 7\n",
      "F1-мера модели решающего дерева на валидационной выборке: 0.5453100158982511\n",
      "ROC-AUC: 0.8180321135231483\n"
     ]
    }
   ],
   "source": [
    "best_result, max_depth, best_model_proba_one_valid = 0, 0, 0\n",
    "for depth in range(1, 16):\n",
    "    model = DecisionTreeClassifier(max_depth=depth, random_state=12345)\n",
    "    model.fit(features_upsampled, target_upsampled)\n",
    "    \n",
    "    predicted_valid = model.predict(features_valid)\n",
    "    result = f1_score(target_valid, predicted_valid)\n",
    "\n",
    "    probabilities_valid = model.predict_proba(features_valid)\n",
    "    probabilities_one_valid = probabilities_valid[:, 1]\n",
    "    \n",
    "    if best_result < result:\n",
    "            best_result = result\n",
    "            max_depth = depth\n",
    "            best_model_proba_one_valid = probabilities_one_valid \n",
    "            \n",
    "auc_roc = plot_roc_auc(target_valid,  best_model_proba_one_valid)\n",
    "\n",
    "print(\"максимальная глубина решающего дерева:\", max_depth)\n",
    "print(\"F1-мера модели решающего дерева на валидационной выборке:\", best_result)\n",
    "print('ROC-AUC:', auc_roc)"
   ]
  },
  {
   "cell_type": "markdown",
   "metadata": {},
   "source": [
    "- Модель случайного леса:\n",
    "\n",
    "подбор гиперпараметров `max_depth` и `n_estimators`:"
   ]
  },
  {
   "cell_type": "code",
   "execution_count": 25,
   "metadata": {},
   "outputs": [
    {
     "data": {
      "image/png": "[encoded data removed]",
      "text/plain": [
       "<Figure size 432x288 with 1 Axes>"
      ]
     },
     "metadata": {
      "needs_background": "light"
     },
     "output_type": "display_data"
    },
    {
     "name": "stdout",
     "output_type": "stream",
     "text": [
      "Максимальная глубина дерева: 15 \n",
      "Количество деревьев: 60\n",
      "F1-мера модели случайного леса на валидационной выборке: 0.5985915492957745\n",
      "ROC-AUC: 0.8180321135231483\n"
     ]
    }
   ],
   "source": [
    "best_result, auc_roc = 0, 0\n",
    "best_depth, best_est = 0, 0\n",
    "best_model_probabilities_one_valid = 0\n",
    "\n",
    "for est in range(10, 100, 10):\n",
    "    for depth in range(1, 16):\n",
    "        model = RandomForestClassifier(n_estimators=est, max_depth=depth, random_state=12345)\n",
    "        model.fit(features_upsampled, target_upsampled)\n",
    "        predicted_valid = model.predict(features_valid)\n",
    "        F1 = f1_score(target_valid, predicted_valid)\n",
    "\n",
    "        probabilities_valid = model.predict_proba(features_valid)\n",
    "        probabilities_one_valid = probabilities_valid[:, 1]\n",
    "\n",
    "        if best_result < F1:\n",
    "            best_result = F1\n",
    "            best_depth = depth\n",
    "            best_est = est\n",
    "            best_model_probabilities_one_valid = probabilities_one_valid\n",
    "            \n",
    "auc_roc = plot_roc_auc(target_valid, best_model_proba_one_valid)\n",
    "print('Максимальная глубина дерева:', best_depth, '\\nКоличество деревьев:', best_est)\n",
    "print(\"F1-мера модели случайного леса на валидационной выборке:\", best_result)\n",
    "print('ROC-AUC:', auc_roc)"
   ]
  },
  {
   "cell_type": "markdown",
   "metadata": {},
   "source": [
    "**Вывод**"
   ]
  },
  {
   "cell_type": "markdown",
   "metadata": {},
   "source": [
    "Были рассмотрены различные модели классификации, с различными гиперпараметрами.\n",
    "\n",
    "Наиболее высокий показатель F1-меры на валидационной выборке у модели случайного леса с гиперпараметрами `n_estimators` = 30, `max_depth` = 14."
   ]
  },
  {
   "cell_type": "markdown",
   "metadata": {},
   "source": [
    "## Тестирование модели"
   ]
  },
  {
   "cell_type": "markdown",
   "metadata": {},
   "source": [
    "Обучение модели случайного леса на тестовой выборке:"
   ]
  },
  {
   "cell_type": "code",
   "execution_count": 26,
   "metadata": {
    "scrolled": false
   },
   "outputs": [
    {
     "data": {
      "image/png": "[encoded data removed]",
      "text/plain": [
       "<Figure size 432x288 with 1 Axes>"
      ]
     },
     "metadata": {
      "needs_background": "light"
     },
     "output_type": "display_data"
    },
    {
     "name": "stdout",
     "output_type": "stream",
     "text": [
      "F1: 0.5869324473975636\n",
      "ROC-AUC: 0.833815986063308\n"
     ]
    }
   ],
   "source": [
    "model = RandomForestClassifier(n_estimators=30, max_depth=14, random_state=12345)\n",
    "model.fit(features_upsampled, target_upsampled)\n",
    "predicted_test = model.predict(features_test)\n",
    "\n",
    "proba_test = model.predict_proba(features_test)\n",
    "proba_one_test = proba_test[:, 1]\n",
    "\n",
    "auc_roc = plot_roc_auc(target_test, proba_one_test)\n",
    "F1 = f1_score(target_test, predicted_test)\n",
    "print('F1:', F1)\n",
    "print('ROC-AUC:', auc_roc)"
   ]
  },
  {
   "cell_type": "code",
   "execution_count": 27,
   "metadata": {},
   "outputs": [
    {
     "data": {
      "image/png": "[encoded data removed]",
      "text/plain": [
       "<Figure size 1152x1008 with 1 Axes>"
      ]
     },
     "metadata": {
      "needs_background": "light"
     },
     "output_type": "display_data"
    }
   ],
   "source": [
    "skl_imp = pd.Series(model.feature_importances_,\n",
    "                         features_test.columns)\n",
    "\n",
    "fig, ax = plt.subplots(figsize=(16,14))\n",
    "sns.color_palette()\n",
    "ax = sns.barplot(x=skl_imp.index, y=np.sort(skl_imp.values))\n",
    "ax.set_title(\"Важность признаков\")\n",
    "ax.set_ylabel('Важность')\n",
    "fig.tight_layout()"
   ]
  },
  {
   "cell_type": "markdown",
   "metadata": {},
   "source": [
    "## Общий вывод"
   ]
  },
  {
   "cell_type": "markdown",
   "metadata": {},
   "source": [
    "Для «Бета-Банка» проведено исследование в рамках которого необходимо было предсказать уход клиентов.\n",
    "\n",
    "Для решения задачи классификации были построены различные модели предсказания, из которых наилучший результат по метрике F1 показала модель случайного леса с гиперпараметрами `n_estimators` = 30, `max_depth` = 14."
   ]
  }
 ],
 "metadata": {
  "ExecuteTimeLog": [
   {
    "duration": 1105,
    "start_time": "2022-03-12T15:22:47.011Z"
   },
   {
    "duration": 33,
    "start_time": "2022-03-12T15:22:48.117Z"
   },
   {
    "duration": 14,
    "start_time": "2022-03-12T15:22:48.151Z"
   },
   {
    "duration": 7,
    "start_time": "2022-03-12T15:22:48.167Z"
   },
   {
    "duration": 7,
    "start_time": "2022-03-12T15:22:48.176Z"
   },
   {
    "duration": 5,
    "start_time": "2022-03-12T15:22:48.185Z"
   },
   {
    "duration": 23,
    "start_time": "2022-03-12T15:22:48.191Z"
   },
   {
    "duration": 353,
    "start_time": "2022-03-12T15:22:48.217Z"
   },
   {
    "duration": 4,
    "start_time": "2022-03-12T15:22:48.571Z"
   },
   {
    "duration": 12,
    "start_time": "2022-03-12T15:22:48.577Z"
   },
   {
    "duration": 11,
    "start_time": "2022-03-12T15:22:48.591Z"
   },
   {
    "duration": 27,
    "start_time": "2022-03-12T15:22:48.604Z"
   },
   {
    "duration": 32,
    "start_time": "2022-03-12T15:22:48.632Z"
   },
   {
    "duration": 143,
    "start_time": "2022-03-12T15:22:48.665Z"
   },
   {
    "duration": 4,
    "start_time": "2022-03-12T15:22:48.810Z"
   },
   {
    "duration": 28,
    "start_time": "2022-03-12T15:22:48.816Z"
   },
   {
    "duration": 11,
    "start_time": "2022-03-12T15:22:48.846Z"
   },
   {
    "duration": 73,
    "start_time": "2022-03-12T15:22:48.858Z"
   },
   {
    "duration": 299,
    "start_time": "2022-03-12T15:22:48.933Z"
   },
   {
    "duration": 97,
    "start_time": "2022-03-12T15:22:49.234Z"
   },
   {
    "duration": 371,
    "start_time": "2022-03-12T15:22:57.616Z"
   },
   {
    "duration": 24,
    "start_time": "2022-03-12T15:23:25.540Z"
   },
   {
    "duration": 348,
    "start_time": "2022-03-12T15:31:51.663Z"
   },
   {
    "duration": 2859,
    "start_time": "2022-03-12T15:32:54.099Z"
   },
   {
    "duration": 321,
    "start_time": "2022-03-12T15:34:00.307Z"
   },
   {
    "duration": 401,
    "start_time": "2022-03-12T15:34:11.164Z"
   },
   {
    "duration": 147,
    "start_time": "2022-03-12T15:34:35.957Z"
   },
   {
    "duration": 74,
    "start_time": "2022-03-12T15:34:41.514Z"
   },
   {
    "duration": 144,
    "start_time": "2022-03-12T15:35:24.167Z"
   },
   {
    "duration": 585,
    "start_time": "2022-03-12T15:35:38.053Z"
   },
   {
    "duration": 729,
    "start_time": "2022-03-12T15:35:45.047Z"
   },
   {
    "duration": 1253,
    "start_time": "2022-03-12T19:00:20.632Z"
   },
   {
    "duration": 37,
    "start_time": "2022-03-12T19:00:21.887Z"
   },
   {
    "duration": 18,
    "start_time": "2022-03-12T19:00:21.927Z"
   },
   {
    "duration": 4,
    "start_time": "2022-03-12T19:00:21.947Z"
   },
   {
    "duration": 12,
    "start_time": "2022-03-12T19:00:21.953Z"
   },
   {
    "duration": 15,
    "start_time": "2022-03-12T19:00:21.966Z"
   },
   {
    "duration": 25,
    "start_time": "2022-03-12T19:00:21.983Z"
   },
   {
    "duration": 432,
    "start_time": "2022-03-12T19:00:22.011Z"
   },
   {
    "duration": 5,
    "start_time": "2022-03-12T19:00:22.445Z"
   },
   {
    "duration": 13,
    "start_time": "2022-03-12T19:00:22.451Z"
   },
   {
    "duration": 14,
    "start_time": "2022-03-12T19:00:22.465Z"
   },
   {
    "duration": 42,
    "start_time": "2022-03-12T19:00:22.481Z"
   },
   {
    "duration": 52,
    "start_time": "2022-03-12T19:00:22.525Z"
   },
   {
    "duration": 189,
    "start_time": "2022-03-12T19:00:22.579Z"
   },
   {
    "duration": 10,
    "start_time": "2022-03-12T19:00:22.770Z"
   },
   {
    "duration": 38,
    "start_time": "2022-03-12T19:00:22.782Z"
   },
   {
    "duration": 13,
    "start_time": "2022-03-12T19:00:22.822Z"
   },
   {
    "duration": 84,
    "start_time": "2022-03-12T19:00:22.837Z"
   },
   {
    "duration": 735,
    "start_time": "2022-03-12T19:01:03.995Z"
   },
   {
    "duration": 635,
    "start_time": "2022-03-12T19:03:25.005Z"
   },
   {
    "duration": 474,
    "start_time": "2022-03-12T19:04:06.056Z"
   },
   {
    "duration": 115,
    "start_time": "2022-03-12T19:04:25.611Z"
   },
   {
    "duration": 353,
    "start_time": "2022-03-12T19:04:44.082Z"
   },
   {
    "duration": 361,
    "start_time": "2022-03-12T19:06:04.925Z"
   },
   {
    "duration": 3068,
    "start_time": "2022-03-12T19:06:27.793Z"
   },
   {
    "duration": 139,
    "start_time": "2022-03-12T19:07:03.153Z"
   },
   {
    "duration": 860,
    "start_time": "2022-03-12T19:07:15.617Z"
   },
   {
    "duration": 1066,
    "start_time": "2022-03-12T19:07:33.598Z"
   },
   {
    "duration": 795,
    "start_time": "2022-03-12T19:07:47.075Z"
   },
   {
    "duration": 1547,
    "start_time": "2022-03-15T16:56:29.681Z"
   },
   {
    "duration": 45,
    "start_time": "2022-03-15T16:56:31.231Z"
   },
   {
    "duration": 26,
    "start_time": "2022-03-15T16:56:31.279Z"
   },
   {
    "duration": 7,
    "start_time": "2022-03-15T16:56:31.308Z"
   },
   {
    "duration": 12,
    "start_time": "2022-03-15T16:56:31.318Z"
   },
   {
    "duration": 42,
    "start_time": "2022-03-15T16:56:31.332Z"
   },
   {
    "duration": 44,
    "start_time": "2022-03-15T16:56:31.377Z"
   },
   {
    "duration": 576,
    "start_time": "2022-03-15T16:56:31.424Z"
   },
   {
    "duration": 5,
    "start_time": "2022-03-15T16:56:32.005Z"
   },
   {
    "duration": 32,
    "start_time": "2022-03-15T16:56:32.013Z"
   },
   {
    "duration": 9,
    "start_time": "2022-03-15T16:56:32.048Z"
   },
   {
    "duration": 60,
    "start_time": "2022-03-15T16:56:32.059Z"
   },
   {
    "duration": 58,
    "start_time": "2022-03-15T16:56:32.122Z"
   },
   {
    "duration": 226,
    "start_time": "2022-03-15T16:56:32.183Z"
   },
   {
    "duration": 142,
    "start_time": "2022-03-15T16:56:32.412Z"
   },
   {
    "duration": 240,
    "start_time": "2022-03-15T16:56:32.557Z"
   },
   {
    "duration": 7,
    "start_time": "2022-03-15T16:56:32.799Z"
   },
   {
    "duration": 132,
    "start_time": "2022-03-15T16:56:32.809Z"
   },
   {
    "duration": 32,
    "start_time": "2022-03-15T16:56:32.943Z"
   },
   {
    "duration": 238,
    "start_time": "2022-03-15T16:56:32.977Z"
   },
   {
    "duration": 6,
    "start_time": "2022-03-15T16:56:33.217Z"
   },
   {
    "duration": 283,
    "start_time": "2022-03-15T16:56:33.226Z"
   },
   {
    "duration": 512,
    "start_time": "2022-03-15T16:56:33.511Z"
   },
   {
    "duration": 1150,
    "start_time": "2022-03-15T16:56:34.025Z"
   },
   {
    "duration": 112617,
    "start_time": "2022-03-15T16:56:35.178Z"
   },
   {
    "duration": 934,
    "start_time": "2022-03-15T16:58:27.798Z"
   },
   {
    "duration": 3,
    "start_time": "2022-03-15T16:58:28.736Z"
   },
   {
    "duration": 1582,
    "start_time": "2022-03-16T07:20:36.966Z"
   },
   {
    "duration": 45,
    "start_time": "2022-03-16T07:20:38.551Z"
   },
   {
    "duration": 26,
    "start_time": "2022-03-16T07:20:38.600Z"
   },
   {
    "duration": 7,
    "start_time": "2022-03-16T07:20:38.630Z"
   },
   {
    "duration": 46,
    "start_time": "2022-03-16T07:20:38.640Z"
   },
   {
    "duration": 9,
    "start_time": "2022-03-16T07:20:38.689Z"
   },
   {
    "duration": 38,
    "start_time": "2022-03-16T07:20:38.701Z"
   },
   {
    "duration": 712,
    "start_time": "2022-03-16T07:20:38.742Z"
   },
   {
    "duration": 7,
    "start_time": "2022-03-16T07:20:39.459Z"
   },
   {
    "duration": 11,
    "start_time": "2022-03-16T07:20:39.482Z"
   },
   {
    "duration": 18,
    "start_time": "2022-03-16T07:20:39.496Z"
   },
   {
    "duration": 49,
    "start_time": "2022-03-16T07:20:39.517Z"
   },
   {
    "duration": 46,
    "start_time": "2022-03-16T07:20:39.584Z"
   },
   {
    "duration": 149,
    "start_time": "2022-03-16T07:20:39.684Z"
   },
   {
    "duration": 179,
    "start_time": "2022-03-16T07:20:39.836Z"
   },
   {
    "duration": 310,
    "start_time": "2022-03-16T07:20:40.018Z"
   },
   {
    "duration": 7,
    "start_time": "2022-03-16T07:20:40.330Z"
   },
   {
    "duration": 138,
    "start_time": "2022-03-16T07:20:40.340Z"
   },
   {
    "duration": 21,
    "start_time": "2022-03-16T07:20:40.483Z"
   },
   {
    "duration": 255,
    "start_time": "2022-03-16T07:20:40.507Z"
   },
   {
    "duration": 17,
    "start_time": "2022-03-16T07:20:40.765Z"
   },
   {
    "duration": 274,
    "start_time": "2022-03-16T07:20:40.785Z"
   },
   {
    "duration": 462,
    "start_time": "2022-03-16T07:20:41.061Z"
   },
   {
    "duration": 1094,
    "start_time": "2022-03-16T07:20:41.525Z"
   },
   {
    "duration": 102077,
    "start_time": "2022-03-16T07:20:42.621Z"
   },
   {
    "duration": 1216,
    "start_time": "2022-03-16T07:22:24.701Z"
   },
   {
    "duration": 6,
    "start_time": "2022-03-16T07:22:25.924Z"
   },
   {
    "duration": 105,
    "start_time": "2022-03-16T07:22:25.932Z"
   },
   {
    "duration": 943,
    "start_time": "2022-03-16T07:23:42.005Z"
   },
   {
    "duration": 817,
    "start_time": "2022-03-16T07:23:51.319Z"
   },
   {
    "duration": 7,
    "start_time": "2022-03-16T07:59:42.559Z"
   },
   {
    "duration": 5,
    "start_time": "2022-03-16T07:59:58.916Z"
   },
   {
    "duration": 45,
    "start_time": "2022-03-16T07:59:58.924Z"
   },
   {
    "duration": 21,
    "start_time": "2022-03-16T07:59:58.972Z"
   },
   {
    "duration": 11,
    "start_time": "2022-03-16T07:59:58.995Z"
   },
   {
    "duration": 7,
    "start_time": "2022-03-16T08:00:01.168Z"
   },
   {
    "duration": 419,
    "start_time": "2022-03-16T08:03:55.361Z"
   },
   {
    "duration": 241,
    "start_time": "2022-03-16T08:04:02.128Z"
   },
   {
    "duration": 438,
    "start_time": "2022-03-16T08:04:13.596Z"
   },
   {
    "duration": 956,
    "start_time": "2022-03-16T08:04:22.223Z"
   },
   {
    "duration": 405,
    "start_time": "2022-03-16T08:05:58.940Z"
   },
   {
    "duration": 244,
    "start_time": "2022-03-16T08:06:36.448Z"
   },
   {
    "duration": 8,
    "start_time": "2022-03-16T08:06:47.641Z"
   },
   {
    "duration": 100,
    "start_time": "2022-03-16T08:09:44.862Z"
   },
   {
    "duration": 432,
    "start_time": "2022-03-16T08:09:49.461Z"
   },
   {
    "duration": 480,
    "start_time": "2022-03-16T08:10:05.928Z"
   },
   {
    "duration": 90,
    "start_time": "2022-03-16T08:10:22.845Z"
   },
   {
    "duration": 3823,
    "start_time": "2022-03-16T08:10:39.205Z"
   },
   {
    "duration": 3049,
    "start_time": "2022-03-16T08:11:03.349Z"
   },
   {
    "duration": 8,
    "start_time": "2022-03-16T08:11:15.328Z"
   },
   {
    "duration": 6,
    "start_time": "2022-03-16T08:11:49.456Z"
   },
   {
    "duration": 39,
    "start_time": "2022-03-16T08:11:49.466Z"
   },
   {
    "duration": 22,
    "start_time": "2022-03-16T08:11:49.511Z"
   },
   {
    "duration": 9,
    "start_time": "2022-03-16T08:11:49.537Z"
   },
   {
    "duration": 35,
    "start_time": "2022-03-16T08:11:49.549Z"
   },
   {
    "duration": 8,
    "start_time": "2022-03-16T08:11:49.586Z"
   },
   {
    "duration": 13,
    "start_time": "2022-03-16T08:11:49.597Z"
   },
   {
    "duration": 5,
    "start_time": "2022-03-16T08:12:02.278Z"
   },
   {
    "duration": 57,
    "start_time": "2022-03-16T08:12:02.285Z"
   },
   {
    "duration": 22,
    "start_time": "2022-03-16T08:12:02.345Z"
   },
   {
    "duration": 20,
    "start_time": "2022-03-16T08:12:02.371Z"
   },
   {
    "duration": 23,
    "start_time": "2022-03-16T08:12:02.394Z"
   },
   {
    "duration": 16,
    "start_time": "2022-03-16T08:12:02.429Z"
   },
   {
    "duration": 94,
    "start_time": "2022-03-16T08:12:08.148Z"
   },
   {
    "duration": 28,
    "start_time": "2022-03-16T08:12:09.410Z"
   },
   {
    "duration": 7,
    "start_time": "2022-03-16T08:12:35.872Z"
   },
   {
    "duration": 132,
    "start_time": "2022-03-16T08:12:52.798Z"
   },
   {
    "duration": 8,
    "start_time": "2022-03-16T08:12:53.942Z"
   },
   {
    "duration": 1118,
    "start_time": "2022-03-16T08:16:37.048Z"
   },
   {
    "duration": 423,
    "start_time": "2022-03-16T08:17:31.923Z"
   },
   {
    "duration": 1291,
    "start_time": "2022-03-16T08:18:51.365Z"
   },
   {
    "duration": 240,
    "start_time": "2022-03-16T08:21:07.582Z"
   },
   {
    "duration": 243,
    "start_time": "2022-03-16T08:21:23.257Z"
   },
   {
    "duration": 226,
    "start_time": "2022-03-16T08:22:51.757Z"
   },
   {
    "duration": 248,
    "start_time": "2022-03-16T08:24:27.835Z"
   },
   {
    "duration": 8,
    "start_time": "2022-03-16T08:24:50.641Z"
   },
   {
    "duration": 8,
    "start_time": "2022-03-16T08:24:57.657Z"
   },
   {
    "duration": 100,
    "start_time": "2022-03-16T08:25:08.439Z"
   },
   {
    "duration": 5,
    "start_time": "2022-03-16T08:25:51.100Z"
   },
   {
    "duration": 63,
    "start_time": "2022-03-16T08:25:51.108Z"
   },
   {
    "duration": 20,
    "start_time": "2022-03-16T08:25:51.174Z"
   },
   {
    "duration": 7,
    "start_time": "2022-03-16T08:25:51.198Z"
   },
   {
    "duration": 11,
    "start_time": "2022-03-16T08:25:51.208Z"
   },
   {
    "duration": 9,
    "start_time": "2022-03-16T08:25:51.221Z"
   },
   {
    "duration": 5,
    "start_time": "2022-03-16T08:25:51.233Z"
   },
   {
    "duration": 7,
    "start_time": "2022-03-16T08:25:51.240Z"
   },
   {
    "duration": 8,
    "start_time": "2022-03-16T08:25:53.655Z"
   },
   {
    "duration": 4,
    "start_time": "2022-03-16T08:25:56.485Z"
   },
   {
    "duration": 7,
    "start_time": "2022-03-16T08:25:57.380Z"
   },
   {
    "duration": 10,
    "start_time": "2022-03-16T08:26:07.060Z"
   },
   {
    "duration": 5,
    "start_time": "2022-03-16T08:26:53.232Z"
   },
   {
    "duration": 42,
    "start_time": "2022-03-16T08:26:53.240Z"
   },
   {
    "duration": 20,
    "start_time": "2022-03-16T08:26:53.285Z"
   },
   {
    "duration": 10,
    "start_time": "2022-03-16T08:26:53.307Z"
   },
   {
    "duration": 8,
    "start_time": "2022-03-16T08:26:55.872Z"
   },
   {
    "duration": 6,
    "start_time": "2022-03-16T08:27:11.809Z"
   },
   {
    "duration": 473,
    "start_time": "2022-03-16T08:35:26.057Z"
   },
   {
    "duration": 296,
    "start_time": "2022-03-16T08:35:48.427Z"
   },
   {
    "duration": 385,
    "start_time": "2022-03-16T08:35:59.748Z"
   }
  ],
  "kernelspec": {
   "display_name": "Python 3 (ipykernel)",
   "language": "python",
   "name": "python3"
  },
  "language_info": {
   "codemirror_mode": {
    "name": "ipython",
    "version": 3
   },
   "file_extension": ".py",
   "mimetype": "text/x-python",
   "name": "python",
   "nbconvert_exporter": "python",
   "pygments_lexer": "ipython3",
   "version": "3.9.9"
  },
  "toc": {
   "base_numbering": 1,
   "nav_menu": {},
   "number_sections": true,
   "sideBar": true,
   "skip_h1_title": true,
   "title_cell": "Содержание",
   "title_sidebar": "Contents",
   "toc_cell": true,
   "toc_position": {
    "height": "calc(100% - 180px)",
    "left": "10px",
    "top": "150px",
    "width": "165px"
   },
   "toc_section_display": true,
   "toc_window_display": true
  }
 },
 "nbformat": 4,
 "nbformat_minor": 2
}
