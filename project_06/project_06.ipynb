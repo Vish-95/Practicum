{
 "cells": [
  {
   "cell_type": "markdown",
   "metadata": {},
   "source": [
    "### Описание проекта"
   ]
  },
  {
   "cell_type": "markdown",
   "metadata": {},
   "source": [
    "Оператор мобильной связи \"Мегалайн\" выяснил: многие клиенты пользуются архивными тарифами. Они хотят построить систему, спсобную проанализировать поведение клиентов и предложить пользователям новый тариф: \"Смарт\" и \"Ультра\".\n",
    "\n",
    "В нашем распоряжении данные о поведении клиентов, которые уже перешли на эти тарифы. Нужно построить модель для задачи классификации, которая выберет подходящий тариф. "
   ]
  },
  {
   "cell_type": "code",
   "execution_count": 1,
   "metadata": {
    "scrolled": true
   },
   "outputs": [],
   "source": [
    "import pandas as pd\n",
    "from sklearn.model_selection import train_test_split\n",
    "from sklearn.linear_model import LogisticRegression\n",
    "from sklearn.ensemble import RandomForestClassifier\n",
    "from sklearn.tree import DecisionTreeClassifier \n",
    "from sklearn.metrics import accuracy_score\n",
    "import seaborn as sns"
   ]
  },
  {
   "cell_type": "markdown",
   "metadata": {},
   "source": [
    "### Изучение данных из файла"
   ]
  },
  {
   "cell_type": "code",
   "execution_count": 3,
   "metadata": {},
   "outputs": [],
   "source": [
    "df = pd.read_csv('users_behavior.csv')"
   ]
  },
  {
   "cell_type": "code",
   "execution_count": 4,
   "metadata": {
    "scrolled": true
   },
   "outputs": [
    {
     "data": {
      "text/html": [
       "<div>\n",
       "<style scoped>\n",
       "    .dataframe tbody tr th:only-of-type {\n",
       "        vertical-align: middle;\n",
       "    }\n",
       "\n",
       "    .dataframe tbody tr th {\n",
       "        vertical-align: top;\n",
       "    }\n",
       "\n",
       "    .dataframe thead th {\n",
       "        text-align: right;\n",
       "    }\n",
       "</style>\n",
       "<table border=\"1\" class=\"dataframe\">\n",
       "  <thead>\n",
       "    <tr style=\"text-align: right;\">\n",
       "      <th></th>\n",
       "      <th>calls</th>\n",
       "      <th>minutes</th>\n",
       "      <th>messages</th>\n",
       "      <th>mb_used</th>\n",
       "      <th>is_ultra</th>\n",
       "    </tr>\n",
       "  </thead>\n",
       "  <tbody>\n",
       "    <tr>\n",
       "      <td>0</td>\n",
       "      <td>40.0</td>\n",
       "      <td>311.90</td>\n",
       "      <td>83.0</td>\n",
       "      <td>19915.42</td>\n",
       "      <td>0</td>\n",
       "    </tr>\n",
       "    <tr>\n",
       "      <td>1</td>\n",
       "      <td>85.0</td>\n",
       "      <td>516.75</td>\n",
       "      <td>56.0</td>\n",
       "      <td>22696.96</td>\n",
       "      <td>0</td>\n",
       "    </tr>\n",
       "    <tr>\n",
       "      <td>2</td>\n",
       "      <td>77.0</td>\n",
       "      <td>467.66</td>\n",
       "      <td>86.0</td>\n",
       "      <td>21060.45</td>\n",
       "      <td>0</td>\n",
       "    </tr>\n",
       "    <tr>\n",
       "      <td>3</td>\n",
       "      <td>106.0</td>\n",
       "      <td>745.53</td>\n",
       "      <td>81.0</td>\n",
       "      <td>8437.39</td>\n",
       "      <td>1</td>\n",
       "    </tr>\n",
       "    <tr>\n",
       "      <td>4</td>\n",
       "      <td>66.0</td>\n",
       "      <td>418.74</td>\n",
       "      <td>1.0</td>\n",
       "      <td>14502.75</td>\n",
       "      <td>0</td>\n",
       "    </tr>\n",
       "  </tbody>\n",
       "</table>\n",
       "</div>"
      ],
      "text/plain": [
       "   calls  minutes  messages   mb_used  is_ultra\n",
       "0   40.0   311.90      83.0  19915.42         0\n",
       "1   85.0   516.75      56.0  22696.96         0\n",
       "2   77.0   467.66      86.0  21060.45         0\n",
       "3  106.0   745.53      81.0   8437.39         1\n",
       "4   66.0   418.74       1.0  14502.75         0"
      ]
     },
     "execution_count": 4,
     "metadata": {},
     "output_type": "execute_result"
    }
   ],
   "source": [
    "df.head()"
   ]
  },
  {
   "cell_type": "code",
   "execution_count": 5,
   "metadata": {},
   "outputs": [
    {
     "name": "stdout",
     "output_type": "stream",
     "text": [
      "<class 'pandas.core.frame.DataFrame'>\n",
      "RangeIndex: 3214 entries, 0 to 3213\n",
      "Data columns (total 5 columns):\n",
      "calls       3214 non-null float64\n",
      "minutes     3214 non-null float64\n",
      "messages    3214 non-null float64\n",
      "mb_used     3214 non-null float64\n",
      "is_ultra    3214 non-null int64\n",
      "dtypes: float64(4), int64(1)\n",
      "memory usage: 125.7 KB\n"
     ]
    }
   ],
   "source": [
    "df.info()"
   ]
  },
  {
   "cell_type": "markdown",
   "metadata": {},
   "source": [
    "Согласно документации к данным:\n",
    "\n",
    "- calls — количество звонков, \n",
    "- minutes — суммарная длительность звонков в минутах,\n",
    "- messages — количесвто сообщений,\n",
    "- mb_used —\tизрасходованный интернет-трафик в Мб,\n",
    "- is_ultra — каким тарифом пользовался в течение месяца (\"Ультра\" — 1, \"Смарт\" — 0)"
   ]
  },
  {
   "cell_type": "code",
   "execution_count": 6,
   "metadata": {
    "scrolled": false
   },
   "outputs": [
    {
     "data": {
      "text/plain": [
       "<matplotlib.axes._subplots.AxesSubplot at 0x7f68780258d0>"
      ]
     },
     "execution_count": 6,
     "metadata": {},
     "output_type": "execute_result"
    },
    {
     "data": {
      "image/png": "[encoded data removed]",
      "text/plain": [
       "<Figure size 432x288 with 2 Axes>"
      ]
     },
     "metadata": {
      "needs_background": "light"
     },
     "output_type": "display_data"
    }
   ],
   "source": [
    "# Построение тепловой карты признаков\n",
    "sns.heatmap(df.corr())"
   ]
  },
  {
   "cell_type": "markdown",
   "metadata": {},
   "source": [
    "По построенной тепловой карте признаков видно, что параметры `calls` и `minutes` имеют сильную взаимозависимость, что может привести к переобучаемости модели. Исключим признак `calls`:"
   ]
  },
  {
   "cell_type": "code",
   "execution_count": 7,
   "metadata": {
    "scrolled": true
   },
   "outputs": [
    {
     "data": {
      "text/html": [
       "<div>\n",
       "<style scoped>\n",
       "    .dataframe tbody tr th:only-of-type {\n",
       "        vertical-align: middle;\n",
       "    }\n",
       "\n",
       "    .dataframe tbody tr th {\n",
       "        vertical-align: top;\n",
       "    }\n",
       "\n",
       "    .dataframe thead th {\n",
       "        text-align: right;\n",
       "    }\n",
       "</style>\n",
       "<table border=\"1\" class=\"dataframe\">\n",
       "  <thead>\n",
       "    <tr style=\"text-align: right;\">\n",
       "      <th></th>\n",
       "      <th>minutes</th>\n",
       "      <th>messages</th>\n",
       "      <th>mb_used</th>\n",
       "      <th>is_ultra</th>\n",
       "    </tr>\n",
       "  </thead>\n",
       "  <tbody>\n",
       "    <tr>\n",
       "      <td>0</td>\n",
       "      <td>311.90</td>\n",
       "      <td>83.0</td>\n",
       "      <td>19915.42</td>\n",
       "      <td>0</td>\n",
       "    </tr>\n",
       "    <tr>\n",
       "      <td>1</td>\n",
       "      <td>516.75</td>\n",
       "      <td>56.0</td>\n",
       "      <td>22696.96</td>\n",
       "      <td>0</td>\n",
       "    </tr>\n",
       "    <tr>\n",
       "      <td>2</td>\n",
       "      <td>467.66</td>\n",
       "      <td>86.0</td>\n",
       "      <td>21060.45</td>\n",
       "      <td>0</td>\n",
       "    </tr>\n",
       "    <tr>\n",
       "      <td>3</td>\n",
       "      <td>745.53</td>\n",
       "      <td>81.0</td>\n",
       "      <td>8437.39</td>\n",
       "      <td>1</td>\n",
       "    </tr>\n",
       "    <tr>\n",
       "      <td>4</td>\n",
       "      <td>418.74</td>\n",
       "      <td>1.0</td>\n",
       "      <td>14502.75</td>\n",
       "      <td>0</td>\n",
       "    </tr>\n",
       "  </tbody>\n",
       "</table>\n",
       "</div>"
      ],
      "text/plain": [
       "   minutes  messages   mb_used  is_ultra\n",
       "0   311.90      83.0  19915.42         0\n",
       "1   516.75      56.0  22696.96         0\n",
       "2   467.66      86.0  21060.45         0\n",
       "3   745.53      81.0   8437.39         1\n",
       "4   418.74       1.0  14502.75         0"
      ]
     },
     "execution_count": 7,
     "metadata": {},
     "output_type": "execute_result"
    }
   ],
   "source": [
    "df = df.drop(columns='calls', axis=1)\n",
    "\n",
    "# Обновленный датафрейм\n",
    "df.head()"
   ]
  },
  {
   "cell_type": "markdown",
   "metadata": {},
   "source": [
    "### Разделение на обучающую, тестовую и валидационную выборки"
   ]
  },
  {
   "cell_type": "markdown",
   "metadata": {},
   "source": [
    "Разделим исходный датафрейм в соотношении: \n",
    "\n",
    "- обучающая выборка — 60%\n",
    "- тестовая выборка — 20%\n",
    "- валидационная выборка — 20%"
   ]
  },
  {
   "cell_type": "code",
   "execution_count": 8,
   "metadata": {},
   "outputs": [],
   "source": [
    "df_train, df_temp = train_test_split(df, test_size=0.4, random_state=12345)"
   ]
  },
  {
   "cell_type": "code",
   "execution_count": 9,
   "metadata": {},
   "outputs": [],
   "source": [
    "df_test, df_valid = train_test_split(df_temp, test_size=0.5, random_state=12345)"
   ]
  },
  {
   "cell_type": "markdown",
   "metadata": {},
   "source": [
    "Разделение данных на признаки и целевой признак для каждой выборки:"
   ]
  },
  {
   "cell_type": "code",
   "execution_count": 10,
   "metadata": {},
   "outputs": [
    {
     "name": "stdout",
     "output_type": "stream",
     "text": [
      "Размер features_train: (1928, 3) \n",
      "Размер target_train: (1928,)\n",
      "\n",
      "Размер features_valid: (643, 3) \n",
      "Размер target_valid: (643,)\n",
      "\n",
      "Размер features_test: (643, 3) \n",
      "Размер target_test: (643,)\n"
     ]
    }
   ],
   "source": [
    "# Обучающая выборка\n",
    "features_train = df_train.drop('is_ultra', axis=1)\n",
    "target_train = df_train['is_ultra']\n",
    "print(\"Размер features_train:\", features_train.shape, \"\\nРазмер target_train:\", target_train.shape)\n",
    "\n",
    "# Валидационная выборка\n",
    "features_valid = df_valid.drop('is_ultra', axis=1)\n",
    "target_valid = df_valid['is_ultra']\n",
    "print(\"\\nРазмер features_valid:\", features_valid.shape, \"\\nРазмер target_valid:\", target_valid.shape)\n",
    "\n",
    "# Тестовая выборка\n",
    "features_test = df_test.drop('is_ultra', axis=1)\n",
    "target_test = df_test['is_ultra']\n",
    "print(\"\\nРазмер features_test:\", features_test.shape, \"\\nРазмер target_test:\", target_test.shape)"
   ]
  },
  {
   "cell_type": "markdown",
   "metadata": {},
   "source": [
    "### Создание и обучение модели"
   ]
  },
  {
   "cell_type": "markdown",
   "metadata": {},
   "source": [
    "#### Решающее дерево"
   ]
  },
  {
   "cell_type": "code",
   "execution_count": 11,
   "metadata": {},
   "outputs": [
    {
     "name": "stdout",
     "output_type": "stream",
     "text": [
      "Accuracy модели решающего дерева на валидационной выборке: 0.7884914463452566\n",
      "максимальная глубина решающего дерева 5\n"
     ]
    }
   ],
   "source": [
    "best_model = None\n",
    "best_result = 0\n",
    "\n",
    "for depth in range(1, 6):\n",
    "    model = DecisionTreeClassifier(random_state=12345, max_depth=depth)\n",
    "    model.fit(features_train, target_train)\n",
    "    \n",
    "    predictions = model.predict(features_valid)\n",
    "    result = accuracy_score(target_valid, predictions)\n",
    "    \n",
    "    if result > best_result:\n",
    "        best_result = result\n",
    "        best_model = model\n",
    "print(\"Accuracy модели решающего дерева на валидационной выборке:\", best_result)\n",
    "print(\"максимальная глубина решающего дерева\", depth)"
   ]
  },
  {
   "cell_type": "markdown",
   "metadata": {},
   "source": [
    "#### Случайный лес"
   ]
  },
  {
   "cell_type": "code",
   "execution_count": 12,
   "metadata": {},
   "outputs": [
    {
     "name": "stdout",
     "output_type": "stream",
     "text": [
      "Accuracy модели случайный лес на валидационной выборке: 0.7838258164852255\n",
      "количество деревьев 9\n"
     ]
    }
   ],
   "source": [
    "best_model = None\n",
    "best_result = 0\n",
    "\n",
    "for est in range(1, 10):\n",
    "    model = RandomForestClassifier(n_estimators=est, random_state=12345)\n",
    "    model.fit(features_train, target_train)\n",
    "    \n",
    "    predictions = model.predict(features_valid)\n",
    "    result = accuracy_score(target_valid, predictions)\n",
    "    \n",
    "    if result > best_result:\n",
    "        best_result = result\n",
    "        best_model = model\n",
    "print(\"Accuracy модели случайный лес на валидационной выборке:\", best_result)\n",
    "print(\"количество деревьев\", est)"
   ]
  },
  {
   "cell_type": "markdown",
   "metadata": {},
   "source": [
    "#### Логистическая регрессия"
   ]
  },
  {
   "cell_type": "code",
   "execution_count": 13,
   "metadata": {},
   "outputs": [
    {
     "name": "stdout",
     "output_type": "stream",
     "text": [
      "Accuracy модели логистической регрессии на валидационной выборке: 0.6982892690513219\n"
     ]
    },
    {
     "name": "stderr",
     "output_type": "stream",
     "text": [
      "/opt/conda/lib/python3.7/site-packages/sklearn/linear_model/logistic.py:432: FutureWarning: Default solver will be changed to 'lbfgs' in 0.22. Specify a solver to silence this warning.\n",
      "  FutureWarning)\n"
     ]
    }
   ],
   "source": [
    "model = LogisticRegression(random_state=12345)\n",
    "model.fit(features_train, target_train)\n",
    "    \n",
    "predictions = model.predict(features_valid)\n",
    "result = model.score(features_valid, target_valid)\n",
    "print(\"Accuracy модели логистической регрессии на валидационной выборке:\", result)"
   ]
  },
  {
   "cell_type": "markdown",
   "metadata": {},
   "source": [
    "**Вывод**"
   ]
  },
  {
   "cell_type": "markdown",
   "metadata": {},
   "source": [
    "Доля правильных ответов на валидационной выобрке больше всего показала модель решающего дерева.\n",
    "\n",
    "Проверим качество модели на тестовой выборке."
   ]
  },
  {
   "cell_type": "markdown",
   "metadata": {},
   "source": [
    "### Проверка качества модели на тестовой выборке "
   ]
  },
  {
   "cell_type": "code",
   "execution_count": 14,
   "metadata": {},
   "outputs": [
    {
     "name": "stdout",
     "output_type": "stream",
     "text": [
      "Accuracy модели решающего дерева на тестовой выборке: 0.7884914463452566\n"
     ]
    }
   ],
   "source": [
    "model = DecisionTreeClassifier(random_state=12345, max_depth=5)\n",
    "model.fit(features_train, target_train)\n",
    "\n",
    "predictions = model.predict(features_test)\n",
    "result = accuracy_score(target_test, predictions)\n",
    "print(\"Accuracy модели решающего дерева на тестовой выборке:\", result)"
   ]
  },
  {
   "cell_type": "code",
   "execution_count": 15,
   "metadata": {},
   "outputs": [
    {
     "name": "stdout",
     "output_type": "stream",
     "text": [
      "Accuracy модели случайный лес на тестовой выборке: 0.7511664074650077\n"
     ]
    }
   ],
   "source": [
    "model = RandomForestClassifier(n_estimators=9, random_state=12345)\n",
    "model.fit(features_train, target_train)\n",
    "\n",
    "predictions = model.predict(features_test)\n",
    "result = accuracy_score(target_test, predictions)\n",
    "print(\"Accuracy модели случайный лес на тестовой выборке:\", result)"
   ]
  },
  {
   "cell_type": "code",
   "execution_count": 16,
   "metadata": {},
   "outputs": [
    {
     "name": "stdout",
     "output_type": "stream",
     "text": [
      "Accuracy модели логистической регрессии на тестовой выборке: 0.7076205287713841\n"
     ]
    },
    {
     "name": "stderr",
     "output_type": "stream",
     "text": [
      "/opt/conda/lib/python3.7/site-packages/sklearn/linear_model/logistic.py:432: FutureWarning: Default solver will be changed to 'lbfgs' in 0.22. Specify a solver to silence this warning.\n",
      "  FutureWarning)\n"
     ]
    }
   ],
   "source": [
    "model = LogisticRegression(random_state=12345)\n",
    "model.fit(features_train, target_train)\n",
    "    \n",
    "predictions = model.predict(features_test)\n",
    "result = accuracy_score(target_test, predictions)\n",
    "print(\"Accuracy модели логистической регрессии на тестовой выборке:\", result)"
   ]
  },
  {
   "cell_type": "markdown",
   "metadata": {},
   "source": [
    "**Вывод**"
   ]
  },
  {
   "cell_type": "markdown",
   "metadata": {},
   "source": [
    "На валидационной выборке наилучшее значение **`accuracy`** показала модель решающего дерева. На тестовой выборке наилучшее значение также у модели решающего дерева."
   ]
  },
  {
   "cell_type": "markdown",
   "metadata": {},
   "source": [
    "### Проверка модели на адекватность"
   ]
  },
  {
   "cell_type": "markdown",
   "metadata": {},
   "source": [
    "Сравнение полученной модели с константной моделью. \n",
    "\n",
    "Посчитаем долю правильных ответов на тестовой выборке, с предсказанным значением — наиболее частотным классом тарифа."
   ]
  },
  {
   "cell_type": "code",
   "execution_count": 17,
   "metadata": {
    "scrolled": false
   },
   "outputs": [
    {
     "name": "stdout",
     "output_type": "stream",
     "text": [
      "Смарт 1335\n",
      "Ультра 593\n"
     ]
    }
   ],
   "source": [
    "# Представители какого класса наиболее часто встречаются в выборке\n",
    "print(\"Смарт\", target_train[target_train == 0].count())\n",
    "print(\"Ультра\", target_train[target_train == 1].count())"
   ]
  },
  {
   "cell_type": "markdown",
   "metadata": {},
   "source": [
    "Наиболее частый ответ — \"Смарт\"."
   ]
  },
  {
   "cell_type": "code",
   "execution_count": 18,
   "metadata": {},
   "outputs": [],
   "source": [
    "# Формируем массив предсказанных значений\n",
    "predict  = pd.Series(0, index=target_test.index)"
   ]
  },
  {
   "cell_type": "code",
   "execution_count": 19,
   "metadata": {},
   "outputs": [
    {
     "name": "stdout",
     "output_type": "stream",
     "text": [
      "Accuracy константной модели: 0.7060653188180405\n"
     ]
    }
   ],
   "source": [
    "result = accuracy_score(target_test, predict)\n",
    "print(\"Accuracy константной модели:\", result)"
   ]
  },
  {
   "cell_type": "markdown",
   "metadata": {},
   "source": [
    "**Вывод**"
   ]
  },
  {
   "cell_type": "markdown",
   "metadata": {},
   "source": [
    "Доля правильных ответов высокая, модель предсказывает адекватно."
   ]
  },
  {
   "cell_type": "markdown",
   "metadata": {},
   "source": [
    "### Общий вывод"
   ]
  },
  {
   "cell_type": "markdown",
   "metadata": {},
   "source": [
    "Для компании \"Мегалайн\" было проведено исследование поведения пользователей, для рекомендации более подходящего тарифа: \"Смарт\" или \"Ультра\".\n",
    "\n",
    "Для решения задачи классификации были построены модели предсказания, из которых по доле правильных ответов выбиралась лучшая: модель решающего дерева, с гиперпараметрами `max_depth = 5` и `accuracy = 0.79`."
   ]
  }
 ],
 "metadata": {
  "ExecuteTimeLog": [
   {
    "duration": 307,
    "start_time": "2022-03-02T20:21:39.537Z"
   },
   {
    "duration": 7093,
    "start_time": "2022-03-02T20:22:13.418Z"
   },
   {
    "duration": 1119,
    "start_time": "2022-03-02T20:22:20.513Z"
   },
   {
    "duration": 2238,
    "start_time": "2022-03-02T20:22:21.634Z"
   },
   {
    "duration": -22,
    "start_time": "2022-03-02T20:22:23.896Z"
   },
   {
    "duration": -22,
    "start_time": "2022-03-02T20:22:23.897Z"
   },
   {
    "duration": -22,
    "start_time": "2022-03-02T20:22:23.898Z"
   },
   {
    "duration": -22,
    "start_time": "2022-03-02T20:22:23.899Z"
   },
   {
    "duration": -23,
    "start_time": "2022-03-02T20:22:23.900Z"
   },
   {
    "duration": -23,
    "start_time": "2022-03-02T20:22:23.901Z"
   },
   {
    "duration": -23,
    "start_time": "2022-03-02T20:22:23.902Z"
   },
   {
    "duration": -23,
    "start_time": "2022-03-02T20:22:23.903Z"
   },
   {
    "duration": -23,
    "start_time": "2022-03-02T20:22:23.904Z"
   },
   {
    "duration": -23,
    "start_time": "2022-03-02T20:22:23.905Z"
   },
   {
    "duration": -24,
    "start_time": "2022-03-02T20:22:23.906Z"
   },
   {
    "duration": -24,
    "start_time": "2022-03-02T20:22:23.907Z"
   },
   {
    "duration": -24,
    "start_time": "2022-03-02T20:22:23.908Z"
   },
   {
    "duration": -24,
    "start_time": "2022-03-02T20:22:23.909Z"
   },
   {
    "duration": -24,
    "start_time": "2022-03-02T20:22:23.910Z"
   },
   {
    "duration": -24,
    "start_time": "2022-03-02T20:22:23.911Z"
   },
   {
    "duration": 18,
    "start_time": "2022-03-02T20:22:41.730Z"
   },
   {
    "duration": 10,
    "start_time": "2022-03-02T20:22:42.535Z"
   },
   {
    "duration": 6,
    "start_time": "2022-03-02T20:22:42.855Z"
   },
   {
    "duration": 238,
    "start_time": "2022-03-02T20:22:46.430Z"
   },
   {
    "duration": 8,
    "start_time": "2022-03-02T20:22:49.911Z"
   },
   {
    "duration": 5,
    "start_time": "2022-03-02T20:22:53.561Z"
   },
   {
    "duration": 4,
    "start_time": "2022-03-02T20:22:54.775Z"
   },
   {
    "duration": 6,
    "start_time": "2022-03-02T20:22:57.522Z"
   },
   {
    "duration": 6,
    "start_time": "2022-03-02T20:23:30.278Z"
   },
   {
    "duration": 8,
    "start_time": "2022-03-02T20:25:40.151Z"
   },
   {
    "duration": 8,
    "start_time": "2022-03-02T20:26:02.115Z"
   },
   {
    "duration": 7,
    "start_time": "2022-03-02T20:26:18.642Z"
   },
   {
    "duration": 10496,
    "start_time": "2022-03-02T20:35:10.222Z"
   },
   {
    "duration": 1601,
    "start_time": "2022-03-02T20:35:20.720Z"
   },
   {
    "duration": 17,
    "start_time": "2022-03-02T20:35:22.323Z"
   },
   {
    "duration": 10,
    "start_time": "2022-03-02T20:35:22.341Z"
   },
   {
    "duration": 6,
    "start_time": "2022-03-02T20:35:22.352Z"
   },
   {
    "duration": 266,
    "start_time": "2022-03-02T20:35:22.359Z"
   },
   {
    "duration": 8,
    "start_time": "2022-03-02T20:35:22.627Z"
   },
   {
    "duration": 6,
    "start_time": "2022-03-02T20:35:22.636Z"
   },
   {
    "duration": 4,
    "start_time": "2022-03-02T20:35:22.644Z"
   },
   {
    "duration": 8,
    "start_time": "2022-03-02T20:35:22.650Z"
   },
   {
    "duration": 20,
    "start_time": "2022-03-02T20:35:22.659Z"
   },
   {
    "duration": 127,
    "start_time": "2022-03-02T20:35:22.680Z"
   },
   {
    "duration": 9,
    "start_time": "2022-03-02T20:35:22.809Z"
   },
   {
    "duration": 7,
    "start_time": "2022-03-02T20:35:22.819Z"
   },
   {
    "duration": 27,
    "start_time": "2022-03-02T20:35:22.827Z"
   },
   {
    "duration": 7,
    "start_time": "2022-03-02T20:35:22.855Z"
   },
   {
    "duration": 5,
    "start_time": "2022-03-02T20:35:22.865Z"
   },
   {
    "duration": 3,
    "start_time": "2022-03-02T20:35:22.872Z"
   },
   {
    "duration": 7,
    "start_time": "2022-03-02T20:35:22.876Z"
   },
   {
    "duration": 3,
    "start_time": "2022-03-02T20:36:07.395Z"
   },
   {
    "duration": 1214,
    "start_time": "2022-03-02T20:36:07.399Z"
   },
   {
    "duration": 16,
    "start_time": "2022-03-02T20:36:08.615Z"
   },
   {
    "duration": 10,
    "start_time": "2022-03-02T20:36:08.633Z"
   },
   {
    "duration": 6,
    "start_time": "2022-03-02T20:36:08.644Z"
   },
   {
    "duration": 274,
    "start_time": "2022-03-02T20:36:08.651Z"
   },
   {
    "duration": 8,
    "start_time": "2022-03-02T20:36:08.926Z"
   },
   {
    "duration": 6,
    "start_time": "2022-03-02T20:36:08.936Z"
   },
   {
    "duration": 4,
    "start_time": "2022-03-02T20:36:08.943Z"
   },
   {
    "duration": 8,
    "start_time": "2022-03-02T20:36:08.948Z"
   },
   {
    "duration": 20,
    "start_time": "2022-03-02T20:36:08.957Z"
   },
   {
    "duration": 148,
    "start_time": "2022-03-02T20:36:08.978Z"
   },
   {
    "duration": 8,
    "start_time": "2022-03-02T20:36:09.127Z"
   },
   {
    "duration": 7,
    "start_time": "2022-03-02T20:36:09.137Z"
   },
   {
    "duration": 26,
    "start_time": "2022-03-02T20:36:09.146Z"
   },
   {
    "duration": 33,
    "start_time": "2022-03-02T20:36:09.173Z"
   },
   {
    "duration": 4,
    "start_time": "2022-03-02T20:36:09.207Z"
   },
   {
    "duration": 9,
    "start_time": "2022-03-02T20:36:09.213Z"
   },
   {
    "duration": 7,
    "start_time": "2022-03-02T20:36:09.223Z"
   }
  ],
  "kernelspec": {
   "display_name": "Python 3 (ipykernel)",
   "language": "python",
   "name": "python3"
  },
  "language_info": {
   "codemirror_mode": {
    "name": "ipython",
    "version": 3
   },
   "file_extension": ".py",
   "mimetype": "text/x-python",
   "name": "python",
   "nbconvert_exporter": "python",
   "pygments_lexer": "ipython3",
   "version": "3.9.9"
  },
  "toc": {
   "base_numbering": 1,
   "nav_menu": {},
   "number_sections": true,
   "sideBar": true,
   "skip_h1_title": true,
   "title_cell": "Table of Contents",
   "title_sidebar": "Contents",
   "toc_cell": false,
   "toc_position": {},
   "toc_section_display": true,
   "toc_window_display": false
  }
 },
 "nbformat": 4,
 "nbformat_minor": 4
}
